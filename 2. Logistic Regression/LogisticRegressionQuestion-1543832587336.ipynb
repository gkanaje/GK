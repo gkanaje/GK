{
 "cells": [
  {
   "cell_type": "markdown",
   "metadata": {},
   "source": [
    "<img src=\"https://github.com/insaid2018/Term-1/blob/master/Images/INSAID_Full%20Logo.png?raw=true\" width=\"240\" height=\"360\" />\n",
    "\n",
    "# ASSIGNMENT\n",
    "# LOGISTIC REGRESSION"
   ]
  },
  {
   "cell_type": "markdown",
   "metadata": {},
   "source": [
    "\n",
    "##  Bank Marketing\n",
    "\n",
    "\n",
    "**Abstract:** \n",
    "The data is related with __direct marketing campaigns__ (phone calls) of a Portuguese banking institution. The classification goal is to predict if the client will subscribe a __term deposit (variable y)__.\n",
    "\n",
    "**Data Set Information:**\n",
    "The data is related with direct marketing campaigns of a Portuguese banking institution. The marketing campaigns were based on phone calls. Often, more than one contact to the same client was required, in order to access if the __product (bank term deposit)__ would be __('yes')__ or __('no')__ subscribed. \n",
    "\n",
    "###  Source:\n",
    "\n",
    " - Dataset from : http://archive.ics.uci.edu/ml/datasets/Bank+Marketing#\n",
    " "
   ]
  },
  {
   "cell_type": "markdown",
   "metadata": {},
   "source": [
    "### Import the dataset"
   ]
  },
  {
   "cell_type": "code",
   "execution_count": 1,
   "metadata": {},
   "outputs": [
    {
     "data": {
      "text/html": [
       "<div>\n",
       "<style scoped>\n",
       "    .dataframe tbody tr th:only-of-type {\n",
       "        vertical-align: middle;\n",
       "    }\n",
       "\n",
       "    .dataframe tbody tr th {\n",
       "        vertical-align: top;\n",
       "    }\n",
       "\n",
       "    .dataframe thead th {\n",
       "        text-align: right;\n",
       "    }\n",
       "</style>\n",
       "<table border=\"1\" class=\"dataframe\">\n",
       "  <thead>\n",
       "    <tr style=\"text-align: right;\">\n",
       "      <th></th>\n",
       "      <th>age</th>\n",
       "      <th>job</th>\n",
       "      <th>marital</th>\n",
       "      <th>education</th>\n",
       "      <th>default</th>\n",
       "      <th>housing</th>\n",
       "      <th>loan</th>\n",
       "      <th>contact</th>\n",
       "      <th>month</th>\n",
       "      <th>day_of_week</th>\n",
       "      <th>...</th>\n",
       "      <th>campaign</th>\n",
       "      <th>pdays</th>\n",
       "      <th>previous</th>\n",
       "      <th>poutcome</th>\n",
       "      <th>emp.var.rate</th>\n",
       "      <th>cons.price.idx</th>\n",
       "      <th>cons.conf.idx</th>\n",
       "      <th>euribor3m</th>\n",
       "      <th>nr.employed</th>\n",
       "      <th>y</th>\n",
       "    </tr>\n",
       "  </thead>\n",
       "  <tbody>\n",
       "    <tr>\n",
       "      <th>0</th>\n",
       "      <td>46</td>\n",
       "      <td>blue-collar</td>\n",
       "      <td>married</td>\n",
       "      <td>basic.9y</td>\n",
       "      <td>no</td>\n",
       "      <td>no</td>\n",
       "      <td>yes</td>\n",
       "      <td>telephone</td>\n",
       "      <td>may</td>\n",
       "      <td>tue</td>\n",
       "      <td>...</td>\n",
       "      <td>3</td>\n",
       "      <td>999</td>\n",
       "      <td>0</td>\n",
       "      <td>nonexistent</td>\n",
       "      <td>1.1</td>\n",
       "      <td>93.994</td>\n",
       "      <td>-36.4</td>\n",
       "      <td>4.857</td>\n",
       "      <td>5191.0</td>\n",
       "      <td>no</td>\n",
       "    </tr>\n",
       "    <tr>\n",
       "      <th>1</th>\n",
       "      <td>29</td>\n",
       "      <td>admin.</td>\n",
       "      <td>single</td>\n",
       "      <td>university.degree</td>\n",
       "      <td>no</td>\n",
       "      <td>no</td>\n",
       "      <td>no</td>\n",
       "      <td>cellular</td>\n",
       "      <td>may</td>\n",
       "      <td>wed</td>\n",
       "      <td>...</td>\n",
       "      <td>2</td>\n",
       "      <td>999</td>\n",
       "      <td>0</td>\n",
       "      <td>nonexistent</td>\n",
       "      <td>-1.8</td>\n",
       "      <td>92.893</td>\n",
       "      <td>-46.2</td>\n",
       "      <td>1.281</td>\n",
       "      <td>5099.1</td>\n",
       "      <td>no</td>\n",
       "    </tr>\n",
       "    <tr>\n",
       "      <th>2</th>\n",
       "      <td>50</td>\n",
       "      <td>management</td>\n",
       "      <td>married</td>\n",
       "      <td>university.degree</td>\n",
       "      <td>no</td>\n",
       "      <td>yes</td>\n",
       "      <td>yes</td>\n",
       "      <td>cellular</td>\n",
       "      <td>apr</td>\n",
       "      <td>fri</td>\n",
       "      <td>...</td>\n",
       "      <td>1</td>\n",
       "      <td>999</td>\n",
       "      <td>0</td>\n",
       "      <td>nonexistent</td>\n",
       "      <td>-1.8</td>\n",
       "      <td>93.075</td>\n",
       "      <td>-47.1</td>\n",
       "      <td>1.405</td>\n",
       "      <td>5099.1</td>\n",
       "      <td>no</td>\n",
       "    </tr>\n",
       "    <tr>\n",
       "      <th>3</th>\n",
       "      <td>31</td>\n",
       "      <td>admin.</td>\n",
       "      <td>married</td>\n",
       "      <td>high.school</td>\n",
       "      <td>unknown</td>\n",
       "      <td>yes</td>\n",
       "      <td>no</td>\n",
       "      <td>telephone</td>\n",
       "      <td>may</td>\n",
       "      <td>thu</td>\n",
       "      <td>...</td>\n",
       "      <td>2</td>\n",
       "      <td>999</td>\n",
       "      <td>0</td>\n",
       "      <td>nonexistent</td>\n",
       "      <td>1.1</td>\n",
       "      <td>93.994</td>\n",
       "      <td>-36.4</td>\n",
       "      <td>4.860</td>\n",
       "      <td>5191.0</td>\n",
       "      <td>no</td>\n",
       "    </tr>\n",
       "    <tr>\n",
       "      <th>4</th>\n",
       "      <td>32</td>\n",
       "      <td>admin.</td>\n",
       "      <td>single</td>\n",
       "      <td>high.school</td>\n",
       "      <td>no</td>\n",
       "      <td>yes</td>\n",
       "      <td>no</td>\n",
       "      <td>cellular</td>\n",
       "      <td>jun</td>\n",
       "      <td>tue</td>\n",
       "      <td>...</td>\n",
       "      <td>1</td>\n",
       "      <td>999</td>\n",
       "      <td>0</td>\n",
       "      <td>nonexistent</td>\n",
       "      <td>-2.9</td>\n",
       "      <td>92.963</td>\n",
       "      <td>-40.8</td>\n",
       "      <td>1.262</td>\n",
       "      <td>5076.2</td>\n",
       "      <td>yes</td>\n",
       "    </tr>\n",
       "  </tbody>\n",
       "</table>\n",
       "<p>5 rows × 21 columns</p>\n",
       "</div>"
      ],
      "text/plain": [
       "   age          job  marital          education  default housing loan  \\\n",
       "0   46  blue-collar  married           basic.9y       no      no  yes   \n",
       "1   29       admin.   single  university.degree       no      no   no   \n",
       "2   50   management  married  university.degree       no     yes  yes   \n",
       "3   31       admin.  married        high.school  unknown     yes   no   \n",
       "4   32       admin.   single        high.school       no     yes   no   \n",
       "\n",
       "     contact month day_of_week  ...  campaign  pdays  previous     poutcome  \\\n",
       "0  telephone   may         tue  ...         3    999         0  nonexistent   \n",
       "1   cellular   may         wed  ...         2    999         0  nonexistent   \n",
       "2   cellular   apr         fri  ...         1    999         0  nonexistent   \n",
       "3  telephone   may         thu  ...         2    999         0  nonexistent   \n",
       "4   cellular   jun         tue  ...         1    999         0  nonexistent   \n",
       "\n",
       "  emp.var.rate  cons.price.idx  cons.conf.idx  euribor3m  nr.employed    y  \n",
       "0          1.1          93.994          -36.4      4.857       5191.0   no  \n",
       "1         -1.8          92.893          -46.2      1.281       5099.1   no  \n",
       "2         -1.8          93.075          -47.1      1.405       5099.1   no  \n",
       "3          1.1          93.994          -36.4      4.860       5191.0   no  \n",
       "4         -2.9          92.963          -40.8      1.262       5076.2  yes  \n",
       "\n",
       "[5 rows x 21 columns]"
      ]
     },
     "execution_count": 1,
     "metadata": {},
     "output_type": "execute_result"
    }
   ],
   "source": [
    "import pandas as pd\n",
    "bank = pd.read_csv('https://raw.githubusercontent.com/insaid2018/Term-2/master/Data/bank.csv')\n",
    "bank.head() "
   ]
  },
  {
   "cell_type": "markdown",
   "metadata": {},
   "source": [
    "### Check the columns present in the dataset"
   ]
  },
  {
   "cell_type": "code",
   "execution_count": 2,
   "metadata": {},
   "outputs": [
    {
     "data": {
      "text/plain": [
       "Index(['age', 'job', 'marital', 'education', 'default', 'housing', 'loan',\n",
       "       'contact', 'month', 'day_of_week', 'duration', 'campaign', 'pdays',\n",
       "       'previous', 'poutcome', 'emp.var.rate', 'cons.price.idx',\n",
       "       'cons.conf.idx', 'euribor3m', 'nr.employed', 'y'],\n",
       "      dtype='object')"
      ]
     },
     "execution_count": 2,
     "metadata": {},
     "output_type": "execute_result"
    }
   ],
   "source": [
    "bank.columns"
   ]
  },
  {
   "cell_type": "markdown",
   "metadata": {},
   "source": [
    "### Check the shape of Dataset"
   ]
  },
  {
   "cell_type": "code",
   "execution_count": 3,
   "metadata": {},
   "outputs": [
    {
     "data": {
      "text/plain": [
       "(10297, 21)"
      ]
     },
     "execution_count": 3,
     "metadata": {},
     "output_type": "execute_result"
    }
   ],
   "source": [
    "bank.shape "
   ]
  },
  {
   "cell_type": "markdown",
   "metadata": {},
   "source": [
    "### Check the descriptive statistics of the dataset"
   ]
  },
  {
   "cell_type": "code",
   "execution_count": 4,
   "metadata": {},
   "outputs": [
    {
     "data": {
      "text/html": [
       "<div>\n",
       "<style scoped>\n",
       "    .dataframe tbody tr th:only-of-type {\n",
       "        vertical-align: middle;\n",
       "    }\n",
       "\n",
       "    .dataframe tbody tr th {\n",
       "        vertical-align: top;\n",
       "    }\n",
       "\n",
       "    .dataframe thead th {\n",
       "        text-align: right;\n",
       "    }\n",
       "</style>\n",
       "<table border=\"1\" class=\"dataframe\">\n",
       "  <thead>\n",
       "    <tr style=\"text-align: right;\">\n",
       "      <th></th>\n",
       "      <th>age</th>\n",
       "      <th>duration</th>\n",
       "      <th>campaign</th>\n",
       "      <th>pdays</th>\n",
       "      <th>previous</th>\n",
       "      <th>emp.var.rate</th>\n",
       "      <th>cons.price.idx</th>\n",
       "      <th>cons.conf.idx</th>\n",
       "      <th>euribor3m</th>\n",
       "      <th>nr.employed</th>\n",
       "    </tr>\n",
       "  </thead>\n",
       "  <tbody>\n",
       "    <tr>\n",
       "      <th>count</th>\n",
       "      <td>10297.000000</td>\n",
       "      <td>10297.000000</td>\n",
       "      <td>10297.000000</td>\n",
       "      <td>10297.000000</td>\n",
       "      <td>10297.000000</td>\n",
       "      <td>10297.000000</td>\n",
       "      <td>10297.000000</td>\n",
       "      <td>10297.000000</td>\n",
       "      <td>10297.000000</td>\n",
       "      <td>10297.000000</td>\n",
       "    </tr>\n",
       "    <tr>\n",
       "      <th>mean</th>\n",
       "      <td>40.080606</td>\n",
       "      <td>261.388268</td>\n",
       "      <td>2.561134</td>\n",
       "      <td>963.609692</td>\n",
       "      <td>0.171506</td>\n",
       "      <td>0.077256</td>\n",
       "      <td>93.574206</td>\n",
       "      <td>-40.445780</td>\n",
       "      <td>3.621923</td>\n",
       "      <td>5166.850442</td>\n",
       "    </tr>\n",
       "    <tr>\n",
       "      <th>std</th>\n",
       "      <td>10.472190</td>\n",
       "      <td>263.722874</td>\n",
       "      <td>2.827084</td>\n",
       "      <td>184.098592</td>\n",
       "      <td>0.496992</td>\n",
       "      <td>1.576732</td>\n",
       "      <td>0.577502</td>\n",
       "      <td>4.622221</td>\n",
       "      <td>1.734170</td>\n",
       "      <td>72.492914</td>\n",
       "    </tr>\n",
       "    <tr>\n",
       "      <th>min</th>\n",
       "      <td>18.000000</td>\n",
       "      <td>0.000000</td>\n",
       "      <td>1.000000</td>\n",
       "      <td>0.000000</td>\n",
       "      <td>0.000000</td>\n",
       "      <td>-3.400000</td>\n",
       "      <td>92.201000</td>\n",
       "      <td>-50.800000</td>\n",
       "      <td>0.634000</td>\n",
       "      <td>4963.600000</td>\n",
       "    </tr>\n",
       "    <tr>\n",
       "      <th>25%</th>\n",
       "      <td>32.000000</td>\n",
       "      <td>103.000000</td>\n",
       "      <td>1.000000</td>\n",
       "      <td>999.000000</td>\n",
       "      <td>0.000000</td>\n",
       "      <td>-1.800000</td>\n",
       "      <td>93.075000</td>\n",
       "      <td>-42.700000</td>\n",
       "      <td>1.344000</td>\n",
       "      <td>5099.100000</td>\n",
       "    </tr>\n",
       "    <tr>\n",
       "      <th>50%</th>\n",
       "      <td>38.000000</td>\n",
       "      <td>180.000000</td>\n",
       "      <td>2.000000</td>\n",
       "      <td>999.000000</td>\n",
       "      <td>0.000000</td>\n",
       "      <td>1.100000</td>\n",
       "      <td>93.749000</td>\n",
       "      <td>-41.800000</td>\n",
       "      <td>4.857000</td>\n",
       "      <td>5191.000000</td>\n",
       "    </tr>\n",
       "    <tr>\n",
       "      <th>75%</th>\n",
       "      <td>47.000000</td>\n",
       "      <td>327.000000</td>\n",
       "      <td>3.000000</td>\n",
       "      <td>999.000000</td>\n",
       "      <td>0.000000</td>\n",
       "      <td>1.400000</td>\n",
       "      <td>93.994000</td>\n",
       "      <td>-36.400000</td>\n",
       "      <td>4.961000</td>\n",
       "      <td>5228.100000</td>\n",
       "    </tr>\n",
       "    <tr>\n",
       "      <th>max</th>\n",
       "      <td>94.000000</td>\n",
       "      <td>3643.000000</td>\n",
       "      <td>56.000000</td>\n",
       "      <td>999.000000</td>\n",
       "      <td>6.000000</td>\n",
       "      <td>1.400000</td>\n",
       "      <td>94.767000</td>\n",
       "      <td>-26.900000</td>\n",
       "      <td>5.045000</td>\n",
       "      <td>5228.100000</td>\n",
       "    </tr>\n",
       "  </tbody>\n",
       "</table>\n",
       "</div>"
      ],
      "text/plain": [
       "                age      duration      campaign         pdays      previous  \\\n",
       "count  10297.000000  10297.000000  10297.000000  10297.000000  10297.000000   \n",
       "mean      40.080606    261.388268      2.561134    963.609692      0.171506   \n",
       "std       10.472190    263.722874      2.827084    184.098592      0.496992   \n",
       "min       18.000000      0.000000      1.000000      0.000000      0.000000   \n",
       "25%       32.000000    103.000000      1.000000    999.000000      0.000000   \n",
       "50%       38.000000    180.000000      2.000000    999.000000      0.000000   \n",
       "75%       47.000000    327.000000      3.000000    999.000000      0.000000   \n",
       "max       94.000000   3643.000000     56.000000    999.000000      6.000000   \n",
       "\n",
       "       emp.var.rate  cons.price.idx  cons.conf.idx     euribor3m   nr.employed  \n",
       "count  10297.000000    10297.000000   10297.000000  10297.000000  10297.000000  \n",
       "mean       0.077256       93.574206     -40.445780      3.621923   5166.850442  \n",
       "std        1.576732        0.577502       4.622221      1.734170     72.492914  \n",
       "min       -3.400000       92.201000     -50.800000      0.634000   4963.600000  \n",
       "25%       -1.800000       93.075000     -42.700000      1.344000   5099.100000  \n",
       "50%        1.100000       93.749000     -41.800000      4.857000   5191.000000  \n",
       "75%        1.400000       93.994000     -36.400000      4.961000   5228.100000  \n",
       "max        1.400000       94.767000     -26.900000      5.045000   5228.100000  "
      ]
     },
     "execution_count": 4,
     "metadata": {},
     "output_type": "execute_result"
    }
   ],
   "source": [
    "bank.describe() "
   ]
  },
  {
   "cell_type": "markdown",
   "metadata": {},
   "source": [
    "### Check the info of the dataset"
   ]
  },
  {
   "cell_type": "code",
   "execution_count": 5,
   "metadata": {},
   "outputs": [
    {
     "name": "stdout",
     "output_type": "stream",
     "text": [
      "<class 'pandas.core.frame.DataFrame'>\n",
      "RangeIndex: 10297 entries, 0 to 10296\n",
      "Data columns (total 21 columns):\n",
      "age               10297 non-null int64\n",
      "job               10297 non-null object\n",
      "marital           10297 non-null object\n",
      "education         10297 non-null object\n",
      "default           10297 non-null object\n",
      "housing           10297 non-null object\n",
      "loan              10297 non-null object\n",
      "contact           10297 non-null object\n",
      "month             10297 non-null object\n",
      "day_of_week       10297 non-null object\n",
      "duration          10297 non-null int64\n",
      "campaign          10297 non-null int64\n",
      "pdays             10297 non-null int64\n",
      "previous          10297 non-null int64\n",
      "poutcome          10297 non-null object\n",
      "emp.var.rate      10297 non-null float64\n",
      "cons.price.idx    10297 non-null float64\n",
      "cons.conf.idx     10297 non-null float64\n",
      "euribor3m         10297 non-null float64\n",
      "nr.employed       10297 non-null float64\n",
      "y                 10297 non-null object\n",
      "dtypes: float64(5), int64(5), object(11)\n",
      "memory usage: 1.6+ MB\n"
     ]
    }
   ],
   "source": [
    "bank.info() "
   ]
  },
  {
   "cell_type": "markdown",
   "metadata": {},
   "source": [
    "### Q 1. Write a code to understand the below mentioned variables and print their 'unique' attributes.\n",
    "``` ['job', 'marital', 'education', 'housing', 'loan', 'contact', 'month', 'day_of_week', 'campaign','poutcome', 'pdays', 'emp.var.rate', 'cons.price.idx', 'cons.conf.idx', 'euribor3m'] ```"
   ]
  },
  {
   "cell_type": "code",
   "execution_count": 34,
   "metadata": {},
   "outputs": [
    {
     "name": "stdout",
     "output_type": "stream",
     "text": [
      "job has these unique values  ['blue-collar' 'admin.' 'management' 'technician' 'retired' 'services'\n",
      " 'entrepreneur' 'self-employed' 'unemployed' 'student' 'housemaid'\n",
      " 'unknown'] \n",
      "\n",
      "marital has these unique values  ['married' 'single' 'divorced' 'unknown'] \n",
      "\n",
      "education has these unique values  ['basic.9y' 'university.degree' 'high.school' 'professional.course'\n",
      " 'basic.6y' 'basic.4y' 'unknown' 'illiterate'] \n",
      "\n",
      "housing has these unique values  ['no' 'yes' 'unknown'] \n",
      "\n",
      "loan has these unique values  ['yes' 'no' 'unknown'] \n",
      "\n",
      "contact has these unique values  ['telephone' 'cellular'] \n",
      "\n",
      "month has these unique values  ['may' 'apr' 'jun' 'aug' 'jul' 'oct' 'nov' 'dec' 'sep' 'mar'] \n",
      "\n",
      "day_of_week has these unique values  ['tue' 'wed' 'fri' 'thu' 'mon'] \n",
      "\n",
      "campaign has these unique values  [ 3  2  1  4  5  6 14  7 21  9 12  8 17 10 20 33 29 15 23 11 18 13 19 39\n",
      " 27 16 31 34 26 28 24 32 22 56 25 40] \n",
      "\n",
      "poutcome has these unique values  ['nonexistent' 'failure' 'success'] \n",
      "\n",
      "pdays has these unique values  [999   6   9   2  16   3   7   4  12  13   0   1   5  11  26  10   8  14\n",
      "  15  20  18  17] \n",
      "\n",
      "emp.var.rate has these unique values  [ 1.1 -1.8 -2.9  1.4 -3.4 -1.7 -0.1 -3.  -1.1] \n",
      "\n",
      "cons.price.idx has these unique values  [93.994 92.893 93.075 92.963 93.444 94.465 93.749 93.918 92.431 94.215\n",
      " 94.027 93.2   92.649 92.713 94.199 92.843 92.201 93.876 92.379 93.369\n",
      " 93.798 94.601 94.055 94.767 92.469] \n",
      "\n",
      "cons.conf.idx has these unique values  [-36.4 -46.2 -47.1 -40.8 -36.1 -41.8 -34.6 -42.7 -26.9 -40.3 -38.3 -42.\n",
      " -30.1 -33.  -37.5 -50.  -31.4 -40.  -29.8 -34.8 -40.4 -49.5 -39.8 -50.8\n",
      " -33.6] \n",
      "\n",
      "euribor3m has these unique values  [4.857 1.281 1.405 4.86  1.262 4.963 4.959 1.313 4.967 0.663 1.299 4.966\n",
      " 4.958 1.25  4.96  4.856 4.961 0.728 0.899 4.858 4.964 4.855 4.866 4.864\n",
      " 1.365 1.354 4.962 4.968 1.244 0.904 1.264 4.021 1.453 1.334 4.076 4.957\n",
      " 1.266 0.72  4.191 4.153 0.896 4.859 4.965 1.26  1.291 1.215 4.12  4.865\n",
      " 1.41  0.715 1.445 1.286 0.714 1.344 0.893 1.327 0.879 1.757 1.27  4.97\n",
      " 1.268 0.835 0.645 0.699 0.854 0.849 0.781 0.73  1.423 0.773 0.635 0.643\n",
      " 1.415 1.483 0.88  0.881 4.947 1.799 0.89  0.877 0.797 0.884 0.724 0.84\n",
      " 0.744 0.638 0.695 0.75  0.639 0.821 0.77  0.843 1.372 0.905 0.861 4.918\n",
      " 0.803 0.682 0.737 0.873 0.869 4.955 0.838 1.259 0.819 0.802 0.652 0.829\n",
      " 1.    0.987 0.9   0.732 0.851 0.729 1.05  0.642 0.719 1.556 0.883 0.731\n",
      " 4.921 0.741 0.716 1.028 4.956 0.782 0.876 0.889 1.479 0.697 0.788 0.885\n",
      " 1.52  0.898 0.713 0.692 0.878 0.74  0.761 0.822 0.701 0.739 0.809 1.029\n",
      " 1.041 0.834 1.466 1.726 1.072 0.706 1.048 0.655 0.702 0.825 0.959 0.637\n",
      " 1.392 0.707 0.977 4.912 1.085 1.435 0.722 1.206 1.235 1.498 0.688 1.406\n",
      " 0.846 0.71  0.634 0.754 0.712 1.629 0.668 1.043 0.748 0.813 4.936 0.753\n",
      " 0.733 4.733 1.538 0.636 1.614 0.903 0.65  1.703 1.687 0.886 0.723 0.742\n",
      " 0.87  3.901 1.03  1.811 0.755 0.859 4.406 1.044 0.767 1.252 0.778 0.646\n",
      " 0.708 1.4   0.768 0.653 1.531 1.032 0.762 0.651 0.743 1.025 0.654 1.008\n",
      " 0.965 0.749 0.827 4.7   0.882 0.718 1.602 0.972 1.059 1.663 1.04  1.099\n",
      " 0.685 1.031 0.644 0.683 0.891 0.659 0.735 1.64  1.037 1.046 4.592 0.717\n",
      " 0.677 1.51  5.045 1.016 0.953 0.81  0.727 0.993 4.794 0.982 0.709 3.853\n",
      " 0.672 1.039 1.778 0.649 4.827 0.793 4.663 0.79  1.548 0.64  1.65  0.69\n",
      " 4.76  0.766 0.895 0.914 1.018 0.704 0.985 1.049 4.286 0.908 0.937 0.888\n",
      " 0.684 0.7   4.245 0.771 1.224 4.474] \n",
      "\n"
     ]
    }
   ],
   "source": [
    "bank_feature = pd.DataFrame()\n",
    "def log(bank):\n",
    "    # write your code here to print all the unique values of the variables mentioned in question.\n",
    "    feature_cols = ['job', 'marital', 'education', 'housing', 'loan', 'contact', 'month', 'day_of_week', 'campaign','poutcome', 'pdays', 'emp.var.rate', 'cons.price.idx', 'cons.conf.idx', 'euribor3m']\n",
    "    # The code output should be user-friendly.\n",
    "    bank_feature = bank[feature_cols]\n",
    "    # For eg- Job have these unique values: ['.........']\n",
    "    #print(\"job has these unique values\", bank_feature['job'].unique())\n",
    "    for col in bank_feature:\n",
    "        print(col,\"has these unique values \", bank_feature[col].unique(),\"\\n\")\n",
    "log(bank)\n",
    "#bank_feature.head()"
   ]
  },
  {
   "cell_type": "markdown",
   "metadata": {},
   "source": [
    "### Q 2. Write a code to check the min and max value of age. Also check if there is any null value or not."
   ]
  },
  {
   "cell_type": "code",
   "execution_count": 6,
   "metadata": {},
   "outputs": [
    {
     "name": "stdout",
     "output_type": "stream",
     "text": [
      "94\n",
      "18\n",
      "age               0\n",
      "job               0\n",
      "marital           0\n",
      "education         0\n",
      "default           0\n",
      "housing           0\n",
      "loan              0\n",
      "contact           0\n",
      "month             0\n",
      "day_of_week       0\n",
      "duration          0\n",
      "campaign          0\n",
      "pdays             0\n",
      "previous          0\n",
      "poutcome          0\n",
      "emp.var.rate      0\n",
      "cons.price.idx    0\n",
      "cons.conf.idx     0\n",
      "euribor3m         0\n",
      "nr.employed       0\n",
      "y                 0\n",
      "dtype: int64\n"
     ]
    }
   ],
   "source": [
    "def log(bank):\n",
    "    # print the max age\n",
    "    print(bank['age'].max())\n",
    "    # print the min age\n",
    "    print(bank['age'].min())\n",
    "    # print the missing values if any\n",
    "    print (bank.isnull().sum())\n",
    "log(bank)"
   ]
  },
  {
   "cell_type": "markdown",
   "metadata": {},
   "source": [
    "### Count of Yes and No for the term deposit "
   ]
  },
  {
   "cell_type": "code",
   "execution_count": 7,
   "metadata": {},
   "outputs": [
    {
     "data": {
      "text/plain": [
       "no     9137\n",
       "yes    1160\n",
       "Name: y, dtype: int64"
      ]
     },
     "execution_count": 7,
     "metadata": {},
     "output_type": "execute_result"
    }
   ],
   "source": [
    "bank.y.value_counts()"
   ]
  },
  {
   "cell_type": "markdown",
   "metadata": {},
   "source": [
    "### Q 3. Write a user defined function to calculate the Inter quartile range for quantile values outside 25 to 75 range. And do the outlier capping for lower level with min value and for upper level with 'q3=1.5*iqr' value."
   ]
  },
  {
   "cell_type": "code",
   "execution_count": 8,
   "metadata": {},
   "outputs": [],
   "source": [
    "def remove_outlier(df_in, col_name):\n",
    "    # Calculate quantile 1 using quantile(0.25)\n",
    "    Q1 = df_in[col_name].quantile(0.25)\n",
    "    # Calculate quantile 3\n",
    "    Q3 = df_in[col_name].quantile(0.75)\n",
    "    # Calculate IQR as difference of Quantile 3 and quantile 1\n",
    "    Q_diff = Q3 - Q1\n",
    "    # Find the lower bound using the min() function\n",
    "    lower_bound = df_in[col_name].min()\n",
    "    # Find the upper bound as quantile3 + 1.5*IQR\n",
    "    upper_bound = Q3 + 1.5 * Q_diff\n",
    "    # Print the lower and upper bound of the column\n",
    "    print(\"lower bound is:\" , lower_bound)\n",
    "    print(\"lower bound is:\" , upper_bound)\n",
    "    # Remove the values lying outside min and upper bound range\n",
    "    df_out = df_in.loc[(df_in[col_name] > lower_bound) & (df_in[col_name] < upper_bound)]\n",
    "    return df_out"
   ]
  },
  {
   "cell_type": "markdown",
   "metadata": {},
   "source": [
    "### Q 3.1 Using the above created function , remove the outlier from 'age' variables:"
   ]
  },
  {
   "cell_type": "code",
   "execution_count": 9,
   "metadata": {},
   "outputs": [
    {
     "name": "stdout",
     "output_type": "stream",
     "text": [
      "age               10297\n",
      "job               10297\n",
      "marital           10297\n",
      "education         10297\n",
      "default           10297\n",
      "housing           10297\n",
      "loan              10297\n",
      "contact           10297\n",
      "month             10297\n",
      "day_of_week       10297\n",
      "duration          10297\n",
      "campaign          10297\n",
      "pdays             10297\n",
      "previous          10297\n",
      "poutcome          10297\n",
      "emp.var.rate      10297\n",
      "cons.price.idx    10297\n",
      "cons.conf.idx     10297\n",
      "euribor3m         10297\n",
      "nr.employed       10297\n",
      "y                 10297\n",
      "dtype: int64\n",
      "lower bound is: 18\n",
      "lower bound is: 69.5\n",
      "age               10170\n",
      "job               10170\n",
      "marital           10170\n",
      "education         10170\n",
      "default           10170\n",
      "housing           10170\n",
      "loan              10170\n",
      "contact           10170\n",
      "month             10170\n",
      "day_of_week       10170\n",
      "duration          10170\n",
      "campaign          10170\n",
      "pdays             10170\n",
      "previous          10170\n",
      "poutcome          10170\n",
      "emp.var.rate      10170\n",
      "cons.price.idx    10170\n",
      "cons.conf.idx     10170\n",
      "euribor3m         10170\n",
      "nr.employed       10170\n",
      "y                 10170\n",
      "dtype: int64\n"
     ]
    }
   ],
   "source": [
    "print(bank.count())\n",
    "def log(bank):\n",
    "    # your code to remove the outlier from age\n",
    "    return remove_outlier(bank,'age')\n",
    "bank = log(bank) \n",
    "print(bank.count())"
   ]
  },
  {
   "cell_type": "markdown",
   "metadata": {},
   "source": [
    "### Q 3.2 Using the above created function , remove the outlier from 'campaign' variables:"
   ]
  },
  {
   "cell_type": "code",
   "execution_count": 10,
   "metadata": {},
   "outputs": [
    {
     "name": "stdout",
     "output_type": "stream",
     "text": [
      "age               10170\n",
      "job               10170\n",
      "marital           10170\n",
      "education         10170\n",
      "default           10170\n",
      "housing           10170\n",
      "loan              10170\n",
      "contact           10170\n",
      "month             10170\n",
      "day_of_week       10170\n",
      "duration          10170\n",
      "campaign          10170\n",
      "pdays             10170\n",
      "previous          10170\n",
      "poutcome          10170\n",
      "emp.var.rate      10170\n",
      "cons.price.idx    10170\n",
      "cons.conf.idx     10170\n",
      "euribor3m         10170\n",
      "nr.employed       10170\n",
      "y                 10170\n",
      "dtype: int64\n",
      "lower bound is: 1\n",
      "lower bound is: 6.0\n",
      "age               4979\n",
      "job               4979\n",
      "marital           4979\n",
      "education         4979\n",
      "default           4979\n",
      "housing           4979\n",
      "loan              4979\n",
      "contact           4979\n",
      "month             4979\n",
      "day_of_week       4979\n",
      "duration          4979\n",
      "campaign          4979\n",
      "pdays             4979\n",
      "previous          4979\n",
      "poutcome          4979\n",
      "emp.var.rate      4979\n",
      "cons.price.idx    4979\n",
      "cons.conf.idx     4979\n",
      "euribor3m         4979\n",
      "nr.employed       4979\n",
      "y                 4979\n",
      "dtype: int64\n"
     ]
    }
   ],
   "source": [
    "print(bank.count())\n",
    "def log(bank):\n",
    "    # your code to remove the outlier from campaign\n",
    "    return remove_outlier(bank,'campaign')\n",
    "bank = log(bank) \n",
    "print(bank.count())"
   ]
  },
  {
   "cell_type": "markdown",
   "metadata": {},
   "source": [
    "### Q 3.3 Using the above created function , remove the outlier from 'duration' variables:"
   ]
  },
  {
   "cell_type": "code",
   "execution_count": 11,
   "metadata": {},
   "outputs": [
    {
     "name": "stdout",
     "output_type": "stream",
     "text": [
      "age               4979\n",
      "job               4979\n",
      "marital           4979\n",
      "education         4979\n",
      "default           4979\n",
      "housing           4979\n",
      "loan              4979\n",
      "contact           4979\n",
      "month             4979\n",
      "day_of_week       4979\n",
      "duration          4979\n",
      "campaign          4979\n",
      "pdays             4979\n",
      "previous          4979\n",
      "poutcome          4979\n",
      "emp.var.rate      4979\n",
      "cons.price.idx    4979\n",
      "cons.conf.idx     4979\n",
      "euribor3m         4979\n",
      "nr.employed       4979\n",
      "y                 4979\n",
      "dtype: int64\n",
      "lower bound is: 0\n",
      "lower bound is: 684.0\n",
      "age               4621\n",
      "job               4621\n",
      "marital           4621\n",
      "education         4621\n",
      "default           4621\n",
      "housing           4621\n",
      "loan              4621\n",
      "contact           4621\n",
      "month             4621\n",
      "day_of_week       4621\n",
      "duration          4621\n",
      "campaign          4621\n",
      "pdays             4621\n",
      "previous          4621\n",
      "poutcome          4621\n",
      "emp.var.rate      4621\n",
      "cons.price.idx    4621\n",
      "cons.conf.idx     4621\n",
      "euribor3m         4621\n",
      "nr.employed       4621\n",
      "y                 4621\n",
      "dtype: int64\n"
     ]
    }
   ],
   "source": [
    "print(bank.count())\n",
    "def log(bank):\n",
    "    # your code to remove the outlier from duration\n",
    "    return remove_outlier(bank,'duration')\n",
    "bank = log(bank) \n",
    "print(bank.count())"
   ]
  },
  {
   "cell_type": "markdown",
   "metadata": {},
   "source": [
    "### Dividing dataset into two, on the basis of categorical and numerical."
   ]
  },
  {
   "cell_type": "code",
   "execution_count": 12,
   "metadata": {},
   "outputs": [],
   "source": [
    "bank_cat=bank[['job', 'marital','default', 'education', 'loan', 'housing', 'contact', 'month', 'day_of_week', 'poutcome', 'y']]"
   ]
  },
  {
   "cell_type": "code",
   "execution_count": 13,
   "metadata": {},
   "outputs": [],
   "source": [
    "bank_cont = bank.drop(['job', 'marital','default', 'education', 'loan', 'housing', 'contact', 'month', 'day_of_week', 'poutcome', 'y'], axis=1)"
   ]
  },
  {
   "cell_type": "markdown",
   "metadata": {},
   "source": [
    "### Q 4. Label encode the below mentioned categorical variable to numerical values.\n",
    "``` ['job', 'marital','default','education', 'loan', 'housing', 'contact', 'month', 'day_of_week', 'poutcome', 'y'] ```"
   ]
  },
  {
   "cell_type": "code",
   "execution_count": 14,
   "metadata": {},
   "outputs": [
    {
     "data": {
      "text/html": [
       "<div>\n",
       "<style scoped>\n",
       "    .dataframe tbody tr th:only-of-type {\n",
       "        vertical-align: middle;\n",
       "    }\n",
       "\n",
       "    .dataframe tbody tr th {\n",
       "        vertical-align: top;\n",
       "    }\n",
       "\n",
       "    .dataframe thead th {\n",
       "        text-align: right;\n",
       "    }\n",
       "</style>\n",
       "<table border=\"1\" class=\"dataframe\">\n",
       "  <thead>\n",
       "    <tr style=\"text-align: right;\">\n",
       "      <th></th>\n",
       "      <th>job</th>\n",
       "      <th>marital</th>\n",
       "      <th>default</th>\n",
       "      <th>education</th>\n",
       "      <th>loan</th>\n",
       "      <th>housing</th>\n",
       "      <th>contact</th>\n",
       "      <th>month</th>\n",
       "      <th>day_of_week</th>\n",
       "      <th>poutcome</th>\n",
       "      <th>y</th>\n",
       "    </tr>\n",
       "  </thead>\n",
       "  <tbody>\n",
       "    <tr>\n",
       "      <th>0</th>\n",
       "      <td>1</td>\n",
       "      <td>1</td>\n",
       "      <td>0</td>\n",
       "      <td>2</td>\n",
       "      <td>2</td>\n",
       "      <td>0</td>\n",
       "      <td>1</td>\n",
       "      <td>6</td>\n",
       "      <td>3</td>\n",
       "      <td>1</td>\n",
       "      <td>0</td>\n",
       "    </tr>\n",
       "    <tr>\n",
       "      <th>1</th>\n",
       "      <td>0</td>\n",
       "      <td>2</td>\n",
       "      <td>0</td>\n",
       "      <td>6</td>\n",
       "      <td>0</td>\n",
       "      <td>0</td>\n",
       "      <td>0</td>\n",
       "      <td>6</td>\n",
       "      <td>4</td>\n",
       "      <td>1</td>\n",
       "      <td>0</td>\n",
       "    </tr>\n",
       "    <tr>\n",
       "      <th>3</th>\n",
       "      <td>0</td>\n",
       "      <td>1</td>\n",
       "      <td>1</td>\n",
       "      <td>3</td>\n",
       "      <td>0</td>\n",
       "      <td>2</td>\n",
       "      <td>1</td>\n",
       "      <td>6</td>\n",
       "      <td>2</td>\n",
       "      <td>1</td>\n",
       "      <td>0</td>\n",
       "    </tr>\n",
       "    <tr>\n",
       "      <th>5</th>\n",
       "      <td>0</td>\n",
       "      <td>2</td>\n",
       "      <td>0</td>\n",
       "      <td>6</td>\n",
       "      <td>2</td>\n",
       "      <td>2</td>\n",
       "      <td>0</td>\n",
       "      <td>1</td>\n",
       "      <td>1</td>\n",
       "      <td>1</td>\n",
       "      <td>0</td>\n",
       "    </tr>\n",
       "    <tr>\n",
       "      <th>8</th>\n",
       "      <td>1</td>\n",
       "      <td>1</td>\n",
       "      <td>1</td>\n",
       "      <td>5</td>\n",
       "      <td>0</td>\n",
       "      <td>0</td>\n",
       "      <td>0</td>\n",
       "      <td>6</td>\n",
       "      <td>4</td>\n",
       "      <td>0</td>\n",
       "      <td>0</td>\n",
       "    </tr>\n",
       "  </tbody>\n",
       "</table>\n",
       "</div>"
      ],
      "text/plain": [
       "   job  marital  default  education  loan  housing  contact  month  \\\n",
       "0    1        1        0          2     2        0        1      6   \n",
       "1    0        2        0          6     0        0        0      6   \n",
       "3    0        1        1          3     0        2        1      6   \n",
       "5    0        2        0          6     2        2        0      1   \n",
       "8    1        1        1          5     0        0        0      6   \n",
       "\n",
       "   day_of_week  poutcome  y  \n",
       "0            3         1  0  \n",
       "1            4         1  0  \n",
       "3            2         1  0  \n",
       "5            1         1  0  \n",
       "8            4         0  0  "
      ]
     },
     "execution_count": 14,
     "metadata": {},
     "output_type": "execute_result"
    }
   ],
   "source": [
    "bank_cat.head()\n",
    "from sklearn.preprocessing import LabelEncoder\n",
    "def log(bank_cat):\n",
    "    # your code to return the value applying fit_transorm\n",
    "    return bank_cat.apply(LabelEncoder().fit_transform)\n",
    "bank_cat = log(bank_cat)\n",
    "bank_cat.head()"
   ]
  },
  {
   "cell_type": "markdown",
   "metadata": {},
   "source": [
    "### Combining the numerical and categorical dataset."
   ]
  },
  {
   "cell_type": "code",
   "execution_count": 15,
   "metadata": {},
   "outputs": [],
   "source": [
    "bank_final= pd.concat([bank_cont, bank_cat], axis = 1)"
   ]
  },
  {
   "cell_type": "markdown",
   "metadata": {},
   "source": [
    "### Q 6. Extract independent column to prepare X "
   ]
  },
  {
   "cell_type": "code",
   "execution_count": 16,
   "metadata": {},
   "outputs": [],
   "source": [
    "X = pd.DataFrame()\n",
    "def log(bank_final):\n",
    "    # write your code to create a dataframe of dependent variables excluding 'y' variable\n",
    "    X = bank_final.loc[:,bank_final.columns != 'y']\n",
    "    return X\n",
    "X = log(bank_final)"
   ]
  },
  {
   "cell_type": "code",
   "execution_count": 17,
   "metadata": {},
   "outputs": [
    {
     "data": {
      "text/html": [
       "<div>\n",
       "<style scoped>\n",
       "    .dataframe tbody tr th:only-of-type {\n",
       "        vertical-align: middle;\n",
       "    }\n",
       "\n",
       "    .dataframe tbody tr th {\n",
       "        vertical-align: top;\n",
       "    }\n",
       "\n",
       "    .dataframe thead th {\n",
       "        text-align: right;\n",
       "    }\n",
       "</style>\n",
       "<table border=\"1\" class=\"dataframe\">\n",
       "  <thead>\n",
       "    <tr style=\"text-align: right;\">\n",
       "      <th></th>\n",
       "      <th>age</th>\n",
       "      <th>duration</th>\n",
       "      <th>campaign</th>\n",
       "      <th>pdays</th>\n",
       "      <th>previous</th>\n",
       "      <th>emp.var.rate</th>\n",
       "      <th>cons.price.idx</th>\n",
       "      <th>cons.conf.idx</th>\n",
       "      <th>euribor3m</th>\n",
       "      <th>nr.employed</th>\n",
       "      <th>job</th>\n",
       "      <th>marital</th>\n",
       "      <th>default</th>\n",
       "      <th>education</th>\n",
       "      <th>loan</th>\n",
       "      <th>housing</th>\n",
       "      <th>contact</th>\n",
       "      <th>month</th>\n",
       "      <th>day_of_week</th>\n",
       "      <th>poutcome</th>\n",
       "    </tr>\n",
       "  </thead>\n",
       "  <tbody>\n",
       "    <tr>\n",
       "      <th>0</th>\n",
       "      <td>46</td>\n",
       "      <td>329</td>\n",
       "      <td>3</td>\n",
       "      <td>999</td>\n",
       "      <td>0</td>\n",
       "      <td>1.1</td>\n",
       "      <td>93.994</td>\n",
       "      <td>-36.4</td>\n",
       "      <td>4.857</td>\n",
       "      <td>5191.0</td>\n",
       "      <td>1</td>\n",
       "      <td>1</td>\n",
       "      <td>0</td>\n",
       "      <td>2</td>\n",
       "      <td>2</td>\n",
       "      <td>0</td>\n",
       "      <td>1</td>\n",
       "      <td>6</td>\n",
       "      <td>3</td>\n",
       "      <td>1</td>\n",
       "    </tr>\n",
       "    <tr>\n",
       "      <th>1</th>\n",
       "      <td>29</td>\n",
       "      <td>132</td>\n",
       "      <td>2</td>\n",
       "      <td>999</td>\n",
       "      <td>0</td>\n",
       "      <td>-1.8</td>\n",
       "      <td>92.893</td>\n",
       "      <td>-46.2</td>\n",
       "      <td>1.281</td>\n",
       "      <td>5099.1</td>\n",
       "      <td>0</td>\n",
       "      <td>2</td>\n",
       "      <td>0</td>\n",
       "      <td>6</td>\n",
       "      <td>0</td>\n",
       "      <td>0</td>\n",
       "      <td>0</td>\n",
       "      <td>6</td>\n",
       "      <td>4</td>\n",
       "      <td>1</td>\n",
       "    </tr>\n",
       "    <tr>\n",
       "      <th>3</th>\n",
       "      <td>31</td>\n",
       "      <td>199</td>\n",
       "      <td>2</td>\n",
       "      <td>999</td>\n",
       "      <td>0</td>\n",
       "      <td>1.1</td>\n",
       "      <td>93.994</td>\n",
       "      <td>-36.4</td>\n",
       "      <td>4.860</td>\n",
       "      <td>5191.0</td>\n",
       "      <td>0</td>\n",
       "      <td>1</td>\n",
       "      <td>1</td>\n",
       "      <td>3</td>\n",
       "      <td>0</td>\n",
       "      <td>2</td>\n",
       "      <td>1</td>\n",
       "      <td>6</td>\n",
       "      <td>2</td>\n",
       "      <td>1</td>\n",
       "    </tr>\n",
       "    <tr>\n",
       "      <th>5</th>\n",
       "      <td>33</td>\n",
       "      <td>174</td>\n",
       "      <td>4</td>\n",
       "      <td>999</td>\n",
       "      <td>0</td>\n",
       "      <td>1.4</td>\n",
       "      <td>93.444</td>\n",
       "      <td>-36.1</td>\n",
       "      <td>4.963</td>\n",
       "      <td>5228.1</td>\n",
       "      <td>0</td>\n",
       "      <td>2</td>\n",
       "      <td>0</td>\n",
       "      <td>6</td>\n",
       "      <td>2</td>\n",
       "      <td>2</td>\n",
       "      <td>0</td>\n",
       "      <td>1</td>\n",
       "      <td>1</td>\n",
       "      <td>1</td>\n",
       "    </tr>\n",
       "    <tr>\n",
       "      <th>8</th>\n",
       "      <td>34</td>\n",
       "      <td>65</td>\n",
       "      <td>2</td>\n",
       "      <td>999</td>\n",
       "      <td>1</td>\n",
       "      <td>-1.8</td>\n",
       "      <td>92.893</td>\n",
       "      <td>-46.2</td>\n",
       "      <td>1.281</td>\n",
       "      <td>5099.1</td>\n",
       "      <td>1</td>\n",
       "      <td>1</td>\n",
       "      <td>1</td>\n",
       "      <td>5</td>\n",
       "      <td>0</td>\n",
       "      <td>0</td>\n",
       "      <td>0</td>\n",
       "      <td>6</td>\n",
       "      <td>4</td>\n",
       "      <td>0</td>\n",
       "    </tr>\n",
       "  </tbody>\n",
       "</table>\n",
       "</div>"
      ],
      "text/plain": [
       "   age  duration  campaign  pdays  previous  emp.var.rate  cons.price.idx  \\\n",
       "0   46       329         3    999         0           1.1          93.994   \n",
       "1   29       132         2    999         0          -1.8          92.893   \n",
       "3   31       199         2    999         0           1.1          93.994   \n",
       "5   33       174         4    999         0           1.4          93.444   \n",
       "8   34        65         2    999         1          -1.8          92.893   \n",
       "\n",
       "   cons.conf.idx  euribor3m  nr.employed  job  marital  default  education  \\\n",
       "0          -36.4      4.857       5191.0    1        1        0          2   \n",
       "1          -46.2      1.281       5099.1    0        2        0          6   \n",
       "3          -36.4      4.860       5191.0    0        1        1          3   \n",
       "5          -36.1      4.963       5228.1    0        2        0          6   \n",
       "8          -46.2      1.281       5099.1    1        1        1          5   \n",
       "\n",
       "   loan  housing  contact  month  day_of_week  poutcome  \n",
       "0     2        0        1      6            3         1  \n",
       "1     0        0        0      6            4         1  \n",
       "3     0        2        1      6            2         1  \n",
       "5     2        2        0      1            1         1  \n",
       "8     0        0        0      6            4         0  "
      ]
     },
     "execution_count": 17,
     "metadata": {},
     "output_type": "execute_result"
    }
   ],
   "source": [
    "X.head()"
   ]
  },
  {
   "cell_type": "markdown",
   "metadata": {},
   "source": [
    "### Q 7. Extract dependent variable into a dataframe 'y' for model predcition"
   ]
  },
  {
   "cell_type": "code",
   "execution_count": 18,
   "metadata": {},
   "outputs": [],
   "source": [
    "y = pd.DataFrame()\n",
    "def log(bank_final):\n",
    "    # write your code to create a dataframe which consists only of dependepent variable\n",
    "    y = bank_final['y']\n",
    "    return y\n",
    "y = log(bank_final)"
   ]
  },
  {
   "cell_type": "code",
   "execution_count": 19,
   "metadata": {},
   "outputs": [
    {
     "data": {
      "text/plain": [
       "0    0\n",
       "1    0\n",
       "3    0\n",
       "5    0\n",
       "8    0\n",
       "Name: y, dtype: int32"
      ]
     },
     "execution_count": 19,
     "metadata": {},
     "output_type": "execute_result"
    }
   ],
   "source": [
    "y.head()"
   ]
  },
  {
   "cell_type": "markdown",
   "metadata": {},
   "source": [
    "### Q 8. Splitting X and y intro train and test dataset"
   ]
  },
  {
   "cell_type": "code",
   "execution_count": 20,
   "metadata": {},
   "outputs": [],
   "source": [
    "from sklearn.model_selection import train_test_split\n",
    "def log(X,y):\n",
    "    return train_test_split(X, y, test_size=0.25, random_state=1)\n",
    "X_train, X_test, y_train, y_test = log(X, y)"
   ]
  },
  {
   "cell_type": "markdown",
   "metadata": {},
   "source": [
    "### Check the shape of X an y of train dataset."
   ]
  },
  {
   "cell_type": "code",
   "execution_count": 21,
   "metadata": {},
   "outputs": [
    {
     "name": "stdout",
     "output_type": "stream",
     "text": [
      "(3465, 20)\n",
      "(3465,)\n"
     ]
    }
   ],
   "source": [
    "def log():\n",
    "    print(X_train.shape)\n",
    "    print(y_train.shape)\n",
    "log()"
   ]
  },
  {
   "cell_type": "markdown",
   "metadata": {},
   "source": [
    "### Check the shape of X and y of test dataset."
   ]
  },
  {
   "cell_type": "code",
   "execution_count": 22,
   "metadata": {},
   "outputs": [
    {
     "name": "stdout",
     "output_type": "stream",
     "text": [
      "(1156, 20)\n",
      "(1156,)\n"
     ]
    }
   ],
   "source": [
    "def log():\n",
    "    print(X_test.shape)\n",
    "    print(y_test.shape)\n",
    "log()"
   ]
  },
  {
   "cell_type": "markdown",
   "metadata": {},
   "source": [
    "### Q 9. Instantitate Logistic Regression model using scikit-learn"
   ]
  },
  {
   "cell_type": "code",
   "execution_count": 23,
   "metadata": {},
   "outputs": [],
   "source": [
    "from sklearn.linear_model import LogisticRegression\n",
    "def log():\n",
    "    # initiate the logistic regression model to new variable logreg\n",
    "    logreg = LogisticRegression()\n",
    "    return logreg \n",
    "logreg = log()"
   ]
  },
  {
   "cell_type": "markdown",
   "metadata": {},
   "source": [
    "### Q 10. Fit the logistic model on X_train and y_train"
   ]
  },
  {
   "cell_type": "code",
   "execution_count": 24,
   "metadata": {},
   "outputs": [
    {
     "name": "stderr",
     "output_type": "stream",
     "text": [
      "C:\\Users\\GANGADHAR\\Anaconda3\\lib\\site-packages\\sklearn\\linear_model\\logistic.py:432: FutureWarning: Default solver will be changed to 'lbfgs' in 0.22. Specify a solver to silence this warning.\n",
      "  FutureWarning)\n"
     ]
    }
   ],
   "source": [
    "def log():\n",
    "    # fit the X_train and y_train\n",
    "    logreg.fit(X_train,y_train)\n",
    "    # We don't expect any return from your side.\n",
    "log()    "
   ]
  },
  {
   "cell_type": "markdown",
   "metadata": {},
   "source": [
    "### Q 11. Using the model for prediction"
   ]
  },
  {
   "cell_type": "code",
   "execution_count": 25,
   "metadata": {},
   "outputs": [],
   "source": [
    "y_pred_train = pd.DataFrame()\n",
    "def log():\n",
    "    # create the model prediction on X_train data using the above created dataframe\n",
    "    y_pred_train = logreg.predict(X_train)\n",
    "    return y_pred_train \n",
    "y_pred_train = log()"
   ]
  },
  {
   "cell_type": "code",
   "execution_count": 26,
   "metadata": {},
   "outputs": [],
   "source": [
    "y_pred_test = pd.DataFrame()\n",
    "def log():\n",
    "    # create the model prediction on X_test data using the above created dataframe\n",
    "    y_pred_test = logreg.predict(X_test)\n",
    "    return y_pred_test\n",
    "y_pred_test = log()"
   ]
  },
  {
   "cell_type": "markdown",
   "metadata": {},
   "source": [
    "### Q 12. Model evaluation using accuracy classification score"
   ]
  },
  {
   "cell_type": "code",
   "execution_count": 27,
   "metadata": {},
   "outputs": [
    {
     "name": "stdout",
     "output_type": "stream",
     "text": [
      "Accuracy score for test data is: 0.9403114186851211\n"
     ]
    }
   ],
   "source": [
    "from sklearn.metrics import accuracy_score\n",
    "def log():\n",
    "    #Calculate and print the accuracy score\n",
    "    print('Accuracy score for test data is:', accuracy_score(y_test,y_pred_test))\n",
    "log()"
   ]
  },
  {
   "cell_type": "markdown",
   "metadata": {},
   "source": [
    "### Q 13. Model evaluation using Confusion matrix"
   ]
  },
  {
   "cell_type": "code",
   "execution_count": 70,
   "metadata": {},
   "outputs": [
    {
     "name": "stdout",
     "output_type": "stream",
     "text": [
      "                   Predicted No_Deposit  Predicted Deposit\n",
      "Actual No_Deposit                  1062                 14\n",
      "Actual Deposit                       55                 25\n"
     ]
    }
   ],
   "source": [
    "from sklearn.metrics import confusion_matrix\n",
    "confusion_matrix = pd.DataFrame(confusion_matrix(y_test, y_pred_test))\n",
    "def log():\n",
    "    # provide confusion matrix index name as['Actual No_Deposit','Actual Deposit']\n",
    "    # provide confusion matrix index name as['Predicted No_Deposit','Predicted Deposit']\n",
    "    confusion_matrix.index = ['Actual No_Deposit','Actual Deposit']\n",
    "    confusion_matrix.columns = ['Predicted No_Deposit','Predicted Deposit']\n",
    "    print(confusion_matrix)\n",
    "log()"
   ]
  },
  {
   "cell_type": "markdown",
   "metadata": {},
   "source": [
    "### Q 14. Accuracy prediction setting the threshold = 0.75"
   ]
  },
  {
   "cell_type": "code",
   "execution_count": 28,
   "metadata": {},
   "outputs": [
    {
     "name": "stdout",
     "output_type": "stream",
     "text": [
      "Accuracy score for test data is: 0.9403114186851211\n"
     ]
    }
   ],
   "source": [
    "import numpy as np\n",
    "def log():\n",
    "    # Calculate preds1 keeping the probabilty value as 0.75\n",
    "    # calculate and print the accuracy using the above mentioned threshold probability\n",
    "    preds1 = np.where(logreg.predict_proba(X_test)[:,1]> 0.75,1,0)\n",
    "    print('Accuracy score for test data is:', accuracy_score(y_test,preds1))\n",
    "log()"
   ]
  },
  {
   "cell_type": "markdown",
   "metadata": {},
   "source": [
    "### Q 15. Accuracy prediction setting the threshold = 0.25"
   ]
  },
  {
   "cell_type": "code",
   "execution_count": 29,
   "metadata": {},
   "outputs": [
    {
     "name": "stdout",
     "output_type": "stream",
     "text": [
      "Accuracy score for test data is: 0.9359861591695502\n"
     ]
    }
   ],
   "source": [
    "def log():\n",
    "    # Calculate preds2 keeping the probabilty value as 0.25\n",
    "    # calculate and print the accuracy using the above mentioned threshold probability\n",
    "    preds1 = np.where(logreg.predict_proba(X_test)[:,1]> 0.25,1,0)\n",
    "    print('Accuracy score for test data is:', accuracy_score(y_test,preds1))\n",
    "log()"
   ]
  },
  {
   "cell_type": "code",
   "execution_count": null,
   "metadata": {},
   "outputs": [],
   "source": []
  }
 ],
 "metadata": {
  "kernelspec": {
   "display_name": "Python 3",
   "language": "python",
   "name": "python3"
  },
  "language_info": {
   "codemirror_mode": {
    "name": "ipython",
    "version": 3
   },
   "file_extension": ".py",
   "mimetype": "text/x-python",
   "name": "python",
   "nbconvert_exporter": "python",
   "pygments_lexer": "ipython3",
   "version": "3.7.3"
  }
 },
 "nbformat": 4,
 "nbformat_minor": 4
}
