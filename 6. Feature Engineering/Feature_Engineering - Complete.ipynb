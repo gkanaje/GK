{
 "cells": [
  {
   "cell_type": "markdown",
   "metadata": {
    "colab_type": "text",
    "id": "V7i7Mb3WKWtI"
   },
   "source": [
    "<center><img src=\"https://github.com/insaid2018/Term-1/blob/master/Images/INSAID_Full%20Logo.png?raw=true\" width=\"240\" height=\"120\" /></center>\n",
    "\n",
    "<h1><center><strong>Feature Engineering</strong></center></h1>"
   ]
  },
  {
   "cell_type": "markdown",
   "metadata": {
    "colab_type": "text",
    "id": "LKqoTLYsbj63"
   },
   "source": [
    "# **Table of Contents**\n",
    "\n",
    "1. [Introduction](#Section1)<br><br>\n",
    "2. [Importing Data](#Section2)<br><br>\n",
    "3. [Dataset Description](#Section3)<br><br>\n",
    "4. [Exploring Data](#Section4)<br><br>\n",
    "5. [Feature Engineering](#Section5)<br><br>"
   ]
  },
  {
   "cell_type": "markdown",
   "metadata": {
    "colab_type": "text",
    "id": "sVWudZS3keni"
   },
   "source": [
    "<a id = Section1></a>\n",
    "### **1. Introduction**"
   ]
  },
  {
   "cell_type": "markdown",
   "metadata": {
    "colab_type": "text",
    "id": "vFA2ItBcemtq"
   },
   "source": [
    "- **Feature engineering** is about **creating new input features** from your **existing** ones.\n",
    "\n",
    "- Feature engineering is the process of **transforming raw data** into **features** that **better represent** the underlying **problem** to the predictive models, resulting in **improved** model **accuracy** on unseen data.\n",
    "\n",
    "- Feature engineering is **manually designing** what the **input x’s** should be.\n",
    "\n",
    "<br> \n",
    "\n",
    "- **Advantages** of Feature Engineering:\n",
    "\n",
    "  - Better features means **flexibility**.\n",
    "  \n",
    "  - Better features means **simpler models**.\n",
    "  \n",
    "  - Better features means **better results**.\n",
    "\n",
    "<br> \n",
    "\n",
    "- It is an **art** like engineering is an art, like programming is an art, like medicine is an art.\n",
    "\n",
    "  - There are **well defined procedures** that are methodical, provable and understood.\n",
    "\n",
    "  - The **data** is a **variable** and is **different** every time.\n",
    "  \n",
    "  - We get good at **deciding** which **procedures** to use and when, by **practice**.\n",
    "\n",
    "<br> \n",
    "\n",
    "- **Iterative Process** of Feature Engineering:\n",
    "\n",
    "  - **Brainstorm features**: Really get into the problem, look at a lot of data, study feature engineering on other problems and see what you can steal.\n",
    "  \n",
    "  - **Devise features**: Depends on your problem, but you may use automatic feature extraction, manual feature construction and mixtures of the two.\n",
    "  \n",
    "  - **Evaluate models**: Estimate model accuracy on unseen data using the features."
   ]
  },
  {
   "cell_type": "markdown",
   "metadata": {
    "colab_type": "text",
    "id": "cDDiXa8VkTk5"
   },
   "source": [
    "<a id = Section2></a>\n",
    "### **2. Importing Data**"
   ]
  },
  {
   "cell_type": "markdown",
   "metadata": {
    "colab_type": "text",
    "id": "9gMEKsDOlIGP"
   },
   "source": [
    "**Downloading the dataset**"
   ]
  },
  {
   "cell_type": "code",
   "execution_count": 0,
   "metadata": {
    "colab": {
     "base_uri": "https://localhost:8080/",
     "height": 286
    },
    "colab_type": "code",
    "id": "5fqndjSZ3GlP",
    "outputId": "a09daa3f-d28a-45aa-fc6b-a16cdbf2e8b7"
   },
   "outputs": [
    {
     "name": "stdout",
     "output_type": "stream",
     "text": [
      "--2020-06-10 05:14:59--  https://github.com/insaid2018/Term-2/raw/master/Data/train.zip\n",
      "Resolving github.com (github.com)... 140.82.113.4\n",
      "Connecting to github.com (github.com)|140.82.113.4|:443... connected.\n",
      "HTTP request sent, awaiting response... 302 Found\n",
      "Location: https://raw.githubusercontent.com/insaid2018/Term-2/master/Data/train.zip [following]\n",
      "--2020-06-10 05:15:00--  https://raw.githubusercontent.com/insaid2018/Term-2/master/Data/train.zip\n",
      "Resolving raw.githubusercontent.com (raw.githubusercontent.com)... 151.101.0.133, 151.101.64.133, 151.101.128.133, ...\n",
      "Connecting to raw.githubusercontent.com (raw.githubusercontent.com)|151.101.0.133|:443... connected.\n",
      "HTTP request sent, awaiting response... 200 OK\n",
      "Length: 11460701 (11M) [application/zip]\n",
      "Saving to: ‘train.zip’\n",
      "\n",
      "train.zip           100%[===================>]  10.93M  20.1MB/s    in 0.5s    \n",
      "\n",
      "2020-06-10 05:15:01 (20.1 MB/s) - ‘train.zip’ saved [11460701/11460701]\n",
      "\n"
     ]
    }
   ],
   "source": [
    "!wget https://github.com/insaid2018/Term-2/raw/master/Data/train.zip"
   ]
  },
  {
   "cell_type": "markdown",
   "metadata": {
    "colab_type": "text",
    "id": "pCuCHz3MlLcn"
   },
   "source": [
    "**Unzipping the dataset**"
   ]
  },
  {
   "cell_type": "code",
   "execution_count": 0,
   "metadata": {
    "colab": {},
    "colab_type": "code",
    "id": "zalyFT-kkYu-"
   },
   "outputs": [],
   "source": [
    "!unzip -qq train.zip"
   ]
  },
  {
   "cell_type": "code",
   "execution_count": 0,
   "metadata": {
    "colab": {
     "base_uri": "https://localhost:8080/",
     "height": 67
    },
    "colab_type": "code",
    "id": "HM4bavsPkYx3",
    "outputId": "20ecf089-faf3-40bc-fbb9-ff685dd32af9"
   },
   "outputs": [
    {
     "name": "stdout",
     "output_type": "stream",
     "text": [
      "campaign_data.csv\t   customer_transaction_data.csv  sample_data\n",
      "coupon_item_mapping.csv    item_data.csv\t\t  train.csv\n",
      "customer_demographics.csv  __MACOSX\t\t\t  train.zip\n"
     ]
    }
   ],
   "source": [
    "!ls"
   ]
  },
  {
   "cell_type": "markdown",
   "metadata": {
    "colab_type": "text",
    "id": "CyW92nvPkZY2"
   },
   "source": [
    "<a id = Section3></a>\n",
    "### **3. Dataset Description**"
   ]
  },
  {
   "cell_type": "markdown",
   "metadata": {
    "colab_type": "text",
    "id": "Gfu48L8Pmbm2"
   },
   "source": [
    "#### **Problem Statement:**"
   ]
  },
  {
   "cell_type": "markdown",
   "metadata": {
    "colab_type": "text",
    "id": "yAqnU7U0mNda"
   },
   "source": [
    "- XYZ Credit Card company regularly helps it’s merchants **understand** their **data** better and take key business decisions accurately by providing **machine learning** and **analytics consulting**.\n",
    "\n",
    "  - ABC is an established Brick & Mortar retailer that frequently conducts marketing campaigns for its diverse product range.\n",
    "  \n",
    "  - As a merchant of XYZ, they have sought XYZ to **assist** them in their **discount marketing** process using the power of machine learning.\n",
    "\n",
    "- **Discount marketing** and **coupon usage** are very widely used **promotional techniques** to **attract new customers** and to **retain** & **reinforce loyalty** of existing customers.\n",
    "\n",
    "  - The measurement of a **consumer’s propensity towards coupon usage** and the **prediction** of the **redemption behavior** are crucial parameters in assessing the effectiveness of a marketing campaign.\n",
    "\n",
    "- ABC’s promotions are shared across various channels including email, notifications, etc.\n",
    "\n",
    "  - A number of these campaigns include **coupon discounts** that are offered for a specific product/range of products.\n",
    "  \n",
    "  - The retailer would like the ability to **predict** whether **customers redeem** the **coupons** received across channels, which will enable the retailer’s marketing team to accurately design coupon construct, and develop more precise and targeted marketing strategies.\n",
    "\n",
    "- The data available in this problem contains the following information, including the details of a sample of campaigns and coupons used in previous campaigns:\n",
    "\n",
    "  - **User Demographic** Details\n",
    "  \n",
    "  - **Campaign** and **coupon** Details\n",
    "  \n",
    "  - **Product** details\n",
    "  \n",
    "  - **Previous transactions**\n",
    "\n",
    "- Based on previous transaction & performance data from the **last campaigns**, **predict** the probability for the **next campaigns** for each **coupon** and **customer combination**, whether the **customer** will **redeem** the coupon or not?"
   ]
  },
  {
   "cell_type": "markdown",
   "metadata": {
    "colab_type": "text",
    "id": "sbnhEKr6mjam"
   },
   "source": [
    "#### **Description:**"
   ]
  },
  {
   "cell_type": "markdown",
   "metadata": {
    "colab_type": "text",
    "id": "tVTGud1hoCQD"
   },
   "source": [
    "- Here is the **schema** for the different data tables available."
   ]
  },
  {
   "cell_type": "markdown",
   "metadata": {
    "colab_type": "text",
    "id": "J2z8Zuja8rH8"
   },
   "source": [
    "<center><img src=\"https://raw.githubusercontent.com/insaid2018/Term-2/master/images/dataset_schema.png\" width=\"1000\"/></center>"
   ]
  },
  {
   "cell_type": "markdown",
   "metadata": {
    "colab_type": "text",
    "id": "Q-Ulvw7voFGQ"
   },
   "source": [
    "`train.csv:` Train data containing the **coupons offered** to the given customers under the campaigns.\n",
    "\n",
    "| **Variable**      | **Definition**                                          |\n",
    "| :---------------: | :-----------------------------------------------------: |\n",
    "| id                | Unique id for coupon customer impression                |\n",
    "| campaign_id       | Unique id for a discount campaign                       |\n",
    "| coupon_id         | Unique id for a discount coupon                         |\n",
    "| customer_id       | Unique id for a customer                                |\n",
    "| redemption_status | (Target) (0 - Coupon not redeemed, 1 - Coupon redeemed) |\n",
    "\n",
    "<br> \n",
    "\n",
    "`campaign_data.csv:` **Campaign information** for each of the campaigns.\n",
    "\n",
    "| **Variable**  | **Definition**                    |\n",
    "| :-----------: | :-------------------------------: |\n",
    "| campaign_id   | Unique id for a discount campaign |\n",
    "| campaign_type | Anonymized Campaign Type (X/Y)    |\n",
    "| start_date    | Campaign Start Date               |\n",
    "| end_date      | Campaign End Date                 |\n",
    "\n",
    "<br> \n",
    "\n",
    "`coupon_item_mapping.csv:` **Mapping** of **coupon and items** valid for discount under that coupon.\n",
    "\n",
    "| **Variable** | **Definition**                                               |\n",
    "| :----------: | :----------------------------------------------------------: |\n",
    "| coupon_id    | Unique id for a discount coupon (no order)                   |\n",
    "| item_id      | Unique id for items for which given coupon is valid (no order) |\n",
    "\n",
    "<br> \n",
    "\n",
    "`customer_demographics.csv:` **Customer demographic information** for some customers.\n",
    "\n",
    "| **Variable**   | **Definition**                                               |\n",
    "| :------------: | :----------------------------------------------------------: |\n",
    "| customer_id    | Unique id for a customer                                     |\n",
    "| age_range      | Age range of customer family in years                        |\n",
    "| marital_status | Married/Single                                               |\n",
    "| rented         | 0 - not rented accommodation, 1 - rented accommodation       |\n",
    "| family_size    | Number of family members                                     |\n",
    "| no_of_children | Number of children in the family                             |\n",
    "| income_bracket | Label Encoded Income Bracket (Higher income corresponds to higher number) |\n",
    "\n",
    "<br> \n",
    "\n",
    "`customer_transaction_data.csv:` **Transaction data** for all customers for duration of campaigns in the data.\n",
    "\n",
    "| **Variable**    | **Definition**                                               |\n",
    "| :-------------: | :----------------------------------------------------------: |\n",
    "| date            | Date of Transaction                                          |\n",
    "| customer_id     | Unique id for a customer                                     |\n",
    "| item_id         | Unique id for item                                           |\n",
    "| quantity        | quantity of item bought                                      |\n",
    "| selling_price   | Sales value of the transaction                               |\n",
    "| other_discount  | Discount from other sources such as manufacturer coupon/loyalty card |\n",
    "| coupon_discount | Discount availed from retailer coupon                        |\n",
    "\n",
    "<br> \n",
    "\n",
    "`item_data.csv:` **Item information** for each item sold by the retailer.\n",
    "\n",
    "| Variable   | Definition                     |\n",
    "| :--------: | :----------------------------: |\n",
    "| item_id    | Unique id for item             |\n",
    "| brand      | Unique id for item brand       |\n",
    "| brand_type | Brand Type (local/Established) |\n",
    "| category   | Item Category                  |\n"
   ]
  },
  {
   "cell_type": "markdown",
   "metadata": {
    "colab_type": "text",
    "id": "rBZi2X9NlP74"
   },
   "source": [
    "#### **Loading Data**"
   ]
  },
  {
   "cell_type": "code",
   "execution_count": 1,
   "metadata": {
    "colab": {},
    "colab_type": "code",
    "id": "L9uhnZu5k85O"
   },
   "outputs": [],
   "source": [
    "import numpy as np\n",
    "import pandas as pd\n",
    "\n",
    "import matplotlib.pyplot as plt\n",
    "%matplotlib inline\n",
    "\n",
    "import seaborn as sns\n",
    "\n",
    "from datetime import datetime"
   ]
  },
  {
   "cell_type": "code",
   "execution_count": 2,
   "metadata": {
    "colab": {},
    "colab_type": "code",
    "id": "PUxu62CFkZDG"
   },
   "outputs": [],
   "source": [
    "train = pd.read_csv('train.csv')\n",
    "campaign_data = pd.read_csv('campaign_data.csv')\n",
    "coupon_item_mapping = pd.read_csv('coupon_item_mapping.csv')\n",
    "customer_demographics = pd.read_csv('customer_demographics.csv')\n",
    "customer_transaction_data = pd.read_csv('customer_transaction_data.csv')\n",
    "item_data = pd.read_csv('item_data.csv')"
   ]
  },
  {
   "cell_type": "code",
   "execution_count": 4,
   "metadata": {
    "colab": {
     "base_uri": "https://localhost:8080/",
     "height": 118
    },
    "colab_type": "code",
    "id": "Cl1JEj_etMwn",
    "outputId": "8241f164-956d-4f53-83ed-1e6adb4e9c21"
   },
   "outputs": [
    {
     "name": "stdout",
     "output_type": "stream",
     "text": [
      "train : (78369, 5)\n",
      "campaign_data : (28, 4)\n",
      "coupon_item_mapping : (92663, 2)\n",
      "customer_demographics : (760, 7)\n",
      "customer_transaction_data : (1324566, 7)\n",
      "item_data : (74066, 4)\n"
     ]
    }
   ],
   "source": [
    "print('train :', train.shape)\n",
    "print('campaign_data :', campaign_data.shape)\n",
    "print('coupon_item_mapping :', coupon_item_mapping.shape)\n",
    "print('customer_demographics :', customer_demographics.shape)\n",
    "print('customer_transaction_data :', customer_transaction_data.shape)\n",
    "print('item_data :', item_data.shape)"
   ]
  },
  {
   "cell_type": "markdown",
   "metadata": {
    "colab_type": "text",
    "id": "wKqD9Wwo5-Pq"
   },
   "source": [
    "<a id = Section4></a>\n",
    "### **4. Exploring Data**"
   ]
  },
  {
   "cell_type": "markdown",
   "metadata": {
    "colab_type": "text",
    "id": "Wjlq6TH-t8_v"
   },
   "source": [
    "#### **Train Data**"
   ]
  },
  {
   "cell_type": "code",
   "execution_count": 5,
   "metadata": {
    "colab": {
     "base_uri": "https://localhost:8080/",
     "height": 195
    },
    "colab_type": "code",
    "id": "Z1o803cdt6SA",
    "outputId": "9dd8e10f-81f3-415d-a40d-a796b4d89b0d"
   },
   "outputs": [
    {
     "data": {
      "text/html": [
       "<div>\n",
       "<style scoped>\n",
       "    .dataframe tbody tr th:only-of-type {\n",
       "        vertical-align: middle;\n",
       "    }\n",
       "\n",
       "    .dataframe tbody tr th {\n",
       "        vertical-align: top;\n",
       "    }\n",
       "\n",
       "    .dataframe thead th {\n",
       "        text-align: right;\n",
       "    }\n",
       "</style>\n",
       "<table border=\"1\" class=\"dataframe\">\n",
       "  <thead>\n",
       "    <tr style=\"text-align: right;\">\n",
       "      <th></th>\n",
       "      <th>id</th>\n",
       "      <th>campaign_id</th>\n",
       "      <th>coupon_id</th>\n",
       "      <th>customer_id</th>\n",
       "      <th>redemption_status</th>\n",
       "    </tr>\n",
       "  </thead>\n",
       "  <tbody>\n",
       "    <tr>\n",
       "      <td>0</td>\n",
       "      <td>1</td>\n",
       "      <td>13</td>\n",
       "      <td>27</td>\n",
       "      <td>1053</td>\n",
       "      <td>0</td>\n",
       "    </tr>\n",
       "    <tr>\n",
       "      <td>1</td>\n",
       "      <td>2</td>\n",
       "      <td>13</td>\n",
       "      <td>116</td>\n",
       "      <td>48</td>\n",
       "      <td>0</td>\n",
       "    </tr>\n",
       "    <tr>\n",
       "      <td>2</td>\n",
       "      <td>6</td>\n",
       "      <td>9</td>\n",
       "      <td>635</td>\n",
       "      <td>205</td>\n",
       "      <td>0</td>\n",
       "    </tr>\n",
       "    <tr>\n",
       "      <td>3</td>\n",
       "      <td>7</td>\n",
       "      <td>13</td>\n",
       "      <td>644</td>\n",
       "      <td>1050</td>\n",
       "      <td>0</td>\n",
       "    </tr>\n",
       "    <tr>\n",
       "      <td>4</td>\n",
       "      <td>9</td>\n",
       "      <td>8</td>\n",
       "      <td>1017</td>\n",
       "      <td>1489</td>\n",
       "      <td>0</td>\n",
       "    </tr>\n",
       "  </tbody>\n",
       "</table>\n",
       "</div>"
      ],
      "text/plain": [
       "   id  campaign_id  coupon_id  customer_id  redemption_status\n",
       "0   1           13         27         1053                  0\n",
       "1   2           13        116           48                  0\n",
       "2   6            9        635          205                  0\n",
       "3   7           13        644         1050                  0\n",
       "4   9            8       1017         1489                  0"
      ]
     },
     "execution_count": 5,
     "metadata": {},
     "output_type": "execute_result"
    }
   ],
   "source": [
    "train.head()"
   ]
  },
  {
   "cell_type": "code",
   "execution_count": 6,
   "metadata": {
    "colab": {
     "base_uri": "https://localhost:8080/",
     "height": 218
    },
    "colab_type": "code",
    "id": "uheSCluRuBsw",
    "outputId": "32c15a6b-725b-4213-e715-a886fd448623"
   },
   "outputs": [
    {
     "name": "stdout",
     "output_type": "stream",
     "text": [
      "<class 'pandas.core.frame.DataFrame'>\n",
      "RangeIndex: 78369 entries, 0 to 78368\n",
      "Data columns (total 5 columns):\n",
      "id                   78369 non-null int64\n",
      "campaign_id          78369 non-null int64\n",
      "coupon_id            78369 non-null int64\n",
      "customer_id          78369 non-null int64\n",
      "redemption_status    78369 non-null int64\n",
      "dtypes: int64(5)\n",
      "memory usage: 3.0 MB\n"
     ]
    }
   ],
   "source": [
    "train.info()"
   ]
  },
  {
   "cell_type": "markdown",
   "metadata": {
    "colab_type": "text",
    "id": "Gps4WoheuIix"
   },
   "source": [
    "#### **Campaign Data**"
   ]
  },
  {
   "cell_type": "code",
   "execution_count": 7,
   "metadata": {
    "colab": {
     "base_uri": "https://localhost:8080/",
     "height": 195
    },
    "colab_type": "code",
    "id": "PwOFHYcLuLDf",
    "outputId": "261309a3-d7a1-4857-9bf9-1814b66ed8be"
   },
   "outputs": [
    {
     "data": {
      "text/html": [
       "<div>\n",
       "<style scoped>\n",
       "    .dataframe tbody tr th:only-of-type {\n",
       "        vertical-align: middle;\n",
       "    }\n",
       "\n",
       "    .dataframe tbody tr th {\n",
       "        vertical-align: top;\n",
       "    }\n",
       "\n",
       "    .dataframe thead th {\n",
       "        text-align: right;\n",
       "    }\n",
       "</style>\n",
       "<table border=\"1\" class=\"dataframe\">\n",
       "  <thead>\n",
       "    <tr style=\"text-align: right;\">\n",
       "      <th></th>\n",
       "      <th>campaign_id</th>\n",
       "      <th>campaign_type</th>\n",
       "      <th>start_date</th>\n",
       "      <th>end_date</th>\n",
       "    </tr>\n",
       "  </thead>\n",
       "  <tbody>\n",
       "    <tr>\n",
       "      <td>0</td>\n",
       "      <td>24</td>\n",
       "      <td>Y</td>\n",
       "      <td>21/10/13</td>\n",
       "      <td>20/12/13</td>\n",
       "    </tr>\n",
       "    <tr>\n",
       "      <td>1</td>\n",
       "      <td>25</td>\n",
       "      <td>Y</td>\n",
       "      <td>21/10/13</td>\n",
       "      <td>22/11/13</td>\n",
       "    </tr>\n",
       "    <tr>\n",
       "      <td>2</td>\n",
       "      <td>20</td>\n",
       "      <td>Y</td>\n",
       "      <td>07/09/13</td>\n",
       "      <td>16/11/13</td>\n",
       "    </tr>\n",
       "    <tr>\n",
       "      <td>3</td>\n",
       "      <td>23</td>\n",
       "      <td>Y</td>\n",
       "      <td>08/10/13</td>\n",
       "      <td>15/11/13</td>\n",
       "    </tr>\n",
       "    <tr>\n",
       "      <td>4</td>\n",
       "      <td>21</td>\n",
       "      <td>Y</td>\n",
       "      <td>16/09/13</td>\n",
       "      <td>18/10/13</td>\n",
       "    </tr>\n",
       "  </tbody>\n",
       "</table>\n",
       "</div>"
      ],
      "text/plain": [
       "   campaign_id campaign_type start_date  end_date\n",
       "0           24             Y   21/10/13  20/12/13\n",
       "1           25             Y   21/10/13  22/11/13\n",
       "2           20             Y   07/09/13  16/11/13\n",
       "3           23             Y   08/10/13  15/11/13\n",
       "4           21             Y   16/09/13  18/10/13"
      ]
     },
     "execution_count": 7,
     "metadata": {},
     "output_type": "execute_result"
    }
   ],
   "source": [
    "campaign_data.head()"
   ]
  },
  {
   "cell_type": "code",
   "execution_count": 8,
   "metadata": {
    "colab": {
     "base_uri": "https://localhost:8080/",
     "height": 202
    },
    "colab_type": "code",
    "id": "GGXtqaf0uLFl",
    "outputId": "9b5abca8-9cfb-4f1a-bbc5-8e8dc0df7d23"
   },
   "outputs": [
    {
     "name": "stdout",
     "output_type": "stream",
     "text": [
      "<class 'pandas.core.frame.DataFrame'>\n",
      "RangeIndex: 28 entries, 0 to 27\n",
      "Data columns (total 4 columns):\n",
      "campaign_id      28 non-null int64\n",
      "campaign_type    28 non-null object\n",
      "start_date       28 non-null object\n",
      "end_date         28 non-null object\n",
      "dtypes: int64(1), object(3)\n",
      "memory usage: 1.0+ KB\n"
     ]
    }
   ],
   "source": [
    "campaign_data.info()"
   ]
  },
  {
   "cell_type": "markdown",
   "metadata": {
    "colab_type": "text",
    "id": "QhVp8iQXuLSo"
   },
   "source": [
    "#### **Coupon Item Mapping**"
   ]
  },
  {
   "cell_type": "code",
   "execution_count": 9,
   "metadata": {
    "colab": {
     "base_uri": "https://localhost:8080/",
     "height": 195
    },
    "colab_type": "code",
    "id": "Tdp56nhruLbA",
    "outputId": "b6a313fa-2ae5-43db-ca5d-64c9c13d7161"
   },
   "outputs": [
    {
     "data": {
      "text/html": [
       "<div>\n",
       "<style scoped>\n",
       "    .dataframe tbody tr th:only-of-type {\n",
       "        vertical-align: middle;\n",
       "    }\n",
       "\n",
       "    .dataframe tbody tr th {\n",
       "        vertical-align: top;\n",
       "    }\n",
       "\n",
       "    .dataframe thead th {\n",
       "        text-align: right;\n",
       "    }\n",
       "</style>\n",
       "<table border=\"1\" class=\"dataframe\">\n",
       "  <thead>\n",
       "    <tr style=\"text-align: right;\">\n",
       "      <th></th>\n",
       "      <th>coupon_id</th>\n",
       "      <th>item_id</th>\n",
       "    </tr>\n",
       "  </thead>\n",
       "  <tbody>\n",
       "    <tr>\n",
       "      <td>0</td>\n",
       "      <td>105</td>\n",
       "      <td>37</td>\n",
       "    </tr>\n",
       "    <tr>\n",
       "      <td>1</td>\n",
       "      <td>107</td>\n",
       "      <td>75</td>\n",
       "    </tr>\n",
       "    <tr>\n",
       "      <td>2</td>\n",
       "      <td>494</td>\n",
       "      <td>76</td>\n",
       "    </tr>\n",
       "    <tr>\n",
       "      <td>3</td>\n",
       "      <td>522</td>\n",
       "      <td>77</td>\n",
       "    </tr>\n",
       "    <tr>\n",
       "      <td>4</td>\n",
       "      <td>518</td>\n",
       "      <td>77</td>\n",
       "    </tr>\n",
       "  </tbody>\n",
       "</table>\n",
       "</div>"
      ],
      "text/plain": [
       "   coupon_id  item_id\n",
       "0        105       37\n",
       "1        107       75\n",
       "2        494       76\n",
       "3        522       77\n",
       "4        518       77"
      ]
     },
     "execution_count": 9,
     "metadata": {},
     "output_type": "execute_result"
    }
   ],
   "source": [
    "coupon_item_mapping.head()"
   ]
  },
  {
   "cell_type": "code",
   "execution_count": 10,
   "metadata": {
    "colab": {
     "base_uri": "https://localhost:8080/",
     "height": 168
    },
    "colab_type": "code",
    "id": "jzJr3e3NuLdR",
    "outputId": "b91950c9-ed56-41ff-9709-b3450f25b945"
   },
   "outputs": [
    {
     "name": "stdout",
     "output_type": "stream",
     "text": [
      "<class 'pandas.core.frame.DataFrame'>\n",
      "RangeIndex: 92663 entries, 0 to 92662\n",
      "Data columns (total 2 columns):\n",
      "coupon_id    92663 non-null int64\n",
      "item_id      92663 non-null int64\n",
      "dtypes: int64(2)\n",
      "memory usage: 1.4 MB\n"
     ]
    }
   ],
   "source": [
    "coupon_item_mapping.info()"
   ]
  },
  {
   "cell_type": "markdown",
   "metadata": {
    "colab_type": "text",
    "id": "imwKF3NPuLuP"
   },
   "source": [
    "#### **Customer Demographics**"
   ]
  },
  {
   "cell_type": "code",
   "execution_count": 11,
   "metadata": {
    "colab": {
     "base_uri": "https://localhost:8080/",
     "height": 195
    },
    "colab_type": "code",
    "id": "TjNUkFE2uL2f",
    "outputId": "12597506-ed6d-45b8-9246-dc41b6affa15",
    "scrolled": true
   },
   "outputs": [
    {
     "data": {
      "text/html": [
       "<div>\n",
       "<style scoped>\n",
       "    .dataframe tbody tr th:only-of-type {\n",
       "        vertical-align: middle;\n",
       "    }\n",
       "\n",
       "    .dataframe tbody tr th {\n",
       "        vertical-align: top;\n",
       "    }\n",
       "\n",
       "    .dataframe thead th {\n",
       "        text-align: right;\n",
       "    }\n",
       "</style>\n",
       "<table border=\"1\" class=\"dataframe\">\n",
       "  <thead>\n",
       "    <tr style=\"text-align: right;\">\n",
       "      <th></th>\n",
       "      <th>customer_id</th>\n",
       "      <th>age_range</th>\n",
       "      <th>marital_status</th>\n",
       "      <th>rented</th>\n",
       "      <th>family_size</th>\n",
       "      <th>no_of_children</th>\n",
       "      <th>income_bracket</th>\n",
       "    </tr>\n",
       "  </thead>\n",
       "  <tbody>\n",
       "    <tr>\n",
       "      <td>0</td>\n",
       "      <td>1</td>\n",
       "      <td>70+</td>\n",
       "      <td>Married</td>\n",
       "      <td>0</td>\n",
       "      <td>2</td>\n",
       "      <td>NaN</td>\n",
       "      <td>4</td>\n",
       "    </tr>\n",
       "    <tr>\n",
       "      <td>1</td>\n",
       "      <td>6</td>\n",
       "      <td>46-55</td>\n",
       "      <td>Married</td>\n",
       "      <td>0</td>\n",
       "      <td>2</td>\n",
       "      <td>NaN</td>\n",
       "      <td>5</td>\n",
       "    </tr>\n",
       "    <tr>\n",
       "      <td>2</td>\n",
       "      <td>7</td>\n",
       "      <td>26-35</td>\n",
       "      <td>NaN</td>\n",
       "      <td>0</td>\n",
       "      <td>3</td>\n",
       "      <td>1</td>\n",
       "      <td>3</td>\n",
       "    </tr>\n",
       "    <tr>\n",
       "      <td>3</td>\n",
       "      <td>8</td>\n",
       "      <td>26-35</td>\n",
       "      <td>NaN</td>\n",
       "      <td>0</td>\n",
       "      <td>4</td>\n",
       "      <td>2</td>\n",
       "      <td>6</td>\n",
       "    </tr>\n",
       "    <tr>\n",
       "      <td>4</td>\n",
       "      <td>10</td>\n",
       "      <td>46-55</td>\n",
       "      <td>Single</td>\n",
       "      <td>0</td>\n",
       "      <td>1</td>\n",
       "      <td>NaN</td>\n",
       "      <td>5</td>\n",
       "    </tr>\n",
       "  </tbody>\n",
       "</table>\n",
       "</div>"
      ],
      "text/plain": [
       "   customer_id age_range marital_status  rented family_size no_of_children  \\\n",
       "0            1       70+        Married       0           2            NaN   \n",
       "1            6     46-55        Married       0           2            NaN   \n",
       "2            7     26-35            NaN       0           3              1   \n",
       "3            8     26-35            NaN       0           4              2   \n",
       "4           10     46-55         Single       0           1            NaN   \n",
       "\n",
       "   income_bracket  \n",
       "0               4  \n",
       "1               5  \n",
       "2               3  \n",
       "3               6  \n",
       "4               5  "
      ]
     },
     "execution_count": 11,
     "metadata": {},
     "output_type": "execute_result"
    }
   ],
   "source": [
    "customer_demographics.head()"
   ]
  },
  {
   "cell_type": "code",
   "execution_count": 12,
   "metadata": {},
   "outputs": [
    {
     "data": {
      "text/html": [
       "<div>\n",
       "<style scoped>\n",
       "    .dataframe tbody tr th:only-of-type {\n",
       "        vertical-align: middle;\n",
       "    }\n",
       "\n",
       "    .dataframe tbody tr th {\n",
       "        vertical-align: top;\n",
       "    }\n",
       "\n",
       "    .dataframe thead th {\n",
       "        text-align: right;\n",
       "    }\n",
       "</style>\n",
       "<table border=\"1\" class=\"dataframe\">\n",
       "  <thead>\n",
       "    <tr style=\"text-align: right;\">\n",
       "      <th></th>\n",
       "      <th>customer_id</th>\n",
       "      <th>age_range</th>\n",
       "      <th>marital_status</th>\n",
       "      <th>rented</th>\n",
       "      <th>family_size</th>\n",
       "      <th>no_of_children</th>\n",
       "      <th>income_bracket</th>\n",
       "    </tr>\n",
       "  </thead>\n",
       "  <tbody>\n",
       "    <tr>\n",
       "      <td>2</td>\n",
       "      <td>7</td>\n",
       "      <td>26-35</td>\n",
       "      <td>NaN</td>\n",
       "      <td>0</td>\n",
       "      <td>3</td>\n",
       "      <td>1</td>\n",
       "      <td>3</td>\n",
       "    </tr>\n",
       "    <tr>\n",
       "      <td>3</td>\n",
       "      <td>8</td>\n",
       "      <td>26-35</td>\n",
       "      <td>NaN</td>\n",
       "      <td>0</td>\n",
       "      <td>4</td>\n",
       "      <td>2</td>\n",
       "      <td>6</td>\n",
       "    </tr>\n",
       "    <tr>\n",
       "      <td>10</td>\n",
       "      <td>17</td>\n",
       "      <td>36-45</td>\n",
       "      <td>NaN</td>\n",
       "      <td>0</td>\n",
       "      <td>1</td>\n",
       "      <td>NaN</td>\n",
       "      <td>5</td>\n",
       "    </tr>\n",
       "    <tr>\n",
       "      <td>11</td>\n",
       "      <td>19</td>\n",
       "      <td>46-55</td>\n",
       "      <td>NaN</td>\n",
       "      <td>0</td>\n",
       "      <td>1</td>\n",
       "      <td>NaN</td>\n",
       "      <td>3</td>\n",
       "    </tr>\n",
       "    <tr>\n",
       "      <td>14</td>\n",
       "      <td>28</td>\n",
       "      <td>46-55</td>\n",
       "      <td>NaN</td>\n",
       "      <td>0</td>\n",
       "      <td>2</td>\n",
       "      <td>NaN</td>\n",
       "      <td>1</td>\n",
       "    </tr>\n",
       "    <tr>\n",
       "      <td>...</td>\n",
       "      <td>...</td>\n",
       "      <td>...</td>\n",
       "      <td>...</td>\n",
       "      <td>...</td>\n",
       "      <td>...</td>\n",
       "      <td>...</td>\n",
       "      <td>...</td>\n",
       "    </tr>\n",
       "    <tr>\n",
       "      <td>750</td>\n",
       "      <td>1566</td>\n",
       "      <td>26-35</td>\n",
       "      <td>NaN</td>\n",
       "      <td>0</td>\n",
       "      <td>2</td>\n",
       "      <td>NaN</td>\n",
       "      <td>9</td>\n",
       "    </tr>\n",
       "    <tr>\n",
       "      <td>755</td>\n",
       "      <td>1577</td>\n",
       "      <td>36-45</td>\n",
       "      <td>NaN</td>\n",
       "      <td>0</td>\n",
       "      <td>2</td>\n",
       "      <td>NaN</td>\n",
       "      <td>5</td>\n",
       "    </tr>\n",
       "    <tr>\n",
       "      <td>757</td>\n",
       "      <td>1579</td>\n",
       "      <td>46-55</td>\n",
       "      <td>NaN</td>\n",
       "      <td>0</td>\n",
       "      <td>1</td>\n",
       "      <td>NaN</td>\n",
       "      <td>4</td>\n",
       "    </tr>\n",
       "    <tr>\n",
       "      <td>758</td>\n",
       "      <td>1580</td>\n",
       "      <td>26-35</td>\n",
       "      <td>NaN</td>\n",
       "      <td>0</td>\n",
       "      <td>2</td>\n",
       "      <td>NaN</td>\n",
       "      <td>5</td>\n",
       "    </tr>\n",
       "    <tr>\n",
       "      <td>759</td>\n",
       "      <td>1581</td>\n",
       "      <td>26-35</td>\n",
       "      <td>NaN</td>\n",
       "      <td>0</td>\n",
       "      <td>3</td>\n",
       "      <td>1</td>\n",
       "      <td>1</td>\n",
       "    </tr>\n",
       "  </tbody>\n",
       "</table>\n",
       "<p>329 rows × 7 columns</p>\n",
       "</div>"
      ],
      "text/plain": [
       "     customer_id age_range marital_status  rented family_size no_of_children  \\\n",
       "2              7     26-35            NaN       0           3              1   \n",
       "3              8     26-35            NaN       0           4              2   \n",
       "10            17     36-45            NaN       0           1            NaN   \n",
       "11            19     46-55            NaN       0           1            NaN   \n",
       "14            28     46-55            NaN       0           2            NaN   \n",
       "..           ...       ...            ...     ...         ...            ...   \n",
       "750         1566     26-35            NaN       0           2            NaN   \n",
       "755         1577     36-45            NaN       0           2            NaN   \n",
       "757         1579     46-55            NaN       0           1            NaN   \n",
       "758         1580     26-35            NaN       0           2            NaN   \n",
       "759         1581     26-35            NaN       0           3              1   \n",
       "\n",
       "     income_bracket  \n",
       "2                 3  \n",
       "3                 6  \n",
       "10                5  \n",
       "11                3  \n",
       "14                1  \n",
       "..              ...  \n",
       "750               9  \n",
       "755               5  \n",
       "757               4  \n",
       "758               5  \n",
       "759               1  \n",
       "\n",
       "[329 rows x 7 columns]"
      ]
     },
     "execution_count": 12,
     "metadata": {},
     "output_type": "execute_result"
    }
   ],
   "source": [
    "customer_demographics[customer_demographics['marital_status'].isna() & customer_demographics['family_size']==1]"
   ]
  },
  {
   "cell_type": "code",
   "execution_count": 13,
   "metadata": {
    "colab": {
     "base_uri": "https://localhost:8080/",
     "height": 252
    },
    "colab_type": "code",
    "id": "QIolcF_-uL4u",
    "outputId": "18d2a591-66d1-43c9-8a4d-50334fb884c9"
   },
   "outputs": [
    {
     "name": "stdout",
     "output_type": "stream",
     "text": [
      "<class 'pandas.core.frame.DataFrame'>\n",
      "RangeIndex: 760 entries, 0 to 759\n",
      "Data columns (total 7 columns):\n",
      "customer_id       760 non-null int64\n",
      "age_range         760 non-null object\n",
      "marital_status    431 non-null object\n",
      "rented            760 non-null int64\n",
      "family_size       760 non-null object\n",
      "no_of_children    222 non-null object\n",
      "income_bracket    760 non-null int64\n",
      "dtypes: int64(3), object(4)\n",
      "memory usage: 41.7+ KB\n"
     ]
    }
   ],
   "source": [
    "customer_demographics.info()"
   ]
  },
  {
   "cell_type": "markdown",
   "metadata": {
    "colab_type": "text",
    "id": "xjIjjkN3uMCr"
   },
   "source": [
    "#### **Customer Transaction Data**"
   ]
  },
  {
   "cell_type": "code",
   "execution_count": 15,
   "metadata": {
    "colab": {
     "base_uri": "https://localhost:8080/",
     "height": 195
    },
    "colab_type": "code",
    "id": "dyQzBEHkuMMv",
    "outputId": "196737ca-51f1-43f7-fd2a-58dcb817801c"
   },
   "outputs": [
    {
     "data": {
      "text/html": [
       "<div>\n",
       "<style scoped>\n",
       "    .dataframe tbody tr th:only-of-type {\n",
       "        vertical-align: middle;\n",
       "    }\n",
       "\n",
       "    .dataframe tbody tr th {\n",
       "        vertical-align: top;\n",
       "    }\n",
       "\n",
       "    .dataframe thead th {\n",
       "        text-align: right;\n",
       "    }\n",
       "</style>\n",
       "<table border=\"1\" class=\"dataframe\">\n",
       "  <thead>\n",
       "    <tr style=\"text-align: right;\">\n",
       "      <th></th>\n",
       "      <th>date</th>\n",
       "      <th>customer_id</th>\n",
       "      <th>item_id</th>\n",
       "      <th>quantity</th>\n",
       "      <th>selling_price</th>\n",
       "      <th>other_discount</th>\n",
       "      <th>coupon_discount</th>\n",
       "    </tr>\n",
       "  </thead>\n",
       "  <tbody>\n",
       "    <tr>\n",
       "      <td>0</td>\n",
       "      <td>2012-01-02</td>\n",
       "      <td>1501</td>\n",
       "      <td>26830</td>\n",
       "      <td>1</td>\n",
       "      <td>35.26</td>\n",
       "      <td>-10.69</td>\n",
       "      <td>0.0</td>\n",
       "    </tr>\n",
       "    <tr>\n",
       "      <td>1</td>\n",
       "      <td>2012-01-02</td>\n",
       "      <td>1501</td>\n",
       "      <td>54253</td>\n",
       "      <td>1</td>\n",
       "      <td>53.43</td>\n",
       "      <td>-13.89</td>\n",
       "      <td>0.0</td>\n",
       "    </tr>\n",
       "    <tr>\n",
       "      <td>2</td>\n",
       "      <td>2012-01-02</td>\n",
       "      <td>1501</td>\n",
       "      <td>31962</td>\n",
       "      <td>1</td>\n",
       "      <td>106.50</td>\n",
       "      <td>-14.25</td>\n",
       "      <td>0.0</td>\n",
       "    </tr>\n",
       "    <tr>\n",
       "      <td>3</td>\n",
       "      <td>2012-01-02</td>\n",
       "      <td>1501</td>\n",
       "      <td>33647</td>\n",
       "      <td>1</td>\n",
       "      <td>67.32</td>\n",
       "      <td>0.00</td>\n",
       "      <td>0.0</td>\n",
       "    </tr>\n",
       "    <tr>\n",
       "      <td>4</td>\n",
       "      <td>2012-01-02</td>\n",
       "      <td>1501</td>\n",
       "      <td>48199</td>\n",
       "      <td>1</td>\n",
       "      <td>71.24</td>\n",
       "      <td>-28.14</td>\n",
       "      <td>0.0</td>\n",
       "    </tr>\n",
       "  </tbody>\n",
       "</table>\n",
       "</div>"
      ],
      "text/plain": [
       "         date  customer_id  item_id  quantity  selling_price  other_discount  \\\n",
       "0  2012-01-02         1501    26830         1          35.26          -10.69   \n",
       "1  2012-01-02         1501    54253         1          53.43          -13.89   \n",
       "2  2012-01-02         1501    31962         1         106.50          -14.25   \n",
       "3  2012-01-02         1501    33647         1          67.32            0.00   \n",
       "4  2012-01-02         1501    48199         1          71.24          -28.14   \n",
       "\n",
       "   coupon_discount  \n",
       "0              0.0  \n",
       "1              0.0  \n",
       "2              0.0  \n",
       "3              0.0  \n",
       "4              0.0  "
      ]
     },
     "execution_count": 15,
     "metadata": {},
     "output_type": "execute_result"
    }
   ],
   "source": [
    "customer_transaction_data.head()"
   ]
  },
  {
   "cell_type": "code",
   "execution_count": 16,
   "metadata": {
    "colab": {
     "base_uri": "https://localhost:8080/",
     "height": 252
    },
    "colab_type": "code",
    "id": "4zz8pAEkuMRx",
    "outputId": "3eaee908-6b86-4e08-9295-8cfa2a637930"
   },
   "outputs": [
    {
     "name": "stdout",
     "output_type": "stream",
     "text": [
      "<class 'pandas.core.frame.DataFrame'>\n",
      "RangeIndex: 1324566 entries, 0 to 1324565\n",
      "Data columns (total 7 columns):\n",
      "date               1324566 non-null object\n",
      "customer_id        1324566 non-null int64\n",
      "item_id            1324566 non-null int64\n",
      "quantity           1324566 non-null int64\n",
      "selling_price      1324566 non-null float64\n",
      "other_discount     1324566 non-null float64\n",
      "coupon_discount    1324566 non-null float64\n",
      "dtypes: float64(3), int64(3), object(1)\n",
      "memory usage: 70.7+ MB\n"
     ]
    }
   ],
   "source": [
    "customer_transaction_data.info()"
   ]
  },
  {
   "cell_type": "markdown",
   "metadata": {
    "colab_type": "text",
    "id": "1qFo6gi3uMbg"
   },
   "source": [
    "#### **Item Data**"
   ]
  },
  {
   "cell_type": "code",
   "execution_count": 17,
   "metadata": {
    "colab": {
     "base_uri": "https://localhost:8080/",
     "height": 195
    },
    "colab_type": "code",
    "id": "4U6jD0VmuMkX",
    "outputId": "b57a5d92-c767-4e5f-e210-31dabad1fb27"
   },
   "outputs": [
    {
     "data": {
      "text/html": [
       "<div>\n",
       "<style scoped>\n",
       "    .dataframe tbody tr th:only-of-type {\n",
       "        vertical-align: middle;\n",
       "    }\n",
       "\n",
       "    .dataframe tbody tr th {\n",
       "        vertical-align: top;\n",
       "    }\n",
       "\n",
       "    .dataframe thead th {\n",
       "        text-align: right;\n",
       "    }\n",
       "</style>\n",
       "<table border=\"1\" class=\"dataframe\">\n",
       "  <thead>\n",
       "    <tr style=\"text-align: right;\">\n",
       "      <th></th>\n",
       "      <th>item_id</th>\n",
       "      <th>brand</th>\n",
       "      <th>brand_type</th>\n",
       "      <th>category</th>\n",
       "    </tr>\n",
       "  </thead>\n",
       "  <tbody>\n",
       "    <tr>\n",
       "      <td>0</td>\n",
       "      <td>1</td>\n",
       "      <td>1</td>\n",
       "      <td>Established</td>\n",
       "      <td>Grocery</td>\n",
       "    </tr>\n",
       "    <tr>\n",
       "      <td>1</td>\n",
       "      <td>2</td>\n",
       "      <td>1</td>\n",
       "      <td>Established</td>\n",
       "      <td>Miscellaneous</td>\n",
       "    </tr>\n",
       "    <tr>\n",
       "      <td>2</td>\n",
       "      <td>3</td>\n",
       "      <td>56</td>\n",
       "      <td>Local</td>\n",
       "      <td>Bakery</td>\n",
       "    </tr>\n",
       "    <tr>\n",
       "      <td>3</td>\n",
       "      <td>4</td>\n",
       "      <td>56</td>\n",
       "      <td>Local</td>\n",
       "      <td>Grocery</td>\n",
       "    </tr>\n",
       "    <tr>\n",
       "      <td>4</td>\n",
       "      <td>5</td>\n",
       "      <td>56</td>\n",
       "      <td>Local</td>\n",
       "      <td>Grocery</td>\n",
       "    </tr>\n",
       "  </tbody>\n",
       "</table>\n",
       "</div>"
      ],
      "text/plain": [
       "   item_id  brand   brand_type       category\n",
       "0        1      1  Established        Grocery\n",
       "1        2      1  Established  Miscellaneous\n",
       "2        3     56        Local         Bakery\n",
       "3        4     56        Local        Grocery\n",
       "4        5     56        Local        Grocery"
      ]
     },
     "execution_count": 17,
     "metadata": {},
     "output_type": "execute_result"
    }
   ],
   "source": [
    "item_data.head()"
   ]
  },
  {
   "cell_type": "code",
   "execution_count": 18,
   "metadata": {
    "colab": {
     "base_uri": "https://localhost:8080/",
     "height": 202
    },
    "colab_type": "code",
    "id": "i1-X1laSuMm0",
    "outputId": "c160175c-cb8b-4846-a41c-f8899dce3b92"
   },
   "outputs": [
    {
     "name": "stdout",
     "output_type": "stream",
     "text": [
      "<class 'pandas.core.frame.DataFrame'>\n",
      "RangeIndex: 74066 entries, 0 to 74065\n",
      "Data columns (total 4 columns):\n",
      "item_id       74066 non-null int64\n",
      "brand         74066 non-null int64\n",
      "brand_type    74066 non-null object\n",
      "category      74066 non-null object\n",
      "dtypes: int64(2), object(2)\n",
      "memory usage: 2.3+ MB\n"
     ]
    }
   ],
   "source": [
    "item_data.info()"
   ]
  },
  {
   "cell_type": "markdown",
   "metadata": {
    "colab_type": "text",
    "id": "fwajbtEvkoeG"
   },
   "source": [
    "<a id = Section5></a>\n",
    "### **5. Feature Engineering**"
   ]
  },
  {
   "cell_type": "markdown",
   "metadata": {
    "colab_type": "text",
    "id": "G3doPuhluMw3"
   },
   "source": [
    "**Note:** We will only be focussing on **creating new features** out of the existing features in this notebook."
   ]
  },
  {
   "cell_type": "markdown",
   "metadata": {
    "colab_type": "text",
    "id": "X9ED6Yr8IWDp"
   },
   "source": [
    "#### **Working with Campaign Data**"
   ]
  },
  {
   "cell_type": "markdown",
   "metadata": {
    "colab_type": "text",
    "id": "tYtiBo-4HqpB"
   },
   "source": [
    "- Creating new features using the `start_date` and `end_date` features of **campaign_data**.\n",
    "\n",
    "- First, we need to **convert** our `start_date` and `end_date` columns from **object** dtype to **datetime** dtype."
   ]
  },
  {
   "cell_type": "code",
   "execution_count": 19,
   "metadata": {
    "colab": {},
    "colab_type": "code",
    "id": "FdtlrDfEuM43"
   },
   "outputs": [],
   "source": [
    "campaign_data['start_date'] = pd.to_datetime(campaign_data['start_date'], format='%d/%m/%y', dayfirst=True)\n",
    "campaign_data['end_date'] = pd.to_datetime(campaign_data['end_date'], format='%d/%m/%y', dayfirst=True)"
   ]
  },
  {
   "cell_type": "markdown",
   "metadata": {
    "colab_type": "text",
    "id": "0b0L4yghGCGR"
   },
   "source": [
    "- Our new features show the **time between** the **start** and **end dates** of each campaign on the basis of **days**, **months**, and **weeks**."
   ]
  },
  {
   "cell_type": "code",
   "execution_count": 20,
   "metadata": {
    "colab": {},
    "colab_type": "code",
    "id": "2UE2lE1WuM8O"
   },
   "outputs": [],
   "source": [
    "campaign_data['diff_d'] = (campaign_data['end_date'] - campaign_data['start_date']) / np.timedelta64(1, 'D')\n",
    "campaign_data['diff_m'] = (campaign_data['end_date'] - campaign_data['start_date']) / np.timedelta64(1, 'M')\n",
    "campaign_data['diff_w'] = (campaign_data['end_date'] - campaign_data['start_date']) / np.timedelta64(1, 'W')"
   ]
  },
  {
   "cell_type": "code",
   "execution_count": 21,
   "metadata": {
    "colab": {
     "base_uri": "https://localhost:8080/",
     "height": 195
    },
    "colab_type": "code",
    "id": "lTz4ZRDykr0X",
    "outputId": "f0c821e9-4337-4366-e5e9-5198e8035d20"
   },
   "outputs": [
    {
     "data": {
      "text/html": [
       "<div>\n",
       "<style scoped>\n",
       "    .dataframe tbody tr th:only-of-type {\n",
       "        vertical-align: middle;\n",
       "    }\n",
       "\n",
       "    .dataframe tbody tr th {\n",
       "        vertical-align: top;\n",
       "    }\n",
       "\n",
       "    .dataframe thead th {\n",
       "        text-align: right;\n",
       "    }\n",
       "</style>\n",
       "<table border=\"1\" class=\"dataframe\">\n",
       "  <thead>\n",
       "    <tr style=\"text-align: right;\">\n",
       "      <th></th>\n",
       "      <th>campaign_id</th>\n",
       "      <th>campaign_type</th>\n",
       "      <th>start_date</th>\n",
       "      <th>end_date</th>\n",
       "      <th>diff_d</th>\n",
       "      <th>diff_m</th>\n",
       "      <th>diff_w</th>\n",
       "    </tr>\n",
       "  </thead>\n",
       "  <tbody>\n",
       "    <tr>\n",
       "      <td>0</td>\n",
       "      <td>24</td>\n",
       "      <td>Y</td>\n",
       "      <td>2013-10-21</td>\n",
       "      <td>2013-12-20</td>\n",
       "      <td>60.0</td>\n",
       "      <td>1.971293</td>\n",
       "      <td>8.571429</td>\n",
       "    </tr>\n",
       "    <tr>\n",
       "      <td>1</td>\n",
       "      <td>25</td>\n",
       "      <td>Y</td>\n",
       "      <td>2013-10-21</td>\n",
       "      <td>2013-11-22</td>\n",
       "      <td>32.0</td>\n",
       "      <td>1.051356</td>\n",
       "      <td>4.571429</td>\n",
       "    </tr>\n",
       "    <tr>\n",
       "      <td>2</td>\n",
       "      <td>20</td>\n",
       "      <td>Y</td>\n",
       "      <td>2013-09-07</td>\n",
       "      <td>2013-11-16</td>\n",
       "      <td>70.0</td>\n",
       "      <td>2.299842</td>\n",
       "      <td>10.000000</td>\n",
       "    </tr>\n",
       "    <tr>\n",
       "      <td>3</td>\n",
       "      <td>23</td>\n",
       "      <td>Y</td>\n",
       "      <td>2013-10-08</td>\n",
       "      <td>2013-11-15</td>\n",
       "      <td>38.0</td>\n",
       "      <td>1.248486</td>\n",
       "      <td>5.428571</td>\n",
       "    </tr>\n",
       "    <tr>\n",
       "      <td>4</td>\n",
       "      <td>21</td>\n",
       "      <td>Y</td>\n",
       "      <td>2013-09-16</td>\n",
       "      <td>2013-10-18</td>\n",
       "      <td>32.0</td>\n",
       "      <td>1.051356</td>\n",
       "      <td>4.571429</td>\n",
       "    </tr>\n",
       "  </tbody>\n",
       "</table>\n",
       "</div>"
      ],
      "text/plain": [
       "   campaign_id campaign_type start_date   end_date  diff_d    diff_m  \\\n",
       "0           24             Y 2013-10-21 2013-12-20    60.0  1.971293   \n",
       "1           25             Y 2013-10-21 2013-11-22    32.0  1.051356   \n",
       "2           20             Y 2013-09-07 2013-11-16    70.0  2.299842   \n",
       "3           23             Y 2013-10-08 2013-11-15    38.0  1.248486   \n",
       "4           21             Y 2013-09-16 2013-10-18    32.0  1.051356   \n",
       "\n",
       "      diff_w  \n",
       "0   8.571429  \n",
       "1   4.571429  \n",
       "2  10.000000  \n",
       "3   5.428571  \n",
       "4   4.571429  "
      ]
     },
     "execution_count": 21,
     "metadata": {},
     "output_type": "execute_result"
    }
   ],
   "source": [
    "campaign_data.head()"
   ]
  },
  {
   "cell_type": "markdown",
   "metadata": {
    "colab_type": "text",
    "id": "kx7ihES9H7bx"
   },
   "source": [
    "#### **Merging the Campaign Data with Train Data**"
   ]
  },
  {
   "cell_type": "markdown",
   "metadata": {
    "colab_type": "text",
    "id": "3uTWeJzIJj6q"
   },
   "source": [
    "- We are **merging train** data with **campaign** data on `campaign_id`, performing a **left** join."
   ]
  },
  {
   "cell_type": "markdown",
   "metadata": {},
   "source": [
    "# A"
   ]
  },
  {
   "cell_type": "code",
   "execution_count": 22,
   "metadata": {
    "colab": {
     "base_uri": "https://localhost:8080/",
     "height": 195
    },
    "colab_type": "code",
    "id": "P3yBAnRwkr3S",
    "outputId": "b2af4836-5749-48da-97d7-e16fcbdd7e14"
   },
   "outputs": [
    {
     "data": {
      "text/html": [
       "<div>\n",
       "<style scoped>\n",
       "    .dataframe tbody tr th:only-of-type {\n",
       "        vertical-align: middle;\n",
       "    }\n",
       "\n",
       "    .dataframe tbody tr th {\n",
       "        vertical-align: top;\n",
       "    }\n",
       "\n",
       "    .dataframe thead th {\n",
       "        text-align: right;\n",
       "    }\n",
       "</style>\n",
       "<table border=\"1\" class=\"dataframe\">\n",
       "  <thead>\n",
       "    <tr style=\"text-align: right;\">\n",
       "      <th></th>\n",
       "      <th>id</th>\n",
       "      <th>campaign_id</th>\n",
       "      <th>coupon_id</th>\n",
       "      <th>customer_id</th>\n",
       "      <th>redemption_status</th>\n",
       "      <th>campaign_type</th>\n",
       "      <th>start_date</th>\n",
       "      <th>end_date</th>\n",
       "      <th>diff_d</th>\n",
       "      <th>diff_m</th>\n",
       "      <th>diff_w</th>\n",
       "    </tr>\n",
       "  </thead>\n",
       "  <tbody>\n",
       "    <tr>\n",
       "      <td>0</td>\n",
       "      <td>1</td>\n",
       "      <td>13</td>\n",
       "      <td>27</td>\n",
       "      <td>1053</td>\n",
       "      <td>0</td>\n",
       "      <td>X</td>\n",
       "      <td>2013-05-19</td>\n",
       "      <td>2013-07-05</td>\n",
       "      <td>47.0</td>\n",
       "      <td>1.544180</td>\n",
       "      <td>6.714286</td>\n",
       "    </tr>\n",
       "    <tr>\n",
       "      <td>1</td>\n",
       "      <td>2</td>\n",
       "      <td>13</td>\n",
       "      <td>116</td>\n",
       "      <td>48</td>\n",
       "      <td>0</td>\n",
       "      <td>X</td>\n",
       "      <td>2013-05-19</td>\n",
       "      <td>2013-07-05</td>\n",
       "      <td>47.0</td>\n",
       "      <td>1.544180</td>\n",
       "      <td>6.714286</td>\n",
       "    </tr>\n",
       "    <tr>\n",
       "      <td>2</td>\n",
       "      <td>6</td>\n",
       "      <td>9</td>\n",
       "      <td>635</td>\n",
       "      <td>205</td>\n",
       "      <td>0</td>\n",
       "      <td>Y</td>\n",
       "      <td>2013-03-11</td>\n",
       "      <td>2013-04-12</td>\n",
       "      <td>32.0</td>\n",
       "      <td>1.051356</td>\n",
       "      <td>4.571429</td>\n",
       "    </tr>\n",
       "    <tr>\n",
       "      <td>3</td>\n",
       "      <td>7</td>\n",
       "      <td>13</td>\n",
       "      <td>644</td>\n",
       "      <td>1050</td>\n",
       "      <td>0</td>\n",
       "      <td>X</td>\n",
       "      <td>2013-05-19</td>\n",
       "      <td>2013-07-05</td>\n",
       "      <td>47.0</td>\n",
       "      <td>1.544180</td>\n",
       "      <td>6.714286</td>\n",
       "    </tr>\n",
       "    <tr>\n",
       "      <td>4</td>\n",
       "      <td>9</td>\n",
       "      <td>8</td>\n",
       "      <td>1017</td>\n",
       "      <td>1489</td>\n",
       "      <td>0</td>\n",
       "      <td>X</td>\n",
       "      <td>2013-02-16</td>\n",
       "      <td>2013-04-05</td>\n",
       "      <td>48.0</td>\n",
       "      <td>1.577034</td>\n",
       "      <td>6.857143</td>\n",
       "    </tr>\n",
       "  </tbody>\n",
       "</table>\n",
       "</div>"
      ],
      "text/plain": [
       "   id  campaign_id  coupon_id  customer_id  redemption_status campaign_type  \\\n",
       "0   1           13         27         1053                  0             X   \n",
       "1   2           13        116           48                  0             X   \n",
       "2   6            9        635          205                  0             Y   \n",
       "3   7           13        644         1050                  0             X   \n",
       "4   9            8       1017         1489                  0             X   \n",
       "\n",
       "  start_date   end_date  diff_d    diff_m    diff_w  \n",
       "0 2013-05-19 2013-07-05    47.0  1.544180  6.714286  \n",
       "1 2013-05-19 2013-07-05    47.0  1.544180  6.714286  \n",
       "2 2013-03-11 2013-04-12    32.0  1.051356  4.571429  \n",
       "3 2013-05-19 2013-07-05    47.0  1.544180  6.714286  \n",
       "4 2013-02-16 2013-04-05    48.0  1.577034  6.857143  "
      ]
     },
     "execution_count": 22,
     "metadata": {},
     "output_type": "execute_result"
    }
   ],
   "source": [
    "df = train.merge(campaign_data, on='campaign_id', how='left')\n",
    "df.head()"
   ]
  },
  {
   "cell_type": "code",
   "execution_count": 23,
   "metadata": {
    "colab": {
     "base_uri": "https://localhost:8080/",
     "height": 34
    },
    "colab_type": "code",
    "id": "AX76vi5JIRa3",
    "outputId": "cbae8428-63bc-447f-8d44-8174074c38e4"
   },
   "outputs": [
    {
     "data": {
      "text/plain": [
       "(78369, 11)"
      ]
     },
     "execution_count": 23,
     "metadata": {},
     "output_type": "execute_result"
    }
   ],
   "source": [
    "df.shape"
   ]
  },
  {
   "cell_type": "markdown",
   "metadata": {
    "colab_type": "text",
    "id": "fiTQ84TaInaf"
   },
   "source": [
    "#### **Merging Item Data and Coupon Item Mapping Data**"
   ]
  },
  {
   "cell_type": "code",
   "execution_count": 24,
   "metadata": {
    "colab": {
     "base_uri": "https://localhost:8080/",
     "height": 195
    },
    "colab_type": "code",
    "id": "J4ZVRIKJKRCO",
    "outputId": "d4f0b495-7eac-4077-b950-7b01b5d2b255"
   },
   "outputs": [
    {
     "data": {
      "text/html": [
       "<div>\n",
       "<style scoped>\n",
       "    .dataframe tbody tr th:only-of-type {\n",
       "        vertical-align: middle;\n",
       "    }\n",
       "\n",
       "    .dataframe tbody tr th {\n",
       "        vertical-align: top;\n",
       "    }\n",
       "\n",
       "    .dataframe thead th {\n",
       "        text-align: right;\n",
       "    }\n",
       "</style>\n",
       "<table border=\"1\" class=\"dataframe\">\n",
       "  <thead>\n",
       "    <tr style=\"text-align: right;\">\n",
       "      <th></th>\n",
       "      <th>item_id</th>\n",
       "      <th>brand</th>\n",
       "      <th>brand_type</th>\n",
       "      <th>category</th>\n",
       "    </tr>\n",
       "  </thead>\n",
       "  <tbody>\n",
       "    <tr>\n",
       "      <td>0</td>\n",
       "      <td>1</td>\n",
       "      <td>1</td>\n",
       "      <td>Established</td>\n",
       "      <td>Grocery</td>\n",
       "    </tr>\n",
       "    <tr>\n",
       "      <td>1</td>\n",
       "      <td>2</td>\n",
       "      <td>1</td>\n",
       "      <td>Established</td>\n",
       "      <td>Miscellaneous</td>\n",
       "    </tr>\n",
       "    <tr>\n",
       "      <td>2</td>\n",
       "      <td>3</td>\n",
       "      <td>56</td>\n",
       "      <td>Local</td>\n",
       "      <td>Bakery</td>\n",
       "    </tr>\n",
       "    <tr>\n",
       "      <td>3</td>\n",
       "      <td>4</td>\n",
       "      <td>56</td>\n",
       "      <td>Local</td>\n",
       "      <td>Grocery</td>\n",
       "    </tr>\n",
       "    <tr>\n",
       "      <td>4</td>\n",
       "      <td>5</td>\n",
       "      <td>56</td>\n",
       "      <td>Local</td>\n",
       "      <td>Grocery</td>\n",
       "    </tr>\n",
       "  </tbody>\n",
       "</table>\n",
       "</div>"
      ],
      "text/plain": [
       "   item_id  brand   brand_type       category\n",
       "0        1      1  Established        Grocery\n",
       "1        2      1  Established  Miscellaneous\n",
       "2        3     56        Local         Bakery\n",
       "3        4     56        Local        Grocery\n",
       "4        5     56        Local        Grocery"
      ]
     },
     "execution_count": 24,
     "metadata": {},
     "output_type": "execute_result"
    }
   ],
   "source": [
    "item_data.head()"
   ]
  },
  {
   "cell_type": "markdown",
   "metadata": {
    "colab_type": "text",
    "id": "5TVUyo3AKUsR"
   },
   "source": [
    "- Printing the **number of distinct values** in different item data columns."
   ]
  },
  {
   "cell_type": "code",
   "execution_count": 25,
   "metadata": {
    "colab": {
     "base_uri": "https://localhost:8080/",
     "height": 67
    },
    "colab_type": "code",
    "id": "2phNCtL2ImM4",
    "outputId": "e7a1f411-b374-4b3a-c7e6-7b89b69ce404"
   },
   "outputs": [
    {
     "name": "stdout",
     "output_type": "stream",
     "text": [
      "brand : 5528\n",
      "brand_type : 2\n",
      "category : 19\n"
     ]
    }
   ],
   "source": [
    "for j in ['brand', 'brand_type', 'category']:\n",
    "    print(j, ':', item_data[j].nunique())"
   ]
  },
  {
   "cell_type": "markdown",
   "metadata": {
    "colab_type": "text",
    "id": "mHSVzZDXKdIP"
   },
   "source": [
    "- **Converting** the **dtype** of categorical features to **category** dtype."
   ]
  },
  {
   "cell_type": "code",
   "execution_count": 26,
   "metadata": {
    "colab": {},
    "colab_type": "code",
    "id": "sxZV7L9dIlOM"
   },
   "outputs": [],
   "source": [
    "for j in ['brand', 'brand_type', 'category']:\n",
    "    item_data[j] = item_data[j].astype('category')"
   ]
  },
  {
   "cell_type": "markdown",
   "metadata": {
    "colab_type": "text",
    "id": "wno8S8gQJxHT"
   },
   "source": [
    "- We are **merging coupon_item_mapping** data with **item** data on `item_id`, performing a **left** join."
   ]
  },
  {
   "cell_type": "markdown",
   "metadata": {},
   "source": [
    "# B"
   ]
  },
  {
   "cell_type": "code",
   "execution_count": 27,
   "metadata": {
    "colab": {},
    "colab_type": "code",
    "id": "V2F2PzRnJRDI"
   },
   "outputs": [],
   "source": [
    "coupon_item_mapping = coupon_item_mapping.merge(item_data, on='item_id', how='left')"
   ]
  },
  {
   "cell_type": "code",
   "execution_count": 28,
   "metadata": {
    "colab": {
     "base_uri": "https://localhost:8080/",
     "height": 34
    },
    "colab_type": "code",
    "id": "rw1W3sXkJRFc",
    "outputId": "a07cbc42-9628-4d5f-c597-2748bed76b2d"
   },
   "outputs": [
    {
     "data": {
      "text/plain": [
       "1116"
      ]
     },
     "execution_count": 28,
     "metadata": {},
     "output_type": "execute_result"
    }
   ],
   "source": [
    "coupon_item_mapping.coupon_id.nunique()"
   ]
  },
  {
   "cell_type": "code",
   "execution_count": 29,
   "metadata": {
    "colab": {
     "base_uri": "https://localhost:8080/",
     "height": 195
    },
    "colab_type": "code",
    "id": "K7toVTv5JVDK",
    "outputId": "65a489eb-f628-4add-b094-0b07a3ee5f19"
   },
   "outputs": [
    {
     "data": {
      "text/html": [
       "<div>\n",
       "<style scoped>\n",
       "    .dataframe tbody tr th:only-of-type {\n",
       "        vertical-align: middle;\n",
       "    }\n",
       "\n",
       "    .dataframe tbody tr th {\n",
       "        vertical-align: top;\n",
       "    }\n",
       "\n",
       "    .dataframe thead th {\n",
       "        text-align: right;\n",
       "    }\n",
       "</style>\n",
       "<table border=\"1\" class=\"dataframe\">\n",
       "  <thead>\n",
       "    <tr style=\"text-align: right;\">\n",
       "      <th></th>\n",
       "      <th>coupon_id</th>\n",
       "      <th>item_id</th>\n",
       "      <th>brand</th>\n",
       "      <th>brand_type</th>\n",
       "      <th>category</th>\n",
       "    </tr>\n",
       "  </thead>\n",
       "  <tbody>\n",
       "    <tr>\n",
       "      <td>0</td>\n",
       "      <td>105</td>\n",
       "      <td>37</td>\n",
       "      <td>56</td>\n",
       "      <td>Local</td>\n",
       "      <td>Grocery</td>\n",
       "    </tr>\n",
       "    <tr>\n",
       "      <td>1</td>\n",
       "      <td>107</td>\n",
       "      <td>75</td>\n",
       "      <td>56</td>\n",
       "      <td>Local</td>\n",
       "      <td>Grocery</td>\n",
       "    </tr>\n",
       "    <tr>\n",
       "      <td>2</td>\n",
       "      <td>494</td>\n",
       "      <td>76</td>\n",
       "      <td>209</td>\n",
       "      <td>Established</td>\n",
       "      <td>Grocery</td>\n",
       "    </tr>\n",
       "    <tr>\n",
       "      <td>3</td>\n",
       "      <td>522</td>\n",
       "      <td>77</td>\n",
       "      <td>278</td>\n",
       "      <td>Established</td>\n",
       "      <td>Grocery</td>\n",
       "    </tr>\n",
       "    <tr>\n",
       "      <td>4</td>\n",
       "      <td>518</td>\n",
       "      <td>77</td>\n",
       "      <td>278</td>\n",
       "      <td>Established</td>\n",
       "      <td>Grocery</td>\n",
       "    </tr>\n",
       "  </tbody>\n",
       "</table>\n",
       "</div>"
      ],
      "text/plain": [
       "   coupon_id  item_id brand   brand_type category\n",
       "0        105       37    56        Local  Grocery\n",
       "1        107       75    56        Local  Grocery\n",
       "2        494       76   209  Established  Grocery\n",
       "3        522       77   278  Established  Grocery\n",
       "4        518       77   278  Established  Grocery"
      ]
     },
     "execution_count": 29,
     "metadata": {},
     "output_type": "execute_result"
    }
   ],
   "source": [
    "coupon_item_mapping.head()"
   ]
  },
  {
   "cell_type": "code",
   "execution_count": 30,
   "metadata": {
    "colab": {
     "base_uri": "https://localhost:8080/",
     "height": 34
    },
    "colab_type": "code",
    "id": "gZ7ykg3BJYwd",
    "outputId": "6228a87a-f66e-4c65-89a1-799914879714"
   },
   "outputs": [
    {
     "data": {
      "text/plain": [
       "(92663, 5)"
      ]
     },
     "execution_count": 30,
     "metadata": {},
     "output_type": "execute_result"
    }
   ],
   "source": [
    "coupon_item_mapping.shape"
   ]
  },
  {
   "cell_type": "markdown",
   "metadata": {
    "colab_type": "text",
    "id": "Kxh02VmtLTLt"
   },
   "source": [
    "#### **Working with Customer Transaction Data**"
   ]
  },
  {
   "cell_type": "markdown",
   "metadata": {
    "colab_type": "text",
    "id": "kGOp8Pr2Et_8"
   },
   "source": [
    "- **Converting** `date` column from **object** dtype to **datetime** dtype."
   ]
  },
  {
   "cell_type": "code",
   "execution_count": 31,
   "metadata": {
    "colab": {},
    "colab_type": "code",
    "id": "1s_ebfdQKtvM"
   },
   "outputs": [],
   "source": [
    "customer_transaction_data['date'] = pd.to_datetime(customer_transaction_data['date'], format='%Y-%m-%d')"
   ]
  },
  {
   "cell_type": "markdown",
   "metadata": {
    "colab_type": "text",
    "id": "qCoBSCHFE8DT"
   },
   "source": [
    "- We are extracting **day**, **month** and **week** information from `date` as separate features."
   ]
  },
  {
   "cell_type": "code",
   "execution_count": 32,
   "metadata": {
    "colab": {},
    "colab_type": "code",
    "id": "pPD4NPS4EMAi"
   },
   "outputs": [],
   "source": [
    "customer_transaction_data['date_d'] = customer_transaction_data['date'].dt.day.astype('category')\n",
    "customer_transaction_data['date_m'] = customer_transaction_data['date'].dt.month.astype('category')\n",
    "customer_transaction_data['date_w'] = customer_transaction_data['date'].dt.week.astype('category')"
   ]
  },
  {
   "cell_type": "code",
   "execution_count": 33,
   "metadata": {
    "colab": {
     "base_uri": "https://localhost:8080/",
     "height": 195
    },
    "colab_type": "code",
    "id": "skyTqqmhEKgC",
    "outputId": "67e4b5b6-0ca6-40aa-9c17-f854455ab302"
   },
   "outputs": [
    {
     "data": {
      "text/html": [
       "<div>\n",
       "<style scoped>\n",
       "    .dataframe tbody tr th:only-of-type {\n",
       "        vertical-align: middle;\n",
       "    }\n",
       "\n",
       "    .dataframe tbody tr th {\n",
       "        vertical-align: top;\n",
       "    }\n",
       "\n",
       "    .dataframe thead th {\n",
       "        text-align: right;\n",
       "    }\n",
       "</style>\n",
       "<table border=\"1\" class=\"dataframe\">\n",
       "  <thead>\n",
       "    <tr style=\"text-align: right;\">\n",
       "      <th></th>\n",
       "      <th>date</th>\n",
       "      <th>customer_id</th>\n",
       "      <th>item_id</th>\n",
       "      <th>quantity</th>\n",
       "      <th>selling_price</th>\n",
       "      <th>other_discount</th>\n",
       "      <th>coupon_discount</th>\n",
       "      <th>date_d</th>\n",
       "      <th>date_m</th>\n",
       "      <th>date_w</th>\n",
       "    </tr>\n",
       "  </thead>\n",
       "  <tbody>\n",
       "    <tr>\n",
       "      <td>0</td>\n",
       "      <td>2012-01-02</td>\n",
       "      <td>1501</td>\n",
       "      <td>26830</td>\n",
       "      <td>1</td>\n",
       "      <td>35.26</td>\n",
       "      <td>-10.69</td>\n",
       "      <td>0.0</td>\n",
       "      <td>2</td>\n",
       "      <td>1</td>\n",
       "      <td>1</td>\n",
       "    </tr>\n",
       "    <tr>\n",
       "      <td>1</td>\n",
       "      <td>2012-01-02</td>\n",
       "      <td>1501</td>\n",
       "      <td>54253</td>\n",
       "      <td>1</td>\n",
       "      <td>53.43</td>\n",
       "      <td>-13.89</td>\n",
       "      <td>0.0</td>\n",
       "      <td>2</td>\n",
       "      <td>1</td>\n",
       "      <td>1</td>\n",
       "    </tr>\n",
       "    <tr>\n",
       "      <td>2</td>\n",
       "      <td>2012-01-02</td>\n",
       "      <td>1501</td>\n",
       "      <td>31962</td>\n",
       "      <td>1</td>\n",
       "      <td>106.50</td>\n",
       "      <td>-14.25</td>\n",
       "      <td>0.0</td>\n",
       "      <td>2</td>\n",
       "      <td>1</td>\n",
       "      <td>1</td>\n",
       "    </tr>\n",
       "    <tr>\n",
       "      <td>3</td>\n",
       "      <td>2012-01-02</td>\n",
       "      <td>1501</td>\n",
       "      <td>33647</td>\n",
       "      <td>1</td>\n",
       "      <td>67.32</td>\n",
       "      <td>0.00</td>\n",
       "      <td>0.0</td>\n",
       "      <td>2</td>\n",
       "      <td>1</td>\n",
       "      <td>1</td>\n",
       "    </tr>\n",
       "    <tr>\n",
       "      <td>4</td>\n",
       "      <td>2012-01-02</td>\n",
       "      <td>1501</td>\n",
       "      <td>48199</td>\n",
       "      <td>1</td>\n",
       "      <td>71.24</td>\n",
       "      <td>-28.14</td>\n",
       "      <td>0.0</td>\n",
       "      <td>2</td>\n",
       "      <td>1</td>\n",
       "      <td>1</td>\n",
       "    </tr>\n",
       "  </tbody>\n",
       "</table>\n",
       "</div>"
      ],
      "text/plain": [
       "        date  customer_id  item_id  quantity  selling_price  other_discount  \\\n",
       "0 2012-01-02         1501    26830         1          35.26          -10.69   \n",
       "1 2012-01-02         1501    54253         1          53.43          -13.89   \n",
       "2 2012-01-02         1501    31962         1         106.50          -14.25   \n",
       "3 2012-01-02         1501    33647         1          67.32            0.00   \n",
       "4 2012-01-02         1501    48199         1          71.24          -28.14   \n",
       "\n",
       "   coupon_discount date_d date_m date_w  \n",
       "0              0.0      2      1      1  \n",
       "1              0.0      2      1      1  \n",
       "2              0.0      2      1      1  \n",
       "3              0.0      2      1      1  \n",
       "4              0.0      2      1      1  "
      ]
     },
     "execution_count": 33,
     "metadata": {},
     "output_type": "execute_result"
    }
   ],
   "source": [
    "customer_transaction_data.head()"
   ]
  },
  {
   "cell_type": "code",
   "execution_count": 34,
   "metadata": {
    "colab": {
     "base_uri": "https://localhost:8080/",
     "height": 402
    },
    "colab_type": "code",
    "id": "2pBh7reEFDqc",
    "outputId": "a6204fe1-7772-4b01-c861-2c0989122bd1"
   },
   "outputs": [
    {
     "data": {
      "text/html": [
       "<div>\n",
       "<style scoped>\n",
       "    .dataframe tbody tr th:only-of-type {\n",
       "        vertical-align: middle;\n",
       "    }\n",
       "\n",
       "    .dataframe tbody tr th {\n",
       "        vertical-align: top;\n",
       "    }\n",
       "\n",
       "    .dataframe thead th {\n",
       "        text-align: right;\n",
       "    }\n",
       "</style>\n",
       "<table border=\"1\" class=\"dataframe\">\n",
       "  <thead>\n",
       "    <tr style=\"text-align: right;\">\n",
       "      <th></th>\n",
       "      <th>date</th>\n",
       "      <th>customer_id</th>\n",
       "      <th>item_id</th>\n",
       "      <th>quantity</th>\n",
       "      <th>selling_price</th>\n",
       "      <th>other_discount</th>\n",
       "      <th>coupon_discount</th>\n",
       "      <th>date_d</th>\n",
       "      <th>date_m</th>\n",
       "      <th>date_w</th>\n",
       "    </tr>\n",
       "  </thead>\n",
       "  <tbody>\n",
       "    <tr>\n",
       "      <td>2257</td>\n",
       "      <td>2012-01-11</td>\n",
       "      <td>632</td>\n",
       "      <td>36682</td>\n",
       "      <td>20</td>\n",
       "      <td>156.73</td>\n",
       "      <td>-21.37</td>\n",
       "      <td>0.0</td>\n",
       "      <td>11</td>\n",
       "      <td>1</td>\n",
       "      <td>2</td>\n",
       "    </tr>\n",
       "    <tr>\n",
       "      <td>30413</td>\n",
       "      <td>2012-02-22</td>\n",
       "      <td>1324</td>\n",
       "      <td>9561</td>\n",
       "      <td>20</td>\n",
       "      <td>626.91</td>\n",
       "      <td>-505.80</td>\n",
       "      <td>0.0</td>\n",
       "      <td>22</td>\n",
       "      <td>2</td>\n",
       "      <td>8</td>\n",
       "    </tr>\n",
       "    <tr>\n",
       "      <td>35980</td>\n",
       "      <td>2012-02-28</td>\n",
       "      <td>757</td>\n",
       "      <td>25460</td>\n",
       "      <td>20</td>\n",
       "      <td>118.61</td>\n",
       "      <td>-2.49</td>\n",
       "      <td>0.0</td>\n",
       "      <td>28</td>\n",
       "      <td>2</td>\n",
       "      <td>9</td>\n",
       "    </tr>\n",
       "    <tr>\n",
       "      <td>60726</td>\n",
       "      <td>2012-03-17</td>\n",
       "      <td>1239</td>\n",
       "      <td>18151</td>\n",
       "      <td>20</td>\n",
       "      <td>142.48</td>\n",
       "      <td>0.00</td>\n",
       "      <td>0.0</td>\n",
       "      <td>17</td>\n",
       "      <td>3</td>\n",
       "      <td>11</td>\n",
       "    </tr>\n",
       "    <tr>\n",
       "      <td>82841</td>\n",
       "      <td>2012-03-31</td>\n",
       "      <td>767</td>\n",
       "      <td>37397</td>\n",
       "      <td>20</td>\n",
       "      <td>277.84</td>\n",
       "      <td>0.00</td>\n",
       "      <td>0.0</td>\n",
       "      <td>31</td>\n",
       "      <td>3</td>\n",
       "      <td>13</td>\n",
       "    </tr>\n",
       "    <tr>\n",
       "      <td>...</td>\n",
       "      <td>...</td>\n",
       "      <td>...</td>\n",
       "      <td>...</td>\n",
       "      <td>...</td>\n",
       "      <td>...</td>\n",
       "      <td>...</td>\n",
       "      <td>...</td>\n",
       "      <td>...</td>\n",
       "      <td>...</td>\n",
       "      <td>...</td>\n",
       "    </tr>\n",
       "    <tr>\n",
       "      <td>1280892</td>\n",
       "      <td>2013-06-16</td>\n",
       "      <td>1483</td>\n",
       "      <td>20360</td>\n",
       "      <td>20</td>\n",
       "      <td>142.48</td>\n",
       "      <td>0.00</td>\n",
       "      <td>0.0</td>\n",
       "      <td>16</td>\n",
       "      <td>6</td>\n",
       "      <td>24</td>\n",
       "    </tr>\n",
       "    <tr>\n",
       "      <td>1281796</td>\n",
       "      <td>2013-06-17</td>\n",
       "      <td>811</td>\n",
       "      <td>5873</td>\n",
       "      <td>20</td>\n",
       "      <td>121.11</td>\n",
       "      <td>0.00</td>\n",
       "      <td>0.0</td>\n",
       "      <td>17</td>\n",
       "      <td>6</td>\n",
       "      <td>25</td>\n",
       "    </tr>\n",
       "    <tr>\n",
       "      <td>1285318</td>\n",
       "      <td>2013-06-18</td>\n",
       "      <td>132</td>\n",
       "      <td>20360</td>\n",
       "      <td>20</td>\n",
       "      <td>142.48</td>\n",
       "      <td>0.00</td>\n",
       "      <td>0.0</td>\n",
       "      <td>18</td>\n",
       "      <td>6</td>\n",
       "      <td>25</td>\n",
       "    </tr>\n",
       "    <tr>\n",
       "      <td>1309218</td>\n",
       "      <td>2013-06-28</td>\n",
       "      <td>362</td>\n",
       "      <td>72255</td>\n",
       "      <td>20</td>\n",
       "      <td>71.24</td>\n",
       "      <td>-35.62</td>\n",
       "      <td>0.0</td>\n",
       "      <td>28</td>\n",
       "      <td>6</td>\n",
       "      <td>26</td>\n",
       "    </tr>\n",
       "    <tr>\n",
       "      <td>1317988</td>\n",
       "      <td>2013-06-30</td>\n",
       "      <td>1320</td>\n",
       "      <td>55744</td>\n",
       "      <td>20</td>\n",
       "      <td>237.59</td>\n",
       "      <td>0.00</td>\n",
       "      <td>0.0</td>\n",
       "      <td>30</td>\n",
       "      <td>6</td>\n",
       "      <td>26</td>\n",
       "    </tr>\n",
       "  </tbody>\n",
       "</table>\n",
       "<p>98 rows × 10 columns</p>\n",
       "</div>"
      ],
      "text/plain": [
       "              date  customer_id  item_id  quantity  selling_price  \\\n",
       "2257    2012-01-11          632    36682        20         156.73   \n",
       "30413   2012-02-22         1324     9561        20         626.91   \n",
       "35980   2012-02-28          757    25460        20         118.61   \n",
       "60726   2012-03-17         1239    18151        20         142.48   \n",
       "82841   2012-03-31          767    37397        20         277.84   \n",
       "...            ...          ...      ...       ...            ...   \n",
       "1280892 2013-06-16         1483    20360        20         142.48   \n",
       "1281796 2013-06-17          811     5873        20         121.11   \n",
       "1285318 2013-06-18          132    20360        20         142.48   \n",
       "1309218 2013-06-28          362    72255        20          71.24   \n",
       "1317988 2013-06-30         1320    55744        20         237.59   \n",
       "\n",
       "         other_discount  coupon_discount date_d date_m date_w  \n",
       "2257             -21.37              0.0     11      1      2  \n",
       "30413           -505.80              0.0     22      2      8  \n",
       "35980             -2.49              0.0     28      2      9  \n",
       "60726              0.00              0.0     17      3     11  \n",
       "82841              0.00              0.0     31      3     13  \n",
       "...                 ...              ...    ...    ...    ...  \n",
       "1280892            0.00              0.0     16      6     24  \n",
       "1281796            0.00              0.0     17      6     25  \n",
       "1285318            0.00              0.0     18      6     25  \n",
       "1309218          -35.62              0.0     28      6     26  \n",
       "1317988            0.00              0.0     30      6     26  \n",
       "\n",
       "[98 rows x 10 columns]"
      ]
     },
     "execution_count": 34,
     "metadata": {},
     "output_type": "execute_result"
    }
   ],
   "source": [
    "customer_transaction_data[customer_transaction_data['quantity'] == 20]"
   ]
  },
  {
   "cell_type": "code",
   "execution_count": 35,
   "metadata": {
    "colab": {
     "base_uri": "https://localhost:8080/",
     "height": 293
    },
    "colab_type": "code",
    "id": "YXHNEsMNH0Mc",
    "outputId": "54fc5377-27bd-41c8-b973-141346ed71e5"
   },
   "outputs": [
    {
     "data": {
      "text/plain": [
       "<matplotlib.axes._subplots.AxesSubplot at 0x1aa33e4e808>"
      ]
     },
     "execution_count": 35,
     "metadata": {},
     "output_type": "execute_result"
    },
    {
     "data": {
      "image/png": "[encoded data removed]",
      "text/plain": [
       "<Figure size 432x288 with 1 Axes>"
      ]
     },
     "metadata": {
      "needs_background": "light"
     },
     "output_type": "display_data"
    }
   ],
   "source": [
    "customer_transaction_data['coupon_discount'].plot(kind='hist')"
   ]
  },
  {
   "cell_type": "code",
   "execution_count": 36,
   "metadata": {},
   "outputs": [
    {
     "data": {
      "text/plain": [
       "count    4013.000000\n",
       "mean      -91.940287\n",
       "std        72.424387\n",
       "min     -1992.230000\n",
       "25%       -89.050000\n",
       "50%       -71.240000\n",
       "75%       -53.430000\n",
       "max       -37.400000\n",
       "Name: coupon_discount, dtype: float64"
      ]
     },
     "execution_count": 36,
     "metadata": {},
     "output_type": "execute_result"
    }
   ],
   "source": [
    "customer_transaction_data[customer_transaction_data['coupon_discount']<-36]['coupon_discount'].describe()"
   ]
  },
  {
   "cell_type": "markdown",
   "metadata": {
    "colab_type": "text",
    "id": "QhGNE1m-G823"
   },
   "source": [
    "- Creating some **new features** using different features in the transaction data.\n",
    "\n",
    "- The `discount_bin` feature will tell **whether** a coupon **discount** is **applied** or not."
   ]
  },
  {
   "cell_type": "code",
   "execution_count": 37,
   "metadata": {
    "colab": {},
    "colab_type": "code",
    "id": "n-OO7xRlF3dK"
   },
   "outputs": [],
   "source": [
    "customer_transaction_data['discount_bin'] = customer_transaction_data['coupon_discount'].apply(lambda x: 0 if x>=0 else 1)"
   ]
  },
  {
   "cell_type": "markdown",
   "metadata": {
    "colab_type": "text",
    "id": "a4VjijawINf8"
   },
   "source": [
    "- Calculating the `marked_price` of each item using **selling price**, and **all discounts availed** on that item. "
   ]
  },
  {
   "cell_type": "code",
   "execution_count": 38,
   "metadata": {
    "colab": {},
    "colab_type": "code",
    "id": "QLC_rD47F8hi"
   },
   "outputs": [],
   "source": [
    "customer_transaction_data['marked_price'] = customer_transaction_data['selling_price'] - customer_transaction_data['other_discount'] - customer_transaction_data['coupon_discount']"
   ]
  },
  {
   "cell_type": "markdown",
   "metadata": {
    "colab_type": "text",
    "id": "Y1-lUi5QIjX7"
   },
   "source": [
    "- Creating a feature `disc_percent` containing **discount percentage** on each transaction."
   ]
  },
  {
   "cell_type": "code",
   "execution_count": 39,
   "metadata": {
    "colab": {},
    "colab_type": "code",
    "id": "cHzVMhArF8j7"
   },
   "outputs": [],
   "source": [
    "customer_transaction_data['disc_percent'] = (customer_transaction_data['marked_price'] - customer_transaction_data['selling_price']) / customer_transaction_data['selling_price']"
   ]
  },
  {
   "cell_type": "markdown",
   "metadata": {
    "colab_type": "text",
    "id": "DKbdK8DMI-Zs"
   },
   "source": [
    "- Calculating the **unit price** of each item in a transaction in `price_per_quan`."
   ]
  },
  {
   "cell_type": "code",
   "execution_count": 40,
   "metadata": {
    "colab": {},
    "colab_type": "code",
    "id": "Pq9VFnQhF3fx"
   },
   "outputs": [],
   "source": [
    "customer_transaction_data['price_per_quan'] = customer_transaction_data['marked_price'] / customer_transaction_data['quantity']"
   ]
  },
  {
   "cell_type": "markdown",
   "metadata": {
    "colab_type": "text",
    "id": "Nckczvn9JT4b"
   },
   "source": [
    "- The `marked_by_sale` feature will show the `ratio` of **marked price** and the **selling price**."
   ]
  },
  {
   "cell_type": "code",
   "execution_count": 41,
   "metadata": {
    "colab": {},
    "colab_type": "code",
    "id": "vEKdyHtIF3os"
   },
   "outputs": [],
   "source": [
    "customer_transaction_data['marked_by_sale'] = customer_transaction_data['marked_price'] / customer_transaction_data['selling_price']"
   ]
  },
  {
   "cell_type": "code",
   "execution_count": 57,
   "metadata": {
    "colab": {
     "base_uri": "https://localhost:8080/",
     "height": 101
    },
    "colab_type": "code",
    "id": "AVV-1zvUGFmS",
    "outputId": "cc59230f-4e56-4d87-d374-6bf3cb55defd"
   },
   "outputs": [
    {
     "data": {
      "text/plain": [
       "Index(['date', 'customer_id', 'item_id', 'quantity', 'selling_price',\n",
       "       'other_discount', 'coupon_discount', 'date_d', 'date_m', 'date_w',\n",
       "       'discount_bin', 'marked_price', 'disc_percent', 'price_per_quan',\n",
       "       'marked_by_sale'],\n",
       "      dtype='object')"
      ]
     },
     "execution_count": 57,
     "metadata": {},
     "output_type": "execute_result"
    }
   ],
   "source": [
    "customer_transaction_data.columns"
   ]
  },
  {
   "cell_type": "markdown",
   "metadata": {
    "colab_type": "text",
    "id": "HWPF0As4GI4Z"
   },
   "source": [
    "#### **Merging Customer Transaction Data with Coupon Item Mapping Data**"
   ]
  },
  {
   "cell_type": "markdown",
   "metadata": {
    "colab_type": "text",
    "id": "Wnvls3coJiel"
   },
   "source": [
    "- We are **merging customer_transaction_data** data with **coupon_item_mapping** data on `item_id`, performing a **left** join."
   ]
  },
  {
   "cell_type": "markdown",
   "metadata": {},
   "source": [
    "# c"
   ]
  },
  {
   "cell_type": "code",
   "execution_count": 42,
   "metadata": {
    "colab": {
     "base_uri": "https://localhost:8080/",
     "height": 299
    },
    "colab_type": "code",
    "id": "k_oMiv_PGGLi",
    "outputId": "b81dbd13-04f8-43d5-edf6-cbc259315fd3"
   },
   "outputs": [
    {
     "data": {
      "text/html": [
       "<div>\n",
       "<style scoped>\n",
       "    .dataframe tbody tr th:only-of-type {\n",
       "        vertical-align: middle;\n",
       "    }\n",
       "\n",
       "    .dataframe tbody tr th {\n",
       "        vertical-align: top;\n",
       "    }\n",
       "\n",
       "    .dataframe thead th {\n",
       "        text-align: right;\n",
       "    }\n",
       "</style>\n",
       "<table border=\"1\" class=\"dataframe\">\n",
       "  <thead>\n",
       "    <tr style=\"text-align: right;\">\n",
       "      <th></th>\n",
       "      <th>date</th>\n",
       "      <th>customer_id</th>\n",
       "      <th>item_id</th>\n",
       "      <th>quantity</th>\n",
       "      <th>selling_price</th>\n",
       "      <th>other_discount</th>\n",
       "      <th>coupon_discount</th>\n",
       "      <th>date_d</th>\n",
       "      <th>date_m</th>\n",
       "      <th>date_w</th>\n",
       "      <th>discount_bin</th>\n",
       "      <th>marked_price</th>\n",
       "      <th>disc_percent</th>\n",
       "      <th>price_per_quan</th>\n",
       "      <th>marked_by_sale</th>\n",
       "      <th>coupon_id</th>\n",
       "      <th>brand</th>\n",
       "      <th>brand_type</th>\n",
       "      <th>category</th>\n",
       "    </tr>\n",
       "  </thead>\n",
       "  <tbody>\n",
       "    <tr>\n",
       "      <td>0</td>\n",
       "      <td>2012-01-02</td>\n",
       "      <td>1501</td>\n",
       "      <td>26830</td>\n",
       "      <td>1</td>\n",
       "      <td>35.26</td>\n",
       "      <td>-10.69</td>\n",
       "      <td>0.0</td>\n",
       "      <td>2</td>\n",
       "      <td>1</td>\n",
       "      <td>1</td>\n",
       "      <td>0</td>\n",
       "      <td>45.95</td>\n",
       "      <td>0.303176</td>\n",
       "      <td>45.95</td>\n",
       "      <td>1.303176</td>\n",
       "      <td>7.0</td>\n",
       "      <td>56</td>\n",
       "      <td>Local</td>\n",
       "      <td>Natural Products</td>\n",
       "    </tr>\n",
       "    <tr>\n",
       "      <td>1</td>\n",
       "      <td>2012-01-02</td>\n",
       "      <td>1501</td>\n",
       "      <td>26830</td>\n",
       "      <td>1</td>\n",
       "      <td>35.26</td>\n",
       "      <td>-10.69</td>\n",
       "      <td>0.0</td>\n",
       "      <td>2</td>\n",
       "      <td>1</td>\n",
       "      <td>1</td>\n",
       "      <td>0</td>\n",
       "      <td>45.95</td>\n",
       "      <td>0.303176</td>\n",
       "      <td>45.95</td>\n",
       "      <td>1.303176</td>\n",
       "      <td>20.0</td>\n",
       "      <td>56</td>\n",
       "      <td>Local</td>\n",
       "      <td>Natural Products</td>\n",
       "    </tr>\n",
       "    <tr>\n",
       "      <td>2</td>\n",
       "      <td>2012-01-02</td>\n",
       "      <td>1501</td>\n",
       "      <td>26830</td>\n",
       "      <td>1</td>\n",
       "      <td>35.26</td>\n",
       "      <td>-10.69</td>\n",
       "      <td>0.0</td>\n",
       "      <td>2</td>\n",
       "      <td>1</td>\n",
       "      <td>1</td>\n",
       "      <td>0</td>\n",
       "      <td>45.95</td>\n",
       "      <td>0.303176</td>\n",
       "      <td>45.95</td>\n",
       "      <td>1.303176</td>\n",
       "      <td>29.0</td>\n",
       "      <td>56</td>\n",
       "      <td>Local</td>\n",
       "      <td>Natural Products</td>\n",
       "    </tr>\n",
       "    <tr>\n",
       "      <td>3</td>\n",
       "      <td>2012-01-02</td>\n",
       "      <td>1501</td>\n",
       "      <td>54253</td>\n",
       "      <td>1</td>\n",
       "      <td>53.43</td>\n",
       "      <td>-13.89</td>\n",
       "      <td>0.0</td>\n",
       "      <td>2</td>\n",
       "      <td>1</td>\n",
       "      <td>1</td>\n",
       "      <td>0</td>\n",
       "      <td>67.32</td>\n",
       "      <td>0.259966</td>\n",
       "      <td>67.32</td>\n",
       "      <td>1.259966</td>\n",
       "      <td>7.0</td>\n",
       "      <td>56</td>\n",
       "      <td>Local</td>\n",
       "      <td>Natural Products</td>\n",
       "    </tr>\n",
       "    <tr>\n",
       "      <td>4</td>\n",
       "      <td>2012-01-02</td>\n",
       "      <td>1501</td>\n",
       "      <td>54253</td>\n",
       "      <td>1</td>\n",
       "      <td>53.43</td>\n",
       "      <td>-13.89</td>\n",
       "      <td>0.0</td>\n",
       "      <td>2</td>\n",
       "      <td>1</td>\n",
       "      <td>1</td>\n",
       "      <td>0</td>\n",
       "      <td>67.32</td>\n",
       "      <td>0.259966</td>\n",
       "      <td>67.32</td>\n",
       "      <td>1.259966</td>\n",
       "      <td>20.0</td>\n",
       "      <td>56</td>\n",
       "      <td>Local</td>\n",
       "      <td>Natural Products</td>\n",
       "    </tr>\n",
       "  </tbody>\n",
       "</table>\n",
       "</div>"
      ],
      "text/plain": [
       "        date  customer_id  item_id  quantity  selling_price  other_discount  \\\n",
       "0 2012-01-02         1501    26830         1          35.26          -10.69   \n",
       "1 2012-01-02         1501    26830         1          35.26          -10.69   \n",
       "2 2012-01-02         1501    26830         1          35.26          -10.69   \n",
       "3 2012-01-02         1501    54253         1          53.43          -13.89   \n",
       "4 2012-01-02         1501    54253         1          53.43          -13.89   \n",
       "\n",
       "   coupon_discount date_d date_m date_w  discount_bin  marked_price  \\\n",
       "0              0.0      2      1      1             0         45.95   \n",
       "1              0.0      2      1      1             0         45.95   \n",
       "2              0.0      2      1      1             0         45.95   \n",
       "3              0.0      2      1      1             0         67.32   \n",
       "4              0.0      2      1      1             0         67.32   \n",
       "\n",
       "   disc_percent  price_per_quan  marked_by_sale  coupon_id brand brand_type  \\\n",
       "0      0.303176           45.95        1.303176        7.0    56      Local   \n",
       "1      0.303176           45.95        1.303176       20.0    56      Local   \n",
       "2      0.303176           45.95        1.303176       29.0    56      Local   \n",
       "3      0.259966           67.32        1.259966        7.0    56      Local   \n",
       "4      0.259966           67.32        1.259966       20.0    56      Local   \n",
       "\n",
       "           category  \n",
       "0  Natural Products  \n",
       "1  Natural Products  \n",
       "2  Natural Products  \n",
       "3  Natural Products  \n",
       "4  Natural Products  "
      ]
     },
     "execution_count": 42,
     "metadata": {},
     "output_type": "execute_result"
    }
   ],
   "source": [
    "customer_transaction_data = customer_transaction_data.merge(coupon_item_mapping, on='item_id', how='left')\n",
    "customer_transaction_data.head()"
   ]
  },
  {
   "cell_type": "code",
   "execution_count": 43,
   "metadata": {
    "colab": {
     "base_uri": "https://localhost:8080/",
     "height": 34
    },
    "colab_type": "code",
    "id": "v0d7pn6jJqb5",
    "outputId": "2eba6e78-e938-4d58-b5b2-791b1dd7af1f"
   },
   "outputs": [
    {
     "name": "stdout",
     "output_type": "stream",
     "text": [
      "(2657495, 19)\n"
     ]
    }
   ],
   "source": [
    "print(customer_transaction_data.shape)"
   ]
  },
  {
   "cell_type": "code",
   "execution_count": 44,
   "metadata": {
    "colab": {},
    "colab_type": "code",
    "id": "FfoImONEJqhE"
   },
   "outputs": [],
   "source": [
    "customer_transaction_data = customer_transaction_data[customer_transaction_data.duplicated() == False]"
   ]
  },
  {
   "cell_type": "code",
   "execution_count": 46,
   "metadata": {
    "colab": {
     "base_uri": "https://localhost:8080/",
     "height": 34
    },
    "colab_type": "code",
    "id": "0OCCXT4dJqeo",
    "outputId": "e4491b64-b6d1-4c97-a84d-49b55e1042d1"
   },
   "outputs": [
    {
     "name": "stdout",
     "output_type": "stream",
     "text": [
      "(2650887, 19) (78369, 11)\n"
     ]
    }
   ],
   "source": [
    "print(customer_transaction_data.shape, df.shape)"
   ]
  },
  {
   "cell_type": "markdown",
   "metadata": {
    "colab_type": "text",
    "id": "xCnDQ3MGKKFi"
   },
   "source": [
    "#### **Creating New Features Using Aggregations On Customer Transaction Data**"
   ]
  },
  {
   "cell_type": "markdown",
   "metadata": {
    "colab_type": "text",
    "id": "T_zgPivRLxJG"
   },
   "source": [
    "- We are creating `coupon_aquired`, `item_bought`, `tot_disc` features using **count**, and **sum** aggregations on `coupon_id`, `item_id`, and `disc_percent` after **grouping** the **customer_transaction_data** by `customer_id` and `date`."
   ]
  },
  {
   "cell_type": "markdown",
   "metadata": {},
   "source": [
    "# D"
   ]
  },
  {
   "cell_type": "code",
   "execution_count": 47,
   "metadata": {
    "colab": {
     "base_uri": "https://localhost:8080/",
     "height": 402
    },
    "colab_type": "code",
    "id": "6C2jI9-dLYrP",
    "outputId": "ac12c107-85c2-4a35-e957-727695dc52d1"
   },
   "outputs": [
    {
     "data": {
      "text/html": [
       "<div>\n",
       "<style scoped>\n",
       "    .dataframe tbody tr th:only-of-type {\n",
       "        vertical-align: middle;\n",
       "    }\n",
       "\n",
       "    .dataframe tbody tr th {\n",
       "        vertical-align: top;\n",
       "    }\n",
       "\n",
       "    .dataframe thead th {\n",
       "        text-align: right;\n",
       "    }\n",
       "</style>\n",
       "<table border=\"1\" class=\"dataframe\">\n",
       "  <thead>\n",
       "    <tr style=\"text-align: right;\">\n",
       "      <th></th>\n",
       "      <th>customer_id</th>\n",
       "      <th>date</th>\n",
       "      <th>coupon_aquired</th>\n",
       "      <th>item_bought</th>\n",
       "      <th>tot_disc</th>\n",
       "    </tr>\n",
       "  </thead>\n",
       "  <tbody>\n",
       "    <tr>\n",
       "      <td>0</td>\n",
       "      <td>1</td>\n",
       "      <td>2012-02-21</td>\n",
       "      <td>54</td>\n",
       "      <td>66</td>\n",
       "      <td>17.314655</td>\n",
       "    </tr>\n",
       "    <tr>\n",
       "      <td>1</td>\n",
       "      <td>1</td>\n",
       "      <td>2012-03-08</td>\n",
       "      <td>18</td>\n",
       "      <td>23</td>\n",
       "      <td>9.429440</td>\n",
       "    </tr>\n",
       "    <tr>\n",
       "      <td>2</td>\n",
       "      <td>1</td>\n",
       "      <td>2012-03-29</td>\n",
       "      <td>16</td>\n",
       "      <td>19</td>\n",
       "      <td>7.861163</td>\n",
       "    </tr>\n",
       "    <tr>\n",
       "      <td>3</td>\n",
       "      <td>1</td>\n",
       "      <td>2012-04-04</td>\n",
       "      <td>25</td>\n",
       "      <td>37</td>\n",
       "      <td>10.453435</td>\n",
       "    </tr>\n",
       "    <tr>\n",
       "      <td>4</td>\n",
       "      <td>1</td>\n",
       "      <td>2012-04-11</td>\n",
       "      <td>36</td>\n",
       "      <td>41</td>\n",
       "      <td>17.355407</td>\n",
       "    </tr>\n",
       "    <tr>\n",
       "      <td>...</td>\n",
       "      <td>...</td>\n",
       "      <td>...</td>\n",
       "      <td>...</td>\n",
       "      <td>...</td>\n",
       "      <td>...</td>\n",
       "    </tr>\n",
       "    <tr>\n",
       "      <td>142440</td>\n",
       "      <td>1582</td>\n",
       "      <td>2013-06-09</td>\n",
       "      <td>23</td>\n",
       "      <td>25</td>\n",
       "      <td>13.813049</td>\n",
       "    </tr>\n",
       "    <tr>\n",
       "      <td>142441</td>\n",
       "      <td>1582</td>\n",
       "      <td>2013-06-10</td>\n",
       "      <td>0</td>\n",
       "      <td>1</td>\n",
       "      <td>0.039292</td>\n",
       "    </tr>\n",
       "    <tr>\n",
       "      <td>142442</td>\n",
       "      <td>1582</td>\n",
       "      <td>2013-06-17</td>\n",
       "      <td>39</td>\n",
       "      <td>42</td>\n",
       "      <td>14.819771</td>\n",
       "    </tr>\n",
       "    <tr>\n",
       "      <td>142443</td>\n",
       "      <td>1582</td>\n",
       "      <td>2013-06-20</td>\n",
       "      <td>16</td>\n",
       "      <td>19</td>\n",
       "      <td>4.303713</td>\n",
       "    </tr>\n",
       "    <tr>\n",
       "      <td>142444</td>\n",
       "      <td>1582</td>\n",
       "      <td>2013-06-25</td>\n",
       "      <td>28</td>\n",
       "      <td>34</td>\n",
       "      <td>12.949015</td>\n",
       "    </tr>\n",
       "  </tbody>\n",
       "</table>\n",
       "<p>142445 rows × 5 columns</p>\n",
       "</div>"
      ],
      "text/plain": [
       "        customer_id       date  coupon_aquired  item_bought   tot_disc\n",
       "0                 1 2012-02-21              54           66  17.314655\n",
       "1                 1 2012-03-08              18           23   9.429440\n",
       "2                 1 2012-03-29              16           19   7.861163\n",
       "3                 1 2012-04-04              25           37  10.453435\n",
       "4                 1 2012-04-11              36           41  17.355407\n",
       "...             ...        ...             ...          ...        ...\n",
       "142440         1582 2013-06-09              23           25  13.813049\n",
       "142441         1582 2013-06-10               0            1   0.039292\n",
       "142442         1582 2013-06-17              39           42  14.819771\n",
       "142443         1582 2013-06-20              16           19   4.303713\n",
       "142444         1582 2013-06-25              28           34  12.949015\n",
       "\n",
       "[142445 rows x 5 columns]"
      ]
     },
     "execution_count": 47,
     "metadata": {},
     "output_type": "execute_result"
    }
   ],
   "source": [
    "customer_transaction_data.groupby(['customer_id', 'date']).agg({'coupon_id':'count', 'item_id':'count', 'disc_percent':sum}).reset_index().rename(columns={'coupon_id':'coupon_aquired', 'item_id':'item_bought', 'disc_percent':'tot_disc'})"
   ]
  },
  {
   "cell_type": "markdown",
   "metadata": {
    "colab_type": "text",
    "id": "8RIpaIelMYIU"
   },
   "source": [
    "#### **Merging Customer Transaction Data with Aggregated Feature Data**"
   ]
  },
  {
   "cell_type": "markdown",
   "metadata": {
    "colab_type": "text",
    "id": "qxEFg5oGMn41"
   },
   "source": [
    "- We are **merging customer_transaction_data** data with **aggregated feature** data on `customer_id` and `date`, performing a **left** join."
   ]
  },
  {
   "cell_type": "markdown",
   "metadata": {},
   "source": [
    "# E"
   ]
  },
  {
   "cell_type": "code",
   "execution_count": 48,
   "metadata": {
    "colab": {},
    "colab_type": "code",
    "id": "5kF4l3DzJ5uG"
   },
   "outputs": [],
   "source": [
    "customer_transaction_data = customer_transaction_data.merge(customer_transaction_data.groupby(['customer_id', 'date']).agg({'coupon_id':'count', 'item_id':'count', 'disc_percent':sum}).reset_index().rename(columns={'coupon_id':'coupon_aquired', 'item_id':'item_bought', 'disc_percent':'tot_disc'}), on=['customer_id', 'date'], how='left')"
   ]
  },
  {
   "cell_type": "code",
   "execution_count": 49,
   "metadata": {
    "colab": {
     "base_uri": "https://localhost:8080/",
     "height": 590
    },
    "colab_type": "code",
    "id": "6ax2Utk2KP27",
    "outputId": "ee9317d5-ec6d-48e7-8c55-616eff83c19a"
   },
   "outputs": [
    {
     "data": {
      "text/html": [
       "<div>\n",
       "<style scoped>\n",
       "    .dataframe tbody tr th:only-of-type {\n",
       "        vertical-align: middle;\n",
       "    }\n",
       "\n",
       "    .dataframe tbody tr th {\n",
       "        vertical-align: top;\n",
       "    }\n",
       "\n",
       "    .dataframe thead th {\n",
       "        text-align: right;\n",
       "    }\n",
       "</style>\n",
       "<table border=\"1\" class=\"dataframe\">\n",
       "  <thead>\n",
       "    <tr style=\"text-align: right;\">\n",
       "      <th></th>\n",
       "      <th>date</th>\n",
       "      <th>customer_id</th>\n",
       "      <th>item_id</th>\n",
       "      <th>quantity</th>\n",
       "      <th>selling_price</th>\n",
       "      <th>other_discount</th>\n",
       "      <th>coupon_discount</th>\n",
       "      <th>date_d</th>\n",
       "      <th>date_m</th>\n",
       "      <th>date_w</th>\n",
       "      <th>...</th>\n",
       "      <th>disc_percent</th>\n",
       "      <th>price_per_quan</th>\n",
       "      <th>marked_by_sale</th>\n",
       "      <th>coupon_id</th>\n",
       "      <th>brand</th>\n",
       "      <th>brand_type</th>\n",
       "      <th>category</th>\n",
       "      <th>coupon_aquired</th>\n",
       "      <th>item_bought</th>\n",
       "      <th>tot_disc</th>\n",
       "    </tr>\n",
       "  </thead>\n",
       "  <tbody>\n",
       "    <tr>\n",
       "      <td>184957</td>\n",
       "      <td>2012-04-05</td>\n",
       "      <td>1052</td>\n",
       "      <td>13774</td>\n",
       "      <td>1</td>\n",
       "      <td>35.62</td>\n",
       "      <td>-31.70</td>\n",
       "      <td>0.00</td>\n",
       "      <td>5</td>\n",
       "      <td>4</td>\n",
       "      <td>14</td>\n",
       "      <td>...</td>\n",
       "      <td>0.889949</td>\n",
       "      <td>67.32</td>\n",
       "      <td>1.889949</td>\n",
       "      <td>21.0</td>\n",
       "      <td>56</td>\n",
       "      <td>Local</td>\n",
       "      <td>Grocery</td>\n",
       "      <td>26</td>\n",
       "      <td>32</td>\n",
       "      <td>8.928818</td>\n",
       "    </tr>\n",
       "    <tr>\n",
       "      <td>184966</td>\n",
       "      <td>2012-04-05</td>\n",
       "      <td>1052</td>\n",
       "      <td>30293</td>\n",
       "      <td>1</td>\n",
       "      <td>35.26</td>\n",
       "      <td>0.00</td>\n",
       "      <td>0.00</td>\n",
       "      <td>5</td>\n",
       "      <td>4</td>\n",
       "      <td>14</td>\n",
       "      <td>...</td>\n",
       "      <td>0.000000</td>\n",
       "      <td>35.26</td>\n",
       "      <td>1.000000</td>\n",
       "      <td>21.0</td>\n",
       "      <td>56</td>\n",
       "      <td>Local</td>\n",
       "      <td>Grocery</td>\n",
       "      <td>26</td>\n",
       "      <td>32</td>\n",
       "      <td>8.928818</td>\n",
       "    </tr>\n",
       "    <tr>\n",
       "      <td>184970</td>\n",
       "      <td>2012-04-05</td>\n",
       "      <td>1052</td>\n",
       "      <td>5207</td>\n",
       "      <td>1</td>\n",
       "      <td>106.86</td>\n",
       "      <td>-21.02</td>\n",
       "      <td>0.00</td>\n",
       "      <td>5</td>\n",
       "      <td>4</td>\n",
       "      <td>14</td>\n",
       "      <td>...</td>\n",
       "      <td>0.196706</td>\n",
       "      <td>127.88</td>\n",
       "      <td>1.196706</td>\n",
       "      <td>21.0</td>\n",
       "      <td>681</td>\n",
       "      <td>Established</td>\n",
       "      <td>Grocery</td>\n",
       "      <td>26</td>\n",
       "      <td>32</td>\n",
       "      <td>8.928818</td>\n",
       "    </tr>\n",
       "    <tr>\n",
       "      <td>184973</td>\n",
       "      <td>2012-04-05</td>\n",
       "      <td>1052</td>\n",
       "      <td>9571</td>\n",
       "      <td>1</td>\n",
       "      <td>106.86</td>\n",
       "      <td>-21.02</td>\n",
       "      <td>0.00</td>\n",
       "      <td>5</td>\n",
       "      <td>4</td>\n",
       "      <td>14</td>\n",
       "      <td>...</td>\n",
       "      <td>0.196706</td>\n",
       "      <td>127.88</td>\n",
       "      <td>1.196706</td>\n",
       "      <td>21.0</td>\n",
       "      <td>681</td>\n",
       "      <td>Established</td>\n",
       "      <td>Grocery</td>\n",
       "      <td>26</td>\n",
       "      <td>32</td>\n",
       "      <td>8.928818</td>\n",
       "    </tr>\n",
       "    <tr>\n",
       "      <td>184978</td>\n",
       "      <td>2012-04-05</td>\n",
       "      <td>1052</td>\n",
       "      <td>47434</td>\n",
       "      <td>1</td>\n",
       "      <td>106.86</td>\n",
       "      <td>-21.02</td>\n",
       "      <td>0.00</td>\n",
       "      <td>5</td>\n",
       "      <td>4</td>\n",
       "      <td>14</td>\n",
       "      <td>...</td>\n",
       "      <td>0.196706</td>\n",
       "      <td>127.88</td>\n",
       "      <td>1.196706</td>\n",
       "      <td>21.0</td>\n",
       "      <td>681</td>\n",
       "      <td>Established</td>\n",
       "      <td>Grocery</td>\n",
       "      <td>26</td>\n",
       "      <td>32</td>\n",
       "      <td>8.928818</td>\n",
       "    </tr>\n",
       "    <tr>\n",
       "      <td>...</td>\n",
       "      <td>...</td>\n",
       "      <td>...</td>\n",
       "      <td>...</td>\n",
       "      <td>...</td>\n",
       "      <td>...</td>\n",
       "      <td>...</td>\n",
       "      <td>...</td>\n",
       "      <td>...</td>\n",
       "      <td>...</td>\n",
       "      <td>...</td>\n",
       "      <td>...</td>\n",
       "      <td>...</td>\n",
       "      <td>...</td>\n",
       "      <td>...</td>\n",
       "      <td>...</td>\n",
       "      <td>...</td>\n",
       "      <td>...</td>\n",
       "      <td>...</td>\n",
       "      <td>...</td>\n",
       "      <td>...</td>\n",
       "      <td>...</td>\n",
       "    </tr>\n",
       "    <tr>\n",
       "      <td>2594456</td>\n",
       "      <td>2013-06-22</td>\n",
       "      <td>1052</td>\n",
       "      <td>27522</td>\n",
       "      <td>1</td>\n",
       "      <td>110.07</td>\n",
       "      <td>0.00</td>\n",
       "      <td>0.00</td>\n",
       "      <td>22</td>\n",
       "      <td>6</td>\n",
       "      <td>25</td>\n",
       "      <td>...</td>\n",
       "      <td>0.000000</td>\n",
       "      <td>110.07</td>\n",
       "      <td>1.000000</td>\n",
       "      <td>21.0</td>\n",
       "      <td>634</td>\n",
       "      <td>Established</td>\n",
       "      <td>Grocery</td>\n",
       "      <td>33</td>\n",
       "      <td>34</td>\n",
       "      <td>14.583416</td>\n",
       "    </tr>\n",
       "    <tr>\n",
       "      <td>2594461</td>\n",
       "      <td>2013-06-22</td>\n",
       "      <td>1052</td>\n",
       "      <td>36578</td>\n",
       "      <td>1</td>\n",
       "      <td>17.81</td>\n",
       "      <td>-10.33</td>\n",
       "      <td>0.00</td>\n",
       "      <td>22</td>\n",
       "      <td>6</td>\n",
       "      <td>25</td>\n",
       "      <td>...</td>\n",
       "      <td>0.580011</td>\n",
       "      <td>28.14</td>\n",
       "      <td>1.580011</td>\n",
       "      <td>21.0</td>\n",
       "      <td>1337</td>\n",
       "      <td>Established</td>\n",
       "      <td>Grocery</td>\n",
       "      <td>33</td>\n",
       "      <td>34</td>\n",
       "      <td>14.583416</td>\n",
       "    </tr>\n",
       "    <tr>\n",
       "      <td>2594464</td>\n",
       "      <td>2013-06-22</td>\n",
       "      <td>1052</td>\n",
       "      <td>47434</td>\n",
       "      <td>1</td>\n",
       "      <td>99.38</td>\n",
       "      <td>-28.50</td>\n",
       "      <td>0.00</td>\n",
       "      <td>22</td>\n",
       "      <td>6</td>\n",
       "      <td>25</td>\n",
       "      <td>...</td>\n",
       "      <td>0.286778</td>\n",
       "      <td>127.88</td>\n",
       "      <td>1.286778</td>\n",
       "      <td>21.0</td>\n",
       "      <td>681</td>\n",
       "      <td>Established</td>\n",
       "      <td>Grocery</td>\n",
       "      <td>33</td>\n",
       "      <td>34</td>\n",
       "      <td>14.583416</td>\n",
       "    </tr>\n",
       "    <tr>\n",
       "      <td>2623916</td>\n",
       "      <td>2013-06-28</td>\n",
       "      <td>1052</td>\n",
       "      <td>5859</td>\n",
       "      <td>3</td>\n",
       "      <td>39.18</td>\n",
       "      <td>-30.99</td>\n",
       "      <td>-14.25</td>\n",
       "      <td>28</td>\n",
       "      <td>6</td>\n",
       "      <td>26</td>\n",
       "      <td>...</td>\n",
       "      <td>1.154671</td>\n",
       "      <td>28.14</td>\n",
       "      <td>2.154671</td>\n",
       "      <td>21.0</td>\n",
       "      <td>1337</td>\n",
       "      <td>Established</td>\n",
       "      <td>Grocery</td>\n",
       "      <td>24</td>\n",
       "      <td>30</td>\n",
       "      <td>10.206436</td>\n",
       "    </tr>\n",
       "    <tr>\n",
       "      <td>2623931</td>\n",
       "      <td>2013-06-28</td>\n",
       "      <td>1052</td>\n",
       "      <td>18168</td>\n",
       "      <td>3</td>\n",
       "      <td>53.43</td>\n",
       "      <td>-30.99</td>\n",
       "      <td>0.00</td>\n",
       "      <td>28</td>\n",
       "      <td>6</td>\n",
       "      <td>26</td>\n",
       "      <td>...</td>\n",
       "      <td>0.580011</td>\n",
       "      <td>28.14</td>\n",
       "      <td>1.580011</td>\n",
       "      <td>21.0</td>\n",
       "      <td>1337</td>\n",
       "      <td>Established</td>\n",
       "      <td>Grocery</td>\n",
       "      <td>24</td>\n",
       "      <td>30</td>\n",
       "      <td>10.206436</td>\n",
       "    </tr>\n",
       "  </tbody>\n",
       "</table>\n",
       "<p>233 rows × 22 columns</p>\n",
       "</div>"
      ],
      "text/plain": [
       "              date  customer_id  item_id  quantity  selling_price  \\\n",
       "184957  2012-04-05         1052    13774         1          35.62   \n",
       "184966  2012-04-05         1052    30293         1          35.26   \n",
       "184970  2012-04-05         1052     5207         1         106.86   \n",
       "184973  2012-04-05         1052     9571         1         106.86   \n",
       "184978  2012-04-05         1052    47434         1         106.86   \n",
       "...            ...          ...      ...       ...            ...   \n",
       "2594456 2013-06-22         1052    27522         1         110.07   \n",
       "2594461 2013-06-22         1052    36578         1          17.81   \n",
       "2594464 2013-06-22         1052    47434         1          99.38   \n",
       "2623916 2013-06-28         1052     5859         3          39.18   \n",
       "2623931 2013-06-28         1052    18168         3          53.43   \n",
       "\n",
       "         other_discount  coupon_discount date_d date_m date_w  ...  \\\n",
       "184957           -31.70             0.00      5      4     14  ...   \n",
       "184966             0.00             0.00      5      4     14  ...   \n",
       "184970           -21.02             0.00      5      4     14  ...   \n",
       "184973           -21.02             0.00      5      4     14  ...   \n",
       "184978           -21.02             0.00      5      4     14  ...   \n",
       "...                 ...              ...    ...    ...    ...  ...   \n",
       "2594456            0.00             0.00     22      6     25  ...   \n",
       "2594461          -10.33             0.00     22      6     25  ...   \n",
       "2594464          -28.50             0.00     22      6     25  ...   \n",
       "2623916          -30.99           -14.25     28      6     26  ...   \n",
       "2623931          -30.99             0.00     28      6     26  ...   \n",
       "\n",
       "         disc_percent  price_per_quan  marked_by_sale  coupon_id  brand  \\\n",
       "184957       0.889949           67.32        1.889949       21.0     56   \n",
       "184966       0.000000           35.26        1.000000       21.0     56   \n",
       "184970       0.196706          127.88        1.196706       21.0    681   \n",
       "184973       0.196706          127.88        1.196706       21.0    681   \n",
       "184978       0.196706          127.88        1.196706       21.0    681   \n",
       "...               ...             ...             ...        ...    ...   \n",
       "2594456      0.000000          110.07        1.000000       21.0    634   \n",
       "2594461      0.580011           28.14        1.580011       21.0   1337   \n",
       "2594464      0.286778          127.88        1.286778       21.0    681   \n",
       "2623916      1.154671           28.14        2.154671       21.0   1337   \n",
       "2623931      0.580011           28.14        1.580011       21.0   1337   \n",
       "\n",
       "          brand_type category coupon_aquired item_bought   tot_disc  \n",
       "184957         Local  Grocery             26          32   8.928818  \n",
       "184966         Local  Grocery             26          32   8.928818  \n",
       "184970   Established  Grocery             26          32   8.928818  \n",
       "184973   Established  Grocery             26          32   8.928818  \n",
       "184978   Established  Grocery             26          32   8.928818  \n",
       "...              ...      ...            ...         ...        ...  \n",
       "2594456  Established  Grocery             33          34  14.583416  \n",
       "2594461  Established  Grocery             33          34  14.583416  \n",
       "2594464  Established  Grocery             33          34  14.583416  \n",
       "2623916  Established  Grocery             24          30  10.206436  \n",
       "2623931  Established  Grocery             24          30  10.206436  \n",
       "\n",
       "[233 rows x 22 columns]"
      ]
     },
     "execution_count": 49,
     "metadata": {},
     "output_type": "execute_result"
    }
   ],
   "source": [
    "customer_transaction_data[(customer_transaction_data['customer_id']==1052) & (customer_transaction_data['coupon_id']==21)]"
   ]
  },
  {
   "cell_type": "markdown",
   "metadata": {
    "colab_type": "text",
    "id": "GkHczk9LM-t2"
   },
   "source": [
    "- Creating `coupon_to_item` feature showing the **difference** between `item_bought` and `coupon_acquired`."
   ]
  },
  {
   "cell_type": "markdown",
   "metadata": {},
   "source": [
    "# F "
   ]
  },
  {
   "cell_type": "code",
   "execution_count": 53,
   "metadata": {
    "colab": {},
    "colab_type": "code",
    "id": "-BBCbGX_KSec"
   },
   "outputs": [],
   "source": [
    "customer_transaction_data['coupon_to_item'] = customer_transaction_data['item_bought'] - customer_transaction_data['coupon_aquired']"
   ]
  },
  {
   "cell_type": "code",
   "execution_count": 54,
   "metadata": {
    "colab": {
     "base_uri": "https://localhost:8080/",
     "height": 299
    },
    "colab_type": "code",
    "id": "47a_UyNNKw8R",
    "outputId": "955482e9-acae-4059-b572-0102837fbc80"
   },
   "outputs": [
    {
     "data": {
      "text/html": [
       "<div>\n",
       "<style scoped>\n",
       "    .dataframe tbody tr th:only-of-type {\n",
       "        vertical-align: middle;\n",
       "    }\n",
       "\n",
       "    .dataframe tbody tr th {\n",
       "        vertical-align: top;\n",
       "    }\n",
       "\n",
       "    .dataframe thead th {\n",
       "        text-align: right;\n",
       "    }\n",
       "</style>\n",
       "<table border=\"1\" class=\"dataframe\">\n",
       "  <thead>\n",
       "    <tr style=\"text-align: right;\">\n",
       "      <th></th>\n",
       "      <th>date</th>\n",
       "      <th>customer_id</th>\n",
       "      <th>item_id</th>\n",
       "      <th>quantity</th>\n",
       "      <th>selling_price</th>\n",
       "      <th>other_discount</th>\n",
       "      <th>coupon_discount</th>\n",
       "      <th>date_d</th>\n",
       "      <th>date_m</th>\n",
       "      <th>date_w</th>\n",
       "      <th>...</th>\n",
       "      <th>price_per_quan</th>\n",
       "      <th>marked_by_sale</th>\n",
       "      <th>coupon_id</th>\n",
       "      <th>brand</th>\n",
       "      <th>brand_type</th>\n",
       "      <th>category</th>\n",
       "      <th>coupon_aquired</th>\n",
       "      <th>item_bought</th>\n",
       "      <th>tot_disc</th>\n",
       "      <th>coupon_to_item</th>\n",
       "    </tr>\n",
       "  </thead>\n",
       "  <tbody>\n",
       "    <tr>\n",
       "      <td>0</td>\n",
       "      <td>2012-01-02</td>\n",
       "      <td>1501</td>\n",
       "      <td>26830</td>\n",
       "      <td>1</td>\n",
       "      <td>35.26</td>\n",
       "      <td>-10.69</td>\n",
       "      <td>0.0</td>\n",
       "      <td>2</td>\n",
       "      <td>1</td>\n",
       "      <td>1</td>\n",
       "      <td>...</td>\n",
       "      <td>45.95</td>\n",
       "      <td>1.303176</td>\n",
       "      <td>7.0</td>\n",
       "      <td>56</td>\n",
       "      <td>Local</td>\n",
       "      <td>Natural Products</td>\n",
       "      <td>11</td>\n",
       "      <td>12</td>\n",
       "      <td>3.403242</td>\n",
       "      <td>1</td>\n",
       "    </tr>\n",
       "    <tr>\n",
       "      <td>1</td>\n",
       "      <td>2012-01-02</td>\n",
       "      <td>1501</td>\n",
       "      <td>26830</td>\n",
       "      <td>1</td>\n",
       "      <td>35.26</td>\n",
       "      <td>-10.69</td>\n",
       "      <td>0.0</td>\n",
       "      <td>2</td>\n",
       "      <td>1</td>\n",
       "      <td>1</td>\n",
       "      <td>...</td>\n",
       "      <td>45.95</td>\n",
       "      <td>1.303176</td>\n",
       "      <td>20.0</td>\n",
       "      <td>56</td>\n",
       "      <td>Local</td>\n",
       "      <td>Natural Products</td>\n",
       "      <td>11</td>\n",
       "      <td>12</td>\n",
       "      <td>3.403242</td>\n",
       "      <td>1</td>\n",
       "    </tr>\n",
       "    <tr>\n",
       "      <td>2</td>\n",
       "      <td>2012-01-02</td>\n",
       "      <td>1501</td>\n",
       "      <td>26830</td>\n",
       "      <td>1</td>\n",
       "      <td>35.26</td>\n",
       "      <td>-10.69</td>\n",
       "      <td>0.0</td>\n",
       "      <td>2</td>\n",
       "      <td>1</td>\n",
       "      <td>1</td>\n",
       "      <td>...</td>\n",
       "      <td>45.95</td>\n",
       "      <td>1.303176</td>\n",
       "      <td>29.0</td>\n",
       "      <td>56</td>\n",
       "      <td>Local</td>\n",
       "      <td>Natural Products</td>\n",
       "      <td>11</td>\n",
       "      <td>12</td>\n",
       "      <td>3.403242</td>\n",
       "      <td>1</td>\n",
       "    </tr>\n",
       "    <tr>\n",
       "      <td>3</td>\n",
       "      <td>2012-01-02</td>\n",
       "      <td>1501</td>\n",
       "      <td>54253</td>\n",
       "      <td>1</td>\n",
       "      <td>53.43</td>\n",
       "      <td>-13.89</td>\n",
       "      <td>0.0</td>\n",
       "      <td>2</td>\n",
       "      <td>1</td>\n",
       "      <td>1</td>\n",
       "      <td>...</td>\n",
       "      <td>67.32</td>\n",
       "      <td>1.259966</td>\n",
       "      <td>7.0</td>\n",
       "      <td>56</td>\n",
       "      <td>Local</td>\n",
       "      <td>Natural Products</td>\n",
       "      <td>11</td>\n",
       "      <td>12</td>\n",
       "      <td>3.403242</td>\n",
       "      <td>1</td>\n",
       "    </tr>\n",
       "    <tr>\n",
       "      <td>4</td>\n",
       "      <td>2012-01-02</td>\n",
       "      <td>1501</td>\n",
       "      <td>54253</td>\n",
       "      <td>1</td>\n",
       "      <td>53.43</td>\n",
       "      <td>-13.89</td>\n",
       "      <td>0.0</td>\n",
       "      <td>2</td>\n",
       "      <td>1</td>\n",
       "      <td>1</td>\n",
       "      <td>...</td>\n",
       "      <td>67.32</td>\n",
       "      <td>1.259966</td>\n",
       "      <td>20.0</td>\n",
       "      <td>56</td>\n",
       "      <td>Local</td>\n",
       "      <td>Natural Products</td>\n",
       "      <td>11</td>\n",
       "      <td>12</td>\n",
       "      <td>3.403242</td>\n",
       "      <td>1</td>\n",
       "    </tr>\n",
       "  </tbody>\n",
       "</table>\n",
       "<p>5 rows × 23 columns</p>\n",
       "</div>"
      ],
      "text/plain": [
       "        date  customer_id  item_id  quantity  selling_price  other_discount  \\\n",
       "0 2012-01-02         1501    26830         1          35.26          -10.69   \n",
       "1 2012-01-02         1501    26830         1          35.26          -10.69   \n",
       "2 2012-01-02         1501    26830         1          35.26          -10.69   \n",
       "3 2012-01-02         1501    54253         1          53.43          -13.89   \n",
       "4 2012-01-02         1501    54253         1          53.43          -13.89   \n",
       "\n",
       "   coupon_discount date_d date_m date_w  ...  price_per_quan  marked_by_sale  \\\n",
       "0              0.0      2      1      1  ...           45.95        1.303176   \n",
       "1              0.0      2      1      1  ...           45.95        1.303176   \n",
       "2              0.0      2      1      1  ...           45.95        1.303176   \n",
       "3              0.0      2      1      1  ...           67.32        1.259966   \n",
       "4              0.0      2      1      1  ...           67.32        1.259966   \n",
       "\n",
       "   coupon_id  brand  brand_type          category coupon_aquired item_bought  \\\n",
       "0        7.0     56       Local  Natural Products             11          12   \n",
       "1       20.0     56       Local  Natural Products             11          12   \n",
       "2       29.0     56       Local  Natural Products             11          12   \n",
       "3        7.0     56       Local  Natural Products             11          12   \n",
       "4       20.0     56       Local  Natural Products             11          12   \n",
       "\n",
       "   tot_disc  coupon_to_item  \n",
       "0  3.403242               1  \n",
       "1  3.403242               1  \n",
       "2  3.403242               1  \n",
       "3  3.403242               1  \n",
       "4  3.403242               1  \n",
       "\n",
       "[5 rows x 23 columns]"
      ]
     },
     "execution_count": 54,
     "metadata": {},
     "output_type": "execute_result"
    }
   ],
   "source": [
    "customer_transaction_data.head()"
   ]
  },
  {
   "cell_type": "markdown",
   "metadata": {
    "colab_type": "text",
    "id": "FJnBRyjETbWy"
   },
   "source": [
    "#### **Creating New Dataframe Performing Aggregations On Customer Transaction Data**"
   ]
  },
  {
   "cell_type": "markdown",
   "metadata": {
    "colab_type": "text",
    "id": "HReDdRExWI6-"
   },
   "source": [
    "- We will create a new dataframe **`trans`** consisting of various **features created** by performing numerous **aggregations** on features of **customer_transaction_data**."
   ]
  },
  {
   "cell_type": "markdown",
   "metadata": {},
   "source": [
    "# G"
   ]
  },
  {
   "cell_type": "code",
   "execution_count": 55,
   "metadata": {
    "colab": {},
    "colab_type": "code",
    "id": "pVY720-jTOXM"
   },
   "outputs": [],
   "source": [
    "# Specifying aggregations\n",
    "c = ['count', 'nunique']\n",
    "n = ['mean', 'max', 'min', 'sum', 'std']\n",
    "nn = ['mean', 'max', 'min', 'sum', 'std', 'quantile']"
   ]
  },
  {
   "cell_type": "code",
   "execution_count": 56,
   "metadata": {
    "colab": {},
    "colab_type": "code",
    "id": "rl-XG7bAVIJQ"
   },
   "outputs": [],
   "source": [
    "# Mapping aggregations with feature name\n",
    "agg_c = {'date_d': c, 'date_m': c, 'date_w': c, 'quantity': n, 'selling_price': n, 'other_discount': n, 'coupon_discount': n, 'item_id': c,\n",
    "         'brand': c, 'category': c, 'coupon_id': c, 'discount_bin': nn, 'marked_price': n, 'disc_percent': n, 'price_per_quan': n,\n",
    "         'brand_type': c, 'marked_by_sale': n, 'coupon_aquired': nn, 'item_bought': nn, 'tot_disc': n, 'coupon_to_item':nn}\n"
   ]
  },
  {
   "cell_type": "code",
   "execution_count": 57,
   "metadata": {
    "colab": {
     "base_uri": "https://localhost:8080/",
     "height": 303
    },
    "colab_type": "code",
    "id": "yqhVwU9ZVKet",
    "outputId": "98417fdb-80c0-4c26-ceb7-f3e016baf5cb"
   },
   "outputs": [
    {
     "data": {
      "text/html": [
       "<div>\n",
       "<style scoped>\n",
       "    .dataframe tbody tr th:only-of-type {\n",
       "        vertical-align: middle;\n",
       "    }\n",
       "\n",
       "    .dataframe tbody tr th {\n",
       "        vertical-align: top;\n",
       "    }\n",
       "\n",
       "    .dataframe thead tr th {\n",
       "        text-align: left;\n",
       "    }\n",
       "\n",
       "    .dataframe thead tr:last-of-type th {\n",
       "        text-align: right;\n",
       "    }\n",
       "</style>\n",
       "<table border=\"1\" class=\"dataframe\">\n",
       "  <thead>\n",
       "    <tr>\n",
       "      <th></th>\n",
       "      <th colspan=\"2\" halign=\"left\">date_d</th>\n",
       "      <th colspan=\"2\" halign=\"left\">date_m</th>\n",
       "      <th colspan=\"2\" halign=\"left\">date_w</th>\n",
       "      <th colspan=\"4\" halign=\"left\">quantity</th>\n",
       "      <th>...</th>\n",
       "      <th colspan=\"4\" halign=\"left\">tot_disc</th>\n",
       "      <th colspan=\"6\" halign=\"left\">coupon_to_item</th>\n",
       "    </tr>\n",
       "    <tr>\n",
       "      <th></th>\n",
       "      <th>count</th>\n",
       "      <th>nunique</th>\n",
       "      <th>count</th>\n",
       "      <th>nunique</th>\n",
       "      <th>count</th>\n",
       "      <th>nunique</th>\n",
       "      <th>mean</th>\n",
       "      <th>max</th>\n",
       "      <th>min</th>\n",
       "      <th>sum</th>\n",
       "      <th>...</th>\n",
       "      <th>max</th>\n",
       "      <th>min</th>\n",
       "      <th>sum</th>\n",
       "      <th>std</th>\n",
       "      <th>mean</th>\n",
       "      <th>max</th>\n",
       "      <th>min</th>\n",
       "      <th>sum</th>\n",
       "      <th>std</th>\n",
       "      <th>quantile</th>\n",
       "    </tr>\n",
       "    <tr>\n",
       "      <th>customer_id</th>\n",
       "      <th></th>\n",
       "      <th></th>\n",
       "      <th></th>\n",
       "      <th></th>\n",
       "      <th></th>\n",
       "      <th></th>\n",
       "      <th></th>\n",
       "      <th></th>\n",
       "      <th></th>\n",
       "      <th></th>\n",
       "      <th></th>\n",
       "      <th></th>\n",
       "      <th></th>\n",
       "      <th></th>\n",
       "      <th></th>\n",
       "      <th></th>\n",
       "      <th></th>\n",
       "      <th></th>\n",
       "      <th></th>\n",
       "      <th></th>\n",
       "      <th></th>\n",
       "    </tr>\n",
       "  </thead>\n",
       "  <tbody>\n",
       "    <tr>\n",
       "      <td>1</td>\n",
       "      <td>2206</td>\n",
       "      <td>28</td>\n",
       "      <td>2206</td>\n",
       "      <td>12</td>\n",
       "      <td>2206</td>\n",
       "      <td>38</td>\n",
       "      <td>1.133726</td>\n",
       "      <td>5</td>\n",
       "      <td>1</td>\n",
       "      <td>2501</td>\n",
       "      <td>...</td>\n",
       "      <td>30.803886</td>\n",
       "      <td>0.0</td>\n",
       "      <td>29544.403002</td>\n",
       "      <td>6.798600</td>\n",
       "      <td>13.276065</td>\n",
       "      <td>23</td>\n",
       "      <td>0</td>\n",
       "      <td>29287</td>\n",
       "      <td>5.671542</td>\n",
       "      <td>14.0</td>\n",
       "    </tr>\n",
       "    <tr>\n",
       "      <td>2</td>\n",
       "      <td>823</td>\n",
       "      <td>19</td>\n",
       "      <td>823</td>\n",
       "      <td>11</td>\n",
       "      <td>823</td>\n",
       "      <td>27</td>\n",
       "      <td>1.117861</td>\n",
       "      <td>5</td>\n",
       "      <td>1</td>\n",
       "      <td>920</td>\n",
       "      <td>...</td>\n",
       "      <td>16.836933</td>\n",
       "      <td>0.0</td>\n",
       "      <td>6242.841276</td>\n",
       "      <td>5.037921</td>\n",
       "      <td>7.814095</td>\n",
       "      <td>20</td>\n",
       "      <td>0</td>\n",
       "      <td>6431</td>\n",
       "      <td>6.097201</td>\n",
       "      <td>6.0</td>\n",
       "    </tr>\n",
       "    <tr>\n",
       "      <td>3</td>\n",
       "      <td>1351</td>\n",
       "      <td>23</td>\n",
       "      <td>1351</td>\n",
       "      <td>12</td>\n",
       "      <td>1351</td>\n",
       "      <td>30</td>\n",
       "      <td>6.861584</td>\n",
       "      <td>6949</td>\n",
       "      <td>1</td>\n",
       "      <td>9270</td>\n",
       "      <td>...</td>\n",
       "      <td>46.132935</td>\n",
       "      <td>0.0</td>\n",
       "      <td>22281.617402</td>\n",
       "      <td>12.410100</td>\n",
       "      <td>13.960030</td>\n",
       "      <td>35</td>\n",
       "      <td>0</td>\n",
       "      <td>18860</td>\n",
       "      <td>9.525554</td>\n",
       "      <td>12.0</td>\n",
       "    </tr>\n",
       "    <tr>\n",
       "      <td>4</td>\n",
       "      <td>451</td>\n",
       "      <td>23</td>\n",
       "      <td>451</td>\n",
       "      <td>11</td>\n",
       "      <td>451</td>\n",
       "      <td>21</td>\n",
       "      <td>1.283814</td>\n",
       "      <td>5</td>\n",
       "      <td>1</td>\n",
       "      <td>579</td>\n",
       "      <td>...</td>\n",
       "      <td>13.875339</td>\n",
       "      <td>0.0</td>\n",
       "      <td>1927.087224</td>\n",
       "      <td>4.159218</td>\n",
       "      <td>6.374723</td>\n",
       "      <td>13</td>\n",
       "      <td>0</td>\n",
       "      <td>2875</td>\n",
       "      <td>4.604267</td>\n",
       "      <td>4.0</td>\n",
       "    </tr>\n",
       "    <tr>\n",
       "      <td>5</td>\n",
       "      <td>1594</td>\n",
       "      <td>31</td>\n",
       "      <td>1594</td>\n",
       "      <td>12</td>\n",
       "      <td>1594</td>\n",
       "      <td>51</td>\n",
       "      <td>59.345671</td>\n",
       "      <td>14638</td>\n",
       "      <td>1</td>\n",
       "      <td>94597</td>\n",
       "      <td>...</td>\n",
       "      <td>14.588230</td>\n",
       "      <td>0.0</td>\n",
       "      <td>3806.955362</td>\n",
       "      <td>3.228779</td>\n",
       "      <td>2.474279</td>\n",
       "      <td>11</td>\n",
       "      <td>0</td>\n",
       "      <td>3944</td>\n",
       "      <td>2.351349</td>\n",
       "      <td>2.0</td>\n",
       "    </tr>\n",
       "  </tbody>\n",
       "</table>\n",
       "<p>5 rows × 85 columns</p>\n",
       "</div>"
      ],
      "text/plain": [
       "            date_d         date_m         date_w           quantity         \\\n",
       "             count nunique  count nunique  count nunique       mean    max   \n",
       "customer_id                                                                  \n",
       "1             2206      28   2206      12   2206      38   1.133726      5   \n",
       "2              823      19    823      11    823      27   1.117861      5   \n",
       "3             1351      23   1351      12   1351      30   6.861584   6949   \n",
       "4              451      23    451      11    451      21   1.283814      5   \n",
       "5             1594      31   1594      12   1594      51  59.345671  14638   \n",
       "\n",
       "                        ...   tot_disc                                \\\n",
       "            min    sum  ...        max  min           sum        std   \n",
       "customer_id             ...                                            \n",
       "1             1   2501  ...  30.803886  0.0  29544.403002   6.798600   \n",
       "2             1    920  ...  16.836933  0.0   6242.841276   5.037921   \n",
       "3             1   9270  ...  46.132935  0.0  22281.617402  12.410100   \n",
       "4             1    579  ...  13.875339  0.0   1927.087224   4.159218   \n",
       "5             1  94597  ...  14.588230  0.0   3806.955362   3.228779   \n",
       "\n",
       "            coupon_to_item                                    \n",
       "                      mean max min    sum       std quantile  \n",
       "customer_id                                                   \n",
       "1                13.276065  23   0  29287  5.671542     14.0  \n",
       "2                 7.814095  20   0   6431  6.097201      6.0  \n",
       "3                13.960030  35   0  18860  9.525554     12.0  \n",
       "4                 6.374723  13   0   2875  4.604267      4.0  \n",
       "5                 2.474279  11   0   3944  2.351349      2.0  \n",
       "\n",
       "[5 rows x 85 columns]"
      ]
     },
     "execution_count": 57,
     "metadata": {},
     "output_type": "execute_result"
    }
   ],
   "source": [
    "# Creating new dataframe after applying aggregations on customer_transaction_data\n",
    "trans = customer_transaction_data.groupby(['customer_id']).agg(agg_c)\n",
    "trans.head()"
   ]
  },
  {
   "cell_type": "markdown",
   "metadata": {
    "colab_type": "text",
    "id": "7-EC38jSXcXr"
   },
   "source": [
    "- **Flattening** the **multi-index** of **`trans`** dataframe, and adding **F_** at the **beginning** of each feature name, and **join** each aggregation name with each feature name using **_**"
   ]
  },
  {
   "cell_type": "code",
   "execution_count": 58,
   "metadata": {
    "colab": {
     "base_uri": "https://localhost:8080/",
     "height": 244
    },
    "colab_type": "code",
    "id": "rJkwpl71TSXU",
    "outputId": "40369f5a-50f8-474d-d011-15aed43d71c0"
   },
   "outputs": [
    {
     "data": {
      "text/html": [
       "<div>\n",
       "<style scoped>\n",
       "    .dataframe tbody tr th:only-of-type {\n",
       "        vertical-align: middle;\n",
       "    }\n",
       "\n",
       "    .dataframe tbody tr th {\n",
       "        vertical-align: top;\n",
       "    }\n",
       "\n",
       "    .dataframe thead th {\n",
       "        text-align: right;\n",
       "    }\n",
       "</style>\n",
       "<table border=\"1\" class=\"dataframe\">\n",
       "  <thead>\n",
       "    <tr style=\"text-align: right;\">\n",
       "      <th></th>\n",
       "      <th>customer_id</th>\n",
       "      <th>F_date_d_count</th>\n",
       "      <th>F_date_d_nunique</th>\n",
       "      <th>F_date_m_count</th>\n",
       "      <th>F_date_m_nunique</th>\n",
       "      <th>F_date_w_count</th>\n",
       "      <th>F_date_w_nunique</th>\n",
       "      <th>F_quantity_mean</th>\n",
       "      <th>F_quantity_max</th>\n",
       "      <th>F_quantity_min</th>\n",
       "      <th>...</th>\n",
       "      <th>F_tot_disc_max</th>\n",
       "      <th>F_tot_disc_min</th>\n",
       "      <th>F_tot_disc_sum</th>\n",
       "      <th>F_tot_disc_std</th>\n",
       "      <th>F_coupon_to_item_mean</th>\n",
       "      <th>F_coupon_to_item_max</th>\n",
       "      <th>F_coupon_to_item_min</th>\n",
       "      <th>F_coupon_to_item_sum</th>\n",
       "      <th>F_coupon_to_item_std</th>\n",
       "      <th>F_coupon_to_item_quantile</th>\n",
       "    </tr>\n",
       "  </thead>\n",
       "  <tbody>\n",
       "    <tr>\n",
       "      <td>0</td>\n",
       "      <td>1</td>\n",
       "      <td>2206</td>\n",
       "      <td>28</td>\n",
       "      <td>2206</td>\n",
       "      <td>12</td>\n",
       "      <td>2206</td>\n",
       "      <td>38</td>\n",
       "      <td>1.133726</td>\n",
       "      <td>5</td>\n",
       "      <td>1</td>\n",
       "      <td>...</td>\n",
       "      <td>30.803886</td>\n",
       "      <td>0.0</td>\n",
       "      <td>29544.403002</td>\n",
       "      <td>6.798600</td>\n",
       "      <td>13.276065</td>\n",
       "      <td>23</td>\n",
       "      <td>0</td>\n",
       "      <td>29287</td>\n",
       "      <td>5.671542</td>\n",
       "      <td>14.0</td>\n",
       "    </tr>\n",
       "    <tr>\n",
       "      <td>1</td>\n",
       "      <td>2</td>\n",
       "      <td>823</td>\n",
       "      <td>19</td>\n",
       "      <td>823</td>\n",
       "      <td>11</td>\n",
       "      <td>823</td>\n",
       "      <td>27</td>\n",
       "      <td>1.117861</td>\n",
       "      <td>5</td>\n",
       "      <td>1</td>\n",
       "      <td>...</td>\n",
       "      <td>16.836933</td>\n",
       "      <td>0.0</td>\n",
       "      <td>6242.841276</td>\n",
       "      <td>5.037921</td>\n",
       "      <td>7.814095</td>\n",
       "      <td>20</td>\n",
       "      <td>0</td>\n",
       "      <td>6431</td>\n",
       "      <td>6.097201</td>\n",
       "      <td>6.0</td>\n",
       "    </tr>\n",
       "    <tr>\n",
       "      <td>2</td>\n",
       "      <td>3</td>\n",
       "      <td>1351</td>\n",
       "      <td>23</td>\n",
       "      <td>1351</td>\n",
       "      <td>12</td>\n",
       "      <td>1351</td>\n",
       "      <td>30</td>\n",
       "      <td>6.861584</td>\n",
       "      <td>6949</td>\n",
       "      <td>1</td>\n",
       "      <td>...</td>\n",
       "      <td>46.132935</td>\n",
       "      <td>0.0</td>\n",
       "      <td>22281.617402</td>\n",
       "      <td>12.410100</td>\n",
       "      <td>13.960030</td>\n",
       "      <td>35</td>\n",
       "      <td>0</td>\n",
       "      <td>18860</td>\n",
       "      <td>9.525554</td>\n",
       "      <td>12.0</td>\n",
       "    </tr>\n",
       "    <tr>\n",
       "      <td>3</td>\n",
       "      <td>4</td>\n",
       "      <td>451</td>\n",
       "      <td>23</td>\n",
       "      <td>451</td>\n",
       "      <td>11</td>\n",
       "      <td>451</td>\n",
       "      <td>21</td>\n",
       "      <td>1.283814</td>\n",
       "      <td>5</td>\n",
       "      <td>1</td>\n",
       "      <td>...</td>\n",
       "      <td>13.875339</td>\n",
       "      <td>0.0</td>\n",
       "      <td>1927.087224</td>\n",
       "      <td>4.159218</td>\n",
       "      <td>6.374723</td>\n",
       "      <td>13</td>\n",
       "      <td>0</td>\n",
       "      <td>2875</td>\n",
       "      <td>4.604267</td>\n",
       "      <td>4.0</td>\n",
       "    </tr>\n",
       "    <tr>\n",
       "      <td>4</td>\n",
       "      <td>5</td>\n",
       "      <td>1594</td>\n",
       "      <td>31</td>\n",
       "      <td>1594</td>\n",
       "      <td>12</td>\n",
       "      <td>1594</td>\n",
       "      <td>51</td>\n",
       "      <td>59.345671</td>\n",
       "      <td>14638</td>\n",
       "      <td>1</td>\n",
       "      <td>...</td>\n",
       "      <td>14.588230</td>\n",
       "      <td>0.0</td>\n",
       "      <td>3806.955362</td>\n",
       "      <td>3.228779</td>\n",
       "      <td>2.474279</td>\n",
       "      <td>11</td>\n",
       "      <td>0</td>\n",
       "      <td>3944</td>\n",
       "      <td>2.351349</td>\n",
       "      <td>2.0</td>\n",
       "    </tr>\n",
       "  </tbody>\n",
       "</table>\n",
       "<p>5 rows × 86 columns</p>\n",
       "</div>"
      ],
      "text/plain": [
       "   customer_id  F_date_d_count  F_date_d_nunique  F_date_m_count  \\\n",
       "0            1            2206                28            2206   \n",
       "1            2             823                19             823   \n",
       "2            3            1351                23            1351   \n",
       "3            4             451                23             451   \n",
       "4            5            1594                31            1594   \n",
       "\n",
       "   F_date_m_nunique  F_date_w_count  F_date_w_nunique  F_quantity_mean  \\\n",
       "0                12            2206                38         1.133726   \n",
       "1                11             823                27         1.117861   \n",
       "2                12            1351                30         6.861584   \n",
       "3                11             451                21         1.283814   \n",
       "4                12            1594                51        59.345671   \n",
       "\n",
       "   F_quantity_max  F_quantity_min  ...  F_tot_disc_max  F_tot_disc_min  \\\n",
       "0               5               1  ...       30.803886             0.0   \n",
       "1               5               1  ...       16.836933             0.0   \n",
       "2            6949               1  ...       46.132935             0.0   \n",
       "3               5               1  ...       13.875339             0.0   \n",
       "4           14638               1  ...       14.588230             0.0   \n",
       "\n",
       "   F_tot_disc_sum  F_tot_disc_std  F_coupon_to_item_mean  \\\n",
       "0    29544.403002        6.798600              13.276065   \n",
       "1     6242.841276        5.037921               7.814095   \n",
       "2    22281.617402       12.410100              13.960030   \n",
       "3     1927.087224        4.159218               6.374723   \n",
       "4     3806.955362        3.228779               2.474279   \n",
       "\n",
       "   F_coupon_to_item_max  F_coupon_to_item_min  F_coupon_to_item_sum  \\\n",
       "0                    23                     0                 29287   \n",
       "1                    20                     0                  6431   \n",
       "2                    35                     0                 18860   \n",
       "3                    13                     0                  2875   \n",
       "4                    11                     0                  3944   \n",
       "\n",
       "   F_coupon_to_item_std  F_coupon_to_item_quantile  \n",
       "0              5.671542                       14.0  \n",
       "1              6.097201                        6.0  \n",
       "2              9.525554                       12.0  \n",
       "3              4.604267                        4.0  \n",
       "4              2.351349                        2.0  \n",
       "\n",
       "[5 rows x 86 columns]"
      ]
     },
     "execution_count": 58,
     "metadata": {},
     "output_type": "execute_result"
    }
   ],
   "source": [
    "trans.columns = ['F_' + '_'.join(col).strip() for col in trans.columns.values]\n",
    "trans.reset_index(inplace=True)\n",
    "trans.head()"
   ]
  },
  {
   "cell_type": "code",
   "execution_count": 59,
   "metadata": {
    "colab": {
     "base_uri": "https://localhost:8080/",
     "height": 34
    },
    "colab_type": "code",
    "id": "UWkTqS5ETfz9",
    "outputId": "4e479d30-46dd-477b-8492-758666a808e2"
   },
   "outputs": [
    {
     "data": {
      "text/plain": [
       "(1582, 86)"
      ]
     },
     "execution_count": 59,
     "metadata": {},
     "output_type": "execute_result"
    }
   ],
   "source": [
    "trans.shape"
   ]
  },
  {
   "cell_type": "markdown",
   "metadata": {
    "colab_type": "text",
    "id": "ppjX7XZdYAZQ"
   },
   "source": [
    "#### **Merging Train Data with Trans Data**"
   ]
  },
  {
   "cell_type": "markdown",
   "metadata": {
    "colab_type": "text",
    "id": "-OUzFqnDYHjk"
   },
   "source": [
    "- We are **merging train** data with **trans** data on `customer_id`, performing a **left** join."
   ]
  },
  {
   "cell_type": "markdown",
   "metadata": {},
   "source": [
    "# H"
   ]
  },
  {
   "cell_type": "code",
   "execution_count": 64,
   "metadata": {
    "colab": {},
    "colab_type": "code",
    "id": "oL4ZVsl3ThjF"
   },
   "outputs": [],
   "source": [
    "df = df.merge(trans, on=['customer_id'], how='left')"
   ]
  },
  {
   "cell_type": "markdown",
   "metadata": {},
   "source": [
    "#### Including Customer Demographics"
   ]
  },
  {
   "cell_type": "markdown",
   "metadata": {},
   "source": [
    "Replacing the missing values:\n",
    "1. Marital Status might be missing not at random: replacing with a fixed value 'other'\n",
    "2. Number of Children might also be missing not at random: replacing with fixed value 0"
   ]
  },
  {
   "cell_type": "markdown",
   "metadata": {},
   "source": [
    "# I"
   ]
  },
  {
   "cell_type": "code",
   "execution_count": 60,
   "metadata": {},
   "outputs": [],
   "source": [
    "customer_demographics['marital_status'].replace(np.nan, 'Other', inplace=True)\n",
    "customer_demographics['no_of_children'].replace(np.nan, 0, inplace=True)"
   ]
  },
  {
   "cell_type": "code",
   "execution_count": 61,
   "metadata": {},
   "outputs": [],
   "source": [
    "df = df.merge(customer_demographics, on=['customer_id'], how='left')"
   ]
  },
  {
   "cell_type": "markdown",
   "metadata": {},
   "source": [
    "#### Final TRAIN dataset:"
   ]
  },
  {
   "cell_type": "code",
   "execution_count": 65,
   "metadata": {
    "colab": {},
    "colab_type": "code",
    "id": "iGwXo2oSTjVO"
   },
   "outputs": [],
   "source": [
    "df['campaign_type'] = df['campaign_type'].astype('category')"
   ]
  },
  {
   "cell_type": "code",
   "execution_count": 66,
   "metadata": {
    "colab": {
     "base_uri": "https://localhost:8080/",
     "height": 1000
    },
    "colab_type": "code",
    "id": "UwwAcpiITkxP",
    "outputId": "a33b4fd3-3e82-4155-b035-ec8f3148fdab"
   },
   "outputs": [
    {
     "name": "stdout",
     "output_type": "stream",
     "text": [
      "<class 'pandas.core.frame.DataFrame'>\n",
      "Int64Index: 78369 entries, 0 to 78368\n",
      "Columns: 102 entries, id to F_coupon_to_item_quantile\n",
      "dtypes: category(1), datetime64[ns](2), float64(59), int64(36), object(4)\n",
      "memory usage: 61.1+ MB\n"
     ]
    }
   ],
   "source": [
    "df.info()"
   ]
  },
  {
   "cell_type": "markdown",
   "metadata": {
    "colab_type": "text",
    "id": "G3MA-OfFYfPK"
   },
   "source": [
    "- We have a **final** dataset created by **merging multiple datasets**, and consisting of numerous **original** and **new** features.\n",
    "\n",
    "- We can use this dataset to **train** a **ML model** and make predictions.\n",
    "\n",
    "- The `redemption_status` column is the **target** variable.\n",
    "\n",
    "- We **didn't merge** the **customer_demographics** data into our final dataframe because it had many **null** values.\n",
    "  \n",
    "  - You can **experiment** with **merging** the **customer_demographics** data into the final dataframe as well.\n",
    "\n",
    "  - But, first **fill** in all the **null** values in that dataset."
   ]
  }
 ],
 "metadata": {
  "colab": {
   "collapsed_sections": [],
   "name": "Feature Engineering.ipynb",
   "provenance": [],
   "toc_visible": true
  },
  "kernelspec": {
   "display_name": "Python 3",
   "language": "python",
   "name": "python3"
  },
  "language_info": {
   "codemirror_mode": {
    "name": "ipython",
    "version": 3
   },
   "file_extension": ".py",
   "mimetype": "text/x-python",
   "name": "python",
   "nbconvert_exporter": "python",
   "pygments_lexer": "ipython3",
   "version": "3.7.4"
  }
 },
 "nbformat": 4,
 "nbformat_minor": 1
}
