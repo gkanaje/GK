{
 "cells": [
  {
   "cell_type": "markdown",
   "metadata": {},
   "source": [
    "## Policy Lapse Prediction\n",
    "## Data used for analysis is based on Integral P&C Admin System"
   ]
  },
  {
   "cell_type": "markdown",
   "metadata": {},
   "source": [
    "### The SQL query in below cells will retreive data based on database credentials provide. Right now these credentials have been left empty for security reasons. Please enter relevant details before running this notebook further."
   ]
  },
  {
   "cell_type": "code",
   "execution_count": 1,
   "metadata": {},
   "outputs": [
    {
     "name": "stderr",
     "output_type": "stream",
     "text": [
      "C:\\Users\\tbhardwaj2\\AppData\\Roaming\\Python\\Python36\\site-packages\\sklearn\\externals\\joblib\\__init__.py:15: FutureWarning: sklearn.externals.joblib is deprecated in 0.21 and will be removed in 0.23. Please import this functionality directly from joblib, which can be installed with: pip install joblib. If this warning is raised when loading pickled models, you may need to re-serialize those models with scikit-learn 0.21+.\n",
      "  warnings.warn(msg, category=FutureWarning)\n"
     ]
    }
   ],
   "source": [
    "# Import Packages\n",
    "import numpy as np\n",
    "import pandas as pd\n",
    "import pyodbc\n",
    "\n",
    "# For Graphics\n",
    "import matplotlib as matplotlib\n",
    "import matplotlib.pyplot as plt\n",
    "import seaborn as sns\n",
    "\n",
    "# For splitting data into test and train subsets\n",
    "from sklearn.model_selection import train_test_split, RepeatedStratifiedKFold, GridSearchCV\n",
    "\n",
    "# For logistic regression\n",
    "from sklearn.linear_model import LogisticRegression\n",
    "\n",
    "# For saving the model\n",
    "from sklearn.externals import joblib \n",
    "\n",
    "# For Confusion Matrix\n",
    "from sklearn import metrics\n",
    "\n",
    "# For ROC Curve\n",
    "from sklearn.metrics import roc_auc_score, roc_curve\n",
    "\n",
    "# For Normalization\n",
    "from sklearn.preprocessing import MinMaxScaler, StandardScaler\n",
    "\n",
    "# For Feature Selection\n",
    "from sklearn.feature_selection import chi2, SelectKBest\n",
    "\n",
    "# Settings to view all columns and rows\n",
    "pd.set_option('display.max_rows', 1000)\n",
    "pd.set_option('display.max_columns', 1000)"
   ]
  },
  {
   "cell_type": "markdown",
   "metadata": {},
   "source": [
    "## Import Data"
   ]
  },
  {
   "cell_type": "code",
   "execution_count": 2,
   "metadata": {},
   "outputs": [],
   "source": [
    "# Enter ip address and port number of the system where the database resides.\n",
    "server   = *******\n",
    "database = *******\n",
    "username = *******\n",
    "password = *******"
   ]
  },
  {
   "cell_type": "code",
   "execution_count": 3,
   "metadata": {},
   "outputs": [],
   "source": [
    "# Add appropriate driver name\n",
    "cnxn = pyodbc.connect('DRIVER={SQL Server};SERVER='+server+';DATABASE='+database+';UID='+username+';PWD='+ password)\n",
    "cursor = cnxn.cursor()"
   ]
  },
  {
   "cell_type": "code",
   "execution_count": 4,
   "metadata": {},
   "outputs": [],
   "source": [
    "# Run Query\n",
    "query = '''\n",
    "select \n",
    "case\n",
    "when\n",
    "clnt.clttype = 'C'\n",
    "then\n",
    "'corporate_client'\n",
    "when\n",
    "clnt.clttype = 'P'\n",
    "then\n",
    "'personal_client'\n",
    "end as 'client_type',\n",
    "rtrim(t3582.longdesc) as 'client_sex',\n",
    "rtrim(t3645ctrycode.longdesc) as 'client_country',\n",
    "case\n",
    "when\n",
    "clnt.cltpcode = ''\n",
    "then\n",
    "'Unknown'\n",
    "else\n",
    "clnt.cltpcode\n",
    "end as 'Client_Postal_Code', \n",
    "case \n",
    "when\n",
    "clnt.occpcode = ''\n",
    "then\n",
    "'Unknown'\n",
    "else\n",
    "t3644.longdesc\n",
    "end as 'client_occupation', \n",
    "case \n",
    "when \n",
    "clnt.cltdob <> 99999999\n",
    "then\n",
    "(CONVERT(int,CONVERT(char(8),getdate(),112))-CONVERT(char(8),clnt.cltdob,112))/10000\n",
    "else\n",
    "0\n",
    "end\n",
    "as 'Client_Age',\n",
    "case \n",
    "when\n",
    "clnt.marryd = ''\n",
    "then\n",
    "'Unknown'\n",
    "else \n",
    "rtrim(t3571.longdesc)\n",
    "end as 'client_marital_status',\n",
    "case\n",
    "when \n",
    "clnt.natlty = ''\n",
    "then\n",
    "'Unknown'\n",
    "else\n",
    "rtrim(t3645ctrycode.longdesc) \n",
    "end as 'client_nationality',\n",
    "chdr.chdrnum as 'policy_number',\n",
    "rtrim(t3623.longdesc) as 'policy_status', \n",
    "rtrim(t3681.longdesc) as 'policy_contract_type', \n",
    "rtrim(t4629.longdesc) as 'policy_renewal_type',\n",
    "chdr.cownnum as 'policy_owner_number',\n",
    "rtrim(t3625.longdesc) as 'policy_payment_plan',\n",
    "rtrim(t3590.longdesc) as 'policy_billing_frequency',\n",
    "rtrim(t3620.longdesc) as 'policy_billing_channel',\n",
    "rtrim(t3594.longdesc) as 'policy_collection_channel',\n",
    "chdr.nofrisks as 'number_of_risks',\n",
    "rtrim(t3595.longdesc) as 'policy_territory',\n",
    "case \n",
    "when\n",
    "chdr.stcb = ''\n",
    "then\n",
    "'Unknown'\n",
    "else\n",
    "rtrim(t3596.longdesc)\n",
    "end as 'policy_source_of_business',\n",
    "case \n",
    "when\n",
    "chdr.stcc = ''\n",
    "then\n",
    "'Unknown'\n",
    "else\n",
    "rtrim(t8100.longdesc)\n",
    "end as 'policy_major_class',\n",
    "case \n",
    "when\n",
    "chdr.stcd = ''\n",
    "then\n",
    "'Unknown'\n",
    "else\n",
    "isnull(rtrim(tr872.longdesc),'Unknown')\n",
    "end as 'policy_country',\n",
    "case \n",
    "when\n",
    "chdr.stce = ''\n",
    "then\n",
    "'Unknown'\n",
    "else\n",
    "rtrim(t3599.longdesc)\n",
    "end as 'policy_distribution_channel',\n",
    "chdr.zrenno as 'policy_renewal_number',\n",
    "chdr.zendno as 'policy_endorsement_number', \n",
    "case \n",
    "when\n",
    "chdr.zcomtyp = ''\n",
    "then\n",
    "'Unknown'\n",
    "else\n",
    "rtrim(th868.longdesc)\n",
    "end as 'policy_commission_type',\n",
    "case \n",
    "when\n",
    "chdr.jacket = ''\n",
    "then\n",
    "'Unknown'\n",
    "else\n",
    "rtrim(t4685.longdesc)\n",
    "end as 'policy_jacket_type',\n",
    "case \n",
    "when\n",
    "chdr.zpaymode = ''\n",
    "then\n",
    "'Unknown'\n",
    "else\n",
    "rtrim(tr880.longdesc)\n",
    "end as 'policy_payment_mode',\n",
    "case \n",
    "when\n",
    "chdr.rnldurn = ''\n",
    "then\n",
    "'Unknown'\n",
    "else\n",
    "rtrim(t4627.longdesc)\n",
    "end as 'policy_renewal_duration',\n",
    "isnull(risk.rsktyp,'N/A') as 'policy_risk_attached',\n",
    "isnull(risk.totsi,0) as 'risk_sum_insured',\n",
    "isnull(risk.totpre,0) as 'risk_premium',\n",
    "isnull(claim.number_of_claims,0) as 'number_of_claims',\n",
    "case\n",
    "when \n",
    "chdr.statcode = 'LA'\n",
    "then\n",
    "abs(datediff(day,convert(datetime,(convert(char(8), chdr.occdate))),convert(datetime,(convert(char(8), chdr.statdate)))) )\n",
    "else\n",
    "0\n",
    "end as 'lapsed_after_N_days_from_date_of_purchase',\n",
    "case\n",
    "when \n",
    "chdr.statcode = 'LA'\n",
    "then\n",
    "abs(datediff(day,convert(datetime,(convert(char(8), chdr.crdate))),convert(datetime,(convert(char(8), chdr.statdate)))) )\n",
    "else\n",
    "0\n",
    "end as 'lapsed_N_days_before_expiry_date',\n",
    "case\n",
    "when\n",
    "chdr.statcode = 'LA' and lastest_claim.clameff <> null\n",
    "then\n",
    "abs(datediff(day,convert(datetime,(convert(char(8), lastest_claim.clameff))),convert(datetime,(convert(char(8), chdr.statdate)))) )\n",
    "else\n",
    "0\n",
    "end as 'N_days_claim_raised_before_lapse',\n",
    "\n",
    "case\n",
    "when\n",
    "chdr.statcode = 'LA' \n",
    "then\n",
    "abs(datediff(day,convert(datetime,(convert(char(8), chdr.billcd))),convert(datetime,(convert(char(8), chdr.statdate)))) )\n",
    "else\n",
    "0\n",
    "end as 'lapsed_N_days_before_next_billing',\n",
    "case\n",
    "when \n",
    "chdr.stcc = 'VEH'\n",
    "then\n",
    "'motor'\n",
    "else\n",
    "'non-motor'\n",
    "end as 'classification',\n",
    "case\n",
    "when\n",
    "chdr.statcode = 'LA'\n",
    "then \n",
    "1\n",
    "else\n",
    "0\n",
    "end as 'LAPSE_INDICATOR'\n",
    "from\n",
    "(\n",
    "select chdr01.chdrnum, chdr01.statcode, chdr01.cnttype, chdr01.statreasn, chdr01.rnltype, chdr01.rnlnots, chdr01.rnlnotto, chdr01.statdate, chdr01.occdate,\n",
    "chdr01.rnldurn, chdr01.cownnum, chdr01.payplan, chdr01.billfreq, chdr01.billchnl, chdr01.collchnl, chdr01.srcebus, chdr01.nofrisks, chdr01.stca, \n",
    "chdr01.stcb, chdr01.stcc, chdr01.stcd, chdr01.stce, chdr01.zrenno, chdr01.zendno, chdr01.zcomtyp, chdr01.tranno, chdr01.tranlused, chdr01.jacket,\n",
    "chdr01.billcd, chdr01.zpaymode, chdr01.ccdate, chdr01.crdate\n",
    "from \n",
    "(select unique_number, chdrnum, statcode, cnttype, statreasn, rnltype, rnlnots, rnlnotto, statdate, occdate, rnldurn, cownnum, payplan, billfreq, \n",
    "billchnl, collchnl, srcebus, nofrisks, stca, stcb, stcc, stcd, stce, zrenno, zendno, zcomtyp, tranno, tranlused, jacket, billcd, zpaymode,ccdate, crdate\n",
    "from vm1dta.chdrpf where servunit = 'FG' and statcode in ('IF', 'LA', 'FR', 'SR') )chdr01 \n",
    "inner join \n",
    "(select servunit, chdrnum, max(unique_number) as max_unique_number from vm1dta.chdrpf  where servunit = 'FG' and statcode in ('IF', 'LA', 'FR', 'SR')\n",
    "group by servunit, chdrnum)chdr02\n",
    "on chdr02.chdrnum = chdr01.chdrnum and chdr02.max_unique_number = chdr01.unique_number\n",
    ") chdr\n",
    "inner join\n",
    "(select clttype, clntnum, cltsex, ctrycode, cltpcode, occpcode, cltdob, marryd, natlty from vm1dta.clntpf where validflag = '1' and cltind = 'C'\n",
    "and cltstat = 'AC') clnt\n",
    "on clnt.clntnum = chdr.cownnum\n",
    "left outer join \n",
    "(select chdrnum, count(distinct claim) as number_of_claims from vm1dta.clampf group by chdrnum)claim\n",
    "on claim.chdrnum = chdr.chdrnum\n",
    "left outer join \n",
    "(select clam01.chdrnum, clam01.claim, clam01.clameff, clam01.rsktyp, clam01.balo \n",
    "from\n",
    "(select unique_number, chdrnum, claim, clameff, rsktyp, balo  from vm1dta.clampf where validflag = '1')   clam01 \n",
    "inner join \n",
    "(select max(unique_number) as latest_claim_tx, chdrnum  from vm1dta.clampf group by chdrnum) clam02 \n",
    "on clam02.latest_claim_tx = clam01.unique_number)lastest_claim\n",
    "on lastest_claim.chdrnum = chdr.chdrnum\n",
    "\n",
    "\n",
    "left outer join \n",
    "(select descitem, longdesc from vm1dta.descpf where language = 'E' and descpfx = 'IT' and desccoy = '9' and desctabl = 'T3582')t3582\n",
    "on t3582.descitem = (case when clnt.cltsex = '' then 'U' else clnt.cltsex end)\n",
    "left outer join \n",
    "(select descitem, longdesc from vm1dta.descpf where language = 'E' and descpfx = 'IT' and desccoy = '9' and desctabl = 'T3645')t3645ctrycode\n",
    "on t3645ctrycode.descitem = clnt.ctrycode\n",
    "left outer join \n",
    "(select descitem, longdesc from vm1dta.descpf where language = 'E' and descpfx = 'IT' and desccoy = '9' and desctabl = 'T3644')t3644\n",
    "on t3644.descitem = clnt.occpcode\n",
    "left outer join \n",
    "(select descitem, longdesc from vm1dta.descpf where language = 'E' and descpfx = 'IT' and desccoy = '9' and desctabl = 'T3571')t3571\n",
    "on t3571.descitem = clnt.marryd\n",
    "left outer join \n",
    "(select descitem, longdesc from vm1dta.descpf where language = 'E' and descpfx = 'IT' and desccoy = '9' and desctabl = 'T3645')t3645natlty\n",
    "on t3645natlty.descitem = clnt.natlty\n",
    "left outer join \n",
    "(select descitem, longdesc from vm1dta.descpf where language = 'E' and descpfx = 'IT' and desccoy = '1' and desctabl = 'T3623')t3623\n",
    "on t3623.descitem = chdr.statcode\n",
    "left outer join \n",
    "(select descitem, longdesc from vm1dta.descpf where language = 'E' and descpfx = 'IT' and desccoy = '1' and desctabl = 'T3681')t3681\n",
    "on t3681.descitem = chdr.cnttype\n",
    "left outer join \n",
    "(select descitem, longdesc from vm1dta.descpf where language = 'E' and descpfx = 'IT' and desccoy = '1' and desctabl = 'T4629')t4629\n",
    "on t4629.descitem = chdr.rnltype\n",
    "left outer join \n",
    "(select descitem, longdesc from vm1dta.descpf where language = 'E' and descpfx = 'IT' and desccoy = '1' and desctabl = 'T3625')t3625\n",
    "on t3625.descitem = chdr.payplan\n",
    "left outer join \n",
    "(select descitem, longdesc from vm1dta.descpf where language = 'E' and descpfx = 'IT' and desccoy = '1' and desctabl = 'T3590')t3590\n",
    "on t3590.descitem = chdr.billfreq\n",
    "left outer join \n",
    "(select descitem, longdesc from vm1dta.descpf where language = 'E' and descpfx = 'IT' and desccoy = '1' and desctabl = 'T3620')t3620\n",
    "on t3620.descitem = chdr.billchnl\n",
    "left outer join \n",
    "(select descitem, longdesc from vm1dta.descpf where language = 'E' and descpfx = 'IT' and desccoy = '1' and desctabl = 'T3594')t3594\n",
    "on t3594.descitem = chdr.collchnl\n",
    "left outer join \n",
    "(select descitem, longdesc from vm1dta.descpf where language = 'E' and descpfx = 'IT' and desccoy = '1' and desctabl = 'T3596')t3596\n",
    "on t3596.descitem = chdr.stcb\n",
    "left outer join \n",
    "(select descitem, longdesc from vm1dta.descpf where language = 'E' and descpfx = 'IT' and desccoy = '1' and desctabl = 'T3595')t3595\n",
    "on t3595.descitem = chdr.stca\n",
    "left outer join \n",
    "(select descitem, longdesc from vm1dta.descpf where language = 'E' and descpfx = 'IT' and desccoy = '1' and desctabl = 'T8100')t8100\n",
    "on t8100.descitem = chdr.stcc\n",
    "left outer join \n",
    "(select descitem, longdesc from vm1dta.descpf where language = 'E' and descpfx = 'IT' and desccoy = '1' and desctabl = 'T3599')t3599\n",
    "on t3599.descitem = chdr.stce\n",
    "left outer join \n",
    "(select descitem, longdesc from vm1dta.descpf where language = 'E' and descpfx = 'IT' and desccoy = '1' and desctabl = 'TR872')tr872\n",
    "on tr872.descitem = chdr.stcd\n",
    "left outer join \n",
    "(select descitem, longdesc from vm1dta.descpf where language = 'E' and descpfx = 'IT' and desccoy = '1' and desctabl = 'TH868')th868\n",
    "on th868.descitem = chdr.zcomtyp\n",
    "left outer join \n",
    "(select descitem, longdesc from vm1dta.descpf where language = 'E' and descpfx = 'IT' and desccoy = '1' and desctabl = 'T4685')t4685\n",
    "on t4685.descitem = chdr.jacket\n",
    "left outer join \n",
    "(select descitem, longdesc from vm1dta.descpf where language = 'E' and descpfx = 'IT' and desccoy = '1' and desctabl = 'TR880')tr880\n",
    "on tr880.descitem = chdr.zpaymode\n",
    "left outer join \n",
    "(select descitem, longdesc from vm1dta.descpf where language = 'E' and descpfx = 'IT' and desccoy = '1' and desctabl = 'T4627')t4627\n",
    "on t4627.descitem = chdr.rnldurn\n",
    "left outer join \n",
    "(select distinct chdrno, rsktyp, totsi,totpre, tranno from vm1dta.riskpf) risk\n",
    "on risk.chdrno = chdr.chdrnum and risk.tranno = chdr.tranno\n",
    "\n",
    "order by chdr.chdrnum\n",
    "'''"
   ]
  },
  {
   "cell_type": "code",
   "execution_count": 5,
   "metadata": {},
   "outputs": [],
   "source": [
    "# Read data\n",
    "df_orig = pd.read_sql(query,cnxn)\n",
    "\n",
    "# Close the cursor\n",
    "cursor.close() "
   ]
  },
  {
   "cell_type": "code",
   "execution_count": 6,
   "metadata": {},
   "outputs": [
    {
     "data": {
      "text/html": [
       "<div>\n",
       "<style scoped>\n",
       "    .dataframe tbody tr th:only-of-type {\n",
       "        vertical-align: middle;\n",
       "    }\n",
       "\n",
       "    .dataframe tbody tr th {\n",
       "        vertical-align: top;\n",
       "    }\n",
       "\n",
       "    .dataframe thead th {\n",
       "        text-align: right;\n",
       "    }\n",
       "</style>\n",
       "<table border=\"1\" class=\"dataframe\">\n",
       "  <thead>\n",
       "    <tr style=\"text-align: right;\">\n",
       "      <th></th>\n",
       "      <th>client_type</th>\n",
       "      <th>client_sex</th>\n",
       "      <th>client_country</th>\n",
       "      <th>Client_Postal_Code</th>\n",
       "      <th>client_occupation</th>\n",
       "      <th>Client_Age</th>\n",
       "      <th>client_marital_status</th>\n",
       "      <th>client_nationality</th>\n",
       "      <th>policy_number</th>\n",
       "      <th>policy_status</th>\n",
       "      <th>policy_contract_type</th>\n",
       "      <th>policy_renewal_type</th>\n",
       "      <th>policy_owner_number</th>\n",
       "      <th>policy_payment_plan</th>\n",
       "      <th>policy_billing_frequency</th>\n",
       "      <th>policy_billing_channel</th>\n",
       "      <th>policy_collection_channel</th>\n",
       "      <th>number_of_risks</th>\n",
       "      <th>policy_territory</th>\n",
       "      <th>policy_source_of_business</th>\n",
       "      <th>policy_major_class</th>\n",
       "      <th>policy_country</th>\n",
       "      <th>policy_distribution_channel</th>\n",
       "      <th>policy_renewal_number</th>\n",
       "      <th>policy_endorsement_number</th>\n",
       "      <th>policy_commission_type</th>\n",
       "      <th>policy_jacket_type</th>\n",
       "      <th>policy_payment_mode</th>\n",
       "      <th>policy_renewal_duration</th>\n",
       "      <th>policy_risk_attached</th>\n",
       "      <th>risk_sum_insured</th>\n",
       "      <th>risk_premium</th>\n",
       "      <th>number_of_claims</th>\n",
       "      <th>lapsed_after_N_days_from_date_of_purchase</th>\n",
       "      <th>lapsed_N_days_before_expiry_date</th>\n",
       "      <th>N_days_claim_raised_before_lapse</th>\n",
       "      <th>lapsed_N_days_before_next_billing</th>\n",
       "      <th>classification</th>\n",
       "      <th>LAPSE_INDICATOR</th>\n",
       "    </tr>\n",
       "  </thead>\n",
       "  <tbody>\n",
       "    <tr>\n",
       "      <td>0</td>\n",
       "      <td>personal_client</td>\n",
       "      <td>Female</td>\n",
       "      <td>Singapore</td>\n",
       "      <td>Unknown</td>\n",
       "      <td>Unknown</td>\n",
       "      <td>31</td>\n",
       "      <td>Single</td>\n",
       "      <td>Singapore</td>\n",
       "      <td>00001135</td>\n",
       "      <td>First Reminder</td>\n",
       "      <td>Hospital &amp; Surgical</td>\n",
       "      <td>Midnight Renewals</td>\n",
       "      <td>0001794</td>\n",
       "      <td>Direct Bill - No Instalment</td>\n",
       "      <td>Single Premium</td>\n",
       "      <td>Agent</td>\n",
       "      <td>Direct from Policyholder</td>\n",
       "      <td>1</td>\n",
       "      <td>LOCAL INSURANCE FUND</td>\n",
       "      <td>Brokers</td>\n",
       "      <td>Misc Accident - Major Class</td>\n",
       "      <td>Singapore</td>\n",
       "      <td>Unknown</td>\n",
       "      <td>0</td>\n",
       "      <td>0</td>\n",
       "      <td>Agent Net Commission</td>\n",
       "      <td>Standard Wording and Sleeve</td>\n",
       "      <td>Unknown</td>\n",
       "      <td>Twelve months</td>\n",
       "      <td>HOS</td>\n",
       "      <td>0</td>\n",
       "      <td>25000.00</td>\n",
       "      <td>0</td>\n",
       "      <td>0</td>\n",
       "      <td>0</td>\n",
       "      <td>0</td>\n",
       "      <td>0</td>\n",
       "      <td>non-motor</td>\n",
       "      <td>0</td>\n",
       "    </tr>\n",
       "    <tr>\n",
       "      <td>1</td>\n",
       "      <td>personal_client</td>\n",
       "      <td>Female</td>\n",
       "      <td>Singapore</td>\n",
       "      <td>Unknown</td>\n",
       "      <td>Unknown</td>\n",
       "      <td>31</td>\n",
       "      <td>Single</td>\n",
       "      <td>Singapore</td>\n",
       "      <td>00001137</td>\n",
       "      <td>First Reminder</td>\n",
       "      <td>Hospital &amp; Surgical</td>\n",
       "      <td>Midnight Renewals</td>\n",
       "      <td>0001794</td>\n",
       "      <td>Direct Bill - No Instalment</td>\n",
       "      <td>Single Premium</td>\n",
       "      <td>Agent</td>\n",
       "      <td>Direct from Policyholder</td>\n",
       "      <td>1</td>\n",
       "      <td>LOCAL INSURANCE FUND</td>\n",
       "      <td>Brokers</td>\n",
       "      <td>Misc Accident - Major Class</td>\n",
       "      <td>Singapore</td>\n",
       "      <td>Unknown</td>\n",
       "      <td>0</td>\n",
       "      <td>0</td>\n",
       "      <td>Agent Net Commission</td>\n",
       "      <td>Standard Wording and Sleeve</td>\n",
       "      <td>Unknown</td>\n",
       "      <td>Twelve months</td>\n",
       "      <td>HOS</td>\n",
       "      <td>0</td>\n",
       "      <td>25000.00</td>\n",
       "      <td>0</td>\n",
       "      <td>0</td>\n",
       "      <td>0</td>\n",
       "      <td>0</td>\n",
       "      <td>0</td>\n",
       "      <td>non-motor</td>\n",
       "      <td>0</td>\n",
       "    </tr>\n",
       "    <tr>\n",
       "      <td>2</td>\n",
       "      <td>corporate_client</td>\n",
       "      <td>Unknown</td>\n",
       "      <td>Singapore</td>\n",
       "      <td>Unknown</td>\n",
       "      <td>Unknown</td>\n",
       "      <td>0</td>\n",
       "      <td>Unknown</td>\n",
       "      <td>Unknown</td>\n",
       "      <td>00008460</td>\n",
       "      <td>In Force</td>\n",
       "      <td>Commercial Vehicle</td>\n",
       "      <td>Midnight Renewals</td>\n",
       "      <td>50081120</td>\n",
       "      <td>Direct Bill - No Instalment</td>\n",
       "      <td>Single Premium</td>\n",
       "      <td>Agent</td>\n",
       "      <td>Direct from Policyholder</td>\n",
       "      <td>1</td>\n",
       "      <td>LOCAL INSURANCE FUND</td>\n",
       "      <td>Brokers</td>\n",
       "      <td>Motor - Major Class</td>\n",
       "      <td>Singapore</td>\n",
       "      <td>Unknown</td>\n",
       "      <td>0</td>\n",
       "      <td>0</td>\n",
       "      <td>Gross Commission</td>\n",
       "      <td>Standard Wording and Sleeve</td>\n",
       "      <td>Unknown</td>\n",
       "      <td>Twelve months</td>\n",
       "      <td>VGC</td>\n",
       "      <td>210000</td>\n",
       "      <td>22768.54</td>\n",
       "      <td>0</td>\n",
       "      <td>0</td>\n",
       "      <td>0</td>\n",
       "      <td>0</td>\n",
       "      <td>0</td>\n",
       "      <td>motor</td>\n",
       "      <td>0</td>\n",
       "    </tr>\n",
       "    <tr>\n",
       "      <td>3</td>\n",
       "      <td>corporate_client</td>\n",
       "      <td>Unknown</td>\n",
       "      <td>India</td>\n",
       "      <td>62</td>\n",
       "      <td>Unknown</td>\n",
       "      <td>2</td>\n",
       "      <td>Unknown</td>\n",
       "      <td>Unknown</td>\n",
       "      <td>00008481</td>\n",
       "      <td>In Force</td>\n",
       "      <td>Commercial Vehicle</td>\n",
       "      <td>Midnight Renewals</td>\n",
       "      <td>50001118</td>\n",
       "      <td>Direct Bill - No Instalment</td>\n",
       "      <td>Single Premium</td>\n",
       "      <td>Agent</td>\n",
       "      <td>Direct from Policyholder</td>\n",
       "      <td>1</td>\n",
       "      <td>LOCAL INSURANCE FUND</td>\n",
       "      <td>Brokers</td>\n",
       "      <td>Motor - Major Class</td>\n",
       "      <td>Singapore</td>\n",
       "      <td>Unknown</td>\n",
       "      <td>0</td>\n",
       "      <td>0</td>\n",
       "      <td>Agent Net Commission</td>\n",
       "      <td>Standard Wording and Sleeve</td>\n",
       "      <td>Unknown</td>\n",
       "      <td>Twelve months</td>\n",
       "      <td>VGC</td>\n",
       "      <td>200000</td>\n",
       "      <td>2927.00</td>\n",
       "      <td>0</td>\n",
       "      <td>0</td>\n",
       "      <td>0</td>\n",
       "      <td>0</td>\n",
       "      <td>0</td>\n",
       "      <td>motor</td>\n",
       "      <td>0</td>\n",
       "    </tr>\n",
       "    <tr>\n",
       "      <td>4</td>\n",
       "      <td>corporate_client</td>\n",
       "      <td>Unknown</td>\n",
       "      <td>Singapore</td>\n",
       "      <td>Unknown</td>\n",
       "      <td>Unknown</td>\n",
       "      <td>0</td>\n",
       "      <td>Unknown</td>\n",
       "      <td>Unknown</td>\n",
       "      <td>35000001</td>\n",
       "      <td>In Force</td>\n",
       "      <td>Public Liability</td>\n",
       "      <td>Midnight Renewals</td>\n",
       "      <td>50002496</td>\n",
       "      <td>Direct Bill - No Instalment</td>\n",
       "      <td>Single Premium</td>\n",
       "      <td>Agent</td>\n",
       "      <td>Direct from Policyholder</td>\n",
       "      <td>1</td>\n",
       "      <td>LOCAL INSURANCE FUND</td>\n",
       "      <td>Brokers</td>\n",
       "      <td>Misc Accident - Major Class</td>\n",
       "      <td>Singapore</td>\n",
       "      <td>Unknown</td>\n",
       "      <td>0</td>\n",
       "      <td>0</td>\n",
       "      <td>Net Commission</td>\n",
       "      <td>Standard Wording and Sleeve</td>\n",
       "      <td>Unknown</td>\n",
       "      <td>Twelve months</td>\n",
       "      <td>LPL</td>\n",
       "      <td>0</td>\n",
       "      <td>10000.00</td>\n",
       "      <td>0</td>\n",
       "      <td>0</td>\n",
       "      <td>0</td>\n",
       "      <td>0</td>\n",
       "      <td>0</td>\n",
       "      <td>non-motor</td>\n",
       "      <td>0</td>\n",
       "    </tr>\n",
       "  </tbody>\n",
       "</table>\n",
       "</div>"
      ],
      "text/plain": [
       "        client_type client_sex client_country Client_Postal_Code  \\\n",
       "0   personal_client     Female      Singapore            Unknown   \n",
       "1   personal_client     Female      Singapore            Unknown   \n",
       "2  corporate_client    Unknown      Singapore            Unknown   \n",
       "3  corporate_client    Unknown          India         62           \n",
       "4  corporate_client    Unknown      Singapore            Unknown   \n",
       "\n",
       "  client_occupation  Client_Age client_marital_status client_nationality  \\\n",
       "0           Unknown          31                Single          Singapore   \n",
       "1           Unknown          31                Single          Singapore   \n",
       "2           Unknown           0               Unknown            Unknown   \n",
       "3           Unknown           2               Unknown            Unknown   \n",
       "4           Unknown           0               Unknown            Unknown   \n",
       "\n",
       "  policy_number   policy_status policy_contract_type policy_renewal_type  \\\n",
       "0      00001135  First Reminder  Hospital & Surgical   Midnight Renewals   \n",
       "1      00001137  First Reminder  Hospital & Surgical   Midnight Renewals   \n",
       "2      00008460        In Force   Commercial Vehicle   Midnight Renewals   \n",
       "3      00008481        In Force   Commercial Vehicle   Midnight Renewals   \n",
       "4      35000001        In Force     Public Liability   Midnight Renewals   \n",
       "\n",
       "  policy_owner_number          policy_payment_plan policy_billing_frequency  \\\n",
       "0            0001794   Direct Bill - No Instalment           Single Premium   \n",
       "1            0001794   Direct Bill - No Instalment           Single Premium   \n",
       "2            50081120  Direct Bill - No Instalment           Single Premium   \n",
       "3            50001118  Direct Bill - No Instalment           Single Premium   \n",
       "4            50002496  Direct Bill - No Instalment           Single Premium   \n",
       "\n",
       "  policy_billing_channel policy_collection_channel  number_of_risks  \\\n",
       "0                  Agent  Direct from Policyholder                1   \n",
       "1                  Agent  Direct from Policyholder                1   \n",
       "2                  Agent  Direct from Policyholder                1   \n",
       "3                  Agent  Direct from Policyholder                1   \n",
       "4                  Agent  Direct from Policyholder                1   \n",
       "\n",
       "       policy_territory policy_source_of_business  \\\n",
       "0  LOCAL INSURANCE FUND                   Brokers   \n",
       "1  LOCAL INSURANCE FUND                   Brokers   \n",
       "2  LOCAL INSURANCE FUND                   Brokers   \n",
       "3  LOCAL INSURANCE FUND                   Brokers   \n",
       "4  LOCAL INSURANCE FUND                   Brokers   \n",
       "\n",
       "            policy_major_class policy_country policy_distribution_channel  \\\n",
       "0  Misc Accident - Major Class      Singapore                     Unknown   \n",
       "1  Misc Accident - Major Class      Singapore                     Unknown   \n",
       "2          Motor - Major Class      Singapore                     Unknown   \n",
       "3          Motor - Major Class      Singapore                     Unknown   \n",
       "4  Misc Accident - Major Class      Singapore                     Unknown   \n",
       "\n",
       "   policy_renewal_number  policy_endorsement_number policy_commission_type  \\\n",
       "0                      0                          0   Agent Net Commission   \n",
       "1                      0                          0   Agent Net Commission   \n",
       "2                      0                          0       Gross Commission   \n",
       "3                      0                          0   Agent Net Commission   \n",
       "4                      0                          0         Net Commission   \n",
       "\n",
       "            policy_jacket_type policy_payment_mode policy_renewal_duration  \\\n",
       "0  Standard Wording and Sleeve             Unknown           Twelve months   \n",
       "1  Standard Wording and Sleeve             Unknown           Twelve months   \n",
       "2  Standard Wording and Sleeve             Unknown           Twelve months   \n",
       "3  Standard Wording and Sleeve             Unknown           Twelve months   \n",
       "4  Standard Wording and Sleeve             Unknown           Twelve months   \n",
       "\n",
       "  policy_risk_attached  risk_sum_insured  risk_premium  number_of_claims  \\\n",
       "0                  HOS                 0      25000.00                 0   \n",
       "1                  HOS                 0      25000.00                 0   \n",
       "2                  VGC            210000      22768.54                 0   \n",
       "3                  VGC            200000       2927.00                 0   \n",
       "4                  LPL                 0      10000.00                 0   \n",
       "\n",
       "   lapsed_after_N_days_from_date_of_purchase  \\\n",
       "0                                          0   \n",
       "1                                          0   \n",
       "2                                          0   \n",
       "3                                          0   \n",
       "4                                          0   \n",
       "\n",
       "   lapsed_N_days_before_expiry_date  N_days_claim_raised_before_lapse  \\\n",
       "0                                 0                                 0   \n",
       "1                                 0                                 0   \n",
       "2                                 0                                 0   \n",
       "3                                 0                                 0   \n",
       "4                                 0                                 0   \n",
       "\n",
       "   lapsed_N_days_before_next_billing classification  LAPSE_INDICATOR  \n",
       "0                                  0      non-motor                0  \n",
       "1                                  0      non-motor                0  \n",
       "2                                  0          motor                0  \n",
       "3                                  0          motor                0  \n",
       "4                                  0      non-motor                0  "
      ]
     },
     "execution_count": 6,
     "metadata": {},
     "output_type": "execute_result"
    }
   ],
   "source": [
    "# Check data sample\n",
    "df_orig.head()"
   ]
  },
  {
   "cell_type": "markdown",
   "metadata": {},
   "source": [
    "## Data Analysis & Visualization"
   ]
  },
  {
   "cell_type": "code",
   "execution_count": 7,
   "metadata": {},
   "outputs": [
    {
     "data": {
      "text/plain": [
       "(14152, 39)"
      ]
     },
     "execution_count": 7,
     "metadata": {},
     "output_type": "execute_result"
    }
   ],
   "source": [
    "# Check data shape\n",
    "df_orig.shape"
   ]
  },
  {
   "cell_type": "code",
   "execution_count": 8,
   "metadata": {},
   "outputs": [
    {
     "name": "stdout",
     "output_type": "stream",
     "text": [
      "<class 'pandas.core.frame.DataFrame'>\n",
      "RangeIndex: 14152 entries, 0 to 14151\n",
      "Data columns (total 39 columns):\n",
      "client_type                                  14152 non-null object\n",
      "client_sex                                   14152 non-null object\n",
      "client_country                               14152 non-null object\n",
      "Client_Postal_Code                           14152 non-null object\n",
      "client_occupation                            14152 non-null object\n",
      "Client_Age                                   14152 non-null int64\n",
      "client_marital_status                        14152 non-null object\n",
      "client_nationality                           14152 non-null object\n",
      "policy_number                                14152 non-null object\n",
      "policy_status                                14152 non-null object\n",
      "policy_contract_type                         14151 non-null object\n",
      "policy_renewal_type                          14152 non-null object\n",
      "policy_owner_number                          14152 non-null object\n",
      "policy_payment_plan                          14152 non-null object\n",
      "policy_billing_frequency                     14152 non-null object\n",
      "policy_billing_channel                       14152 non-null object\n",
      "policy_collection_channel                    14152 non-null object\n",
      "number_of_risks                              14152 non-null int64\n",
      "policy_territory                             14152 non-null object\n",
      "policy_source_of_business                    14152 non-null object\n",
      "policy_major_class                           13756 non-null object\n",
      "policy_country                               14152 non-null object\n",
      "policy_distribution_channel                  14152 non-null object\n",
      "policy_renewal_number                        14152 non-null int64\n",
      "policy_endorsement_number                    14152 non-null int64\n",
      "policy_commission_type                       14152 non-null object\n",
      "policy_jacket_type                           14152 non-null object\n",
      "policy_payment_mode                          14152 non-null object\n",
      "policy_renewal_duration                      14152 non-null object\n",
      "policy_risk_attached                         14152 non-null object\n",
      "risk_sum_insured                             14152 non-null int64\n",
      "risk_premium                                 14152 non-null float64\n",
      "number_of_claims                             14152 non-null int64\n",
      "lapsed_after_N_days_from_date_of_purchase    14152 non-null int64\n",
      "lapsed_N_days_before_expiry_date             14152 non-null int64\n",
      "N_days_claim_raised_before_lapse             14152 non-null int64\n",
      "lapsed_N_days_before_next_billing            14152 non-null int64\n",
      "classification                               14152 non-null object\n",
      "LAPSE_INDICATOR                              14152 non-null int64\n",
      "dtypes: float64(1), int64(11), object(27)\n",
      "memory usage: 4.2+ MB\n"
     ]
    }
   ],
   "source": [
    "# Check data attributes of the columns\n",
    "df_orig.info()"
   ]
  },
  {
   "cell_type": "code",
   "execution_count": 9,
   "metadata": {},
   "outputs": [
    {
     "data": {
      "text/plain": [
       "0    14053\n",
       "1       99\n",
       "Name: LAPSE_INDICATOR, dtype: int64"
      ]
     },
     "execution_count": 9,
     "metadata": {},
     "output_type": "execute_result"
    }
   ],
   "source": [
    "# View distribution of 'Lapse' Instances\n",
    "df_orig['LAPSE_INDICATOR'].value_counts()"
   ]
  },
  {
   "cell_type": "code",
   "execution_count": 10,
   "metadata": {},
   "outputs": [
    {
     "data": {
      "text/plain": [
       "client_type                                    0\n",
       "client_sex                                     0\n",
       "client_country                                 0\n",
       "Client_Postal_Code                             0\n",
       "client_occupation                              0\n",
       "Client_Age                                     0\n",
       "client_marital_status                          0\n",
       "client_nationality                             0\n",
       "policy_number                                  0\n",
       "policy_status                                  0\n",
       "policy_contract_type                           1\n",
       "policy_renewal_type                            0\n",
       "policy_owner_number                            0\n",
       "policy_payment_plan                            0\n",
       "policy_billing_frequency                       0\n",
       "policy_billing_channel                         0\n",
       "policy_collection_channel                      0\n",
       "number_of_risks                                0\n",
       "policy_territory                               0\n",
       "policy_source_of_business                      0\n",
       "policy_major_class                           396\n",
       "policy_country                                 0\n",
       "policy_distribution_channel                    0\n",
       "policy_renewal_number                          0\n",
       "policy_endorsement_number                      0\n",
       "policy_commission_type                         0\n",
       "policy_jacket_type                             0\n",
       "policy_payment_mode                            0\n",
       "policy_renewal_duration                        0\n",
       "policy_risk_attached                           0\n",
       "risk_sum_insured                               0\n",
       "risk_premium                                   0\n",
       "number_of_claims                               0\n",
       "lapsed_after_N_days_from_date_of_purchase      0\n",
       "lapsed_N_days_before_expiry_date               0\n",
       "N_days_claim_raised_before_lapse               0\n",
       "lapsed_N_days_before_next_billing              0\n",
       "classification                                 0\n",
       "LAPSE_INDICATOR                                0\n",
       "dtype: int64"
      ]
     },
     "execution_count": 10,
     "metadata": {},
     "output_type": "execute_result"
    }
   ],
   "source": [
    "# Check if there are any nulls\n",
    "df_orig.isnull().sum()"
   ]
  },
  {
   "cell_type": "code",
   "execution_count": 11,
   "metadata": {},
   "outputs": [
    {
     "name": "stderr",
     "output_type": "stream",
     "text": [
      "c:\\users\\tbhardwaj2\\appdata\\local\\programs\\python\\python36\\lib\\site-packages\\statsmodels\\nonparametric\\kde.py:487: RuntimeWarning: invalid value encountered in true_divide\n",
      "  binned = fast_linbin(X, a, b, gridsize) / (delta * nobs)\n",
      "c:\\users\\tbhardwaj2\\appdata\\local\\programs\\python\\python36\\lib\\site-packages\\statsmodels\\nonparametric\\kdetools.py:34: RuntimeWarning: invalid value encountered in double_scalars\n",
      "  FAC1 = 2*(np.pi*bw/RANGE)**2\n"
     ]
    },
    {
     "data": {
      "text/plain": [
       "<seaborn.axisgrid.FacetGrid at 0x16c5363c160>"
      ]
     },
     "execution_count": 11,
     "metadata": {},
     "output_type": "execute_result"
    },
    {
     "data": {
      "image/png": "[encoded data removed]",
      "text/plain": [
       "<Figure size 864x648 with 12 Axes>"
      ]
     },
     "metadata": {
      "needs_background": "light"
     },
     "output_type": "display_data"
    }
   ],
   "source": [
    "# Study distribution of Numerical Columns\n",
    "num = [f for f in df_orig.columns if df_orig.dtypes[f] != 'object']\n",
    "nd = pd.melt(df_orig, value_vars = num)\n",
    "n1 = sns.FacetGrid (nd, col='variable', col_wrap=4, sharex=False, sharey = False)\n",
    "n1 = n1.map(sns.distplot, 'value')\n",
    "n1"
   ]
  },
  {
   "cell_type": "code",
   "execution_count": 12,
   "metadata": {
    "scrolled": true
   },
   "outputs": [
    {
     "data": {
      "image/png": "[encoded data removed]",
      "text/plain": [
       "<Figure size 432x288 with 1 Axes>"
      ]
     },
     "metadata": {
      "needs_background": "light"
     },
     "output_type": "display_data"
    }
   ],
   "source": [
    "# Plot count values\n",
    "df_orig.LAPSE_INDICATOR.value_counts()\n",
    "sns.countplot(x = 'LAPSE_INDICATOR', data = df_orig, palette = 'hls')\n",
    "plt.show()"
   ]
  },
  {
   "cell_type": "markdown",
   "metadata": {},
   "source": [
    "## Data Treatment"
   ]
  },
  {
   "cell_type": "code",
   "execution_count": 13,
   "metadata": {},
   "outputs": [],
   "source": [
    "# Separate features into categorical and numerical category\n",
    "cat_vars = ['client_type','client_sex','Client_Postal_Code','client_country','client_occupation','client_marital_status',\n",
    "            'client_nationality','policy_status','policy_contract_type','policy_renewal_type',\n",
    "            'policy_payment_plan','policy_billing_frequency','policy_billing_channel',\n",
    "            'policy_collection_channel','policy_territory','policy_source_of_business','policy_major_class',\n",
    "            'policy_country','policy_distribution_channel','policy_renewal_number','policy_endorsement_number',\n",
    "            'policy_commission_type','policy_jacket_type','policy_payment_mode','policy_renewal_duration',\n",
    "            'policy_risk_attached','classification']\n",
    "\n",
    "num_vars = ['risk_sum_insured', 'risk_premium', 'number_of_claims','lapsed_after_N_days_from_date_of_purchase',\n",
    "           'lapsed_N_days_before_expiry_date','N_days_claim_raised_before_lapse','lapsed_N_days_before_next_billing']"
   ]
  },
  {
   "cell_type": "code",
   "execution_count": 14,
   "metadata": {},
   "outputs": [],
   "source": [
    "# Create a copy of dataframe\n",
    "df_work = df_orig.copy()"
   ]
  },
  {
   "cell_type": "code",
   "execution_count": 15,
   "metadata": {},
   "outputs": [],
   "source": [
    "# Convert to 'category' object type\n",
    "for var in cat_vars:\n",
    "    df_work[var] = df_work[var].astype('category')"
   ]
  },
  {
   "cell_type": "code",
   "execution_count": 16,
   "metadata": {},
   "outputs": [],
   "source": [
    "# Create Dummy Variables for categorical variables\n",
    "for var in cat_vars:\n",
    "    cat_list = 'var'+'_'+var\n",
    "    cat_list = pd.get_dummies(df_work[var], prefix=var)\n",
    "    dummy_data = df_work.join(cat_list)\n",
    "    df_work = dummy_data"
   ]
  },
  {
   "cell_type": "code",
   "execution_count": 17,
   "metadata": {},
   "outputs": [
    {
     "data": {
      "text/plain": [
       "(14152, 398)"
      ]
     },
     "execution_count": 17,
     "metadata": {},
     "output_type": "execute_result"
    }
   ],
   "source": [
    "# Check data shape after dummy encoding\n",
    "df_work.shape"
   ]
  },
  {
   "cell_type": "code",
   "execution_count": 18,
   "metadata": {},
   "outputs": [],
   "source": [
    "# Remove original columns for which dummy variables have been created\n",
    "vars_remove = ['client_type','client_sex','Client_Postal_Code','client_country','client_occupation','client_marital_status',\n",
    "               'client_nationality','policy_number','policy_status','policy_contract_type','policy_renewal_type',\n",
    "               'policy_owner_number','policy_payment_plan','policy_billing_frequency','policy_billing_channel',\n",
    "               'policy_collection_channel','policy_territory','policy_source_of_business','policy_major_class',\n",
    "               'policy_country','policy_distribution_channel','policy_renewal_number','policy_endorsement_number',\n",
    "               'policy_commission_type','policy_jacket_type','policy_payment_mode','policy_renewal_duration',\n",
    "               'policy_risk_attached','classification']\n",
    "\n",
    "for var in vars_remove:\n",
    "    df_work=df_work.drop(var, axis=1)"
   ]
  },
  {
   "cell_type": "code",
   "execution_count": 19,
   "metadata": {},
   "outputs": [],
   "source": [
    "# Normalize numerical columns\n",
    "scaler = MinMaxScaler()\n",
    "df_work['risk_sum_insured'] = scaler.fit_transform(df_work['risk_sum_insured'].values.reshape(-1,1))\n",
    "df_work['risk_premium'] = scaler.fit_transform(df_work['risk_premium'].values.reshape(-1,1))"
   ]
  },
  {
   "cell_type": "code",
   "execution_count": 20,
   "metadata": {},
   "outputs": [],
   "source": [
    "# Create separate dataset for feature and target columns\n",
    "x = df_work.drop('LAPSE_INDICATOR', axis=1)\n",
    "y = df_work['LAPSE_INDICATOR']"
   ]
  },
  {
   "cell_type": "markdown",
   "metadata": {},
   "source": [
    "## Feature Selection"
   ]
  },
  {
   "cell_type": "code",
   "execution_count": 21,
   "metadata": {},
   "outputs": [
    {
     "name": "stdout",
     "output_type": "stream",
     "text": [
      "                                         Specs         Score\n",
      "6             lapsed_N_days_before_expiry_date  1.200921e+07\n",
      "8            lapsed_N_days_before_next_billing  1.188941e+07\n",
      "5    lapsed_after_N_days_from_date_of_purchase  4.697251e+06\n",
      "68                        policy_status_Lapsed  1.405300e+04\n",
      "0                                   Client_Age  1.400529e+03\n",
      "103          policy_contract_type_Fire Takaful  9.823632e+02\n",
      "267                   policy_risk_attached_FIO  2.947023e+02\n",
      "219                    policy_renewal_number_1  1.539616e+02\n",
      "293                   policy_risk_attached_LPP  1.246215e+02\n",
      "4                             number_of_claims  7.380072e+01\n"
     ]
    }
   ],
   "source": [
    "bestfeatures=SelectKBest(score_func=chi2, k=10)\n",
    "fit=bestfeatures.fit(x,y)\n",
    "dfscores=pd.DataFrame(fit.scores_)\n",
    "dfcolumns=pd.DataFrame(x.columns)\n",
    "#concatenate two dataframes\n",
    "featureScores=pd.concat([dfcolumns,dfscores],axis=1)\n",
    "featureScores.columns=['Specs','Score'] #naming the dataframe columns\n",
    "print(featureScores.nlargest(10,'Score')) #print 10 best features\n"
   ]
  },
  {
   "cell_type": "code",
   "execution_count": 22,
   "metadata": {},
   "outputs": [],
   "source": [
    "# Get top features, feature 'policy_status_Lapsed' has been left intentionally\n",
    "top_features = ['lapsed_N_days_before_expiry_date', 'lapsed_N_days_before_next_billing', \n",
    "               'lapsed_after_N_days_from_date_of_purchase','Client_Age',\n",
    "               'policy_contract_type_Fire Takaful', 'policy_risk_attached_FIO', 'policy_renewal_number_1',\n",
    "               'policy_risk_attached_LPP','number_of_claims']"
   ]
  },
  {
   "cell_type": "code",
   "execution_count": 23,
   "metadata": {},
   "outputs": [],
   "source": [
    "# Create new dataset with only top features\n",
    "x01=x[top_features]\n",
    "y01=y"
   ]
  },
  {
   "cell_type": "code",
   "execution_count": 24,
   "metadata": {},
   "outputs": [],
   "source": [
    "# Perform Test/Train Split\n",
    "x01_train, x01_test, y01_train, y01_test=train_test_split(x01, y01, test_size=0.3,random_state=11)"
   ]
  },
  {
   "cell_type": "code",
   "execution_count": 25,
   "metadata": {},
   "outputs": [
    {
     "name": "stderr",
     "output_type": "stream",
     "text": [
      "C:\\Users\\tbhardwaj2\\AppData\\Roaming\\Python\\Python36\\site-packages\\sklearn\\utils\\deprecation.py:144: FutureWarning: The sklearn.neighbors.base module is  deprecated in version 0.22 and will be removed in version 0.24. The corresponding classes / functions should instead be imported from sklearn.neighbors. Anything that cannot be imported from sklearn.neighbors is now part of the private API.\n",
      "  warnings.warn(message, FutureWarning)\n",
      "C:\\Users\\tbhardwaj2\\AppData\\Roaming\\Python\\Python36\\site-packages\\sklearn\\utils\\deprecation.py:144: FutureWarning: The sklearn.ensemble.bagging module is  deprecated in version 0.22 and will be removed in version 0.24. The corresponding classes / functions should instead be imported from sklearn.ensemble. Anything that cannot be imported from sklearn.ensemble is now part of the private API.\n",
      "  warnings.warn(message, FutureWarning)\n",
      "C:\\Users\\tbhardwaj2\\AppData\\Roaming\\Python\\Python36\\site-packages\\sklearn\\utils\\deprecation.py:144: FutureWarning: The sklearn.ensemble.base module is  deprecated in version 0.22 and will be removed in version 0.24. The corresponding classes / functions should instead be imported from sklearn.ensemble. Anything that cannot be imported from sklearn.ensemble is now part of the private API.\n",
      "  warnings.warn(message, FutureWarning)\n",
      "C:\\Users\\tbhardwaj2\\AppData\\Roaming\\Python\\Python36\\site-packages\\sklearn\\utils\\deprecation.py:144: FutureWarning: The sklearn.ensemble.forest module is  deprecated in version 0.22 and will be removed in version 0.24. The corresponding classes / functions should instead be imported from sklearn.ensemble. Anything that cannot be imported from sklearn.ensemble is now part of the private API.\n",
      "  warnings.warn(message, FutureWarning)\n",
      "Using TensorFlow backend.\n",
      "C:\\Users\\tbhardwaj2\\AppData\\Roaming\\Python\\Python36\\site-packages\\sklearn\\utils\\deprecation.py:144: FutureWarning: The sklearn.utils.testing module is  deprecated in version 0.22 and will be removed in version 0.24. The corresponding classes / functions should instead be imported from sklearn.utils. Anything that cannot be imported from sklearn.utils is now part of the private API.\n",
      "  warnings.warn(message, FutureWarning)\n",
      "C:\\Users\\tbhardwaj2\\AppData\\Roaming\\Python\\Python36\\site-packages\\sklearn\\utils\\deprecation.py:144: FutureWarning: The sklearn.metrics.classification module is  deprecated in version 0.22 and will be removed in version 0.24. The corresponding classes / functions should instead be imported from sklearn.metrics. Anything that cannot be imported from sklearn.metrics is now part of the private API.\n",
      "  warnings.warn(message, FutureWarning)\n",
      "C:\\Users\\tbhardwaj2\\AppData\\Roaming\\Python\\Python36\\site-packages\\sklearn\\utils\\deprecation.py:87: FutureWarning: Function safe_indexing is deprecated; safe_indexing is deprecated in version 0.22 and will be removed in version 0.24.\n",
      "  warnings.warn(msg, category=FutureWarning)\n"
     ]
    },
    {
     "name": "stdout",
     "output_type": "stream",
     "text": [
      "length of oversampled data is  19674\n",
      "Number of non lapsed policies in oversampled data 9837\n",
      "Number of lapsed policies in oversampled data 9837\n",
      "Proportion of non lapsed policies in oversampled data is  0.5\n",
      "Proportion of lapsed policies in oversampled data is  0.5\n"
     ]
    }
   ],
   "source": [
    "# To handle class imbalance performing SMOTE\n",
    "\n",
    "from imblearn.over_sampling import SMOTE\n",
    "SMO = SMOTE(random_state=11)\n",
    "\n",
    "#X4_train, X4_test, Y4_train, Y4_test = train_test_split(X_train,Y_train, test_size=0.20)\n",
    "x01_train_smo,y01_train_smo = SMO.fit_sample(x01_train, y01_train)\n",
    "columns = x01_train.columns\n",
    "\n",
    "x01_train_smo = pd.DataFrame(data = x01_train_smo, columns = columns )\n",
    "y01_train_smo = pd.DataFrame(data = y01_train_smo, columns = ['LAPSE_INDICATOR'])\n",
    "\n",
    "# we can Check the numbers of our data\n",
    "print(\"length of oversampled data is \",len(x01_train_smo))\n",
    "print(\"Number of non lapsed policies in oversampled data\",len(y01_train_smo[y01_train_smo['LAPSE_INDICATOR']== 0 ]))\n",
    "print(\"Number of lapsed policies in oversampled data\",len(y01_train_smo[y01_train_smo['LAPSE_INDICATOR']== 1 ]))\n",
    "print(\"Proportion of non lapsed policies in oversampled data is \",len(y01_train_smo[y01_train_smo['LAPSE_INDICATOR']== 0])/len(x01_train_smo))\n",
    "print(\"Proportion of lapsed policies in oversampled data is \",len(y01_train_smo[y01_train_smo['LAPSE_INDICATOR']== 1 ])/len(x01_train_smo))"
   ]
  },
  {
   "cell_type": "markdown",
   "metadata": {},
   "source": [
    "## Model Application"
   ]
  },
  {
   "cell_type": "markdown",
   "metadata": {},
   "source": [
    "### Logistic Regression with StratifiedKFold with set of weights provided.  Also use Gridsearch to obtain optimal parameters. "
   ]
  },
  {
   "cell_type": "code",
   "execution_count": 26,
   "metadata": {},
   "outputs": [],
   "source": [
    "# Define grid\n",
    "C = np.logspace(0,5,10)\n",
    "param_grid = dict( C=C)\n",
    "\n",
    "# Model\n",
    "logreg=LogisticRegression(solver='lbfgs',max_iter=1000)\n",
    "\n",
    "# Define Evaluation Procedure\n",
    "cv=RepeatedStratifiedKFold(n_splits=10, n_repeats=3, random_state=11)\n",
    "\n",
    "# Define Grid Search\n",
    "grid=GridSearchCV(estimator=logreg, param_grid=param_grid, n_jobs=1, cv=cv, scoring='roc_auc')\n",
    "\n",
    "# Execute Grid Search\n",
    "grid_result=grid.fit(x01_train_smo, (y01_train_smo.values.ravel()))\n"
   ]
  },
  {
   "cell_type": "code",
   "execution_count": 27,
   "metadata": {},
   "outputs": [
    {
     "name": "stdout",
     "output_type": "stream",
     "text": [
      "Best: 1.000000 using {'C': 1.0}\n"
     ]
    }
   ],
   "source": [
    "# Print best model parameters\n",
    "print(\"Best: %f using %s\" % (grid_result.best_score_, grid_result.best_params_))"
   ]
  },
  {
   "cell_type": "code",
   "execution_count": 28,
   "metadata": {},
   "outputs": [
    {
     "data": {
      "text/plain": [
       "LogisticRegression(C=1.0, class_weight=None, dual=False, fit_intercept=True,\n",
       "                   intercept_scaling=1, l1_ratio=None, max_iter=1000,\n",
       "                   multi_class='auto', n_jobs=None, penalty='l2',\n",
       "                   random_state=None, solver='lbfgs', tol=0.0001, verbose=0,\n",
       "                   warm_start=False)"
      ]
     },
     "execution_count": 28,
     "metadata": {},
     "output_type": "execute_result"
    }
   ],
   "source": [
    "grid_result.best_estimator_"
   ]
  },
  {
   "cell_type": "code",
   "execution_count": 29,
   "metadata": {},
   "outputs": [],
   "source": [
    "# Saving the best model\n",
    "bestlogreg= LogisticRegression(C=1.0, class_weight=None, dual=False, fit_intercept=True,\n",
    "                   intercept_scaling=1, l1_ratio=None, max_iter=1000,\n",
    "                   multi_class='auto', n_jobs=None, penalty='l2',\n",
    "                   random_state=None, solver='lbfgs', tol=0.0001, verbose=0,\n",
    "                   warm_start=False)"
   ]
  },
  {
   "cell_type": "code",
   "execution_count": 30,
   "metadata": {},
   "outputs": [
    {
     "data": {
      "text/plain": [
       "LogisticRegression(C=1.0, class_weight=None, dual=False, fit_intercept=True,\n",
       "                   intercept_scaling=1, l1_ratio=None, max_iter=1000,\n",
       "                   multi_class='auto', n_jobs=None, penalty='l2',\n",
       "                   random_state=None, solver='lbfgs', tol=0.0001, verbose=0,\n",
       "                   warm_start=False)"
      ]
     },
     "execution_count": 30,
     "metadata": {},
     "output_type": "execute_result"
    }
   ],
   "source": [
    "# Fit the model on train data\n",
    "bestlogreg.fit(x01_train, y01_train)"
   ]
  },
  {
   "cell_type": "code",
   "execution_count": 31,
   "metadata": {},
   "outputs": [],
   "source": [
    "# Make Predictions\n",
    "y01_pred=bestlogreg.predict(x01_test)"
   ]
  },
  {
   "cell_type": "code",
   "execution_count": 32,
   "metadata": {},
   "outputs": [
    {
     "data": {
      "text/plain": [
       "array([[4216,    0],\n",
       "       [   0,   30]], dtype=int64)"
      ]
     },
     "execution_count": 32,
     "metadata": {},
     "output_type": "execute_result"
    }
   ],
   "source": [
    "# Make Confusion Matrix to compare results against actuals\n",
    "cnf_matrix = metrics.confusion_matrix(y01_test, y01_pred)\n",
    "cnf_matrix"
   ]
  },
  {
   "cell_type": "code",
   "execution_count": 33,
   "metadata": {},
   "outputs": [
    {
     "name": "stdout",
     "output_type": "stream",
     "text": [
      "Accuracy: 1.0\n",
      "Precision: 1.0\n",
      "Recall: 1.0\n"
     ]
    }
   ],
   "source": [
    "# Get Accuracy Scores\n",
    "print(\"Accuracy:\",metrics.accuracy_score(y01_test, y01_pred))\n",
    "print(\"Precision:\",metrics.precision_score(y01_test, y01_pred))\n",
    "print(\"Recall:\",metrics.recall_score(y01_test, y01_pred))"
   ]
  },
  {
   "cell_type": "code",
   "execution_count": 34,
   "metadata": {},
   "outputs": [
    {
     "data": {
      "image/png": "[encoded data removed]",
      "text/plain": [
       "<Figure size 432x288 with 1 Axes>"
      ]
     },
     "metadata": {
      "needs_background": "light"
     },
     "output_type": "display_data"
    }
   ],
   "source": [
    "# Print ROC AUC Curve\n",
    "\n",
    "logit_roc_auc = roc_auc_score(y01_test, bestlogreg.predict(x01_test))\n",
    "fpr, tpr, thresholds = roc_curve(y01_test, bestlogreg.predict_proba(x01_test)[:,1])\n",
    "plt.figure()\n",
    "plt.plot(fpr, tpr, label='Logistic Regression (area = %0.2f)' % logit_roc_auc)\n",
    "plt.plot([0, 1], [0, 1],'r--')\n",
    "plt.xlim([0.0, 1.0])\n",
    "plt.ylim([0.0, 1.05])\n",
    "plt.xlabel('False Positive Rate')\n",
    "plt.ylabel('True Positive Rate')\n",
    "plt.title('Receiver operating characteristic')\n",
    "plt.legend(loc=\"lower right\")\n",
    "plt.savefig('Log_ROC')\n",
    "plt.show()"
   ]
  },
  {
   "cell_type": "markdown",
   "metadata": {},
   "source": [
    "### Save the model as PMML File"
   ]
  },
  {
   "cell_type": "code",
   "execution_count": 35,
   "metadata": {},
   "outputs": [
    {
     "data": {
      "text/plain": [
       "['PnCPolicyLapseModel.pmml']"
      ]
     },
     "execution_count": 35,
     "metadata": {},
     "output_type": "execute_result"
    }
   ],
   "source": [
    "# Save the model as a pmml and use to make predictions in a file \n",
    "\n",
    "joblib.dump(bestlogreg, 'PnCPolicyLapseModel.pmml') "
   ]
  },
  {
   "cell_type": "markdown",
   "metadata": {},
   "source": [
    "### Run the model on entire dataset and save the output in a csv file"
   ]
  },
  {
   "cell_type": "code",
   "execution_count": 36,
   "metadata": {},
   "outputs": [],
   "source": [
    "# Copy the original data set\n",
    "df_test = df_orig.copy()"
   ]
  },
  {
   "cell_type": "code",
   "execution_count": 37,
   "metadata": {},
   "outputs": [],
   "source": [
    "# Separate features into categorical and numerical category\n",
    "cat_vars = ['client_type','client_sex','Client_Postal_Code','client_country','client_occupation','client_marital_status',\n",
    "            'client_nationality','policy_status','policy_contract_type','policy_renewal_type',\n",
    "            'policy_payment_plan','policy_billing_frequency','policy_billing_channel',\n",
    "            'policy_collection_channel','policy_territory','policy_source_of_business','policy_major_class',\n",
    "            'policy_country','policy_distribution_channel','policy_renewal_number','policy_endorsement_number',\n",
    "            'policy_commission_type','policy_jacket_type','policy_payment_mode','policy_renewal_duration',\n",
    "            'policy_risk_attached','classification']\n",
    "\n",
    "num_vars = ['risk_sum_insured', 'risk_premium', 'number_of_claims','lapsed_after_N_days_from_date_of_purchase',\n",
    "           'lapsed_N_days_before_expiry_date','N_days_claim_raised_before_lapse','lapsed_N_days_before_next_billing']"
   ]
  },
  {
   "cell_type": "code",
   "execution_count": 38,
   "metadata": {},
   "outputs": [],
   "source": [
    "# Convert to 'category' object type\n",
    "for var in cat_vars:\n",
    "    df_test[var] = df_test[var].astype('category')"
   ]
  },
  {
   "cell_type": "code",
   "execution_count": 39,
   "metadata": {},
   "outputs": [],
   "source": [
    "# Create Dummy Variables for categorical variables\n",
    "for var in cat_vars:\n",
    "    cat_list = 'var'+'_'+var\n",
    "    cat_list = pd.get_dummies(df_test[var], prefix=var)\n",
    "    dummy_data = df_test.join(cat_list)\n",
    "    df_test = dummy_data"
   ]
  },
  {
   "cell_type": "code",
   "execution_count": 40,
   "metadata": {},
   "outputs": [],
   "source": [
    "# Remove original columns for which dummy variables have been created\n",
    "vars_remove = ['client_type','client_sex','Client_Postal_Code','client_country','client_occupation','client_marital_status',\n",
    "               'client_nationality','policy_number','policy_status','policy_contract_type','policy_renewal_type',\n",
    "               'policy_owner_number','policy_payment_plan','policy_billing_frequency','policy_billing_channel',\n",
    "               'policy_collection_channel','policy_territory','policy_source_of_business','policy_major_class',\n",
    "               'policy_country','policy_distribution_channel','policy_renewal_number','policy_endorsement_number',\n",
    "               'policy_commission_type','policy_jacket_type','policy_payment_mode','policy_renewal_duration',\n",
    "               'policy_risk_attached','classification']\n",
    "\n",
    "for var in vars_remove:\n",
    "    df_test=df_test.drop(var, axis=1)"
   ]
  },
  {
   "cell_type": "code",
   "execution_count": 41,
   "metadata": {},
   "outputs": [],
   "source": [
    "# Get top features\n",
    "top_features = ['lapsed_N_days_before_expiry_date', 'lapsed_N_days_before_next_billing', \n",
    "               'lapsed_after_N_days_from_date_of_purchase','Client_Age',\n",
    "               'policy_contract_type_Fire Takaful', 'policy_risk_attached_FIO', 'policy_renewal_number_1',\n",
    "               'policy_risk_attached_LPP','number_of_claims']"
   ]
  },
  {
   "cell_type": "code",
   "execution_count": 42,
   "metadata": {},
   "outputs": [],
   "source": [
    "# Retain only top features in the datframe\n",
    "df_test=df_test[top_features]"
   ]
  },
  {
   "cell_type": "code",
   "execution_count": 43,
   "metadata": {},
   "outputs": [],
   "source": [
    "# Make predictions\n",
    "prediction_class = bestlogreg.predict(df_test)\n",
    "prediction_prob = bestlogreg.predict_proba(df_test)\n",
    "\n",
    "# Get Individual Probabilities\n",
    "not_lapse, lapse = (prediction_prob).T"
   ]
  },
  {
   "cell_type": "code",
   "execution_count": 44,
   "metadata": {},
   "outputs": [],
   "source": [
    "# Save original dataframe in a separate dataframe\n",
    "df_results = df_orig.copy()"
   ]
  },
  {
   "cell_type": "code",
   "execution_count": 45,
   "metadata": {},
   "outputs": [],
   "source": [
    "# Remove target column\n",
    "df_results=df_results.drop('LAPSE_INDICATOR',axis=1)"
   ]
  },
  {
   "cell_type": "code",
   "execution_count": 47,
   "metadata": {},
   "outputs": [],
   "source": [
    "# On a policy multiple risks could be attached. Due to this in the df_results dataframe we end up having\n",
    "# multiple rows for a policy with same predictions and probability values. This will cause issue when the output\n",
    "# csv will be used for visualization as csv will have multiple rows for a policy.\n",
    "# Hence columns pertaining to risk details are being dropped here and only one unique row will be retained for a policy by \n",
    "# executing drop_duplicates command in subsequent cells\n",
    "\n",
    "df_results=df_results.drop('policy_risk_attached',axis=1)\n",
    "df_results=df_results.drop('risk_sum_insured',axis=1)\n",
    "df_results=df_results.drop('risk_premium',axis=1)\n"
   ]
  },
  {
   "cell_type": "code",
   "execution_count": 48,
   "metadata": {},
   "outputs": [],
   "source": [
    "# Replace target column with predicted value of '0' or '1' along with respective probablities\n",
    "df_results['notlapse'] = not_lapse\n",
    "df_results['lapse'] = lapse\n",
    "df_results['lapse_prediction_class'] = prediction_class"
   ]
  },
  {
   "cell_type": "markdown",
   "metadata": {},
   "source": [
    "### Though care has been taken in testing the query output, still double check for duplicate rows for a policy in the csv file"
   ]
  },
  {
   "cell_type": "code",
   "execution_count": 49,
   "metadata": {},
   "outputs": [],
   "source": [
    "# Drop Duplicate rows, since probability calculations are done using risk details also. So there were same cases wherein \n",
    "# for a policy all columns (after dropping risk details in above cell) are same except the probability values calculated.\n",
    "# which were different by a small margin. So with 'subset' parameter we will delete rows having same policy_number value\n",
    "# and retaining only the first instance\n",
    "\n",
    "df_results.drop_duplicates(subset ='policy_number', keep='first',inplace=True) "
   ]
  },
  {
   "cell_type": "code",
   "execution_count": 50,
   "metadata": {},
   "outputs": [],
   "source": [
    "df_results.to_csv('EX_SOURCE_POLICY_LAPSE_PNC.csv', index = None, header=True) "
   ]
  },
  {
   "cell_type": "code",
   "execution_count": null,
   "metadata": {},
   "outputs": [],
   "source": []
  }
 ],
 "metadata": {
  "kernelspec": {
   "display_name": "Python 3",
   "language": "python",
   "name": "python3"
  },
  "language_info": {
   "codemirror_mode": {
    "name": "ipython",
    "version": 3
   },
   "file_extension": ".py",
   "mimetype": "text/x-python",
   "name": "python",
   "nbconvert_exporter": "python",
   "pygments_lexer": "ipython3",
   "version": "3.6.8"
  }
 },
 "nbformat": 4,
 "nbformat_minor": 2
}
