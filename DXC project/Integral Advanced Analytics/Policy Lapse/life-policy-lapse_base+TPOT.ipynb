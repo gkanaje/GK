{
 "cells": [
  {
   "cell_type": "markdown",
   "metadata": {},
   "source": [
    "## Policy Lapse Prediction\n",
    "## Data used for analysis is based on Integral Life Admin System"
   ]
  },
  {
   "cell_type": "markdown",
   "metadata": {},
   "source": [
    "### The SQL query in below cells will retreive data based on database credentials provide. Right now these credentials have been left empty for security reasons. Please enter relevant details before running this notebook further."
   ]
  },
  {
   "cell_type": "code",
   "execution_count": 1,
   "metadata": {},
   "outputs": [
    {
     "name": "stderr",
     "output_type": "stream",
     "text": [
      "C:\\Users\\aaacharya\\AppData\\Local\\Continuum\\anaconda3\\lib\\site-packages\\sklearn\\externals\\joblib\\__init__.py:15: FutureWarning: sklearn.externals.joblib is deprecated in 0.21 and will be removed in 0.23. Please import this functionality directly from joblib, which can be installed with: pip install joblib. If this warning is raised when loading pickled models, you may need to re-serialize those models with scikit-learn 0.21+.\n",
      "  warnings.warn(msg, category=FutureWarning)\n"
     ]
    }
   ],
   "source": [
    "# Import Packages\n",
    "import numpy as np\n",
    "import pandas as pd\n",
    "import pyodbc\n",
    "\n",
    "# For Graphics\n",
    "import matplotlib as matplotlib\n",
    "import matplotlib.pyplot as plt\n",
    "import seaborn as sns\n",
    "\n",
    "# For splitting data into test and train subsets\n",
    "from sklearn.model_selection import train_test_split, RepeatedStratifiedKFold, GridSearchCV\n",
    "\n",
    "# For logistic regression\n",
    "from sklearn.linear_model import LogisticRegression\n",
    "\n",
    "# For saving the model\n",
    "from sklearn.externals import joblib \n",
    "\n",
    "# For Confusion Matrix\n",
    "from sklearn import metrics\n",
    "\n",
    "# For ROC Curve\n",
    "from sklearn.metrics import roc_auc_score, roc_curve\n",
    "\n",
    "# For Normalization\n",
    "from sklearn.preprocessing import MinMaxScaler\n",
    "\n",
    "# For Feature Selection\n",
    "from sklearn.feature_selection import SelectKBest, chi2\n",
    "\n",
    "# Settings to view all columns and rows\n",
    "pd.set_option('display.max_rows', 1000)\n",
    "pd.set_option('display.max_columns', 1000)\n",
    "\n",
    "import warnings\n",
    "warnings.filterwarnings('ignore')\n"
   ]
  },
  {
   "cell_type": "markdown",
   "metadata": {},
   "source": [
    "## Import Data"
   ]
  },
  {
   "cell_type": "code",
   "execution_count": 2,
   "metadata": {},
   "outputs": [],
   "source": [
    "# Enter ip address and port number of the system where the database resides.\n",
    "server = '20.198.58.32' \n",
    "database = 'INT77DB2014'  \n",
    "username = 'boadmin' \n",
    "password = 'BoAdmin12#$'"
   ]
  },
  {
   "cell_type": "code",
   "execution_count": 3,
   "metadata": {},
   "outputs": [],
   "source": [
    "# Add appropriate driver name\n",
    "cnxn = pyodbc.connect('DRIVER={SQL Server};SERVER='+server+';DATABASE='+database+';UID='+username+';PWD='+ password)\n",
    "cursor = cnxn.cursor()"
   ]
  },
  {
   "cell_type": "code",
   "execution_count": 4,
   "metadata": {},
   "outputs": [],
   "source": [
    "# Run Query\n",
    "query = '''\n",
    "SELECT \n",
    "CHDR.CHDRNUM AS 'POLICY_NUMBER',\n",
    "CLNT.CLNTNUM AS 'CLIENT_NUMBER',\n",
    "RTRIM(STATCODE_DESC.LONGDESC) + '-' + LTRIM(CHDR.STATCODE) AS 'POLICY_STATUS',\n",
    "CASE\n",
    "WHEN \n",
    "CHDR.STATCODE = 'LA'\n",
    "THEN \n",
    "'1'\n",
    "ELSE\n",
    "'0'\n",
    "END AS 'LAPSE_INDICATOR',\n",
    "CASE \n",
    "WHEN \n",
    "CLNT.CLTSEX = 'F'\n",
    "THEN \n",
    "'1'\n",
    "ELSE\n",
    "'0'\n",
    "END AS 'FEMALE',\n",
    "CASE \n",
    "WHEN \n",
    "CLNT.CLTSEX = 'M'\n",
    "THEN \n",
    "'1'\n",
    "ELSE\n",
    "'0'\n",
    "END AS 'MALE',\n",
    "CASE \n",
    "WHEN \n",
    "CLNT.CLTSEX = ''\n",
    "THEN \n",
    "'1'\n",
    "ELSE\n",
    "'0'\n",
    "END AS 'GENDER_UNKNOWN',\n",
    "CASE \n",
    "WHEN \n",
    "CLNT.MARRYD = 'M'\n",
    "THEN \n",
    "'1'\n",
    "ELSE\n",
    "'0'\n",
    "END AS 'MARRIED',\n",
    "CASE \n",
    "WHEN \n",
    "CLNT.MARRYD = 'D'\n",
    "THEN \n",
    "'1'\n",
    "ELSE\n",
    "'0'\n",
    "END AS 'DIVORCED',\n",
    "CASE \n",
    "WHEN \n",
    "CLNT.MARRYD = 'S'\n",
    "THEN \n",
    "'1'\n",
    "ELSE\n",
    "'0'\n",
    "END AS 'SINGLE',\n",
    "CASE \n",
    "WHEN \n",
    "CLNT.MARRYD IN ('J', 'L', 'C', 'Z')\n",
    "THEN \n",
    "'1'\n",
    "ELSE\n",
    "'0'\n",
    "END AS 'MARITAL_STATUS_UNKNOWN',\n",
    "CASE\n",
    "WHEN\n",
    "LIFE.OCCUP = '' OR LIFE.OCCUP IS NULL\n",
    "THEN\n",
    "'PROF_UNKNOWN'\n",
    "ELSE\n",
    "RTRIM(T3644.LONGDESC)\n",
    "END  AS 'PROFESSION',\n",
    "CASE\n",
    "WHEN LIFE.ANBCCD BETWEEN 0 AND 14\n",
    "THEN \n",
    "'1'\n",
    "ELSE\n",
    "'0' \n",
    "END AS 'CHILD',\n",
    "CASE\n",
    "WHEN LIFE.ANBCCD BETWEEN 15 AND 24\n",
    "THEN \n",
    "'1'\n",
    "ELSE\n",
    "'0' \n",
    "END AS 'YOUTH',\n",
    "CASE\n",
    "WHEN LIFE.ANBCCD BETWEEN 25 AND 64\n",
    "THEN \n",
    "'1'\n",
    "ELSE\n",
    "'0' \n",
    "END AS 'ADULT',\n",
    "CASE\n",
    "WHEN LIFE.ANBCCD > 65 \n",
    "THEN \n",
    "'1'\n",
    "ELSE\n",
    "'0' \n",
    "END AS 'SENIOR_CITIZEN',\n",
    "CASE\n",
    "WHEN\n",
    "LIFE.SMOKING = 'N'\n",
    "THEN\n",
    "'1'\n",
    "ELSE\n",
    "'0'\n",
    "END AS 'NON_SMOKER',\n",
    "CASE\n",
    "WHEN\n",
    "LIFE.SMOKING <> 'N'\n",
    "THEN\n",
    "'1'\n",
    "ELSE\n",
    "'0'\n",
    "END AS 'SMOKER',\n",
    "CASE \n",
    "WHEN\n",
    "UNDL.BMI < 18.5\n",
    "THEN\n",
    "'1'\n",
    "ELSE\n",
    "'0'\n",
    "END AS 'UNDER_WEIGHT',\n",
    "CASE \n",
    "WHEN\n",
    "UNDL.BMI BETWEEN 18.5 AND 24.9\n",
    "THEN\n",
    "'1'\n",
    "ELSE\n",
    "'0'\n",
    "END AS 'NORMAL_WEIGHT',\n",
    "CASE \n",
    "WHEN\n",
    "UNDL.BMI BETWEEN 25 AND 29.9\n",
    "THEN\n",
    "'1'\n",
    "ELSE\n",
    "'0'\n",
    "END AS 'OVER_WEIGHT',\n",
    "CASE \n",
    "WHEN\n",
    "UNDL.BMI > 30\n",
    "THEN\n",
    "'1'\n",
    "ELSE\n",
    "'0'\n",
    "END AS 'OBESE',\n",
    "\n",
    "(COALESCE(QQ.[01],0) + COALESCE(QQ.[02],0) + COALESCE(QQ.[03],0)) AS Q1_BUY, \n",
    "(COALESCE(QQ.[04],0) + COALESCE(QQ.[05],0) + COALESCE(QQ.[06],0)) AS Q2_BUY, \n",
    "(COALESCE(QQ.[07],0) + COALESCE(QQ.[08],0) + COALESCE(QQ.[09],0)) AS Q3_BUY, \n",
    "(COALESCE(QQ.[10],0) + COALESCE(QQ.[11],0) + COALESCE(QQ.[12],0)) AS Q4_BUY\n",
    "\n",
    "\n",
    "FROM\n",
    "(SELECT CLNTNUM, VALIDFLAG, CLTSEX, MARRYD FROM VM1DTA.CLNTPF WHERE VALIDFLAG = '1') CLNT \n",
    "INNER JOIN \n",
    "(\n",
    "SELECT DISTINCT CH1.CHDRNUM, CH1.COWNNUM, CH1.STATCODE\n",
    "FROM\n",
    "(SELECT DISTINCT CHDRCOY, CHDRNUM, COWNNUM, STATCODE,TRANNO  FROM VM1DTA.CHDRPF WHERE CHDRCOY = '2' and VALIDFLAG = '1')CH1\n",
    "INNER JOIN\n",
    "(SELECT CHDRNUM, MAX(TRANNO) AS MAX_TRANNO FROM VM1DTA.CHDRPF WHERE CHDRCOY = '2' and VALIDFLAG = '1' GROUP BY CHDRNUM )CH2\n",
    "ON CH2.CHDRNUM=CH1.CHDRNUM AND CH2.MAX_TRANNO=CH1.TRANNO\n",
    ") CHDR \n",
    "ON CHDR.COWNNUM = CLNT.CLNTNUM\n",
    "LEFT OUTER JOIN\n",
    "(SELECT DESCITEM, LONGDESC FROM VM1DTA.DESCPF WHERE LANGUAGE = 'E' AND DESCCOY ='2' AND DESCTABL = 'T3623') STATCODE_DESC\n",
    "ON STATCODE_DESC.DESCITEM = CHDR.STATCODE\n",
    "LEFT OUTER JOIN \n",
    "(SELECT LIFE01.CHDRNUM, LIFE01.VALIDFLAG, LIFE01.LIFE, LIFE01.JLIFE, LIFE01.LIFCNUM, LIFE01.OCCUP, LIFE01.SMOKING, LIFE01.ANBCCD\n",
    "FROM\n",
    "(SELECT * FROM VM1DTA.LIFEPF LIFE01) LIFE01 \n",
    "INNER JOIN \n",
    "(SELECT LIFCNUM, MAX(UNIQUE_NUMBER) AS MAX_UNIQUE_NUMBER FROM VM1DTA.LIFEPF GROUP BY LIFCNUM) LIFE02 \n",
    "ON LIFE01.LIFCNUM = LIFE02.LIFCNUM AND LIFE01.UNIQUE_NUMBER = LIFE02.MAX_UNIQUE_NUMBER ) LIFE\n",
    "ON LIFE.LIFCNUM = CLNT.CLNTNUM\n",
    "LEFT OUTER JOIN\n",
    "VM1DTA.DESCPF T3644\n",
    "ON T3644.DESCITEM = LIFE.OCCUP AND T3644.DESCTABL = 'T3644' AND T3644.LANGUAGE = 'E' AND T3644.DESCCOY = '9' AND T3644.DESCPFX = 'IT'\n",
    "INNER JOIN \n",
    "VM1DTA.UNDLPF UNDL\n",
    "ON UNDL.CHDRNUM = LIFE.CHDRNUM AND UNDL.LIFE = LIFE.LIFE AND UNDL.JLIFE = LIFE.JLIFE\n",
    "INNER JOIN\n",
    "(SELECT *\n",
    "FROM\n",
    "(\n",
    "  SELECT DISTINCT COWNNUM, COUNT(DISTINCT CHDRNUM) AS COUNTING,SUBSTRING((CAST(OCCDATE AS CHAR)),5,2) AS QQ FROM VM1DTA.CHDRPF WHERE CHDRCOY = '2' and VALIDFLAG = '1' \n",
    "  GROUP BY COWNNUM, SUBSTRING((CAST(OCCDATE AS CHAR)),5,2)\n",
    ") AS SOURCETABLE PIVOT( SUM(COUNTING) FOR [QQ] IN([01], [02],[03], [04],[05], [06],[07], [08],[09], [10],[11],\n",
    " [12])) AS PIVOTTABLE ) QQ\n",
    "\n",
    " ON QQ.COWNNUM = CLNT.CLNTNUM\n",
    " \n",
    " ORDER BY CLNT.CLNTNUM\n",
    "'''"
   ]
  },
  {
   "cell_type": "code",
   "execution_count": 5,
   "metadata": {},
   "outputs": [],
   "source": [
    "# Read data\n",
    "df_orig = pd.read_sql(query,cnxn)\n",
    "\n",
    "# Close the cursor\n",
    "cursor.close() "
   ]
  },
  {
   "cell_type": "code",
   "execution_count": 6,
   "metadata": {},
   "outputs": [
    {
     "data": {
      "text/html": [
       "<div>\n",
       "<style scoped>\n",
       "    .dataframe tbody tr th:only-of-type {\n",
       "        vertical-align: middle;\n",
       "    }\n",
       "\n",
       "    .dataframe tbody tr th {\n",
       "        vertical-align: top;\n",
       "    }\n",
       "\n",
       "    .dataframe thead th {\n",
       "        text-align: right;\n",
       "    }\n",
       "</style>\n",
       "<table border=\"1\" class=\"dataframe\">\n",
       "  <thead>\n",
       "    <tr style=\"text-align: right;\">\n",
       "      <th></th>\n",
       "      <th>POLICY_NUMBER</th>\n",
       "      <th>CLIENT_NUMBER</th>\n",
       "      <th>POLICY_STATUS</th>\n",
       "      <th>LAPSE_INDICATOR</th>\n",
       "      <th>FEMALE</th>\n",
       "      <th>MALE</th>\n",
       "      <th>GENDER_UNKNOWN</th>\n",
       "      <th>MARRIED</th>\n",
       "      <th>DIVORCED</th>\n",
       "      <th>SINGLE</th>\n",
       "      <th>MARITAL_STATUS_UNKNOWN</th>\n",
       "      <th>PROFESSION</th>\n",
       "      <th>CHILD</th>\n",
       "      <th>YOUTH</th>\n",
       "      <th>ADULT</th>\n",
       "      <th>SENIOR_CITIZEN</th>\n",
       "      <th>NON_SMOKER</th>\n",
       "      <th>SMOKER</th>\n",
       "      <th>UNDER_WEIGHT</th>\n",
       "      <th>NORMAL_WEIGHT</th>\n",
       "      <th>OVER_WEIGHT</th>\n",
       "      <th>OBESE</th>\n",
       "      <th>Q1_BUY</th>\n",
       "      <th>Q2_BUY</th>\n",
       "      <th>Q3_BUY</th>\n",
       "      <th>Q4_BUY</th>\n",
       "    </tr>\n",
       "  </thead>\n",
       "  <tbody>\n",
       "    <tr>\n",
       "      <th>0</th>\n",
       "      <td>00025154</td>\n",
       "      <td>0001529</td>\n",
       "      <td>In Force-IF</td>\n",
       "      <td>0</td>\n",
       "      <td>0</td>\n",
       "      <td>1</td>\n",
       "      <td>0</td>\n",
       "      <td>0</td>\n",
       "      <td>0</td>\n",
       "      <td>0</td>\n",
       "      <td>0</td>\n",
       "      <td>Architect</td>\n",
       "      <td>0</td>\n",
       "      <td>0</td>\n",
       "      <td>1</td>\n",
       "      <td>0</td>\n",
       "      <td>1</td>\n",
       "      <td>0</td>\n",
       "      <td>0</td>\n",
       "      <td>0</td>\n",
       "      <td>0</td>\n",
       "      <td>1</td>\n",
       "      <td>16</td>\n",
       "      <td>0</td>\n",
       "      <td>0</td>\n",
       "      <td>0</td>\n",
       "    </tr>\n",
       "    <tr>\n",
       "      <th>1</th>\n",
       "      <td>00025155</td>\n",
       "      <td>0001529</td>\n",
       "      <td>In Force-IF</td>\n",
       "      <td>0</td>\n",
       "      <td>0</td>\n",
       "      <td>1</td>\n",
       "      <td>0</td>\n",
       "      <td>0</td>\n",
       "      <td>0</td>\n",
       "      <td>0</td>\n",
       "      <td>0</td>\n",
       "      <td>Architect</td>\n",
       "      <td>0</td>\n",
       "      <td>0</td>\n",
       "      <td>1</td>\n",
       "      <td>0</td>\n",
       "      <td>1</td>\n",
       "      <td>0</td>\n",
       "      <td>0</td>\n",
       "      <td>0</td>\n",
       "      <td>0</td>\n",
       "      <td>1</td>\n",
       "      <td>16</td>\n",
       "      <td>0</td>\n",
       "      <td>0</td>\n",
       "      <td>0</td>\n",
       "    </tr>\n",
       "    <tr>\n",
       "      <th>2</th>\n",
       "      <td>00019874</td>\n",
       "      <td>0001529</td>\n",
       "      <td>Contract Lapsed-LA</td>\n",
       "      <td>1</td>\n",
       "      <td>0</td>\n",
       "      <td>1</td>\n",
       "      <td>0</td>\n",
       "      <td>0</td>\n",
       "      <td>0</td>\n",
       "      <td>0</td>\n",
       "      <td>0</td>\n",
       "      <td>Architect</td>\n",
       "      <td>0</td>\n",
       "      <td>0</td>\n",
       "      <td>1</td>\n",
       "      <td>0</td>\n",
       "      <td>1</td>\n",
       "      <td>0</td>\n",
       "      <td>0</td>\n",
       "      <td>0</td>\n",
       "      <td>0</td>\n",
       "      <td>1</td>\n",
       "      <td>16</td>\n",
       "      <td>0</td>\n",
       "      <td>0</td>\n",
       "      <td>0</td>\n",
       "    </tr>\n",
       "    <tr>\n",
       "      <th>3</th>\n",
       "      <td>00027635</td>\n",
       "      <td>0001529</td>\n",
       "      <td>In Force-IF</td>\n",
       "      <td>0</td>\n",
       "      <td>0</td>\n",
       "      <td>1</td>\n",
       "      <td>0</td>\n",
       "      <td>0</td>\n",
       "      <td>0</td>\n",
       "      <td>0</td>\n",
       "      <td>0</td>\n",
       "      <td>Architect</td>\n",
       "      <td>0</td>\n",
       "      <td>0</td>\n",
       "      <td>1</td>\n",
       "      <td>0</td>\n",
       "      <td>1</td>\n",
       "      <td>0</td>\n",
       "      <td>0</td>\n",
       "      <td>0</td>\n",
       "      <td>0</td>\n",
       "      <td>1</td>\n",
       "      <td>16</td>\n",
       "      <td>0</td>\n",
       "      <td>0</td>\n",
       "      <td>0</td>\n",
       "    </tr>\n",
       "    <tr>\n",
       "      <th>4</th>\n",
       "      <td>00021321</td>\n",
       "      <td>0001529</td>\n",
       "      <td>In Force-IF</td>\n",
       "      <td>0</td>\n",
       "      <td>0</td>\n",
       "      <td>1</td>\n",
       "      <td>0</td>\n",
       "      <td>0</td>\n",
       "      <td>0</td>\n",
       "      <td>0</td>\n",
       "      <td>0</td>\n",
       "      <td>Architect</td>\n",
       "      <td>0</td>\n",
       "      <td>0</td>\n",
       "      <td>1</td>\n",
       "      <td>0</td>\n",
       "      <td>1</td>\n",
       "      <td>0</td>\n",
       "      <td>0</td>\n",
       "      <td>0</td>\n",
       "      <td>0</td>\n",
       "      <td>1</td>\n",
       "      <td>16</td>\n",
       "      <td>0</td>\n",
       "      <td>0</td>\n",
       "      <td>0</td>\n",
       "    </tr>\n",
       "  </tbody>\n",
       "</table>\n",
       "</div>"
      ],
      "text/plain": [
       "  POLICY_NUMBER CLIENT_NUMBER       POLICY_STATUS LAPSE_INDICATOR FEMALE MALE  \\\n",
       "0      00025154      0001529          In Force-IF               0      0    1   \n",
       "1      00025155      0001529          In Force-IF               0      0    1   \n",
       "2      00019874      0001529   Contract Lapsed-LA               1      0    1   \n",
       "3      00027635      0001529          In Force-IF               0      0    1   \n",
       "4      00021321      0001529          In Force-IF               0      0    1   \n",
       "\n",
       "  GENDER_UNKNOWN MARRIED DIVORCED SINGLE MARITAL_STATUS_UNKNOWN PROFESSION  \\\n",
       "0              0       0        0      0                      0  Architect   \n",
       "1              0       0        0      0                      0  Architect   \n",
       "2              0       0        0      0                      0  Architect   \n",
       "3              0       0        0      0                      0  Architect   \n",
       "4              0       0        0      0                      0  Architect   \n",
       "\n",
       "  CHILD YOUTH ADULT SENIOR_CITIZEN NON_SMOKER SMOKER UNDER_WEIGHT  \\\n",
       "0     0     0     1              0          1      0            0   \n",
       "1     0     0     1              0          1      0            0   \n",
       "2     0     0     1              0          1      0            0   \n",
       "3     0     0     1              0          1      0            0   \n",
       "4     0     0     1              0          1      0            0   \n",
       "\n",
       "  NORMAL_WEIGHT OVER_WEIGHT OBESE  Q1_BUY  Q2_BUY  Q3_BUY  Q4_BUY  \n",
       "0             0           0     1      16       0       0       0  \n",
       "1             0           0     1      16       0       0       0  \n",
       "2             0           0     1      16       0       0       0  \n",
       "3             0           0     1      16       0       0       0  \n",
       "4             0           0     1      16       0       0       0  "
      ]
     },
     "execution_count": 6,
     "metadata": {},
     "output_type": "execute_result"
    }
   ],
   "source": [
    "# Check data sample\n",
    "df_orig.head()"
   ]
  },
  {
   "cell_type": "markdown",
   "metadata": {},
   "source": [
    "## Data Analysis & Visualization"
   ]
  },
  {
   "cell_type": "code",
   "execution_count": 7,
   "metadata": {},
   "outputs": [
    {
     "data": {
      "text/plain": [
       "(11618, 26)"
      ]
     },
     "execution_count": 7,
     "metadata": {},
     "output_type": "execute_result"
    }
   ],
   "source": [
    "# Check data shape\n",
    "df_orig.shape"
   ]
  },
  {
   "cell_type": "code",
   "execution_count": 8,
   "metadata": {},
   "outputs": [
    {
     "name": "stdout",
     "output_type": "stream",
     "text": [
      "<class 'pandas.core.frame.DataFrame'>\n",
      "RangeIndex: 11618 entries, 0 to 11617\n",
      "Data columns (total 26 columns):\n",
      "POLICY_NUMBER             11618 non-null object\n",
      "CLIENT_NUMBER             11618 non-null object\n",
      "POLICY_STATUS             11613 non-null object\n",
      "LAPSE_INDICATOR           11618 non-null object\n",
      "FEMALE                    11618 non-null object\n",
      "MALE                      11618 non-null object\n",
      "GENDER_UNKNOWN            11618 non-null object\n",
      "MARRIED                   11618 non-null object\n",
      "DIVORCED                  11618 non-null object\n",
      "SINGLE                    11618 non-null object\n",
      "MARITAL_STATUS_UNKNOWN    11618 non-null object\n",
      "PROFESSION                11618 non-null object\n",
      "CHILD                     11618 non-null object\n",
      "YOUTH                     11618 non-null object\n",
      "ADULT                     11618 non-null object\n",
      "SENIOR_CITIZEN            11618 non-null object\n",
      "NON_SMOKER                11618 non-null object\n",
      "SMOKER                    11618 non-null object\n",
      "UNDER_WEIGHT              11618 non-null object\n",
      "NORMAL_WEIGHT             11618 non-null object\n",
      "OVER_WEIGHT               11618 non-null object\n",
      "OBESE                     11618 non-null object\n",
      "Q1_BUY                    11618 non-null int64\n",
      "Q2_BUY                    11618 non-null int64\n",
      "Q3_BUY                    11618 non-null int64\n",
      "Q4_BUY                    11618 non-null int64\n",
      "dtypes: int64(4), object(22)\n",
      "memory usage: 2.3+ MB\n"
     ]
    }
   ],
   "source": [
    "# Check data attributes of the columns\n",
    "df_orig.info()"
   ]
  },
  {
   "cell_type": "code",
   "execution_count": 9,
   "metadata": {},
   "outputs": [
    {
     "data": {
      "text/plain": [
       "0    10751\n",
       "1      867\n",
       "Name: LAPSE_INDICATOR, dtype: int64"
      ]
     },
     "execution_count": 9,
     "metadata": {},
     "output_type": "execute_result"
    }
   ],
   "source": [
    "# View distribution of 'Lapse' Instances\n",
    "df_orig['LAPSE_INDICATOR'].value_counts()"
   ]
  },
  {
   "cell_type": "code",
   "execution_count": 10,
   "metadata": {},
   "outputs": [
    {
     "data": {
      "text/plain": [
       "POLICY_NUMBER             0\n",
       "CLIENT_NUMBER             0\n",
       "POLICY_STATUS             5\n",
       "LAPSE_INDICATOR           0\n",
       "FEMALE                    0\n",
       "MALE                      0\n",
       "GENDER_UNKNOWN            0\n",
       "MARRIED                   0\n",
       "DIVORCED                  0\n",
       "SINGLE                    0\n",
       "MARITAL_STATUS_UNKNOWN    0\n",
       "PROFESSION                0\n",
       "CHILD                     0\n",
       "YOUTH                     0\n",
       "ADULT                     0\n",
       "SENIOR_CITIZEN            0\n",
       "NON_SMOKER                0\n",
       "SMOKER                    0\n",
       "UNDER_WEIGHT              0\n",
       "NORMAL_WEIGHT             0\n",
       "OVER_WEIGHT               0\n",
       "OBESE                     0\n",
       "Q1_BUY                    0\n",
       "Q2_BUY                    0\n",
       "Q3_BUY                    0\n",
       "Q4_BUY                    0\n",
       "dtype: int64"
      ]
     },
     "execution_count": 10,
     "metadata": {},
     "output_type": "execute_result"
    }
   ],
   "source": [
    "# Check if there are any nulls\n",
    "df_orig.isnull().sum()"
   ]
  },
  {
   "cell_type": "code",
   "execution_count": 11,
   "metadata": {},
   "outputs": [
    {
     "data": {
      "text/plain": [
       "<seaborn.axisgrid.FacetGrid at 0x272cfe472b0>"
      ]
     },
     "execution_count": 11,
     "metadata": {},
     "output_type": "execute_result"
    },
    {
     "data": {
      "image/png": "[encoded data removed]",
      "text/plain": [
       "<Figure size 864x216 with 4 Axes>"
      ]
     },
     "metadata": {
      "needs_background": "light"
     },
     "output_type": "display_data"
    }
   ],
   "source": [
    "# Study distribution of Numerical Columns\n",
    "num = [f for f in df_orig.columns if df_orig.dtypes[f] != 'object']\n",
    "nd = pd.melt(df_orig, value_vars = num)\n",
    "n1 = sns.FacetGrid (nd, col='variable', col_wrap=4, sharex=False, sharey = False)\n",
    "n1 = n1.map(sns.distplot, 'value')\n",
    "n1"
   ]
  },
  {
   "cell_type": "code",
   "execution_count": 12,
   "metadata": {
    "scrolled": true
   },
   "outputs": [
    {
     "data": {
      "image/png": "[encoded data removed]",
      "text/plain": [
       "<Figure size 432x288 with 1 Axes>"
      ]
     },
     "metadata": {
      "needs_background": "light"
     },
     "output_type": "display_data"
    }
   ],
   "source": [
    "# Plot count values\n",
    "df_orig.LAPSE_INDICATOR.value_counts()\n",
    "sns.countplot(x = 'LAPSE_INDICATOR', data = df_orig, palette = 'hls')\n",
    "plt.show()"
   ]
  },
  {
   "cell_type": "markdown",
   "metadata": {},
   "source": [
    "## Data Treatment"
   ]
  },
  {
   "cell_type": "code",
   "execution_count": 13,
   "metadata": {},
   "outputs": [],
   "source": [
    "# Separate features into categorical and numerical category\n",
    "cat_vars = ['POLICY_STATUS', 'FEMALE', 'MALE', 'GENDER_UNKNOWN', 'MARRIED', 'DIVORCED',\n",
    "           'SINGLE', 'MARITAL_STATUS_UNKNOWN', 'PROFESSION', 'CHILD', 'YOUTH', 'ADULT', 'SENIOR_CITIZEN', 'NON_SMOKER',\n",
    "           'SMOKER', 'UNDER_WEIGHT', 'NORMAL_WEIGHT', 'OVER_WEIGHT', 'OBESE']\n",
    "\n",
    "num_vars = ['Q1_BUY', 'Q2_BUY', 'Q3_BUY']"
   ]
  },
  {
   "cell_type": "code",
   "execution_count": 14,
   "metadata": {},
   "outputs": [],
   "source": [
    "# Create a copy of dataframe\n",
    "df_work = df_orig.copy()"
   ]
  },
  {
   "cell_type": "code",
   "execution_count": 15,
   "metadata": {},
   "outputs": [],
   "source": [
    "# Convert to 'category' object type\n",
    "for var in cat_vars:\n",
    "    df_work[var] = df_work[var].astype('category')"
   ]
  },
  {
   "cell_type": "code",
   "execution_count": 16,
   "metadata": {},
   "outputs": [],
   "source": [
    "# Create Dummy Variables for categorical variables\n",
    "for var in cat_vars:\n",
    "    cat_list = 'var'+'_'+var\n",
    "    cat_list = pd.get_dummies(df_work[var], prefix=var)\n",
    "    dummy_data = df_work.join(cat_list)\n",
    "    df_work = dummy_data"
   ]
  },
  {
   "cell_type": "code",
   "execution_count": 17,
   "metadata": {},
   "outputs": [
    {
     "data": {
      "text/plain": [
       "(11618, 111)"
      ]
     },
     "execution_count": 17,
     "metadata": {},
     "output_type": "execute_result"
    }
   ],
   "source": [
    "# Check data shape after dummy encoding\n",
    "df_work.shape"
   ]
  },
  {
   "cell_type": "code",
   "execution_count": 18,
   "metadata": {},
   "outputs": [],
   "source": [
    "# Remove original columns for which dummy variables have been created\n",
    "vars_remove = ['POLICY_NUMBER','CLIENT_NUMBER','POLICY_STATUS', 'FEMALE', 'MALE', 'GENDER_UNKNOWN',\n",
    "               'MARRIED', 'DIVORCED','SINGLE', 'MARITAL_STATUS_UNKNOWN', 'PROFESSION', 'CHILD', 'YOUTH', 'ADULT', \n",
    "               'SENIOR_CITIZEN', 'NON_SMOKER', 'SMOKER', 'UNDER_WEIGHT', 'NORMAL_WEIGHT', 'OVER_WEIGHT', 'OBESE']\n",
    "\n",
    "for var in vars_remove:\n",
    "    df_work=df_work.drop(var, axis=1)"
   ]
  },
  {
   "cell_type": "code",
   "execution_count": 19,
   "metadata": {},
   "outputs": [],
   "source": [
    "# Normalize numerical columns\n",
    "scaler = MinMaxScaler()\n",
    "df_work['Q1_BUY'] = scaler.fit_transform(df_work['Q1_BUY'].values.reshape(-1,1))\n",
    "df_work['Q2_BUY'] = scaler.fit_transform(df_work['Q2_BUY'].values.reshape(-1,1))\n",
    "df_work['Q3_BUY'] = scaler.fit_transform(df_work['Q3_BUY'].values.reshape(-1,1))\n",
    "df_work['Q4_BUY'] = scaler.fit_transform(df_work['Q4_BUY'].values.reshape(-1,1))"
   ]
  },
  {
   "cell_type": "code",
   "execution_count": 20,
   "metadata": {},
   "outputs": [],
   "source": [
    "# Create separate dataset for feature and target columns\n",
    "x = df_work.drop('LAPSE_INDICATOR', axis=1)\n",
    "y = df_work['LAPSE_INDICATOR']"
   ]
  },
  {
   "cell_type": "markdown",
   "metadata": {},
   "source": [
    "## Feature Selection"
   ]
  },
  {
   "cell_type": "code",
   "execution_count": 21,
   "metadata": {},
   "outputs": [
    {
     "name": "stdout",
     "output_type": "stream",
     "text": [
      "                                        Specs         Score\n",
      "9            POLICY_STATUS_Contract Lapsed-LA  10751.000000\n",
      "16                  POLICY_STATUS_In Force-IF    672.326202\n",
      "39           PROFESSION_Advertising Executive    137.558567\n",
      "86                              OVER_WEIGHT_1     61.702651\n",
      "77                               NON_SMOKER_0     49.838275\n",
      "80                                   SMOKER_1     49.838275\n",
      "4       POLICY_STATUS_Approved Death Claim-DH     49.434564\n",
      "0                                      Q1_BUY     47.436719\n",
      "5   POLICY_STATUS_Cancelled from Inception-CF     33.628407\n",
      "19    POLICY_STATUS_Registered Death Claim-RD     31.370384\n"
     ]
    }
   ],
   "source": [
    "bestfeatures=SelectKBest(score_func=chi2, k=10)\n",
    "fit=bestfeatures.fit(x,y)\n",
    "dfscores=pd.DataFrame(fit.scores_)\n",
    "dfcolumns=pd.DataFrame(x.columns)\n",
    "#concatenate two dataframes\n",
    "featureScores=pd.concat([dfcolumns,dfscores],axis=1)\n",
    "featureScores.columns=['Specs','Score'] #naming the dataframe columns\n",
    "print(featureScores.nlargest(10,'Score')) #print 10 best features\n"
   ]
  },
  {
   "cell_type": "code",
   "execution_count": 41,
   "metadata": {},
   "outputs": [],
   "source": [
    "# Get top features, have execluded 'POLICY_STATUS_Contract Lapsed-LA' knowingly\n",
    "top_features = ['POLICY_STATUS_In Force-IF', 'POLICY_STATUS_Not Taken Up-NT', 'Q1_BUY', 'NORMAL_WEIGHT_0',\n",
    "               'POLICY_STATUS_Approved Death Claim-DH',  'POLICY_STATUS_Cancelled from Inception-CF',\n",
    "               'Q3_BUY','UNDER_WEIGHT_1', 'NORMAL_WEIGHT_1']"
   ]
  },
  {
   "cell_type": "code",
   "execution_count": 42,
   "metadata": {},
   "outputs": [],
   "source": [
    "# Create new dataset with only top features\n",
    "x01=x[top_features]\n",
    "y01=y"
   ]
  },
  {
   "cell_type": "code",
   "execution_count": 51,
   "metadata": {},
   "outputs": [
    {
     "data": {
      "text/plain": [
       "0    0\n",
       "1    0\n",
       "2    1\n",
       "3    0\n",
       "4    0\n",
       "Name: LAPSE_INDICATOR, dtype: object"
      ]
     },
     "execution_count": 51,
     "metadata": {},
     "output_type": "execute_result"
    }
   ],
   "source": [
    "y01.head()"
   ]
  },
  {
   "cell_type": "code",
   "execution_count": 43,
   "metadata": {},
   "outputs": [
    {
     "data": {
      "text/plain": [
       "((8132, 9), (3486, 9), (8132,), (3486,))"
      ]
     },
     "execution_count": 43,
     "metadata": {},
     "output_type": "execute_result"
    }
   ],
   "source": [
    "# Perform Test/Train Split\n",
    "x01_train, x01_test, y01_train, y01_test=train_test_split(x01, y01, test_size=0.3,random_state=11)\n",
    "x01_train.shape, x01_test.shape, y01_train.shape, y01_test.shape"
   ]
  },
  {
   "cell_type": "code",
   "execution_count": 44,
   "metadata": {},
   "outputs": [
    {
     "name": "stdout",
     "output_type": "stream",
     "text": [
      "length of oversampled data is  15000\n",
      "Number of non lapsed policies in oversampled data 0\n",
      "Number of lapsed policies in oversampled data 0\n",
      "Proportion of non lapsed policies in oversampled data is  0.0\n",
      "Proportion of lapsed policies in oversampled data is  0.0\n"
     ]
    }
   ],
   "source": [
    "# To handle class imbalance performing SMOTE\n",
    "\n",
    "from imblearn.over_sampling import SMOTE\n",
    "SMO = SMOTE(random_state=11)\n",
    "\n",
    "#X4_train, X4_test, Y4_train, Y4_test = train_test_split(X_train,Y_train, test_size=0.20)\n",
    "x01_train_smo,y01_train_smo = SMO.fit_sample(x01_train, y01_train)\n",
    "columns = x01_train.columns\n",
    "\n",
    "x01_train_smo = pd.DataFrame(data = x01_train_smo, columns = columns )\n",
    "y01_train_smo = pd.DataFrame(data = y01_train_smo, columns = ['LAPSE_INDICATOR'])\n",
    "\n",
    "# we can Check the numbers of our data\n",
    "print(\"length of oversampled data is \",len(x01_train_smo))\n",
    "print(\"Number of non lapsed policies in oversampled data\",len(y01_train_smo[y01_train_smo['LAPSE_INDICATOR']== 0 ]))\n",
    "print(\"Number of lapsed policies in oversampled data\",len(y01_train_smo[y01_train_smo['LAPSE_INDICATOR']== 1 ]))\n",
    "print(\"Proportion of non lapsed policies in oversampled data is \",len(y01_train_smo[y01_train_smo['LAPSE_INDICATOR']== 0])/len(x01_train_smo))\n",
    "print(\"Proportion of lapsed policies in oversampled data is \",len(y01_train_smo[y01_train_smo['LAPSE_INDICATOR']== 1 ])/len(x01_train_smo))"
   ]
  },
  {
   "cell_type": "markdown",
   "metadata": {},
   "source": [
    "## Model Application"
   ]
  },
  {
   "cell_type": "markdown",
   "metadata": {},
   "source": [
    "### Logistic Regression with StratifiedKFold with set of weights provided.  Also use Gridsearch to obtain optimal parameters. "
   ]
  },
  {
   "cell_type": "code",
   "execution_count": 26,
   "metadata": {},
   "outputs": [],
   "source": [
    "# Define grid\n",
    "C = np.logspace(0,5,10)\n",
    "param_grid = dict( C=C)\n",
    "\n",
    "# Model\n",
    "logreg=LogisticRegression(solver='lbfgs',max_iter=1000)\n",
    "\n",
    "# Define Evaluation Procedure\n",
    "cv=RepeatedStratifiedKFold(n_splits=10, n_repeats=3, random_state=11)\n",
    "\n",
    "# Define Grid Search\n",
    "grid=GridSearchCV(estimator=logreg, param_grid=param_grid, n_jobs=1, cv=cv, scoring='roc_auc')\n",
    "\n",
    "# Execute Grid Search\n",
    "grid_result=grid.fit(x01_train_smo, (y01_train_smo.values.ravel()))\n"
   ]
  },
  {
   "cell_type": "code",
   "execution_count": 27,
   "metadata": {},
   "outputs": [
    {
     "name": "stdout",
     "output_type": "stream",
     "text": [
      "Best: 0.950026 using {'C': 3.5938136638046276}\n"
     ]
    }
   ],
   "source": [
    "# Print best model parameters\n",
    "print(\"Best: %f using %s\" % (grid_result.best_score_, grid_result.best_params_))"
   ]
  },
  {
   "cell_type": "code",
   "execution_count": 52,
   "metadata": {},
   "outputs": [
    {
     "data": {
      "text/plain": [
       "LogisticRegression(C=3.5938136638046276, class_weight=None, dual=False,\n",
       "                   fit_intercept=True, intercept_scaling=1, l1_ratio=None,\n",
       "                   max_iter=1000, multi_class='auto', n_jobs=None, penalty='l2',\n",
       "                   random_state=None, solver='lbfgs', tol=0.0001, verbose=0,\n",
       "                   warm_start=False)"
      ]
     },
     "execution_count": 52,
     "metadata": {},
     "output_type": "execute_result"
    }
   ],
   "source": [
    "bestlogreg=grid_result.best_estimator_\n",
    "bestlogreg"
   ]
  },
  {
   "cell_type": "code",
   "execution_count": 53,
   "metadata": {},
   "outputs": [],
   "source": [
    "# Saving the best model\n",
    "#bestlogreg= LogisticRegression(C=1.0, class_weight=None, dual=False, fit_intercept=True,\n",
    "#                   intercept_scaling=1, l1_ratio=None, max_iter=1000,\n",
    "#                   multi_class='auto', n_jobs=None, penalty='l2',\n",
    "#                   random_state=None, solver='lbfgs', tol=0.0001, verbose=0,\n",
    "#                   warm_start=False)"
   ]
  },
  {
   "cell_type": "code",
   "execution_count": 55,
   "metadata": {},
   "outputs": [
    {
     "data": {
      "text/plain": [
       "LogisticRegression(C=3.5938136638046276, class_weight=None, dual=False,\n",
       "                   fit_intercept=True, intercept_scaling=1, l1_ratio=None,\n",
       "                   max_iter=1000, multi_class='auto', n_jobs=None, penalty='l2',\n",
       "                   random_state=None, solver='lbfgs', tol=0.0001, verbose=0,\n",
       "                   warm_start=False)"
      ]
     },
     "execution_count": 55,
     "metadata": {},
     "output_type": "execute_result"
    }
   ],
   "source": [
    "# Fit the model on train data\n",
    "bestlogreg.fit(x01_train_smo, y01_train_smo)"
   ]
  },
  {
   "cell_type": "code",
   "execution_count": 56,
   "metadata": {},
   "outputs": [],
   "source": [
    "# Make Predictions\n",
    "y01_pred=bestlogreg.predict(x01_test)"
   ]
  },
  {
   "cell_type": "code",
   "execution_count": 57,
   "metadata": {},
   "outputs": [
    {
     "data": {
      "text/plain": [
       "array([[2825,  426],\n",
       "       [   0,  235]], dtype=int64)"
      ]
     },
     "execution_count": 57,
     "metadata": {},
     "output_type": "execute_result"
    }
   ],
   "source": [
    "# Make Confusion Matrix to compare results against actuals\n",
    "cnf_matrix = metrics.confusion_matrix(y01_test, y01_pred)\n",
    "cnf_matrix"
   ]
  },
  {
   "cell_type": "code",
   "execution_count": 65,
   "metadata": {},
   "outputs": [
    {
     "name": "stdout",
     "output_type": "stream",
     "text": [
      "Accuracy: 0.8777969018932874\n",
      "Precision: 0.3555219364599092\n",
      "Recall: 1.0\n"
     ]
    }
   ],
   "source": [
    "# Get Accuracy Scores\n",
    "print(\"Accuracy:\",metrics.accuracy_score(y01_test, y01_pred))\n",
    "print(\"Precision:\",metrics.precision_score(y01_test, y01_pred,pos_label='1'))\n",
    "print(\"Recall:\",metrics.recall_score(y01_test, y01_pred,pos_label='1'))"
   ]
  },
  {
   "cell_type": "code",
   "execution_count": 67,
   "metadata": {},
   "outputs": [
    {
     "data": {
      "image/png": "[encoded data removed]",
      "text/plain": [
       "<Figure size 432x288 with 1 Axes>"
      ]
     },
     "metadata": {
      "needs_background": "light"
     },
     "output_type": "display_data"
    }
   ],
   "source": [
    "# Print ROC AUC Curve\n",
    "\n",
    "logit_roc_auc = roc_auc_score(y01_test, bestlogreg.predict(x01_test))\n",
    "fpr, tpr, thresholds = roc_curve(y01_test, bestlogreg.predict_proba(x01_test)[:,1],pos_label='1')\n",
    "plt.figure()\n",
    "plt.plot(fpr, tpr, label='Logistic Regression (area = %0.2f)' % logit_roc_auc)\n",
    "plt.plot([0, 1], [0, 1],'r--')\n",
    "plt.xlim([0.0, 1.0])\n",
    "plt.ylim([0.0, 1.05])\n",
    "plt.xlabel('False Positive Rate')\n",
    "plt.ylabel('True Positive Rate')\n",
    "plt.title('Receiver operating characteristic')\n",
    "plt.legend(loc=\"lower right\")\n",
    "plt.savefig('Log_ROC')\n",
    "plt.show()"
   ]
  },
  {
   "cell_type": "markdown",
   "metadata": {},
   "source": [
    "### Save the model as PMML File"
   ]
  },
  {
   "cell_type": "code",
   "execution_count": null,
   "metadata": {},
   "outputs": [],
   "source": [
    "# Save the model as a pmml and use to make predictions in a file \n",
    "\n",
    "joblib.dump(bestlogreg, 'LifePolicyLapseModel.pmml') "
   ]
  },
  {
   "cell_type": "markdown",
   "metadata": {},
   "source": [
    "### Run the model on entire dataset and save the output in a csv file"
   ]
  },
  {
   "cell_type": "code",
   "execution_count": null,
   "metadata": {},
   "outputs": [],
   "source": [
    "# Copy the original data set\n",
    "df_test = df_orig.copy()"
   ]
  },
  {
   "cell_type": "code",
   "execution_count": null,
   "metadata": {},
   "outputs": [],
   "source": [
    "# Separate features into categorical and numerical category\n",
    "cat_vars = ['POLICY_STATUS', 'FEMALE', 'MALE', 'GENDER_UNKNOWN', 'MARRIED', 'DIVORCED',\n",
    "           'SINGLE', 'MARITAL_STATUS_UNKNOWN', 'PROFESSION', 'CHILD', 'YOUTH', 'ADULT', 'SENIOR_CITIZEN', 'NON_SMOKER',\n",
    "           'SMOKER', 'UNDER_WEIGHT', 'NORMAL_WEIGHT', 'OVER_WEIGHT', 'OBESE']\n",
    "\n",
    "num_vars = ['Q1_BUY', 'Q2_BUY', 'Q3_BUY']  "
   ]
  },
  {
   "cell_type": "code",
   "execution_count": null,
   "metadata": {},
   "outputs": [],
   "source": [
    "# Convert to 'category' object type\n",
    "for var in cat_vars:\n",
    "    df_test[var] = df_test[var].astype('category')"
   ]
  },
  {
   "cell_type": "code",
   "execution_count": null,
   "metadata": {},
   "outputs": [],
   "source": [
    "# Create Dummy Variables for categorical variables\n",
    "for var in cat_vars:\n",
    "    cat_list = 'var'+'_'+var\n",
    "    cat_list = pd.get_dummies(df_test[var], prefix=var)\n",
    "    dummy_data = df_test.join(cat_list)\n",
    "    df_test = dummy_data"
   ]
  },
  {
   "cell_type": "code",
   "execution_count": null,
   "metadata": {},
   "outputs": [],
   "source": [
    "# Remove original columns for which dummy variables have been created\n",
    "vars_remove = ['POLICY_NUMBER','CLIENT_NUMBER','POLICY_STATUS', 'FEMALE', 'MALE', 'GENDER_UNKNOWN',\n",
    "               'MARRIED', 'DIVORCED','SINGLE', 'MARITAL_STATUS_UNKNOWN', 'PROFESSION', 'CHILD', 'YOUTH', 'ADULT', \n",
    "               'SENIOR_CITIZEN', 'NON_SMOKER', 'SMOKER', 'UNDER_WEIGHT', 'NORMAL_WEIGHT', 'OVER_WEIGHT', 'OBESE',\n",
    "               'LAPSE_INDICATOR']\n",
    "\n",
    "for var in vars_remove:\n",
    "    df_test=df_test.drop(var, axis=1)"
   ]
  },
  {
   "cell_type": "code",
   "execution_count": null,
   "metadata": {},
   "outputs": [],
   "source": [
    "# Get selective features same as used in training\n",
    "top_features = ['POLICY_STATUS_In Force-IF', 'POLICY_STATUS_Not Taken Up-NT', 'Q1_BUY', 'NORMAL_WEIGHT_0',\n",
    "               'POLICY_STATUS_Approved Death Claim-DH',  'POLICY_STATUS_Cancelled from Inception-CF',\n",
    "               'Q3_BUY','UNDER_WEIGHT_1', 'NORMAL_WEIGHT_1']"
   ]
  },
  {
   "cell_type": "code",
   "execution_count": null,
   "metadata": {},
   "outputs": [],
   "source": [
    "# Retain only top features in the datframe\n",
    "df_test=df_test[top_features]"
   ]
  },
  {
   "cell_type": "code",
   "execution_count": null,
   "metadata": {},
   "outputs": [],
   "source": [
    "# Make predictions\n",
    "prediction_class = bestlogreg.predict(df_test)\n",
    "prediction_prob = bestlogreg.predict_proba(df_test)\n",
    "\n",
    "# Get Individual Probabilities\n",
    "not_lapse, lapse = (prediction_prob).T"
   ]
  },
  {
   "cell_type": "code",
   "execution_count": null,
   "metadata": {},
   "outputs": [],
   "source": [
    "# Save original dataframe in a separate dataframe\n",
    "df_results = df_orig.copy()"
   ]
  },
  {
   "cell_type": "code",
   "execution_count": null,
   "metadata": {},
   "outputs": [],
   "source": [
    "# Remove target column\n",
    "df_results=df_results.drop('LAPSE_INDICATOR',axis=1)"
   ]
  },
  {
   "cell_type": "code",
   "execution_count": null,
   "metadata": {},
   "outputs": [],
   "source": [
    "# Replace target column with predicted value of '0' or '1' along with respective probablities\n",
    "df_results['notlapse'] = not_lapse\n",
    "df_results['lapse'] = lapse\n",
    "df_results['lapse_prediction_class'] = prediction_class"
   ]
  },
  {
   "cell_type": "markdown",
   "metadata": {},
   "source": [
    "### Though care has been taken in testing the query output, still double check for duplicate rows for a policy in the csv file"
   ]
  },
  {
   "cell_type": "code",
   "execution_count": null,
   "metadata": {},
   "outputs": [],
   "source": [
    "df_results.to_csv('EX_SOURCE_POLICY_LAPSE_LIFE.csv', index = None, header=True) "
   ]
  },
  {
   "cell_type": "code",
   "execution_count": null,
   "metadata": {},
   "outputs": [],
   "source": []
  }
 ],
 "metadata": {
  "kernelspec": {
   "display_name": "Python 3",
   "language": "python",
   "name": "python3"
  },
  "language_info": {
   "codemirror_mode": {
    "name": "ipython",
    "version": 3
   },
   "file_extension": ".py",
   "mimetype": "text/x-python",
   "name": "python",
   "nbconvert_exporter": "python",
   "pygments_lexer": "ipython3",
   "version": "3.7.3"
  }
 },
 "nbformat": 4,
 "nbformat_minor": 2
}
