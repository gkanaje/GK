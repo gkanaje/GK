{
 "cells": [
  {
   "cell_type": "code",
   "execution_count": 35,
   "metadata": {},
   "outputs": [],
   "source": [
    "import pandas as pd\n",
    "import numpy as np\n",
    "from sklearn.cluster import KMeans\n",
    "from sklearn.preprocessing import LabelEncoder\n",
    "from sklearn.preprocessing import StandardScaler\n",
    "from sklearn.preprocessing import MinMaxScaler\n",
    "from sklearn.mixture import GaussianMixture #For GMM clustering\n",
    "import seaborn as sns\n",
    "import matplotlib.pyplot as plt\n",
    "from kmodes.kprototypes import KPrototypes\n",
    "\n",
    "%matplotlib inline\n"
   ]
  },
  {
   "cell_type": "code",
   "execution_count": 36,
   "metadata": {},
   "outputs": [
    {
     "data": {
      "text/html": [
       "<div>\n",
       "<style scoped>\n",
       "    .dataframe tbody tr th:only-of-type {\n",
       "        vertical-align: middle;\n",
       "    }\n",
       "\n",
       "    .dataframe tbody tr th {\n",
       "        vertical-align: top;\n",
       "    }\n",
       "\n",
       "    .dataframe thead th {\n",
       "        text-align: right;\n",
       "    }\n",
       "</style>\n",
       "<table border=\"1\" class=\"dataframe\">\n",
       "  <thead>\n",
       "    <tr style=\"text-align: right;\">\n",
       "      <th></th>\n",
       "      <th>Client Number</th>\n",
       "      <th>Client Type</th>\n",
       "      <th>Client Sex</th>\n",
       "      <th>Client Date of Birth</th>\n",
       "      <th>Client Marital Status</th>\n",
       "      <th>Client Name</th>\n",
       "      <th>CLTV Band</th>\n",
       "      <th>client_name</th>\n",
       "      <th>Propensity</th>\n",
       "      <th>City</th>\n",
       "      <th>Lat</th>\n",
       "      <th>Lng</th>\n",
       "      <th>Population</th>\n",
       "      <th>Tier</th>\n",
       "      <th>Population Class</th>\n",
       "      <th>Customer Age</th>\n",
       "      <th>Profession Category</th>\n",
       "    </tr>\n",
       "  </thead>\n",
       "  <tbody>\n",
       "    <tr>\n",
       "      <th>0</th>\n",
       "      <td>50000847</td>\n",
       "      <td>P</td>\n",
       "      <td>M</td>\n",
       "      <td>19800101</td>\n",
       "      <td>M</td>\n",
       "      <td>BOSCO DON</td>\n",
       "      <td>high value</td>\n",
       "      <td>Drake willson</td>\n",
       "      <td>0.172292</td>\n",
       "      <td>Bhāgalpur</td>\n",
       "      <td>25.244462</td>\n",
       "      <td>86.971832</td>\n",
       "      <td>361548.0</td>\n",
       "      <td>Tier-1</td>\n",
       "      <td>Urban</td>\n",
       "      <td>46</td>\n",
       "      <td>Blue Collar Job</td>\n",
       "    </tr>\n",
       "    <tr>\n",
       "      <th>1</th>\n",
       "      <td>50001036</td>\n",
       "      <td>P</td>\n",
       "      <td>M</td>\n",
       "      <td>19860101</td>\n",
       "      <td>M</td>\n",
       "      <td>Way Tily</td>\n",
       "      <td>low value</td>\n",
       "      <td>NINJA RUL</td>\n",
       "      <td>0.063220</td>\n",
       "      <td>Nāra</td>\n",
       "      <td>21.203096</td>\n",
       "      <td>79.089284</td>\n",
       "      <td>2454000.0</td>\n",
       "      <td>Tier-1</td>\n",
       "      <td>Metropolitan</td>\n",
       "      <td>58</td>\n",
       "      <td>Blue Collar Job</td>\n",
       "    </tr>\n",
       "    <tr>\n",
       "      <th>2</th>\n",
       "      <td>50030482</td>\n",
       "      <td>P</td>\n",
       "      <td>M</td>\n",
       "      <td>19800101</td>\n",
       "      <td>M</td>\n",
       "      <td>Ansh TEN</td>\n",
       "      <td>high value</td>\n",
       "      <td>Pal Inder</td>\n",
       "      <td>0.067246</td>\n",
       "      <td>Nāra</td>\n",
       "      <td>21.203096</td>\n",
       "      <td>79.089284</td>\n",
       "      <td>2454000.0</td>\n",
       "      <td>Tier-1</td>\n",
       "      <td>Metropolitan</td>\n",
       "      <td>57</td>\n",
       "      <td>Blue Collar Job</td>\n",
       "    </tr>\n",
       "    <tr>\n",
       "      <th>3</th>\n",
       "      <td>50052159</td>\n",
       "      <td>P</td>\n",
       "      <td>M</td>\n",
       "      <td>19850101</td>\n",
       "      <td>S</td>\n",
       "      <td>RTA Ashish</td>\n",
       "      <td>high value</td>\n",
       "      <td>Anthony Lim</td>\n",
       "      <td>0.091467</td>\n",
       "      <td>Nāra</td>\n",
       "      <td>21.203096</td>\n",
       "      <td>79.089284</td>\n",
       "      <td>2454000.0</td>\n",
       "      <td>Tier-1</td>\n",
       "      <td>Metropolitan</td>\n",
       "      <td>55</td>\n",
       "      <td>Other</td>\n",
       "    </tr>\n",
       "    <tr>\n",
       "      <th>4</th>\n",
       "      <td>50001209</td>\n",
       "      <td>P</td>\n",
       "      <td>M</td>\n",
       "      <td>19850715</td>\n",
       "      <td>S</td>\n",
       "      <td>John Anderson</td>\n",
       "      <td>high value</td>\n",
       "      <td>Andy F Bambang</td>\n",
       "      <td>0.066643</td>\n",
       "      <td>Gaya</td>\n",
       "      <td>24.796858</td>\n",
       "      <td>85.003852</td>\n",
       "      <td>423692.0</td>\n",
       "      <td>Tier-1</td>\n",
       "      <td>Urban</td>\n",
       "      <td>64</td>\n",
       "      <td>White Collar Job</td>\n",
       "    </tr>\n",
       "  </tbody>\n",
       "</table>\n",
       "</div>"
      ],
      "text/plain": [
       "   Client Number Client Type Client Sex  Client Date of Birth  \\\n",
       "0       50000847           P          M              19800101   \n",
       "1       50001036           P          M              19860101   \n",
       "2       50030482           P          M              19800101   \n",
       "3       50052159           P          M              19850101   \n",
       "4       50001209           P          M              19850715   \n",
       "\n",
       "  Client Marital Status    Client Name   CLTV Band     client_name  \\\n",
       "0                     M      BOSCO DON  high value   Drake willson   \n",
       "1                     M       Way Tily   low value       NINJA RUL   \n",
       "2                     M       Ansh TEN  high value       Pal Inder   \n",
       "3                     S     RTA Ashish  high value     Anthony Lim   \n",
       "4                     S  John Anderson  high value  Andy F Bambang   \n",
       "\n",
       "   Propensity       City        Lat        Lng  Population    Tier  \\\n",
       "0    0.172292  Bhāgalpur  25.244462  86.971832    361548.0  Tier-1   \n",
       "1    0.063220       Nāra  21.203096  79.089284   2454000.0  Tier-1   \n",
       "2    0.067246       Nāra  21.203096  79.089284   2454000.0  Tier-1   \n",
       "3    0.091467       Nāra  21.203096  79.089284   2454000.0  Tier-1   \n",
       "4    0.066643       Gaya  24.796858  85.003852    423692.0  Tier-1   \n",
       "\n",
       "  Population Class  Customer Age Profession Category  \n",
       "0            Urban            46     Blue Collar Job  \n",
       "1     Metropolitan            58     Blue Collar Job  \n",
       "2     Metropolitan            57     Blue Collar Job  \n",
       "3     Metropolitan            55               Other  \n",
       "4            Urban            64    White Collar Job  "
      ]
     },
     "execution_count": 36,
     "metadata": {},
     "output_type": "execute_result"
    }
   ],
   "source": [
    "# Import Data\n",
    "\n",
    "df = pd.read_csv('EX_SOURCE_CUSTOMER_SEGMENTATION_LIFE.csv')\n",
    "df.head()"
   ]
  },
  {
   "cell_type": "code",
   "execution_count": 37,
   "metadata": {},
   "outputs": [
    {
     "data": {
      "text/plain": [
       "(359, 17)"
      ]
     },
     "execution_count": 37,
     "metadata": {},
     "output_type": "execute_result"
    }
   ],
   "source": [
    "df.shape"
   ]
  },
  {
   "cell_type": "code",
   "execution_count": 38,
   "metadata": {},
   "outputs": [
    {
     "data": {
      "text/plain": [
       "Client Number             0\n",
       "Client Type               0\n",
       "Client Sex                0\n",
       "Client Date of Birth      0\n",
       "Client Marital Status     0\n",
       "Client Name               0\n",
       "CLTV Band                 0\n",
       "client_name               0\n",
       "Propensity                0\n",
       "City                      0\n",
       "Lat                       0\n",
       "Lng                       0\n",
       "Population               12\n",
       "Tier                      0\n",
       "Population Class          0\n",
       "Customer Age              0\n",
       "Profession Category       0\n",
       "dtype: int64"
      ]
     },
     "execution_count": 38,
     "metadata": {},
     "output_type": "execute_result"
    }
   ],
   "source": [
    "df.isnull().sum()"
   ]
  },
  {
   "cell_type": "code",
   "execution_count": 39,
   "metadata": {},
   "outputs": [],
   "source": [
    "# delete the rows - 'Client Number', 'Client Date of Birth', 'Client Name', 'client_name', 'Lat', 'Lng' 'Population'\n",
    "df = df.drop(['Client Number', 'Client Date of Birth', 'Client Name', 'client_name', 'Lat', 'Lng', 'Population'], axis=1)"
   ]
  },
  {
   "cell_type": "code",
   "execution_count": 40,
   "metadata": {},
   "outputs": [
    {
     "data": {
      "text/html": [
       "<div>\n",
       "<style scoped>\n",
       "    .dataframe tbody tr th:only-of-type {\n",
       "        vertical-align: middle;\n",
       "    }\n",
       "\n",
       "    .dataframe tbody tr th {\n",
       "        vertical-align: top;\n",
       "    }\n",
       "\n",
       "    .dataframe thead th {\n",
       "        text-align: right;\n",
       "    }\n",
       "</style>\n",
       "<table border=\"1\" class=\"dataframe\">\n",
       "  <thead>\n",
       "    <tr style=\"text-align: right;\">\n",
       "      <th></th>\n",
       "      <th>Client Type</th>\n",
       "      <th>Client Sex</th>\n",
       "      <th>Client Marital Status</th>\n",
       "      <th>CLTV Band</th>\n",
       "      <th>Propensity</th>\n",
       "      <th>City</th>\n",
       "      <th>Tier</th>\n",
       "      <th>Population Class</th>\n",
       "      <th>Customer Age</th>\n",
       "      <th>Profession Category</th>\n",
       "    </tr>\n",
       "  </thead>\n",
       "  <tbody>\n",
       "    <tr>\n",
       "      <th>0</th>\n",
       "      <td>P</td>\n",
       "      <td>M</td>\n",
       "      <td>M</td>\n",
       "      <td>high value</td>\n",
       "      <td>0.172292</td>\n",
       "      <td>Bhāgalpur</td>\n",
       "      <td>Tier-1</td>\n",
       "      <td>Urban</td>\n",
       "      <td>46</td>\n",
       "      <td>Blue Collar Job</td>\n",
       "    </tr>\n",
       "    <tr>\n",
       "      <th>1</th>\n",
       "      <td>P</td>\n",
       "      <td>M</td>\n",
       "      <td>M</td>\n",
       "      <td>low value</td>\n",
       "      <td>0.063220</td>\n",
       "      <td>Nāra</td>\n",
       "      <td>Tier-1</td>\n",
       "      <td>Metropolitan</td>\n",
       "      <td>58</td>\n",
       "      <td>Blue Collar Job</td>\n",
       "    </tr>\n",
       "    <tr>\n",
       "      <th>2</th>\n",
       "      <td>P</td>\n",
       "      <td>M</td>\n",
       "      <td>M</td>\n",
       "      <td>high value</td>\n",
       "      <td>0.067246</td>\n",
       "      <td>Nāra</td>\n",
       "      <td>Tier-1</td>\n",
       "      <td>Metropolitan</td>\n",
       "      <td>57</td>\n",
       "      <td>Blue Collar Job</td>\n",
       "    </tr>\n",
       "    <tr>\n",
       "      <th>3</th>\n",
       "      <td>P</td>\n",
       "      <td>M</td>\n",
       "      <td>S</td>\n",
       "      <td>high value</td>\n",
       "      <td>0.091467</td>\n",
       "      <td>Nāra</td>\n",
       "      <td>Tier-1</td>\n",
       "      <td>Metropolitan</td>\n",
       "      <td>55</td>\n",
       "      <td>Other</td>\n",
       "    </tr>\n",
       "    <tr>\n",
       "      <th>4</th>\n",
       "      <td>P</td>\n",
       "      <td>M</td>\n",
       "      <td>S</td>\n",
       "      <td>high value</td>\n",
       "      <td>0.066643</td>\n",
       "      <td>Gaya</td>\n",
       "      <td>Tier-1</td>\n",
       "      <td>Urban</td>\n",
       "      <td>64</td>\n",
       "      <td>White Collar Job</td>\n",
       "    </tr>\n",
       "  </tbody>\n",
       "</table>\n",
       "</div>"
      ],
      "text/plain": [
       "  Client Type Client Sex Client Marital Status   CLTV Band  Propensity  \\\n",
       "0           P          M                     M  high value    0.172292   \n",
       "1           P          M                     M   low value    0.063220   \n",
       "2           P          M                     M  high value    0.067246   \n",
       "3           P          M                     S  high value    0.091467   \n",
       "4           P          M                     S  high value    0.066643   \n",
       "\n",
       "        City    Tier Population Class  Customer Age Profession Category  \n",
       "0  Bhāgalpur  Tier-1            Urban            46     Blue Collar Job  \n",
       "1       Nāra  Tier-1     Metropolitan            58     Blue Collar Job  \n",
       "2       Nāra  Tier-1     Metropolitan            57     Blue Collar Job  \n",
       "3       Nāra  Tier-1     Metropolitan            55               Other  \n",
       "4       Gaya  Tier-1            Urban            64    White Collar Job  "
      ]
     },
     "execution_count": 40,
     "metadata": {},
     "output_type": "execute_result"
    }
   ],
   "source": [
    "df.head()"
   ]
  },
  {
   "cell_type": "code",
   "execution_count": 41,
   "metadata": {},
   "outputs": [
    {
     "data": {
      "text/plain": [
       "(359, 10)"
      ]
     },
     "execution_count": 41,
     "metadata": {},
     "output_type": "execute_result"
    }
   ],
   "source": [
    "df.shape"
   ]
  },
  {
   "cell_type": "code",
   "execution_count": 42,
   "metadata": {},
   "outputs": [
    {
     "data": {
      "text/plain": [
       "Index(['Client Type', 'Client Sex', 'Client Marital Status', 'CLTV Band',\n",
       "       'Propensity', 'City', 'Tier', 'Population Class', 'Customer Age',\n",
       "       'Profession Category'],\n",
       "      dtype='object')"
      ]
     },
     "execution_count": 42,
     "metadata": {},
     "output_type": "execute_result"
    }
   ],
   "source": [
    "df.columns"
   ]
  },
  {
   "cell_type": "code",
   "execution_count": 43,
   "metadata": {},
   "outputs": [
    {
     "data": {
      "text/plain": [
       "Client Type               object\n",
       "Client Sex                object\n",
       "Client Marital Status     object\n",
       "CLTV Band                 object\n",
       "Propensity               float64\n",
       "City                      object\n",
       "Tier                      object\n",
       "Population Class          object\n",
       "Customer Age               int64\n",
       "Profession Category       object\n",
       "dtype: object"
      ]
     },
     "execution_count": 43,
     "metadata": {},
     "output_type": "execute_result"
    }
   ],
   "source": [
    "df.dtypes"
   ]
  },
  {
   "cell_type": "code",
   "execution_count": 44,
   "metadata": {},
   "outputs": [
    {
     "data": {
      "text/plain": [
       "array([['P', 'M', 'M', ..., 'Urban', 46, 'Blue Collar Job'],\n",
       "       ['P', 'M', 'M', ..., 'Metropolitan', 58, 'Blue Collar Job'],\n",
       "       ['P', 'M', 'M', ..., 'Metropolitan', 57, 'Blue Collar Job'],\n",
       "       ...,\n",
       "       ['P', 'M', 'S', ..., 'Urban', 26, 'Other'],\n",
       "       ['P', 'M', 'M', ..., 'Urban', 67, 'White Collar Job'],\n",
       "       ['P', 'M', 'M', ..., 'Urban', 31, 'Other']], dtype=object)"
      ]
     },
     "execution_count": 44,
     "metadata": {},
     "output_type": "execute_result"
    }
   ],
   "source": [
    "df_array=df.values\n",
    "df_array"
   ]
  },
  {
   "cell_type": "code",
   "execution_count": 45,
   "metadata": {},
   "outputs": [
    {
     "ename": "ValueError",
     "evalue": "could not convert string to float: 'M'",
     "output_type": "error",
     "traceback": [
      "\u001b[1;31m---------------------------------------------------------------------------\u001b[0m",
      "\u001b[1;31mValueError\u001b[0m                                Traceback (most recent call last)",
      "\u001b[1;32m<ipython-input-45-b3a7bf167937>\u001b[0m in \u001b[0;36m<module>\u001b[1;34m\u001b[0m\n\u001b[1;32m----> 1\u001b[1;33m \u001b[0mdf_array\u001b[0m\u001b[1;33m[\u001b[0m\u001b[1;33m:\u001b[0m\u001b[1;33m,\u001b[0m \u001b[1;36m1\u001b[0m\u001b[1;33m]\u001b[0m \u001b[1;33m=\u001b[0m \u001b[0mdf_array\u001b[0m\u001b[1;33m[\u001b[0m\u001b[1;33m:\u001b[0m\u001b[1;33m,\u001b[0m \u001b[1;36m1\u001b[0m\u001b[1;33m]\u001b[0m\u001b[1;33m.\u001b[0m\u001b[0mastype\u001b[0m\u001b[1;33m(\u001b[0m\u001b[0mfloat\u001b[0m\u001b[1;33m)\u001b[0m\u001b[1;33m\u001b[0m\u001b[1;33m\u001b[0m\u001b[0m\n\u001b[0m",
      "\u001b[1;31mValueError\u001b[0m: could not convert string to float: 'M'"
     ]
    }
   ],
   "source": [
    "df_array[:, 1] = df_array[:, 1].astype(float)"
   ]
  },
  {
   "cell_type": "code",
   "execution_count": 46,
   "metadata": {},
   "outputs": [
    {
     "ename": "ValueError",
     "evalue": "could not convert string to float: 'M'",
     "output_type": "error",
     "traceback": [
      "\u001b[1;31m---------------------------------------------------------------------------\u001b[0m",
      "\u001b[1;31mValueError\u001b[0m                                Traceback (most recent call last)",
      "\u001b[1;32m<ipython-input-46-ee24f2e4ab8e>\u001b[0m in \u001b[0;36m<module>\u001b[1;34m\u001b[0m\n\u001b[0;32m      1\u001b[0m \u001b[0mkproto\u001b[0m \u001b[1;33m=\u001b[0m \u001b[0mKPrototypes\u001b[0m\u001b[1;33m(\u001b[0m\u001b[0mn_clusters\u001b[0m\u001b[1;33m=\u001b[0m\u001b[1;36m3\u001b[0m\u001b[1;33m,\u001b[0m \u001b[0mverbose\u001b[0m\u001b[1;33m=\u001b[0m\u001b[1;36m2\u001b[0m\u001b[1;33m,\u001b[0m\u001b[0mmax_iter\u001b[0m\u001b[1;33m=\u001b[0m\u001b[1;36m20\u001b[0m\u001b[1;33m)\u001b[0m\u001b[1;33m\u001b[0m\u001b[1;33m\u001b[0m\u001b[0m\n\u001b[1;32m----> 2\u001b[1;33m \u001b[0mclusters\u001b[0m \u001b[1;33m=\u001b[0m \u001b[0mkproto\u001b[0m\u001b[1;33m.\u001b[0m\u001b[0mfit_predict\u001b[0m\u001b[1;33m(\u001b[0m\u001b[0mdf_array\u001b[0m\u001b[1;33m,\u001b[0m \u001b[0mcategorical\u001b[0m\u001b[1;33m=\u001b[0m\u001b[1;33m[\u001b[0m\u001b[1;36m0\u001b[0m\u001b[1;33m,\u001b[0m \u001b[1;36m2\u001b[0m\u001b[1;33m,\u001b[0m \u001b[1;36m4\u001b[0m\u001b[1;33m]\u001b[0m\u001b[1;33m)\u001b[0m\u001b[1;33m\u001b[0m\u001b[1;33m\u001b[0m\u001b[0m\n\u001b[0m",
      "\u001b[1;32m~\\AppData\\Local\\Continuum\\anaconda3\\lib\\site-packages\\kmodes\\kmodes.py\u001b[0m in \u001b[0;36mfit_predict\u001b[1;34m(self, X, y, **kwargs)\u001b[0m\n\u001b[0;32m    407\u001b[0m         \u001b[0mpredict\u001b[0m\u001b[1;33m(\u001b[0m\u001b[0mX\u001b[0m\u001b[1;33m)\u001b[0m\u001b[1;33m.\u001b[0m\u001b[1;33m\u001b[0m\u001b[1;33m\u001b[0m\u001b[0m\n\u001b[0;32m    408\u001b[0m         \"\"\"\n\u001b[1;32m--> 409\u001b[1;33m         \u001b[1;32mreturn\u001b[0m \u001b[0mself\u001b[0m\u001b[1;33m.\u001b[0m\u001b[0mfit\u001b[0m\u001b[1;33m(\u001b[0m\u001b[0mX\u001b[0m\u001b[1;33m,\u001b[0m \u001b[1;33m**\u001b[0m\u001b[0mkwargs\u001b[0m\u001b[1;33m)\u001b[0m\u001b[1;33m.\u001b[0m\u001b[0mpredict\u001b[0m\u001b[1;33m(\u001b[0m\u001b[0mX\u001b[0m\u001b[1;33m,\u001b[0m \u001b[1;33m**\u001b[0m\u001b[0mkwargs\u001b[0m\u001b[1;33m)\u001b[0m\u001b[1;33m\u001b[0m\u001b[1;33m\u001b[0m\u001b[0m\n\u001b[0m\u001b[0;32m    410\u001b[0m \u001b[1;33m\u001b[0m\u001b[0m\n\u001b[0;32m    411\u001b[0m     \u001b[1;32mdef\u001b[0m \u001b[0mpredict\u001b[0m\u001b[1;33m(\u001b[0m\u001b[0mself\u001b[0m\u001b[1;33m,\u001b[0m \u001b[0mX\u001b[0m\u001b[1;33m,\u001b[0m \u001b[1;33m**\u001b[0m\u001b[0mkwargs\u001b[0m\u001b[1;33m)\u001b[0m\u001b[1;33m:\u001b[0m\u001b[1;33m\u001b[0m\u001b[1;33m\u001b[0m\u001b[0m\n",
      "\u001b[1;32m~\\AppData\\Local\\Continuum\\anaconda3\\lib\\site-packages\\kmodes\\kprototypes.py\u001b[0m in \u001b[0;36mfit\u001b[1;34m(self, X, y, categorical)\u001b[0m\n\u001b[0;32m    460\u001b[0m                                                     \u001b[0mself\u001b[0m\u001b[1;33m.\u001b[0m\u001b[0mverbose\u001b[0m\u001b[1;33m,\u001b[0m\u001b[1;33m\u001b[0m\u001b[1;33m\u001b[0m\u001b[0m\n\u001b[0;32m    461\u001b[0m                                                     \u001b[0mrandom_state\u001b[0m\u001b[1;33m,\u001b[0m\u001b[1;33m\u001b[0m\u001b[1;33m\u001b[0m\u001b[0m\n\u001b[1;32m--> 462\u001b[1;33m                                                     self.n_jobs)\n\u001b[0m\u001b[0;32m    463\u001b[0m         \u001b[1;32mreturn\u001b[0m \u001b[0mself\u001b[0m\u001b[1;33m\u001b[0m\u001b[1;33m\u001b[0m\u001b[0m\n\u001b[0;32m    464\u001b[0m \u001b[1;33m\u001b[0m\u001b[0m\n",
      "\u001b[1;32m~\\AppData\\Local\\Continuum\\anaconda3\\lib\\site-packages\\kmodes\\kprototypes.py\u001b[0m in \u001b[0;36mk_prototypes\u001b[1;34m(X, categorical, n_clusters, max_iter, num_dissim, cat_dissim, gamma, init, n_init, verbose, random_state, n_jobs)\u001b[0m\n\u001b[0;32m    279\u001b[0m                                    \u001b[1;34m\"than data points ({}).\"\u001b[0m\u001b[1;33m.\u001b[0m\u001b[0mformat\u001b[0m\u001b[1;33m(\u001b[0m\u001b[0mn_clusters\u001b[0m\u001b[1;33m,\u001b[0m \u001b[0mn_points\u001b[0m\u001b[1;33m)\u001b[0m\u001b[1;33m\u001b[0m\u001b[1;33m\u001b[0m\u001b[0m\n\u001b[0;32m    280\u001b[0m \u001b[1;33m\u001b[0m\u001b[0m\n\u001b[1;32m--> 281\u001b[1;33m     \u001b[0mXnum\u001b[0m\u001b[1;33m,\u001b[0m \u001b[0mXcat\u001b[0m \u001b[1;33m=\u001b[0m \u001b[0m_split_num_cat\u001b[0m\u001b[1;33m(\u001b[0m\u001b[0mX\u001b[0m\u001b[1;33m,\u001b[0m \u001b[0mcategorical\u001b[0m\u001b[1;33m)\u001b[0m\u001b[1;33m\u001b[0m\u001b[1;33m\u001b[0m\u001b[0m\n\u001b[0m\u001b[0;32m    282\u001b[0m     \u001b[0mXnum\u001b[0m\u001b[1;33m,\u001b[0m \u001b[0mXcat\u001b[0m \u001b[1;33m=\u001b[0m \u001b[0mcheck_array\u001b[0m\u001b[1;33m(\u001b[0m\u001b[0mXnum\u001b[0m\u001b[1;33m)\u001b[0m\u001b[1;33m,\u001b[0m \u001b[0mcheck_array\u001b[0m\u001b[1;33m(\u001b[0m\u001b[0mXcat\u001b[0m\u001b[1;33m,\u001b[0m \u001b[0mdtype\u001b[0m\u001b[1;33m=\u001b[0m\u001b[1;32mNone\u001b[0m\u001b[1;33m)\u001b[0m\u001b[1;33m\u001b[0m\u001b[1;33m\u001b[0m\u001b[0m\n\u001b[0;32m    283\u001b[0m \u001b[1;33m\u001b[0m\u001b[0m\n",
      "\u001b[1;32m~\\AppData\\Local\\Continuum\\anaconda3\\lib\\site-packages\\kmodes\\kprototypes.py\u001b[0m in \u001b[0;36m_split_num_cat\u001b[1;34m(X, categorical)\u001b[0m\n\u001b[0;32m     46\u001b[0m     \"\"\"\n\u001b[0;32m     47\u001b[0m     Xnum = np.asanyarray(X[:, [ii for ii in range(X.shape[1])\n\u001b[1;32m---> 48\u001b[1;33m                                if ii not in categorical]]).astype(np.float64)\n\u001b[0m\u001b[0;32m     49\u001b[0m     \u001b[0mXcat\u001b[0m \u001b[1;33m=\u001b[0m \u001b[0mnp\u001b[0m\u001b[1;33m.\u001b[0m\u001b[0masanyarray\u001b[0m\u001b[1;33m(\u001b[0m\u001b[0mX\u001b[0m\u001b[1;33m[\u001b[0m\u001b[1;33m:\u001b[0m\u001b[1;33m,\u001b[0m \u001b[0mcategorical\u001b[0m\u001b[1;33m]\u001b[0m\u001b[1;33m)\u001b[0m\u001b[1;33m\u001b[0m\u001b[1;33m\u001b[0m\u001b[0m\n\u001b[0;32m     50\u001b[0m     \u001b[1;32mreturn\u001b[0m \u001b[0mXnum\u001b[0m\u001b[1;33m,\u001b[0m \u001b[0mXcat\u001b[0m\u001b[1;33m\u001b[0m\u001b[1;33m\u001b[0m\u001b[0m\n",
      "\u001b[1;31mValueError\u001b[0m: could not convert string to float: 'M'"
     ]
    }
   ],
   "source": [
    "kproto = KPrototypes(n_clusters=3, verbose=2,max_iter=20)\n",
    "clusters = kproto.fit_predict(df_array, categorical=[0, 2, 4])"
   ]
  },
  {
   "cell_type": "code",
   "execution_count": null,
   "metadata": {},
   "outputs": [],
   "source": []
  },
  {
   "cell_type": "code",
   "execution_count": null,
   "metadata": {},
   "outputs": [],
   "source": []
  },
  {
   "cell_type": "code",
   "execution_count": null,
   "metadata": {},
   "outputs": [],
   "source": []
  },
  {
   "cell_type": "code",
   "execution_count": null,
   "metadata": {},
   "outputs": [],
   "source": []
  },
  {
   "cell_type": "code",
   "execution_count": null,
   "metadata": {},
   "outputs": [],
   "source": []
  },
  {
   "cell_type": "code",
   "execution_count": null,
   "metadata": {},
   "outputs": [],
   "source": []
  },
  {
   "cell_type": "code",
   "execution_count": null,
   "metadata": {},
   "outputs": [],
   "source": []
  },
  {
   "cell_type": "code",
   "execution_count": null,
   "metadata": {},
   "outputs": [],
   "source": []
  },
  {
   "cell_type": "code",
   "execution_count": null,
   "metadata": {},
   "outputs": [],
   "source": []
  },
  {
   "cell_type": "code",
   "execution_count": null,
   "metadata": {},
   "outputs": [],
   "source": []
  }
 ],
 "metadata": {
  "kernelspec": {
   "display_name": "Python 3",
   "language": "python",
   "name": "python3"
  },
  "language_info": {
   "codemirror_mode": {
    "name": "ipython",
    "version": 3
   },
   "file_extension": ".py",
   "mimetype": "text/x-python",
   "name": "python",
   "nbconvert_exporter": "python",
   "pygments_lexer": "ipython3",
   "version": "3.7.3"
  }
 },
 "nbformat": 4,
 "nbformat_minor": 2
}
