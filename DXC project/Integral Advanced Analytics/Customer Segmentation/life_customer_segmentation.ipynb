{
 "cells": [
  {
   "cell_type": "markdown",
   "metadata": {},
   "source": [
    "## Life Customer Segmentation\n",
    "## Data used for analysis is based on Integral Life Admin System"
   ]
  },
  {
   "cell_type": "markdown",
   "metadata": {},
   "source": [
    "### The SQL query in below cells will retreive data based on database credentials provide. Right now these credentials have been left empty for security reasons. Please enter relevant details before running this notebook further."
   ]
  },
  {
   "cell_type": "code",
   "execution_count": 246,
   "metadata": {},
   "outputs": [],
   "source": [
    "# Import Packages\n",
    "import numpy as np\n",
    "\n",
    "import pandas as pd\n",
    "import pyodbc \n",
    "\n",
    "# Settings to view all columns and rows\n",
    "pd.set_option('display.max_rows', 1000)\n",
    "pd.set_option('display.max_columns', 1000)"
   ]
  },
  {
   "cell_type": "markdown",
   "metadata": {},
   "source": [
    "## Import Data"
   ]
  },
  {
   "cell_type": "code",
   "execution_count": 101,
   "metadata": {},
   "outputs": [],
   "source": [
    "# Enter ip address and port number of the system where the database resides.\n",
    "server = '172.31.20.94'\n",
    "database = 'INT77DB2014_LIF' \n",
    "username = 'sisensedb_user'\n",
    "password = 'Sisense12#$' "
   ]
  },
  {
   "cell_type": "code",
   "execution_count": 102,
   "metadata": {},
   "outputs": [],
   "source": [
    "# Add appropriate driver name\n",
    "cnxn = pyodbc.connect('DRIVER={SQL Server};SERVER='+server+';DATABASE='+database+';UID='+username+';PWD='+ password)\n",
    "cursor = cnxn.cursor()"
   ]
  },
  {
   "cell_type": "code",
   "execution_count": 103,
   "metadata": {},
   "outputs": [],
   "source": [
    "# Run Query\n",
    "query = '''\n",
    "select \n",
    "q1.clntnum as 'Client Number',\n",
    "q1.clttype as 'Client Type' ,\n",
    "q1.cltsex  as 'Client Sex' ,\n",
    "q1.cltdob  as 'Client Date of Birth',\n",
    "q1.marryd  as 'Client Marital Status',\n",
    "q1.[client name] as 'Client Name'\n",
    "from\n",
    "\n",
    "(select clntnum, clttype, ( rtrim(givname) + ' ' + rtrim(surname) ) as 'client name', cltsex, cltdob, marryd from vm1dta.clntpf where validflag = '1')q1\n",
    "order by q1.clntnum\n",
    "'''"
   ]
  },
  {
   "cell_type": "code",
   "execution_count": 104,
   "metadata": {},
   "outputs": [],
   "source": [
    "# Read data\n",
    "df_source = pd.read_sql(query,cnxn)\n",
    "\n",
    "# Close the cursor\n",
    "cursor.close() "
   ]
  },
  {
   "cell_type": "code",
   "execution_count": 105,
   "metadata": {},
   "outputs": [
    {
     "data": {
      "text/plain": [
       "(91455, 6)"
      ]
     },
     "execution_count": 105,
     "metadata": {},
     "output_type": "execute_result"
    }
   ],
   "source": [
    "# Check row and column count \n",
    "df_source.shape"
   ]
  },
  {
   "cell_type": "code",
   "execution_count": 204,
   "metadata": {},
   "outputs": [],
   "source": [
    "# Change data type for Client Number\n",
    "df_source['Client Number'] = df_source['Client Number'].astype('str')"
   ]
  },
  {
   "cell_type": "code",
   "execution_count": 205,
   "metadata": {},
   "outputs": [
    {
     "data": {
      "text/plain": [
       "Client Number            object\n",
       "Client Type              object\n",
       "Client Sex               object\n",
       "Client Date of Birth      int64\n",
       "Client Marital Status    object\n",
       "Client Name              object\n",
       "dtype: object"
      ]
     },
     "execution_count": 205,
     "metadata": {},
     "output_type": "execute_result"
    }
   ],
   "source": [
    "# Check datatypes \n",
    "df_source.dtypes"
   ]
  },
  {
   "cell_type": "code",
   "execution_count": 193,
   "metadata": {},
   "outputs": [],
   "source": [
    "# Import Customer Life Time Value Data\n",
    "\n",
    "df_cltv = pd.read_csv('C:\\ProgramData\\Sisense\\PrismServer\\ElastiCubeData\\EX_SOURCE_CLTVSCORE_LIFE.csv', usecols = ['clntnum', 'cltvband','client_name'])"
   ]
  },
  {
   "cell_type": "code",
   "execution_count": 194,
   "metadata": {},
   "outputs": [],
   "source": [
    "# Rename column names\n",
    "df_cltv = df_cltv.rename(columns={\"clntnum\":\"Client Number\", \"cltvband\":\"CLTV Band\"})"
   ]
  },
  {
   "cell_type": "code",
   "execution_count": 195,
   "metadata": {},
   "outputs": [
    {
     "data": {
      "text/plain": [
       "(694, 3)"
      ]
     },
     "execution_count": 195,
     "metadata": {},
     "output_type": "execute_result"
    }
   ],
   "source": [
    "# Check row and column count \n",
    "df_cltv.shape"
   ]
  },
  {
   "cell_type": "code",
   "execution_count": 196,
   "metadata": {},
   "outputs": [
    {
     "data": {
      "text/plain": [
       "Client Number     int64\n",
       "CLTV Band        object\n",
       "client_name      object\n",
       "dtype: object"
      ]
     },
     "execution_count": 196,
     "metadata": {},
     "output_type": "execute_result"
    }
   ],
   "source": [
    "# Check datatypes \n",
    "df_cltv.dtypes"
   ]
  },
  {
   "cell_type": "code",
   "execution_count": 200,
   "metadata": {},
   "outputs": [],
   "source": [
    "# Change data type for Client Number\n",
    "df_cltv['Client Number'] = df_cltv['Client Number'].astype(str)"
   ]
  },
  {
   "cell_type": "code",
   "execution_count": 201,
   "metadata": {
    "scrolled": true
   },
   "outputs": [
    {
     "data": {
      "text/html": [
       "<div>\n",
       "<style scoped>\n",
       "    .dataframe tbody tr th:only-of-type {\n",
       "        vertical-align: middle;\n",
       "    }\n",
       "\n",
       "    .dataframe tbody tr th {\n",
       "        vertical-align: top;\n",
       "    }\n",
       "\n",
       "    .dataframe thead th {\n",
       "        text-align: right;\n",
       "    }\n",
       "</style>\n",
       "<table border=\"1\" class=\"dataframe\">\n",
       "  <thead>\n",
       "    <tr style=\"text-align: right;\">\n",
       "      <th></th>\n",
       "      <th>Client Number</th>\n",
       "      <th>CLTV Band</th>\n",
       "      <th>client_name</th>\n",
       "    </tr>\n",
       "  </thead>\n",
       "  <tbody>\n",
       "    <tr>\n",
       "      <th>0</th>\n",
       "      <td>50000834</td>\n",
       "      <td>medium value</td>\n",
       "      <td>Payer Tham PVM</td>\n",
       "    </tr>\n",
       "    <tr>\n",
       "      <th>1</th>\n",
       "      <td>50001181</td>\n",
       "      <td>high value</td>\n",
       "      <td>John James</td>\n",
       "    </tr>\n",
       "    <tr>\n",
       "      <th>2</th>\n",
       "      <td>50002643</td>\n",
       "      <td>high value</td>\n",
       "      <td>Gaurav Singh</td>\n",
       "    </tr>\n",
       "    <tr>\n",
       "      <th>3</th>\n",
       "      <td>50002679</td>\n",
       "      <td>low value</td>\n",
       "      <td>Govind Pal</td>\n",
       "    </tr>\n",
       "    <tr>\n",
       "      <th>4</th>\n",
       "      <td>50002754</td>\n",
       "      <td>low value</td>\n",
       "      <td>Mohit Kumar</td>\n",
       "    </tr>\n",
       "  </tbody>\n",
       "</table>\n",
       "</div>"
      ],
      "text/plain": [
       "  Client Number     CLTV Band     client_name\n",
       "0      50000834  medium value  Payer Tham PVM\n",
       "1      50001181    high value      John James\n",
       "2      50002643    high value    Gaurav Singh\n",
       "3      50002679     low value      Govind Pal\n",
       "4      50002754     low value     Mohit Kumar"
      ]
     },
     "execution_count": 201,
     "metadata": {},
     "output_type": "execute_result"
    }
   ],
   "source": [
    "df_cltv.head()"
   ]
  },
  {
   "cell_type": "code",
   "execution_count": 207,
   "metadata": {},
   "outputs": [],
   "source": [
    "# Merge source dataframe and cltv dataframe\n",
    "\n",
    "df_merge_01 = pd.merge(df_source, df_cltv, on=\"Client Number\", how=\"inner\")"
   ]
  },
  {
   "cell_type": "code",
   "execution_count": 208,
   "metadata": {},
   "outputs": [
    {
     "data": {
      "text/plain": [
       "Client Number            0\n",
       "Client Type              0\n",
       "Client Sex               0\n",
       "Client Date of Birth     0\n",
       "Client Marital Status    3\n",
       "Client Name              0\n",
       "CLTV Band                0\n",
       "client_name              0\n",
       "dtype: int64"
      ]
     },
     "execution_count": 208,
     "metadata": {},
     "output_type": "execute_result"
    }
   ],
   "source": [
    "# Check for null columns\n",
    "\n",
    "df_merge_01.isnull().sum()"
   ]
  },
  {
   "cell_type": "code",
   "execution_count": null,
   "metadata": {},
   "outputs": [],
   "source": [
    "# Check size of the dataframe\n",
    "\n",
    "df_merge_01.shape()"
   ]
  },
  {
   "cell_type": "code",
   "execution_count": 215,
   "metadata": {},
   "outputs": [
    {
     "data": {
      "text/html": [
       "<div>\n",
       "<style scoped>\n",
       "    .dataframe tbody tr th:only-of-type {\n",
       "        vertical-align: middle;\n",
       "    }\n",
       "\n",
       "    .dataframe tbody tr th {\n",
       "        vertical-align: top;\n",
       "    }\n",
       "\n",
       "    .dataframe thead th {\n",
       "        text-align: right;\n",
       "    }\n",
       "</style>\n",
       "<table border=\"1\" class=\"dataframe\">\n",
       "  <thead>\n",
       "    <tr style=\"text-align: right;\">\n",
       "      <th></th>\n",
       "      <th>Client Number</th>\n",
       "      <th>Client Type</th>\n",
       "      <th>Client Sex</th>\n",
       "      <th>Client Date of Birth</th>\n",
       "      <th>Client Marital Status</th>\n",
       "      <th>Client Name</th>\n",
       "      <th>CLTV Band</th>\n",
       "      <th>client_name</th>\n",
       "    </tr>\n",
       "  </thead>\n",
       "  <tbody>\n",
       "    <tr>\n",
       "      <th>0</th>\n",
       "      <td>50000811</td>\n",
       "      <td>P</td>\n",
       "      <td>F</td>\n",
       "      <td>19800101</td>\n",
       "      <td>M</td>\n",
       "      <td>Robin Williams</td>\n",
       "      <td>high value</td>\n",
       "      <td>RTA Ashish</td>\n",
       "    </tr>\n",
       "    <tr>\n",
       "      <th>1</th>\n",
       "      <td>50000834</td>\n",
       "      <td>P</td>\n",
       "      <td>M</td>\n",
       "      <td>19600101</td>\n",
       "      <td>S</td>\n",
       "      <td>Payer Tham PVM</td>\n",
       "      <td>medium value</td>\n",
       "      <td>Payer Tham PVM</td>\n",
       "    </tr>\n",
       "    <tr>\n",
       "      <th>2</th>\n",
       "      <td>50000847</td>\n",
       "      <td>P</td>\n",
       "      <td>M</td>\n",
       "      <td>19800101</td>\n",
       "      <td>M</td>\n",
       "      <td>BOSCO DON</td>\n",
       "      <td>high value</td>\n",
       "      <td>Drake willson</td>\n",
       "    </tr>\n",
       "    <tr>\n",
       "      <th>3</th>\n",
       "      <td>50000908</td>\n",
       "      <td>P</td>\n",
       "      <td>M</td>\n",
       "      <td>19850715</td>\n",
       "      <td>S</td>\n",
       "      <td>John Anderson</td>\n",
       "      <td>high value</td>\n",
       "      <td>NINJA RUL</td>\n",
       "    </tr>\n",
       "    <tr>\n",
       "      <th>4</th>\n",
       "      <td>50000913</td>\n",
       "      <td>P</td>\n",
       "      <td>M</td>\n",
       "      <td>19860126</td>\n",
       "      <td>S</td>\n",
       "      <td>John Smith</td>\n",
       "      <td>medium value</td>\n",
       "      <td>NINJA RUL</td>\n",
       "    </tr>\n",
       "  </tbody>\n",
       "</table>\n",
       "</div>"
      ],
      "text/plain": [
       "  Client Number Client Type Client Sex  Client Date of Birth  \\\n",
       "0      50000811           P          F              19800101   \n",
       "1      50000834           P          M              19600101   \n",
       "2      50000847           P          M              19800101   \n",
       "3      50000908           P          M              19850715   \n",
       "4      50000913           P          M              19860126   \n",
       "\n",
       "  Client Marital Status     Client Name     CLTV Band     client_name  \n",
       "0                     M  Robin Williams    high value      RTA Ashish  \n",
       "1                     S  Payer Tham PVM  medium value  Payer Tham PVM  \n",
       "2                     M       BOSCO DON    high value   Drake willson  \n",
       "3                     S   John Anderson    high value       NINJA RUL  \n",
       "4                     S      John Smith  medium value       NINJA RUL  "
      ]
     },
     "execution_count": 215,
     "metadata": {},
     "output_type": "execute_result"
    }
   ],
   "source": [
    "# Inspect first few rows\n",
    "\n",
    "df_merge_01.head()"
   ]
  },
  {
   "cell_type": "code",
   "execution_count": 232,
   "metadata": {},
   "outputs": [],
   "source": [
    "# Import Customer Propensity to Buy Data\n",
    "\n",
    "df_propensity = pd.read_csv('C:\\ProgramData\\Sisense\\PrismServer\\ElastiCubeData\\EX_SOURCE_CUSTOMER_PROPENSITY_LIFE.csv', usecols=['CLIENT_NUMBER','buy'])"
   ]
  },
  {
   "cell_type": "code",
   "execution_count": 233,
   "metadata": {},
   "outputs": [],
   "source": [
    "# Rename column names\n",
    "df_propensity = df_propensity.rename(columns={\"CLIENT_NUMBER\":\"Client Number\", \"buy\":\"Propensity\"})"
   ]
  },
  {
   "cell_type": "code",
   "execution_count": 234,
   "metadata": {},
   "outputs": [
    {
     "data": {
      "text/plain": [
       "(1114, 2)"
      ]
     },
     "execution_count": 234,
     "metadata": {},
     "output_type": "execute_result"
    }
   ],
   "source": [
    "# Check row and column count \n",
    "df_propensity.shape"
   ]
  },
  {
   "cell_type": "code",
   "execution_count": 235,
   "metadata": {},
   "outputs": [
    {
     "data": {
      "text/plain": [
       "Client Number      int64\n",
       "Propensity       float64\n",
       "dtype: object"
      ]
     },
     "execution_count": 235,
     "metadata": {},
     "output_type": "execute_result"
    }
   ],
   "source": [
    "# Check datatypes \n",
    "df_propensity.dtypes"
   ]
  },
  {
   "cell_type": "code",
   "execution_count": 236,
   "metadata": {},
   "outputs": [
    {
     "data": {
      "text/html": [
       "<div>\n",
       "<style scoped>\n",
       "    .dataframe tbody tr th:only-of-type {\n",
       "        vertical-align: middle;\n",
       "    }\n",
       "\n",
       "    .dataframe tbody tr th {\n",
       "        vertical-align: top;\n",
       "    }\n",
       "\n",
       "    .dataframe thead th {\n",
       "        text-align: right;\n",
       "    }\n",
       "</style>\n",
       "<table border=\"1\" class=\"dataframe\">\n",
       "  <thead>\n",
       "    <tr style=\"text-align: right;\">\n",
       "      <th></th>\n",
       "      <th>Client Number</th>\n",
       "      <th>Propensity</th>\n",
       "    </tr>\n",
       "  </thead>\n",
       "  <tbody>\n",
       "    <tr>\n",
       "      <th>0</th>\n",
       "      <td>1588</td>\n",
       "      <td>0.155495</td>\n",
       "    </tr>\n",
       "    <tr>\n",
       "      <th>1</th>\n",
       "      <td>1685</td>\n",
       "      <td>0.147082</td>\n",
       "    </tr>\n",
       "    <tr>\n",
       "      <th>2</th>\n",
       "      <td>1753</td>\n",
       "      <td>0.063281</td>\n",
       "    </tr>\n",
       "    <tr>\n",
       "      <th>3</th>\n",
       "      <td>1762</td>\n",
       "      <td>0.125803</td>\n",
       "    </tr>\n",
       "    <tr>\n",
       "      <th>4</th>\n",
       "      <td>1791</td>\n",
       "      <td>0.134278</td>\n",
       "    </tr>\n",
       "  </tbody>\n",
       "</table>\n",
       "</div>"
      ],
      "text/plain": [
       "   Client Number  Propensity\n",
       "0           1588    0.155495\n",
       "1           1685    0.147082\n",
       "2           1753    0.063281\n",
       "3           1762    0.125803\n",
       "4           1791    0.134278"
      ]
     },
     "execution_count": 236,
     "metadata": {},
     "output_type": "execute_result"
    }
   ],
   "source": [
    "# Inspect first few rows\n",
    "\n",
    "df_propensity.head()"
   ]
  },
  {
   "cell_type": "code",
   "execution_count": 238,
   "metadata": {},
   "outputs": [],
   "source": [
    "# Change data type for Client Number\n",
    "df_propensity['Client Number'] = df_propensity['Client Number'].astype(str)"
   ]
  },
  {
   "cell_type": "code",
   "execution_count": 239,
   "metadata": {},
   "outputs": [],
   "source": [
    "# Pad leading zeroes in case client number does not have them\n",
    "\n",
    "df_propensity['Client Number']=df_propensity['Client Number'].apply(lambda i: '{0:0>8}'.format(i))"
   ]
  },
  {
   "cell_type": "code",
   "execution_count": 240,
   "metadata": {},
   "outputs": [],
   "source": [
    "# Merge source dataframe and cltv dataframe\n",
    "\n",
    "df_merge_02 = pd.merge(df_merge_01, df_propensity, on=\"Client Number\", how=\"inner\")"
   ]
  },
  {
   "cell_type": "code",
   "execution_count": 241,
   "metadata": {},
   "outputs": [
    {
     "data": {
      "text/plain": [
       "Client Number            0\n",
       "Client Type              0\n",
       "Client Sex               0\n",
       "Client Date of Birth     0\n",
       "Client Marital Status    0\n",
       "Client Name              0\n",
       "CLTV Band                0\n",
       "client_name              0\n",
       "Propensity               0\n",
       "dtype: int64"
      ]
     },
     "execution_count": 241,
     "metadata": {},
     "output_type": "execute_result"
    }
   ],
   "source": [
    "# Check for null columns\n",
    "\n",
    "df_merge_02.isnull().sum()"
   ]
  },
  {
   "cell_type": "code",
   "execution_count": 242,
   "metadata": {
    "scrolled": false
   },
   "outputs": [
    {
     "data": {
      "text/plain": [
       "(355, 9)"
      ]
     },
     "execution_count": 242,
     "metadata": {},
     "output_type": "execute_result"
    }
   ],
   "source": [
    "# Check size of the dataframe\n",
    "\n",
    "df_merge_02.shape"
   ]
  },
  {
   "cell_type": "code",
   "execution_count": 250,
   "metadata": {
    "scrolled": true
   },
   "outputs": [
    {
     "data": {
      "text/html": [
       "<div>\n",
       "<style scoped>\n",
       "    .dataframe tbody tr th:only-of-type {\n",
       "        vertical-align: middle;\n",
       "    }\n",
       "\n",
       "    .dataframe tbody tr th {\n",
       "        vertical-align: top;\n",
       "    }\n",
       "\n",
       "    .dataframe thead th {\n",
       "        text-align: right;\n",
       "    }\n",
       "</style>\n",
       "<table border=\"1\" class=\"dataframe\">\n",
       "  <thead>\n",
       "    <tr style=\"text-align: right;\">\n",
       "      <th></th>\n",
       "      <th>Client Number</th>\n",
       "      <th>Client Type</th>\n",
       "      <th>Client Sex</th>\n",
       "      <th>Client Date of Birth</th>\n",
       "      <th>Client Marital Status</th>\n",
       "      <th>Client Name</th>\n",
       "      <th>CLTV Band</th>\n",
       "      <th>client_name</th>\n",
       "      <th>Propensity</th>\n",
       "      <th>Continent</th>\n",
       "    </tr>\n",
       "  </thead>\n",
       "  <tbody>\n",
       "    <tr>\n",
       "      <th>0</th>\n",
       "      <td>50000847</td>\n",
       "      <td>P</td>\n",
       "      <td>M</td>\n",
       "      <td>19800101</td>\n",
       "      <td>M</td>\n",
       "      <td>BOSCO DON</td>\n",
       "      <td>high value</td>\n",
       "      <td>Drake willson</td>\n",
       "      <td>0.172292</td>\n",
       "      <td>Asia</td>\n",
       "    </tr>\n",
       "    <tr>\n",
       "      <th>1</th>\n",
       "      <td>50001036</td>\n",
       "      <td>P</td>\n",
       "      <td>M</td>\n",
       "      <td>19860101</td>\n",
       "      <td>M</td>\n",
       "      <td>Way Tily</td>\n",
       "      <td>low value</td>\n",
       "      <td>NINJA RUL</td>\n",
       "      <td>0.063220</td>\n",
       "      <td>Asia</td>\n",
       "    </tr>\n",
       "    <tr>\n",
       "      <th>2</th>\n",
       "      <td>50001209</td>\n",
       "      <td>P</td>\n",
       "      <td>M</td>\n",
       "      <td>19850715</td>\n",
       "      <td>S</td>\n",
       "      <td>John Anderson</td>\n",
       "      <td>high value</td>\n",
       "      <td>Andy F Bambang</td>\n",
       "      <td>0.066643</td>\n",
       "      <td>Europe</td>\n",
       "    </tr>\n",
       "    <tr>\n",
       "      <th>3</th>\n",
       "      <td>50001357</td>\n",
       "      <td>P</td>\n",
       "      <td>M</td>\n",
       "      <td>19880520</td>\n",
       "      <td>S</td>\n",
       "      <td>Pit Test</td>\n",
       "      <td>medium value</td>\n",
       "      <td>MOHIT SHARMA</td>\n",
       "      <td>0.070354</td>\n",
       "      <td>Asia</td>\n",
       "    </tr>\n",
       "    <tr>\n",
       "      <th>4</th>\n",
       "      <td>50001467</td>\n",
       "      <td>P</td>\n",
       "      <td>F</td>\n",
       "      <td>19900101</td>\n",
       "      <td>M</td>\n",
       "      <td>Manoj Sheetal</td>\n",
       "      <td>medium value</td>\n",
       "      <td>Ansh TEN</td>\n",
       "      <td>0.168367</td>\n",
       "      <td>Asia</td>\n",
       "    </tr>\n",
       "    <tr>\n",
       "      <th>5</th>\n",
       "      <td>50001495</td>\n",
       "      <td>P</td>\n",
       "      <td>M</td>\n",
       "      <td>19810529</td>\n",
       "      <td>Z</td>\n",
       "      <td>Parth Gevik</td>\n",
       "      <td>high value</td>\n",
       "      <td>Raj Mathur</td>\n",
       "      <td>0.123201</td>\n",
       "      <td>Asia</td>\n",
       "    </tr>\n",
       "    <tr>\n",
       "      <th>6</th>\n",
       "      <td>50001652</td>\n",
       "      <td>P</td>\n",
       "      <td>M</td>\n",
       "      <td>19810529</td>\n",
       "      <td>M</td>\n",
       "      <td>Personal Client Personal Client</td>\n",
       "      <td>medium value</td>\n",
       "      <td>John Smith</td>\n",
       "      <td>0.046857</td>\n",
       "      <td>Asia</td>\n",
       "    </tr>\n",
       "    <tr>\n",
       "      <th>7</th>\n",
       "      <td>50001745</td>\n",
       "      <td>P</td>\n",
       "      <td>M</td>\n",
       "      <td>19830404</td>\n",
       "      <td>M</td>\n",
       "      <td>Ishmeet Singh</td>\n",
       "      <td>high value</td>\n",
       "      <td>Drake willson</td>\n",
       "      <td>0.319540</td>\n",
       "      <td>Africa</td>\n",
       "    </tr>\n",
       "    <tr>\n",
       "      <th>8</th>\n",
       "      <td>50001817</td>\n",
       "      <td>P</td>\n",
       "      <td>M</td>\n",
       "      <td>19800405</td>\n",
       "      <td>S</td>\n",
       "      <td>Matt Dimitrov</td>\n",
       "      <td>low value</td>\n",
       "      <td>Steve Roger</td>\n",
       "      <td>0.096104</td>\n",
       "      <td>Europe</td>\n",
       "    </tr>\n",
       "    <tr>\n",
       "      <th>9</th>\n",
       "      <td>50002103</td>\n",
       "      <td>P</td>\n",
       "      <td>M</td>\n",
       "      <td>19970501</td>\n",
       "      <td>M</td>\n",
       "      <td>Nishant Saxena</td>\n",
       "      <td>low value</td>\n",
       "      <td>John RTA</td>\n",
       "      <td>0.031358</td>\n",
       "      <td>Europe</td>\n",
       "    </tr>\n",
       "  </tbody>\n",
       "</table>\n",
       "</div>"
      ],
      "text/plain": [
       "  Client Number Client Type Client Sex  Client Date of Birth  \\\n",
       "0      50000847           P          M              19800101   \n",
       "1      50001036           P          M              19860101   \n",
       "2      50001209           P          M              19850715   \n",
       "3      50001357           P          M              19880520   \n",
       "4      50001467           P          F              19900101   \n",
       "5      50001495           P          M              19810529   \n",
       "6      50001652           P          M              19810529   \n",
       "7      50001745           P          M              19830404   \n",
       "8      50001817           P          M              19800405   \n",
       "9      50002103           P          M              19970501   \n",
       "\n",
       "  Client Marital Status                      Client Name     CLTV Band  \\\n",
       "0                     M                        BOSCO DON    high value   \n",
       "1                     M                         Way Tily     low value   \n",
       "2                     S                    John Anderson    high value   \n",
       "3                     S                         Pit Test  medium value   \n",
       "4                     M                    Manoj Sheetal  medium value   \n",
       "5                     Z                      Parth Gevik    high value   \n",
       "6                     M  Personal Client Personal Client  medium value   \n",
       "7                     M                    Ishmeet Singh    high value   \n",
       "8                     S                    Matt Dimitrov     low value   \n",
       "9                     M                   Nishant Saxena     low value   \n",
       "\n",
       "      client_name  Propensity Continent  \n",
       "0   Drake willson    0.172292      Asia  \n",
       "1       NINJA RUL    0.063220      Asia  \n",
       "2  Andy F Bambang    0.066643    Europe  \n",
       "3    MOHIT SHARMA    0.070354      Asia  \n",
       "4        Ansh TEN    0.168367      Asia  \n",
       "5      Raj Mathur    0.123201      Asia  \n",
       "6      John Smith    0.046857      Asia  \n",
       "7   Drake willson    0.319540    Africa  \n",
       "8     Steve Roger    0.096104    Europe  \n",
       "9        John RTA    0.031358    Europe  "
      ]
     },
     "execution_count": 250,
     "metadata": {},
     "output_type": "execute_result"
    }
   ],
   "source": [
    "# Inspect first few rows \n",
    "\n",
    "df_merge_02.head(5)"
   ]
  },
  {
   "cell_type": "code",
   "execution_count": 324,
   "metadata": {},
   "outputs": [],
   "source": [
    "# Read csv which has Indian Population and City details\n",
    "\n",
    "india_geo = pd.read_csv('C:\\ProgramData\\Sisense\\PrismServer\\ElastiCubeData\\india.csv', usecols = ['City','Lat','Lng','Population'])"
   ]
  },
  {
   "cell_type": "code",
   "execution_count": 325,
   "metadata": {},
   "outputs": [
    {
     "data": {
      "text/html": [
       "<div>\n",
       "<style scoped>\n",
       "    .dataframe tbody tr th:only-of-type {\n",
       "        vertical-align: middle;\n",
       "    }\n",
       "\n",
       "    .dataframe tbody tr th {\n",
       "        vertical-align: top;\n",
       "    }\n",
       "\n",
       "    .dataframe thead th {\n",
       "        text-align: right;\n",
       "    }\n",
       "</style>\n",
       "<table border=\"1\" class=\"dataframe\">\n",
       "  <thead>\n",
       "    <tr style=\"text-align: right;\">\n",
       "      <th></th>\n",
       "      <th>City</th>\n",
       "      <th>Lat</th>\n",
       "      <th>Lng</th>\n",
       "      <th>Population</th>\n",
       "    </tr>\n",
       "  </thead>\n",
       "  <tbody>\n",
       "    <tr>\n",
       "      <th>0</th>\n",
       "      <td>Mumbai</td>\n",
       "      <td>18.987807</td>\n",
       "      <td>72.836447</td>\n",
       "      <td>18978000.0</td>\n",
       "    </tr>\n",
       "    <tr>\n",
       "      <th>1</th>\n",
       "      <td>Delhi</td>\n",
       "      <td>28.651952</td>\n",
       "      <td>77.231495</td>\n",
       "      <td>15926000.0</td>\n",
       "    </tr>\n",
       "    <tr>\n",
       "      <th>2</th>\n",
       "      <td>Kolkata</td>\n",
       "      <td>22.562627</td>\n",
       "      <td>88.363044</td>\n",
       "      <td>14787000.0</td>\n",
       "    </tr>\n",
       "    <tr>\n",
       "      <th>3</th>\n",
       "      <td>Chennai</td>\n",
       "      <td>13.084622</td>\n",
       "      <td>80.248357</td>\n",
       "      <td>7163000.0</td>\n",
       "    </tr>\n",
       "    <tr>\n",
       "      <th>4</th>\n",
       "      <td>Bengalūru</td>\n",
       "      <td>12.977063</td>\n",
       "      <td>77.587106</td>\n",
       "      <td>6787000.0</td>\n",
       "    </tr>\n",
       "  </tbody>\n",
       "</table>\n",
       "</div>"
      ],
      "text/plain": [
       "        City        Lat        Lng  Population\n",
       "0     Mumbai  18.987807  72.836447  18978000.0\n",
       "1      Delhi  28.651952  77.231495  15926000.0\n",
       "2    Kolkata  22.562627  88.363044  14787000.0\n",
       "3    Chennai  13.084622  80.248357   7163000.0\n",
       "4  Bengalūru  12.977063  77.587106   6787000.0"
      ]
     },
     "execution_count": 325,
     "metadata": {},
     "output_type": "execute_result"
    }
   ],
   "source": [
    "# Inspect first few rows\n",
    "\n",
    "india_geo.head()"
   ]
  },
  {
   "cell_type": "code",
   "execution_count": 326,
   "metadata": {},
   "outputs": [],
   "source": [
    "# Get all cities in a list\n",
    "\n",
    "cities=india_geo['City'].tolist()"
   ]
  },
  {
   "cell_type": "code",
   "execution_count": 337,
   "metadata": {},
   "outputs": [],
   "source": [
    "# Merge it with second dataframe\n",
    "\n",
    "df_merge_02['City'] = np.random.choice(list(cities), len(df_merge_02))"
   ]
  },
  {
   "cell_type": "code",
   "execution_count": 338,
   "metadata": {},
   "outputs": [],
   "source": [
    "# Merge both datframes to get a new dataframe\n",
    "\n",
    "df_merge_03 = pd.merge(df_merge_02, india_geo, on=\"City\", how=\"inner\")"
   ]
  },
  {
   "cell_type": "code",
   "execution_count": 351,
   "metadata": {
    "scrolled": true
   },
   "outputs": [
    {
     "data": {
      "text/html": [
       "<div>\n",
       "<style scoped>\n",
       "    .dataframe tbody tr th:only-of-type {\n",
       "        vertical-align: middle;\n",
       "    }\n",
       "\n",
       "    .dataframe tbody tr th {\n",
       "        vertical-align: top;\n",
       "    }\n",
       "\n",
       "    .dataframe thead th {\n",
       "        text-align: right;\n",
       "    }\n",
       "</style>\n",
       "<table border=\"1\" class=\"dataframe\">\n",
       "  <thead>\n",
       "    <tr style=\"text-align: right;\">\n",
       "      <th></th>\n",
       "      <th>Client Number</th>\n",
       "      <th>Client Type</th>\n",
       "      <th>Client Sex</th>\n",
       "      <th>Client Date of Birth</th>\n",
       "      <th>Client Marital Status</th>\n",
       "      <th>Client Name</th>\n",
       "      <th>CLTV Band</th>\n",
       "      <th>client_name</th>\n",
       "      <th>Propensity</th>\n",
       "      <th>City</th>\n",
       "      <th>Lat</th>\n",
       "      <th>Lng</th>\n",
       "      <th>Population</th>\n",
       "      <th>Tier</th>\n",
       "      <th>Population Class</th>\n",
       "      <th>Customer Age</th>\n",
       "      <th>Profession Category</th>\n",
       "    </tr>\n",
       "  </thead>\n",
       "  <tbody>\n",
       "    <tr>\n",
       "      <th>0</th>\n",
       "      <td>50000847</td>\n",
       "      <td>P</td>\n",
       "      <td>M</td>\n",
       "      <td>19800101</td>\n",
       "      <td>M</td>\n",
       "      <td>BOSCO DON</td>\n",
       "      <td>high value</td>\n",
       "      <td>Drake willson</td>\n",
       "      <td>0.172292</td>\n",
       "      <td>Bhāgalpur</td>\n",
       "      <td>25.244462</td>\n",
       "      <td>86.971832</td>\n",
       "      <td>361548.0</td>\n",
       "      <td>Tier-1</td>\n",
       "      <td>Urban</td>\n",
       "      <td>46</td>\n",
       "      <td>Blue Collar Job</td>\n",
       "    </tr>\n",
       "    <tr>\n",
       "      <th>1</th>\n",
       "      <td>50001036</td>\n",
       "      <td>P</td>\n",
       "      <td>M</td>\n",
       "      <td>19860101</td>\n",
       "      <td>M</td>\n",
       "      <td>Way Tily</td>\n",
       "      <td>low value</td>\n",
       "      <td>NINJA RUL</td>\n",
       "      <td>0.063220</td>\n",
       "      <td>Nāra</td>\n",
       "      <td>21.203096</td>\n",
       "      <td>79.089284</td>\n",
       "      <td>2454000.0</td>\n",
       "      <td>Tier-1</td>\n",
       "      <td>Metropoliton</td>\n",
       "      <td>58</td>\n",
       "      <td>Blue Collar Job</td>\n",
       "    </tr>\n",
       "    <tr>\n",
       "      <th>2</th>\n",
       "      <td>50030482</td>\n",
       "      <td>P</td>\n",
       "      <td>M</td>\n",
       "      <td>19800101</td>\n",
       "      <td>M</td>\n",
       "      <td>Ansh TEN</td>\n",
       "      <td>high value</td>\n",
       "      <td>Pal Inder</td>\n",
       "      <td>0.067246</td>\n",
       "      <td>Nāra</td>\n",
       "      <td>21.203096</td>\n",
       "      <td>79.089284</td>\n",
       "      <td>2454000.0</td>\n",
       "      <td>Tier-1</td>\n",
       "      <td>Metropoliton</td>\n",
       "      <td>57</td>\n",
       "      <td>Blue Collar Job</td>\n",
       "    </tr>\n",
       "    <tr>\n",
       "      <th>3</th>\n",
       "      <td>50052159</td>\n",
       "      <td>P</td>\n",
       "      <td>M</td>\n",
       "      <td>19850101</td>\n",
       "      <td>S</td>\n",
       "      <td>RTA Ashish</td>\n",
       "      <td>high value</td>\n",
       "      <td>Anthony Lim</td>\n",
       "      <td>0.091467</td>\n",
       "      <td>Nāra</td>\n",
       "      <td>21.203096</td>\n",
       "      <td>79.089284</td>\n",
       "      <td>2454000.0</td>\n",
       "      <td>Tier-1</td>\n",
       "      <td>Metropoliton</td>\n",
       "      <td>55</td>\n",
       "      <td>Other</td>\n",
       "    </tr>\n",
       "    <tr>\n",
       "      <th>4</th>\n",
       "      <td>50001209</td>\n",
       "      <td>P</td>\n",
       "      <td>M</td>\n",
       "      <td>19850715</td>\n",
       "      <td>S</td>\n",
       "      <td>John Anderson</td>\n",
       "      <td>high value</td>\n",
       "      <td>Andy F Bambang</td>\n",
       "      <td>0.066643</td>\n",
       "      <td>Gaya</td>\n",
       "      <td>24.796858</td>\n",
       "      <td>85.003852</td>\n",
       "      <td>423692.0</td>\n",
       "      <td>Tier-1</td>\n",
       "      <td>Urban</td>\n",
       "      <td>64</td>\n",
       "      <td>White Collar Job</td>\n",
       "    </tr>\n",
       "  </tbody>\n",
       "</table>\n",
       "</div>"
      ],
      "text/plain": [
       "  Client Number Client Type Client Sex  Client Date of Birth  \\\n",
       "0      50000847           P          M              19800101   \n",
       "1      50001036           P          M              19860101   \n",
       "2      50030482           P          M              19800101   \n",
       "3      50052159           P          M              19850101   \n",
       "4      50001209           P          M              19850715   \n",
       "\n",
       "  Client Marital Status    Client Name   CLTV Band     client_name  \\\n",
       "0                     M      BOSCO DON  high value   Drake willson   \n",
       "1                     M       Way Tily   low value       NINJA RUL   \n",
       "2                     M       Ansh TEN  high value       Pal Inder   \n",
       "3                     S     RTA Ashish  high value     Anthony Lim   \n",
       "4                     S  John Anderson  high value  Andy F Bambang   \n",
       "\n",
       "   Propensity       City        Lat        Lng  Population    Tier  \\\n",
       "0    0.172292  Bhāgalpur  25.244462  86.971832    361548.0  Tier-1   \n",
       "1    0.063220       Nāra  21.203096  79.089284   2454000.0  Tier-1   \n",
       "2    0.067246       Nāra  21.203096  79.089284   2454000.0  Tier-1   \n",
       "3    0.091467       Nāra  21.203096  79.089284   2454000.0  Tier-1   \n",
       "4    0.066643       Gaya  24.796858  85.003852    423692.0  Tier-1   \n",
       "\n",
       "  Population Class  Customer Age Profession Category  \n",
       "0            Urban            46     Blue Collar Job  \n",
       "1     Metropoliton            58     Blue Collar Job  \n",
       "2     Metropoliton            57     Blue Collar Job  \n",
       "3     Metropoliton            55               Other  \n",
       "4            Urban            64    White Collar Job  "
      ]
     },
     "execution_count": 351,
     "metadata": {},
     "output_type": "execute_result"
    }
   ],
   "source": [
    "# Inspect first few rows\n",
    "\n",
    "df_merge_03.head()"
   ]
  },
  {
   "cell_type": "code",
   "execution_count": 344,
   "metadata": {},
   "outputs": [],
   "source": [
    "# Add a new column 'Tier' based on population (based on https://en.wikipedia.org/wiki/Classification_of_Indian_cities)\n",
    "conditions = [\n",
    "    (df_merge_03['Population'] >0 ) & (df_merge_03['Population'] < 5000),\n",
    "    (df_merge_03['Population'] >= 5000) & (df_merge_03['Population'] < 9999),\n",
    "    (df_merge_03['Population'] >= 9999) & (df_merge_03['Population'] < 19999),\n",
    "    (df_merge_03['Population'] >= 20000) & (df_merge_03['Population'] < 49999),\n",
    "    (df_merge_03['Population'] >= 50000) & (df_merge_03['Population'] < 99999),\n",
    "    (df_merge_03['Population'] >= 100000)]\n",
    "choices = ['Tier-6', 'Tier-5', 'Tier-4', 'Tier-3', 'Tier-2', 'Tier-1']\n",
    "\n",
    "df_merge_03['Tier'] = np.select(conditions, choices, default='Tier-6')"
   ]
  },
  {
   "cell_type": "code",
   "execution_count": 345,
   "metadata": {},
   "outputs": [],
   "source": [
    "# Add a new column 'Population_Classification' based on population (based on https://en.wikipedia.org/wiki/Classification_of_Indian_cities)\n",
    "conditions = [\n",
    "    (df_merge_03['Population'] >0 ) & (df_merge_03['Population'] < 9999),\n",
    "    (df_merge_03['Population'] >= 9999) & (df_merge_03['Population'] < 99999),\n",
    "    (df_merge_03['Population'] >= 99999) & (df_merge_03['Population'] < 999999),\n",
    "    (df_merge_03['Population'] >= 999999)]\n",
    "choices = ['Rural', 'Semi-Urban', 'Urban', 'Metropolitan']\n",
    "\n",
    "df_merge_03['Population Class'] = np.select(conditions, choices, default='Rural')"
   ]
  },
  {
   "cell_type": "code",
   "execution_count": 348,
   "metadata": {},
   "outputs": [],
   "source": [
    "# Add column for customer Age\n",
    "df_merge_03['Customer Age'] = np.random.randint(18,70,size=len(df_merge_03))"
   ]
  },
  {
   "cell_type": "code",
   "execution_count": 350,
   "metadata": {},
   "outputs": [],
   "source": [
    "# Add column for customer job profile\n",
    "profession = ['White Collar Job', 'Blue Collar Job', 'Other']\n",
    "df_merge_03['Profession Category'] = np.random.choice(list(profession), len(df_merge_03))"
   ]
  },
  {
   "cell_type": "code",
   "execution_count": 352,
   "metadata": {},
   "outputs": [],
   "source": [
    "# Save the output in a csv file\n",
    "df_merge_03.to_csv('EX_SOURCE_CUSTOMER_SEGMENTATION_LIFE.csv', index = None, header=True)"
   ]
  }
 ],
 "metadata": {
  "kernelspec": {
   "display_name": "Python 3",
   "language": "python",
   "name": "python3"
  },
  "language_info": {
   "codemirror_mode": {
    "name": "ipython",
    "version": 3
   },
   "file_extension": ".py",
   "mimetype": "text/x-python",
   "name": "python",
   "nbconvert_exporter": "python",
   "pygments_lexer": "ipython3",
   "version": "3.7.3"
  }
 },
 "nbformat": 4,
 "nbformat_minor": 4
}
