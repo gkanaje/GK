{
 "cells": [
  {
   "cell_type": "markdown",
   "metadata": {},
   "source": [
    "## Next Best Contract Type (Policy Type Recommendation)\n",
    "## Data used for analysis is based on Integral Life Admin System"
   ]
  },
  {
   "cell_type": "markdown",
   "metadata": {},
   "source": [
    "### The SQL query in below cells will retreive data based on database credentials provide. Right now these credentials have been left empty for security reasons. Please enter relevant details before running this notebook further."
   ]
  },
  {
   "cell_type": "code",
   "execution_count": 1,
   "metadata": {},
   "outputs": [],
   "source": [
    "# Import Packages\n",
    "import pyodbc\n",
    "import numpy as np\n",
    "import pandas as pd\n",
    "from scipy import sparse\n",
    "from sklearn.metrics.pairwise import cosine_similarity\n",
    "\n",
    "# Settings to view all columns and rows\n",
    "pd.set_option('display.max_rows', 1000)\n",
    "pd.set_option('display.max_columns', 1000)"
   ]
  },
  {
   "cell_type": "markdown",
   "metadata": {},
   "source": [
    "## Import Data"
   ]
  },
  {
   "cell_type": "code",
   "execution_count": 2,
   "metadata": {},
   "outputs": [],
   "source": [
    "# Enter ip address and port number of the system where the database resides.\n",
    "server   = '10.0.3.98'\n",
    "database = 'INT77DB_R212'\n",
    "username = 'sisensedb_user'\n",
    "password = 'Sisense12#$'"
   ]
  },
  {
   "cell_type": "code",
   "execution_count": 3,
   "metadata": {},
   "outputs": [
    {
     "ename": "OperationalError",
     "evalue": "('08001', '[08001] [Microsoft][ODBC SQL Server Driver][DBNETLIB]SQL Server does not exist or access denied. (17) (SQLDriverConnect); [08001] [Microsoft][ODBC SQL Server Driver][DBNETLIB]ConnectionOpen (Connect()). (53)')",
     "output_type": "error",
     "traceback": [
      "\u001b[1;31m---------------------------------------------------------------------------\u001b[0m",
      "\u001b[1;31mOperationalError\u001b[0m                          Traceback (most recent call last)",
      "\u001b[1;32m<ipython-input-3-5b111b10e556>\u001b[0m in \u001b[0;36m<module>\u001b[1;34m\u001b[0m\n\u001b[0;32m      1\u001b[0m \u001b[1;31m# Add appropriate driver name\u001b[0m\u001b[1;33m\u001b[0m\u001b[1;33m\u001b[0m\u001b[1;33m\u001b[0m\u001b[0m\n\u001b[1;32m----> 2\u001b[1;33m \u001b[0mcnxn\u001b[0m \u001b[1;33m=\u001b[0m \u001b[0mpyodbc\u001b[0m\u001b[1;33m.\u001b[0m\u001b[0mconnect\u001b[0m\u001b[1;33m(\u001b[0m\u001b[1;34m'DRIVER={SQL Server};SERVER='\u001b[0m\u001b[1;33m+\u001b[0m\u001b[0mserver\u001b[0m\u001b[1;33m+\u001b[0m\u001b[1;34m';DATABASE='\u001b[0m\u001b[1;33m+\u001b[0m\u001b[0mdatabase\u001b[0m\u001b[1;33m+\u001b[0m\u001b[1;34m';UID='\u001b[0m\u001b[1;33m+\u001b[0m\u001b[0musername\u001b[0m\u001b[1;33m+\u001b[0m\u001b[1;34m';PWD='\u001b[0m\u001b[1;33m+\u001b[0m \u001b[0mpassword\u001b[0m\u001b[1;33m)\u001b[0m\u001b[1;33m\u001b[0m\u001b[1;33m\u001b[0m\u001b[0m\n\u001b[0m\u001b[0;32m      3\u001b[0m \u001b[0mcursor\u001b[0m \u001b[1;33m=\u001b[0m \u001b[0mcnxn\u001b[0m\u001b[1;33m.\u001b[0m\u001b[0mcursor\u001b[0m\u001b[1;33m(\u001b[0m\u001b[1;33m)\u001b[0m\u001b[1;33m\u001b[0m\u001b[1;33m\u001b[0m\u001b[0m\n",
      "\u001b[1;31mOperationalError\u001b[0m: ('08001', '[08001] [Microsoft][ODBC SQL Server Driver][DBNETLIB]SQL Server does not exist or access denied. (17) (SQLDriverConnect); [08001] [Microsoft][ODBC SQL Server Driver][DBNETLIB]ConnectionOpen (Connect()). (53)')"
     ]
    }
   ],
   "source": [
    "# Add appropriate driver name\n",
    "cnxn = pyodbc.connect('DRIVER={SQL Server};SERVER='+server+';DATABASE='+database+';UID='+username+';PWD='+ password)\n",
    "cursor = cnxn.cursor()"
   ]
  },
  {
   "cell_type": "markdown",
   "metadata": {},
   "source": [
    "### Below query will only fetch details of those customers who have purchased policy. This dataset will be used for understanding purchase pattern which will be then applied to all the customers"
   ]
  },
  {
   "cell_type": "code",
   "execution_count": null,
   "metadata": {},
   "outputs": [],
   "source": [
    "# Run Query\n",
    "query = '''SELECT \n",
    "rtrim(Q1.COWNNUM) AS 'CLIENT_NUMBER',\n",
    "COALESCE(Q1.[AE1], 0) AS 'AE1',\n",
    "COALESCE(Q1.[AEN], 0) AS 'AEN',\n",
    "COALESCE(Q1.[CCI], 0) AS 'CCI',\n",
    "COALESCE(Q1.[CDA], 0) AS 'CDA', \n",
    "COALESCE(Q1.[CED], 0) AS 'CED', \n",
    "COALESCE(Q1.[CEL], 0) AS 'CEL', \n",
    "COALESCE(Q1.[DAN], 0) AS 'DAN',\n",
    "COALESCE(Q1.[DAT], 0) AS 'DAT',\n",
    "COALESCE(Q1.[DAW], 0) AS 'DAW',\n",
    "COALESCE(Q1.[DAX], 0) AS 'DAX', \n",
    "COALESCE(Q1.[END], 0) AS 'END', \n",
    "COALESCE(Q1.[ENT], 0) AS 'ENT',\n",
    "COALESCE(Q1.[ENW], 0) AS 'ENW',\n",
    "COALESCE(Q1.[FLX], 0) AS 'FLX', \n",
    "COALESCE(Q1.[FWL], 0) AS 'FWL', \n",
    "COALESCE(Q1.[GCS], 0) AS 'GCS', \n",
    "COALESCE(Q1.[IAN], 0) AS 'IAN', \n",
    "COALESCE(Q1.[IAX], 0) AS 'IAX',\n",
    "COALESCE(Q1.[IPP], 0) AS 'IPP',\n",
    "COALESCE(Q1.[LCE], 0) AS 'LCE',\n",
    "COALESCE(Q1.[MRT], 0) AS 'MRT',\n",
    "COALESCE(Q1.[OUL], 0) AS 'OUL',\n",
    "COALESCE(Q1.[OWL], 0) AS 'OWL',\n",
    "COALESCE(Q1.[PHI], 0) AS 'PHI',\n",
    "COALESCE(Q1.[RSB], 0) AS 'RSB',\n",
    "COALESCE(Q1.[RTA], 0) AS 'RTA',\n",
    "COALESCE(Q1.[RTX], 0) AS 'RTX',\n",
    "COALESCE(Q1.[RUL], 0) AS 'RUL',\n",
    "COALESCE(Q1.[RUX], 0) AS 'RUX',\n",
    "COALESCE(Q1.[SAP], 0) AS 'SAP',\n",
    "COALESCE(Q1.[SFL], 0) AS 'SFL',\n",
    "COALESCE(Q1.[SFT], 0) AS 'SFT',\n",
    "COALESCE(Q1.[SHP], 0) AS 'SHP',\n",
    "COALESCE(Q1.[SPB], 0) AS 'SPB',\n",
    "COALESCE(Q1.[SUM], 0) AS 'SUM',\n",
    "COALESCE(Q1.[SUS], 0) AS 'SUS',\n",
    "COALESCE(Q1.[TEN], 0) AS 'TEN',\n",
    "COALESCE(Q1.[TEX], 0) AS 'TEX',\n",
    "COALESCE(Q1.[TPD], 0) AS 'TPD',\n",
    "COALESCE(Q1.[TRM], 0) AS 'TRM',\n",
    "COALESCE(Q1.[TRX], 0) AS 'TRX',\n",
    "COALESCE(Q1.[TWL], 0) AS 'TWL',\n",
    "COALESCE(Q1.[TWX], 0) AS 'TWX',\n",
    "COALESCE(Q1.[ULP], 0) AS 'ULP',\n",
    "COALESCE(Q1.[ULX], 0) AS 'ULX',\n",
    "COALESCE(Q1.[UNI], 0) AS 'UNI',\n",
    "COALESCE(Q1.[VAP], 0) AS 'VAP'\n",
    "FROM \n",
    "\n",
    "(SELECT *\n",
    "FROM\n",
    "(\n",
    "  SELECT DISTINCT COWNNUM, CNTTYPE, COUNT(DISTINCT CNTTYPE) AS COUNTING FROM VM1DTA.CHDRPF WHERE SERVUNIT = 'LP' AND VALIDFLAG = '1'   \n",
    "  GROUP BY COWNNUM, CNTTYPE\n",
    ") AS SourceTable PIVOT( SUM(COUNTING) FOR [CNTTYPE] IN([AE1],[AEN],[CCI],[CDA],[CED],[CEL],[DAN],[DAT],[DAW],[DAX],[END],[ENT],\n",
    "[ENW],[FLX],[FWL],[GCS],[IAN],[IAX],[IPP],[LCE],[MRT],[OUL],[OWL],[PHI],[RSB],[RTA],\n",
    "[RTX],[RUL],[RUX],[SAP],[SFL],[SFT],[SHP],[SPB],[SUM],[SUS],[TEN],[TEX],\n",
    "[TPD],[TRM],[TRX],[TWL],[TWX],[ULP],[ULX],[UNI],[VAP],[LPL],[LPP],[LPR],\n",
    "[LWH],[MAR],[MCD],[MCG],[MCM],[MCP],[MF1],[MGI],[MHB])) AS PivotTable ) Q1\n",
    "\n",
    "INNER JOIN \n",
    "(SELECT  COWNNUM, COUNT( DISTINCT CNTTYPE) UNIQUE_PRODUCTS FROM VM1DTA.CHDRPF WHERE SERVUNIT = 'LP' AND VALIDFLAG = '1' \n",
    "GROUP BY COWNNUM\n",
    "HAVING COUNT( DISTINCT CNTTYPE) > 0\n",
    ") Q2\n",
    "ON Q2.COWNNUM = Q1.COWNNUM\n",
    "'''"
   ]
  },
  {
   "cell_type": "code",
   "execution_count": null,
   "metadata": {},
   "outputs": [],
   "source": [
    "# Read data\n",
    "df_orig = pd.read_sql(query,cnxn)"
   ]
  },
  {
   "cell_type": "code",
   "execution_count": null,
   "metadata": {
    "scrolled": true
   },
   "outputs": [],
   "source": [
    "# Check data sample\n",
    "df_orig.head()"
   ]
  },
  {
   "cell_type": "code",
   "execution_count": null,
   "metadata": {},
   "outputs": [],
   "source": [
    "# Create another dataframe with only Client Numbers\n",
    "df_client=pd.DataFrame(df_orig['CLIENT_NUMBER']) "
   ]
  },
  {
   "cell_type": "code",
   "execution_count": null,
   "metadata": {},
   "outputs": [],
   "source": [
    "# Delete Client Number from Original dataframe\n",
    "df_orig=df_orig.drop(['CLIENT_NUMBER'], axis=1)"
   ]
  },
  {
   "cell_type": "code",
   "execution_count": null,
   "metadata": {},
   "outputs": [],
   "source": [
    "# Read data\n",
    "df_client = pd.read_sql(query,cnxn)\n",
    "\n",
    "# Close the cursor\n",
    "cursor.close() "
   ]
  },
  {
   "cell_type": "code",
   "execution_count": null,
   "metadata": {
    "scrolled": true
   },
   "outputs": [],
   "source": [
    "# Check data sample\n",
    "df_client.info()"
   ]
  },
  {
   "cell_type": "markdown",
   "metadata": {},
   "source": [
    "## Data Analysis"
   ]
  },
  {
   "cell_type": "code",
   "execution_count": null,
   "metadata": {},
   "outputs": [],
   "source": [
    "# Check data shape\n",
    "df_orig.shape"
   ]
  },
  {
   "cell_type": "code",
   "execution_count": null,
   "metadata": {},
   "outputs": [],
   "source": [
    "# Check data attributes of the columns\n",
    "df_orig.info()"
   ]
  },
  {
   "cell_type": "code",
   "execution_count": null,
   "metadata": {},
   "outputs": [],
   "source": [
    "# Normalize the entire dataset\n",
    "\n",
    "magnitude = np.sqrt(np.square(df_orig).sum(axis=1))\n",
    "df_orig = df_orig.divide(magnitude, axis='index')"
   ]
  },
  {
   "cell_type": "markdown",
   "metadata": {},
   "source": [
    "### Recommendations using cosine similarity"
   ]
  },
  {
   "cell_type": "code",
   "execution_count": null,
   "metadata": {},
   "outputs": [],
   "source": [
    "#------------------------\n",
    "# ITEM-ITEM CALCULATIONS\n",
    "#------------------------\n",
    "def calculate_similarity(data_items):\n",
    "    \"\"\"Calculate the column-wise cosine similarity for a sparse\n",
    "    matrix. Return a new dataframe matrix with similarities.\n",
    "    \"\"\"\n",
    "    # Sparse matrix to extract non zero values out of the normalized matrix\n",
    "    data_sparse = sparse.csr_matrix(data_items)\n",
    "    # Use Cosine Similarity to function\n",
    "    similarities = cosine_similarity(data_sparse.transpose())\n",
    "    sim = pd.DataFrame(data=similarities, index= data_items.columns, columns= data_items.columns)\n",
    "    return sim\n",
    "\n"
   ]
  },
  {
   "cell_type": "code",
   "execution_count": null,
   "metadata": {},
   "outputs": [],
   "source": [
    "# Build the similarity matrix, pass the entire dataframe\n",
    "data_matrix = calculate_similarity(df_orig)"
   ]
  },
  {
   "cell_type": "code",
   "execution_count": null,
   "metadata": {},
   "outputs": [],
   "source": [
    "#------------------------------------------------------------------------#\n",
    "# Loop through all the customers and get their individual recommendations#\n",
    "#------------------------------------------------------------------------#\n",
    "recommendations = []\n",
    "percentages = []\n",
    "\n",
    "results = pd.DataFrame(columns=['ClientNumber','Recommendation', 'Percentage'])\n",
    "for value in df_client['CLIENT_NUMBER']:\n",
    "    customer_index = df_client[df_client.CLIENT_NUMBER == value].index.tolist()[0] # Get the frame index\n",
    "    customer_id = value\n",
    "    \n",
    "    # Get the contract type the user has purchased.\n",
    "    known_customer_contract = df_orig.ix[customer_index]\n",
    "    known_customer_contract = known_customer_contract[known_customer_contract>0].index.values\n",
    "\n",
    "    # Customers contracts for all items as a sparse vector.\n",
    "    customer_contract_vector = df_orig.ix[customer_index]\n",
    "\n",
    "    # Calculate the score.\n",
    "    score = data_matrix.dot(customer_contract_vector).div(data_matrix.sum(axis=1))\n",
    "\n",
    "    # Remove the known contract from the recommendation.\n",
    "    score = score.drop(known_customer_contract)    \n",
    "    \n",
    "    results = results.append(pd.Series([value, score.nlargest(3).index[0],score.nlargest(3)[0]], index=results.columns),\n",
    "                         ignore_index=True)\n",
    "    results = results.append(pd.Series([value, score.nlargest(3).index[1],score.nlargest(3)[1]], index=results.columns),\n",
    "                         ignore_index=True)\n",
    "    results = results.append(pd.Series([value, score.nlargest(3).index[2],score.nlargest(3)[2]], index=results.columns),\n",
    "                         ignore_index=True)\n"
   ]
  },
  {
   "cell_type": "code",
   "execution_count": null,
   "metadata": {},
   "outputs": [],
   "source": [
    "# Save results to csv\n",
    "  results.to_csv('EX_SOURCE_PRODUCT_RECOMMENDATION_LIFE.csv', index = None, header=True)"
   ]
  },
  {
   "cell_type": "code",
   "execution_count": null,
   "metadata": {},
   "outputs": [],
   "source": []
  }
 ],
 "metadata": {
  "kernelspec": {
   "display_name": "Python 3",
   "language": "python",
   "name": "python3"
  },
  "language_info": {
   "codemirror_mode": {
    "name": "ipython",
    "version": 3
   },
   "file_extension": ".py",
   "mimetype": "text/x-python",
   "name": "python",
   "nbconvert_exporter": "python",
   "pygments_lexer": "ipython3",
   "version": "3.7.3"
  }
 },
 "nbformat": 4,
 "nbformat_minor": 2
}
