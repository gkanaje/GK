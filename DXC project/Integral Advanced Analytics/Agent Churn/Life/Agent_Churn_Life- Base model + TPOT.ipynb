{
 "cells": [
  {
   "cell_type": "code",
   "execution_count": 2,
   "metadata": {},
   "outputs": [
    {
     "name": "stderr",
     "output_type": "stream",
     "text": [
      "C:\\Users\\aaacharya\\AppData\\Local\\Continuum\\anaconda3\\lib\\site-packages\\sklearn\\externals\\joblib\\__init__.py:15: FutureWarning: sklearn.externals.joblib is deprecated in 0.21 and will be removed in 0.23. Please import this functionality directly from joblib, which can be installed with: pip install joblib. If this warning is raised when loading pickled models, you may need to re-serialize those models with scikit-learn 0.21+.\n",
      "  warnings.warn(msg, category=FutureWarning)\n"
     ]
    }
   ],
   "source": [
    "# Import Packages\n",
    "import numpy as np\n",
    "import pandas as pd\n",
    "import pyodbc\n",
    "\n",
    "# Get Current time\n",
    "import datetime \n",
    "\n",
    "# For Graphics\n",
    "import matplotlib as matplotlib\n",
    "import matplotlib.pyplot as plt\n",
    "import seaborn as sns\n",
    "\n",
    "# For splitting data into test and train subsets\n",
    "from sklearn.model_selection import train_test_split, RepeatedStratifiedKFold, GridSearchCV\n",
    "\n",
    "# For logistic regression\n",
    "from sklearn.linear_model import LogisticRegression\n",
    "\n",
    "# For saving the model\n",
    "from sklearn.externals import joblib \n",
    "\n",
    "# For Confusion Matrix\n",
    "from sklearn import metrics\n",
    "\n",
    "# For ROC Curve\n",
    "from sklearn.metrics import roc_auc_score, roc_curve, f1_score\n",
    "\n",
    "# For Normalization\n",
    "from sklearn.preprocessing import MinMaxScaler, StandardScaler\n",
    "\n",
    "# For Feature Selection\n",
    "from sklearn.feature_selection import chi2, SelectKBest\n",
    "\n",
    "# Settings to view all columns and rows\n",
    "pd.set_option('display.max_rows', 1000)\n",
    "pd.set_option('display.max_columns', 1000)\n",
    "\n",
    "#to ignore the warning lines from being printed\n",
    "import warnings\n",
    "warnings.filterwarnings('ignore')"
   ]
  },
  {
   "cell_type": "code",
   "execution_count": 3,
   "metadata": {},
   "outputs": [
    {
     "data": {
      "text/html": [
       "<div>\n",
       "<style scoped>\n",
       "    .dataframe tbody tr th:only-of-type {\n",
       "        vertical-align: middle;\n",
       "    }\n",
       "\n",
       "    .dataframe tbody tr th {\n",
       "        vertical-align: top;\n",
       "    }\n",
       "\n",
       "    .dataframe thead th {\n",
       "        text-align: right;\n",
       "    }\n",
       "</style>\n",
       "<table border=\"1\" class=\"dataframe\">\n",
       "  <thead>\n",
       "    <tr style=\"text-align: right;\">\n",
       "      <th></th>\n",
       "      <th>Agent Number</th>\n",
       "      <th>Date_of_Appointment</th>\n",
       "      <th>Date_of_Termination</th>\n",
       "      <th>Commission Class</th>\n",
       "      <th>Pay Method</th>\n",
       "      <th>Pay Frequency</th>\n",
       "      <th>Agent Type</th>\n",
       "      <th>Agent Branch Code</th>\n",
       "      <th>Agent Reporting Level</th>\n",
       "      <th>Agent Date of Birth</th>\n",
       "      <th>Agent Gender</th>\n",
       "      <th>Number_of_Policies</th>\n",
       "      <th>Number_of_Claims</th>\n",
       "      <th>Total_Claim_Amount</th>\n",
       "      <th>Total_Payment_Amount</th>\n",
       "      <th>Total_Commission_Amount</th>\n",
       "      <th>Churn</th>\n",
       "    </tr>\n",
       "  </thead>\n",
       "  <tbody>\n",
       "    <tr>\n",
       "      <th>0</th>\n",
       "      <td>50001187</td>\n",
       "      <td>20150526</td>\n",
       "      <td>NaN</td>\n",
       "      <td>3</td>\n",
       "      <td>DC</td>\n",
       "      <td>12</td>\n",
       "      <td>AM</td>\n",
       "      <td>10</td>\n",
       "      <td>1</td>\n",
       "      <td>19910507.0</td>\n",
       "      <td>M</td>\n",
       "      <td>5</td>\n",
       "      <td>0</td>\n",
       "      <td>0.0</td>\n",
       "      <td>0.0</td>\n",
       "      <td>0.0</td>\n",
       "      <td>0</td>\n",
       "    </tr>\n",
       "    <tr>\n",
       "      <th>1</th>\n",
       "      <td>50002503</td>\n",
       "      <td>20151214</td>\n",
       "      <td>NaN</td>\n",
       "      <td>3</td>\n",
       "      <td>CQ</td>\n",
       "      <td>12</td>\n",
       "      <td>AG</td>\n",
       "      <td>10</td>\n",
       "      <td>1</td>\n",
       "      <td>19830404.0</td>\n",
       "      <td>M</td>\n",
       "      <td>4</td>\n",
       "      <td>0</td>\n",
       "      <td>0.0</td>\n",
       "      <td>0.0</td>\n",
       "      <td>0.0</td>\n",
       "      <td>0</td>\n",
       "    </tr>\n",
       "    <tr>\n",
       "      <th>2</th>\n",
       "      <td>50004847</td>\n",
       "      <td>20200101</td>\n",
       "      <td>NaN</td>\n",
       "      <td>3</td>\n",
       "      <td>CQ</td>\n",
       "      <td>12</td>\n",
       "      <td>BR</td>\n",
       "      <td>10</td>\n",
       "      <td>1</td>\n",
       "      <td>19800101.0</td>\n",
       "      <td>M</td>\n",
       "      <td>0</td>\n",
       "      <td>0</td>\n",
       "      <td>0.0</td>\n",
       "      <td>0.0</td>\n",
       "      <td>0.0</td>\n",
       "      <td>0</td>\n",
       "    </tr>\n",
       "    <tr>\n",
       "      <th>3</th>\n",
       "      <td>50040992</td>\n",
       "      <td>20230104</td>\n",
       "      <td>NaN</td>\n",
       "      <td>3</td>\n",
       "      <td>CQ</td>\n",
       "      <td>12</td>\n",
       "      <td>AG</td>\n",
       "      <td>10</td>\n",
       "      <td>1</td>\n",
       "      <td>19750101.0</td>\n",
       "      <td>M</td>\n",
       "      <td>1</td>\n",
       "      <td>0</td>\n",
       "      <td>0.0</td>\n",
       "      <td>0.0</td>\n",
       "      <td>0.0</td>\n",
       "      <td>0</td>\n",
       "    </tr>\n",
       "    <tr>\n",
       "      <th>4</th>\n",
       "      <td>50041143</td>\n",
       "      <td>20230101</td>\n",
       "      <td>NaN</td>\n",
       "      <td>2</td>\n",
       "      <td>CQ</td>\n",
       "      <td>12</td>\n",
       "      <td>AM</td>\n",
       "      <td>10</td>\n",
       "      <td>1</td>\n",
       "      <td>19880101.0</td>\n",
       "      <td>M</td>\n",
       "      <td>0</td>\n",
       "      <td>0</td>\n",
       "      <td>0.0</td>\n",
       "      <td>0.0</td>\n",
       "      <td>0.0</td>\n",
       "      <td>0</td>\n",
       "    </tr>\n",
       "  </tbody>\n",
       "</table>\n",
       "</div>"
      ],
      "text/plain": [
       "   Agent Number  Date_of_Appointment  Date_of_Termination  Commission Class  \\\n",
       "0      50001187             20150526                  NaN                 3   \n",
       "1      50002503             20151214                  NaN                 3   \n",
       "2      50004847             20200101                  NaN                 3   \n",
       "3      50040992             20230104                  NaN                 3   \n",
       "4      50041143             20230101                  NaN                 2   \n",
       "\n",
       "  Pay Method  Pay Frequency Agent Type  Agent Branch Code  \\\n",
       "0         DC             12         AM                 10   \n",
       "1         CQ             12         AG                 10   \n",
       "2         CQ             12         BR                 10   \n",
       "3         CQ             12         AG                 10   \n",
       "4         CQ             12         AM                 10   \n",
       "\n",
       "   Agent Reporting Level  Agent Date of Birth Agent Gender  \\\n",
       "0                      1           19910507.0            M   \n",
       "1                      1           19830404.0            M   \n",
       "2                      1           19800101.0            M   \n",
       "3                      1           19750101.0            M   \n",
       "4                      1           19880101.0            M   \n",
       "\n",
       "   Number_of_Policies  Number_of_Claims  Total_Claim_Amount  \\\n",
       "0                   5                 0                 0.0   \n",
       "1                   4                 0                 0.0   \n",
       "2                   0                 0                 0.0   \n",
       "3                   1                 0                 0.0   \n",
       "4                   0                 0                 0.0   \n",
       "\n",
       "   Total_Payment_Amount  Total_Commission_Amount  Churn  \n",
       "0                   0.0                      0.0      0  \n",
       "1                   0.0                      0.0      0  \n",
       "2                   0.0                      0.0      0  \n",
       "3                   0.0                      0.0      0  \n",
       "4                   0.0                      0.0      0  "
      ]
     },
     "execution_count": 3,
     "metadata": {},
     "output_type": "execute_result"
    }
   ],
   "source": [
    "df_orig = pd.read_csv('agent_churn.csv')\n",
    "df_orig.head()"
   ]
  },
  {
   "cell_type": "markdown",
   "metadata": {},
   "source": [
    "# Data treatment"
   ]
  },
  {
   "cell_type": "code",
   "execution_count": 4,
   "metadata": {},
   "outputs": [],
   "source": [
    "df_work = df_orig.copy()"
   ]
  },
  {
   "cell_type": "code",
   "execution_count": 5,
   "metadata": {},
   "outputs": [],
   "source": [
    "# Separate features into categorical and numerical category\n",
    "cat_vars = ['Commission Class','Pay Method','Pay Frequency','Agent Type','Agent Branch Code',\n",
    "            'Agent Reporting Level','Agent Gender']\n",
    "\n",
    "num_vars = ['Number_of_Policies', 'Number_of_Claims', 'Total_Claim_Amount','Total_Payment_Amount','Total_Commission_Amount']\n",
    "\n",
    "date_vars = ['Date_of_Appointment', 'Date_of_Termination', 'Agent Date of Birth' ]"
   ]
  },
  {
   "cell_type": "code",
   "execution_count": 6,
   "metadata": {},
   "outputs": [],
   "source": [
    "# Convert date columns\n",
    "\n",
    "for var in date_vars:\n",
    "    #df_work[var] = df_work[var].astype('category')\n",
    "    #df_work[var] = datetime.datetime.strptime(var, '%Y-%m-%d')\n",
    "    df_work[var]=pd.to_datetime(df_work[var].astype(str), format='%Y%m%d')"
   ]
  },
  {
   "cell_type": "code",
   "execution_count": 7,
   "metadata": {},
   "outputs": [],
   "source": [
    "# Convert to 'category' object type\n",
    "for var in cat_vars:\n",
    "    df_work[var] = df_work[var].astype('category')"
   ]
  },
  {
   "cell_type": "code",
   "execution_count": 8,
   "metadata": {},
   "outputs": [],
   "source": [
    "# Create Dummy Variables for categorical variables\n",
    "for var in cat_vars:\n",
    "    cat_list = 'var'+'_'+var\n",
    "    cat_list = pd.get_dummies(df_work[var], prefix=var)\n",
    "    dummy_data = df_work.join(cat_list)\n",
    "    df_work = dummy_data"
   ]
  },
  {
   "cell_type": "code",
   "execution_count": 9,
   "metadata": {},
   "outputs": [
    {
     "data": {
      "text/plain": [
       "(3631, 42)"
      ]
     },
     "execution_count": 9,
     "metadata": {},
     "output_type": "execute_result"
    }
   ],
   "source": [
    "df_work.shape"
   ]
  },
  {
   "cell_type": "code",
   "execution_count": 10,
   "metadata": {},
   "outputs": [],
   "source": [
    "# Remove original columns for which dummy variables have been created\n",
    "vars_remove = ['Commission Class','Pay Method','Pay Frequency','Agent Type','Agent Branch Code',\n",
    "            'Agent Reporting Level','Agent Gender']\n",
    "\n",
    "for var in vars_remove:\n",
    "    df_work=df_work.drop(var, axis=1)"
   ]
  },
  {
   "cell_type": "code",
   "execution_count": 10,
   "metadata": {},
   "outputs": [],
   "source": [
    "# Normalize numerical columns\n",
    "scaler = MinMaxScaler()\n",
    "df_work['Number_of_Policies'] = scaler.fit_transform(df_work['Number_of_Policies'].values.reshape(-1,1))\n",
    "df_work['Number_of_Claims'] = scaler.fit_transform(df_work['Number_of_Claims'].values.reshape(-1,1))\n",
    "df_work['Total_Claim_Amount'] = scaler.fit_transform(df_work['Total_Claim_Amount'].values.reshape(-1,1))\n",
    "df_work['Total_Payment_Amount'] = scaler.fit_transform(df_work['Total_Payment_Amount'].values.reshape(-1,1))\n",
    "df_work['Total_Commission_Amount'] = scaler.fit_transform(df_work['Total_Commission_Amount'].values.reshape(-1,1))"
   ]
  },
  {
   "cell_type": "markdown",
   "metadata": {},
   "source": [
    "# Feature Engineering"
   ]
  },
  {
   "cell_type": "code",
   "execution_count": 11,
   "metadata": {},
   "outputs": [],
   "source": [
    "# Get current date\n",
    "current_time = datetime.datetime.now() "
   ]
  },
  {
   "cell_type": "code",
   "execution_count": 12,
   "metadata": {},
   "outputs": [],
   "source": [
    "# Create a new column 'Age' on the basis of date of birth of agent\n",
    "df_work['age'] = current_time - df_work['Agent Date of Birth']"
   ]
  },
  {
   "cell_type": "code",
   "execution_count": 13,
   "metadata": {},
   "outputs": [],
   "source": [
    "# Create a new column named 'service period' on the basis of difference between Agent Date of Registration and Termination.\n",
    "# In case date of Termination is null we will replace it with current date and compute\n",
    "\n",
    "service_period=[]\n",
    "\n",
    "for Date_of_Termination,Date_of_Appointment in zip(df_work.iloc[:,2], df_work.iloc[:,1]):\n",
    "    if Date_of_Termination is pd.NaT:\n",
    "        service_period.append(abs(current_time-Date_of_Appointment))\n",
    "    else:\n",
    "        service_period.append(abs(Date_of_Termination-Date_of_Appointment))\n",
    "    #print(Date_of_Termination)\n",
    "    #print(Date_of_Appointment)\n"
   ]
  },
  {
   "cell_type": "code",
   "execution_count": 14,
   "metadata": {},
   "outputs": [],
   "source": [
    "# Append the new column to dataframe\n",
    "df_work['Service_Period']=service_period\n",
    "\n",
    "# Remove the orginal columns\n",
    "df_work=df_work.drop('Date_of_Appointment', axis=1)\n",
    "df_work=df_work.drop('Date_of_Termination', axis=1)\n",
    "df_work=df_work.drop('Agent Date of Birth', axis=1)\n",
    "\n",
    "# Remove Agent Number since it is not critical for prediction\n",
    "df_work=df_work.drop('Agent Number', axis=1)"
   ]
  },
  {
   "cell_type": "code",
   "execution_count": 15,
   "metadata": {},
   "outputs": [
    {
     "data": {
      "text/html": [
       "<div>\n",
       "<style scoped>\n",
       "    .dataframe tbody tr th:only-of-type {\n",
       "        vertical-align: middle;\n",
       "    }\n",
       "\n",
       "    .dataframe tbody tr th {\n",
       "        vertical-align: top;\n",
       "    }\n",
       "\n",
       "    .dataframe thead th {\n",
       "        text-align: right;\n",
       "    }\n",
       "</style>\n",
       "<table border=\"1\" class=\"dataframe\">\n",
       "  <thead>\n",
       "    <tr style=\"text-align: right;\">\n",
       "      <th></th>\n",
       "      <th>Number_of_Policies</th>\n",
       "      <th>Number_of_Claims</th>\n",
       "      <th>Total_Claim_Amount</th>\n",
       "      <th>Total_Payment_Amount</th>\n",
       "      <th>Total_Commission_Amount</th>\n",
       "      <th>Churn</th>\n",
       "      <th>Commission Class_1</th>\n",
       "      <th>Commission Class_2</th>\n",
       "      <th>Commission Class_3</th>\n",
       "      <th>Pay Method_CQ</th>\n",
       "      <th>Pay Method_DC</th>\n",
       "      <th>Pay Frequency_12</th>\n",
       "      <th>Agent Type_0</th>\n",
       "      <th>Agent Type_7</th>\n",
       "      <th>Agent Type_AG</th>\n",
       "      <th>Agent Type_AM</th>\n",
       "      <th>Agent Type_AR</th>\n",
       "      <th>Agent Type_BA</th>\n",
       "      <th>Agent Type_BM</th>\n",
       "      <th>Agent Type_BR</th>\n",
       "      <th>Agent Type_CR</th>\n",
       "      <th>Agent Type_DM</th>\n",
       "      <th>Agent Type_GM</th>\n",
       "      <th>Agent Type_SM</th>\n",
       "      <th>Agent Type_UM</th>\n",
       "      <th>Agent Branch Code_10</th>\n",
       "      <th>Agent Reporting Level_1</th>\n",
       "      <th>Agent Reporting Level_2</th>\n",
       "      <th>Agent Gender_</th>\n",
       "      <th>Agent Gender_F</th>\n",
       "      <th>Agent Gender_M</th>\n",
       "      <th>age</th>\n",
       "      <th>Service_Period</th>\n",
       "    </tr>\n",
       "  </thead>\n",
       "  <tbody>\n",
       "    <tr>\n",
       "      <th>0</th>\n",
       "      <td>0.004476</td>\n",
       "      <td>0.0</td>\n",
       "      <td>0.0</td>\n",
       "      <td>0.0</td>\n",
       "      <td>0.0</td>\n",
       "      <td>0</td>\n",
       "      <td>0</td>\n",
       "      <td>0</td>\n",
       "      <td>1</td>\n",
       "      <td>0</td>\n",
       "      <td>1</td>\n",
       "      <td>1</td>\n",
       "      <td>0</td>\n",
       "      <td>0</td>\n",
       "      <td>0</td>\n",
       "      <td>1</td>\n",
       "      <td>0</td>\n",
       "      <td>0</td>\n",
       "      <td>0</td>\n",
       "      <td>0</td>\n",
       "      <td>0</td>\n",
       "      <td>0</td>\n",
       "      <td>0</td>\n",
       "      <td>0</td>\n",
       "      <td>0</td>\n",
       "      <td>1</td>\n",
       "      <td>1</td>\n",
       "      <td>0</td>\n",
       "      <td>0</td>\n",
       "      <td>0</td>\n",
       "      <td>1</td>\n",
       "      <td>10571 days 22:01:27.024126</td>\n",
       "      <td>1786 days 22:01:27.024126</td>\n",
       "    </tr>\n",
       "    <tr>\n",
       "      <th>1</th>\n",
       "      <td>0.003581</td>\n",
       "      <td>0.0</td>\n",
       "      <td>0.0</td>\n",
       "      <td>0.0</td>\n",
       "      <td>0.0</td>\n",
       "      <td>0</td>\n",
       "      <td>0</td>\n",
       "      <td>0</td>\n",
       "      <td>1</td>\n",
       "      <td>1</td>\n",
       "      <td>0</td>\n",
       "      <td>1</td>\n",
       "      <td>0</td>\n",
       "      <td>0</td>\n",
       "      <td>1</td>\n",
       "      <td>0</td>\n",
       "      <td>0</td>\n",
       "      <td>0</td>\n",
       "      <td>0</td>\n",
       "      <td>0</td>\n",
       "      <td>0</td>\n",
       "      <td>0</td>\n",
       "      <td>0</td>\n",
       "      <td>0</td>\n",
       "      <td>0</td>\n",
       "      <td>1</td>\n",
       "      <td>1</td>\n",
       "      <td>0</td>\n",
       "      <td>0</td>\n",
       "      <td>0</td>\n",
       "      <td>1</td>\n",
       "      <td>13526 days 22:01:27.024126</td>\n",
       "      <td>1584 days 22:01:27.024126</td>\n",
       "    </tr>\n",
       "    <tr>\n",
       "      <th>2</th>\n",
       "      <td>0.000000</td>\n",
       "      <td>0.0</td>\n",
       "      <td>0.0</td>\n",
       "      <td>0.0</td>\n",
       "      <td>0.0</td>\n",
       "      <td>0</td>\n",
       "      <td>0</td>\n",
       "      <td>0</td>\n",
       "      <td>1</td>\n",
       "      <td>1</td>\n",
       "      <td>0</td>\n",
       "      <td>1</td>\n",
       "      <td>0</td>\n",
       "      <td>0</td>\n",
       "      <td>0</td>\n",
       "      <td>0</td>\n",
       "      <td>0</td>\n",
       "      <td>0</td>\n",
       "      <td>0</td>\n",
       "      <td>1</td>\n",
       "      <td>0</td>\n",
       "      <td>0</td>\n",
       "      <td>0</td>\n",
       "      <td>0</td>\n",
       "      <td>0</td>\n",
       "      <td>1</td>\n",
       "      <td>1</td>\n",
       "      <td>0</td>\n",
       "      <td>0</td>\n",
       "      <td>0</td>\n",
       "      <td>1</td>\n",
       "      <td>14715 days 22:01:27.024126</td>\n",
       "      <td>105 days 22:01:27.024126</td>\n",
       "    </tr>\n",
       "    <tr>\n",
       "      <th>3</th>\n",
       "      <td>0.000895</td>\n",
       "      <td>0.0</td>\n",
       "      <td>0.0</td>\n",
       "      <td>0.0</td>\n",
       "      <td>0.0</td>\n",
       "      <td>0</td>\n",
       "      <td>0</td>\n",
       "      <td>0</td>\n",
       "      <td>1</td>\n",
       "      <td>1</td>\n",
       "      <td>0</td>\n",
       "      <td>1</td>\n",
       "      <td>0</td>\n",
       "      <td>0</td>\n",
       "      <td>1</td>\n",
       "      <td>0</td>\n",
       "      <td>0</td>\n",
       "      <td>0</td>\n",
       "      <td>0</td>\n",
       "      <td>0</td>\n",
       "      <td>0</td>\n",
       "      <td>0</td>\n",
       "      <td>0</td>\n",
       "      <td>0</td>\n",
       "      <td>0</td>\n",
       "      <td>1</td>\n",
       "      <td>1</td>\n",
       "      <td>0</td>\n",
       "      <td>0</td>\n",
       "      <td>0</td>\n",
       "      <td>1</td>\n",
       "      <td>16541 days 22:01:27.024126</td>\n",
       "      <td>993 days 01:58:32.975874</td>\n",
       "    </tr>\n",
       "    <tr>\n",
       "      <th>4</th>\n",
       "      <td>0.000000</td>\n",
       "      <td>0.0</td>\n",
       "      <td>0.0</td>\n",
       "      <td>0.0</td>\n",
       "      <td>0.0</td>\n",
       "      <td>0</td>\n",
       "      <td>0</td>\n",
       "      <td>1</td>\n",
       "      <td>0</td>\n",
       "      <td>1</td>\n",
       "      <td>0</td>\n",
       "      <td>1</td>\n",
       "      <td>0</td>\n",
       "      <td>0</td>\n",
       "      <td>0</td>\n",
       "      <td>1</td>\n",
       "      <td>0</td>\n",
       "      <td>0</td>\n",
       "      <td>0</td>\n",
       "      <td>0</td>\n",
       "      <td>0</td>\n",
       "      <td>0</td>\n",
       "      <td>0</td>\n",
       "      <td>0</td>\n",
       "      <td>0</td>\n",
       "      <td>1</td>\n",
       "      <td>1</td>\n",
       "      <td>0</td>\n",
       "      <td>0</td>\n",
       "      <td>0</td>\n",
       "      <td>1</td>\n",
       "      <td>11793 days 22:01:27.024126</td>\n",
       "      <td>990 days 01:58:32.975874</td>\n",
       "    </tr>\n",
       "  </tbody>\n",
       "</table>\n",
       "</div>"
      ],
      "text/plain": [
       "   Number_of_Policies  Number_of_Claims  Total_Claim_Amount  \\\n",
       "0            0.004476               0.0                 0.0   \n",
       "1            0.003581               0.0                 0.0   \n",
       "2            0.000000               0.0                 0.0   \n",
       "3            0.000895               0.0                 0.0   \n",
       "4            0.000000               0.0                 0.0   \n",
       "\n",
       "   Total_Payment_Amount  Total_Commission_Amount  Churn  Commission Class_1  \\\n",
       "0                   0.0                      0.0      0                   0   \n",
       "1                   0.0                      0.0      0                   0   \n",
       "2                   0.0                      0.0      0                   0   \n",
       "3                   0.0                      0.0      0                   0   \n",
       "4                   0.0                      0.0      0                   0   \n",
       "\n",
       "   Commission Class_2  Commission Class_3  Pay Method_CQ  Pay Method_DC  \\\n",
       "0                   0                   1              0              1   \n",
       "1                   0                   1              1              0   \n",
       "2                   0                   1              1              0   \n",
       "3                   0                   1              1              0   \n",
       "4                   1                   0              1              0   \n",
       "\n",
       "   Pay Frequency_12  Agent Type_0  Agent Type_7  Agent Type_AG  Agent Type_AM  \\\n",
       "0                 1             0             0              0              1   \n",
       "1                 1             0             0              1              0   \n",
       "2                 1             0             0              0              0   \n",
       "3                 1             0             0              1              0   \n",
       "4                 1             0             0              0              1   \n",
       "\n",
       "   Agent Type_AR  Agent Type_BA  Agent Type_BM  Agent Type_BR  Agent Type_CR  \\\n",
       "0              0              0              0              0              0   \n",
       "1              0              0              0              0              0   \n",
       "2              0              0              0              1              0   \n",
       "3              0              0              0              0              0   \n",
       "4              0              0              0              0              0   \n",
       "\n",
       "   Agent Type_DM  Agent Type_GM  Agent Type_SM  Agent Type_UM  \\\n",
       "0              0              0              0              0   \n",
       "1              0              0              0              0   \n",
       "2              0              0              0              0   \n",
       "3              0              0              0              0   \n",
       "4              0              0              0              0   \n",
       "\n",
       "   Agent Branch Code_10  Agent Reporting Level_1  Agent Reporting Level_2  \\\n",
       "0                     1                        1                        0   \n",
       "1                     1                        1                        0   \n",
       "2                     1                        1                        0   \n",
       "3                     1                        1                        0   \n",
       "4                     1                        1                        0   \n",
       "\n",
       "   Agent Gender_   Agent Gender_F  Agent Gender_M                        age  \\\n",
       "0               0               0               1 10571 days 22:01:27.024126   \n",
       "1               0               0               1 13526 days 22:01:27.024126   \n",
       "2               0               0               1 14715 days 22:01:27.024126   \n",
       "3               0               0               1 16541 days 22:01:27.024126   \n",
       "4               0               0               1 11793 days 22:01:27.024126   \n",
       "\n",
       "             Service_Period  \n",
       "0 1786 days 22:01:27.024126  \n",
       "1 1584 days 22:01:27.024126  \n",
       "2  105 days 22:01:27.024126  \n",
       "3  993 days 01:58:32.975874  \n",
       "4  990 days 01:58:32.975874  "
      ]
     },
     "execution_count": 15,
     "metadata": {},
     "output_type": "execute_result"
    }
   ],
   "source": [
    "# Check contents once\n",
    "df_work.head()"
   ]
  },
  {
   "cell_type": "code",
   "execution_count": 16,
   "metadata": {},
   "outputs": [],
   "source": [
    "# Normalize the new columns \n",
    "scaler = MinMaxScaler()\n",
    "df_work['age'] = scaler.fit_transform(df_work['age'].values.reshape(-1,1))\n",
    "df_work['Service_Period'] = scaler.fit_transform(df_work['Service_Period'].values.reshape(-1,1))"
   ]
  },
  {
   "cell_type": "code",
   "execution_count": 17,
   "metadata": {},
   "outputs": [],
   "source": [
    "# Create separate dataset for feature and target columns\n",
    "x = df_work.drop('Churn', axis=1)\n",
    "y = df_work['Churn']"
   ]
  },
  {
   "cell_type": "markdown",
   "metadata": {},
   "source": [
    "# Feature Selection"
   ]
  },
  {
   "cell_type": "code",
   "execution_count": 18,
   "metadata": {},
   "outputs": [
    {
     "name": "stdout",
     "output_type": "stream",
     "text": [
      "                      Specs       Score\n",
      "4   Total_Commission_Amount  179.461095\n",
      "0        Number_of_Policies   79.038735\n",
      "1          Number_of_Claims   51.598942\n",
      "17            Agent Type_BM   35.968226\n",
      "13            Agent Type_AG   16.425783\n",
      "2        Total_Claim_Amount   11.655611\n",
      "31           Service_Period    3.602116\n",
      "14            Agent Type_AM    1.430251\n",
      "6        Commission Class_2    1.252122\n",
      "27           Agent Gender_     0.666482\n"
     ]
    }
   ],
   "source": [
    "bestfeatures=SelectKBest(score_func=chi2, k=10)\n",
    "fit=bestfeatures.fit(x,y)\n",
    "dfscores=pd.DataFrame(fit.scores_)\n",
    "dfcolumns=pd.DataFrame(x.columns)\n",
    "#concatenate two dataframes\n",
    "featureScores=pd.concat([dfcolumns,dfscores],axis=1)\n",
    "featureScores.columns=['Specs','Score'] #naming the dataframe columns\n",
    "print(featureScores.nlargest(10,'Score')) #print 10 best features"
   ]
  },
  {
   "cell_type": "code",
   "execution_count": 19,
   "metadata": {},
   "outputs": [],
   "source": [
    "# Get top features\n",
    "top_features = ['Total_Commission_Amount', 'Number_of_Policies', 'Number_of_Claims','Agent Type_BM',\n",
    "               'Agent Type_AG', 'Total_Claim_Amount', 'Service_Period', 'Agent Type_AM', 'Commission Class_2', \n",
    "               'Agent Gender_ ',]"
   ]
  },
  {
   "cell_type": "code",
   "execution_count": 20,
   "metadata": {},
   "outputs": [],
   "source": [
    "# Create new dataset with only top features\n",
    "x01=x[top_features]\n",
    "y01=y"
   ]
  },
  {
   "cell_type": "code",
   "execution_count": 21,
   "metadata": {},
   "outputs": [
    {
     "name": "stdout",
     "output_type": "stream",
     "text": [
      "length of oversampled data is  7238\n",
      "Number of Churned agents in oversampled data 3619\n",
      "Number of Non Churned agents in oversampled data 3619\n",
      "Proportion of Non Churned agents in oversampled data is  0.5\n",
      "Proportion of Churned Agents in oversampled data is  0.5\n"
     ]
    }
   ],
   "source": [
    "# To handle class imbalance performing SMOTE\n",
    "\n",
    "from imblearn.over_sampling import SMOTE\n",
    "SMO = SMOTE(random_state=11)\n",
    "\n",
    "#X4_train, X4_test, Y4_train, Y4_test = train_test_split(X_train,Y_train, test_size=0.20)\n",
    "x01_smo,y01_smo = SMO.fit_sample(x01, y01)\n",
    "columns = x01.columns\n",
    "\n",
    "x01_smo = pd.DataFrame(data = x01_smo, columns = columns )\n",
    "y01_smo = pd.DataFrame(data = y01_smo, columns = ['Churn'])\n",
    "\n",
    "# we can Check the numbers of our data\n",
    "print(\"length of oversampled data is \",len(x01_smo))\n",
    "print(\"Number of Churned agents in oversampled data\",len(y01_smo[y01_smo['Churn']== 0 ]))\n",
    "print(\"Number of Non Churned agents in oversampled data\",len(y01_smo[y01_smo['Churn']== 1 ]))\n",
    "print(\"Proportion of Non Churned agents in oversampled data is \",len(y01_smo[y01_smo['Churn']== 0])/len(x01_smo))\n",
    "print(\"Proportion of Churned Agents in oversampled data is \",len(y01_smo[y01_smo['Churn']== 1 ])/len(x01_smo))"
   ]
  },
  {
   "cell_type": "code",
   "execution_count": 22,
   "metadata": {},
   "outputs": [],
   "source": [
    "# Perform Test/Train Split\n",
    "x01_train_smo, x01_test_smo, y01_train_smo, y01_test_smo = train_test_split(x01_smo, y01_smo, test_size=0.3,random_state=11)\n"
   ]
  },
  {
   "cell_type": "code",
   "execution_count": 47,
   "metadata": {},
   "outputs": [
    {
     "data": {
      "text/plain": [
       "((5066, 10), (2172, 10), (5066, 1), (2172, 1))"
      ]
     },
     "execution_count": 47,
     "metadata": {},
     "output_type": "execute_result"
    }
   ],
   "source": [
    "x01_train_smo.shape, x01_test_smo.shape, y01_train_smo.shape, y01_test_smo.shape"
   ]
  },
  {
   "cell_type": "markdown",
   "metadata": {},
   "source": [
    "# Model Application"
   ]
  },
  {
   "cell_type": "markdown",
   "metadata": {},
   "source": [
    "# 1. Logistic Regression"
   ]
  },
  {
   "cell_type": "code",
   "execution_count": 23,
   "metadata": {},
   "outputs": [],
   "source": [
    "# Define grid\n",
    "C = np.logspace(0,5,10)\n",
    "param_grid = dict( C=C)\n",
    "\n",
    "# Model\n",
    "logreg=LogisticRegression(solver='lbfgs',max_iter=1000)\n",
    "\n",
    "# Define Evaluation Procedure\n",
    "cv=RepeatedStratifiedKFold(n_splits=10, n_repeats=3, random_state=11)\n",
    "\n",
    "# Define Grid Search\n",
    "grid=GridSearchCV(estimator=logreg, param_grid=param_grid, n_jobs=1, cv=cv, scoring='roc_auc')\n",
    "\n",
    "# Execute Grid Search\n",
    "grid_result=grid.fit(x01_train_smo, (y01_train_smo.values.ravel()))"
   ]
  },
  {
   "cell_type": "code",
   "execution_count": 24,
   "metadata": {},
   "outputs": [
    {
     "name": "stdout",
     "output_type": "stream",
     "text": [
      "Best: 0.964528 using {'C': 46.4158883361278}\n"
     ]
    }
   ],
   "source": [
    "# Print best model parameters\n",
    "print(\"Best: %f using %s\" % (grid_result.best_score_, grid_result.best_params_))"
   ]
  },
  {
   "cell_type": "code",
   "execution_count": 25,
   "metadata": {},
   "outputs": [
    {
     "data": {
      "text/plain": [
       "LogisticRegression(C=46.4158883361278, class_weight=None, dual=False,\n",
       "                   fit_intercept=True, intercept_scaling=1, l1_ratio=None,\n",
       "                   max_iter=1000, multi_class='auto', n_jobs=None, penalty='l2',\n",
       "                   random_state=None, solver='lbfgs', tol=0.0001, verbose=0,\n",
       "                   warm_start=False)"
      ]
     },
     "execution_count": 25,
     "metadata": {},
     "output_type": "execute_result"
    }
   ],
   "source": [
    "grid_result.best_estimator_"
   ]
  },
  {
   "cell_type": "code",
   "execution_count": 26,
   "metadata": {},
   "outputs": [],
   "source": [
    "# Saving the best model\n",
    "bestlogreg= LogisticRegression(C=46.4158883361278, class_weight=None, dual=False,\n",
    "                   fit_intercept=True, intercept_scaling=1, l1_ratio=None,\n",
    "                   max_iter=1000, multi_class='auto', n_jobs=None, penalty='l2',\n",
    "                   random_state=None, solver='lbfgs', tol=0.0001, verbose=0,\n",
    "                   warm_start=False)"
   ]
  },
  {
   "cell_type": "code",
   "execution_count": 41,
   "metadata": {},
   "outputs": [
    {
     "data": {
      "text/plain": [
       "LogisticRegression(C=46.4158883361278, class_weight=None, dual=False,\n",
       "                   fit_intercept=True, intercept_scaling=1, l1_ratio=None,\n",
       "                   max_iter=1000, multi_class='auto', n_jobs=None, penalty='l2',\n",
       "                   random_state=None, solver='lbfgs', tol=0.0001, verbose=0,\n",
       "                   warm_start=False)"
      ]
     },
     "execution_count": 41,
     "metadata": {},
     "output_type": "execute_result"
    }
   ],
   "source": [
    "# Fit the model on train data\n",
    "bestlogreg.fit(x01_train_smo, y01_train_smo)"
   ]
  },
  {
   "cell_type": "code",
   "execution_count": 42,
   "metadata": {},
   "outputs": [],
   "source": [
    "# Make Predictions\n",
    "y01_pred=bestlogreg.predict(x01_test_smo)"
   ]
  },
  {
   "cell_type": "code",
   "execution_count": 44,
   "metadata": {},
   "outputs": [
    {
     "data": {
      "text/plain": [
       "array([[1007,   85],\n",
       "       [ 184,  896]], dtype=int64)"
      ]
     },
     "execution_count": 44,
     "metadata": {},
     "output_type": "execute_result"
    }
   ],
   "source": [
    "# Make Confusion Matrix to compare results against actuals\n",
    "cnf_matrix = metrics.confusion_matrix(y01_test_smo , y01_pred)\n",
    "cnf_matrix  "
   ]
  },
  {
   "cell_type": "code",
   "execution_count": 45,
   "metadata": {},
   "outputs": [
    {
     "name": "stdout",
     "output_type": "stream",
     "text": [
      "Accuracy: 0.8761510128913443\n",
      "Precision: 0.9133537206931702\n",
      "Recall: 0.8296296296296296\n",
      "f1 score:  0.8694808345463367\n"
     ]
    }
   ],
   "source": [
    "# Get Accuracy Scores - y01_smo\n",
    "#print(\"Accuracy:\",metrics.accuracy_score(y01_smo, y01_pred))\n",
    "#print(\"Precision:\",metrics.precision_score(y01_smo, y01_pred))\n",
    "#print(\"Recall:\",metrics.recall_score(y01_smo, y01_pred))\n",
    "#print(\"f1 score: \", f1_score(y01_smo, y01_pred))\n",
    "\n",
    "# # Get Accuracy Scores - y01_test_smo\n",
    "print(\"Accuracy:\",metrics.accuracy_score(y01_test_smo, y01_pred))\n",
    "print(\"Precision:\",metrics.precision_score(y01_test_smo, y01_pred))\n",
    "print(\"Recall:\",metrics.recall_score(y01_test_smo, y01_pred))\n",
    "print(\"f1 score: \", f1_score(y01_test_smo, y01_pred))\n"
   ]
  },
  {
   "cell_type": "code",
   "execution_count": 37,
   "metadata": {},
   "outputs": [
    {
     "data": {
      "image/png": "[encoded data removed]",
      "text/plain": [
       "<Figure size 432x288 with 1 Axes>"
      ]
     },
     "metadata": {
      "needs_background": "light"
     },
     "output_type": "display_data"
    }
   ],
   "source": [
    "# Print ROC AUC Curve y01_smo x01_smo smote set without t/t split\n",
    " \n",
    "logit_roc_auc = roc_auc_score(y01_smo, bestlogreg.predict(x01_smo))\n",
    "fpr, tpr, thresholds = roc_curve(y01_smo, bestlogreg.predict_proba(x01_smo)[:,1])\n",
    "plt.figure()\n",
    "plt.plot(fpr, tpr, label='Logistic Regression (area = %0.2f)' % logit_roc_auc)\n",
    "plt.plot([0, 1], [0, 1],'r--')\n",
    "plt.xlim([0.0, 1.0])\n",
    "plt.ylim([0.0, 1.05])\n",
    "plt.xlabel('False Positive Rate')\n",
    "plt.ylabel('True Positive Rate')\n",
    "plt.title('Receiver operating characteristic')\n",
    "plt.legend(loc=\"lower right\")\n",
    "plt.savefig('Log_ROC')\n",
    "plt.show()"
   ]
  },
  {
   "cell_type": "code",
   "execution_count": 46,
   "metadata": {},
   "outputs": [
    {
     "data": {
      "image/png": "[encoded data removed]",
      "text/plain": [
       "<Figure size 432x288 with 1 Axes>"
      ]
     },
     "metadata": {
      "needs_background": "light"
     },
     "output_type": "display_data"
    }
   ],
   "source": [
    "# Print ROC AUC Curve \n",
    " \n",
    "logit_roc_auc = roc_auc_score(y01_test_smo, bestlogreg.predict(x01_test_smo))\n",
    "fpr, tpr, thresholds = roc_curve(y01_test_smo, bestlogreg.predict_proba(x01_test_smo)[:,1])\n",
    "plt.figure()\n",
    "plt.plot(fpr, tpr, label='Logistic Regression (area = %0.2f)' % logit_roc_auc)\n",
    "plt.plot([0, 1], [0, 1],'r--')\n",
    "plt.xlim([0.0, 1.0])\n",
    "plt.ylim([0.0, 1.05])\n",
    "plt.xlabel('False Positive Rate')\n",
    "plt.ylabel('True Positive Rate')\n",
    "plt.title('Receiver operating characteristic')\n",
    "plt.legend(loc=\"lower right\")\n",
    "plt.savefig('Log_ROC')\n",
    "plt.show()"
   ]
  },
  {
   "cell_type": "markdown",
   "metadata": {},
   "source": [
    "# 2. Using TPOT"
   ]
  },
  {
   "cell_type": "code",
   "execution_count": 49,
   "metadata": {},
   "outputs": [
    {
     "data": {
      "application/vnd.jupyter.widget-view+json": {
       "model_id": "",
       "version_major": 2,
       "version_minor": 0
      },
      "text/plain": [
       "HBox(children=(FloatProgress(value=0.0, description='Optimization Progress', style=ProgressStyle(description_w…"
      ]
     },
     "metadata": {},
     "output_type": "display_data"
    },
    {
     "name": "stdout",
     "output_type": "stream",
     "text": [
      "Generation 1 - Current best internal CV score: 0.9984205330700888\n",
      "Generation 2 - Current best internal CV score: 0.9984205330700888\n",
      "Generation 3 - Current best internal CV score: 0.9984205330700888\n",
      "Generation 4 - Current best internal CV score: 0.9984205330700888\n",
      "Generation 5 - Current best internal CV score: 0.9984205330700888\n",
      "\n",
      "Best pipeline: RandomForestClassifier(input_matrix, bootstrap=True, criterion=gini, max_features=0.4, min_samples_leaf=1, min_samples_split=5, n_estimators=100)\n",
      "0.9972375690607734\n"
     ]
    }
   ],
   "source": [
    "from tpot import TPOTClassifier\n",
    "tpot = TPOTClassifier(generations=5, verbosity=2, max_time_mins=60, n_jobs = -1)\n",
    "tpot.fit(x01_train_smo, y01_train_smo)\n",
    "print(tpot.score(x01_test_smo, y01_test_smo))"
   ]
  },
  {
   "cell_type": "code",
   "execution_count": 50,
   "metadata": {},
   "outputs": [
    {
     "data": {
      "text/plain": [
       "Pipeline(memory=None,\n",
       "         steps=[('randomforestclassifier',\n",
       "                 RandomForestClassifier(bootstrap=True, ccp_alpha=0.0,\n",
       "                                        class_weight=None, criterion='gini',\n",
       "                                        max_depth=None, max_features=0.4,\n",
       "                                        max_leaf_nodes=None, max_samples=None,\n",
       "                                        min_impurity_decrease=0.0,\n",
       "                                        min_impurity_split=None,\n",
       "                                        min_samples_leaf=1, min_samples_split=5,\n",
       "                                        min_weight_fraction_leaf=0.0,\n",
       "                                        n_estimators=100, n_jobs=None,\n",
       "                                        oob_score=False, random_state=None,\n",
       "                                        verbose=0, warm_start=False))],\n",
       "         verbose=False)"
      ]
     },
     "execution_count": 50,
     "metadata": {},
     "output_type": "execute_result"
    }
   ],
   "source": [
    "tpot.fitted_pipeline_"
   ]
  },
  {
   "cell_type": "code",
   "execution_count": 51,
   "metadata": {},
   "outputs": [
    {
     "name": "stdout",
     "output_type": "stream",
     "text": [
      "0.9972375690607734\n"
     ]
    }
   ],
   "source": [
    "print(tpot.score(x01_test_smo, y01_test_smo))"
   ]
  },
  {
   "cell_type": "code",
   "execution_count": 53,
   "metadata": {},
   "outputs": [],
   "source": [
    "# Saving the best model\n",
    "from sklearn.ensemble import RandomForestClassifier\n",
    "bestTPOT= RandomForestClassifier(bootstrap=True, ccp_alpha=0.0,\n",
    "                                        class_weight=None, criterion='gini',\n",
    "                                        max_depth=None, max_features=0.4,\n",
    "                                        max_leaf_nodes=None, max_samples=None,\n",
    "                                        min_impurity_decrease=0.0,\n",
    "                                        min_impurity_split=None,\n",
    "                                        min_samples_leaf=1, min_samples_split=5,\n",
    "                                        min_weight_fraction_leaf=0.0,\n",
    "                                        n_estimators=100, n_jobs=None,\n",
    "                                        oob_score=False, random_state=None,\n",
    "                                        verbose=0, warm_start=False)"
   ]
  },
  {
   "cell_type": "code",
   "execution_count": 54,
   "metadata": {},
   "outputs": [
    {
     "data": {
      "text/plain": [
       "RandomForestClassifier(bootstrap=True, ccp_alpha=0.0, class_weight=None,\n",
       "                       criterion='gini', max_depth=None, max_features=0.4,\n",
       "                       max_leaf_nodes=None, max_samples=None,\n",
       "                       min_impurity_decrease=0.0, min_impurity_split=None,\n",
       "                       min_samples_leaf=1, min_samples_split=5,\n",
       "                       min_weight_fraction_leaf=0.0, n_estimators=100,\n",
       "                       n_jobs=None, oob_score=False, random_state=None,\n",
       "                       verbose=0, warm_start=False)"
      ]
     },
     "execution_count": 54,
     "metadata": {},
     "output_type": "execute_result"
    }
   ],
   "source": [
    "bestTPOT.fit(x01_train_smo, y01_train_smo)"
   ]
  },
  {
   "cell_type": "code",
   "execution_count": 56,
   "metadata": {},
   "outputs": [],
   "source": [
    "# Make Predictions\n",
    "y01_pred_RF=bestTPOT.predict(x01_test_smo)"
   ]
  },
  {
   "cell_type": "code",
   "execution_count": 57,
   "metadata": {},
   "outputs": [
    {
     "data": {
      "text/plain": [
       "array([[1088,    4],\n",
       "       [   1, 1079]], dtype=int64)"
      ]
     },
     "execution_count": 57,
     "metadata": {},
     "output_type": "execute_result"
    }
   ],
   "source": [
    "cnf_matrix = metrics.confusion_matrix(y01_test_smo , y01_pred_RF)\n",
    "cnf_matrix  "
   ]
  },
  {
   "cell_type": "code",
   "execution_count": 58,
   "metadata": {},
   "outputs": [
    {
     "name": "stdout",
     "output_type": "stream",
     "text": [
      "Accuracy: 0.9976979742173112\n",
      "Precision: 0.9963065558633426\n",
      "Recall: 0.9990740740740741\n",
      "f1 score:  0.9976883957466481\n"
     ]
    }
   ],
   "source": [
    "# # Get Accuracy Scores - y01_test_smo\n",
    "print(\"Accuracy:\",metrics.accuracy_score(y01_test_smo, y01_pred_RF))\n",
    "print(\"Precision:\",metrics.precision_score(y01_test_smo, y01_pred_RF))\n",
    "print(\"Recall:\",metrics.recall_score(y01_test_smo, y01_pred_RF))\n",
    "print(\"f1 score: \", f1_score(y01_test_smo, y01_pred_RF))"
   ]
  },
  {
   "cell_type": "code",
   "execution_count": 59,
   "metadata": {},
   "outputs": [
    {
     "data": {
      "image/png": "[encoded data removed]",
      "text/plain": [
       "<Figure size 432x288 with 1 Axes>"
      ]
     },
     "metadata": {
      "needs_background": "light"
     },
     "output_type": "display_data"
    }
   ],
   "source": [
    "# Print ROC AUC Curve \n",
    " \n",
    "TPOT_roc_auc = roc_auc_score(y01_test_smo, bestTPOT.predict(x01_test_smo))\n",
    "fpr, tpr, thresholds = roc_curve(y01_test_smo, bestTPOT.predict_proba(x01_test_smo)[:,1])\n",
    "plt.figure()\n",
    "plt.plot(fpr, tpr, label='RandomForest Classifier (area = %0.2f)' % TPOT_roc_auc)\n",
    "plt.plot([0, 1], [0, 1],'r--')\n",
    "plt.xlim([0.0, 1.0])\n",
    "plt.ylim([0.0, 1.05])\n",
    "plt.xlabel('False Positive Rate')\n",
    "plt.ylabel('True Positive Rate')\n",
    "plt.title('Receiver operating characteristic')\n",
    "plt.legend(loc=\"lower right\")\n",
    "plt.savefig('Log_ROC')\n",
    "plt.show()"
   ]
  },
  {
   "cell_type": "code",
   "execution_count": null,
   "metadata": {},
   "outputs": [],
   "source": []
  },
  {
   "cell_type": "code",
   "execution_count": null,
   "metadata": {},
   "outputs": [],
   "source": []
  },
  {
   "cell_type": "code",
   "execution_count": null,
   "metadata": {},
   "outputs": [],
   "source": []
  },
  {
   "cell_type": "code",
   "execution_count": null,
   "metadata": {},
   "outputs": [],
   "source": []
  }
 ],
 "metadata": {
  "kernelspec": {
   "display_name": "Python 3",
   "language": "python",
   "name": "python3"
  },
  "language_info": {
   "codemirror_mode": {
    "name": "ipython",
    "version": 3
   },
   "file_extension": ".py",
   "mimetype": "text/x-python",
   "name": "python",
   "nbconvert_exporter": "python",
   "pygments_lexer": "ipython3",
   "version": "3.7.3"
  }
 },
 "nbformat": 4,
 "nbformat_minor": 2
}
