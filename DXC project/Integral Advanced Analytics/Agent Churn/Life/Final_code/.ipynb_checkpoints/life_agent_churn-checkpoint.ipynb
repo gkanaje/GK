{
 "cells": [
  {
   "cell_type": "markdown",
   "metadata": {},
   "source": [
    "## Agent Churn Prediction\n",
    "## Data used for analysis is based on Integral Life Admin System"
   ]
  },
  {
   "cell_type": "markdown",
   "metadata": {},
   "source": [
    "### The SQL query in below cells will retreive data based on database credentials provide. Right now these credentials have been left empty for security reasons. Please enter relevant details before running this notebook further."
   ]
  },
  {
   "cell_type": "code",
   "execution_count": 1,
   "metadata": {},
   "outputs": [
    {
     "name": "stderr",
     "output_type": "stream",
     "text": [
      "C:\\Users\\sisense_admin\\.conda\\envs\\life_agent_churn\\lib\\site-packages\\sklearn\\externals\\joblib\\__init__.py:15: FutureWarning: sklearn.externals.joblib is deprecated in 0.21 and will be removed in 0.23. Please import this functionality directly from joblib, which can be installed with: pip install joblib. If this warning is raised when loading pickled models, you may need to re-serialize those models with scikit-learn 0.21+.\n",
      "  warnings.warn(msg, category=FutureWarning)\n"
     ]
    }
   ],
   "source": [
    "# Import Packages\n",
    "import numpy as np\n",
    "import pandas as pd\n",
    "import pyodbc\n",
    "\n",
    "# Get Current time\n",
    "import datetime \n",
    "\n",
    "# For Graphics\n",
    "import matplotlib as matplotlib\n",
    "import matplotlib.pyplot as plt\n",
    "import seaborn as sns\n",
    "\n",
    "# For splitting data into test and train subsets\n",
    "from sklearn.model_selection import train_test_split, RepeatedStratifiedKFold, GridSearchCV\n",
    "\n",
    "# For logistic regression\n",
    "from sklearn.linear_model import LogisticRegression\n",
    "\n",
    "# For saving the model\n",
    "from sklearn.externals import joblib \n",
    "\n",
    "# For Confusion Matrix\n",
    "from sklearn import metrics\n",
    "\n",
    "# For ROC Curve\n",
    "from sklearn.metrics import roc_auc_score, roc_curve\n",
    "\n",
    "# For Normalization\n",
    "from sklearn.preprocessing import MinMaxScaler\n",
    "\n",
    "# For Feature Selection\n",
    "from sklearn.feature_selection import SelectKBest, chi2\n",
    "\n",
    "# Settings to view all columns and rows\n",
    "pd.set_option('display.max_rows', 1000)\n",
    "pd.set_option('display.max_columns', 1000)"
   ]
  },
  {
   "cell_type": "markdown",
   "metadata": {},
   "source": [
    "## Import Data"
   ]
  },
  {
   "cell_type": "code",
   "execution_count": 2,
   "metadata": {},
   "outputs": [],
   "source": [
    "# Enter ip address and port number of the system where the database resides.\n",
    "server = '172.31.20.94'\n",
    "database = 'INT77DB2014_LIF' \n",
    "username = 'sisensedb_user'\n",
    "password = 'Sisense12#$' "
   ]
  },
  {
   "cell_type": "code",
   "execution_count": 3,
   "metadata": {},
   "outputs": [],
   "source": [
    "# Add appropriate driver name\n",
    "cnxn = pyodbc.connect('DRIVER={SQL Server};SERVER='+server+';DATABASE='+database+';UID='+username+';PWD='+ password)\n",
    "cursor = cnxn.cursor()"
   ]
  },
  {
   "cell_type": "code",
   "execution_count": 4,
   "metadata": {},
   "outputs": [],
   "source": [
    "# Run Query\n",
    "query = '''\n",
    "select \n",
    "q1.agntnum\tas 'Agent Number',\n",
    "q1.dteapp\tas 'Date_of_Appointment',\n",
    "case\n",
    "when\n",
    "q1.dtetrm = '99999999'\n",
    "then \n",
    "''\n",
    "else\n",
    "cast(q1.dtetrm as varchar)\n",
    "end\t\t\tas 'Date_of_Termination',\n",
    "q1.agcls\tas 'Commission Class',\n",
    "q1.paymth\tas 'Pay Method',\n",
    "q1.payfrq\tas 'Pay Frequency',\n",
    "q2.agtype\tas 'Agent Type',\n",
    "q2.agntbr   as 'Agent Branch Code',\n",
    "q2.replvl\tas 'Agent Reporting Level',\n",
    "case\n",
    "when \n",
    "q3.cltdob = '99999999'\n",
    "then \n",
    "''\n",
    "else\n",
    "cast (q3.cltdob as varchar)\n",
    "end\t\t\tas 'Agent_Date_of_Birth',\n",
    "q3.cltsex\tas 'Agent Gender',\n",
    "isnull(q4.policies,0)  as 'Number_of_Policies',\n",
    "isnull(q7.claims,0)  as 'Number_of_Claims',\n",
    "isnull(q6.claim_amount,0)  as 'Total_Claim_Amount',\n",
    "isnull(q5.payments,0)  as 'Total_Payment_Amount',\n",
    "isnull(q8.commission,0)  as 'Total_Commission_Amount',\n",
    "case\n",
    "when\n",
    "q1.dtetrm = 99999999\n",
    "then \n",
    "0\n",
    "else\n",
    "1\n",
    "end\n",
    "as 'Churn'\n",
    "\n",
    "from \n",
    "(select agntnum, dteapp, dtetrm, agcls, paymth, payfrq from vm1dta.aglfpf where agntcoy='2') q1\n",
    "inner join \n",
    "(select agntnum, clntnum, agtype, agntbr, replvl from vm1dta.agntpf where agntcoy='2') q2\n",
    "on q1.agntnum = q2.agntnum\n",
    "inner join \n",
    "(select * from vm1dta.clntpf where validflag='1') q3\n",
    "on q3.clntnum = q2.clntnum\n",
    "left outer join\n",
    "(select agntnum, count(distinct chdrnum) as policies from vm1dta.chdrpf where chdrcoy = '2' group by agntnum )q4\n",
    "on q4.agntnum = q1.agntnum \n",
    "left outer join\n",
    "(\n",
    "select \n",
    "chdr.agntnum, sum(regp.payment) as payments\n",
    "from \n",
    "(select distinct agntnum, chdrnum from vm1dta.chdrpf where chdrcoy = '2') chdr \n",
    "inner join\n",
    "(select distinct chdrnum, sum(totamnt) as payment from vm1dta.regppf group by chdrnum) regp\n",
    "on regp.chdrnum = chdr.chdrnum\n",
    "group by chdr.agntnum\n",
    ")q5\n",
    "on q5.agntnum = q1.agntnum \n",
    "left outer join\n",
    "(\n",
    "select \n",
    "chdr.agntnum, sum(clmd.amount) as claim_amount\n",
    "from \n",
    "(select distinct agntnum, chdrnum from vm1dta.chdrpf where chdrcoy = '2') chdr \n",
    "inner join\n",
    "(select sum(actvalue) as amount, chdrnum from vm1dta.clmdpf group by chdrnum ) clmd\n",
    "on clmd.chdrnum = chdr.chdrnum\n",
    "group by chdr.agntnum\n",
    ")q6\n",
    "on q6.agntnum = q1.agntnum \n",
    "left outer join \n",
    "(\n",
    "select \n",
    "chdr.agntnum, count(clmd.chdrnum) as claims\n",
    "from \n",
    "(select distinct agntnum, chdrnum from vm1dta.chdrpf where chdrcoy = '2') chdr \n",
    "inner join\n",
    "(select sum(actvalue) as amount, chdrnum from vm1dta.clmdpf group by chdrnum ) clmd\n",
    "on clmd.chdrnum = chdr.chdrnum\n",
    "group by chdr.agntnum\n",
    ")q7\n",
    "on q7.agntnum = q1.agntnum \n",
    "left outer join \n",
    "(select rldgacct, sum(acctamt) as commission from vm1dta.acmvpf where rdoccoy = '2' and SACSCODE='LA'  AND SACSTYP IN ('IC','RC','SG')\n",
    "group by rldgacct)q8\n",
    "on q8.rldgacct = q1.agntnum\n",
    "\n",
    "order by q1.agntnum\n",
    "'''"
   ]
  },
  {
   "cell_type": "code",
   "execution_count": 5,
   "metadata": {},
   "outputs": [],
   "source": [
    "# Read data\n",
    "df_orig = pd.read_sql(query,cnxn)\n",
    "\n",
    "# Close the cursor\n",
    "cursor.close() "
   ]
  },
  {
   "cell_type": "code",
   "execution_count": 6,
   "metadata": {},
   "outputs": [
    {
     "data": {
      "text/html": [
       "<div>\n",
       "<style scoped>\n",
       "    .dataframe tbody tr th:only-of-type {\n",
       "        vertical-align: middle;\n",
       "    }\n",
       "\n",
       "    .dataframe tbody tr th {\n",
       "        vertical-align: top;\n",
       "    }\n",
       "\n",
       "    .dataframe thead th {\n",
       "        text-align: right;\n",
       "    }\n",
       "</style>\n",
       "<table border=\"1\" class=\"dataframe\">\n",
       "  <thead>\n",
       "    <tr style=\"text-align: right;\">\n",
       "      <th></th>\n",
       "      <th>Agent Number</th>\n",
       "      <th>Date_of_Appointment</th>\n",
       "      <th>Date_of_Termination</th>\n",
       "      <th>Commission Class</th>\n",
       "      <th>Pay Method</th>\n",
       "      <th>Pay Frequency</th>\n",
       "      <th>Agent Type</th>\n",
       "      <th>Agent Branch Code</th>\n",
       "      <th>Agent Reporting Level</th>\n",
       "      <th>Agent_Date_of_Birth</th>\n",
       "      <th>Agent Gender</th>\n",
       "      <th>Number_of_Policies</th>\n",
       "      <th>Number_of_Claims</th>\n",
       "      <th>Total_Claim_Amount</th>\n",
       "      <th>Total_Payment_Amount</th>\n",
       "      <th>Total_Commission_Amount</th>\n",
       "      <th>Churn</th>\n",
       "    </tr>\n",
       "  </thead>\n",
       "  <tbody>\n",
       "    <tr>\n",
       "      <th>0</th>\n",
       "      <td>50001187</td>\n",
       "      <td>20150526</td>\n",
       "      <td></td>\n",
       "      <td>0003</td>\n",
       "      <td>DC</td>\n",
       "      <td>12</td>\n",
       "      <td>AM</td>\n",
       "      <td>10</td>\n",
       "      <td>1</td>\n",
       "      <td>19910507</td>\n",
       "      <td>M</td>\n",
       "      <td>5</td>\n",
       "      <td>0</td>\n",
       "      <td>0.0</td>\n",
       "      <td>0.0</td>\n",
       "      <td>0.0</td>\n",
       "      <td>0</td>\n",
       "    </tr>\n",
       "    <tr>\n",
       "      <th>1</th>\n",
       "      <td>50002503</td>\n",
       "      <td>20151214</td>\n",
       "      <td></td>\n",
       "      <td>0003</td>\n",
       "      <td>CQ</td>\n",
       "      <td>12</td>\n",
       "      <td>AG</td>\n",
       "      <td>10</td>\n",
       "      <td>1</td>\n",
       "      <td>19830404</td>\n",
       "      <td>M</td>\n",
       "      <td>4</td>\n",
       "      <td>0</td>\n",
       "      <td>0.0</td>\n",
       "      <td>0.0</td>\n",
       "      <td>0.0</td>\n",
       "      <td>0</td>\n",
       "    </tr>\n",
       "    <tr>\n",
       "      <th>2</th>\n",
       "      <td>50004847</td>\n",
       "      <td>20200101</td>\n",
       "      <td></td>\n",
       "      <td>0003</td>\n",
       "      <td>CQ</td>\n",
       "      <td>12</td>\n",
       "      <td>BR</td>\n",
       "      <td>10</td>\n",
       "      <td>1</td>\n",
       "      <td>19800101</td>\n",
       "      <td>M</td>\n",
       "      <td>0</td>\n",
       "      <td>0</td>\n",
       "      <td>0.0</td>\n",
       "      <td>0.0</td>\n",
       "      <td>0.0</td>\n",
       "      <td>0</td>\n",
       "    </tr>\n",
       "    <tr>\n",
       "      <th>3</th>\n",
       "      <td>50040992</td>\n",
       "      <td>20230104</td>\n",
       "      <td></td>\n",
       "      <td>0003</td>\n",
       "      <td>CQ</td>\n",
       "      <td>12</td>\n",
       "      <td>AG</td>\n",
       "      <td>10</td>\n",
       "      <td>1</td>\n",
       "      <td>19750101</td>\n",
       "      <td>M</td>\n",
       "      <td>1</td>\n",
       "      <td>0</td>\n",
       "      <td>0.0</td>\n",
       "      <td>0.0</td>\n",
       "      <td>0.0</td>\n",
       "      <td>0</td>\n",
       "    </tr>\n",
       "    <tr>\n",
       "      <th>4</th>\n",
       "      <td>60001047</td>\n",
       "      <td>20150501</td>\n",
       "      <td></td>\n",
       "      <td>0003</td>\n",
       "      <td>CQ</td>\n",
       "      <td>12</td>\n",
       "      <td>BR</td>\n",
       "      <td>10</td>\n",
       "      <td>1</td>\n",
       "      <td>19850101</td>\n",
       "      <td>M</td>\n",
       "      <td>60</td>\n",
       "      <td>1</td>\n",
       "      <td>50000.0</td>\n",
       "      <td>0.0</td>\n",
       "      <td>0.0</td>\n",
       "      <td>0</td>\n",
       "    </tr>\n",
       "  </tbody>\n",
       "</table>\n",
       "</div>"
      ],
      "text/plain": [
       "  Agent Number  Date_of_Appointment Date_of_Termination Commission Class  \\\n",
       "0     50001187             20150526                                 0003   \n",
       "1     50002503             20151214                                 0003   \n",
       "2     50004847             20200101                                 0003   \n",
       "3     50040992             20230104                                 0003   \n",
       "4     60001047             20150501                                 0003   \n",
       "\n",
       "  Pay Method Pay Frequency Agent Type Agent Branch Code  \\\n",
       "0         DC            12         AM                10   \n",
       "1         CQ            12         AG                10   \n",
       "2         CQ            12         BR                10   \n",
       "3         CQ            12         AG                10   \n",
       "4         CQ            12         BR                10   \n",
       "\n",
       "   Agent Reporting Level Agent_Date_of_Birth Agent Gender  Number_of_Policies  \\\n",
       "0                      1            19910507            M                   5   \n",
       "1                      1            19830404            M                   4   \n",
       "2                      1            19800101            M                   0   \n",
       "3                      1            19750101            M                   1   \n",
       "4                      1            19850101            M                  60   \n",
       "\n",
       "   Number_of_Claims  Total_Claim_Amount  Total_Payment_Amount  \\\n",
       "0                 0                 0.0                   0.0   \n",
       "1                 0                 0.0                   0.0   \n",
       "2                 0                 0.0                   0.0   \n",
       "3                 0                 0.0                   0.0   \n",
       "4                 1             50000.0                   0.0   \n",
       "\n",
       "   Total_Commission_Amount  Churn  \n",
       "0                      0.0      0  \n",
       "1                      0.0      0  \n",
       "2                      0.0      0  \n",
       "3                      0.0      0  \n",
       "4                      0.0      0  "
      ]
     },
     "execution_count": 6,
     "metadata": {},
     "output_type": "execute_result"
    }
   ],
   "source": [
    "# Check data sample\n",
    "df_orig.head()"
   ]
  },
  {
   "cell_type": "markdown",
   "metadata": {},
   "source": [
    "## Data Analysis & Visualization"
   ]
  },
  {
   "cell_type": "code",
   "execution_count": 7,
   "metadata": {},
   "outputs": [
    {
     "data": {
      "text/plain": [
       "(3623, 17)"
      ]
     },
     "execution_count": 7,
     "metadata": {},
     "output_type": "execute_result"
    }
   ],
   "source": [
    "# Check data shape\n",
    "df_orig.shape"
   ]
  },
  {
   "cell_type": "code",
   "execution_count": 8,
   "metadata": {},
   "outputs": [
    {
     "name": "stdout",
     "output_type": "stream",
     "text": [
      "<class 'pandas.core.frame.DataFrame'>\n",
      "RangeIndex: 3623 entries, 0 to 3622\n",
      "Data columns (total 17 columns):\n",
      " #   Column                   Non-Null Count  Dtype  \n",
      "---  ------                   --------------  -----  \n",
      " 0   Agent Number             3623 non-null   object \n",
      " 1   Date_of_Appointment      3623 non-null   int64  \n",
      " 2   Date_of_Termination      3623 non-null   object \n",
      " 3   Commission Class         3623 non-null   object \n",
      " 4   Pay Method               3623 non-null   object \n",
      " 5   Pay Frequency            3623 non-null   object \n",
      " 6   Agent Type               3623 non-null   object \n",
      " 7   Agent Branch Code        3623 non-null   object \n",
      " 8   Agent Reporting Level    3623 non-null   int64  \n",
      " 9   Agent_Date_of_Birth      3623 non-null   object \n",
      " 10  Agent Gender             3623 non-null   object \n",
      " 11  Number_of_Policies       3623 non-null   int64  \n",
      " 12  Number_of_Claims         3623 non-null   int64  \n",
      " 13  Total_Claim_Amount       3623 non-null   float64\n",
      " 14  Total_Payment_Amount     3623 non-null   float64\n",
      " 15  Total_Commission_Amount  3623 non-null   float64\n",
      " 16  Churn                    3623 non-null   int64  \n",
      "dtypes: float64(3), int64(5), object(9)\n",
      "memory usage: 481.3+ KB\n"
     ]
    }
   ],
   "source": [
    "# Check data attributes of the columns\n",
    "df_orig.info()"
   ]
  },
  {
   "cell_type": "code",
   "execution_count": 9,
   "metadata": {},
   "outputs": [
    {
     "data": {
      "text/plain": [
       "0    3611\n",
       "1      12\n",
       "Name: Churn, dtype: int64"
      ]
     },
     "execution_count": 9,
     "metadata": {},
     "output_type": "execute_result"
    }
   ],
   "source": [
    "# View distribution of 'Churn' Instances\n",
    "df_orig['Churn'].value_counts()"
   ]
  },
  {
   "cell_type": "code",
   "execution_count": 10,
   "metadata": {},
   "outputs": [
    {
     "data": {
      "text/plain": [
       "Agent Number               0\n",
       "Date_of_Appointment        0\n",
       "Date_of_Termination        0\n",
       "Commission Class           0\n",
       "Pay Method                 0\n",
       "Pay Frequency              0\n",
       "Agent Type                 0\n",
       "Agent Branch Code          0\n",
       "Agent Reporting Level      0\n",
       "Agent_Date_of_Birth        0\n",
       "Agent Gender               0\n",
       "Number_of_Policies         0\n",
       "Number_of_Claims           0\n",
       "Total_Claim_Amount         0\n",
       "Total_Payment_Amount       0\n",
       "Total_Commission_Amount    0\n",
       "Churn                      0\n",
       "dtype: int64"
      ]
     },
     "execution_count": 10,
     "metadata": {},
     "output_type": "execute_result"
    }
   ],
   "source": [
    "# Check if there are any nulls\n",
    "df_orig.isnull().sum()"
   ]
  },
  {
   "cell_type": "code",
   "execution_count": 11,
   "metadata": {},
   "outputs": [
    {
     "data": {
      "image/png": "[encoded data removed]",
      "text/plain": [
       "<Figure size 432x288 with 1 Axes>"
      ]
     },
     "metadata": {
      "needs_background": "light"
     },
     "output_type": "display_data"
    }
   ],
   "source": [
    "# Plot count values\n",
    "df_orig.Churn.value_counts()\n",
    "sns.countplot(x = 'Churn', data = df_orig, palette = 'hls')\n",
    "plt.show()"
   ]
  },
  {
   "cell_type": "markdown",
   "metadata": {},
   "source": [
    "## Data Treatment"
   ]
  },
  {
   "cell_type": "code",
   "execution_count": 12,
   "metadata": {},
   "outputs": [],
   "source": [
    "# Create a copy of dataframe\n",
    "df_work = df_orig.copy()"
   ]
  },
  {
   "cell_type": "code",
   "execution_count": 13,
   "metadata": {},
   "outputs": [],
   "source": [
    "# Separate features into categorical, numerical and category\n",
    "cat_vars = ['Commission Class','Pay Method','Pay Frequency','Agent Type','Agent Branch Code',\n",
    "            'Agent Reporting Level','Agent Gender']\n",
    "\n",
    "num_vars = ['Number_of_Policies', 'Number_of_Claims', 'Total_Claim_Amount','Total_Payment_Amount','Total_Commission_Amount']\n",
    "\n",
    "date_vars = ['Date_of_Appointment', 'Date_of_Termination', 'Agent_Date_of_Birth' ]"
   ]
  },
  {
   "cell_type": "code",
   "execution_count": 14,
   "metadata": {},
   "outputs": [],
   "source": [
    "# Convert date columns\n",
    "date_vars = ['Date_of_Appointment','Date_of_Termination','Agent_Date_of_Birth' ]\n",
    "for var in date_vars:\n",
    "    df_work[var]=pd.to_datetime(df_work[var].astype(str), format='%Y-%m-%d')"
   ]
  },
  {
   "cell_type": "code",
   "execution_count": 15,
   "metadata": {},
   "outputs": [],
   "source": [
    "# Convert to 'category' object type\n",
    "for var in cat_vars:\n",
    "    df_work[var] = df_work[var].astype('category')"
   ]
  },
  {
   "cell_type": "code",
   "execution_count": 16,
   "metadata": {},
   "outputs": [],
   "source": [
    "# Create Dummy Variables for categorical variables\n",
    "for var in cat_vars:\n",
    "    cat_list = 'var'+'_'+var\n",
    "    cat_list = pd.get_dummies(df_work[var], prefix=var)\n",
    "    dummy_data = df_work.join(cat_list)\n",
    "    df_work = dummy_data"
   ]
  },
  {
   "cell_type": "code",
   "execution_count": 17,
   "metadata": {},
   "outputs": [
    {
     "data": {
      "text/plain": [
       "(3623, 41)"
      ]
     },
     "execution_count": 17,
     "metadata": {},
     "output_type": "execute_result"
    }
   ],
   "source": [
    "# Check data shape after dummy encoding\n",
    "df_work.shape"
   ]
  },
  {
   "cell_type": "code",
   "execution_count": 18,
   "metadata": {},
   "outputs": [],
   "source": [
    "# Remove original columns for which dummy variables have been created\n",
    "vars_remove = ['Commission Class','Pay Method','Pay Frequency','Agent Type','Agent Branch Code',\n",
    "            'Agent Reporting Level','Agent Gender']\n",
    "\n",
    "for var in vars_remove:\n",
    "    df_work=df_work.drop(var, axis=1)"
   ]
  },
  {
   "cell_type": "code",
   "execution_count": 19,
   "metadata": {},
   "outputs": [],
   "source": [
    "# Normalize numerical columns\n",
    "scaler = MinMaxScaler()\n",
    "df_work['Number_of_Policies'] = scaler.fit_transform(df_work['Number_of_Policies'].values.reshape(-1,1))\n",
    "df_work['Number_of_Claims'] = scaler.fit_transform(df_work['Number_of_Claims'].values.reshape(-1,1))\n",
    "df_work['Total_Claim_Amount'] = scaler.fit_transform(df_work['Total_Claim_Amount'].values.reshape(-1,1))\n",
    "df_work['Total_Payment_Amount'] = scaler.fit_transform(df_work['Total_Payment_Amount'].values.reshape(-1,1))\n",
    "df_work['Total_Commission_Amount'] = scaler.fit_transform(df_work['Total_Commission_Amount'].values.reshape(-1,1))"
   ]
  },
  {
   "cell_type": "markdown",
   "metadata": {},
   "source": [
    "### Feature Engineering"
   ]
  },
  {
   "cell_type": "code",
   "execution_count": 20,
   "metadata": {},
   "outputs": [],
   "source": [
    "# Get current date\n",
    "current_time = datetime.datetime.now() "
   ]
  },
  {
   "cell_type": "code",
   "execution_count": 21,
   "metadata": {},
   "outputs": [],
   "source": [
    "# Create a new column 'Age' on the basis of date of birth of agent\n",
    "df_work['age'] = current_time - df_work['Agent_Date_of_Birth']"
   ]
  },
  {
   "cell_type": "code",
   "execution_count": 22,
   "metadata": {},
   "outputs": [],
   "source": [
    "# Create a new column named 'service period' on the basis of difference between Agent Date of Registration and Termination.\n",
    "# In case date of Termination is null we will replace it with current date and compute\n",
    "\n",
    "service_period=[]\n",
    "\n",
    "for Date_of_Termination,Date_of_Appointment in zip(df_work.iloc[:,2], df_work.iloc[:,1]):\n",
    "    if Date_of_Termination is pd.NaT:\n",
    "        service_period.append(abs(current_time-Date_of_Appointment))\n",
    "    else:\n",
    "        service_period.append(abs(Date_of_Termination-Date_of_Appointment))\n"
   ]
  },
  {
   "cell_type": "code",
   "execution_count": 23,
   "metadata": {},
   "outputs": [],
   "source": [
    "# Append the new column to dataframe\n",
    "df_work['Service_Period']=service_period\n",
    "\n",
    "# Remove the orginal columns\n",
    "df_work=df_work.drop('Date_of_Appointment', axis=1)\n",
    "df_work=df_work.drop('Date_of_Termination', axis=1)\n",
    "df_work=df_work.drop('Agent_Date_of_Birth', axis=1)\n",
    "\n",
    "# Remove Agent Number since it is not critical for prediction\n",
    "df_work=df_work.drop('Agent Number', axis=1)"
   ]
  },
  {
   "cell_type": "code",
   "execution_count": 24,
   "metadata": {
    "scrolled": true
   },
   "outputs": [
    {
     "data": {
      "text/html": [
       "<div>\n",
       "<style scoped>\n",
       "    .dataframe tbody tr th:only-of-type {\n",
       "        vertical-align: middle;\n",
       "    }\n",
       "\n",
       "    .dataframe tbody tr th {\n",
       "        vertical-align: top;\n",
       "    }\n",
       "\n",
       "    .dataframe thead th {\n",
       "        text-align: right;\n",
       "    }\n",
       "</style>\n",
       "<table border=\"1\" class=\"dataframe\">\n",
       "  <thead>\n",
       "    <tr style=\"text-align: right;\">\n",
       "      <th></th>\n",
       "      <th>Number_of_Policies</th>\n",
       "      <th>Number_of_Claims</th>\n",
       "      <th>Total_Claim_Amount</th>\n",
       "      <th>Total_Payment_Amount</th>\n",
       "      <th>Total_Commission_Amount</th>\n",
       "      <th>Churn</th>\n",
       "      <th>Commission Class_0001</th>\n",
       "      <th>Commission Class_0002</th>\n",
       "      <th>Commission Class_0003</th>\n",
       "      <th>Pay Method_CQ</th>\n",
       "      <th>Pay Method_DC</th>\n",
       "      <th>Pay Frequency_12</th>\n",
       "      <th>Agent Type_00</th>\n",
       "      <th>Agent Type_AG</th>\n",
       "      <th>Agent Type_AM</th>\n",
       "      <th>Agent Type_AR</th>\n",
       "      <th>Agent Type_BA</th>\n",
       "      <th>Agent Type_BM</th>\n",
       "      <th>Agent Type_BR</th>\n",
       "      <th>Agent Type_CR</th>\n",
       "      <th>Agent Type_DM</th>\n",
       "      <th>Agent Type_GM</th>\n",
       "      <th>Agent Type_SM</th>\n",
       "      <th>Agent Type_UM</th>\n",
       "      <th>Agent Branch Code_10</th>\n",
       "      <th>Agent Reporting Level_1</th>\n",
       "      <th>Agent Reporting Level_2</th>\n",
       "      <th>Agent Gender_</th>\n",
       "      <th>Agent Gender_F</th>\n",
       "      <th>Agent Gender_M</th>\n",
       "      <th>age</th>\n",
       "      <th>Service_Period</th>\n",
       "    </tr>\n",
       "  </thead>\n",
       "  <tbody>\n",
       "    <tr>\n",
       "      <th>0</th>\n",
       "      <td>0.004476</td>\n",
       "      <td>0.000000</td>\n",
       "      <td>0.000000e+00</td>\n",
       "      <td>0.0</td>\n",
       "      <td>0.0</td>\n",
       "      <td>0</td>\n",
       "      <td>0</td>\n",
       "      <td>0</td>\n",
       "      <td>1</td>\n",
       "      <td>0</td>\n",
       "      <td>1</td>\n",
       "      <td>1</td>\n",
       "      <td>0</td>\n",
       "      <td>0</td>\n",
       "      <td>1</td>\n",
       "      <td>0</td>\n",
       "      <td>0</td>\n",
       "      <td>0</td>\n",
       "      <td>0</td>\n",
       "      <td>0</td>\n",
       "      <td>0</td>\n",
       "      <td>0</td>\n",
       "      <td>0</td>\n",
       "      <td>0</td>\n",
       "      <td>1</td>\n",
       "      <td>1</td>\n",
       "      <td>0</td>\n",
       "      <td>0</td>\n",
       "      <td>0</td>\n",
       "      <td>1</td>\n",
       "      <td>10585 days 15:27:42.625366</td>\n",
       "      <td>1800 days 15:27:42.625366</td>\n",
       "    </tr>\n",
       "    <tr>\n",
       "      <th>1</th>\n",
       "      <td>0.003581</td>\n",
       "      <td>0.000000</td>\n",
       "      <td>0.000000e+00</td>\n",
       "      <td>0.0</td>\n",
       "      <td>0.0</td>\n",
       "      <td>0</td>\n",
       "      <td>0</td>\n",
       "      <td>0</td>\n",
       "      <td>1</td>\n",
       "      <td>1</td>\n",
       "      <td>0</td>\n",
       "      <td>1</td>\n",
       "      <td>0</td>\n",
       "      <td>1</td>\n",
       "      <td>0</td>\n",
       "      <td>0</td>\n",
       "      <td>0</td>\n",
       "      <td>0</td>\n",
       "      <td>0</td>\n",
       "      <td>0</td>\n",
       "      <td>0</td>\n",
       "      <td>0</td>\n",
       "      <td>0</td>\n",
       "      <td>0</td>\n",
       "      <td>1</td>\n",
       "      <td>1</td>\n",
       "      <td>0</td>\n",
       "      <td>0</td>\n",
       "      <td>0</td>\n",
       "      <td>1</td>\n",
       "      <td>13540 days 15:27:42.625366</td>\n",
       "      <td>1598 days 15:27:42.625366</td>\n",
       "    </tr>\n",
       "    <tr>\n",
       "      <th>2</th>\n",
       "      <td>0.000000</td>\n",
       "      <td>0.000000</td>\n",
       "      <td>0.000000e+00</td>\n",
       "      <td>0.0</td>\n",
       "      <td>0.0</td>\n",
       "      <td>0</td>\n",
       "      <td>0</td>\n",
       "      <td>0</td>\n",
       "      <td>1</td>\n",
       "      <td>1</td>\n",
       "      <td>0</td>\n",
       "      <td>1</td>\n",
       "      <td>0</td>\n",
       "      <td>0</td>\n",
       "      <td>0</td>\n",
       "      <td>0</td>\n",
       "      <td>0</td>\n",
       "      <td>0</td>\n",
       "      <td>1</td>\n",
       "      <td>0</td>\n",
       "      <td>0</td>\n",
       "      <td>0</td>\n",
       "      <td>0</td>\n",
       "      <td>0</td>\n",
       "      <td>1</td>\n",
       "      <td>1</td>\n",
       "      <td>0</td>\n",
       "      <td>0</td>\n",
       "      <td>0</td>\n",
       "      <td>1</td>\n",
       "      <td>14729 days 15:27:42.625366</td>\n",
       "      <td>119 days 15:27:42.625366</td>\n",
       "    </tr>\n",
       "    <tr>\n",
       "      <th>3</th>\n",
       "      <td>0.000895</td>\n",
       "      <td>0.000000</td>\n",
       "      <td>0.000000e+00</td>\n",
       "      <td>0.0</td>\n",
       "      <td>0.0</td>\n",
       "      <td>0</td>\n",
       "      <td>0</td>\n",
       "      <td>0</td>\n",
       "      <td>1</td>\n",
       "      <td>1</td>\n",
       "      <td>0</td>\n",
       "      <td>1</td>\n",
       "      <td>0</td>\n",
       "      <td>1</td>\n",
       "      <td>0</td>\n",
       "      <td>0</td>\n",
       "      <td>0</td>\n",
       "      <td>0</td>\n",
       "      <td>0</td>\n",
       "      <td>0</td>\n",
       "      <td>0</td>\n",
       "      <td>0</td>\n",
       "      <td>0</td>\n",
       "      <td>0</td>\n",
       "      <td>1</td>\n",
       "      <td>1</td>\n",
       "      <td>0</td>\n",
       "      <td>0</td>\n",
       "      <td>0</td>\n",
       "      <td>1</td>\n",
       "      <td>16555 days 15:27:42.625366</td>\n",
       "      <td>979 days 08:32:17.374634</td>\n",
       "    </tr>\n",
       "    <tr>\n",
       "      <th>4</th>\n",
       "      <td>0.053715</td>\n",
       "      <td>0.015873</td>\n",
       "      <td>4.000064e-11</td>\n",
       "      <td>0.0</td>\n",
       "      <td>0.0</td>\n",
       "      <td>0</td>\n",
       "      <td>0</td>\n",
       "      <td>0</td>\n",
       "      <td>1</td>\n",
       "      <td>1</td>\n",
       "      <td>0</td>\n",
       "      <td>1</td>\n",
       "      <td>0</td>\n",
       "      <td>0</td>\n",
       "      <td>0</td>\n",
       "      <td>0</td>\n",
       "      <td>0</td>\n",
       "      <td>0</td>\n",
       "      <td>1</td>\n",
       "      <td>0</td>\n",
       "      <td>0</td>\n",
       "      <td>0</td>\n",
       "      <td>0</td>\n",
       "      <td>0</td>\n",
       "      <td>1</td>\n",
       "      <td>1</td>\n",
       "      <td>0</td>\n",
       "      <td>0</td>\n",
       "      <td>0</td>\n",
       "      <td>1</td>\n",
       "      <td>12902 days 15:27:42.625366</td>\n",
       "      <td>1825 days 15:27:42.625366</td>\n",
       "    </tr>\n",
       "  </tbody>\n",
       "</table>\n",
       "</div>"
      ],
      "text/plain": [
       "   Number_of_Policies  Number_of_Claims  Total_Claim_Amount  \\\n",
       "0            0.004476          0.000000        0.000000e+00   \n",
       "1            0.003581          0.000000        0.000000e+00   \n",
       "2            0.000000          0.000000        0.000000e+00   \n",
       "3            0.000895          0.000000        0.000000e+00   \n",
       "4            0.053715          0.015873        4.000064e-11   \n",
       "\n",
       "   Total_Payment_Amount  Total_Commission_Amount  Churn  \\\n",
       "0                   0.0                      0.0      0   \n",
       "1                   0.0                      0.0      0   \n",
       "2                   0.0                      0.0      0   \n",
       "3                   0.0                      0.0      0   \n",
       "4                   0.0                      0.0      0   \n",
       "\n",
       "   Commission Class_0001  Commission Class_0002  Commission Class_0003  \\\n",
       "0                      0                      0                      1   \n",
       "1                      0                      0                      1   \n",
       "2                      0                      0                      1   \n",
       "3                      0                      0                      1   \n",
       "4                      0                      0                      1   \n",
       "\n",
       "   Pay Method_CQ  Pay Method_DC  Pay Frequency_12  Agent Type_00  \\\n",
       "0              0              1                 1              0   \n",
       "1              1              0                 1              0   \n",
       "2              1              0                 1              0   \n",
       "3              1              0                 1              0   \n",
       "4              1              0                 1              0   \n",
       "\n",
       "   Agent Type_AG  Agent Type_AM  Agent Type_AR  Agent Type_BA  Agent Type_BM  \\\n",
       "0              0              1              0              0              0   \n",
       "1              1              0              0              0              0   \n",
       "2              0              0              0              0              0   \n",
       "3              1              0              0              0              0   \n",
       "4              0              0              0              0              0   \n",
       "\n",
       "   Agent Type_BR  Agent Type_CR  Agent Type_DM  Agent Type_GM  Agent Type_SM  \\\n",
       "0              0              0              0              0              0   \n",
       "1              0              0              0              0              0   \n",
       "2              1              0              0              0              0   \n",
       "3              0              0              0              0              0   \n",
       "4              1              0              0              0              0   \n",
       "\n",
       "   Agent Type_UM  Agent Branch Code_10  Agent Reporting Level_1  \\\n",
       "0              0                     1                        1   \n",
       "1              0                     1                        1   \n",
       "2              0                     1                        1   \n",
       "3              0                     1                        1   \n",
       "4              0                     1                        1   \n",
       "\n",
       "   Agent Reporting Level_2  Agent Gender_   Agent Gender_F  Agent Gender_M  \\\n",
       "0                        0               0               0               1   \n",
       "1                        0               0               0               1   \n",
       "2                        0               0               0               1   \n",
       "3                        0               0               0               1   \n",
       "4                        0               0               0               1   \n",
       "\n",
       "                         age            Service_Period  \n",
       "0 10585 days 15:27:42.625366 1800 days 15:27:42.625366  \n",
       "1 13540 days 15:27:42.625366 1598 days 15:27:42.625366  \n",
       "2 14729 days 15:27:42.625366  119 days 15:27:42.625366  \n",
       "3 16555 days 15:27:42.625366  979 days 08:32:17.374634  \n",
       "4 12902 days 15:27:42.625366 1825 days 15:27:42.625366  "
      ]
     },
     "execution_count": 24,
     "metadata": {},
     "output_type": "execute_result"
    }
   ],
   "source": [
    "# Check contents once\n",
    "df_work.head()"
   ]
  },
  {
   "cell_type": "code",
   "execution_count": 25,
   "metadata": {},
   "outputs": [],
   "source": [
    "# Normalize the new columns \n",
    "scaler = MinMaxScaler()\n",
    "df_work['age'] = scaler.fit_transform(df_work['age'].values.reshape(-1,1))\n",
    "df_work['Service_Period'] = scaler.fit_transform(df_work['Service_Period'].values.reshape(-1,1))"
   ]
  },
  {
   "cell_type": "code",
   "execution_count": 26,
   "metadata": {},
   "outputs": [],
   "source": [
    "# Create separate dataset for feature and target columns\n",
    "X = df_work.drop('Churn', axis=1)\n",
    "y = df_work['Churn']"
   ]
  },
  {
   "cell_type": "markdown",
   "metadata": {},
   "source": [
    "### Performing SMOTE operation to handle class imbalance"
   ]
  },
  {
   "cell_type": "code",
   "execution_count": 27,
   "metadata": {},
   "outputs": [
    {
     "data": {
      "text/plain": [
       "((2536, 31), (1087, 31), (2536,), (1087,))"
      ]
     },
     "execution_count": 27,
     "metadata": {},
     "output_type": "execute_result"
    }
   ],
   "source": [
    "# Perform Test/Train Split\n",
    "X_train, X_test, y_train, y_test=train_test_split(X, y, test_size=0.3,random_state=11)\n",
    "X_train.shape, X_test.shape, y_train.shape, y_test.shape"
   ]
  },
  {
   "cell_type": "code",
   "execution_count": 28,
   "metadata": {},
   "outputs": [
    {
     "name": "stdout",
     "output_type": "stream",
     "text": [
      "length of oversampled data is  5054\n",
      "Number of Non Churned agents in oversampled data 2527\n",
      "Number of Churned agents in oversampled data 2527\n",
      "Proportion of Non Churned agents in oversampled data is  0.5\n",
      "Proportion of Churned Agents in oversampled data is  0.5\n"
     ]
    }
   ],
   "source": [
    "# To handle class imbalance performing SMOTE\n",
    "\n",
    "from imblearn.over_sampling import SMOTE\n",
    "SMO = SMOTE(random_state=11)\n",
    "\n",
    "X_train_smo, y_train_smo = SMO.fit_sample(X_train, y_train)\n",
    "columns = X_train.columns\n",
    "\n",
    "X_train_smo = pd.DataFrame(data = X_train_smo, columns = columns )\n",
    "y_train_smo = pd.DataFrame(data = y_train_smo, columns = ['Churn'])\n",
    "\n",
    "# we can Check the numbers of our data\n",
    "print(\"length of oversampled data is \",len(X_train_smo))\n",
    "print(\"Number of Non Churned agents in oversampled data\",len(y_train_smo[y_train_smo['Churn']== 0 ]))\n",
    "print(\"Number of Churned agents in oversampled data\",len(y_train_smo[y_train_smo['Churn']== 1 ]))\n",
    "print(\"Proportion of Non Churned agents in oversampled data is \",len(y_train_smo[y_train_smo['Churn']== 0])/len(X_train_smo))\n",
    "print(\"Proportion of Churned Agents in oversampled data is \",len(y_train_smo[y_train_smo['Churn']== 1 ])/len(X_train_smo))"
   ]
  },
  {
   "cell_type": "markdown",
   "metadata": {},
   "source": [
    "# Model Application"
   ]
  },
  {
   "cell_type": "markdown",
   "metadata": {},
   "source": [
    "### TPOT Model"
   ]
  },
  {
   "cell_type": "code",
   "execution_count": 29,
   "metadata": {
    "scrolled": true
   },
   "outputs": [
    {
     "name": "stderr",
     "output_type": "stream",
     "text": [
      "C:\\Users\\sisense_admin\\.conda\\envs\\life_agent_churn\\lib\\site-packages\\sklearn\\utils\\validation.py:760: DataConversionWarning: A column-vector y was passed when a 1d array was expected. Please change the shape of y to (n_samples, ), for example using ravel().\n",
      "  y = column_or_1d(y, warn=True)\n"
     ]
    },
    {
     "data": {
      "application/vnd.jupyter.widget-view+json": {
       "model_id": "a1d47c6a69f64785b6e830a064c3452b",
       "version_major": 2,
       "version_minor": 0
      },
      "text/plain": [
       "HBox(children=(FloatProgress(value=0.0, description='Optimization Progress', style=ProgressStyle(description_w…"
      ]
     },
     "metadata": {},
     "output_type": "display_data"
    },
    {
     "name": "stdout",
     "output_type": "stream",
     "text": [
      "Generation 1 - Current best internal CV score: 0.9992085083879306\n",
      "Generation 2 - Current best internal CV score: 0.9992085083879308\n",
      "Generation 3 - Current best internal CV score: 0.9992085083879308\n",
      "Generation 4 - Current best internal CV score: 0.9992085083879308\n",
      "Generation 5 - Current best internal CV score: 0.9994063323246272\n",
      "\n",
      "Best pipeline: RandomForestClassifier(GradientBoostingClassifier(CombineDFs(input_matrix, input_matrix), learning_rate=0.5, max_depth=6, max_features=0.15000000000000002, min_samples_leaf=1, min_samples_split=19, n_estimators=100, subsample=0.8), bootstrap=True, criterion=gini, max_features=0.6000000000000001, min_samples_leaf=6, min_samples_split=11, n_estimators=100)\n"
     ]
    },
    {
     "data": {
      "text/plain": [
       "TPOTClassifier(config_dict=None, crossover_rate=0.1, cv=5,\n",
       "               disable_update_check=False, early_stop=None, generations=5,\n",
       "               max_eval_time_mins=5, max_time_mins=60, memory=None,\n",
       "               mutation_rate=0.9, n_jobs=-1, offspring_size=None,\n",
       "               periodic_checkpoint_folder=None, population_size=100,\n",
       "               random_state=None, scoring=None, subsample=1.0, template=None,\n",
       "               use_dask=False, verbosity=2, warm_start=False)"
      ]
     },
     "execution_count": 29,
     "metadata": {},
     "output_type": "execute_result"
    }
   ],
   "source": [
    "#Import tpot classifier from tpot and initialize it to run for max generation = 5 OR max time = 60 mins\n",
    "from tpot import TPOTClassifier\n",
    "tpot = TPOTClassifier(generations=5, verbosity=2, max_time_mins=60, n_jobs = -1)\n",
    "tpot.fit(X_train_smo, y_train_smo)"
   ]
  },
  {
   "cell_type": "code",
   "execution_count": 30,
   "metadata": {},
   "outputs": [
    {
     "data": {
      "text/plain": [
       "Pipeline(memory=None,\n",
       "         steps=[('featureunion',\n",
       "                 FeatureUnion(n_jobs=None,\n",
       "                              transformer_list=[('functiontransformer-1',\n",
       "                                                 FunctionTransformer(accept_sparse=False,\n",
       "                                                                     check_inverse=True,\n",
       "                                                                     func=<function copy at 0x0000011A08CA9F78>,\n",
       "                                                                     inv_kw_args=None,\n",
       "                                                                     inverse_func=None,\n",
       "                                                                     kw_args=None,\n",
       "                                                                     validate=False)),\n",
       "                                                ('functiontransformer-2',\n",
       "                                                 FunctionTransformer(accept_sparse=False,\n",
       "                                                                     check_inv...\n",
       "                 RandomForestClassifier(bootstrap=True, ccp_alpha=0.0,\n",
       "                                        class_weight=None, criterion='gini',\n",
       "                                        max_depth=None,\n",
       "                                        max_features=0.6000000000000001,\n",
       "                                        max_leaf_nodes=None, max_samples=None,\n",
       "                                        min_impurity_decrease=0.0,\n",
       "                                        min_impurity_split=None,\n",
       "                                        min_samples_leaf=6,\n",
       "                                        min_samples_split=11,\n",
       "                                        min_weight_fraction_leaf=0.0,\n",
       "                                        n_estimators=100, n_jobs=None,\n",
       "                                        oob_score=False, random_state=None,\n",
       "                                        verbose=0, warm_start=False))],\n",
       "         verbose=False)"
      ]
     },
     "execution_count": 30,
     "metadata": {},
     "output_type": "execute_result"
    }
   ],
   "source": [
    "# Fit the pipeline\n",
    "TPOT_Fit_pipeline=tpot.fitted_pipeline_\n",
    "TPOT_Fit_pipeline"
   ]
  },
  {
   "cell_type": "code",
   "execution_count": 31,
   "metadata": {},
   "outputs": [
    {
     "name": "stdout",
     "output_type": "stream",
     "text": [
      "0.9972401103955841\n"
     ]
    }
   ],
   "source": [
    "# Print score\n",
    "print(tpot.score(X_test, y_test))"
   ]
  },
  {
   "cell_type": "code",
   "execution_count": 32,
   "metadata": {},
   "outputs": [],
   "source": [
    "# Make Predictions\n",
    "y_pred=TPOT_Fit_pipeline.predict(X_test)"
   ]
  },
  {
   "cell_type": "code",
   "execution_count": 33,
   "metadata": {},
   "outputs": [
    {
     "data": {
      "text/plain": [
       "array([[1082,    2],\n",
       "       [   1,    2]], dtype=int64)"
      ]
     },
     "execution_count": 33,
     "metadata": {},
     "output_type": "execute_result"
    }
   ],
   "source": [
    "# Make Confusion Matrix to compare results against actuals\n",
    "cnf_matrix = metrics.confusion_matrix(y_test, y_pred)\n",
    "cnf_matrix  "
   ]
  },
  {
   "cell_type": "code",
   "execution_count": 34,
   "metadata": {},
   "outputs": [
    {
     "name": "stdout",
     "output_type": "stream",
     "text": [
      "Accuracy: 0.9972401103955841\n",
      "Precision: 0.5\n",
      "Recall: 0.6666666666666666\n"
     ]
    }
   ],
   "source": [
    "# Get Accuracy Scores\n",
    "print(\"Accuracy:\",metrics.accuracy_score(y_test, y_pred))\n",
    "print(\"Precision:\",metrics.precision_score(y_test, y_pred))\n",
    "print(\"Recall:\",metrics.recall_score(y_test, y_pred))"
   ]
  },
  {
   "cell_type": "code",
   "execution_count": 35,
   "metadata": {},
   "outputs": [
    {
     "data": {
      "image/png": "[encoded data removed]",
      "text/plain": [
       "<Figure size 432x288 with 1 Axes>"
      ]
     },
     "metadata": {
      "needs_background": "light"
     },
     "output_type": "display_data"
    }
   ],
   "source": [
    "# Print ROC AUC Curve\n",
    "\n",
    "logit_roc_auc = roc_auc_score(y_test, TPOT_Fit_pipeline.predict(X_test))\n",
    "fpr, tpr, thresholds = roc_curve(y_test, TPOT_Fit_pipeline.predict_proba(X_test)[:,1])\n",
    "plt.figure()\n",
    "plt.plot(fpr, tpr, label='TPOT Classifier (area = %0.2f)' % logit_roc_auc)\n",
    "plt.plot([0, 1], [0, 1],'r--')\n",
    "plt.xlim([0.0, 1.0])\n",
    "plt.ylim([0.0, 1.05])\n",
    "plt.xlabel('False Positive Rate')\n",
    "plt.ylabel('True Positive Rate')\n",
    "plt.title('Receiver operating characteristic')\n",
    "plt.legend(loc=\"lower right\")\n",
    "plt.savefig('Log_ROC')\n",
    "plt.show()"
   ]
  },
  {
   "cell_type": "markdown",
   "metadata": {},
   "source": [
    "### Run the model on entire dataset and save the output in a csv file"
   ]
  },
  {
   "cell_type": "code",
   "execution_count": 36,
   "metadata": {},
   "outputs": [],
   "source": [
    "# Copy the original data set\n",
    "df_test = df_orig.copy()"
   ]
  },
  {
   "cell_type": "code",
   "execution_count": 37,
   "metadata": {},
   "outputs": [],
   "source": [
    "# Separate features into categorical, numerical and category\n",
    "cat_vars = ['Commission Class','Pay Method','Pay Frequency','Agent Type','Agent Branch Code',\n",
    "            'Agent Reporting Level','Agent Gender']\n",
    "\n",
    "num_vars = ['Number_of_Policies', 'Number_of_Claims', 'Total_Claim_Amount','Total_Payment_Amount','Total_Commission_Amount']\n",
    "\n",
    "date_vars = ['Date_of_Appointment', 'Date_of_Termination', 'Agent_Date_of_Birth' ]"
   ]
  },
  {
   "cell_type": "code",
   "execution_count": 38,
   "metadata": {},
   "outputs": [],
   "source": [
    "# Convert date columns\n",
    "date_vars = ['Date_of_Appointment','Date_of_Termination','Agent_Date_of_Birth' ]\n",
    "for var in date_vars:\n",
    "    df_test[var]=pd.to_datetime(df_test[var].astype(str), format='%Y-%m-%d')"
   ]
  },
  {
   "cell_type": "code",
   "execution_count": 39,
   "metadata": {},
   "outputs": [],
   "source": [
    "# Convert to 'category' object type\n",
    "for var in cat_vars:\n",
    "    df_test[var] = df_test[var].astype('category')"
   ]
  },
  {
   "cell_type": "code",
   "execution_count": 40,
   "metadata": {},
   "outputs": [],
   "source": [
    "# Create Dummy Variables for categorical variables\n",
    "for var in cat_vars:\n",
    "    cat_list = 'var'+'_'+var\n",
    "    cat_list = pd.get_dummies(df_test[var], prefix=var)\n",
    "    dummy_data = df_test.join(cat_list)\n",
    "    df_test = dummy_data"
   ]
  },
  {
   "cell_type": "code",
   "execution_count": 41,
   "metadata": {},
   "outputs": [
    {
     "data": {
      "text/plain": [
       "(3623, 41)"
      ]
     },
     "execution_count": 41,
     "metadata": {},
     "output_type": "execute_result"
    }
   ],
   "source": [
    "# Check data shape after dummy encoding\n",
    "df_test.shape"
   ]
  },
  {
   "cell_type": "code",
   "execution_count": 42,
   "metadata": {},
   "outputs": [],
   "source": [
    "# Remove original columns for which dummy variables have been created and also the taget value 'Churn'\n",
    "vars_remove = ['Commission Class','Pay Method','Pay Frequency','Agent Type','Agent Branch Code',\n",
    "            'Agent Reporting Level','Agent Gender', 'Churn']\n",
    "\n",
    "for var in vars_remove:\n",
    "    df_test=df_test.drop(var, axis=1)"
   ]
  },
  {
   "cell_type": "markdown",
   "metadata": {},
   "source": [
    "### Feature Engineering"
   ]
  },
  {
   "cell_type": "code",
   "execution_count": 43,
   "metadata": {},
   "outputs": [],
   "source": [
    "# Get current date\n",
    "current_time = datetime.datetime.now() "
   ]
  },
  {
   "cell_type": "code",
   "execution_count": 44,
   "metadata": {},
   "outputs": [],
   "source": [
    "# Create a new column 'Age' on the basis of date of birth of agent\n",
    "df_test['age'] = current_time - df_test['Agent_Date_of_Birth']"
   ]
  },
  {
   "cell_type": "code",
   "execution_count": 45,
   "metadata": {},
   "outputs": [],
   "source": [
    "# Create a new column named 'service period' on the basis of difference between Agent Date of Registration and Termination.\n",
    "# In case date of Termination is null we will replace it with current date and compute\n",
    "\n",
    "service_period=[]\n",
    "\n",
    "for Date_of_Termination,Date_of_Appointment in zip(df_test.iloc[:,2], df_test.iloc[:,1]):\n",
    "    if Date_of_Termination is pd.NaT:\n",
    "        service_period.append(abs(current_time-Date_of_Appointment))\n",
    "    else:\n",
    "        service_period.append(abs(Date_of_Termination-Date_of_Appointment))\n"
   ]
  },
  {
   "cell_type": "code",
   "execution_count": 46,
   "metadata": {},
   "outputs": [],
   "source": [
    "# Append the new column to dataframe\n",
    "df_test['Service_Period']=service_period\n",
    "\n",
    "# Remove the orginal columns\n",
    "df_test=df_test.drop('Date_of_Appointment', axis=1)\n",
    "df_test=df_test.drop('Date_of_Termination', axis=1)\n",
    "df_test=df_test.drop('Agent_Date_of_Birth', axis=1)\n",
    "\n",
    "# Remove Agent Number since it is not critical for prediction\n",
    "df_test=df_test.drop('Agent Number', axis=1)"
   ]
  },
  {
   "cell_type": "code",
   "execution_count": 47,
   "metadata": {},
   "outputs": [],
   "source": [
    "# Normalize the new columns \n",
    "scaler = MinMaxScaler()\n",
    "df_test['age'] = scaler.fit_transform(df_test['age'].values.reshape(-1,1))\n",
    "df_test['Service_Period'] = scaler.fit_transform(df_test['Service_Period'].values.reshape(-1,1))"
   ]
  },
  {
   "cell_type": "code",
   "execution_count": 48,
   "metadata": {},
   "outputs": [],
   "source": [
    "# Make predictions\n",
    "prediction_class = TPOT_Fit_pipeline.predict(df_test)\n",
    "prediction_prob = TPOT_Fit_pipeline.predict_proba(df_test)\n",
    "\n",
    "# Get Individual Probabilities\n",
    "not_churn, churn = (prediction_prob).T"
   ]
  },
  {
   "cell_type": "code",
   "execution_count": 49,
   "metadata": {},
   "outputs": [],
   "source": [
    "# Save original dataframe in a separate dataframe\n",
    "df_results = df_orig.copy()"
   ]
  },
  {
   "cell_type": "code",
   "execution_count": 50,
   "metadata": {},
   "outputs": [],
   "source": [
    "# Remove target column\n",
    "df_results=df_results.drop('Churn',axis=1)"
   ]
  },
  {
   "cell_type": "code",
   "execution_count": 51,
   "metadata": {},
   "outputs": [],
   "source": [
    "# Replace target column with predicted value of '0' or '1' along with respective probablities\n",
    "df_results['notchurn'] = not_churn\n",
    "df_results['churn'] = churn\n",
    "df_results['churn_prediction_class'] = prediction_class"
   ]
  },
  {
   "cell_type": "markdown",
   "metadata": {},
   "source": [
    "### Though care has been taken in testing the query output, still double check for duplicate rows for an agent in the csv file"
   ]
  },
  {
   "cell_type": "code",
   "execution_count": 52,
   "metadata": {},
   "outputs": [],
   "source": [
    "df_results.to_csv('EX_SOURCE_AGENT_CHURN_LIFE.csv', index = None, header=True) "
   ]
  },
  {
   "cell_type": "markdown",
   "metadata": {},
   "source": [
    "### Save Model as PMML file"
   ]
  },
  {
   "cell_type": "code",
   "execution_count": 53,
   "metadata": {},
   "outputs": [
    {
     "data": {
      "text/plain": [
       "['life_agent_churn.pmml']"
      ]
     },
     "execution_count": 53,
     "metadata": {},
     "output_type": "execute_result"
    }
   ],
   "source": [
    "joblib.dump(TPOT_Fit_pipeline, 'life_agent_churn.pmml') "
   ]
  },
  {
   "cell_type": "code",
   "execution_count": null,
   "metadata": {},
   "outputs": [],
   "source": []
  }
 ],
 "metadata": {
  "kernelspec": {
   "display_name": "Python 3",
   "language": "python",
   "name": "python3"
  },
  "language_info": {
   "codemirror_mode": {
    "name": "ipython",
    "version": 3
   },
   "file_extension": ".py",
   "mimetype": "text/x-python",
   "name": "python",
   "nbconvert_exporter": "python",
   "pygments_lexer": "ipython3",
   "version": "3.7.7"
  }
 },
 "nbformat": 4,
 "nbformat_minor": 4
}
