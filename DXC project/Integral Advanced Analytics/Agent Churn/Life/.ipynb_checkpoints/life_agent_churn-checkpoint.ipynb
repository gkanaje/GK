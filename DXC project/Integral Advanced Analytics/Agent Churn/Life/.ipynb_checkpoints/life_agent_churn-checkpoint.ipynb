{
 "cells": [
  {
   "cell_type": "code",
   "execution_count": 1,
   "metadata": {},
   "outputs": [
    {
     "name": "stderr",
     "output_type": "stream",
     "text": [
      "C:\\Users\\tbhardwaj2\\AppData\\Roaming\\Python\\Python36\\site-packages\\sklearn\\externals\\joblib\\__init__.py:15: FutureWarning: sklearn.externals.joblib is deprecated in 0.21 and will be removed in 0.23. Please import this functionality directly from joblib, which can be installed with: pip install joblib. If this warning is raised when loading pickled models, you may need to re-serialize those models with scikit-learn 0.21+.\n",
      "  warnings.warn(msg, category=FutureWarning)\n"
     ]
    }
   ],
   "source": [
    "# Import Packages\n",
    "import numpy as np\n",
    "import pandas as pd\n",
    "import pyodbc\n",
    "\n",
    "# Get Current time\n",
    "import datetime \n",
    "\n",
    "# For Graphics\n",
    "import matplotlib as matplotlib\n",
    "import matplotlib.pyplot as plt\n",
    "import seaborn as sns\n",
    "\n",
    "# For splitting data into test and train subsets\n",
    "from sklearn.model_selection import train_test_split, RepeatedStratifiedKFold, GridSearchCV\n",
    "\n",
    "# For logistic regression\n",
    "from sklearn.linear_model import LogisticRegression\n",
    "\n",
    "# For saving the model\n",
    "from sklearn.externals import joblib \n",
    "\n",
    "# For Confusion Matrix\n",
    "from sklearn import metrics\n",
    "\n",
    "# For ROC Curve\n",
    "from sklearn.metrics import roc_auc_score, roc_curve\n",
    "\n",
    "# For Normalization\n",
    "from sklearn.preprocessing import MinMaxScaler, StandardScaler\n",
    "\n",
    "# For Feature Selection\n",
    "from sklearn.feature_selection import chi2, SelectKBest\n",
    "\n",
    "# Settings to view all columns and rows\n",
    "pd.set_option('display.max_rows', 1000)\n",
    "pd.set_option('display.max_columns', 1000)"
   ]
  },
  {
   "cell_type": "code",
   "execution_count": 2,
   "metadata": {},
   "outputs": [],
   "source": [
    "# Import Dataset\n",
    "# Explicitly setting data type for columns which are string data type  \n",
    "\n",
    "df_orig = pd.read_csv('agent_churn.csv')"
   ]
  },
  {
   "cell_type": "code",
   "execution_count": 3,
   "metadata": {},
   "outputs": [
    {
     "data": {
      "text/html": [
       "<div>\n",
       "<style scoped>\n",
       "    .dataframe tbody tr th:only-of-type {\n",
       "        vertical-align: middle;\n",
       "    }\n",
       "\n",
       "    .dataframe tbody tr th {\n",
       "        vertical-align: top;\n",
       "    }\n",
       "\n",
       "    .dataframe thead th {\n",
       "        text-align: right;\n",
       "    }\n",
       "</style>\n",
       "<table border=\"1\" class=\"dataframe\">\n",
       "  <thead>\n",
       "    <tr style=\"text-align: right;\">\n",
       "      <th></th>\n",
       "      <th>Agent Number</th>\n",
       "      <th>Date_of_Appointment</th>\n",
       "      <th>Date_of_Termination</th>\n",
       "      <th>Commission Class</th>\n",
       "      <th>Pay Method</th>\n",
       "      <th>Pay Frequency</th>\n",
       "      <th>Agent Type</th>\n",
       "      <th>Agent Branch Code</th>\n",
       "      <th>Agent Reporting Level</th>\n",
       "      <th>Agent Date of Birth</th>\n",
       "      <th>Agent Gender</th>\n",
       "      <th>Number_of_Policies</th>\n",
       "      <th>Number_of_Claims</th>\n",
       "      <th>Total_Claim_Amount</th>\n",
       "      <th>Total_Payment_Amount</th>\n",
       "      <th>Total_Commission_Amount</th>\n",
       "      <th>Churn</th>\n",
       "    </tr>\n",
       "  </thead>\n",
       "  <tbody>\n",
       "    <tr>\n",
       "      <td>0</td>\n",
       "      <td>50001187</td>\n",
       "      <td>20150526</td>\n",
       "      <td>NaN</td>\n",
       "      <td>3</td>\n",
       "      <td>DC</td>\n",
       "      <td>12</td>\n",
       "      <td>AM</td>\n",
       "      <td>10</td>\n",
       "      <td>1</td>\n",
       "      <td>19910507.0</td>\n",
       "      <td>M</td>\n",
       "      <td>5</td>\n",
       "      <td>0</td>\n",
       "      <td>0.0</td>\n",
       "      <td>0.0</td>\n",
       "      <td>0.0</td>\n",
       "      <td>0</td>\n",
       "    </tr>\n",
       "    <tr>\n",
       "      <td>1</td>\n",
       "      <td>50002503</td>\n",
       "      <td>20151214</td>\n",
       "      <td>NaN</td>\n",
       "      <td>3</td>\n",
       "      <td>CQ</td>\n",
       "      <td>12</td>\n",
       "      <td>AG</td>\n",
       "      <td>10</td>\n",
       "      <td>1</td>\n",
       "      <td>19830404.0</td>\n",
       "      <td>M</td>\n",
       "      <td>4</td>\n",
       "      <td>0</td>\n",
       "      <td>0.0</td>\n",
       "      <td>0.0</td>\n",
       "      <td>0.0</td>\n",
       "      <td>0</td>\n",
       "    </tr>\n",
       "    <tr>\n",
       "      <td>2</td>\n",
       "      <td>50004847</td>\n",
       "      <td>20200101</td>\n",
       "      <td>NaN</td>\n",
       "      <td>3</td>\n",
       "      <td>CQ</td>\n",
       "      <td>12</td>\n",
       "      <td>BR</td>\n",
       "      <td>10</td>\n",
       "      <td>1</td>\n",
       "      <td>19800101.0</td>\n",
       "      <td>M</td>\n",
       "      <td>0</td>\n",
       "      <td>0</td>\n",
       "      <td>0.0</td>\n",
       "      <td>0.0</td>\n",
       "      <td>0.0</td>\n",
       "      <td>0</td>\n",
       "    </tr>\n",
       "    <tr>\n",
       "      <td>3</td>\n",
       "      <td>50040992</td>\n",
       "      <td>20230104</td>\n",
       "      <td>NaN</td>\n",
       "      <td>3</td>\n",
       "      <td>CQ</td>\n",
       "      <td>12</td>\n",
       "      <td>AG</td>\n",
       "      <td>10</td>\n",
       "      <td>1</td>\n",
       "      <td>19750101.0</td>\n",
       "      <td>M</td>\n",
       "      <td>1</td>\n",
       "      <td>0</td>\n",
       "      <td>0.0</td>\n",
       "      <td>0.0</td>\n",
       "      <td>0.0</td>\n",
       "      <td>0</td>\n",
       "    </tr>\n",
       "    <tr>\n",
       "      <td>4</td>\n",
       "      <td>50041143</td>\n",
       "      <td>20230101</td>\n",
       "      <td>NaN</td>\n",
       "      <td>2</td>\n",
       "      <td>CQ</td>\n",
       "      <td>12</td>\n",
       "      <td>AM</td>\n",
       "      <td>10</td>\n",
       "      <td>1</td>\n",
       "      <td>19880101.0</td>\n",
       "      <td>M</td>\n",
       "      <td>0</td>\n",
       "      <td>0</td>\n",
       "      <td>0.0</td>\n",
       "      <td>0.0</td>\n",
       "      <td>0.0</td>\n",
       "      <td>0</td>\n",
       "    </tr>\n",
       "  </tbody>\n",
       "</table>\n",
       "</div>"
      ],
      "text/plain": [
       "   Agent Number  Date_of_Appointment  Date_of_Termination  Commission Class  \\\n",
       "0      50001187             20150526                  NaN                 3   \n",
       "1      50002503             20151214                  NaN                 3   \n",
       "2      50004847             20200101                  NaN                 3   \n",
       "3      50040992             20230104                  NaN                 3   \n",
       "4      50041143             20230101                  NaN                 2   \n",
       "\n",
       "  Pay Method  Pay Frequency Agent Type  Agent Branch Code  \\\n",
       "0         DC             12         AM                 10   \n",
       "1         CQ             12         AG                 10   \n",
       "2         CQ             12         BR                 10   \n",
       "3         CQ             12         AG                 10   \n",
       "4         CQ             12         AM                 10   \n",
       "\n",
       "   Agent Reporting Level  Agent Date of Birth Agent Gender  \\\n",
       "0                      1           19910507.0            M   \n",
       "1                      1           19830404.0            M   \n",
       "2                      1           19800101.0            M   \n",
       "3                      1           19750101.0            M   \n",
       "4                      1           19880101.0            M   \n",
       "\n",
       "   Number_of_Policies  Number_of_Claims  Total_Claim_Amount  \\\n",
       "0                   5                 0                 0.0   \n",
       "1                   4                 0                 0.0   \n",
       "2                   0                 0                 0.0   \n",
       "3                   1                 0                 0.0   \n",
       "4                   0                 0                 0.0   \n",
       "\n",
       "   Total_Payment_Amount  Total_Commission_Amount  Churn  \n",
       "0                   0.0                      0.0      0  \n",
       "1                   0.0                      0.0      0  \n",
       "2                   0.0                      0.0      0  \n",
       "3                   0.0                      0.0      0  \n",
       "4                   0.0                      0.0      0  "
      ]
     },
     "execution_count": 3,
     "metadata": {},
     "output_type": "execute_result"
    }
   ],
   "source": [
    "# Check data sample\n",
    "df_orig.head()"
   ]
  },
  {
   "cell_type": "markdown",
   "metadata": {},
   "source": [
    "## Data Analysis"
   ]
  },
  {
   "cell_type": "code",
   "execution_count": 4,
   "metadata": {},
   "outputs": [
    {
     "data": {
      "text/plain": [
       "(3631, 17)"
      ]
     },
     "execution_count": 4,
     "metadata": {},
     "output_type": "execute_result"
    }
   ],
   "source": [
    "# Check data shape\n",
    "df_orig.shape"
   ]
  },
  {
   "cell_type": "code",
   "execution_count": 5,
   "metadata": {},
   "outputs": [
    {
     "name": "stdout",
     "output_type": "stream",
     "text": [
      "<class 'pandas.core.frame.DataFrame'>\n",
      "RangeIndex: 3631 entries, 0 to 3630\n",
      "Data columns (total 17 columns):\n",
      "Agent Number               3631 non-null int64\n",
      "Date_of_Appointment        3631 non-null int64\n",
      "Date_of_Termination        12 non-null float64\n",
      "Commission Class           3631 non-null int64\n",
      "Pay Method                 3631 non-null object\n",
      "Pay Frequency              3631 non-null int64\n",
      "Agent Type                 3631 non-null object\n",
      "Agent Branch Code          3631 non-null int64\n",
      "Agent Reporting Level      3631 non-null int64\n",
      "Agent Date of Birth        3599 non-null float64\n",
      "Agent Gender               3631 non-null object\n",
      "Number_of_Policies         3631 non-null int64\n",
      "Number_of_Claims           3631 non-null int64\n",
      "Total_Claim_Amount         3631 non-null float64\n",
      "Total_Payment_Amount       3631 non-null float64\n",
      "Total_Commission_Amount    3631 non-null float64\n",
      "Churn                      3631 non-null int64\n",
      "dtypes: float64(5), int64(9), object(3)\n",
      "memory usage: 482.4+ KB\n"
     ]
    }
   ],
   "source": [
    "# Check data attributes of the columns\n",
    "df_orig.info()"
   ]
  },
  {
   "cell_type": "markdown",
   "metadata": {},
   "source": [
    "### Need to change data types of few columns, will do so in data processing section"
   ]
  },
  {
   "cell_type": "code",
   "execution_count": 6,
   "metadata": {},
   "outputs": [
    {
     "data": {
      "text/plain": [
       "0    3619\n",
       "1      12\n",
       "Name: Churn, dtype: int64"
      ]
     },
     "execution_count": 6,
     "metadata": {},
     "output_type": "execute_result"
    }
   ],
   "source": [
    "# View distribution of 'Lapse' Instances\n",
    "df_orig['Churn'].value_counts()"
   ]
  },
  {
   "cell_type": "markdown",
   "metadata": {},
   "source": [
    "### Data is highly imbalanced, need to take this in scope"
   ]
  },
  {
   "cell_type": "code",
   "execution_count": 7,
   "metadata": {},
   "outputs": [
    {
     "data": {
      "text/plain": [
       "Agent Number                  0\n",
       "Date_of_Appointment           0\n",
       "Date_of_Termination        3619\n",
       "Commission Class              0\n",
       "Pay Method                    0\n",
       "Pay Frequency                 0\n",
       "Agent Type                    0\n",
       "Agent Branch Code             0\n",
       "Agent Reporting Level         0\n",
       "Agent Date of Birth          32\n",
       "Agent Gender                  0\n",
       "Number_of_Policies            0\n",
       "Number_of_Claims              0\n",
       "Total_Claim_Amount            0\n",
       "Total_Payment_Amount          0\n",
       "Total_Commission_Amount       0\n",
       "Churn                         0\n",
       "dtype: int64"
      ]
     },
     "execution_count": 7,
     "metadata": {},
     "output_type": "execute_result"
    }
   ],
   "source": [
    "# Check if there are any nulls\n",
    "df_orig.isnull().sum()"
   ]
  },
  {
   "cell_type": "markdown",
   "metadata": {},
   "source": [
    "## Data Treatment"
   ]
  },
  {
   "cell_type": "code",
   "execution_count": 8,
   "metadata": {},
   "outputs": [],
   "source": [
    "# Create a copy of dataframe\n",
    "df_work = df_orig.copy()"
   ]
  },
  {
   "cell_type": "code",
   "execution_count": 9,
   "metadata": {},
   "outputs": [],
   "source": [
    "# Separate features into categorical and numerical category\n",
    "cat_vars = ['Commission Class','Pay Method','Pay Frequency','Agent Type','Agent Branch Code',\n",
    "            'Agent Reporting Level','Agent Gender']\n",
    "\n",
    "num_vars = ['Number_of_Policies', 'Number_of_Claims', 'Total_Claim_Amount','Total_Payment_Amount','Total_Commission_Amount']\n",
    "\n",
    "date_vars = ['Date_of_Appointment', 'Date_of_Termination', 'Agent Date of Birth' ]"
   ]
  },
  {
   "cell_type": "code",
   "execution_count": 10,
   "metadata": {},
   "outputs": [],
   "source": [
    "# Convert date columns\n",
    "\n",
    "for var in date_vars:\n",
    "    #df_work[var] = df_work[var].astype('category')\n",
    "    #df_work[var] = datetime.datetime.strptime(var, '%Y-%m-%d')\n",
    "    df_work[var]=pd.to_datetime(df_work[var].astype(str), format='%Y%m%d')"
   ]
  },
  {
   "cell_type": "code",
   "execution_count": 11,
   "metadata": {},
   "outputs": [],
   "source": [
    "# Convert to 'category' object type\n",
    "for var in cat_vars:\n",
    "    df_work[var] = df_work[var].astype('category')"
   ]
  },
  {
   "cell_type": "code",
   "execution_count": 12,
   "metadata": {},
   "outputs": [],
   "source": [
    "# Create Dummy Variables for categorical variables\n",
    "for var in cat_vars:\n",
    "    cat_list = 'var'+'_'+var\n",
    "    cat_list = pd.get_dummies(df_work[var], prefix=var)\n",
    "    dummy_data = df_work.join(cat_list)\n",
    "    df_work = dummy_data"
   ]
  },
  {
   "cell_type": "code",
   "execution_count": 13,
   "metadata": {},
   "outputs": [
    {
     "data": {
      "text/plain": [
       "(3631, 42)"
      ]
     },
     "execution_count": 13,
     "metadata": {},
     "output_type": "execute_result"
    }
   ],
   "source": [
    "# Check data shape after dummy encoding\n",
    "df_work.shape"
   ]
  },
  {
   "cell_type": "code",
   "execution_count": 14,
   "metadata": {},
   "outputs": [],
   "source": [
    "# Remove original columns for which dummy variables have been created\n",
    "vars_remove = ['Commission Class','Pay Method','Pay Frequency','Agent Type','Agent Branch Code',\n",
    "            'Agent Reporting Level','Agent Gender']\n",
    "\n",
    "for var in vars_remove:\n",
    "    df_work=df_work.drop(var, axis=1)"
   ]
  },
  {
   "cell_type": "code",
   "execution_count": 15,
   "metadata": {},
   "outputs": [],
   "source": [
    "# Normalize numerical columns\n",
    "scaler = MinMaxScaler()\n",
    "df_work['Number_of_Policies'] = scaler.fit_transform(df_work['Number_of_Policies'].values.reshape(-1,1))\n",
    "df_work['Number_of_Claims'] = scaler.fit_transform(df_work['Number_of_Claims'].values.reshape(-1,1))\n",
    "df_work['Total_Claim_Amount'] = scaler.fit_transform(df_work['Total_Claim_Amount'].values.reshape(-1,1))\n",
    "df_work['Total_Payment_Amount'] = scaler.fit_transform(df_work['Total_Payment_Amount'].values.reshape(-1,1))\n",
    "df_work['Total_Commission_Amount'] = scaler.fit_transform(df_work['Total_Commission_Amount'].values.reshape(-1,1))"
   ]
  },
  {
   "cell_type": "markdown",
   "metadata": {},
   "source": [
    "### Feature Engineering"
   ]
  },
  {
   "cell_type": "code",
   "execution_count": 16,
   "metadata": {},
   "outputs": [],
   "source": [
    "# Get current date\n",
    "current_time = datetime.datetime.now() "
   ]
  },
  {
   "cell_type": "code",
   "execution_count": 17,
   "metadata": {},
   "outputs": [],
   "source": [
    "# Create a new column 'Age' on the basis of date of birth of agent\n",
    "df_work['age'] = current_time - df_work['Agent Date of Birth']"
   ]
  },
  {
   "cell_type": "code",
   "execution_count": 18,
   "metadata": {},
   "outputs": [],
   "source": [
    "# Create a new column named 'service period' on the basis of difference between Agent Date of Registration and Termination.\n",
    "# In case date of Termination is null we will replace it with current date and compute\n",
    "\n",
    "service_period=[]\n",
    "\n",
    "for Date_of_Termination,Date_of_Appointment in zip(df_work.iloc[:,2], df_work.iloc[:,1]):\n",
    "    if Date_of_Termination is pd.NaT:\n",
    "        service_period.append(abs(current_time-Date_of_Appointment))\n",
    "    else:\n",
    "        service_period.append(abs(Date_of_Termination-Date_of_Appointment))\n",
    "    #print(Date_of_Termination)\n",
    "    #print(Date_of_Appointment)\n"
   ]
  },
  {
   "cell_type": "code",
   "execution_count": 19,
   "metadata": {},
   "outputs": [],
   "source": [
    "# Append the new column to dataframe\n",
    "df_work['Service_Period']=service_period\n",
    "\n",
    "# Remove the orginal columns\n",
    "df_work=df_work.drop('Date_of_Appointment', axis=1)\n",
    "df_work=df_work.drop('Date_of_Termination', axis=1)\n",
    "df_work=df_work.drop('Agent Date of Birth', axis=1)\n",
    "\n",
    "# Remove Agent Number since it is not critical for prediction\n",
    "df_work=df_work.drop('Agent Number', axis=1)"
   ]
  },
  {
   "cell_type": "code",
   "execution_count": 20,
   "metadata": {
    "scrolled": false
   },
   "outputs": [
    {
     "data": {
      "text/html": [
       "<div>\n",
       "<style scoped>\n",
       "    .dataframe tbody tr th:only-of-type {\n",
       "        vertical-align: middle;\n",
       "    }\n",
       "\n",
       "    .dataframe tbody tr th {\n",
       "        vertical-align: top;\n",
       "    }\n",
       "\n",
       "    .dataframe thead th {\n",
       "        text-align: right;\n",
       "    }\n",
       "</style>\n",
       "<table border=\"1\" class=\"dataframe\">\n",
       "  <thead>\n",
       "    <tr style=\"text-align: right;\">\n",
       "      <th></th>\n",
       "      <th>Number_of_Policies</th>\n",
       "      <th>Number_of_Claims</th>\n",
       "      <th>Total_Claim_Amount</th>\n",
       "      <th>Total_Payment_Amount</th>\n",
       "      <th>Total_Commission_Amount</th>\n",
       "      <th>Churn</th>\n",
       "      <th>Commission Class_1</th>\n",
       "      <th>Commission Class_2</th>\n",
       "      <th>Commission Class_3</th>\n",
       "      <th>Pay Method_CQ</th>\n",
       "      <th>Pay Method_DC</th>\n",
       "      <th>Pay Frequency_12</th>\n",
       "      <th>Agent Type_0</th>\n",
       "      <th>Agent Type_7</th>\n",
       "      <th>Agent Type_AG</th>\n",
       "      <th>Agent Type_AM</th>\n",
       "      <th>Agent Type_AR</th>\n",
       "      <th>Agent Type_BA</th>\n",
       "      <th>Agent Type_BM</th>\n",
       "      <th>Agent Type_BR</th>\n",
       "      <th>Agent Type_CR</th>\n",
       "      <th>Agent Type_DM</th>\n",
       "      <th>Agent Type_GM</th>\n",
       "      <th>Agent Type_SM</th>\n",
       "      <th>Agent Type_UM</th>\n",
       "      <th>Agent Branch Code_10</th>\n",
       "      <th>Agent Reporting Level_1</th>\n",
       "      <th>Agent Reporting Level_2</th>\n",
       "      <th>Agent Gender_</th>\n",
       "      <th>Agent Gender_F</th>\n",
       "      <th>Agent Gender_M</th>\n",
       "      <th>age</th>\n",
       "      <th>Service_Period</th>\n",
       "    </tr>\n",
       "  </thead>\n",
       "  <tbody>\n",
       "    <tr>\n",
       "      <td>0</td>\n",
       "      <td>0.004476</td>\n",
       "      <td>0.0</td>\n",
       "      <td>0.0</td>\n",
       "      <td>0.0</td>\n",
       "      <td>0.0</td>\n",
       "      <td>0</td>\n",
       "      <td>0</td>\n",
       "      <td>0</td>\n",
       "      <td>1</td>\n",
       "      <td>0</td>\n",
       "      <td>1</td>\n",
       "      <td>1</td>\n",
       "      <td>0</td>\n",
       "      <td>0</td>\n",
       "      <td>0</td>\n",
       "      <td>1</td>\n",
       "      <td>0</td>\n",
       "      <td>0</td>\n",
       "      <td>0</td>\n",
       "      <td>0</td>\n",
       "      <td>0</td>\n",
       "      <td>0</td>\n",
       "      <td>0</td>\n",
       "      <td>0</td>\n",
       "      <td>0</td>\n",
       "      <td>1</td>\n",
       "      <td>1</td>\n",
       "      <td>0</td>\n",
       "      <td>0</td>\n",
       "      <td>0</td>\n",
       "      <td>1</td>\n",
       "      <td>10571 days 14:09:37.223964</td>\n",
       "      <td>1786 days 14:09:37.223964</td>\n",
       "    </tr>\n",
       "    <tr>\n",
       "      <td>1</td>\n",
       "      <td>0.003581</td>\n",
       "      <td>0.0</td>\n",
       "      <td>0.0</td>\n",
       "      <td>0.0</td>\n",
       "      <td>0.0</td>\n",
       "      <td>0</td>\n",
       "      <td>0</td>\n",
       "      <td>0</td>\n",
       "      <td>1</td>\n",
       "      <td>1</td>\n",
       "      <td>0</td>\n",
       "      <td>1</td>\n",
       "      <td>0</td>\n",
       "      <td>0</td>\n",
       "      <td>1</td>\n",
       "      <td>0</td>\n",
       "      <td>0</td>\n",
       "      <td>0</td>\n",
       "      <td>0</td>\n",
       "      <td>0</td>\n",
       "      <td>0</td>\n",
       "      <td>0</td>\n",
       "      <td>0</td>\n",
       "      <td>0</td>\n",
       "      <td>0</td>\n",
       "      <td>1</td>\n",
       "      <td>1</td>\n",
       "      <td>0</td>\n",
       "      <td>0</td>\n",
       "      <td>0</td>\n",
       "      <td>1</td>\n",
       "      <td>13526 days 14:09:37.223964</td>\n",
       "      <td>1584 days 14:09:37.223964</td>\n",
       "    </tr>\n",
       "    <tr>\n",
       "      <td>2</td>\n",
       "      <td>0.000000</td>\n",
       "      <td>0.0</td>\n",
       "      <td>0.0</td>\n",
       "      <td>0.0</td>\n",
       "      <td>0.0</td>\n",
       "      <td>0</td>\n",
       "      <td>0</td>\n",
       "      <td>0</td>\n",
       "      <td>1</td>\n",
       "      <td>1</td>\n",
       "      <td>0</td>\n",
       "      <td>1</td>\n",
       "      <td>0</td>\n",
       "      <td>0</td>\n",
       "      <td>0</td>\n",
       "      <td>0</td>\n",
       "      <td>0</td>\n",
       "      <td>0</td>\n",
       "      <td>0</td>\n",
       "      <td>1</td>\n",
       "      <td>0</td>\n",
       "      <td>0</td>\n",
       "      <td>0</td>\n",
       "      <td>0</td>\n",
       "      <td>0</td>\n",
       "      <td>1</td>\n",
       "      <td>1</td>\n",
       "      <td>0</td>\n",
       "      <td>0</td>\n",
       "      <td>0</td>\n",
       "      <td>1</td>\n",
       "      <td>14715 days 14:09:37.223964</td>\n",
       "      <td>105 days 14:09:37.223964</td>\n",
       "    </tr>\n",
       "    <tr>\n",
       "      <td>3</td>\n",
       "      <td>0.000895</td>\n",
       "      <td>0.0</td>\n",
       "      <td>0.0</td>\n",
       "      <td>0.0</td>\n",
       "      <td>0.0</td>\n",
       "      <td>0</td>\n",
       "      <td>0</td>\n",
       "      <td>0</td>\n",
       "      <td>1</td>\n",
       "      <td>1</td>\n",
       "      <td>0</td>\n",
       "      <td>1</td>\n",
       "      <td>0</td>\n",
       "      <td>0</td>\n",
       "      <td>1</td>\n",
       "      <td>0</td>\n",
       "      <td>0</td>\n",
       "      <td>0</td>\n",
       "      <td>0</td>\n",
       "      <td>0</td>\n",
       "      <td>0</td>\n",
       "      <td>0</td>\n",
       "      <td>0</td>\n",
       "      <td>0</td>\n",
       "      <td>0</td>\n",
       "      <td>1</td>\n",
       "      <td>1</td>\n",
       "      <td>0</td>\n",
       "      <td>0</td>\n",
       "      <td>0</td>\n",
       "      <td>1</td>\n",
       "      <td>16541 days 14:09:37.223964</td>\n",
       "      <td>993 days 09:50:22.776036</td>\n",
       "    </tr>\n",
       "    <tr>\n",
       "      <td>4</td>\n",
       "      <td>0.000000</td>\n",
       "      <td>0.0</td>\n",
       "      <td>0.0</td>\n",
       "      <td>0.0</td>\n",
       "      <td>0.0</td>\n",
       "      <td>0</td>\n",
       "      <td>0</td>\n",
       "      <td>1</td>\n",
       "      <td>0</td>\n",
       "      <td>1</td>\n",
       "      <td>0</td>\n",
       "      <td>1</td>\n",
       "      <td>0</td>\n",
       "      <td>0</td>\n",
       "      <td>0</td>\n",
       "      <td>1</td>\n",
       "      <td>0</td>\n",
       "      <td>0</td>\n",
       "      <td>0</td>\n",
       "      <td>0</td>\n",
       "      <td>0</td>\n",
       "      <td>0</td>\n",
       "      <td>0</td>\n",
       "      <td>0</td>\n",
       "      <td>0</td>\n",
       "      <td>1</td>\n",
       "      <td>1</td>\n",
       "      <td>0</td>\n",
       "      <td>0</td>\n",
       "      <td>0</td>\n",
       "      <td>1</td>\n",
       "      <td>11793 days 14:09:37.223964</td>\n",
       "      <td>990 days 09:50:22.776036</td>\n",
       "    </tr>\n",
       "  </tbody>\n",
       "</table>\n",
       "</div>"
      ],
      "text/plain": [
       "   Number_of_Policies  Number_of_Claims  Total_Claim_Amount  \\\n",
       "0            0.004476               0.0                 0.0   \n",
       "1            0.003581               0.0                 0.0   \n",
       "2            0.000000               0.0                 0.0   \n",
       "3            0.000895               0.0                 0.0   \n",
       "4            0.000000               0.0                 0.0   \n",
       "\n",
       "   Total_Payment_Amount  Total_Commission_Amount  Churn  Commission Class_1  \\\n",
       "0                   0.0                      0.0      0                   0   \n",
       "1                   0.0                      0.0      0                   0   \n",
       "2                   0.0                      0.0      0                   0   \n",
       "3                   0.0                      0.0      0                   0   \n",
       "4                   0.0                      0.0      0                   0   \n",
       "\n",
       "   Commission Class_2  Commission Class_3  Pay Method_CQ  Pay Method_DC  \\\n",
       "0                   0                   1              0              1   \n",
       "1                   0                   1              1              0   \n",
       "2                   0                   1              1              0   \n",
       "3                   0                   1              1              0   \n",
       "4                   1                   0              1              0   \n",
       "\n",
       "   Pay Frequency_12  Agent Type_0  Agent Type_7  Agent Type_AG  Agent Type_AM  \\\n",
       "0                 1             0             0              0              1   \n",
       "1                 1             0             0              1              0   \n",
       "2                 1             0             0              0              0   \n",
       "3                 1             0             0              1              0   \n",
       "4                 1             0             0              0              1   \n",
       "\n",
       "   Agent Type_AR  Agent Type_BA  Agent Type_BM  Agent Type_BR  Agent Type_CR  \\\n",
       "0              0              0              0              0              0   \n",
       "1              0              0              0              0              0   \n",
       "2              0              0              0              1              0   \n",
       "3              0              0              0              0              0   \n",
       "4              0              0              0              0              0   \n",
       "\n",
       "   Agent Type_DM  Agent Type_GM  Agent Type_SM  Agent Type_UM  \\\n",
       "0              0              0              0              0   \n",
       "1              0              0              0              0   \n",
       "2              0              0              0              0   \n",
       "3              0              0              0              0   \n",
       "4              0              0              0              0   \n",
       "\n",
       "   Agent Branch Code_10  Agent Reporting Level_1  Agent Reporting Level_2  \\\n",
       "0                     1                        1                        0   \n",
       "1                     1                        1                        0   \n",
       "2                     1                        1                        0   \n",
       "3                     1                        1                        0   \n",
       "4                     1                        1                        0   \n",
       "\n",
       "   Agent Gender_   Agent Gender_F  Agent Gender_M                        age  \\\n",
       "0               0               0               1 10571 days 14:09:37.223964   \n",
       "1               0               0               1 13526 days 14:09:37.223964   \n",
       "2               0               0               1 14715 days 14:09:37.223964   \n",
       "3               0               0               1 16541 days 14:09:37.223964   \n",
       "4               0               0               1 11793 days 14:09:37.223964   \n",
       "\n",
       "             Service_Period  \n",
       "0 1786 days 14:09:37.223964  \n",
       "1 1584 days 14:09:37.223964  \n",
       "2  105 days 14:09:37.223964  \n",
       "3  993 days 09:50:22.776036  \n",
       "4  990 days 09:50:22.776036  "
      ]
     },
     "execution_count": 20,
     "metadata": {},
     "output_type": "execute_result"
    }
   ],
   "source": [
    "# Check contents once\n",
    "df_work.head()"
   ]
  },
  {
   "cell_type": "code",
   "execution_count": 21,
   "metadata": {},
   "outputs": [
    {
     "name": "stdout",
     "output_type": "stream",
     "text": [
      "<class 'pandas.core.frame.DataFrame'>\n",
      "RangeIndex: 3631 entries, 0 to 3630\n",
      "Data columns (total 33 columns):\n",
      "Number_of_Policies         3631 non-null float64\n",
      "Number_of_Claims           3631 non-null float64\n",
      "Total_Claim_Amount         3631 non-null float64\n",
      "Total_Payment_Amount       3631 non-null float64\n",
      "Total_Commission_Amount    3631 non-null float64\n",
      "Churn                      3631 non-null int64\n",
      "Commission Class_1         3631 non-null uint8\n",
      "Commission Class_2         3631 non-null uint8\n",
      "Commission Class_3         3631 non-null uint8\n",
      "Pay Method_CQ              3631 non-null uint8\n",
      "Pay Method_DC              3631 non-null uint8\n",
      "Pay Frequency_12           3631 non-null uint8\n",
      "Agent Type_0               3631 non-null uint8\n",
      "Agent Type_7               3631 non-null uint8\n",
      "Agent Type_AG              3631 non-null uint8\n",
      "Agent Type_AM              3631 non-null uint8\n",
      "Agent Type_AR              3631 non-null uint8\n",
      "Agent Type_BA              3631 non-null uint8\n",
      "Agent Type_BM              3631 non-null uint8\n",
      "Agent Type_BR              3631 non-null uint8\n",
      "Agent Type_CR              3631 non-null uint8\n",
      "Agent Type_DM              3631 non-null uint8\n",
      "Agent Type_GM              3631 non-null uint8\n",
      "Agent Type_SM              3631 non-null uint8\n",
      "Agent Type_UM              3631 non-null uint8\n",
      "Agent Branch Code_10       3631 non-null uint8\n",
      "Agent Reporting Level_1    3631 non-null uint8\n",
      "Agent Reporting Level_2    3631 non-null uint8\n",
      "Agent Gender_              3631 non-null uint8\n",
      "Agent Gender_F             3631 non-null uint8\n",
      "Agent Gender_M             3631 non-null uint8\n",
      "age                        3599 non-null timedelta64[ns]\n",
      "Service_Period             3631 non-null timedelta64[ns]\n",
      "dtypes: float64(5), int64(1), timedelta64[ns](2), uint8(25)\n",
      "memory usage: 315.7 KB\n"
     ]
    }
   ],
   "source": [
    "# Check info\n",
    "df_work.info()"
   ]
  },
  {
   "cell_type": "code",
   "execution_count": 22,
   "metadata": {},
   "outputs": [],
   "source": [
    "# Normalize the new columns \n",
    "scaler = MinMaxScaler()\n",
    "df_work['age'] = scaler.fit_transform(df_work['age'].values.reshape(-1,1))\n",
    "df_work['Service_Period'] = scaler.fit_transform(df_work['Service_Period'].values.reshape(-1,1))"
   ]
  },
  {
   "cell_type": "code",
   "execution_count": 23,
   "metadata": {},
   "outputs": [],
   "source": [
    "# Create separate dataset for feature and target columns\n",
    "x = df_work.drop('Churn', axis=1)\n",
    "y = df_work['Churn']"
   ]
  },
  {
   "cell_type": "markdown",
   "metadata": {},
   "source": [
    "### Feature Selection"
   ]
  },
  {
   "cell_type": "code",
   "execution_count": 24,
   "metadata": {},
   "outputs": [
    {
     "name": "stdout",
     "output_type": "stream",
     "text": [
      "                      Specs       Score\n",
      "4   Total_Commission_Amount  179.461095\n",
      "0        Number_of_Policies   79.038735\n",
      "1          Number_of_Claims   51.598942\n",
      "17            Agent Type_BM   35.968226\n",
      "13            Agent Type_AG   16.425783\n",
      "2        Total_Claim_Amount   11.655611\n",
      "31           Service_Period    3.608174\n",
      "14            Agent Type_AM    1.430251\n",
      "6        Commission Class_2    1.252122\n",
      "27           Agent Gender_     0.666482\n"
     ]
    }
   ],
   "source": [
    "bestfeatures=SelectKBest(score_func=chi2, k=10)\n",
    "fit=bestfeatures.fit(x,y)\n",
    "dfscores=pd.DataFrame(fit.scores_)\n",
    "dfcolumns=pd.DataFrame(x.columns)\n",
    "#concatenate two dataframes\n",
    "featureScores=pd.concat([dfcolumns,dfscores],axis=1)\n",
    "featureScores.columns=['Specs','Score'] #naming the dataframe columns\n",
    "print(featureScores.nlargest(10,'Score')) #print 10 best features"
   ]
  },
  {
   "cell_type": "code",
   "execution_count": 25,
   "metadata": {},
   "outputs": [],
   "source": [
    "# Get top features\n",
    "top_features = ['Total_Commission_Amount', 'Number_of_Policies', 'Number_of_Claims','Agent Type_BM',\n",
    "               'Agent Type_AG', 'Total_Claim_Amount', 'Service_Period', 'Agent Type_AM', 'Commission Class_2', \n",
    "               'Agent Gender_ ',]"
   ]
  },
  {
   "cell_type": "code",
   "execution_count": 26,
   "metadata": {},
   "outputs": [],
   "source": [
    "# Create new dataset with only top features\n",
    "x01=x[top_features]\n",
    "y01=y"
   ]
  },
  {
   "cell_type": "code",
   "execution_count": 27,
   "metadata": {},
   "outputs": [],
   "source": [
    "# Perform Test/Train Split\n",
    "x01_train, x01_test, y01_train, y01_test=train_test_split(x01, y01, test_size=0.3,random_state=11)"
   ]
  },
  {
   "cell_type": "code",
   "execution_count": 28,
   "metadata": {},
   "outputs": [
    {
     "name": "stderr",
     "output_type": "stream",
     "text": [
      "C:\\Users\\tbhardwaj2\\AppData\\Roaming\\Python\\Python36\\site-packages\\sklearn\\utils\\deprecation.py:144: FutureWarning: The sklearn.neighbors.base module is  deprecated in version 0.22 and will be removed in version 0.24. The corresponding classes / functions should instead be imported from sklearn.neighbors. Anything that cannot be imported from sklearn.neighbors is now part of the private API.\n",
      "  warnings.warn(message, FutureWarning)\n",
      "C:\\Users\\tbhardwaj2\\AppData\\Roaming\\Python\\Python36\\site-packages\\sklearn\\utils\\deprecation.py:144: FutureWarning: The sklearn.ensemble.bagging module is  deprecated in version 0.22 and will be removed in version 0.24. The corresponding classes / functions should instead be imported from sklearn.ensemble. Anything that cannot be imported from sklearn.ensemble is now part of the private API.\n",
      "  warnings.warn(message, FutureWarning)\n",
      "C:\\Users\\tbhardwaj2\\AppData\\Roaming\\Python\\Python36\\site-packages\\sklearn\\utils\\deprecation.py:144: FutureWarning: The sklearn.ensemble.base module is  deprecated in version 0.22 and will be removed in version 0.24. The corresponding classes / functions should instead be imported from sklearn.ensemble. Anything that cannot be imported from sklearn.ensemble is now part of the private API.\n",
      "  warnings.warn(message, FutureWarning)\n",
      "C:\\Users\\tbhardwaj2\\AppData\\Roaming\\Python\\Python36\\site-packages\\sklearn\\utils\\deprecation.py:144: FutureWarning: The sklearn.ensemble.forest module is  deprecated in version 0.22 and will be removed in version 0.24. The corresponding classes / functions should instead be imported from sklearn.ensemble. Anything that cannot be imported from sklearn.ensemble is now part of the private API.\n",
      "  warnings.warn(message, FutureWarning)\n",
      "Using TensorFlow backend.\n"
     ]
    },
    {
     "name": "stdout",
     "output_type": "stream",
     "text": [
      "length of oversampled data is  5062\n",
      "Number of Churned agents in oversampled data 2531\n",
      "Number of Non Churned agents in oversampled data 2531\n",
      "Proportion of Non Churned agents in oversampled data is  0.5\n",
      "Proportion of Churned Agents in oversampled data is  0.5\n"
     ]
    },
    {
     "name": "stderr",
     "output_type": "stream",
     "text": [
      "C:\\Users\\tbhardwaj2\\AppData\\Roaming\\Python\\Python36\\site-packages\\sklearn\\utils\\deprecation.py:144: FutureWarning: The sklearn.utils.testing module is  deprecated in version 0.22 and will be removed in version 0.24. The corresponding classes / functions should instead be imported from sklearn.utils. Anything that cannot be imported from sklearn.utils is now part of the private API.\n",
      "  warnings.warn(message, FutureWarning)\n",
      "C:\\Users\\tbhardwaj2\\AppData\\Roaming\\Python\\Python36\\site-packages\\sklearn\\utils\\deprecation.py:144: FutureWarning: The sklearn.metrics.classification module is  deprecated in version 0.22 and will be removed in version 0.24. The corresponding classes / functions should instead be imported from sklearn.metrics. Anything that cannot be imported from sklearn.metrics is now part of the private API.\n",
      "  warnings.warn(message, FutureWarning)\n",
      "C:\\Users\\tbhardwaj2\\AppData\\Roaming\\Python\\Python36\\site-packages\\sklearn\\utils\\deprecation.py:87: FutureWarning: Function safe_indexing is deprecated; safe_indexing is deprecated in version 0.22 and will be removed in version 0.24.\n",
      "  warnings.warn(msg, category=FutureWarning)\n"
     ]
    }
   ],
   "source": [
    "# To handle class imbalance performing SMOTE\n",
    "\n",
    "from imblearn.over_sampling import SMOTE\n",
    "SMO = SMOTE(random_state=11)\n",
    "\n",
    "#X4_train, X4_test, Y4_train, Y4_test = train_test_split(X_train,Y_train, test_size=0.20)\n",
    "x01_train_smo,y01_train_smo = SMO.fit_sample(x01_train, y01_train)\n",
    "columns = x01_train.columns\n",
    "\n",
    "x01_train_smo = pd.DataFrame(data = x01_train_smo, columns = columns )\n",
    "y01_train_smo = pd.DataFrame(data = y01_train_smo, columns = ['Churn'])\n",
    "\n",
    "# we can Check the numbers of our data\n",
    "print(\"length of oversampled data is \",len(x01_train_smo))\n",
    "print(\"Number of Churned agents in oversampled data\",len(y01_train_smo[y01_train_smo['Churn']== 0 ]))\n",
    "print(\"Number of Non Churned agents in oversampled data\",len(y01_train_smo[y01_train_smo['Churn']== 1 ]))\n",
    "print(\"Proportion of Non Churned agents in oversampled data is \",len(y01_train_smo[y01_train_smo['Churn']== 0])/len(x01_train_smo))\n",
    "print(\"Proportion of Churned Agents in oversampled data is \",len(y01_train_smo[y01_train_smo['Churn']== 1 ])/len(x01_train_smo))"
   ]
  },
  {
   "cell_type": "markdown",
   "metadata": {},
   "source": [
    "## Model Application"
   ]
  },
  {
   "cell_type": "markdown",
   "metadata": {},
   "source": [
    "### Logistic Regression with StratifiedKFold with set of weights provided.  Also use Gridsearch to obtain optimal parameters. "
   ]
  },
  {
   "cell_type": "code",
   "execution_count": 30,
   "metadata": {},
   "outputs": [],
   "source": [
    "# Define grid\n",
    "C = np.logspace(0,5,10)\n",
    "param_grid = dict( C=C)\n",
    "\n",
    "# Model\n",
    "logreg=LogisticRegression(solver='lbfgs',max_iter=1000)\n",
    "\n",
    "# Define Evaluation Procedure\n",
    "cv=RepeatedStratifiedKFold(n_splits=10, n_repeats=3, random_state=11)\n",
    "\n",
    "# Define Grid Search\n",
    "grid=GridSearchCV(estimator=logreg, param_grid=param_grid, n_jobs=1, cv=cv, scoring='roc_auc')\n",
    "\n",
    "# Execute Grid Search\n",
    "grid_result=grid.fit(x01_train_smo, (y01_train_smo.values.ravel()))"
   ]
  },
  {
   "cell_type": "code",
   "execution_count": 31,
   "metadata": {},
   "outputs": [
    {
     "name": "stdout",
     "output_type": "stream",
     "text": [
      "Best: 0.954293 using {'C': 12.91549665014884}\n"
     ]
    }
   ],
   "source": [
    "# Print best model parameters\n",
    "print(\"Best: %f using %s\" % (grid_result.best_score_, grid_result.best_params_))"
   ]
  },
  {
   "cell_type": "code",
   "execution_count": 32,
   "metadata": {
    "scrolled": true
   },
   "outputs": [
    {
     "data": {
      "text/plain": [
       "LogisticRegression(C=12.91549665014884, class_weight=None, dual=False,\n",
       "                   fit_intercept=True, intercept_scaling=1, l1_ratio=None,\n",
       "                   max_iter=1000, multi_class='auto', n_jobs=None, penalty='l2',\n",
       "                   random_state=None, solver='lbfgs', tol=0.0001, verbose=0,\n",
       "                   warm_start=False)"
      ]
     },
     "execution_count": 32,
     "metadata": {},
     "output_type": "execute_result"
    }
   ],
   "source": [
    "grid_result.best_estimator_"
   ]
  },
  {
   "cell_type": "code",
   "execution_count": 33,
   "metadata": {},
   "outputs": [],
   "source": [
    "# Saving the best model\n",
    "bestlogreg= LogisticRegression(C=12.91549665014884, class_weight=None, dual=False,\n",
    "                   fit_intercept=True, intercept_scaling=1, l1_ratio=None,\n",
    "                   max_iter=1000, multi_class='auto', n_jobs=None, penalty='l2',\n",
    "                   random_state=None, solver='lbfgs', tol=0.0001, verbose=0,\n",
    "                   warm_start=False)"
   ]
  },
  {
   "cell_type": "code",
   "execution_count": 34,
   "metadata": {},
   "outputs": [
    {
     "data": {
      "text/plain": [
       "LogisticRegression(C=12.91549665014884, class_weight=None, dual=False,\n",
       "                   fit_intercept=True, intercept_scaling=1, l1_ratio=None,\n",
       "                   max_iter=1000, multi_class='auto', n_jobs=None, penalty='l2',\n",
       "                   random_state=None, solver='lbfgs', tol=0.0001, verbose=0,\n",
       "                   warm_start=False)"
      ]
     },
     "execution_count": 34,
     "metadata": {},
     "output_type": "execute_result"
    }
   ],
   "source": [
    "# Fit the model on train data\n",
    "bestlogreg.fit(x01_train, y01_train)"
   ]
  },
  {
   "cell_type": "code",
   "execution_count": 35,
   "metadata": {},
   "outputs": [],
   "source": [
    "# Make Predictions\n",
    "y01_pred=bestlogreg.predict(x01_test)"
   ]
  },
  {
   "cell_type": "code",
   "execution_count": 36,
   "metadata": {
    "scrolled": true
   },
   "outputs": [
    {
     "data": {
      "text/plain": [
       "array([[1087,    1],\n",
       "       [   2,    0]], dtype=int64)"
      ]
     },
     "execution_count": 36,
     "metadata": {},
     "output_type": "execute_result"
    }
   ],
   "source": [
    "# Make Confusion Matrix to compare results against actuals\n",
    "cnf_matrix = metrics.confusion_matrix(y01_test, y01_pred)\n",
    "cnf_matrix  "
   ]
  },
  {
   "cell_type": "code",
   "execution_count": 38,
   "metadata": {},
   "outputs": [
    {
     "name": "stdout",
     "output_type": "stream",
     "text": [
      "Accuracy: 0.9972477064220183\n",
      "Precision: 0.0\n",
      "Recall: 0.0\n"
     ]
    }
   ],
   "source": [
    "# Get Accuracy Scores\n",
    "print(\"Accuracy:\",metrics.accuracy_score(y01_test, y01_pred))\n",
    "print(\"Precision:\",metrics.precision_score(y01_test, y01_pred))\n",
    "print(\"Recall:\",metrics.recall_score(y01_test, y01_pred))"
   ]
  },
  {
   "cell_type": "code",
   "execution_count": 40,
   "metadata": {},
   "outputs": [
    {
     "data": {
      "image/png": "[encoded data removed]",
      "text/plain": [
       "<Figure size 432x288 with 1 Axes>"
      ]
     },
     "metadata": {
      "needs_background": "light"
     },
     "output_type": "display_data"
    }
   ],
   "source": [
    "# Print ROC AUC Curve\n",
    "\n",
    "logit_roc_auc = roc_auc_score(y01_test, bestlogreg.predict(x01_test))\n",
    "fpr, tpr, thresholds = roc_curve(y01_test, bestlogreg.predict_proba(x01_test)[:,1])\n",
    "plt.figure()\n",
    "plt.plot(fpr, tpr, label='Logistic Regression (area = %0.2f)' % logit_roc_auc)\n",
    "plt.plot([0, 1], [0, 1],'r--')\n",
    "plt.xlim([0.0, 1.0])\n",
    "plt.ylim([0.0, 1.05])\n",
    "plt.xlabel('False Positive Rate')\n",
    "plt.ylabel('True Positive Rate')\n",
    "plt.title('Receiver operating characteristic')\n",
    "plt.legend(loc=\"lower right\")\n",
    "plt.savefig('Log_ROC')\n",
    "plt.show()"
   ]
  },
  {
   "cell_type": "markdown",
   "metadata": {},
   "source": [
    "### Save the model as PMML File"
   ]
  },
  {
   "cell_type": "code",
   "execution_count": 41,
   "metadata": {},
   "outputs": [
    {
     "data": {
      "text/plain": [
       "['LifeAgentChurnModel.pmml']"
      ]
     },
     "execution_count": 41,
     "metadata": {},
     "output_type": "execute_result"
    }
   ],
   "source": [
    "# Save the model as a pmml and use to make predictions in a file \n",
    "\n",
    "joblib.dump(bestlogreg, 'LifeAgentChurnModel.pmml') "
   ]
  }
 ],
 "metadata": {
  "kernelspec": {
   "display_name": "Python 3",
   "language": "python",
   "name": "python3"
  },
  "language_info": {
   "codemirror_mode": {
    "name": "ipython",
    "version": 3
   },
   "file_extension": ".py",
   "mimetype": "text/x-python",
   "name": "python",
   "nbconvert_exporter": "python",
   "pygments_lexer": "ipython3",
   "version": "3.6.8"
  }
 },
 "nbformat": 4,
 "nbformat_minor": 2
}
