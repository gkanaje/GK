{
 "cells": [
  {
   "cell_type": "code",
   "execution_count": 1,
   "metadata": {},
   "outputs": [],
   "source": [
    "import numpy as np\n",
    "import pandas as pd\n",
    "import seaborn as sb\n",
    "import matplotlib.pyplot as plt\n",
    "import category_encoders as ce\n",
    "from sklearn import metrics\n",
    "from sklearn import preprocessing\n",
    "from sklearn.model_selection import train_test_split"
   ]
  },
  {
   "cell_type": "code",
   "execution_count": 37,
   "metadata": {},
   "outputs": [
    {
     "data": {
      "text/html": [
       "<div>\n",
       "<style scoped>\n",
       "    .dataframe tbody tr th:only-of-type {\n",
       "        vertical-align: middle;\n",
       "    }\n",
       "\n",
       "    .dataframe tbody tr th {\n",
       "        vertical-align: top;\n",
       "    }\n",
       "\n",
       "    .dataframe thead th {\n",
       "        text-align: right;\n",
       "    }\n",
       "</style>\n",
       "<table border=\"1\" class=\"dataframe\">\n",
       "  <thead>\n",
       "    <tr style=\"text-align: right;\">\n",
       "      <th></th>\n",
       "      <th>Agent_Number</th>\n",
       "      <th>Date_of_Appointment</th>\n",
       "      <th>Date_of_Termination</th>\n",
       "      <th>Commission_Class</th>\n",
       "      <th>Pay_Method</th>\n",
       "      <th>Pay_Frequency</th>\n",
       "      <th>Agent_Type</th>\n",
       "      <th>Agent_Branch_Code</th>\n",
       "      <th>Agent_Reporting_Level</th>\n",
       "      <th>Agent_Date_of_Birth</th>\n",
       "      <th>Agent_Gender</th>\n",
       "      <th>Number_of_Policies</th>\n",
       "      <th>Number_of_Claims</th>\n",
       "      <th>Total_Claim_Amount</th>\n",
       "      <th>Total_Payment_Amount</th>\n",
       "      <th>Total_Commission_Amount</th>\n",
       "      <th>Churn</th>\n",
       "    </tr>\n",
       "  </thead>\n",
       "  <tbody>\n",
       "    <tr>\n",
       "      <th>0</th>\n",
       "      <td>50001187</td>\n",
       "      <td>20150526</td>\n",
       "      <td>99999999</td>\n",
       "      <td>3</td>\n",
       "      <td>DC</td>\n",
       "      <td>12</td>\n",
       "      <td>AM</td>\n",
       "      <td>10</td>\n",
       "      <td>1</td>\n",
       "      <td>19910507</td>\n",
       "      <td>M</td>\n",
       "      <td>5</td>\n",
       "      <td>0</td>\n",
       "      <td>0.0</td>\n",
       "      <td>0.0</td>\n",
       "      <td>0.0</td>\n",
       "      <td>N</td>\n",
       "    </tr>\n",
       "    <tr>\n",
       "      <th>1</th>\n",
       "      <td>50002503</td>\n",
       "      <td>20151214</td>\n",
       "      <td>99999999</td>\n",
       "      <td>3</td>\n",
       "      <td>CQ</td>\n",
       "      <td>12</td>\n",
       "      <td>AG</td>\n",
       "      <td>10</td>\n",
       "      <td>1</td>\n",
       "      <td>19830404</td>\n",
       "      <td>M</td>\n",
       "      <td>4</td>\n",
       "      <td>0</td>\n",
       "      <td>0.0</td>\n",
       "      <td>0.0</td>\n",
       "      <td>0.0</td>\n",
       "      <td>N</td>\n",
       "    </tr>\n",
       "    <tr>\n",
       "      <th>2</th>\n",
       "      <td>50004847</td>\n",
       "      <td>20200101</td>\n",
       "      <td>99999999</td>\n",
       "      <td>3</td>\n",
       "      <td>CQ</td>\n",
       "      <td>12</td>\n",
       "      <td>BR</td>\n",
       "      <td>10</td>\n",
       "      <td>1</td>\n",
       "      <td>19800101</td>\n",
       "      <td>M</td>\n",
       "      <td>0</td>\n",
       "      <td>0</td>\n",
       "      <td>0.0</td>\n",
       "      <td>0.0</td>\n",
       "      <td>0.0</td>\n",
       "      <td>N</td>\n",
       "    </tr>\n",
       "    <tr>\n",
       "      <th>3</th>\n",
       "      <td>50040992</td>\n",
       "      <td>20230104</td>\n",
       "      <td>99999999</td>\n",
       "      <td>3</td>\n",
       "      <td>CQ</td>\n",
       "      <td>12</td>\n",
       "      <td>AG</td>\n",
       "      <td>10</td>\n",
       "      <td>1</td>\n",
       "      <td>19750101</td>\n",
       "      <td>M</td>\n",
       "      <td>1</td>\n",
       "      <td>0</td>\n",
       "      <td>0.0</td>\n",
       "      <td>0.0</td>\n",
       "      <td>0.0</td>\n",
       "      <td>N</td>\n",
       "    </tr>\n",
       "    <tr>\n",
       "      <th>4</th>\n",
       "      <td>50041143</td>\n",
       "      <td>20230101</td>\n",
       "      <td>99999999</td>\n",
       "      <td>2</td>\n",
       "      <td>CQ</td>\n",
       "      <td>12</td>\n",
       "      <td>AM</td>\n",
       "      <td>10</td>\n",
       "      <td>1</td>\n",
       "      <td>19880101</td>\n",
       "      <td>M</td>\n",
       "      <td>0</td>\n",
       "      <td>0</td>\n",
       "      <td>0.0</td>\n",
       "      <td>0.0</td>\n",
       "      <td>0.0</td>\n",
       "      <td>N</td>\n",
       "    </tr>\n",
       "  </tbody>\n",
       "</table>\n",
       "</div>"
      ],
      "text/plain": [
       "   Agent_Number  Date_of_Appointment  Date_of_Termination  Commission_Class  \\\n",
       "0      50001187             20150526             99999999                 3   \n",
       "1      50002503             20151214             99999999                 3   \n",
       "2      50004847             20200101             99999999                 3   \n",
       "3      50040992             20230104             99999999                 3   \n",
       "4      50041143             20230101             99999999                 2   \n",
       "\n",
       "  Pay_Method  Pay_Frequency Agent_Type  Agent_Branch_Code  \\\n",
       "0         DC             12         AM                 10   \n",
       "1         CQ             12         AG                 10   \n",
       "2         CQ             12         BR                 10   \n",
       "3         CQ             12         AG                 10   \n",
       "4         CQ             12         AM                 10   \n",
       "\n",
       "   Agent_Reporting_Level  Agent_Date_of_Birth Agent_Gender  \\\n",
       "0                      1             19910507            M   \n",
       "1                      1             19830404            M   \n",
       "2                      1             19800101            M   \n",
       "3                      1             19750101            M   \n",
       "4                      1             19880101            M   \n",
       "\n",
       "   Number_of_Policies  Number_of_Claims  Total_Claim_Amount  \\\n",
       "0                   5                 0                 0.0   \n",
       "1                   4                 0                 0.0   \n",
       "2                   0                 0                 0.0   \n",
       "3                   1                 0                 0.0   \n",
       "4                   0                 0                 0.0   \n",
       "\n",
       "   Total_Payment_Amount  Total_Commission_Amount Churn  \n",
       "0                   0.0                      0.0     N  \n",
       "1                   0.0                      0.0     N  \n",
       "2                   0.0                      0.0     N  \n",
       "3                   0.0                      0.0     N  \n",
       "4                   0.0                      0.0     N  "
      ]
     },
     "execution_count": 37,
     "metadata": {},
     "output_type": "execute_result"
    }
   ],
   "source": [
    "agent = pd.read_excel('agent_churn.xlsx')\n",
    "agent.head()"
   ]
  },
  {
   "cell_type": "code",
   "execution_count": 3,
   "metadata": {},
   "outputs": [
    {
     "data": {
      "text/html": [
       "<div>\n",
       "<style scoped>\n",
       "    .dataframe tbody tr th:only-of-type {\n",
       "        vertical-align: middle;\n",
       "    }\n",
       "\n",
       "    .dataframe tbody tr th {\n",
       "        vertical-align: top;\n",
       "    }\n",
       "\n",
       "    .dataframe thead th {\n",
       "        text-align: right;\n",
       "    }\n",
       "</style>\n",
       "<table border=\"1\" class=\"dataframe\">\n",
       "  <thead>\n",
       "    <tr style=\"text-align: right;\">\n",
       "      <th></th>\n",
       "      <th>Agent_Number</th>\n",
       "      <th>Date_of_Appointment</th>\n",
       "      <th>Date_of_Termination</th>\n",
       "      <th>Commission_Class</th>\n",
       "      <th>Pay_Frequency</th>\n",
       "      <th>Agent_Branch_Code</th>\n",
       "      <th>Agent_Reporting_Level</th>\n",
       "      <th>Agent_Date_of_Birth</th>\n",
       "      <th>Number_of_Policies</th>\n",
       "      <th>Number_of_Claims</th>\n",
       "      <th>Total_Claim_Amount</th>\n",
       "      <th>Total_Payment_Amount</th>\n",
       "      <th>Total_Commission_Amount</th>\n",
       "    </tr>\n",
       "  </thead>\n",
       "  <tbody>\n",
       "    <tr>\n",
       "      <th>count</th>\n",
       "      <td>3.631000e+03</td>\n",
       "      <td>3.631000e+03</td>\n",
       "      <td>3.631000e+03</td>\n",
       "      <td>3631.000000</td>\n",
       "      <td>3631.0</td>\n",
       "      <td>3631.0</td>\n",
       "      <td>3631.000000</td>\n",
       "      <td>3.631000e+03</td>\n",
       "      <td>3631.000000</td>\n",
       "      <td>3631.000000</td>\n",
       "      <td>3.631000e+03</td>\n",
       "      <td>3.631000e+03</td>\n",
       "      <td>3631.000000</td>\n",
       "    </tr>\n",
       "    <tr>\n",
       "      <th>mean</th>\n",
       "      <td>5.998641e+07</td>\n",
       "      <td>2.019452e+07</td>\n",
       "      <td>9.973627e+07</td>\n",
       "      <td>2.819884</td>\n",
       "      <td>12.0</td>\n",
       "      <td>10.0</td>\n",
       "      <td>1.021757</td>\n",
       "      <td>2.053830e+07</td>\n",
       "      <td>5.180391</td>\n",
       "      <td>0.323327</td>\n",
       "      <td>2.067411e+12</td>\n",
       "      <td>1.041836e+06</td>\n",
       "      <td>494.882473</td>\n",
       "    </tr>\n",
       "    <tr>\n",
       "      <th>std</th>\n",
       "      <td>4.054492e+05</td>\n",
       "      <td>2.271700e+04</td>\n",
       "      <td>4.580583e+06</td>\n",
       "      <td>0.500744</td>\n",
       "      <td>0.0</td>\n",
       "      <td>0.0</td>\n",
       "      <td>0.145910</td>\n",
       "      <td>7.494366e+06</td>\n",
       "      <td>38.068030</td>\n",
       "      <td>2.033359</td>\n",
       "      <td>3.908566e+13</td>\n",
       "      <td>4.175273e+07</td>\n",
       "      <td>14315.155370</td>\n",
       "    </tr>\n",
       "    <tr>\n",
       "      <th>min</th>\n",
       "      <td>5.000119e+07</td>\n",
       "      <td>1.992010e+07</td>\n",
       "      <td>2.016010e+07</td>\n",
       "      <td>1.000000</td>\n",
       "      <td>12.0</td>\n",
       "      <td>10.0</td>\n",
       "      <td>1.000000</td>\n",
       "      <td>1.900010e+07</td>\n",
       "      <td>0.000000</td>\n",
       "      <td>0.000000</td>\n",
       "      <td>0.000000e+00</td>\n",
       "      <td>0.000000e+00</td>\n",
       "      <td>0.000000</td>\n",
       "    </tr>\n",
       "    <tr>\n",
       "      <th>25%</th>\n",
       "      <td>6.000198e+07</td>\n",
       "      <td>2.020010e+07</td>\n",
       "      <td>1.000000e+08</td>\n",
       "      <td>3.000000</td>\n",
       "      <td>12.0</td>\n",
       "      <td>10.0</td>\n",
       "      <td>1.000000</td>\n",
       "      <td>1.980010e+07</td>\n",
       "      <td>0.000000</td>\n",
       "      <td>0.000000</td>\n",
       "      <td>0.000000e+00</td>\n",
       "      <td>0.000000e+00</td>\n",
       "      <td>0.000000</td>\n",
       "    </tr>\n",
       "    <tr>\n",
       "      <th>50%</th>\n",
       "      <td>6.000289e+07</td>\n",
       "      <td>2.020010e+07</td>\n",
       "      <td>1.000000e+08</td>\n",
       "      <td>3.000000</td>\n",
       "      <td>12.0</td>\n",
       "      <td>10.0</td>\n",
       "      <td>1.000000</td>\n",
       "      <td>1.980010e+07</td>\n",
       "      <td>0.000000</td>\n",
       "      <td>0.000000</td>\n",
       "      <td>0.000000e+00</td>\n",
       "      <td>0.000000e+00</td>\n",
       "      <td>0.000000</td>\n",
       "    </tr>\n",
       "    <tr>\n",
       "      <th>75%</th>\n",
       "      <td>6.000382e+07</td>\n",
       "      <td>2.020010e+07</td>\n",
       "      <td>1.000000e+08</td>\n",
       "      <td>3.000000</td>\n",
       "      <td>12.0</td>\n",
       "      <td>10.0</td>\n",
       "      <td>1.000000</td>\n",
       "      <td>1.980010e+07</td>\n",
       "      <td>2.000000</td>\n",
       "      <td>0.000000</td>\n",
       "      <td>0.000000e+00</td>\n",
       "      <td>0.000000e+00</td>\n",
       "      <td>0.000000</td>\n",
       "    </tr>\n",
       "    <tr>\n",
       "      <th>max</th>\n",
       "      <td>6.000474e+07</td>\n",
       "      <td>2.032010e+07</td>\n",
       "      <td>1.000000e+08</td>\n",
       "      <td>3.000000</td>\n",
       "      <td>12.0</td>\n",
       "      <td>10.0</td>\n",
       "      <td>2.000000</td>\n",
       "      <td>1.000000e+08</td>\n",
       "      <td>1117.000000</td>\n",
       "      <td>63.000000</td>\n",
       "      <td>1.249980e+15</td>\n",
       "      <td>2.298660e+09</td>\n",
       "      <td>841000.000000</td>\n",
       "    </tr>\n",
       "  </tbody>\n",
       "</table>\n",
       "</div>"
      ],
      "text/plain": [
       "       Agent_Number  Date_of_Appointment  Date_of_Termination  \\\n",
       "count  3.631000e+03         3.631000e+03         3.631000e+03   \n",
       "mean   5.998641e+07         2.019452e+07         9.973627e+07   \n",
       "std    4.054492e+05         2.271700e+04         4.580583e+06   \n",
       "min    5.000119e+07         1.992010e+07         2.016010e+07   \n",
       "25%    6.000198e+07         2.020010e+07         1.000000e+08   \n",
       "50%    6.000289e+07         2.020010e+07         1.000000e+08   \n",
       "75%    6.000382e+07         2.020010e+07         1.000000e+08   \n",
       "max    6.000474e+07         2.032010e+07         1.000000e+08   \n",
       "\n",
       "       Commission_Class  Pay_Frequency  Agent_Branch_Code  \\\n",
       "count       3631.000000         3631.0             3631.0   \n",
       "mean           2.819884           12.0               10.0   \n",
       "std            0.500744            0.0                0.0   \n",
       "min            1.000000           12.0               10.0   \n",
       "25%            3.000000           12.0               10.0   \n",
       "50%            3.000000           12.0               10.0   \n",
       "75%            3.000000           12.0               10.0   \n",
       "max            3.000000           12.0               10.0   \n",
       "\n",
       "       Agent_Reporting_Level  Agent_Date_of_Birth  Number_of_Policies  \\\n",
       "count            3631.000000         3.631000e+03         3631.000000   \n",
       "mean                1.021757         2.053830e+07            5.180391   \n",
       "std                 0.145910         7.494366e+06           38.068030   \n",
       "min                 1.000000         1.900010e+07            0.000000   \n",
       "25%                 1.000000         1.980010e+07            0.000000   \n",
       "50%                 1.000000         1.980010e+07            0.000000   \n",
       "75%                 1.000000         1.980010e+07            2.000000   \n",
       "max                 2.000000         1.000000e+08         1117.000000   \n",
       "\n",
       "       Number_of_Claims  Total_Claim_Amount  Total_Payment_Amount  \\\n",
       "count       3631.000000        3.631000e+03          3.631000e+03   \n",
       "mean           0.323327        2.067411e+12          1.041836e+06   \n",
       "std            2.033359        3.908566e+13          4.175273e+07   \n",
       "min            0.000000        0.000000e+00          0.000000e+00   \n",
       "25%            0.000000        0.000000e+00          0.000000e+00   \n",
       "50%            0.000000        0.000000e+00          0.000000e+00   \n",
       "75%            0.000000        0.000000e+00          0.000000e+00   \n",
       "max           63.000000        1.249980e+15          2.298660e+09   \n",
       "\n",
       "       Total_Commission_Amount  \n",
       "count              3631.000000  \n",
       "mean                494.882473  \n",
       "std               14315.155370  \n",
       "min                   0.000000  \n",
       "25%                   0.000000  \n",
       "50%                   0.000000  \n",
       "75%                   0.000000  \n",
       "max              841000.000000  "
      ]
     },
     "execution_count": 3,
     "metadata": {},
     "output_type": "execute_result"
    }
   ],
   "source": [
    "agent.describe()"
   ]
  },
  {
   "cell_type": "code",
   "execution_count": 4,
   "metadata": {},
   "outputs": [
    {
     "data": {
      "text/plain": [
       "Index(['Agent_Number', 'Date_of_Appointment', 'Date_of_Termination',\n",
       "       'Commission_Class', 'Pay_Method', 'Pay_Frequency', 'Agent_Type',\n",
       "       'Agent_Branch_Code', 'Agent_Reporting_Level', 'Agent_Date_of_Birth',\n",
       "       'Agent_Gender', 'Number_of_Policies', 'Number_of_Claims',\n",
       "       'Total_Claim_Amount', 'Total_Payment_Amount', 'Total_Commission_Amount',\n",
       "       'Churn'],\n",
       "      dtype='object')"
      ]
     },
     "execution_count": 4,
     "metadata": {},
     "output_type": "execute_result"
    }
   ],
   "source": [
    "agent.columns"
   ]
  },
  {
   "cell_type": "code",
   "execution_count": 5,
   "metadata": {},
   "outputs": [
    {
     "data": {
      "text/plain": [
       "(3631, 17)"
      ]
     },
     "execution_count": 5,
     "metadata": {},
     "output_type": "execute_result"
    }
   ],
   "source": [
    "agent.shape"
   ]
  },
  {
   "cell_type": "code",
   "execution_count": 6,
   "metadata": {},
   "outputs": [
    {
     "name": "stdout",
     "output_type": "stream",
     "text": [
      "<class 'pandas.core.frame.DataFrame'>\n",
      "RangeIndex: 3631 entries, 0 to 3630\n",
      "Data columns (total 17 columns):\n",
      "Agent_Number               3631 non-null int64\n",
      "Date_of_Appointment        3631 non-null int64\n",
      "Date_of_Termination        3631 non-null int64\n",
      "Commission_Class           3631 non-null int64\n",
      "Pay_Method                 3631 non-null object\n",
      "Pay_Frequency              3631 non-null int64\n",
      "Agent_Type                 3631 non-null object\n",
      "Agent_Branch_Code          3631 non-null int64\n",
      "Agent_Reporting_Level      3631 non-null int64\n",
      "Agent_Date_of_Birth        3631 non-null int64\n",
      "Agent_Gender               3631 non-null object\n",
      "Number_of_Policies         3631 non-null int64\n",
      "Number_of_Claims           3631 non-null int64\n",
      "Total_Claim_Amount         3631 non-null float64\n",
      "Total_Payment_Amount       3631 non-null float64\n",
      "Total_Commission_Amount    3631 non-null float64\n",
      "Churn                      3631 non-null object\n",
      "dtypes: float64(3), int64(10), object(4)\n",
      "memory usage: 482.3+ KB\n"
     ]
    }
   ],
   "source": [
    "agent.info()"
   ]
  },
  {
   "cell_type": "code",
   "execution_count": 7,
   "metadata": {},
   "outputs": [
    {
     "data": {
      "text/plain": [
       "array([3, 2, 1], dtype=int64)"
      ]
     },
     "execution_count": 7,
     "metadata": {},
     "output_type": "execute_result"
    }
   ],
   "source": [
    "agent['Commission_Class'].unique()"
   ]
  },
  {
   "cell_type": "code",
   "execution_count": 8,
   "metadata": {},
   "outputs": [
    {
     "data": {
      "text/plain": [
       "array([1, 2], dtype=int64)"
      ]
     },
     "execution_count": 8,
     "metadata": {},
     "output_type": "execute_result"
    }
   ],
   "source": [
    "agent['Agent_Reporting_Level'].unique()"
   ]
  },
  {
   "cell_type": "code",
   "execution_count": 9,
   "metadata": {},
   "outputs": [
    {
     "data": {
      "text/plain": [
       "array(['AM', 'AG', 'BR', 'BM', 'UM', 'SM', 0, 'GM', 'DM', 'BA', 'CR',\n",
       "       'AR', 7], dtype=object)"
      ]
     },
     "execution_count": 9,
     "metadata": {},
     "output_type": "execute_result"
    }
   ],
   "source": [
    "agent['Agent_Type'].unique()"
   ]
  },
  {
   "cell_type": "code",
   "execution_count": 10,
   "metadata": {},
   "outputs": [
    {
     "data": {
      "text/plain": [
       "array([12], dtype=int64)"
      ]
     },
     "execution_count": 10,
     "metadata": {},
     "output_type": "execute_result"
    }
   ],
   "source": [
    "agent['Pay_Frequency'].unique()"
   ]
  },
  {
   "cell_type": "code",
   "execution_count": 11,
   "metadata": {},
   "outputs": [
    {
     "data": {
      "text/plain": [
       "array(['DC', 'CQ'], dtype=object)"
      ]
     },
     "execution_count": 11,
     "metadata": {},
     "output_type": "execute_result"
    }
   ],
   "source": [
    "agent['Pay_Method'].unique()"
   ]
  },
  {
   "cell_type": "code",
   "execution_count": 12,
   "metadata": {},
   "outputs": [
    {
     "data": {
      "text/plain": [
       "M    3287\n",
       "      201\n",
       "F     143\n",
       "Name: Agent_Gender, dtype: int64"
      ]
     },
     "execution_count": 12,
     "metadata": {},
     "output_type": "execute_result"
    }
   ],
   "source": [
    "agent['Agent_Gender'].value_counts()"
   ]
  },
  {
   "cell_type": "code",
   "execution_count": 13,
   "metadata": {},
   "outputs": [
    {
     "data": {
      "text/plain": [
       "Agent_Number                  0\n",
       "Date_of_Appointment           0\n",
       "Date_of_Termination        3619\n",
       "Commission_Class              0\n",
       "Pay_Method                    0\n",
       "Pay_Frequency                 0\n",
       "Agent_Type                    0\n",
       "Agent_Branch_Code             0\n",
       "Agent_Reporting_Level         0\n",
       "Agent_Date_of_Birth          32\n",
       "Agent_Gender                  0\n",
       "Number_of_Policies            0\n",
       "Number_of_Claims              0\n",
       "Total_Claim_Amount            0\n",
       "Total_Payment_Amount          0\n",
       "Total_Commission_Amount       0\n",
       "Churn                         0\n",
       "dtype: int64"
      ]
     },
     "execution_count": 13,
     "metadata": {},
     "output_type": "execute_result"
    }
   ],
   "source": [
    "agent[agent == 99999999].count()"
   ]
  },
  {
   "cell_type": "code",
   "execution_count": 14,
   "metadata": {},
   "outputs": [],
   "source": [
    "#calculateAge \n",
    "from datetime import datetime\n",
    "from datetime import date\n",
    "\n",
    "def calculateAge(birthDate): \n",
    "    today = date.today() \n",
    "    age = today.year - birthDate.year - ((today.month, today.day) < (birthDate.month, birthDate.day)) \n",
    "    return age \n",
    "      \n",
    "# Driver code  \n",
    "#print(calculateAge(date(199723)), \"years\") \n",
    "#agent(age) = calculateAge(agent['Agent Date of Birth'])\n",
    "\n",
    "#agent['age'] = agent['Agent Date of Birth'].apply(calculateAge)"
   ]
  },
  {
   "cell_type": "code",
   "execution_count": 15,
   "metadata": {},
   "outputs": [],
   "source": [
    "#int2date is the date format function to convert from yyyymmdd to yyyy-mm-dd\n",
    "from datetime import date\n",
    "\n",
    "def int2date(argdate: int) -> date:\n",
    "    year = int(argdate / 10000)\n",
    "    month = int((argdate % 10000) / 100)\n",
    "    day = int(argdate % 100)\n",
    "\n",
    "    return date(year, month, day)\n",
    "\n",
    "\n"
   ]
  },
  {
   "cell_type": "code",
   "execution_count": 38,
   "metadata": {},
   "outputs": [
    {
     "name": "stdout",
     "output_type": "stream",
     "text": [
      "DOA shape (3631,)\n",
      "0    20150526\n",
      "1    20151214\n",
      "2    20200101\n",
      "3    20230104\n",
      "4    20230101\n",
      "Name: Date_of_Appointment, dtype: int64\n",
      "modDOA shape (3631,)\n",
      "0    2015-05-26\n",
      "1    2015-12-14\n",
      "2    2020-01-01\n",
      "3    2023-01-04\n",
      "4    2023-01-01\n",
      "Name: Date_of_Appointment, dtype: object\n"
     ]
    }
   ],
   "source": [
    "#Date of Appointment\n",
    "DOA = agent['Date_of_Appointment']\n",
    "print('DOA shape' , DOA.shape)\n",
    "print(DOA.head())\n",
    "\n",
    "modDOA = DOA.apply(int2date)\n",
    "print('modDOA shape' , modDOA.shape)\n",
    "print(modDOA.head())\n"
   ]
  },
  {
   "cell_type": "code",
   "execution_count": 39,
   "metadata": {},
   "outputs": [
    {
     "name": "stdout",
     "output_type": "stream",
     "text": [
      "DOT shape (3631,)\n",
      "0    99999999\n",
      "1    99999999\n",
      "2    99999999\n",
      "3    99999999\n",
      "4    99999999\n",
      "5    99999999\n",
      "6    99999999\n",
      "7    99999999\n",
      "8    99999999\n",
      "9    99999999\n",
      "Name: Date_of_Termination, dtype: int64\n"
     ]
    },
    {
     "data": {
      "text/plain": [
       "0    20200415\n",
       "1    20200415\n",
       "2    20200415\n",
       "3    20200415\n",
       "4    20200415\n",
       "5    20200415\n",
       "6    20200415\n",
       "7    20200415\n",
       "8    20200415\n",
       "9    20200415\n",
       "Name: Date_of_Termination, dtype: object"
      ]
     },
     "execution_count": 39,
     "metadata": {},
     "output_type": "execute_result"
    }
   ],
   "source": [
    "#yes\n",
    "#Date of Termination\n",
    "DOT = agent['Date_of_Termination']\n",
    "print('DOT shape' , DOT.shape)\n",
    "print(DOT.head(10))\n",
    "\n",
    "DOT.replace({99999999 : datetime.today().strftime('%Y%m%d')}, inplace=True)\n",
    "\n",
    "#if (DOT == 99999999) :\n",
    "#        DOT.replace({99999999 : -1}, inplace=True)\n",
    "#else :\n",
    "#    DOT = DOT.apply(int2date)    \n",
    "    \n",
    "        \n",
    "#DOT.replace({99999999 : -1}, inplace=True)\n",
    "#DOT = DOT.apply(int2date)\n",
    "DOT.head(10)\n",
    "\n",
    "#modDOT = DOT.apply(int2date)\n",
    "#print('modDOT shape' , modDOT.shape)\n",
    "#print(modDOT.head())\n"
   ]
  },
  {
   "cell_type": "code",
   "execution_count": 40,
   "metadata": {},
   "outputs": [
    {
     "data": {
      "text/plain": [
       "array(['20200415', 20200101, 20210201, 20170101, 20160101, 20210101,\n",
       "       20220122, 20200131, 20230101], dtype=object)"
      ]
     },
     "execution_count": 40,
     "metadata": {},
     "output_type": "execute_result"
    }
   ],
   "source": [
    "DOT.unique()"
   ]
  },
  {
   "cell_type": "code",
   "execution_count": 41,
   "metadata": {},
   "outputs": [
    {
     "data": {
      "text/plain": [
       "0    20200415\n",
       "1    20200415\n",
       "2    20200415\n",
       "3    20200415\n",
       "4    20200415\n",
       "5    20200415\n",
       "6    20200415\n",
       "7    20200415\n",
       "8    20200415\n",
       "9    20200415\n",
       "Name: Date_of_Termination, dtype: int32"
      ]
     },
     "execution_count": 41,
     "metadata": {},
     "output_type": "execute_result"
    }
   ],
   "source": [
    "#yes\n",
    "# df['purchase'].astype(str).astype(int)\n",
    "#train['C14'] = train.C14.astype(int)\n",
    "#\n",
    "DOT = DOT.astype(int)\n",
    "DOT.head(10)"
   ]
  },
  {
   "cell_type": "code",
   "execution_count": 43,
   "metadata": {},
   "outputs": [
    {
     "data": {
      "text/plain": [
       "0    2020-04-15\n",
       "1    2020-04-15\n",
       "2    2020-04-15\n",
       "3    2020-04-15\n",
       "4    2020-04-15\n",
       "Name: Date_of_Termination, dtype: object"
      ]
     },
     "execution_count": 43,
     "metadata": {},
     "output_type": "execute_result"
    }
   ],
   "source": [
    "#yes\n",
    "modDOT = DOT.apply(int2date)  \n",
    "modDOT.head()"
   ]
  },
  {
   "cell_type": "code",
   "execution_count": 21,
   "metadata": {},
   "outputs": [
    {
     "data": {
      "text/plain": [
       "array([datetime.date(2020, 4, 15), datetime.date(2020, 1, 1),\n",
       "       datetime.date(2021, 2, 1), datetime.date(2017, 1, 1),\n",
       "       datetime.date(2016, 1, 1), datetime.date(2021, 1, 1),\n",
       "       datetime.date(2022, 1, 22), datetime.date(2020, 1, 31),\n",
       "       datetime.date(2023, 1, 1)], dtype=object)"
      ]
     },
     "execution_count": 21,
     "metadata": {},
     "output_type": "execute_result"
    }
   ],
   "source": [
    "modDOT.unique()"
   ]
  },
  {
   "cell_type": "code",
   "execution_count": 22,
   "metadata": {},
   "outputs": [
    {
     "data": {
      "text/plain": [
       "2020-04-15    3619\n",
       "2020-01-01       5\n",
       "2021-02-01       1\n",
       "2023-01-01       1\n",
       "2017-01-01       1\n",
       "2020-01-31       1\n",
       "2021-01-01       1\n",
       "2022-01-22       1\n",
       "2016-01-01       1\n",
       "Name: Date_of_Termination, dtype: int64"
      ]
     },
     "execution_count": 22,
     "metadata": {},
     "output_type": "execute_result"
    }
   ],
   "source": [
    "#to verify 3619 2020-04-14 (current date) is present\n",
    "modDOT.value_counts()"
   ]
  },
  {
   "cell_type": "code",
   "execution_count": 52,
   "metadata": {},
   "outputs": [
    {
     "ename": "TypeError",
     "evalue": "'Series' object is not callable",
     "output_type": "error",
     "traceback": [
      "\u001b[1;31m---------------------------------------------------------------------------\u001b[0m",
      "\u001b[1;31mTypeError\u001b[0m                                 Traceback (most recent call last)",
      "\u001b[1;32m<ipython-input-52-14b18c334758>\u001b[0m in \u001b[0;36m<module>\u001b[1;34m\u001b[0m\n\u001b[0;32m      2\u001b[0m \u001b[1;31m# modDOT - modDOA\u001b[0m\u001b[1;33m\u001b[0m\u001b[1;33m\u001b[0m\u001b[1;33m\u001b[0m\u001b[0m\n\u001b[0;32m      3\u001b[0m \u001b[1;31m#Active_duration = (modDOT - modDOA)\u001b[0m\u001b[1;33m\u001b[0m\u001b[1;33m\u001b[0m\u001b[1;33m\u001b[0m\u001b[0m\n\u001b[1;32m----> 4\u001b[1;33m \u001b[0mActive_duration\u001b[0m \u001b[1;33m=\u001b[0m \u001b[1;33m(\u001b[0m\u001b[0mmodDOT\u001b[0m\u001b[1;33m(\u001b[0m\u001b[1;34m'%Y'\u001b[0m\u001b[1;33m)\u001b[0m \u001b[1;33m-\u001b[0m \u001b[0mmodDOA\u001b[0m\u001b[1;33m(\u001b[0m\u001b[1;34m'%Y'\u001b[0m\u001b[1;33m)\u001b[0m\u001b[1;33m)\u001b[0m\u001b[1;33m\u001b[0m\u001b[1;33m\u001b[0m\u001b[0m\n\u001b[0m\u001b[0;32m      5\u001b[0m \u001b[0mActive_duration\u001b[0m\u001b[1;33m\u001b[0m\u001b[1;33m\u001b[0m\u001b[0m\n",
      "\u001b[1;31mTypeError\u001b[0m: 'Series' object is not callable"
     ]
    }
   ],
   "source": [
    "#Active agent duration - lenght\n",
    "# modDOT - modDOA\n",
    "#Active_duration = (modDOT - modDOA) \n",
    "Active_duration = (modDOT('%Y') - modDOA('%Y')) \n",
    "Active_duration"
   ]
  },
  {
   "cell_type": "code",
   "execution_count": null,
   "metadata": {},
   "outputs": [],
   "source": [
    "\n",
    "\n"
   ]
  },
  {
   "cell_type": "code",
   "execution_count": null,
   "metadata": {},
   "outputs": [],
   "source": []
  },
  {
   "cell_type": "code",
   "execution_count": null,
   "metadata": {},
   "outputs": [],
   "source": []
  },
  {
   "cell_type": "code",
   "execution_count": 23,
   "metadata": {},
   "outputs": [
    {
     "name": "stdout",
     "output_type": "stream",
     "text": [
      "DOB shape (3631,)\n",
      "0    19910507\n",
      "1    19830404\n",
      "2    19800101\n",
      "3    19750101\n",
      "4    19880101\n",
      "5    19880101\n",
      "6    19850101\n",
      "7    99999999\n",
      "8    19860101\n",
      "9    19910507\n",
      "Name: Agent_Date_of_Birth, dtype: int64\n"
     ]
    }
   ],
   "source": [
    "#Agent Date of Birth\n",
    "DOB = agent['Agent_Date_of_Birth']\n",
    "print('DOB shape' , DOB.shape)\n",
    "print(DOB.head(10))"
   ]
  },
  {
   "cell_type": "code",
   "execution_count": 24,
   "metadata": {},
   "outputs": [
    {
     "name": "stdout",
     "output_type": "stream",
     "text": [
      "0    19910507\n",
      "1    19830404\n",
      "2    19800101\n",
      "3    19750101\n",
      "4    19880101\n",
      "5    19880101\n",
      "6    19850101\n",
      "7    11111111\n",
      "8    19860101\n",
      "9    19910507\n",
      "Name: Agent_Date_of_Birth, dtype: int64\n"
     ]
    },
    {
     "data": {
      "text/plain": [
       "0    1991-05-07\n",
       "1    1983-04-04\n",
       "2    1980-01-01\n",
       "3    1975-01-01\n",
       "4    1988-01-01\n",
       "5    1988-01-01\n",
       "6    1985-01-01\n",
       "7    1111-11-11\n",
       "8    1986-01-01\n",
       "9    1991-05-07\n",
       "Name: Agent_Date_of_Birth, dtype: object"
      ]
     },
     "execution_count": 24,
     "metadata": {},
     "output_type": "execute_result"
    }
   ],
   "source": [
    "DOB.replace({99999999 : 11111111}, inplace=True)\n",
    "print(DOB.head(10))\n",
    "#\n",
    "modDOB = DOB.apply(int2date)\n",
    "modDOB.head(10)"
   ]
  },
  {
   "cell_type": "code",
   "execution_count": 25,
   "metadata": {},
   "outputs": [
    {
     "data": {
      "text/plain": [
       "1980-01-01    2767\n",
       "2018-02-01     154\n",
       "1992-01-01      64\n",
       "1990-01-01      56\n",
       "1984-12-07      53\n",
       "2002-01-01      49\n",
       "1975-01-01      40\n",
       "1975-06-01      38\n",
       "1988-01-01      38\n",
       "1111-11-11      32\n",
       "1985-01-01      24\n",
       "1981-01-01      22\n",
       "1998-01-07      16\n",
       "2020-01-01      15\n",
       "1993-01-07      12\n",
       "2003-01-07      11\n",
       "1986-01-01       9\n",
       "1995-01-01       8\n",
       "1965-01-01       8\n",
       "1993-01-01       8\n",
       "1987-01-01       7\n",
       "1982-01-01       7\n",
       "1985-07-15       7\n",
       "1995-12-01       7\n",
       "1994-06-14       7\n",
       "1989-01-01       6\n",
       "2000-01-01       6\n",
       "1960-01-01       5\n",
       "1983-05-26       5\n",
       "1975-02-02       5\n",
       "              ... \n",
       "2020-07-01       1\n",
       "1993-01-05       1\n",
       "1988-05-13       1\n",
       "1964-06-10       1\n",
       "1990-02-01       1\n",
       "1993-07-01       1\n",
       "1980-02-05       1\n",
       "1983-01-01       1\n",
       "2003-07-02       1\n",
       "1985-12-28       1\n",
       "1988-05-14       1\n",
       "1980-02-06       1\n",
       "1988-05-06       1\n",
       "2017-01-01       1\n",
       "1996-10-01       1\n",
       "1987-08-16       1\n",
       "1992-07-15       1\n",
       "1989-11-18       1\n",
       "1988-06-01       1\n",
       "1990-05-05       1\n",
       "1973-02-02       1\n",
       "2015-11-24       1\n",
       "1988-03-15       1\n",
       "1993-01-14       1\n",
       "1980-01-02       1\n",
       "2021-01-02       1\n",
       "1990-02-10       1\n",
       "1989-11-11       1\n",
       "1984-07-12       1\n",
       "1987-06-04       1\n",
       "Name: Agent_Date_of_Birth, Length: 143, dtype: int64"
      ]
     },
     "execution_count": 25,
     "metadata": {},
     "output_type": "execute_result"
    }
   ],
   "source": [
    "#to verify 32 rows of 1111-11-11 is present\n",
    "modDOB.value_counts()"
   ]
  },
  {
   "cell_type": "code",
   "execution_count": 34,
   "metadata": {},
   "outputs": [],
   "source": [
    "from datetime import date\n",
    "\n",
    "def calculate_age(dtob):\n",
    "    today = date.today()\n",
    "    return today.year - dtob.year - ((today.month, today.day) < (dtob.month, dtob.day))\n",
    "#print()\n",
    "#print(calculate_age(date(2006,10,12)))\n",
    "#print(calculate_age(date(1989,1,12)))\n",
    "#print()\n",
    "\n",
    "calculate_age(date(modDOB))"
   ]
  },
  {
   "cell_type": "code",
   "execution_count": 44,
   "metadata": {},
   "outputs": [],
   "source": [
    "from dateutil.relativedelta import relativedelta\n",
    "rdelta = relativedelta(now, birthdate)\n",
    "#print 'Age in years - ', rdelta.years\n",
    "#print 'Age in months - ', rdelta.months\n",
    "#print 'Age in days - ', rdelta.days\n"
   ]
  },
  {
   "cell_type": "code",
   "execution_count": null,
   "metadata": {},
   "outputs": [],
   "source": []
  },
  {
   "cell_type": "code",
   "execution_count": null,
   "metadata": {},
   "outputs": [],
   "source": []
  }
 ],
 "metadata": {
  "kernelspec": {
   "display_name": "Python 3",
   "language": "python",
   "name": "python3"
  },
  "language_info": {
   "codemirror_mode": {
    "name": "ipython",
    "version": 3
   },
   "file_extension": ".py",
   "mimetype": "text/x-python",
   "name": "python",
   "nbconvert_exporter": "python",
   "pygments_lexer": "ipython3",
   "version": "3.7.3"
  }
 },
 "nbformat": 4,
 "nbformat_minor": 2
}
