{
 "cells": [
  {
   "cell_type": "markdown",
   "metadata": {},
   "source": [
    "## Agent Churn Prediction\n",
    "## Data used for analysis is based on Integral P&C Admin System"
   ]
  },
  {
   "cell_type": "markdown",
   "metadata": {},
   "source": [
    "### The SQL query in below cells will retreive data based on database credentials provide. Right now these credentials have been left empty for security reasons. Please enter relevant details before running this notebook further."
   ]
  },
  {
   "cell_type": "code",
   "execution_count": 1,
   "metadata": {},
   "outputs": [
    {
     "name": "stderr",
     "output_type": "stream",
     "text": [
      "C:\\Users\\sisense_admin\\.conda\\envs\\pnc_agent_churn\\lib\\site-packages\\sklearn\\externals\\joblib\\__init__.py:15: FutureWarning: sklearn.externals.joblib is deprecated in 0.21 and will be removed in 0.23. Please import this functionality directly from joblib, which can be installed with: pip install joblib. If this warning is raised when loading pickled models, you may need to re-serialize those models with scikit-learn 0.21+.\n",
      "  warnings.warn(msg, category=FutureWarning)\n"
     ]
    }
   ],
   "source": [
    "# Import Packages\n",
    "import numpy as np\n",
    "import pandas as pd\n",
    "import pyodbc\n",
    "\n",
    "# Get Current time\n",
    "import datetime \n",
    "\n",
    "# For Graphics\n",
    "import matplotlib as matplotlib\n",
    "import matplotlib.pyplot as plt\n",
    "import seaborn as sns\n",
    "\n",
    "# For splitting data into test and train subsets\n",
    "from sklearn.model_selection import train_test_split, RepeatedStratifiedKFold, GridSearchCV\n",
    "\n",
    "# For logistic regression\n",
    "from sklearn.linear_model import LogisticRegression\n",
    "\n",
    "# For saving the model\n",
    "from sklearn.externals import joblib \n",
    "\n",
    "# For Confusion Matrix\n",
    "from sklearn import metrics\n",
    "\n",
    "# For ROC Curve\n",
    "from sklearn.metrics import roc_auc_score, roc_curve\n",
    "\n",
    "# For Normalization\n",
    "from sklearn.preprocessing import MinMaxScaler\n",
    "\n",
    "# For Feature Selection\n",
    "from sklearn.feature_selection import SelectKBest, chi2\n",
    "\n",
    "# Settings to view all columns and rows\n",
    "pd.set_option('display.max_rows', 1000)\n",
    "pd.set_option('display.max_columns', 1000)"
   ]
  },
  {
   "cell_type": "markdown",
   "metadata": {},
   "source": [
    "## Import Data"
   ]
  },
  {
   "cell_type": "code",
   "execution_count": 2,
   "metadata": {},
   "outputs": [],
   "source": [
    "# Enter ip address and port number of the system where the database resides.\n",
    "server = '172.31.20.94'\n",
    "database = 'INT77DB2014_PNC' \n",
    "username = 'sisensedb_user'\n",
    "password = 'Sisense12#$' "
   ]
  },
  {
   "cell_type": "code",
   "execution_count": 3,
   "metadata": {},
   "outputs": [],
   "source": [
    "# Add appropriate driver name\n",
    "cnxn = pyodbc.connect('DRIVER={SQL Server};SERVER='+server+';DATABASE='+database+';UID='+username+';PWD='+ password)\n",
    "cursor = cnxn.cursor()"
   ]
  },
  {
   "cell_type": "code",
   "execution_count": 4,
   "metadata": {},
   "outputs": [],
   "source": [
    "# Run Query\n",
    "query = '''\n",
    "select \n",
    "q1.agntnum\t\t\t\tas 'Agent_Number',\n",
    "q1.srdate\t\t\t\tas 'Date_of_Appointment',\n",
    "case\n",
    "when\n",
    "q1.dateend = '99999999'\n",
    "then \n",
    "''\n",
    "else\n",
    "cast(q1.dateend as varchar)\n",
    "end\t\t\t\t\t\tas 'Date_of_Termination',\n",
    "q1.agtype\t\t\t\tas 'Agent_Type',\n",
    "q1.agntbr\t\t\t\tas 'Agent_Branch_Code',\n",
    "q1.replvl\t\t\t\tas 'Agent_Reporting_Level',\n",
    "q1.stca\t\t\t\t\tas 'Territory',\n",
    "q1.stcb\t\t\t\t\tas 'Source',\n",
    "q1.stcc\t\t\t\t\tas 'Major_Class',\n",
    "q1.stcd\t\t\t\t\tas 'Statistical_Code',\n",
    "q1.stce\t\t\t\t\tas 'Distribution_Channel',\n",
    "q1.prodctcatg\t\t\tas 'Product_Category',\n",
    "isnull(q1.crlimit,0)\tas 'Credit_Limit',\n",
    "q1.stlbasis\t\t\t\tas 'Settlement_Basis',\n",
    "q1.arcon\t\t\t\tas 'Reconciliation',\n",
    "\n",
    "case\n",
    "when \n",
    "q2.cltdob = '99999999'\n",
    "then \n",
    "''\n",
    "else\n",
    "cast (q2.cltdob as varchar)\n",
    "end\t\t\t\t\t\t\t\t\tas 'Agent_Date_of_Birth',\n",
    "q2.cltsex\t\t\t\t\t\t\tas 'Agent_Gender',\n",
    "isnull(q3.policies,0)\t\t\t\tas 'Number_of_Policies',\n",
    "isnull(q4.claims,0)\t\t\t\t\tas 'Number_of_Claims',\n",
    "isnull(abs(q5.claim_payment),0)\t\tas 'Total_Claim_Paid_Amount',\n",
    "isnull(q6.commission,0)\t\t\t\tas 'Total_Commission_Amount',\n",
    "case\n",
    "when\n",
    "q1.dateend = 99999999\n",
    "then \n",
    "0\n",
    "else\n",
    "1\n",
    "end\n",
    "\t\t\t\t\t\tas 'Churn'\n",
    "\n",
    "from \n",
    "(select agntcoy, agntnum, clntnum, agtype, agntbr, replvl, srdate, dateend, stca, stcb, stcc, stcd, stce, prodctcatg, crlimit, stlbasis, arcon\n",
    "from vm1dta.agntpf where agntcoy='1' and agntnum not in ('1','.')) q1\n",
    "inner join \n",
    "(select * from vm1dta.clntpf where validflag='1') q2\n",
    "on q2.clntnum = q1.clntnum\n",
    "left outer join\n",
    "(select agntnum, count(distinct chdrnum) as policies from vm1dta.chdrpf where chdrcoy = '1' group by agntnum )q3\n",
    "on q3.agntnum = q1.agntnum\n",
    "left outer join \n",
    "(select agntnum, count(distinct claim) as claims from vm1dta.clampf where clmcoy = '1' group by agntnum)q4\n",
    "on q4.agntnum = q1.agntnum\n",
    "left outer join \n",
    "(select agntnum, sum(paid) as claim_payment from vm1dta.clampf where clmcoy = '1' group by agntnum)q5\n",
    "on q5.agntnum = q1.agntnum\n",
    "left outer join \n",
    "(select acnum, sum(tranamt04) as commission from vm1dta.ztrnpf where batccoy = '1' group by acnum)q6\n",
    "on q6.acnum = q1.agntnum\n",
    "\n",
    "order by q1.agntnum\n",
    "'''"
   ]
  },
  {
   "cell_type": "code",
   "execution_count": 5,
   "metadata": {},
   "outputs": [],
   "source": [
    "# Read data\n",
    "df_orig = pd.read_sql(query,cnxn)\n",
    "\n",
    "# Close the cursor\n",
    "cursor.close() "
   ]
  },
  {
   "cell_type": "code",
   "execution_count": 6,
   "metadata": {},
   "outputs": [
    {
     "data": {
      "text/html": [
       "<div>\n",
       "<style scoped>\n",
       "    .dataframe tbody tr th:only-of-type {\n",
       "        vertical-align: middle;\n",
       "    }\n",
       "\n",
       "    .dataframe tbody tr th {\n",
       "        vertical-align: top;\n",
       "    }\n",
       "\n",
       "    .dataframe thead th {\n",
       "        text-align: right;\n",
       "    }\n",
       "</style>\n",
       "<table border=\"1\" class=\"dataframe\">\n",
       "  <thead>\n",
       "    <tr style=\"text-align: right;\">\n",
       "      <th></th>\n",
       "      <th>Agent_Number</th>\n",
       "      <th>Date_of_Appointment</th>\n",
       "      <th>Date_of_Termination</th>\n",
       "      <th>Agent_Type</th>\n",
       "      <th>Agent_Branch_Code</th>\n",
       "      <th>Agent_Reporting_Level</th>\n",
       "      <th>Territory</th>\n",
       "      <th>Source</th>\n",
       "      <th>Major_Class</th>\n",
       "      <th>Statistical_Code</th>\n",
       "      <th>Distribution_Channel</th>\n",
       "      <th>Product_Category</th>\n",
       "      <th>Credit_Limit</th>\n",
       "      <th>Settlement_Basis</th>\n",
       "      <th>Reconciliation</th>\n",
       "      <th>Agent_Date_of_Birth</th>\n",
       "      <th>Agent_Gender</th>\n",
       "      <th>Number_of_Policies</th>\n",
       "      <th>Number_of_Claims</th>\n",
       "      <th>Total_Claim_Paid_Amount</th>\n",
       "      <th>Total_Commission_Amount</th>\n",
       "      <th>Churn</th>\n",
       "    </tr>\n",
       "  </thead>\n",
       "  <tbody>\n",
       "    <tr>\n",
       "      <th>0</th>\n",
       "      <td>0001565</td>\n",
       "      <td>20150101</td>\n",
       "      <td></td>\n",
       "      <td>20</td>\n",
       "      <td>10</td>\n",
       "      <td>1</td>\n",
       "      <td>L</td>\n",
       "      <td>FOW</td>\n",
       "      <td></td>\n",
       "      <td></td>\n",
       "      <td></td>\n",
       "      <td>None</td>\n",
       "      <td>0</td>\n",
       "      <td></td>\n",
       "      <td></td>\n",
       "      <td>20150101</td>\n",
       "      <td></td>\n",
       "      <td>1</td>\n",
       "      <td>0</td>\n",
       "      <td>0.0</td>\n",
       "      <td>0.0</td>\n",
       "      <td>0</td>\n",
       "    </tr>\n",
       "    <tr>\n",
       "      <th>1</th>\n",
       "      <td>0001646</td>\n",
       "      <td>20150201</td>\n",
       "      <td></td>\n",
       "      <td>01</td>\n",
       "      <td>10</td>\n",
       "      <td>1</td>\n",
       "      <td>L</td>\n",
       "      <td>AGY</td>\n",
       "      <td></td>\n",
       "      <td></td>\n",
       "      <td></td>\n",
       "      <td>None</td>\n",
       "      <td>0</td>\n",
       "      <td></td>\n",
       "      <td></td>\n",
       "      <td></td>\n",
       "      <td></td>\n",
       "      <td>3</td>\n",
       "      <td>1</td>\n",
       "      <td>0.0</td>\n",
       "      <td>0.0</td>\n",
       "      <td>0</td>\n",
       "    </tr>\n",
       "    <tr>\n",
       "      <th>2</th>\n",
       "      <td>0001717</td>\n",
       "      <td>20120101</td>\n",
       "      <td></td>\n",
       "      <td>01</td>\n",
       "      <td>10</td>\n",
       "      <td>1</td>\n",
       "      <td>L</td>\n",
       "      <td>AGY</td>\n",
       "      <td></td>\n",
       "      <td></td>\n",
       "      <td></td>\n",
       "      <td>None</td>\n",
       "      <td>0</td>\n",
       "      <td></td>\n",
       "      <td></td>\n",
       "      <td></td>\n",
       "      <td></td>\n",
       "      <td>0</td>\n",
       "      <td>0</td>\n",
       "      <td>0.0</td>\n",
       "      <td>0.0</td>\n",
       "      <td>0</td>\n",
       "    </tr>\n",
       "    <tr>\n",
       "      <th>3</th>\n",
       "      <td>0002197</td>\n",
       "      <td>20150601</td>\n",
       "      <td></td>\n",
       "      <td>01</td>\n",
       "      <td>10</td>\n",
       "      <td>1</td>\n",
       "      <td>L</td>\n",
       "      <td>AGY</td>\n",
       "      <td></td>\n",
       "      <td></td>\n",
       "      <td></td>\n",
       "      <td>None</td>\n",
       "      <td>0</td>\n",
       "      <td></td>\n",
       "      <td></td>\n",
       "      <td>20150601</td>\n",
       "      <td>M</td>\n",
       "      <td>1</td>\n",
       "      <td>0</td>\n",
       "      <td>0.0</td>\n",
       "      <td>0.0</td>\n",
       "      <td>0</td>\n",
       "    </tr>\n",
       "    <tr>\n",
       "      <th>4</th>\n",
       "      <td>0002332</td>\n",
       "      <td>20150601</td>\n",
       "      <td></td>\n",
       "      <td>01</td>\n",
       "      <td>10</td>\n",
       "      <td>1</td>\n",
       "      <td>L</td>\n",
       "      <td>AGY</td>\n",
       "      <td></td>\n",
       "      <td></td>\n",
       "      <td></td>\n",
       "      <td>None</td>\n",
       "      <td>0</td>\n",
       "      <td></td>\n",
       "      <td></td>\n",
       "      <td>19801011</td>\n",
       "      <td>M</td>\n",
       "      <td>1</td>\n",
       "      <td>1</td>\n",
       "      <td>0.0</td>\n",
       "      <td>0.0</td>\n",
       "      <td>0</td>\n",
       "    </tr>\n",
       "  </tbody>\n",
       "</table>\n",
       "</div>"
      ],
      "text/plain": [
       "  Agent_Number  Date_of_Appointment Date_of_Termination Agent_Type  \\\n",
       "0     0001565              20150101                             20   \n",
       "1     0001646              20150201                             01   \n",
       "2     0001717              20120101                             01   \n",
       "3     0002197              20150601                             01   \n",
       "4     0002332              20150601                             01   \n",
       "\n",
       "  Agent_Branch_Code  Agent_Reporting_Level Territory Source Major_Class  \\\n",
       "0                10                      1       L      FOW               \n",
       "1                10                      1       L      AGY               \n",
       "2                10                      1       L      AGY               \n",
       "3                10                      1       L      AGY               \n",
       "4                10                      1       L      AGY               \n",
       "\n",
       "  Statistical_Code Distribution_Channel Product_Category  Credit_Limit  \\\n",
       "0                                                   None             0   \n",
       "1                                                   None             0   \n",
       "2                                                   None             0   \n",
       "3                                                   None             0   \n",
       "4                                                   None             0   \n",
       "\n",
       "  Settlement_Basis Reconciliation Agent_Date_of_Birth Agent_Gender  \\\n",
       "0                                            20150101                \n",
       "1                                                                    \n",
       "2                                                                    \n",
       "3                                            20150601            M   \n",
       "4                                            19801011            M   \n",
       "\n",
       "   Number_of_Policies  Number_of_Claims  Total_Claim_Paid_Amount  \\\n",
       "0                   1                 0                      0.0   \n",
       "1                   3                 1                      0.0   \n",
       "2                   0                 0                      0.0   \n",
       "3                   1                 0                      0.0   \n",
       "4                   1                 1                      0.0   \n",
       "\n",
       "   Total_Commission_Amount  Churn  \n",
       "0                      0.0      0  \n",
       "1                      0.0      0  \n",
       "2                      0.0      0  \n",
       "3                      0.0      0  \n",
       "4                      0.0      0  "
      ]
     },
     "execution_count": 6,
     "metadata": {},
     "output_type": "execute_result"
    }
   ],
   "source": [
    "# Check data sample\n",
    "df_orig.head()"
   ]
  },
  {
   "cell_type": "markdown",
   "metadata": {},
   "source": [
    "## Data Analysis & Visualization"
   ]
  },
  {
   "cell_type": "code",
   "execution_count": 7,
   "metadata": {},
   "outputs": [
    {
     "data": {
      "text/plain": [
       "(10407, 22)"
      ]
     },
     "execution_count": 7,
     "metadata": {},
     "output_type": "execute_result"
    }
   ],
   "source": [
    "# Check data shape\n",
    "df_orig.shape"
   ]
  },
  {
   "cell_type": "code",
   "execution_count": 8,
   "metadata": {},
   "outputs": [
    {
     "name": "stdout",
     "output_type": "stream",
     "text": [
      "<class 'pandas.core.frame.DataFrame'>\n",
      "RangeIndex: 10407 entries, 0 to 10406\n",
      "Data columns (total 22 columns):\n",
      " #   Column                   Non-Null Count  Dtype  \n",
      "---  ------                   --------------  -----  \n",
      " 0   Agent_Number             10407 non-null  object \n",
      " 1   Date_of_Appointment      10407 non-null  int64  \n",
      " 2   Date_of_Termination      10407 non-null  object \n",
      " 3   Agent_Type               10407 non-null  object \n",
      " 4   Agent_Branch_Code        10407 non-null  object \n",
      " 5   Agent_Reporting_Level    10407 non-null  int64  \n",
      " 6   Territory                10407 non-null  object \n",
      " 7   Source                   10407 non-null  object \n",
      " 8   Major_Class              10407 non-null  object \n",
      " 9   Statistical_Code         10407 non-null  object \n",
      " 10  Distribution_Channel     10407 non-null  object \n",
      " 11  Product_Category         9857 non-null   object \n",
      " 12  Credit_Limit             10407 non-null  int64  \n",
      " 13  Settlement_Basis         10407 non-null  object \n",
      " 14  Reconciliation           10407 non-null  object \n",
      " 15  Agent_Date_of_Birth      10407 non-null  object \n",
      " 16  Agent_Gender             10407 non-null  object \n",
      " 17  Number_of_Policies       10407 non-null  int64  \n",
      " 18  Number_of_Claims         10407 non-null  int64  \n",
      " 19  Total_Claim_Paid_Amount  10407 non-null  float64\n",
      " 20  Total_Commission_Amount  10407 non-null  float64\n",
      " 21  Churn                    10407 non-null  int64  \n",
      "dtypes: float64(2), int64(6), object(14)\n",
      "memory usage: 1.7+ MB\n"
     ]
    }
   ],
   "source": [
    "# Check data attributes of the columns\n",
    "df_orig.info()"
   ]
  },
  {
   "cell_type": "code",
   "execution_count": 9,
   "metadata": {},
   "outputs": [
    {
     "data": {
      "text/plain": [
       "0    10398\n",
       "1        9\n",
       "Name: Churn, dtype: int64"
      ]
     },
     "execution_count": 9,
     "metadata": {},
     "output_type": "execute_result"
    }
   ],
   "source": [
    "# View distribution of 'Churn' Instances\n",
    "df_orig['Churn'].value_counts()"
   ]
  },
  {
   "cell_type": "code",
   "execution_count": 10,
   "metadata": {},
   "outputs": [
    {
     "data": {
      "text/plain": [
       "Agent_Number                 0\n",
       "Date_of_Appointment          0\n",
       "Date_of_Termination          0\n",
       "Agent_Type                   0\n",
       "Agent_Branch_Code            0\n",
       "Agent_Reporting_Level        0\n",
       "Territory                    0\n",
       "Source                       0\n",
       "Major_Class                  0\n",
       "Statistical_Code             0\n",
       "Distribution_Channel         0\n",
       "Product_Category           550\n",
       "Credit_Limit                 0\n",
       "Settlement_Basis             0\n",
       "Reconciliation               0\n",
       "Agent_Date_of_Birth          0\n",
       "Agent_Gender                 0\n",
       "Number_of_Policies           0\n",
       "Number_of_Claims             0\n",
       "Total_Claim_Paid_Amount      0\n",
       "Total_Commission_Amount      0\n",
       "Churn                        0\n",
       "dtype: int64"
      ]
     },
     "execution_count": 10,
     "metadata": {},
     "output_type": "execute_result"
    }
   ],
   "source": [
    "# Check if there are any nulls\n",
    "df_orig.isnull().sum()"
   ]
  },
  {
   "cell_type": "code",
   "execution_count": 11,
   "metadata": {},
   "outputs": [
    {
     "data": {
      "image/png": "[encoded data removed]",
      "text/plain": [
       "<Figure size 432x288 with 1 Axes>"
      ]
     },
     "metadata": {
      "needs_background": "light"
     },
     "output_type": "display_data"
    }
   ],
   "source": [
    "# Plot count values\n",
    "df_orig.Churn.value_counts()\n",
    "sns.countplot(x = 'Churn', data = df_orig, palette = 'hls')\n",
    "plt.show()"
   ]
  },
  {
   "cell_type": "markdown",
   "metadata": {},
   "source": [
    "## Data Treatment"
   ]
  },
  {
   "cell_type": "code",
   "execution_count": 12,
   "metadata": {},
   "outputs": [],
   "source": [
    "# Create a copy of dataframe\n",
    "df_work = df_orig.copy()"
   ]
  },
  {
   "cell_type": "code",
   "execution_count": 13,
   "metadata": {},
   "outputs": [],
   "source": [
    "# Separate features into categorical, numerical and category\n",
    "cat_vars = ['Agent_Type', 'Agent_Branch_Code','Agent_Reporting_Level','Territory','Source','Major_Class',\n",
    "            'Statistical_Code','Distribution_Channel','Product_Category','Settlement_Basis','Reconciliation',\n",
    "            'Agent_Gender']\n",
    "\n",
    "num_vars = ['Credit_Limit','Number_of_Policies', 'Number_of_Claims', 'Total_Claim_Paid_Amount','Total_Commission_Amount']\n",
    "\n",
    "date_vars = ['Date_of_Appointment', 'Date_of_Termination', 'Agent_Date_of_Birth' ]"
   ]
  },
  {
   "cell_type": "code",
   "execution_count": 14,
   "metadata": {},
   "outputs": [],
   "source": [
    "# Convert date columns\n",
    "date_vars = ['Date_of_Appointment','Date_of_Termination','Agent_Date_of_Birth' ]\n",
    "for var in date_vars:\n",
    "    df_work[var]=pd.to_datetime(df_work[var].astype(str), format='%Y-%m-%d')"
   ]
  },
  {
   "cell_type": "code",
   "execution_count": 15,
   "metadata": {},
   "outputs": [],
   "source": [
    "# Convert to 'category' object type\n",
    "for var in cat_vars:\n",
    "    df_work[var] = df_work[var].astype('category')"
   ]
  },
  {
   "cell_type": "code",
   "execution_count": 16,
   "metadata": {},
   "outputs": [],
   "source": [
    "# Create Dummy Variables for categorical variables\n",
    "for var in cat_vars:\n",
    "    cat_list = 'var'+'_'+var\n",
    "    cat_list = pd.get_dummies(df_work[var], prefix=var)\n",
    "    dummy_data = df_work.join(cat_list)\n",
    "    df_work = dummy_data"
   ]
  },
  {
   "cell_type": "code",
   "execution_count": 17,
   "metadata": {},
   "outputs": [
    {
     "data": {
      "text/plain": [
       "(10407, 102)"
      ]
     },
     "execution_count": 17,
     "metadata": {},
     "output_type": "execute_result"
    }
   ],
   "source": [
    "# Check data shape after dummy encoding\n",
    "df_work.shape"
   ]
  },
  {
   "cell_type": "code",
   "execution_count": 18,
   "metadata": {},
   "outputs": [],
   "source": [
    "# Remove original columns for which dummy variables have been created\n",
    "vars_remove = ['Agent_Type', 'Agent_Branch_Code','Agent_Reporting_Level','Territory','Source','Major_Class',\n",
    "            'Statistical_Code','Distribution_Channel','Product_Category','Settlement_Basis','Reconciliation',\n",
    "            'Agent_Gender']\n",
    "\n",
    "for var in vars_remove:\n",
    "    df_work=df_work.drop(var, axis=1)"
   ]
  },
  {
   "cell_type": "code",
   "execution_count": 19,
   "metadata": {},
   "outputs": [],
   "source": [
    "# Normalize numerical columns\n",
    "scaler = MinMaxScaler()\n",
    "df_work['Credit_Limit'] = scaler.fit_transform(df_work['Credit_Limit'].values.reshape(-1,1))\n",
    "df_work['Number_of_Policies'] = scaler.fit_transform(df_work['Number_of_Policies'].values.reshape(-1,1))\n",
    "df_work['Number_of_Claims'] = scaler.fit_transform(df_work['Number_of_Claims'].values.reshape(-1,1))\n",
    "df_work['Total_Claim_Paid_Amount'] = scaler.fit_transform(df_work['Total_Claim_Paid_Amount'].values.reshape(-1,1))\n",
    "df_work['Total_Commission_Amount'] = scaler.fit_transform(df_work['Total_Commission_Amount'].values.reshape(-1,1))"
   ]
  },
  {
   "cell_type": "markdown",
   "metadata": {},
   "source": [
    "### Feature Engineering"
   ]
  },
  {
   "cell_type": "code",
   "execution_count": 20,
   "metadata": {},
   "outputs": [],
   "source": [
    "# Get current date\n",
    "current_time = datetime.datetime.now() "
   ]
  },
  {
   "cell_type": "code",
   "execution_count": 21,
   "metadata": {},
   "outputs": [],
   "source": [
    "# Create a new column 'Age' on the basis of date of birth of agent\n",
    "df_work['age'] = current_time - df_work['Agent_Date_of_Birth']"
   ]
  },
  {
   "cell_type": "code",
   "execution_count": 22,
   "metadata": {},
   "outputs": [],
   "source": [
    "# Create a new column named 'service period' on the basis of difference between Agent Date of Registration and Termination.\n",
    "# In case date of Termination is null we will replace it with current date and compute\n",
    "\n",
    "service_period=[]\n",
    "\n",
    "for Date_of_Termination,Date_of_Appointment in zip(df_work.iloc[:,2], df_work.iloc[:,1]):\n",
    "    if Date_of_Termination is pd.NaT:\n",
    "        service_period.append(abs(current_time-Date_of_Appointment))\n",
    "    else:\n",
    "        service_period.append(abs(Date_of_Termination-Date_of_Appointment))\n"
   ]
  },
  {
   "cell_type": "code",
   "execution_count": 23,
   "metadata": {},
   "outputs": [],
   "source": [
    "# Append the new column to dataframe\n",
    "df_work['Service_Period']=service_period\n",
    "\n",
    "# Remove the orginal columns\n",
    "df_work=df_work.drop('Date_of_Appointment', axis=1)\n",
    "df_work=df_work.drop('Date_of_Termination', axis=1)\n",
    "df_work=df_work.drop('Agent_Date_of_Birth', axis=1)\n",
    "\n",
    "# Remove Agent Number since it is not critical for prediction\n",
    "df_work=df_work.drop('Agent_Number', axis=1)"
   ]
  },
  {
   "cell_type": "code",
   "execution_count": 24,
   "metadata": {
    "scrolled": true
   },
   "outputs": [
    {
     "data": {
      "text/html": [
       "<div>\n",
       "<style scoped>\n",
       "    .dataframe tbody tr th:only-of-type {\n",
       "        vertical-align: middle;\n",
       "    }\n",
       "\n",
       "    .dataframe tbody tr th {\n",
       "        vertical-align: top;\n",
       "    }\n",
       "\n",
       "    .dataframe thead th {\n",
       "        text-align: right;\n",
       "    }\n",
       "</style>\n",
       "<table border=\"1\" class=\"dataframe\">\n",
       "  <thead>\n",
       "    <tr style=\"text-align: right;\">\n",
       "      <th></th>\n",
       "      <th>Credit_Limit</th>\n",
       "      <th>Number_of_Policies</th>\n",
       "      <th>Number_of_Claims</th>\n",
       "      <th>Total_Claim_Paid_Amount</th>\n",
       "      <th>Total_Commission_Amount</th>\n",
       "      <th>Churn</th>\n",
       "      <th>Agent_Type_**</th>\n",
       "      <th>Agent_Type_01</th>\n",
       "      <th>Agent_Type_02</th>\n",
       "      <th>Agent_Type_03</th>\n",
       "      <th>Agent_Type_04</th>\n",
       "      <th>Agent_Type_05</th>\n",
       "      <th>Agent_Type_06</th>\n",
       "      <th>Agent_Type_07</th>\n",
       "      <th>Agent_Type_08</th>\n",
       "      <th>Agent_Type_09</th>\n",
       "      <th>Agent_Type_10</th>\n",
       "      <th>Agent_Type_11</th>\n",
       "      <th>Agent_Type_12</th>\n",
       "      <th>Agent_Type_15</th>\n",
       "      <th>Agent_Type_17</th>\n",
       "      <th>Agent_Type_20</th>\n",
       "      <th>Agent_Type_21</th>\n",
       "      <th>Agent_Type_23</th>\n",
       "      <th>Agent_Type_25</th>\n",
       "      <th>Agent_Type_30</th>\n",
       "      <th>Agent_Type_32</th>\n",
       "      <th>Agent_Type_37</th>\n",
       "      <th>Agent_Type_41</th>\n",
       "      <th>Agent_Type_42</th>\n",
       "      <th>Agent_Type_60</th>\n",
       "      <th>Agent_Type_63</th>\n",
       "      <th>Agent_Type_64</th>\n",
       "      <th>Agent_Type_65</th>\n",
       "      <th>Agent_Type_71</th>\n",
       "      <th>Agent_Type_82</th>\n",
       "      <th>Agent_Type_83</th>\n",
       "      <th>Agent_Branch_Code_**</th>\n",
       "      <th>Agent_Branch_Code_10</th>\n",
       "      <th>Agent_Branch_Code_SG</th>\n",
       "      <th>Agent_Reporting_Level_1</th>\n",
       "      <th>Agent_Reporting_Level_2</th>\n",
       "      <th>Agent_Reporting_Level_3</th>\n",
       "      <th>Territory_H</th>\n",
       "      <th>Territory_L</th>\n",
       "      <th>Territory_O</th>\n",
       "      <th>Territory_OF</th>\n",
       "      <th>Source_AGY</th>\n",
       "      <th>Source_BAN</th>\n",
       "      <th>Source_BKR</th>\n",
       "      <th>Source_COI</th>\n",
       "      <th>Source_COO</th>\n",
       "      <th>Source_DIC</th>\n",
       "      <th>Source_DIR</th>\n",
       "      <th>Source_FIO</th>\n",
       "      <th>Source_FIW</th>\n",
       "      <th>Source_FOO</th>\n",
       "      <th>Source_FOT</th>\n",
       "      <th>Source_FOW</th>\n",
       "      <th>Source_FRA</th>\n",
       "      <th>Source_SRE</th>\n",
       "      <th>Source_TIT</th>\n",
       "      <th>Source_TIW</th>\n",
       "      <th>Source_TOO</th>\n",
       "      <th>Source_TOW</th>\n",
       "      <th>Major_Class_</th>\n",
       "      <th>Major_Class_01</th>\n",
       "      <th>Major_Class_06</th>\n",
       "      <th>Statistical_Code_</th>\n",
       "      <th>Statistical_Code_IND</th>\n",
       "      <th>Statistical_Code_SGP</th>\n",
       "      <th>Distribution_Channel_</th>\n",
       "      <th>Distribution_Channel_0</th>\n",
       "      <th>Distribution_Channel_1</th>\n",
       "      <th>Distribution_Channel_BAN</th>\n",
       "      <th>Distribution_Channel_FRA</th>\n",
       "      <th>Distribution_Channel_GBD</th>\n",
       "      <th>Distribution_Channel_GBU</th>\n",
       "      <th>Product_Category_</th>\n",
       "      <th>Product_Category_FIR</th>\n",
       "      <th>Product_Category_TRV</th>\n",
       "      <th>Settlement_Basis_</th>\n",
       "      <th>Reconciliation_</th>\n",
       "      <th>Agent_Gender_</th>\n",
       "      <th>Agent_Gender_F</th>\n",
       "      <th>Agent_Gender_M</th>\n",
       "      <th>age</th>\n",
       "      <th>Service_Period</th>\n",
       "    </tr>\n",
       "  </thead>\n",
       "  <tbody>\n",
       "    <tr>\n",
       "      <th>0</th>\n",
       "      <td>0.0</td>\n",
       "      <td>0.000601</td>\n",
       "      <td>0.000000</td>\n",
       "      <td>0.0</td>\n",
       "      <td>0.002606</td>\n",
       "      <td>0</td>\n",
       "      <td>0</td>\n",
       "      <td>0</td>\n",
       "      <td>0</td>\n",
       "      <td>0</td>\n",
       "      <td>0</td>\n",
       "      <td>0</td>\n",
       "      <td>0</td>\n",
       "      <td>0</td>\n",
       "      <td>0</td>\n",
       "      <td>0</td>\n",
       "      <td>0</td>\n",
       "      <td>0</td>\n",
       "      <td>0</td>\n",
       "      <td>0</td>\n",
       "      <td>0</td>\n",
       "      <td>1</td>\n",
       "      <td>0</td>\n",
       "      <td>0</td>\n",
       "      <td>0</td>\n",
       "      <td>0</td>\n",
       "      <td>0</td>\n",
       "      <td>0</td>\n",
       "      <td>0</td>\n",
       "      <td>0</td>\n",
       "      <td>0</td>\n",
       "      <td>0</td>\n",
       "      <td>0</td>\n",
       "      <td>0</td>\n",
       "      <td>0</td>\n",
       "      <td>0</td>\n",
       "      <td>0</td>\n",
       "      <td>0</td>\n",
       "      <td>1</td>\n",
       "      <td>0</td>\n",
       "      <td>1</td>\n",
       "      <td>0</td>\n",
       "      <td>0</td>\n",
       "      <td>0</td>\n",
       "      <td>1</td>\n",
       "      <td>0</td>\n",
       "      <td>0</td>\n",
       "      <td>0</td>\n",
       "      <td>0</td>\n",
       "      <td>0</td>\n",
       "      <td>0</td>\n",
       "      <td>0</td>\n",
       "      <td>0</td>\n",
       "      <td>0</td>\n",
       "      <td>0</td>\n",
       "      <td>0</td>\n",
       "      <td>0</td>\n",
       "      <td>0</td>\n",
       "      <td>1</td>\n",
       "      <td>0</td>\n",
       "      <td>0</td>\n",
       "      <td>0</td>\n",
       "      <td>0</td>\n",
       "      <td>0</td>\n",
       "      <td>0</td>\n",
       "      <td>1</td>\n",
       "      <td>0</td>\n",
       "      <td>0</td>\n",
       "      <td>1</td>\n",
       "      <td>0</td>\n",
       "      <td>0</td>\n",
       "      <td>1</td>\n",
       "      <td>0</td>\n",
       "      <td>0</td>\n",
       "      <td>0</td>\n",
       "      <td>0</td>\n",
       "      <td>0</td>\n",
       "      <td>0</td>\n",
       "      <td>0</td>\n",
       "      <td>0</td>\n",
       "      <td>0</td>\n",
       "      <td>1</td>\n",
       "      <td>1</td>\n",
       "      <td>1</td>\n",
       "      <td>0</td>\n",
       "      <td>0</td>\n",
       "      <td>1945 days 15:31:39.479347</td>\n",
       "      <td>1945 days 15:31:39.479347</td>\n",
       "    </tr>\n",
       "    <tr>\n",
       "      <th>1</th>\n",
       "      <td>0.0</td>\n",
       "      <td>0.001802</td>\n",
       "      <td>0.004237</td>\n",
       "      <td>0.0</td>\n",
       "      <td>0.002606</td>\n",
       "      <td>0</td>\n",
       "      <td>0</td>\n",
       "      <td>1</td>\n",
       "      <td>0</td>\n",
       "      <td>0</td>\n",
       "      <td>0</td>\n",
       "      <td>0</td>\n",
       "      <td>0</td>\n",
       "      <td>0</td>\n",
       "      <td>0</td>\n",
       "      <td>0</td>\n",
       "      <td>0</td>\n",
       "      <td>0</td>\n",
       "      <td>0</td>\n",
       "      <td>0</td>\n",
       "      <td>0</td>\n",
       "      <td>0</td>\n",
       "      <td>0</td>\n",
       "      <td>0</td>\n",
       "      <td>0</td>\n",
       "      <td>0</td>\n",
       "      <td>0</td>\n",
       "      <td>0</td>\n",
       "      <td>0</td>\n",
       "      <td>0</td>\n",
       "      <td>0</td>\n",
       "      <td>0</td>\n",
       "      <td>0</td>\n",
       "      <td>0</td>\n",
       "      <td>0</td>\n",
       "      <td>0</td>\n",
       "      <td>0</td>\n",
       "      <td>0</td>\n",
       "      <td>1</td>\n",
       "      <td>0</td>\n",
       "      <td>1</td>\n",
       "      <td>0</td>\n",
       "      <td>0</td>\n",
       "      <td>0</td>\n",
       "      <td>1</td>\n",
       "      <td>0</td>\n",
       "      <td>0</td>\n",
       "      <td>1</td>\n",
       "      <td>0</td>\n",
       "      <td>0</td>\n",
       "      <td>0</td>\n",
       "      <td>0</td>\n",
       "      <td>0</td>\n",
       "      <td>0</td>\n",
       "      <td>0</td>\n",
       "      <td>0</td>\n",
       "      <td>0</td>\n",
       "      <td>0</td>\n",
       "      <td>0</td>\n",
       "      <td>0</td>\n",
       "      <td>0</td>\n",
       "      <td>0</td>\n",
       "      <td>0</td>\n",
       "      <td>0</td>\n",
       "      <td>0</td>\n",
       "      <td>1</td>\n",
       "      <td>0</td>\n",
       "      <td>0</td>\n",
       "      <td>1</td>\n",
       "      <td>0</td>\n",
       "      <td>0</td>\n",
       "      <td>1</td>\n",
       "      <td>0</td>\n",
       "      <td>0</td>\n",
       "      <td>0</td>\n",
       "      <td>0</td>\n",
       "      <td>0</td>\n",
       "      <td>0</td>\n",
       "      <td>0</td>\n",
       "      <td>0</td>\n",
       "      <td>0</td>\n",
       "      <td>1</td>\n",
       "      <td>1</td>\n",
       "      <td>1</td>\n",
       "      <td>0</td>\n",
       "      <td>0</td>\n",
       "      <td>NaT</td>\n",
       "      <td>1914 days 15:31:39.479347</td>\n",
       "    </tr>\n",
       "    <tr>\n",
       "      <th>2</th>\n",
       "      <td>0.0</td>\n",
       "      <td>0.000000</td>\n",
       "      <td>0.000000</td>\n",
       "      <td>0.0</td>\n",
       "      <td>0.002606</td>\n",
       "      <td>0</td>\n",
       "      <td>0</td>\n",
       "      <td>1</td>\n",
       "      <td>0</td>\n",
       "      <td>0</td>\n",
       "      <td>0</td>\n",
       "      <td>0</td>\n",
       "      <td>0</td>\n",
       "      <td>0</td>\n",
       "      <td>0</td>\n",
       "      <td>0</td>\n",
       "      <td>0</td>\n",
       "      <td>0</td>\n",
       "      <td>0</td>\n",
       "      <td>0</td>\n",
       "      <td>0</td>\n",
       "      <td>0</td>\n",
       "      <td>0</td>\n",
       "      <td>0</td>\n",
       "      <td>0</td>\n",
       "      <td>0</td>\n",
       "      <td>0</td>\n",
       "      <td>0</td>\n",
       "      <td>0</td>\n",
       "      <td>0</td>\n",
       "      <td>0</td>\n",
       "      <td>0</td>\n",
       "      <td>0</td>\n",
       "      <td>0</td>\n",
       "      <td>0</td>\n",
       "      <td>0</td>\n",
       "      <td>0</td>\n",
       "      <td>0</td>\n",
       "      <td>1</td>\n",
       "      <td>0</td>\n",
       "      <td>1</td>\n",
       "      <td>0</td>\n",
       "      <td>0</td>\n",
       "      <td>0</td>\n",
       "      <td>1</td>\n",
       "      <td>0</td>\n",
       "      <td>0</td>\n",
       "      <td>1</td>\n",
       "      <td>0</td>\n",
       "      <td>0</td>\n",
       "      <td>0</td>\n",
       "      <td>0</td>\n",
       "      <td>0</td>\n",
       "      <td>0</td>\n",
       "      <td>0</td>\n",
       "      <td>0</td>\n",
       "      <td>0</td>\n",
       "      <td>0</td>\n",
       "      <td>0</td>\n",
       "      <td>0</td>\n",
       "      <td>0</td>\n",
       "      <td>0</td>\n",
       "      <td>0</td>\n",
       "      <td>0</td>\n",
       "      <td>0</td>\n",
       "      <td>1</td>\n",
       "      <td>0</td>\n",
       "      <td>0</td>\n",
       "      <td>1</td>\n",
       "      <td>0</td>\n",
       "      <td>0</td>\n",
       "      <td>1</td>\n",
       "      <td>0</td>\n",
       "      <td>0</td>\n",
       "      <td>0</td>\n",
       "      <td>0</td>\n",
       "      <td>0</td>\n",
       "      <td>0</td>\n",
       "      <td>0</td>\n",
       "      <td>0</td>\n",
       "      <td>0</td>\n",
       "      <td>1</td>\n",
       "      <td>1</td>\n",
       "      <td>1</td>\n",
       "      <td>0</td>\n",
       "      <td>0</td>\n",
       "      <td>NaT</td>\n",
       "      <td>3041 days 15:31:39.479347</td>\n",
       "    </tr>\n",
       "    <tr>\n",
       "      <th>3</th>\n",
       "      <td>0.0</td>\n",
       "      <td>0.000601</td>\n",
       "      <td>0.000000</td>\n",
       "      <td>0.0</td>\n",
       "      <td>0.002606</td>\n",
       "      <td>0</td>\n",
       "      <td>0</td>\n",
       "      <td>1</td>\n",
       "      <td>0</td>\n",
       "      <td>0</td>\n",
       "      <td>0</td>\n",
       "      <td>0</td>\n",
       "      <td>0</td>\n",
       "      <td>0</td>\n",
       "      <td>0</td>\n",
       "      <td>0</td>\n",
       "      <td>0</td>\n",
       "      <td>0</td>\n",
       "      <td>0</td>\n",
       "      <td>0</td>\n",
       "      <td>0</td>\n",
       "      <td>0</td>\n",
       "      <td>0</td>\n",
       "      <td>0</td>\n",
       "      <td>0</td>\n",
       "      <td>0</td>\n",
       "      <td>0</td>\n",
       "      <td>0</td>\n",
       "      <td>0</td>\n",
       "      <td>0</td>\n",
       "      <td>0</td>\n",
       "      <td>0</td>\n",
       "      <td>0</td>\n",
       "      <td>0</td>\n",
       "      <td>0</td>\n",
       "      <td>0</td>\n",
       "      <td>0</td>\n",
       "      <td>0</td>\n",
       "      <td>1</td>\n",
       "      <td>0</td>\n",
       "      <td>1</td>\n",
       "      <td>0</td>\n",
       "      <td>0</td>\n",
       "      <td>0</td>\n",
       "      <td>1</td>\n",
       "      <td>0</td>\n",
       "      <td>0</td>\n",
       "      <td>1</td>\n",
       "      <td>0</td>\n",
       "      <td>0</td>\n",
       "      <td>0</td>\n",
       "      <td>0</td>\n",
       "      <td>0</td>\n",
       "      <td>0</td>\n",
       "      <td>0</td>\n",
       "      <td>0</td>\n",
       "      <td>0</td>\n",
       "      <td>0</td>\n",
       "      <td>0</td>\n",
       "      <td>0</td>\n",
       "      <td>0</td>\n",
       "      <td>0</td>\n",
       "      <td>0</td>\n",
       "      <td>0</td>\n",
       "      <td>0</td>\n",
       "      <td>1</td>\n",
       "      <td>0</td>\n",
       "      <td>0</td>\n",
       "      <td>1</td>\n",
       "      <td>0</td>\n",
       "      <td>0</td>\n",
       "      <td>1</td>\n",
       "      <td>0</td>\n",
       "      <td>0</td>\n",
       "      <td>0</td>\n",
       "      <td>0</td>\n",
       "      <td>0</td>\n",
       "      <td>0</td>\n",
       "      <td>0</td>\n",
       "      <td>0</td>\n",
       "      <td>0</td>\n",
       "      <td>1</td>\n",
       "      <td>1</td>\n",
       "      <td>0</td>\n",
       "      <td>0</td>\n",
       "      <td>1</td>\n",
       "      <td>1794 days 15:31:39.479347</td>\n",
       "      <td>1794 days 15:31:39.479347</td>\n",
       "    </tr>\n",
       "    <tr>\n",
       "      <th>4</th>\n",
       "      <td>0.0</td>\n",
       "      <td>0.000601</td>\n",
       "      <td>0.004237</td>\n",
       "      <td>0.0</td>\n",
       "      <td>0.002606</td>\n",
       "      <td>0</td>\n",
       "      <td>0</td>\n",
       "      <td>1</td>\n",
       "      <td>0</td>\n",
       "      <td>0</td>\n",
       "      <td>0</td>\n",
       "      <td>0</td>\n",
       "      <td>0</td>\n",
       "      <td>0</td>\n",
       "      <td>0</td>\n",
       "      <td>0</td>\n",
       "      <td>0</td>\n",
       "      <td>0</td>\n",
       "      <td>0</td>\n",
       "      <td>0</td>\n",
       "      <td>0</td>\n",
       "      <td>0</td>\n",
       "      <td>0</td>\n",
       "      <td>0</td>\n",
       "      <td>0</td>\n",
       "      <td>0</td>\n",
       "      <td>0</td>\n",
       "      <td>0</td>\n",
       "      <td>0</td>\n",
       "      <td>0</td>\n",
       "      <td>0</td>\n",
       "      <td>0</td>\n",
       "      <td>0</td>\n",
       "      <td>0</td>\n",
       "      <td>0</td>\n",
       "      <td>0</td>\n",
       "      <td>0</td>\n",
       "      <td>0</td>\n",
       "      <td>1</td>\n",
       "      <td>0</td>\n",
       "      <td>1</td>\n",
       "      <td>0</td>\n",
       "      <td>0</td>\n",
       "      <td>0</td>\n",
       "      <td>1</td>\n",
       "      <td>0</td>\n",
       "      <td>0</td>\n",
       "      <td>1</td>\n",
       "      <td>0</td>\n",
       "      <td>0</td>\n",
       "      <td>0</td>\n",
       "      <td>0</td>\n",
       "      <td>0</td>\n",
       "      <td>0</td>\n",
       "      <td>0</td>\n",
       "      <td>0</td>\n",
       "      <td>0</td>\n",
       "      <td>0</td>\n",
       "      <td>0</td>\n",
       "      <td>0</td>\n",
       "      <td>0</td>\n",
       "      <td>0</td>\n",
       "      <td>0</td>\n",
       "      <td>0</td>\n",
       "      <td>0</td>\n",
       "      <td>1</td>\n",
       "      <td>0</td>\n",
       "      <td>0</td>\n",
       "      <td>1</td>\n",
       "      <td>0</td>\n",
       "      <td>0</td>\n",
       "      <td>1</td>\n",
       "      <td>0</td>\n",
       "      <td>0</td>\n",
       "      <td>0</td>\n",
       "      <td>0</td>\n",
       "      <td>0</td>\n",
       "      <td>0</td>\n",
       "      <td>0</td>\n",
       "      <td>0</td>\n",
       "      <td>0</td>\n",
       "      <td>1</td>\n",
       "      <td>1</td>\n",
       "      <td>0</td>\n",
       "      <td>0</td>\n",
       "      <td>1</td>\n",
       "      <td>14445 days 15:31:39.479347</td>\n",
       "      <td>1794 days 15:31:39.479347</td>\n",
       "    </tr>\n",
       "  </tbody>\n",
       "</table>\n",
       "</div>"
      ],
      "text/plain": [
       "   Credit_Limit  Number_of_Policies  Number_of_Claims  \\\n",
       "0           0.0            0.000601          0.000000   \n",
       "1           0.0            0.001802          0.004237   \n",
       "2           0.0            0.000000          0.000000   \n",
       "3           0.0            0.000601          0.000000   \n",
       "4           0.0            0.000601          0.004237   \n",
       "\n",
       "   Total_Claim_Paid_Amount  Total_Commission_Amount  Churn  Agent_Type_**  \\\n",
       "0                      0.0                 0.002606      0              0   \n",
       "1                      0.0                 0.002606      0              0   \n",
       "2                      0.0                 0.002606      0              0   \n",
       "3                      0.0                 0.002606      0              0   \n",
       "4                      0.0                 0.002606      0              0   \n",
       "\n",
       "   Agent_Type_01  Agent_Type_02  Agent_Type_03  Agent_Type_04  Agent_Type_05  \\\n",
       "0              0              0              0              0              0   \n",
       "1              1              0              0              0              0   \n",
       "2              1              0              0              0              0   \n",
       "3              1              0              0              0              0   \n",
       "4              1              0              0              0              0   \n",
       "\n",
       "   Agent_Type_06  Agent_Type_07  Agent_Type_08  Agent_Type_09  Agent_Type_10  \\\n",
       "0              0              0              0              0              0   \n",
       "1              0              0              0              0              0   \n",
       "2              0              0              0              0              0   \n",
       "3              0              0              0              0              0   \n",
       "4              0              0              0              0              0   \n",
       "\n",
       "   Agent_Type_11  Agent_Type_12  Agent_Type_15  Agent_Type_17  Agent_Type_20  \\\n",
       "0              0              0              0              0              1   \n",
       "1              0              0              0              0              0   \n",
       "2              0              0              0              0              0   \n",
       "3              0              0              0              0              0   \n",
       "4              0              0              0              0              0   \n",
       "\n",
       "   Agent_Type_21  Agent_Type_23  Agent_Type_25  Agent_Type_30  Agent_Type_32  \\\n",
       "0              0              0              0              0              0   \n",
       "1              0              0              0              0              0   \n",
       "2              0              0              0              0              0   \n",
       "3              0              0              0              0              0   \n",
       "4              0              0              0              0              0   \n",
       "\n",
       "   Agent_Type_37  Agent_Type_41  Agent_Type_42  Agent_Type_60  Agent_Type_63  \\\n",
       "0              0              0              0              0              0   \n",
       "1              0              0              0              0              0   \n",
       "2              0              0              0              0              0   \n",
       "3              0              0              0              0              0   \n",
       "4              0              0              0              0              0   \n",
       "\n",
       "   Agent_Type_64  Agent_Type_65  Agent_Type_71  Agent_Type_82  Agent_Type_83  \\\n",
       "0              0              0              0              0              0   \n",
       "1              0              0              0              0              0   \n",
       "2              0              0              0              0              0   \n",
       "3              0              0              0              0              0   \n",
       "4              0              0              0              0              0   \n",
       "\n",
       "   Agent_Branch_Code_**  Agent_Branch_Code_10  Agent_Branch_Code_SG  \\\n",
       "0                     0                     1                     0   \n",
       "1                     0                     1                     0   \n",
       "2                     0                     1                     0   \n",
       "3                     0                     1                     0   \n",
       "4                     0                     1                     0   \n",
       "\n",
       "   Agent_Reporting_Level_1  Agent_Reporting_Level_2  Agent_Reporting_Level_3  \\\n",
       "0                        1                        0                        0   \n",
       "1                        1                        0                        0   \n",
       "2                        1                        0                        0   \n",
       "3                        1                        0                        0   \n",
       "4                        1                        0                        0   \n",
       "\n",
       "   Territory_H    Territory_L    Territory_O    Territory_OF   Source_AGY  \\\n",
       "0              0              1              0              0           0   \n",
       "1              0              1              0              0           1   \n",
       "2              0              1              0              0           1   \n",
       "3              0              1              0              0           1   \n",
       "4              0              1              0              0           1   \n",
       "\n",
       "   Source_BAN  Source_BKR  Source_COI  Source_COO  Source_DIC  Source_DIR  \\\n",
       "0           0           0           0           0           0           0   \n",
       "1           0           0           0           0           0           0   \n",
       "2           0           0           0           0           0           0   \n",
       "3           0           0           0           0           0           0   \n",
       "4           0           0           0           0           0           0   \n",
       "\n",
       "   Source_FIO  Source_FIW  Source_FOO  Source_FOT  Source_FOW  Source_FRA  \\\n",
       "0           0           0           0           0           1           0   \n",
       "1           0           0           0           0           0           0   \n",
       "2           0           0           0           0           0           0   \n",
       "3           0           0           0           0           0           0   \n",
       "4           0           0           0           0           0           0   \n",
       "\n",
       "   Source_SRE  Source_TIT  Source_TIW  Source_TOO  Source_TOW  \\\n",
       "0           0           0           0           0           0   \n",
       "1           0           0           0           0           0   \n",
       "2           0           0           0           0           0   \n",
       "3           0           0           0           0           0   \n",
       "4           0           0           0           0           0   \n",
       "\n",
       "   Major_Class_     Major_Class_01   Major_Class_06   Statistical_Code_     \\\n",
       "0                1                0                0                     1   \n",
       "1                1                0                0                     1   \n",
       "2                1                0                0                     1   \n",
       "3                1                0                0                     1   \n",
       "4                1                0                0                     1   \n",
       "\n",
       "   Statistical_Code_IND  Statistical_Code_SGP  Distribution_Channel_     \\\n",
       "0                     0                     0                         1   \n",
       "1                     0                     0                         1   \n",
       "2                     0                     0                         1   \n",
       "3                     0                     0                         1   \n",
       "4                     0                     0                         1   \n",
       "\n",
       "   Distribution_Channel_0    Distribution_Channel_1    \\\n",
       "0                         0                         0   \n",
       "1                         0                         0   \n",
       "2                         0                         0   \n",
       "3                         0                         0   \n",
       "4                         0                         0   \n",
       "\n",
       "   Distribution_Channel_BAN  Distribution_Channel_FRA  \\\n",
       "0                         0                         0   \n",
       "1                         0                         0   \n",
       "2                         0                         0   \n",
       "3                         0                         0   \n",
       "4                         0                         0   \n",
       "\n",
       "   Distribution_Channel_GBD  Distribution_Channel_GBU  \\\n",
       "0                         0                         0   \n",
       "1                         0                         0   \n",
       "2                         0                         0   \n",
       "3                         0                         0   \n",
       "4                         0                         0   \n",
       "\n",
       "   Product_Category_          Product_Category_FIR       \\\n",
       "0                          0                          0   \n",
       "1                          0                          0   \n",
       "2                          0                          0   \n",
       "3                          0                          0   \n",
       "4                          0                          0   \n",
       "\n",
       "   Product_Category_TRV       Settlement_Basis_   Reconciliation_    \\\n",
       "0                          0                   1                  1   \n",
       "1                          0                   1                  1   \n",
       "2                          0                   1                  1   \n",
       "3                          0                   1                  1   \n",
       "4                          0                   1                  1   \n",
       "\n",
       "   Agent_Gender_   Agent_Gender_F  Agent_Gender_M                        age  \\\n",
       "0               1               0               0  1945 days 15:31:39.479347   \n",
       "1               1               0               0                        NaT   \n",
       "2               1               0               0                        NaT   \n",
       "3               0               0               1  1794 days 15:31:39.479347   \n",
       "4               0               0               1 14445 days 15:31:39.479347   \n",
       "\n",
       "             Service_Period  \n",
       "0 1945 days 15:31:39.479347  \n",
       "1 1914 days 15:31:39.479347  \n",
       "2 3041 days 15:31:39.479347  \n",
       "3 1794 days 15:31:39.479347  \n",
       "4 1794 days 15:31:39.479347  "
      ]
     },
     "execution_count": 24,
     "metadata": {},
     "output_type": "execute_result"
    }
   ],
   "source": [
    "# Check contents once\n",
    "df_work.head()"
   ]
  },
  {
   "cell_type": "code",
   "execution_count": 25,
   "metadata": {},
   "outputs": [],
   "source": [
    "# Normalize the new columns \n",
    "scaler = MinMaxScaler()\n",
    "df_work['age'] = scaler.fit_transform(df_work['age'].values.reshape(-1,1))\n",
    "df_work['Service_Period'] = scaler.fit_transform(df_work['Service_Period'].values.reshape(-1,1))"
   ]
  },
  {
   "cell_type": "code",
   "execution_count": 26,
   "metadata": {},
   "outputs": [],
   "source": [
    "# Create separate dataset for feature and target columns\n",
    "X = df_work.drop('Churn', axis=1)\n",
    "y = df_work['Churn']"
   ]
  },
  {
   "cell_type": "markdown",
   "metadata": {},
   "source": [
    "### Performing SMOTE operation to handle class imbalance"
   ]
  },
  {
   "cell_type": "code",
   "execution_count": 27,
   "metadata": {},
   "outputs": [
    {
     "data": {
      "text/plain": [
       "((7284, 87), (3123, 87), (7284,), (3123,))"
      ]
     },
     "execution_count": 27,
     "metadata": {},
     "output_type": "execute_result"
    }
   ],
   "source": [
    "# Perform Test/Train Split\n",
    "X_train, X_test, y_train, y_test=train_test_split(X, y, test_size=0.3,random_state=11)\n",
    "X_train.shape, X_test.shape, y_train.shape, y_test.shape"
   ]
  },
  {
   "cell_type": "code",
   "execution_count": 28,
   "metadata": {},
   "outputs": [
    {
     "name": "stdout",
     "output_type": "stream",
     "text": [
      "length of oversampled data is  14556\n",
      "Number of Non Churned agents in oversampled data 7278\n",
      "Number of Churned agents in oversampled data 7278\n",
      "Proportion of Non Churned agents in oversampled data is  0.5\n",
      "Proportion of Churned Agents in oversampled data is  0.5\n"
     ]
    }
   ],
   "source": [
    "# To handle class imbalance performing SMOTE\n",
    "\n",
    "from imblearn.over_sampling import SMOTE\n",
    "SMO = SMOTE(random_state=11)\n",
    "\n",
    "X_train_smo, y_train_smo = SMO.fit_sample(X_train, y_train)\n",
    "columns = X_train.columns\n",
    "\n",
    "X_train_smo = pd.DataFrame(data = X_train_smo, columns = columns )\n",
    "y_train_smo = pd.DataFrame(data = y_train_smo, columns = ['Churn'])\n",
    "\n",
    "# we can Check the numbers of our data\n",
    "print(\"length of oversampled data is \",len(X_train_smo))\n",
    "print(\"Number of Non Churned agents in oversampled data\",len(y_train_smo[y_train_smo['Churn']== 0 ]))\n",
    "print(\"Number of Churned agents in oversampled data\",len(y_train_smo[y_train_smo['Churn']== 1 ]))\n",
    "print(\"Proportion of Non Churned agents in oversampled data is \",len(y_train_smo[y_train_smo['Churn']== 0])/len(X_train_smo))\n",
    "print(\"Proportion of Churned Agents in oversampled data is \",len(y_train_smo[y_train_smo['Churn']== 1 ])/len(X_train_smo))"
   ]
  },
  {
   "cell_type": "markdown",
   "metadata": {},
   "source": [
    "# Model Application"
   ]
  },
  {
   "cell_type": "markdown",
   "metadata": {},
   "source": [
    "### TPOT Model"
   ]
  },
  {
   "cell_type": "code",
   "execution_count": 29,
   "metadata": {
    "scrolled": true
   },
   "outputs": [
    {
     "name": "stderr",
     "output_type": "stream",
     "text": [
      "C:\\Users\\sisense_admin\\.conda\\envs\\pnc_agent_churn\\lib\\site-packages\\sklearn\\utils\\validation.py:760: DataConversionWarning: A column-vector y was passed when a 1d array was expected. Please change the shape of y to (n_samples, ), for example using ravel().\n",
      "  y = column_or_1d(y, warn=True)\n"
     ]
    },
    {
     "data": {
      "application/vnd.jupyter.widget-view+json": {
       "model_id": "009d8233ae3c44119af4cc6b9dcd3d56",
       "version_major": 2,
       "version_minor": 0
      },
      "text/plain": [
       "HBox(children=(FloatProgress(value=0.0, description='Optimization Progress', style=ProgressStyle(description_w…"
      ]
     },
     "metadata": {},
     "output_type": "display_data"
    },
    {
     "name": "stdout",
     "output_type": "stream",
     "text": [
      "\n",
      "5.77 minutes have elapsed. TPOT will close down.\n",
      "TPOT closed during evaluation in one generation.\n",
      "WARNING: TPOT may not provide a good pipeline if TPOT is stopped/interrupted in a early generation.\n",
      "\n",
      "\n",
      "TPOT closed prematurely. Will use the current best pipeline.\n",
      "\n",
      "Best pipeline: RandomForestClassifier(input_matrix, bootstrap=True, criterion=gini, max_features=0.1, min_samples_leaf=2, min_samples_split=4, n_estimators=100)\n"
     ]
    },
    {
     "data": {
      "text/plain": [
       "TPOTClassifier(config_dict=None, crossover_rate=0.1, cv=5,\n",
       "               disable_update_check=False, early_stop=None, generations=5,\n",
       "               max_eval_time_mins=5, max_time_mins=5, memory=None,\n",
       "               mutation_rate=0.9, n_jobs=-1, offspring_size=None,\n",
       "               periodic_checkpoint_folder=None, population_size=100,\n",
       "               random_state=None, scoring=None, subsample=1.0, template=None,\n",
       "               use_dask=False, verbosity=2, warm_start=False)"
      ]
     },
     "execution_count": 29,
     "metadata": {},
     "output_type": "execute_result"
    }
   ],
   "source": [
    "#Import tpot classifier from tpot and initialize it to run for max generation = 5 OR max time = 60 mins\n",
    "from tpot import TPOTClassifier\n",
    "tpot = TPOTClassifier(generations=5, verbosity=2, max_time_mins=60, n_jobs = -1)\n",
    "tpot.fit(X_train_smo, y_train_smo)"
   ]
  },
  {
   "cell_type": "code",
   "execution_count": 30,
   "metadata": {},
   "outputs": [
    {
     "data": {
      "text/plain": [
       "Pipeline(memory=None,\n",
       "         steps=[('randomforestclassifier',\n",
       "                 RandomForestClassifier(bootstrap=True, ccp_alpha=0.0,\n",
       "                                        class_weight=None, criterion='gini',\n",
       "                                        max_depth=None, max_features=0.1,\n",
       "                                        max_leaf_nodes=None, max_samples=None,\n",
       "                                        min_impurity_decrease=0.0,\n",
       "                                        min_impurity_split=None,\n",
       "                                        min_samples_leaf=2, min_samples_split=4,\n",
       "                                        min_weight_fraction_leaf=0.0,\n",
       "                                        n_estimators=100, n_jobs=None,\n",
       "                                        oob_score=False, random_state=None,\n",
       "                                        verbose=0, warm_start=False))],\n",
       "         verbose=False)"
      ]
     },
     "execution_count": 30,
     "metadata": {},
     "output_type": "execute_result"
    }
   ],
   "source": [
    "# Fit the pipeline\n",
    "TPOT_Fit_pipeline=tpot.fitted_pipeline_\n",
    "TPOT_Fit_pipeline"
   ]
  },
  {
   "cell_type": "code",
   "execution_count": 31,
   "metadata": {},
   "outputs": [
    {
     "name": "stdout",
     "output_type": "stream",
     "text": [
      "0.9993595901376882\n"
     ]
    }
   ],
   "source": [
    "# Print score\n",
    "print(tpot.score(X_test, y_test))"
   ]
  },
  {
   "cell_type": "code",
   "execution_count": 32,
   "metadata": {},
   "outputs": [],
   "source": [
    "# Make Predictions\n",
    "y_pred=TPOT_Fit_pipeline.predict(X_test)"
   ]
  },
  {
   "cell_type": "code",
   "execution_count": 33,
   "metadata": {},
   "outputs": [
    {
     "data": {
      "text/plain": [
       "array([[3120,    0],\n",
       "       [   2,    1]], dtype=int64)"
      ]
     },
     "execution_count": 33,
     "metadata": {},
     "output_type": "execute_result"
    }
   ],
   "source": [
    "# Make Confusion Matrix to compare results against actuals\n",
    "cnf_matrix = metrics.confusion_matrix(y_test, y_pred)\n",
    "cnf_matrix  "
   ]
  },
  {
   "cell_type": "code",
   "execution_count": 34,
   "metadata": {},
   "outputs": [
    {
     "name": "stdout",
     "output_type": "stream",
     "text": [
      "Accuracy: 0.9993595901376882\n",
      "Precision: 1.0\n",
      "Recall: 0.3333333333333333\n"
     ]
    }
   ],
   "source": [
    "# Get Accuracy Scores\n",
    "print(\"Accuracy:\",metrics.accuracy_score(y_test, y_pred))\n",
    "print(\"Precision:\",metrics.precision_score(y_test, y_pred))\n",
    "print(\"Recall:\",metrics.recall_score(y_test, y_pred))"
   ]
  },
  {
   "cell_type": "code",
   "execution_count": 35,
   "metadata": {},
   "outputs": [
    {
     "data": {
      "image/png": "[encoded data removed]",
      "text/plain": [
       "<Figure size 432x288 with 1 Axes>"
      ]
     },
     "metadata": {
      "needs_background": "light"
     },
     "output_type": "display_data"
    }
   ],
   "source": [
    "# Print ROC AUC Curve\n",
    "\n",
    "logit_roc_auc = roc_auc_score(y_test, TPOT_Fit_pipeline.predict(X_test))\n",
    "fpr, tpr, thresholds = roc_curve(y_test, TPOT_Fit_pipeline.predict_proba(X_test)[:,1])\n",
    "plt.figure()\n",
    "plt.plot(fpr, tpr, label='TPOT Classifier (area = %0.2f)' % logit_roc_auc)\n",
    "plt.plot([0, 1], [0, 1],'r--')\n",
    "plt.xlim([0.0, 1.0])\n",
    "plt.ylim([0.0, 1.05])\n",
    "plt.xlabel('False Positive Rate')\n",
    "plt.ylabel('True Positive Rate')\n",
    "plt.title('Receiver operating characteristic')\n",
    "plt.legend(loc=\"lower right\")\n",
    "plt.savefig('Log_ROC')\n",
    "plt.show()"
   ]
  },
  {
   "cell_type": "markdown",
   "metadata": {},
   "source": [
    "### Run the model on entire dataset and save the output in a csv file"
   ]
  },
  {
   "cell_type": "code",
   "execution_count": 36,
   "metadata": {},
   "outputs": [],
   "source": [
    "# Copy the original data set\n",
    "df_test = df_orig.copy()"
   ]
  },
  {
   "cell_type": "code",
   "execution_count": 37,
   "metadata": {},
   "outputs": [],
   "source": [
    "# Separate features into categorical, numerical and category\n",
    "cat_vars = ['Agent_Type', 'Agent_Branch_Code','Agent_Reporting_Level','Territory','Source','Major_Class',\n",
    "            'Statistical_Code','Distribution_Channel','Product_Category','Settlement_Basis','Reconciliation',\n",
    "            'Agent_Gender']\n",
    "\n",
    "num_vars = ['Credit_Limit','Number_of_Policies', 'Number_of_Claims', 'Total_Claim_Paid_Amount','Total_Commission_Amount']\n",
    "\n",
    "date_vars = ['Date_of_Appointment', 'Date_of_Termination', 'Agent_Date_of_Birth' ]"
   ]
  },
  {
   "cell_type": "code",
   "execution_count": 38,
   "metadata": {},
   "outputs": [],
   "source": [
    "# Convert date columns\n",
    "date_vars = ['Date_of_Appointment','Date_of_Termination','Agent_Date_of_Birth' ]\n",
    "for var in date_vars:\n",
    "    df_test[var]=pd.to_datetime(df_test[var].astype(str), format='%Y-%m-%d')"
   ]
  },
  {
   "cell_type": "code",
   "execution_count": 39,
   "metadata": {},
   "outputs": [],
   "source": [
    "# Convert to 'category' object type\n",
    "for var in cat_vars:\n",
    "    df_test[var] = df_test[var].astype('category')"
   ]
  },
  {
   "cell_type": "code",
   "execution_count": 40,
   "metadata": {},
   "outputs": [],
   "source": [
    "# Create Dummy Variables for categorical variables\n",
    "for var in cat_vars:\n",
    "    cat_list = 'var'+'_'+var\n",
    "    cat_list = pd.get_dummies(df_test[var], prefix=var)\n",
    "    dummy_data = df_test.join(cat_list)\n",
    "    df_test = dummy_data"
   ]
  },
  {
   "cell_type": "code",
   "execution_count": 41,
   "metadata": {},
   "outputs": [
    {
     "data": {
      "text/plain": [
       "(10407, 102)"
      ]
     },
     "execution_count": 41,
     "metadata": {},
     "output_type": "execute_result"
    }
   ],
   "source": [
    "# Check data shape after dummy encoding\n",
    "df_test.shape"
   ]
  },
  {
   "cell_type": "code",
   "execution_count": 42,
   "metadata": {},
   "outputs": [],
   "source": [
    "# Remove original columns for which dummy variables have been created and also the taget value 'Churn'\n",
    "vars_remove = ['Agent_Type', 'Agent_Branch_Code','Agent_Reporting_Level','Territory','Source','Major_Class',\n",
    "            'Statistical_Code','Distribution_Channel','Product_Category','Settlement_Basis','Reconciliation',\n",
    "            'Agent_Gender','Churn']\n",
    "\n",
    "for var in vars_remove:\n",
    "    df_test=df_test.drop(var, axis=1)"
   ]
  },
  {
   "cell_type": "markdown",
   "metadata": {},
   "source": [
    "### Feature Engineering"
   ]
  },
  {
   "cell_type": "code",
   "execution_count": 43,
   "metadata": {},
   "outputs": [],
   "source": [
    "# Get current date\n",
    "current_time = datetime.datetime.now() "
   ]
  },
  {
   "cell_type": "code",
   "execution_count": 44,
   "metadata": {},
   "outputs": [],
   "source": [
    "# Create a new column 'Age' on the basis of date of birth of agent\n",
    "df_test['age'] = current_time - df_test['Agent_Date_of_Birth']"
   ]
  },
  {
   "cell_type": "code",
   "execution_count": 45,
   "metadata": {},
   "outputs": [],
   "source": [
    "# Create a new column named 'service period' on the basis of difference between Agent Date of Registration and Termination.\n",
    "# In case date of Termination is null we will replace it with current date and compute\n",
    "\n",
    "service_period=[]\n",
    "\n",
    "for Date_of_Termination,Date_of_Appointment in zip(df_test.iloc[:,2], df_test.iloc[:,1]):\n",
    "    if Date_of_Termination is pd.NaT:\n",
    "        service_period.append(abs(current_time-Date_of_Appointment))\n",
    "    else:\n",
    "        service_period.append(abs(Date_of_Termination-Date_of_Appointment))\n"
   ]
  },
  {
   "cell_type": "code",
   "execution_count": 46,
   "metadata": {},
   "outputs": [],
   "source": [
    "# Append the new column to dataframe\n",
    "df_test['Service_Period']=service_period\n",
    "\n",
    "# Remove the orginal columns\n",
    "df_test=df_test.drop('Date_of_Appointment', axis=1)\n",
    "df_test=df_test.drop('Date_of_Termination', axis=1)\n",
    "df_test=df_test.drop('Agent_Date_of_Birth', axis=1)\n",
    "\n",
    "# Remove Agent Number since it is not critical for prediction\n",
    "df_test=df_test.drop('Agent_Number', axis=1)"
   ]
  },
  {
   "cell_type": "code",
   "execution_count": 47,
   "metadata": {},
   "outputs": [],
   "source": [
    "# Normalize the new columns \n",
    "scaler = MinMaxScaler()\n",
    "df_test['age'] = scaler.fit_transform(df_test['age'].values.reshape(-1,1))\n",
    "df_test['Service_Period'] = scaler.fit_transform(df_test['Service_Period'].values.reshape(-1,1))"
   ]
  },
  {
   "cell_type": "code",
   "execution_count": 50,
   "metadata": {},
   "outputs": [],
   "source": [
    "# Make predictions\n",
    "prediction_class = TPOT_Fit_pipeline.predict(df_test)\n",
    "prediction_prob = TPOT_Fit_pipeline.predict_proba(df_test)\n",
    "\n",
    "# Get Individual Probabilities\n",
    "not_churn, churn = (prediction_prob).T"
   ]
  },
  {
   "cell_type": "code",
   "execution_count": 51,
   "metadata": {},
   "outputs": [],
   "source": [
    "# Save original dataframe in a separate dataframe\n",
    "df_results = df_orig.copy()"
   ]
  },
  {
   "cell_type": "code",
   "execution_count": 52,
   "metadata": {},
   "outputs": [],
   "source": [
    "# Remove target column\n",
    "df_results=df_results.drop('Churn',axis=1)"
   ]
  },
  {
   "cell_type": "code",
   "execution_count": 53,
   "metadata": {},
   "outputs": [],
   "source": [
    "# Replace target column with predicted value of '0' or '1' along with respective probablities\n",
    "df_results['notchurn'] = not_churn\n",
    "df_results['churn'] = churn\n",
    "df_results['churn_prediction_class'] = prediction_class"
   ]
  },
  {
   "cell_type": "markdown",
   "metadata": {},
   "source": [
    "### Though care has been taken in testing the query output, still double check for duplicate rows for an agent in the csv file"
   ]
  },
  {
   "cell_type": "code",
   "execution_count": 54,
   "metadata": {},
   "outputs": [],
   "source": [
    "df_results.to_csv('EX_SOURCE_AGENT_CHURN_PNC.csv', index = None, header=True) "
   ]
  },
  {
   "cell_type": "markdown",
   "metadata": {},
   "source": [
    "### Save Model as PMML file"
   ]
  },
  {
   "cell_type": "code",
   "execution_count": 55,
   "metadata": {},
   "outputs": [
    {
     "data": {
      "text/plain": [
       "['pnc_agent_churn.pmml']"
      ]
     },
     "execution_count": 55,
     "metadata": {},
     "output_type": "execute_result"
    }
   ],
   "source": [
    "joblib.dump(TPOT_Fit_pipeline, 'pnc_agent_churn.pmml') "
   ]
  },
  {
   "cell_type": "code",
   "execution_count": null,
   "metadata": {},
   "outputs": [],
   "source": []
  }
 ],
 "metadata": {
  "kernelspec": {
   "display_name": "Python 3",
   "language": "python",
   "name": "python3"
  },
  "language_info": {
   "codemirror_mode": {
    "name": "ipython",
    "version": 3
   },
   "file_extension": ".py",
   "mimetype": "text/x-python",
   "name": "python",
   "nbconvert_exporter": "python",
   "pygments_lexer": "ipython3",
   "version": "3.7.7"
  }
 },
 "nbformat": 4,
 "nbformat_minor": 4
}
