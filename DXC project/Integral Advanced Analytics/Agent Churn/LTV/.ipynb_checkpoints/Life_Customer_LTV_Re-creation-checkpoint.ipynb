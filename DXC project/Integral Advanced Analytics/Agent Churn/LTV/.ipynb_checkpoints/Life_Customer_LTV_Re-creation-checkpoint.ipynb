{
 "cells": [
  {
   "cell_type": "code",
   "execution_count": 1,
   "metadata": {},
   "outputs": [],
   "source": [
    "#pip install lifelines"
   ]
  },
  {
   "cell_type": "code",
   "execution_count": 2,
   "metadata": {},
   "outputs": [],
   "source": [
    "import pandas as pd\n",
    "import seaborn as sns\n",
    "import numpy as np\n",
    "from matplotlib import pyplot as plt\n",
    "from sklearn.preprocessing import LabelEncoder,StandardScaler\n",
    "from lifelines.utils import to_long_format\n",
    "import matplotlib.pyplot as plt\n",
    "import sys\n",
    "from lifelines import CoxPHFitter\n",
    "from lifelines.utils import k_fold_cross_validation"
   ]
  },
  {
   "cell_type": "code",
   "execution_count": 3,
   "metadata": {},
   "outputs": [],
   "source": [
    "# Enter ip address and port number of the system where the database resides.\n",
    "server = '20.198.58.32' \n",
    "database = 'INT77DB2014'  \n",
    "username = 'boadmin' \n",
    "password = 'BoAdmin12#$'"
   ]
  },
  {
   "cell_type": "code",
   "execution_count": 4,
   "metadata": {},
   "outputs": [],
   "source": [
    "# Add appropriate driver name\n",
    "import pyodbc\n",
    "cnxn = pyodbc.connect('DRIVER={SQL Server};SERVER='+server+';DATABASE='+database+';UID='+username+';PWD='+ password)\n",
    "cursor = cnxn.cursor()"
   ]
  },
  {
   "cell_type": "code",
   "execution_count": 5,
   "metadata": {},
   "outputs": [],
   "source": [
    "query = '''select distinct clntnum,\n",
    "c.cltsex,\n",
    "rtrim(c.GIVNAME)+' '+rtrim(c.SURNAME) client_name,\n",
    "c.marryd,\n",
    "occpcode,\n",
    "upper(c.CLTADDR05) clientregion,\n",
    "case when (select count(1) from \n",
    "vm1dta.ustfpf u,vm1dta.chdrpf pol \n",
    "where pol.CHDRNUM=u.chdrnum and pol.COWNNUM=c.clntnum and pol.VALIDFLAG=1) >0 \n",
    "then 1 else 0 end marketbased, --market product identified based on transactions in ustfpf\n",
    "case when entry_age between 0 and 20 then 'young age'\n",
    "when entry_age between 21 and 50 then 'working age group' \n",
    "when entry_age between 51 and 60 then 'old age' \n",
    "when entry_age > 60 then 'retired group'\n",
    "end entry_age, --entry age used instead of current age\n",
    "case when (select count(1) from vm1dta.chdrpf pol \n",
    "where pol.VALIDFLAG=1 and pol.STATCODE ='IF' and pol.COWNNUM = c.clntnum and pol.CURRTO=99999999) > 0 then 0 else 1 end \n",
    "churn,\n",
    "case when amtpaid >= 0 and amtpaid <= 100000 then 'low value' \n",
    "when amtpaid >= 100001 and amtpaid <= 1000000 then 'medium value' \n",
    "when  amtpaid > 1000001 then 'high value' \n",
    "end amtpaid,\n",
    "case when (select datediff(day,cast(cast(min(occdate) as varchar(8)) as date),getdate()) from vm1dta.chdrpf pol where pol.COWNNUM = c.CLNTNUM and pol.VALIDFLAG=1) <0 then 10 \n",
    "else  (select datediff(day,cast(cast(min(occdate) as varchar(8)) as date),getdate()) from vm1dta.chdrpf pol where pol.COWNNUM = c.CLNTNUM and pol.VALIDFLAG=1) end elapseddays\n",
    "from vm1dta.clntpf c,\n",
    "(select min(ANBCCD) entry_age,COWNNUM\n",
    "from vm1dta.lifepf l,vm1dta.chdrpf pol  where l.chdrnum=pol.chdrnum and life='01' and l.VALIDFLAG=1 and pol.VALIDFLAG\n",
    "=1 and l.lifcnum=pol.COWNNUM group by COWNNUM) age_band,\n",
    "(select c.cownnum,sum(acctamt) amtpaid from vm1dta.rtrnpf r,vm1dta.chdrpf c \n",
    "where r.rldgacct=c.chdrnum and rtrim(r.sacscode)='LP' and rtrim(r.sacstyp)='S' and c.validflag=1 and r.BATCTRCDE='B522'\n",
    "group by c.cownnum) total_paid\n",
    "where validflag=1\n",
    "and C.CLNTNUM = age_band.COWNNUM\n",
    "and c.CLNTNUM = total_paid.COWNNUM\n",
    "and c.cltdod = 99999999 --condition for death'''\n"
   ]
  },
  {
   "cell_type": "code",
   "execution_count": 6,
   "metadata": {},
   "outputs": [],
   "source": [
    "# inputDf stores the data from the above query \n",
    "inputDf = pd.read_sql(query,cnxn)"
   ]
  },
  {
   "cell_type": "code",
   "execution_count": 7,
   "metadata": {},
   "outputs": [],
   "source": [
    "#getting premiums and cost as a separate dataset for each customer\n",
    "query1 = '''select clntnum,premium,isnull(claimpaid,0),(premium-isnull(claimpaid,0)) net_profit\n",
    "from(\n",
    "select distinct clntnum,premium,\n",
    "(select sum(TOTAMNT) from vm1dta.regppf p ,vm1dta.chdrpf pol where p.CHDRNUM \n",
    "\n",
    "=pol.chdrnum  and c.validflag=1 and pol.VALIDFLAG\n",
    "=1 and pol.COWNNUM = c.CLNTNUM) claimpaid\n",
    "from vm1dta.clntpf c,\n",
    "(select c.cownnum,sum(acctamt) premium from vm1dta.rtrnpf r,vm1dta.chdrpf c \n",
    "where r.rldgacct=c.chdrnum and rtrim(r.sacscode)='LP' and rtrim(r.sacstyp)='S' and \n",
    "\n",
    "c.validflag=1 and r.BATCTRCDE='B522'\n",
    "group by c.cownnum) total_paid\n",
    "where CLTTYPE='P' and CLTIND ='C' and validflag=1\n",
    "and c.CLNTNUM = total_paid.COWNNUM)t'''"
   ]
  },
  {
   "cell_type": "code",
   "execution_count": 8,
   "metadata": {},
   "outputs": [],
   "source": [
    "# Read data\n",
    "premiumDf = pd.read_sql(query1,cnxn)\n",
    "\n",
    "# Close the cursor\n",
    "cursor.close() "
   ]
  },
  {
   "cell_type": "code",
   "execution_count": 9,
   "metadata": {},
   "outputs": [
    {
     "data": {
      "text/html": [
       "<div>\n",
       "<style scoped>\n",
       "    .dataframe tbody tr th:only-of-type {\n",
       "        vertical-align: middle;\n",
       "    }\n",
       "\n",
       "    .dataframe tbody tr th {\n",
       "        vertical-align: top;\n",
       "    }\n",
       "\n",
       "    .dataframe thead th {\n",
       "        text-align: right;\n",
       "    }\n",
       "</style>\n",
       "<table border=\"1\" class=\"dataframe\">\n",
       "  <thead>\n",
       "    <tr style=\"text-align: right;\">\n",
       "      <th></th>\n",
       "      <th>clntnum</th>\n",
       "      <th>cltsex</th>\n",
       "      <th>client_name</th>\n",
       "      <th>marryd</th>\n",
       "      <th>occpcode</th>\n",
       "      <th>clientregion</th>\n",
       "      <th>marketbased</th>\n",
       "      <th>entry_age</th>\n",
       "      <th>churn</th>\n",
       "      <th>amtpaid</th>\n",
       "      <th>elapseddays</th>\n",
       "    </tr>\n",
       "  </thead>\n",
       "  <tbody>\n",
       "    <tr>\n",
       "      <th>0</th>\n",
       "      <td>0001828</td>\n",
       "      <td>M</td>\n",
       "      <td>Raj Mathur</td>\n",
       "      <td>M</td>\n",
       "      <td></td>\n",
       "      <td>...</td>\n",
       "      <td>1</td>\n",
       "      <td>working age group</td>\n",
       "      <td>0</td>\n",
       "      <td>high value</td>\n",
       "      <td>3771</td>\n",
       "    </tr>\n",
       "    <tr>\n",
       "      <th>1</th>\n",
       "      <td>0001888</td>\n",
       "      <td>M</td>\n",
       "      <td>Ram Singh</td>\n",
       "      <td>S</td>\n",
       "      <td></td>\n",
       "      <td>...</td>\n",
       "      <td>1</td>\n",
       "      <td>working age group</td>\n",
       "      <td>0</td>\n",
       "      <td>low value</td>\n",
       "      <td>1945</td>\n",
       "    </tr>\n",
       "    <tr>\n",
       "      <th>2</th>\n",
       "      <td>0001906</td>\n",
       "      <td>M</td>\n",
       "      <td>Scott Fritz</td>\n",
       "      <td>M</td>\n",
       "      <td>ANYS</td>\n",
       "      <td>...</td>\n",
       "      <td>1</td>\n",
       "      <td>working age group</td>\n",
       "      <td>0</td>\n",
       "      <td>low value</td>\n",
       "      <td>119</td>\n",
       "    </tr>\n",
       "    <tr>\n",
       "      <th>3</th>\n",
       "      <td>0001908</td>\n",
       "      <td>M</td>\n",
       "      <td>Personal Personal one</td>\n",
       "      <td>M</td>\n",
       "      <td>ANYS</td>\n",
       "      <td>...</td>\n",
       "      <td>1</td>\n",
       "      <td>working age group</td>\n",
       "      <td>0</td>\n",
       "      <td>medium value</td>\n",
       "      <td>119</td>\n",
       "    </tr>\n",
       "    <tr>\n",
       "      <th>4</th>\n",
       "      <td>0002012</td>\n",
       "      <td>M</td>\n",
       "      <td>Angelino Antonio</td>\n",
       "      <td>M</td>\n",
       "      <td>ACON</td>\n",
       "      <td>...</td>\n",
       "      <td>0</td>\n",
       "      <td>working age group</td>\n",
       "      <td>0</td>\n",
       "      <td>low value</td>\n",
       "      <td>2634</td>\n",
       "    </tr>\n",
       "  </tbody>\n",
       "</table>\n",
       "</div>"
      ],
      "text/plain": [
       "    clntnum cltsex            client_name marryd occpcode  \\\n",
       "0  0001828       M             Raj Mathur      M            \n",
       "1  0001888       M              Ram Singh      S            \n",
       "2  0001906       M            Scott Fritz      M     ANYS   \n",
       "3  0001908       M  Personal Personal one      M     ANYS   \n",
       "4  0002012       M       Angelino Antonio      M     ACON   \n",
       "\n",
       "                                        clientregion  marketbased  \\\n",
       "0                                                ...            1   \n",
       "1                                                ...            1   \n",
       "2                                                ...            1   \n",
       "3                                                ...            1   \n",
       "4                                                ...            0   \n",
       "\n",
       "           entry_age  churn       amtpaid  elapseddays  \n",
       "0  working age group      0    high value         3771  \n",
       "1  working age group      0     low value         1945  \n",
       "2  working age group      0     low value          119  \n",
       "3  working age group      0  medium value          119  \n",
       "4  working age group      0     low value         2634  "
      ]
     },
     "execution_count": 9,
     "metadata": {},
     "output_type": "execute_result"
    }
   ],
   "source": [
    "inputDf.head()"
   ]
  },
  {
   "cell_type": "code",
   "execution_count": 10,
   "metadata": {},
   "outputs": [
    {
     "data": {
      "text/plain": [
       "(729, 11)"
      ]
     },
     "execution_count": 10,
     "metadata": {},
     "output_type": "execute_result"
    }
   ],
   "source": [
    "inputDf.shape"
   ]
  },
  {
   "cell_type": "code",
   "execution_count": 11,
   "metadata": {},
   "outputs": [
    {
     "data": {
      "text/plain": [
       "Index(['clntnum', 'cltsex', 'client_name', 'marryd', 'occpcode',\n",
       "       'clientregion', 'marketbased', 'entry_age', 'churn', 'amtpaid',\n",
       "       'elapseddays'],\n",
       "      dtype='object')"
      ]
     },
     "execution_count": 11,
     "metadata": {},
     "output_type": "execute_result"
    }
   ],
   "source": [
    "inputDf.columns"
   ]
  },
  {
   "cell_type": "code",
   "execution_count": 12,
   "metadata": {},
   "outputs": [
    {
     "data": {
      "text/plain": [
       "array(['M', 'S', ' ', 'Z', 'D', 'C', None], dtype=object)"
      ]
     },
     "execution_count": 12,
     "metadata": {},
     "output_type": "execute_result"
    }
   ],
   "source": [
    "inputDf['marryd'].unique()"
   ]
  },
  {
   "cell_type": "code",
   "execution_count": 13,
   "metadata": {},
   "outputs": [
    {
     "data": {
      "text/html": [
       "<div>\n",
       "<style scoped>\n",
       "    .dataframe tbody tr th:only-of-type {\n",
       "        vertical-align: middle;\n",
       "    }\n",
       "\n",
       "    .dataframe tbody tr th {\n",
       "        vertical-align: top;\n",
       "    }\n",
       "\n",
       "    .dataframe thead th {\n",
       "        text-align: right;\n",
       "    }\n",
       "</style>\n",
       "<table border=\"1\" class=\"dataframe\">\n",
       "  <thead>\n",
       "    <tr style=\"text-align: right;\">\n",
       "      <th></th>\n",
       "      <th>clntnum</th>\n",
       "      <th>premium</th>\n",
       "      <th></th>\n",
       "      <th>net_profit</th>\n",
       "    </tr>\n",
       "  </thead>\n",
       "  <tbody>\n",
       "    <tr>\n",
       "      <th>0</th>\n",
       "      <td>0001529</td>\n",
       "      <td>117589.00</td>\n",
       "      <td>0.0</td>\n",
       "      <td>117589.00</td>\n",
       "    </tr>\n",
       "    <tr>\n",
       "      <th>1</th>\n",
       "      <td>0001588</td>\n",
       "      <td>43957.24</td>\n",
       "      <td>3744.5</td>\n",
       "      <td>40212.74</td>\n",
       "    </tr>\n",
       "    <tr>\n",
       "      <th>2</th>\n",
       "      <td>0001611</td>\n",
       "      <td>388195.38</td>\n",
       "      <td>0.0</td>\n",
       "      <td>388195.38</td>\n",
       "    </tr>\n",
       "    <tr>\n",
       "      <th>3</th>\n",
       "      <td>0001645</td>\n",
       "      <td>462155.18</td>\n",
       "      <td>0.0</td>\n",
       "      <td>462155.18</td>\n",
       "    </tr>\n",
       "    <tr>\n",
       "      <th>4</th>\n",
       "      <td>0001649</td>\n",
       "      <td>102460.96</td>\n",
       "      <td>0.0</td>\n",
       "      <td>102460.96</td>\n",
       "    </tr>\n",
       "  </tbody>\n",
       "</table>\n",
       "</div>"
      ],
      "text/plain": [
       "    clntnum    premium          net_profit\n",
       "0  0001529   117589.00     0.0   117589.00\n",
       "1  0001588    43957.24  3744.5    40212.74\n",
       "2  0001611   388195.38     0.0   388195.38\n",
       "3  0001645   462155.18     0.0   462155.18\n",
       "4  0001649   102460.96     0.0   102460.96"
      ]
     },
     "execution_count": 13,
     "metadata": {},
     "output_type": "execute_result"
    }
   ],
   "source": [
    "premiumDf.head()"
   ]
  },
  {
   "cell_type": "code",
   "execution_count": 14,
   "metadata": {},
   "outputs": [
    {
     "data": {
      "text/plain": [
       "(1258, 4)"
      ]
     },
     "execution_count": 14,
     "metadata": {},
     "output_type": "execute_result"
    }
   ],
   "source": [
    "premiumDf.shape"
   ]
  },
  {
   "cell_type": "code",
   "execution_count": 15,
   "metadata": {},
   "outputs": [],
   "source": [
    "#data set for coordinates , to be mapped to client region for now\n",
    "regionDf=pd.read_csv(\"coordinates.csv\")\n",
    "regionDf.drop('region_code',inplace=True,axis=1)\n",
    "regionDf['clientregion']=[name.upper().strip(' ') for name in regionDf.province]\n",
    "\n",
    "inputDf['clientregion']=[name.upper().strip(' ') for name in inputDf.clientregion]"
   ]
  },
  {
   "cell_type": "code",
   "execution_count": 16,
   "metadata": {},
   "outputs": [],
   "source": [
    "#model will not require the customer number, but would be required to merge with output\n",
    "modelDf=inputDf.drop('clntnum',axis=1)\n",
    "modelDf.drop('client_name',inplace=True,axis=1)\n",
    "#modelDf=modelDf.merge(regionDf,how='left',on='clientregion')\n",
    "modelDf.occpcode.fillna('ANYS',inplace=True)\n",
    "modelDf.amtpaid.fillna('medium value',inplace=True)\n",
    "modelDf.marryd.fillna('medium value',inplace=True)\n",
    "modelDf.drop('clientregion',inplace=True,axis=1)\n",
    "'''modelDf.drop('province',inplace=True,axis=1)\n",
    "modelDf.drop('latitude',inplace=True,axis=1)\n",
    "modelDf.drop('longitude',inplace=True,axis=1)'''\n",
    "\n",
    "inputDfCoordinates=inputDf.merge(regionDf,how='left',on='clientregion')"
   ]
  },
  {
   "cell_type": "code",
   "execution_count": 17,
   "metadata": {},
   "outputs": [],
   "source": [
    "lb=LabelEncoder()"
   ]
  },
  {
   "cell_type": "code",
   "execution_count": 18,
   "metadata": {},
   "outputs": [],
   "source": [
    "modelDf['cltsex']=lb.fit_transform(modelDf['cltsex'])\n",
    "modelDf['marryd']=lb.fit_transform(modelDf['marryd'])\n",
    "modelDf['occpcode']=lb.fit_transform(modelDf['occpcode'])\n",
    "modelDf['amtpaid']=lb.fit_transform(modelDf['amtpaid'])\n",
    "modelDf['entry_age']=lb.fit_transform(modelDf['entry_age'])\n",
    "#modelDf.latitude.fillna(value=0,inplace=True)\n",
    "#modelDf.longitude.fillna(value=0,inplace=True)\n",
    "#modelDf.head(100)"
   ]
  },
  {
   "cell_type": "code",
   "execution_count": 19,
   "metadata": {},
   "outputs": [
    {
     "data": {
      "text/plain": [
       "<matplotlib.axes._subplots.AxesSubplot at 0x1e15b5a52b0>"
      ]
     },
     "execution_count": 19,
     "metadata": {},
     "output_type": "execute_result"
    },
    {
     "data": {
      "image/png": "[encoded data removed]",
      "text/plain": [
       "<Figure size 432x288 with 2 Axes>"
      ]
     },
     "metadata": {
      "needs_background": "light"
     },
     "output_type": "display_data"
    }
   ],
   "source": [
    "#to find the correlation between features\n",
    "corr=modelDf.corr()\n",
    "sns.heatmap(corr,annot=True,cmap=plt.cm.Reds)\n",
    "\n",
    "#plt.show()"
   ]
  },
  {
   "cell_type": "code",
   "execution_count": 20,
   "metadata": {},
   "outputs": [
    {
     "name": "stdout",
     "output_type": "stream",
     "text": [
      "cltsex         0.002605\n",
      "marryd         0.021429\n",
      "occpcode       0.051592\n",
      "marketbased    0.099243\n",
      "entry_age      0.012343\n",
      "churn          1.000000\n",
      "amtpaid        0.059758\n",
      "elapseddays    0.031108\n",
      "Name: churn, dtype: float64\n",
      "churn    1.0\n",
      "Name: churn, dtype: float64\n"
     ]
    }
   ],
   "source": [
    "cor_target = abs(corr[\"churn\"])\n",
    "print(cor_target)\n",
    "relevant_features = cor_target[cor_target>0.1]\n",
    "print(relevant_features)"
   ]
  },
  {
   "cell_type": "code",
   "execution_count": 21,
   "metadata": {},
   "outputs": [
    {
     "name": "stdout",
     "output_type": "stream",
     "text": [
      "output from show progress\n",
      "///////////////////////////////////\n",
      "Iteration 1: norm_delta = 0.67181, step_size = 0.1000, log_lik = -148.63186, newton_decrement = 6.42456, seconds_since_start = 0.0\n",
      "Iteration 2: norm_delta = 0.62403, step_size = 0.1000, log_lik = -147.41042, newton_decrement = 5.43825, seconds_since_start = 0.0\n",
      "Iteration 3: norm_delta = 0.58550, step_size = 0.1000, log_lik = -146.37636, newton_decrement = 4.64180, seconds_since_start = 0.0\n",
      "Iteration 4: norm_delta = 0.54916, step_size = 0.1200, log_lik = -145.32782, newton_decrement = 3.87038, seconds_since_start = 0.0\n",
      "Iteration 5: norm_delta = 0.51838, step_size = 0.1440, log_lik = -144.29121, newton_decrement = 3.14659, seconds_since_start = 0.0\n",
      "Iteration 6: norm_delta = 0.49934, step_size = 0.1728, log_lik = -143.29423, newton_decrement = 2.49354, seconds_since_start = 0.0\n",
      "Iteration 7: norm_delta = 0.50384, step_size = 0.2074, log_lik = -142.36193, newton_decrement = 1.93413, seconds_since_start = 0.0\n",
      "Iteration 8: norm_delta = 0.54218, step_size = 0.2032, log_lik = -141.65111, newton_decrement = 1.56145, seconds_since_start = 0.0\n",
      "Iteration 9: norm_delta = 0.61747, step_size = 0.1991, log_lik = -141.08702, newton_decrement = 1.31654, seconds_since_start = 0.0\n",
      "Iteration 10: norm_delta = 0.73173, step_size = 0.1952, log_lik = -140.61949, newton_decrement = 1.15969, seconds_since_start = 0.1\n",
      "Iteration 11: norm_delta = 0.88252, step_size = 0.1913, log_lik = -140.21475, newton_decrement = 1.05936, seconds_since_start = 0.1\n",
      "Iteration 12: norm_delta = 1.05756, step_size = 0.1874, log_lik = -139.85154, newton_decrement = 0.98631, seconds_since_start = 0.1\n",
      "Iteration 13: norm_delta = 1.23239, step_size = 0.1837, log_lik = -139.51956, newton_decrement = 0.91481, seconds_since_start = 0.1\n",
      "Iteration 14: norm_delta = 1.37992, step_size = 0.1800, log_lik = -139.21745, newton_decrement = 0.83053, seconds_since_start = 0.1\n",
      "Iteration 15: norm_delta = 1.48671, step_size = 0.1764, log_lik = -138.94840, newton_decrement = 0.73486, seconds_since_start = 0.1\n",
      "Iteration 16: norm_delta = 1.55664, step_size = 0.1729, log_lik = -138.71485, newton_decrement = 0.63759, seconds_since_start = 0.1\n",
      "Iteration 17: norm_delta = 1.60094, step_size = 0.1694, log_lik = -138.51602, newton_decrement = 0.54716, seconds_since_start = 0.1\n",
      "Iteration 18: norm_delta = 1.62952, step_size = 0.1660, log_lik = -138.34857, newton_decrement = 0.46741, seconds_since_start = 0.1\n",
      "Iteration 19: norm_delta = 1.64879, step_size = 0.1627, log_lik = -138.20817, newton_decrement = 0.39898, seconds_since_start = 0.1\n",
      "Iteration 20: norm_delta = 1.66242, step_size = 0.1595, log_lik = -138.09054, newton_decrement = 0.34095, seconds_since_start = 0.1\n",
      "Iteration 21: norm_delta = 1.67247, step_size = 0.1563, log_lik = -137.99188, newton_decrement = 0.29197, seconds_since_start = 0.1\n",
      "Iteration 22: norm_delta = 1.68011, step_size = 0.1531, log_lik = -137.90896, newton_decrement = 0.25067, seconds_since_start = 0.1\n",
      "Iteration 23: norm_delta = 1.68605, step_size = 0.1501, log_lik = -137.83909, newton_decrement = 0.21581, seconds_since_start = 0.1\n",
      "Iteration 24: norm_delta = 1.69076, step_size = 0.1471, log_lik = -137.78006, newton_decrement = 0.18632, seconds_since_start = 0.1\n",
      "Iteration 25: norm_delta = 1.69453, step_size = 0.1441, log_lik = -137.73004, newton_decrement = 0.16131, seconds_since_start = 0.1\n",
      "Iteration 26: norm_delta = 1.69758, step_size = 0.1413, log_lik = -137.68753, newton_decrement = 0.14006, seconds_since_start = 0.1\n",
      "Iteration 27: norm_delta = 1.70007, step_size = 0.1384, log_lik = -137.65132, newton_decrement = 0.12195, seconds_since_start = 0.1\n",
      "Iteration 28: norm_delta = 1.70213, step_size = 0.1357, log_lik = -137.62038, newton_decrement = 0.10647, seconds_since_start = 0.1\n",
      "Iteration 29: norm_delta = 1.70382, step_size = 0.1330, log_lik = -137.59387, newton_decrement = 0.09321, seconds_since_start = 0.1\n",
      "Iteration 30: norm_delta = 1.70524, step_size = 0.1303, log_lik = -137.57109, newton_decrement = 0.08182, seconds_since_start = 0.2\n",
      "Iteration 31: norm_delta = 1.70643, step_size = 0.1277, log_lik = -137.55148, newton_decrement = 0.07201, seconds_since_start = 0.2\n",
      "Iteration 32: norm_delta = 1.70743, step_size = 0.1251, log_lik = -137.53454, newton_decrement = 0.06354, seconds_since_start = 0.2\n",
      "Iteration 33: norm_delta = 1.70828, step_size = 0.1226, log_lik = -137.51987, newton_decrement = 0.05620, seconds_since_start = 0.2\n",
      "Iteration 34: norm_delta = 1.70900, step_size = 0.1202, log_lik = -137.50714, newton_decrement = 0.04983, seconds_since_start = 0.2\n",
      "Iteration 35: norm_delta = 1.70962, step_size = 0.1178, log_lik = -137.49607, newton_decrement = 0.04430, seconds_since_start = 0.2\n",
      "Iteration 36: norm_delta = 1.71015, step_size = 0.1154, log_lik = -137.48641, newton_decrement = 0.03947, seconds_since_start = 0.2\n",
      "Iteration 37: norm_delta = 1.71060, step_size = 0.1131, log_lik = -137.47797, newton_decrement = 0.03524, seconds_since_start = 0.2\n",
      "Iteration 38: norm_delta = 1.71100, step_size = 0.1108, log_lik = -137.47058, newton_decrement = 0.03155, seconds_since_start = 0.2\n",
      "Iteration 39: norm_delta = 1.71134, step_size = 0.1086, log_lik = -137.46408, newton_decrement = 0.02830, seconds_since_start = 0.2\n",
      "Iteration 40: norm_delta = 1.71163, step_size = 0.1065, log_lik = -137.45836, newton_decrement = 0.02544, seconds_since_start = 0.2\n",
      "Iteration 41: norm_delta = 1.71190, step_size = 0.1043, log_lik = -137.45332, newton_decrement = 0.02292, seconds_since_start = 0.2\n",
      "Iteration 42: norm_delta = 1.71212, step_size = 0.1022, log_lik = -137.44887, newton_decrement = 0.02069, seconds_since_start = 0.2\n",
      "Iteration 43: norm_delta = 1.71232, step_size = 0.1002, log_lik = -137.44492, newton_decrement = 0.01872, seconds_since_start = 0.2\n",
      "Iteration 44: norm_delta = 1.71250, step_size = 0.0982, log_lik = -137.44142, newton_decrement = 0.01697, seconds_since_start = 0.2\n",
      "Iteration 45: norm_delta = 1.71266, step_size = 0.0962, log_lik = -137.43831, newton_decrement = 0.01541, seconds_since_start = 0.2\n",
      "Iteration 46: norm_delta = 1.71279, step_size = 0.0943, log_lik = -137.43553, newton_decrement = 0.01402, seconds_since_start = 0.2\n",
      "Iteration 47: norm_delta = 1.71292, step_size = 0.0924, log_lik = -137.43306, newton_decrement = 0.01279, seconds_since_start = 0.2\n",
      "Iteration 48: norm_delta = 1.71302, step_size = 0.0906, log_lik = -137.43084, newton_decrement = 0.01168, seconds_since_start = 0.3\n",
      "Iteration 49: norm_delta = 1.71312, step_size = 0.0888, log_lik = -137.42886, newton_decrement = 0.01069, seconds_since_start = 0.3\n",
      "Iteration 50: norm_delta = 1.71321, step_size = 0.0870, log_lik = -137.42708, newton_decrement = 0.00980, seconds_since_start = 0.3\n",
      "Iteration 51: norm_delta = 1.71329, step_size = 0.0852, log_lik = -137.42548, newton_decrement = 0.00900, seconds_since_start = 0.3\n",
      "Iteration 52: norm_delta = 1.71336, step_size = 0.0835, log_lik = -137.42404, newton_decrement = 0.00827, seconds_since_start = 0.3\n",
      "Iteration 53: norm_delta = 1.71342, step_size = 0.0819, log_lik = -137.42274, newton_decrement = 0.00762, seconds_since_start = 0.3\n",
      "Iteration 54: norm_delta = 1.71348, step_size = 0.0802, log_lik = -137.42156, newton_decrement = 0.00704, seconds_since_start = 0.3\n",
      "Iteration 55: norm_delta = 1.71353, step_size = 0.0786, log_lik = -137.42050, newton_decrement = 0.00650, seconds_since_start = 0.3\n",
      "Iteration 56: norm_delta = 1.71357, step_size = 0.0771, log_lik = -137.41953, newton_decrement = 0.00602, seconds_since_start = 0.3\n",
      "Iteration 57: norm_delta = 1.71361, step_size = 0.0755, log_lik = -137.41866, newton_decrement = 0.00558, seconds_since_start = 0.3\n",
      "Iteration 58: norm_delta = 1.71365, step_size = 0.0740, log_lik = -137.41786, newton_decrement = 0.00519, seconds_since_start = 0.3\n",
      "Iteration 59: norm_delta = 1.71369, step_size = 0.0725, log_lik = -137.41713, newton_decrement = 0.00482, seconds_since_start = 0.4\n",
      "Iteration 60: norm_delta = 1.71372, step_size = 0.0711, log_lik = -137.41647, newton_decrement = 0.00449, seconds_since_start = 0.4\n",
      "Iteration 61: norm_delta = 1.71375, step_size = 0.0697, log_lik = -137.41587, newton_decrement = 0.00419, seconds_since_start = 0.4\n",
      "Iteration 62: norm_delta = 1.71377, step_size = 0.0683, log_lik = -137.41531, newton_decrement = 0.00391, seconds_since_start = 0.4\n",
      "Iteration 63: norm_delta = 1.71380, step_size = 0.0669, log_lik = -137.41481, newton_decrement = 0.00366, seconds_since_start = 0.4\n",
      "Iteration 64: norm_delta = 1.71382, step_size = 0.0656, log_lik = -137.41434, newton_decrement = 0.00343, seconds_since_start = 0.4\n",
      "Iteration 65: norm_delta = 1.71384, step_size = 0.0642, log_lik = -137.41392, newton_decrement = 0.00321, seconds_since_start = 0.4\n",
      "Iteration 66: norm_delta = 1.71386, step_size = 0.0630, log_lik = -137.41352, newton_decrement = 0.00302, seconds_since_start = 0.4\n",
      "Iteration 67: norm_delta = 1.71387, step_size = 0.0617, log_lik = -137.41316, newton_decrement = 0.00284, seconds_since_start = 0.4\n",
      "Iteration 68: norm_delta = 1.71389, step_size = 0.0605, log_lik = -137.41283, newton_decrement = 0.00267, seconds_since_start = 0.4\n",
      "Iteration 69: norm_delta = 1.71390, step_size = 0.0593, log_lik = -137.41252, newton_decrement = 0.00252, seconds_since_start = 0.4\n",
      "Iteration 70: norm_delta = 1.71392, step_size = 0.0581, log_lik = -137.41224, newton_decrement = 0.00238, seconds_since_start = 0.4\n",
      "Iteration 71: norm_delta = 1.71393, step_size = 0.0569, log_lik = -137.41198, newton_decrement = 0.00224, seconds_since_start = 0.4\n",
      "Iteration 72: norm_delta = 1.71394, step_size = 0.0558, log_lik = -137.41173, newton_decrement = 0.00212, seconds_since_start = 0.4\n",
      "Iteration 73: norm_delta = 1.71395, step_size = 0.0547, log_lik = -137.41151, newton_decrement = 0.00201, seconds_since_start = 0.4\n",
      "Iteration 74: norm_delta = 1.71396, step_size = 0.0536, log_lik = -137.41130, newton_decrement = 0.00190, seconds_since_start = 0.4\n",
      "Iteration 75: norm_delta = 1.71397, step_size = 0.0525, log_lik = -137.41110, newton_decrement = 0.00181, seconds_since_start = 0.4\n",
      "Iteration 76: norm_delta = 1.71398, step_size = 0.0514, log_lik = -137.41092, newton_decrement = 0.00172, seconds_since_start = 0.5\n",
      "Iteration 77: norm_delta = 1.71399, step_size = 0.0504, log_lik = -137.41075, newton_decrement = 0.00163, seconds_since_start = 0.5\n",
      "Iteration 78: norm_delta = 1.71399, step_size = 0.0494, log_lik = -137.41059, newton_decrement = 0.00155, seconds_since_start = 0.5\n",
      "Iteration 79: norm_delta = 1.71400, step_size = 0.0484, log_lik = -137.41045, newton_decrement = 0.00148, seconds_since_start = 0.5\n",
      "Iteration 80: norm_delta = 1.71401, step_size = 0.0474, log_lik = -137.41031, newton_decrement = 0.00141, seconds_since_start = 0.5\n",
      "Iteration 81: norm_delta = 1.71401, step_size = 0.0465, log_lik = -137.41018, newton_decrement = 0.00135, seconds_since_start = 0.5\n",
      "Iteration 82: norm_delta = 1.71402, step_size = 0.0456, log_lik = -137.41006, newton_decrement = 0.00129, seconds_since_start = 0.5\n",
      "Iteration 83: norm_delta = 1.71402, step_size = 0.0447, log_lik = -137.40995, newton_decrement = 0.00123, seconds_since_start = 0.5\n",
      "Iteration 84: norm_delta = 1.71403, step_size = 0.0438, log_lik = -137.40984, newton_decrement = 0.00118, seconds_since_start = 0.5\n",
      "Iteration 85: norm_delta = 1.71403, step_size = 0.0429, log_lik = -137.40975, newton_decrement = 0.00113, seconds_since_start = 0.5\n",
      "Iteration 86: norm_delta = 1.71404, step_size = 0.0420, log_lik = -137.40965, newton_decrement = 0.00108, seconds_since_start = 0.5\n"
     ]
    },
    {
     "name": "stdout",
     "output_type": "stream",
     "text": [
      "Iteration 87: norm_delta = 1.71404, step_size = 0.0412, log_lik = -137.40957, newton_decrement = 0.00104, seconds_since_start = 0.5\n",
      "Iteration 88: norm_delta = 1.71405, step_size = 0.0404, log_lik = -137.40948, newton_decrement = 0.00100, seconds_since_start = 0.5\n",
      "Iteration 89: norm_delta = 1.71405, step_size = 0.0396, log_lik = -137.40941, newton_decrement = 0.00096, seconds_since_start = 0.5\n",
      "Iteration 90: norm_delta = 1.71405, step_size = 0.0388, log_lik = -137.40933, newton_decrement = 0.00092, seconds_since_start = 0.5\n",
      "Iteration 91: norm_delta = 1.71406, step_size = 0.0380, log_lik = -137.40926, newton_decrement = 0.00089, seconds_since_start = 0.5\n",
      "Iteration 92: norm_delta = 1.71406, step_size = 0.0372, log_lik = -137.40920, newton_decrement = 0.00086, seconds_since_start = 0.5\n",
      "Iteration 93: norm_delta = 1.71406, step_size = 0.0365, log_lik = -137.40914, newton_decrement = 0.00083, seconds_since_start = 0.5\n",
      "Iteration 94: norm_delta = 1.71406, step_size = 0.0358, log_lik = -137.40908, newton_decrement = 0.00080, seconds_since_start = 0.5\n",
      "Iteration 95: norm_delta = 1.71407, step_size = 0.0350, log_lik = -137.40902, newton_decrement = 0.00077, seconds_since_start = 0.5\n",
      "Iteration 96: norm_delta = 1.71407, step_size = 0.0343, log_lik = -137.40897, newton_decrement = 0.00074, seconds_since_start = 0.5\n",
      "Iteration 97: norm_delta = 1.71407, step_size = 0.0337, log_lik = -137.40892, newton_decrement = 0.00072, seconds_since_start = 0.6\n",
      "Iteration 98: norm_delta = 1.71407, step_size = 0.0330, log_lik = -137.40888, newton_decrement = 0.00069, seconds_since_start = 0.6\n",
      "Iteration 99: norm_delta = 1.71408, step_size = 0.0323, log_lik = -137.40883, newton_decrement = 0.00067, seconds_since_start = 0.6\n",
      "Iteration 100: norm_delta = 1.71408, step_size = 0.0317, log_lik = -137.40879, newton_decrement = 0.00065, seconds_since_start = 0.6\n",
      "Iteration 101: norm_delta = 1.71408, step_size = 0.0310, log_lik = -137.40875, newton_decrement = 0.00063, seconds_since_start = 0.6\n",
      "Iteration 102: norm_delta = 1.71408, step_size = 0.0304, log_lik = -137.40871, newton_decrement = 0.00061, seconds_since_start = 0.6\n",
      "Iteration 103: norm_delta = 1.71408, step_size = 0.0298, log_lik = -137.40868, newton_decrement = 0.00059, seconds_since_start = 0.6\n",
      "Iteration 104: norm_delta = 1.71408, step_size = 0.0292, log_lik = -137.40864, newton_decrement = 0.00058, seconds_since_start = 0.6\n",
      "Iteration 105: norm_delta = 1.71409, step_size = 0.0286, log_lik = -137.40861, newton_decrement = 0.00056, seconds_since_start = 0.6\n",
      "Iteration 106: norm_delta = 1.71409, step_size = 0.0281, log_lik = -137.40858, newton_decrement = 0.00055, seconds_since_start = 0.6\n",
      "Iteration 107: norm_delta = 1.71409, step_size = 0.0275, log_lik = -137.40855, newton_decrement = 0.00053, seconds_since_start = 0.6\n",
      "Iteration 108: norm_delta = 1.71409, step_size = 0.0269, log_lik = -137.40852, newton_decrement = 0.00052, seconds_since_start = 0.6\n",
      "Iteration 109: norm_delta = 1.71409, step_size = 0.0264, log_lik = -137.40849, newton_decrement = 0.00050, seconds_since_start = 0.6\n",
      "Iteration 110: norm_delta = 1.71409, step_size = 0.0259, log_lik = -137.40847, newton_decrement = 0.00049, seconds_since_start = 0.6\n",
      "Iteration 111: norm_delta = 1.71409, step_size = 0.0254, log_lik = -137.40844, newton_decrement = 0.00048, seconds_since_start = 0.6\n",
      "Iteration 112: norm_delta = 1.71409, step_size = 0.0249, log_lik = -137.40842, newton_decrement = 0.00047, seconds_since_start = 0.6\n",
      "Iteration 113: norm_delta = 1.71409, step_size = 0.0244, log_lik = -137.40840, newton_decrement = 0.00046, seconds_since_start = 0.6\n",
      "Iteration 114: norm_delta = 1.71410, step_size = 0.0239, log_lik = -137.40838, newton_decrement = 0.00044, seconds_since_start = 0.6\n",
      "Iteration 115: norm_delta = 1.71410, step_size = 0.0234, log_lik = -137.40836, newton_decrement = 0.00043, seconds_since_start = 0.6\n",
      "Iteration 116: norm_delta = 1.71410, step_size = 0.0229, log_lik = -137.40834, newton_decrement = 0.00042, seconds_since_start = 0.6\n",
      "Iteration 117: norm_delta = 1.71410, step_size = 0.0225, log_lik = -137.40832, newton_decrement = 0.00042, seconds_since_start = 0.6\n",
      "Iteration 118: norm_delta = 1.71410, step_size = 0.0220, log_lik = -137.40830, newton_decrement = 0.00041, seconds_since_start = 0.6\n",
      "Iteration 119: norm_delta = 1.71410, step_size = 0.0216, log_lik = -137.40828, newton_decrement = 0.00040, seconds_since_start = 0.7\n",
      "Iteration 120: norm_delta = 1.71410, step_size = 0.0211, log_lik = -137.40827, newton_decrement = 0.00039, seconds_since_start = 0.7\n",
      "Iteration 121: norm_delta = 1.71410, step_size = 0.0207, log_lik = -137.40825, newton_decrement = 0.00038, seconds_since_start = 0.7\n",
      "Iteration 122: norm_delta = 1.71410, step_size = 0.0203, log_lik = -137.40823, newton_decrement = 0.00037, seconds_since_start = 0.7\n",
      "Iteration 123: norm_delta = 1.71410, step_size = 0.0199, log_lik = -137.40822, newton_decrement = 0.00037, seconds_since_start = 0.7\n",
      "Iteration 124: norm_delta = 1.71410, step_size = 0.0195, log_lik = -137.40821, newton_decrement = 0.00036, seconds_since_start = 0.7\n",
      "Iteration 125: norm_delta = 1.71410, step_size = 0.0191, log_lik = -137.40819, newton_decrement = 0.00035, seconds_since_start = 0.7\n",
      "Iteration 126: norm_delta = 1.71411, step_size = 0.0187, log_lik = -137.40818, newton_decrement = 0.00035, seconds_since_start = 0.7\n",
      "Iteration 127: norm_delta = 1.71411, step_size = 0.0184, log_lik = -137.40817, newton_decrement = 0.00034, seconds_since_start = 0.7\n",
      "Iteration 128: norm_delta = 1.71411, step_size = 0.0180, log_lik = -137.40815, newton_decrement = 0.00033, seconds_since_start = 0.7\n",
      "Iteration 129: norm_delta = 1.71411, step_size = 0.0176, log_lik = -137.40814, newton_decrement = 0.00033, seconds_since_start = 0.7\n",
      "Iteration 130: norm_delta = 1.71411, step_size = 0.0173, log_lik = -137.40813, newton_decrement = 0.00032, seconds_since_start = 0.7\n",
      "Iteration 131: norm_delta = 1.71411, step_size = 0.0169, log_lik = -137.40812, newton_decrement = 0.00032, seconds_since_start = 0.7\n",
      "Iteration 132: norm_delta = 1.71411, step_size = 0.0166, log_lik = -137.40811, newton_decrement = 0.00031, seconds_since_start = 0.7\n",
      "Iteration 133: norm_delta = 1.71411, step_size = 0.0163, log_lik = -137.40810, newton_decrement = 0.00031, seconds_since_start = 0.7\n",
      "Iteration 134: norm_delta = 1.71411, step_size = 0.0159, log_lik = -137.40809, newton_decrement = 0.00030, seconds_since_start = 0.7\n",
      "Iteration 135: norm_delta = 1.71411, step_size = 0.0156, log_lik = -137.40808, newton_decrement = 0.00030, seconds_since_start = 0.7\n",
      "Iteration 136: norm_delta = 1.71411, step_size = 0.0153, log_lik = -137.40807, newton_decrement = 0.00029, seconds_since_start = 0.7\n",
      "Iteration 137: norm_delta = 1.71411, step_size = 0.0150, log_lik = -137.40806, newton_decrement = 0.00029, seconds_since_start = 0.8\n",
      "Iteration 138: norm_delta = 1.71411, step_size = 0.0147, log_lik = -137.40805, newton_decrement = 0.00028, seconds_since_start = 0.8\n",
      "Iteration 139: norm_delta = 1.71411, step_size = 0.0144, log_lik = -137.40805, newton_decrement = 0.00028, seconds_since_start = 0.8\n",
      "Iteration 140: norm_delta = 1.71411, step_size = 0.0141, log_lik = -137.40804, newton_decrement = 0.00028, seconds_since_start = 0.8\n",
      "Iteration 141: norm_delta = 1.71411, step_size = 0.0138, log_lik = -137.40803, newton_decrement = 0.00027, seconds_since_start = 0.8\n",
      "Iteration 142: norm_delta = 1.71411, step_size = 0.0136, log_lik = -137.40802, newton_decrement = 0.00027, seconds_since_start = 0.8\n",
      "Iteration 143: norm_delta = 1.71411, step_size = 0.0133, log_lik = -137.40802, newton_decrement = 0.00026, seconds_since_start = 0.8\n",
      "Iteration 144: norm_delta = 1.71411, step_size = 0.0130, log_lik = -137.40801, newton_decrement = 0.00026, seconds_since_start = 0.8\n",
      "Iteration 145: norm_delta = 1.71411, step_size = 0.0128, log_lik = -137.40800, newton_decrement = 0.00026, seconds_since_start = 0.8\n",
      "Iteration 146: norm_delta = 1.71411, step_size = 0.0125, log_lik = -137.40800, newton_decrement = 0.00025, seconds_since_start = 0.8\n",
      "Iteration 147: norm_delta = 1.71411, step_size = 0.0123, log_lik = -137.40799, newton_decrement = 0.00025, seconds_since_start = 0.8\n",
      "Iteration 148: norm_delta = 1.71411, step_size = 0.0120, log_lik = -137.40798, newton_decrement = 0.00025, seconds_since_start = 0.8\n",
      "Iteration 149: norm_delta = 1.71411, step_size = 0.0118, log_lik = -137.40798, newton_decrement = 0.00025, seconds_since_start = 0.8\n",
      "Iteration 150: norm_delta = 1.71411, step_size = 0.0115, log_lik = -137.40797, newton_decrement = 0.00024, seconds_since_start = 0.8\n",
      "Iteration 151: norm_delta = 1.71411, step_size = 0.0113, log_lik = -137.40797, newton_decrement = 0.00024, seconds_since_start = 0.8\n",
      "Iteration 152: norm_delta = 1.71411, step_size = 0.0111, log_lik = -137.40796, newton_decrement = 0.00024, seconds_since_start = 0.8\n",
      "Iteration 153: norm_delta = 1.71412, step_size = 0.0109, log_lik = -137.40796, newton_decrement = 0.00023, seconds_since_start = 0.8\n",
      "Iteration 154: norm_delta = 1.71412, step_size = 0.0106, log_lik = -137.40795, newton_decrement = 0.00023, seconds_since_start = 0.8\n",
      "Iteration 155: norm_delta = 1.71412, step_size = 0.0104, log_lik = -137.40795, newton_decrement = 0.00023, seconds_since_start = 0.8\n",
      "Iteration 156: norm_delta = 1.71412, step_size = 0.0102, log_lik = -137.40794, newton_decrement = 0.00023, seconds_since_start = 0.8\n",
      "Iteration 157: norm_delta = 1.71412, step_size = 0.0100, log_lik = -137.40794, newton_decrement = 0.00023, seconds_since_start = 0.8\n",
      "Iteration 158: norm_delta = 1.71412, step_size = 0.0098, log_lik = -137.40793, newton_decrement = 0.00022, seconds_since_start = 0.9\n",
      "Iteration 159: norm_delta = 1.71412, step_size = 0.0096, log_lik = -137.40793, newton_decrement = 0.00022, seconds_since_start = 0.9\n",
      "Iteration 160: norm_delta = 1.71412, step_size = 0.0094, log_lik = -137.40793, newton_decrement = 0.00022, seconds_since_start = 0.9\n",
      "Iteration 161: norm_delta = 1.71412, step_size = 0.0092, log_lik = -137.40792, newton_decrement = 0.00022, seconds_since_start = 0.9\n"
     ]
    },
    {
     "name": "stdout",
     "output_type": "stream",
     "text": [
      "Iteration 162: norm_delta = 1.71412, step_size = 0.0091, log_lik = -137.40792, newton_decrement = 0.00022, seconds_since_start = 0.9\n",
      "Iteration 163: norm_delta = 1.71412, step_size = 0.0089, log_lik = -137.40791, newton_decrement = 0.00021, seconds_since_start = 0.9\n",
      "Iteration 164: norm_delta = 1.71412, step_size = 0.0087, log_lik = -137.40791, newton_decrement = 0.00021, seconds_since_start = 0.9\n",
      "Iteration 165: norm_delta = 1.71412, step_size = 0.0085, log_lik = -137.40791, newton_decrement = 0.00021, seconds_since_start = 0.9\n",
      "Iteration 166: norm_delta = 1.71412, step_size = 0.0083, log_lik = -137.40790, newton_decrement = 0.00021, seconds_since_start = 0.9\n",
      "Iteration 167: norm_delta = 1.71412, step_size = 0.0082, log_lik = -137.40790, newton_decrement = 0.00021, seconds_since_start = 0.9\n",
      "Iteration 168: norm_delta = 1.71412, step_size = 0.0080, log_lik = -137.40790, newton_decrement = 0.00020, seconds_since_start = 0.9\n",
      "Iteration 169: norm_delta = 1.71412, step_size = 0.0079, log_lik = -137.40789, newton_decrement = 0.00020, seconds_since_start = 0.9\n",
      "Iteration 170: norm_delta = 1.71412, step_size = 0.0077, log_lik = -137.40789, newton_decrement = 0.00020, seconds_since_start = 0.9\n",
      "Iteration 171: norm_delta = 1.71412, step_size = 0.0075, log_lik = -137.40789, newton_decrement = 0.00020, seconds_since_start = 0.9\n",
      "Iteration 172: norm_delta = 1.71412, step_size = 0.0074, log_lik = -137.40788, newton_decrement = 0.00020, seconds_since_start = 0.9\n",
      "Iteration 173: norm_delta = 1.71412, step_size = 0.0072, log_lik = -137.40788, newton_decrement = 0.00020, seconds_since_start = 0.9\n",
      "Iteration 174: norm_delta = 1.71412, step_size = 0.0071, log_lik = -137.40788, newton_decrement = 0.00020, seconds_since_start = 0.9\n",
      "Iteration 175: norm_delta = 1.71412, step_size = 0.0070, log_lik = -137.40788, newton_decrement = 0.00019, seconds_since_start = 0.9\n",
      "Iteration 176: norm_delta = 1.71412, step_size = 0.0068, log_lik = -137.40787, newton_decrement = 0.00019, seconds_since_start = 0.9\n",
      "Iteration 177: norm_delta = 1.71412, step_size = 0.0067, log_lik = -137.40787, newton_decrement = 0.00019, seconds_since_start = 0.9\n",
      "Iteration 178: norm_delta = 1.71412, step_size = 0.0066, log_lik = -137.40787, newton_decrement = 0.00019, seconds_since_start = 1.0\n",
      "Iteration 179: norm_delta = 1.71412, step_size = 0.0064, log_lik = -137.40787, newton_decrement = 0.00019, seconds_since_start = 1.0\n",
      "Iteration 180: norm_delta = 1.71412, step_size = 0.0063, log_lik = -137.40786, newton_decrement = 0.00019, seconds_since_start = 1.0\n",
      "Iteration 181: norm_delta = 1.71412, step_size = 0.0062, log_lik = -137.40786, newton_decrement = 0.00019, seconds_since_start = 1.0\n",
      "Iteration 182: norm_delta = 1.71412, step_size = 0.0060, log_lik = -137.40786, newton_decrement = 0.00019, seconds_since_start = 1.0\n",
      "Iteration 183: norm_delta = 1.71412, step_size = 0.0059, log_lik = -137.40786, newton_decrement = 0.00018, seconds_since_start = 1.0\n",
      "Iteration 184: norm_delta = 1.71412, step_size = 0.0058, log_lik = -137.40785, newton_decrement = 0.00018, seconds_since_start = 1.0\n",
      "Iteration 185: norm_delta = 1.71412, step_size = 0.0057, log_lik = -137.40785, newton_decrement = 0.00018, seconds_since_start = 1.0\n",
      "Iteration 186: norm_delta = 1.71412, step_size = 0.0056, log_lik = -137.40785, newton_decrement = 0.00018, seconds_since_start = 1.0\n",
      "Iteration 187: norm_delta = 1.71412, step_size = 0.0055, log_lik = -137.40785, newton_decrement = 0.00018, seconds_since_start = 1.0\n",
      "Iteration 188: norm_delta = 1.71412, step_size = 0.0054, log_lik = -137.40785, newton_decrement = 0.00018, seconds_since_start = 1.0\n",
      "Iteration 189: norm_delta = 1.71412, step_size = 0.0052, log_lik = -137.40784, newton_decrement = 0.00018, seconds_since_start = 1.0\n",
      "Iteration 190: norm_delta = 1.71412, step_size = 0.0051, log_lik = -137.40784, newton_decrement = 0.00018, seconds_since_start = 1.0\n",
      "Iteration 191: norm_delta = 1.71412, step_size = 0.0050, log_lik = -137.40784, newton_decrement = 0.00018, seconds_since_start = 1.0\n",
      "Iteration 192: norm_delta = 1.71412, step_size = 0.0049, log_lik = -137.40784, newton_decrement = 0.00018, seconds_since_start = 1.0\n",
      "Iteration 193: norm_delta = 1.71412, step_size = 0.0048, log_lik = -137.40784, newton_decrement = 0.00017, seconds_since_start = 1.0\n",
      "Iteration 194: norm_delta = 1.71412, step_size = 0.0047, log_lik = -137.40784, newton_decrement = 0.00017, seconds_since_start = 1.0\n",
      "Iteration 195: norm_delta = 1.71412, step_size = 0.0046, log_lik = -137.40783, newton_decrement = 0.00017, seconds_since_start = 1.0\n",
      "Iteration 196: norm_delta = 1.71412, step_size = 0.0046, log_lik = -137.40783, newton_decrement = 0.00017, seconds_since_start = 1.0\n",
      "Iteration 197: norm_delta = 1.71412, step_size = 0.0045, log_lik = -137.40783, newton_decrement = 0.00017, seconds_since_start = 1.0\n",
      "Iteration 198: norm_delta = 1.71412, step_size = 0.0044, log_lik = -137.40783, newton_decrement = 0.00017, seconds_since_start = 1.0\n",
      "Iteration 199: norm_delta = 1.71412, step_size = 0.0043, log_lik = -137.40783, newton_decrement = 0.00017, seconds_since_start = 1.0\n",
      "Iteration 200: norm_delta = 1.71412, step_size = 0.0042, log_lik = -137.40783, newton_decrement = 0.00017, seconds_since_start = 1.1\n",
      "Iteration 201: norm_delta = 1.71412, step_size = 0.0041, log_lik = -137.40783, newton_decrement = 0.00017, seconds_since_start = 1.1\n",
      "Iteration 202: norm_delta = 1.71412, step_size = 0.0040, log_lik = -137.40782, newton_decrement = 0.00017, seconds_since_start = 1.1\n",
      "Iteration 203: norm_delta = 1.71412, step_size = 0.0040, log_lik = -137.40782, newton_decrement = 0.00017, seconds_since_start = 1.1\n",
      "Iteration 204: norm_delta = 1.71412, step_size = 0.0039, log_lik = -137.40782, newton_decrement = 0.00017, seconds_since_start = 1.1\n",
      "Iteration 205: norm_delta = 1.71412, step_size = 0.0038, log_lik = -137.40782, newton_decrement = 0.00017, seconds_since_start = 1.1\n",
      "Iteration 206: norm_delta = 1.71412, step_size = 0.0037, log_lik = -137.40782, newton_decrement = 0.00017, seconds_since_start = 1.1\n",
      "Iteration 207: norm_delta = 1.71412, step_size = 0.0036, log_lik = -137.40782, newton_decrement = 0.00017, seconds_since_start = 1.1\n",
      "Iteration 208: norm_delta = 1.71412, step_size = 0.0036, log_lik = -137.40782, newton_decrement = 0.00016, seconds_since_start = 1.1\n",
      "Iteration 209: norm_delta = 1.71412, step_size = 0.0035, log_lik = -137.40782, newton_decrement = 0.00016, seconds_since_start = 1.1\n",
      "Iteration 210: norm_delta = 1.71412, step_size = 0.0034, log_lik = -137.40781, newton_decrement = 0.00016, seconds_since_start = 1.1\n",
      "Iteration 211: norm_delta = 1.71412, step_size = 0.0034, log_lik = -137.40781, newton_decrement = 0.00016, seconds_since_start = 1.1\n",
      "Iteration 212: norm_delta = 1.71412, step_size = 0.0033, log_lik = -137.40781, newton_decrement = 0.00016, seconds_since_start = 1.1\n",
      "Iteration 213: norm_delta = 1.71412, step_size = 0.0032, log_lik = -137.40781, newton_decrement = 0.00016, seconds_since_start = 1.1\n",
      "Iteration 214: norm_delta = 1.71412, step_size = 0.0032, log_lik = -137.40781, newton_decrement = 0.00016, seconds_since_start = 1.1\n",
      "Iteration 215: norm_delta = 1.71412, step_size = 0.0031, log_lik = -137.40781, newton_decrement = 0.00016, seconds_since_start = 1.1\n",
      "Iteration 216: norm_delta = 1.71412, step_size = 0.0030, log_lik = -137.40781, newton_decrement = 0.00016, seconds_since_start = 1.1\n",
      "Iteration 217: norm_delta = 1.71412, step_size = 0.0030, log_lik = -137.40781, newton_decrement = 0.00016, seconds_since_start = 1.1\n",
      "Iteration 218: norm_delta = 1.71412, step_size = 0.0029, log_lik = -137.40781, newton_decrement = 0.00016, seconds_since_start = 1.1\n",
      "Iteration 219: norm_delta = 1.71412, step_size = 0.0029, log_lik = -137.40781, newton_decrement = 0.00016, seconds_since_start = 1.1\n",
      "Iteration 220: norm_delta = 1.71412, step_size = 0.0028, log_lik = -137.40780, newton_decrement = 0.00016, seconds_since_start = 1.1\n",
      "Iteration 221: norm_delta = 1.71412, step_size = 0.0027, log_lik = -137.40780, newton_decrement = 0.00016, seconds_since_start = 1.2\n",
      "Iteration 222: norm_delta = 1.71412, step_size = 0.0027, log_lik = -137.40780, newton_decrement = 0.00016, seconds_since_start = 1.2\n",
      "Iteration 223: norm_delta = 1.71412, step_size = 0.0026, log_lik = -137.40780, newton_decrement = 0.00016, seconds_since_start = 1.2\n",
      "Iteration 224: norm_delta = 1.71412, step_size = 0.0026, log_lik = -137.40780, newton_decrement = 0.00016, seconds_since_start = 1.2\n",
      "Iteration 225: norm_delta = 1.71412, step_size = 0.0025, log_lik = -137.40780, newton_decrement = 0.00016, seconds_since_start = 1.2\n",
      "Iteration 226: norm_delta = 1.71412, step_size = 0.0025, log_lik = -137.40780, newton_decrement = 0.00016, seconds_since_start = 1.2\n",
      "Iteration 227: norm_delta = 1.71412, step_size = 0.0024, log_lik = -137.40780, newton_decrement = 0.00016, seconds_since_start = 1.2\n",
      "Iteration 228: norm_delta = 1.71412, step_size = 0.0024, log_lik = -137.40780, newton_decrement = 0.00016, seconds_since_start = 1.2\n",
      "Iteration 229: norm_delta = 1.71412, step_size = 0.0023, log_lik = -137.40780, newton_decrement = 0.00015, seconds_since_start = 1.2\n",
      "Iteration 230: norm_delta = 1.71412, step_size = 0.0023, log_lik = -137.40780, newton_decrement = 0.00015, seconds_since_start = 1.2\n",
      "Iteration 231: norm_delta = 1.71412, step_size = 0.0022, log_lik = -137.40780, newton_decrement = 0.00015, seconds_since_start = 1.2\n",
      "Iteration 232: norm_delta = 1.71412, step_size = 0.0022, log_lik = -137.40780, newton_decrement = 0.00015, seconds_since_start = 1.2\n",
      "Iteration 233: norm_delta = 1.71412, step_size = 0.0022, log_lik = -137.40779, newton_decrement = 0.00015, seconds_since_start = 1.2\n",
      "Iteration 234: norm_delta = 1.71412, step_size = 0.0021, log_lik = -137.40779, newton_decrement = 0.00015, seconds_since_start = 1.2\n",
      "Iteration 235: norm_delta = 1.71412, step_size = 0.0021, log_lik = -137.40779, newton_decrement = 0.00015, seconds_since_start = 1.2\n",
      "Iteration 236: norm_delta = 1.71412, step_size = 0.0020, log_lik = -137.40779, newton_decrement = 0.00015, seconds_since_start = 1.2\n",
      "Iteration 237: norm_delta = 1.71412, step_size = 0.0020, log_lik = -137.40779, newton_decrement = 0.00015, seconds_since_start = 1.2\n",
      "Iteration 238: norm_delta = 1.71412, step_size = 0.0019, log_lik = -137.40779, newton_decrement = 0.00015, seconds_since_start = 1.2\n",
      "Iteration 239: norm_delta = 1.71412, step_size = 0.0019, log_lik = -137.40779, newton_decrement = 0.00015, seconds_since_start = 1.2\n",
      "Iteration 240: norm_delta = 1.71412, step_size = 0.0019, log_lik = -137.40779, newton_decrement = 0.00015, seconds_since_start = 1.2\n",
      "Iteration 241: norm_delta = 1.71412, step_size = 0.0018, log_lik = -137.40779, newton_decrement = 0.00015, seconds_since_start = 1.2\n",
      "Iteration 242: norm_delta = 1.71412, step_size = 0.0018, log_lik = -137.40779, newton_decrement = 0.00015, seconds_since_start = 1.3\n"
     ]
    },
    {
     "name": "stdout",
     "output_type": "stream",
     "text": [
      "Iteration 243: norm_delta = 1.71412, step_size = 0.0018, log_lik = -137.40779, newton_decrement = 0.00015, seconds_since_start = 1.3\n",
      "Iteration 244: norm_delta = 1.71412, step_size = 0.0017, log_lik = -137.40779, newton_decrement = 0.00015, seconds_since_start = 1.3\n",
      "Iteration 245: norm_delta = 1.71412, step_size = 0.0017, log_lik = -137.40779, newton_decrement = 0.00015, seconds_since_start = 1.3\n",
      "Iteration 246: norm_delta = 1.71412, step_size = 0.0017, log_lik = -137.40779, newton_decrement = 0.00015, seconds_since_start = 1.3\n",
      "Iteration 247: norm_delta = 1.71412, step_size = 0.0016, log_lik = -137.40779, newton_decrement = 0.00015, seconds_since_start = 1.3\n",
      "Iteration 248: norm_delta = 1.71412, step_size = 0.0016, log_lik = -137.40779, newton_decrement = 0.00015, seconds_since_start = 1.3\n",
      "Iteration 249: norm_delta = 1.71412, step_size = 0.0016, log_lik = -137.40779, newton_decrement = 0.00015, seconds_since_start = 1.3\n",
      "Iteration 250: norm_delta = 1.71412, step_size = 0.0015, log_lik = -137.40779, newton_decrement = 0.00015, seconds_since_start = 1.3\n",
      "Iteration 251: norm_delta = 1.71412, step_size = 0.0015, log_lik = -137.40778, newton_decrement = 0.00015, seconds_since_start = 1.3\n",
      "Iteration 252: norm_delta = 1.71412, step_size = 0.0015, log_lik = -137.40778, newton_decrement = 0.00015, seconds_since_start = 1.3\n",
      "Iteration 253: norm_delta = 1.71412, step_size = 0.0014, log_lik = -137.40778, newton_decrement = 0.00015, seconds_since_start = 1.3\n",
      "Iteration 254: norm_delta = 1.71412, step_size = 0.0014, log_lik = -137.40778, newton_decrement = 0.00015, seconds_since_start = 1.3\n",
      "Iteration 255: norm_delta = 1.71412, step_size = 0.0014, log_lik = -137.40778, newton_decrement = 0.00015, seconds_since_start = 1.3\n",
      "Iteration 256: norm_delta = 1.71412, step_size = 0.0014, log_lik = -137.40778, newton_decrement = 0.00015, seconds_since_start = 1.3\n",
      "Iteration 257: norm_delta = 1.71412, step_size = 0.0013, log_lik = -137.40778, newton_decrement = 0.00015, seconds_since_start = 1.3\n",
      "Iteration 258: norm_delta = 1.71412, step_size = 0.0013, log_lik = -137.40778, newton_decrement = 0.00015, seconds_since_start = 1.3\n",
      "Iteration 259: norm_delta = 1.71412, step_size = 0.0013, log_lik = -137.40778, newton_decrement = 0.00015, seconds_since_start = 1.3\n",
      "Iteration 260: norm_delta = 1.71412, step_size = 0.0013, log_lik = -137.40778, newton_decrement = 0.00015, seconds_since_start = 1.3\n",
      "Iteration 261: norm_delta = 1.71412, step_size = 0.0012, log_lik = -137.40778, newton_decrement = 0.00015, seconds_since_start = 1.3\n",
      "Iteration 262: norm_delta = 1.71412, step_size = 0.0012, log_lik = -137.40778, newton_decrement = 0.00015, seconds_since_start = 1.4\n",
      "Iteration 263: norm_delta = 1.71412, step_size = 0.0012, log_lik = -137.40778, newton_decrement = 0.00015, seconds_since_start = 1.4\n",
      "Iteration 264: norm_delta = 1.71412, step_size = 0.0012, log_lik = -137.40778, newton_decrement = 0.00015, seconds_since_start = 1.4\n",
      "Iteration 265: norm_delta = 1.71412, step_size = 0.0011, log_lik = -137.40778, newton_decrement = 0.00015, seconds_since_start = 1.4\n",
      "Iteration 266: norm_delta = 1.71412, step_size = 0.0011, log_lik = -137.40778, newton_decrement = 0.00015, seconds_since_start = 1.4\n",
      "Iteration 267: norm_delta = 1.71412, step_size = 0.0011, log_lik = -137.40778, newton_decrement = 0.00015, seconds_since_start = 1.4\n",
      "Iteration 268: norm_delta = 1.71412, step_size = 0.0011, log_lik = -137.40778, newton_decrement = 0.00015, seconds_since_start = 1.4\n",
      "Iteration 269: norm_delta = 1.71412, step_size = 0.0010, log_lik = -137.40778, newton_decrement = 0.00015, seconds_since_start = 1.4\n",
      "Iteration 270: norm_delta = 1.71412, step_size = 0.0010, log_lik = -137.40778, newton_decrement = 0.00015, seconds_since_start = 1.4\n",
      "Iteration 271: norm_delta = 1.71412, step_size = 0.0010, log_lik = -137.40778, newton_decrement = 0.00014, seconds_since_start = 1.4\n",
      "Iteration 272: norm_delta = 1.71412, step_size = 0.0010, log_lik = -137.40778, newton_decrement = 0.00014, seconds_since_start = 1.4\n",
      "Iteration 273: norm_delta = 1.71412, step_size = 0.0010, log_lik = -137.40778, newton_decrement = 0.00014, seconds_since_start = 1.4\n",
      "Iteration 274: norm_delta = 1.71412, step_size = 0.0009, log_lik = -137.40778, newton_decrement = 0.00014, seconds_since_start = 1.4\n",
      "Iteration 275: norm_delta = 1.71412, step_size = 0.0009, log_lik = -137.40778, newton_decrement = 0.00014, seconds_since_start = 1.4\n",
      "Iteration 276: norm_delta = 1.71412, step_size = 0.0009, log_lik = -137.40778, newton_decrement = 0.00014, seconds_since_start = 1.4\n",
      "Iteration 277: norm_delta = 1.71412, step_size = 0.0009, log_lik = -137.40778, newton_decrement = 0.00014, seconds_since_start = 1.4\n",
      "Iteration 278: norm_delta = 1.71412, step_size = 0.0009, log_lik = -137.40778, newton_decrement = 0.00014, seconds_since_start = 1.4\n",
      "Iteration 279: norm_delta = 1.71412, step_size = 0.0009, log_lik = -137.40778, newton_decrement = 0.00014, seconds_since_start = 1.4\n",
      "Iteration 280: norm_delta = 1.71412, step_size = 0.0008, log_lik = -137.40778, newton_decrement = 0.00014, seconds_since_start = 1.4\n",
      "Iteration 281: norm_delta = 1.71412, step_size = 0.0008, log_lik = -137.40777, newton_decrement = 0.00014, seconds_since_start = 1.5\n",
      "Iteration 282: norm_delta = 1.71412, step_size = 0.0008, log_lik = -137.40777, newton_decrement = 0.00014, seconds_since_start = 1.5\n",
      "Iteration 283: norm_delta = 1.71412, step_size = 0.0008, log_lik = -137.40777, newton_decrement = 0.00014, seconds_since_start = 1.5\n",
      "Iteration 284: norm_delta = 1.71412, step_size = 0.0008, log_lik = -137.40777, newton_decrement = 0.00014, seconds_since_start = 1.5\n",
      "Iteration 285: norm_delta = 1.71412, step_size = 0.0008, log_lik = -137.40777, newton_decrement = 0.00014, seconds_since_start = 1.5\n",
      "Iteration 286: norm_delta = 1.71412, step_size = 0.0007, log_lik = -137.40777, newton_decrement = 0.00014, seconds_since_start = 1.5\n",
      "Iteration 287: norm_delta = 1.71412, step_size = 0.0007, log_lik = -137.40777, newton_decrement = 0.00014, seconds_since_start = 1.5\n",
      "Iteration 288: norm_delta = 1.71412, step_size = 0.0007, log_lik = -137.40777, newton_decrement = 0.00014, seconds_since_start = 1.5\n",
      "Iteration 289: norm_delta = 1.71412, step_size = 0.0007, log_lik = -137.40777, newton_decrement = 0.00014, seconds_since_start = 1.5\n",
      "Iteration 290: norm_delta = 1.71412, step_size = 0.0007, log_lik = -137.40777, newton_decrement = 0.00014, seconds_since_start = 1.5\n",
      "Iteration 291: norm_delta = 1.71412, step_size = 0.0007, log_lik = -137.40777, newton_decrement = 0.00014, seconds_since_start = 1.5\n",
      "Iteration 292: norm_delta = 1.71412, step_size = 0.0007, log_lik = -137.40777, newton_decrement = 0.00014, seconds_since_start = 1.5\n",
      "Iteration 293: norm_delta = 1.71412, step_size = 0.0006, log_lik = -137.40777, newton_decrement = 0.00014, seconds_since_start = 1.5\n",
      "Iteration 294: norm_delta = 1.71412, step_size = 0.0006, log_lik = -137.40777, newton_decrement = 0.00014, seconds_since_start = 1.5\n",
      "Iteration 295: norm_delta = 1.71412, step_size = 0.0006, log_lik = -137.40777, newton_decrement = 0.00014, seconds_since_start = 1.6\n",
      "Iteration 296: norm_delta = 1.71412, step_size = 0.0006, log_lik = -137.40777, newton_decrement = 0.00014, seconds_since_start = 1.6\n",
      "Iteration 297: norm_delta = 1.71412, step_size = 0.0006, log_lik = -137.40777, newton_decrement = 0.00014, seconds_since_start = 1.6\n",
      "Iteration 298: norm_delta = 1.71412, step_size = 0.0006, log_lik = -137.40777, newton_decrement = 0.00014, seconds_since_start = 1.6\n",
      "Iteration 299: norm_delta = 1.71412, step_size = 0.0006, log_lik = -137.40777, newton_decrement = 0.00014, seconds_since_start = 1.6\n",
      "Iteration 300: norm_delta = 1.71412, step_size = 0.0006, log_lik = -137.40777, newton_decrement = 0.00014, seconds_since_start = 1.6\n",
      "Iteration 301: norm_delta = 1.71412, step_size = 0.0005, log_lik = -137.40777, newton_decrement = 0.00014, seconds_since_start = 1.6\n",
      "Iteration 302: norm_delta = 1.71412, step_size = 0.0005, log_lik = -137.40777, newton_decrement = 0.00014, seconds_since_start = 1.6\n",
      "Iteration 303: norm_delta = 1.71412, step_size = 0.0005, log_lik = -137.40777, newton_decrement = 0.00014, seconds_since_start = 1.6\n",
      "Iteration 304: norm_delta = 1.71412, step_size = 0.0005, log_lik = -137.40777, newton_decrement = 0.00014, seconds_since_start = 1.6\n",
      "Iteration 305: norm_delta = 1.71412, step_size = 0.0005, log_lik = -137.40777, newton_decrement = 0.00014, seconds_since_start = 1.6\n",
      "Iteration 306: norm_delta = 1.71412, step_size = 0.0005, log_lik = -137.40777, newton_decrement = 0.00014, seconds_since_start = 1.6\n",
      "Iteration 307: norm_delta = 1.71412, step_size = 0.0005, log_lik = -137.40777, newton_decrement = 0.00014, seconds_since_start = 1.6\n",
      "Convergence success after 307 iterations.\n"
     ]
    },
    {
     "name": "stdout",
     "output_type": "stream",
     "text": [
      "//////////////////////////////////\n"
     ]
    },
    {
     "name": "stderr",
     "output_type": "stream",
     "text": [
      "C:\\Users\\aaacharya\\AppData\\Local\\Continuum\\anaconda3\\lib\\site-packages\\lifelines\\utils\\__init__.py:1110: ConvergenceWarning: Column occpcode have very low variance when conditioned on death event present or not. This may harm convergence. This could be a form of 'complete separation'. For example, try the following code:\n",
      "\n",
      ">>> events = df['churn'].astype(bool)\n",
      ">>> print(df.loc[events, 'occpcode'].var())\n",
      ">>> print(df.loc[~events, 'occpcode'].var())\n",
      "\n",
      "A very low variance means that the column occpcode completely determines whether a subject dies or not. See https://stats.stackexchange.com/questions/11109/how-to-deal-with-perfect-separation-in-logistic-regression.\n",
      "\n",
      "  warnings.warn(dedent(warning_text), ConvergenceWarning)\n",
      "C:\\Users\\aaacharya\\AppData\\Local\\Continuum\\anaconda3\\lib\\site-packages\\lifelines\\fitters\\coxph_fitter.py:702: ConvergenceWarning: Newton-Rhaphson convergence completed successfully but norm(delta) is still high, 1.714. This may imply non-unique solutions to the maximum likelihood. Perhaps there is collinearity or complete separation in the dataset?\n",
      "\n",
      "  ConvergenceWarning,\n"
     ]
    },
    {
     "data": {
      "text/html": [
       "<div>\n",
       "<style scoped>\n",
       "    .dataframe tbody tr th:only-of-type {\n",
       "        vertical-align: middle;\n",
       "    }\n",
       "\n",
       "    .dataframe tbody tr th {\n",
       "        vertical-align: top;\n",
       "    }\n",
       "\n",
       "    .dataframe thead th {\n",
       "        text-align: right;\n",
       "    }\n",
       "</style>\n",
       "<table border=\"1\" class=\"dataframe\">\n",
       "  <tbody>\n",
       "    <tr>\n",
       "      <th>model</th>\n",
       "      <td>lifelines.CoxPHFitter</td>\n",
       "    </tr>\n",
       "    <tr>\n",
       "      <th>duration col</th>\n",
       "      <td>'elapseddays'</td>\n",
       "    </tr>\n",
       "    <tr>\n",
       "      <th>event col</th>\n",
       "      <td>'churn'</td>\n",
       "    </tr>\n",
       "    <tr>\n",
       "      <th>baseline estimation</th>\n",
       "      <td>breslow</td>\n",
       "    </tr>\n",
       "    <tr>\n",
       "      <th>number of observations</th>\n",
       "      <td>729</td>\n",
       "    </tr>\n",
       "    <tr>\n",
       "      <th>number of events observed</th>\n",
       "      <td>26</td>\n",
       "    </tr>\n",
       "    <tr>\n",
       "      <th>partial log-likelihood</th>\n",
       "      <td>-137.41</td>\n",
       "    </tr>\n",
       "    <tr>\n",
       "      <th>time fit was run</th>\n",
       "      <td>2020-04-29 06:41:53 UTC</td>\n",
       "    </tr>\n",
       "  </tbody>\n",
       "</table>\n",
       "</div><table border=\"1\" class=\"dataframe\">\n",
       "  <thead>\n",
       "    <tr style=\"text-align: right;\">\n",
       "      <th></th>\n",
       "      <th>coef</th>\n",
       "      <th>exp(coef)</th>\n",
       "      <th>se(coef)</th>\n",
       "      <th>coef lower 95%</th>\n",
       "      <th>coef upper 95%</th>\n",
       "      <th>exp(coef) lower 95%</th>\n",
       "      <th>exp(coef) upper 95%</th>\n",
       "      <th>z</th>\n",
       "      <th>p</th>\n",
       "      <th>-log2(p)</th>\n",
       "    </tr>\n",
       "  </thead>\n",
       "  <tbody>\n",
       "    <tr>\n",
       "      <th>cltsex</th>\n",
       "      <td>0.72</td>\n",
       "      <td>2.05</td>\n",
       "      <td>1.05</td>\n",
       "      <td>-1.33</td>\n",
       "      <td>2.77</td>\n",
       "      <td>0.26</td>\n",
       "      <td>15.93</td>\n",
       "      <td>0.69</td>\n",
       "      <td>0.49</td>\n",
       "      <td>1.03</td>\n",
       "    </tr>\n",
       "    <tr>\n",
       "      <th>marryd</th>\n",
       "      <td>-0.12</td>\n",
       "      <td>0.88</td>\n",
       "      <td>0.17</td>\n",
       "      <td>-0.46</td>\n",
       "      <td>0.21</td>\n",
       "      <td>0.63</td>\n",
       "      <td>1.23</td>\n",
       "      <td>-0.72</td>\n",
       "      <td>0.47</td>\n",
       "      <td>1.09</td>\n",
       "    </tr>\n",
       "    <tr>\n",
       "      <th>occpcode</th>\n",
       "      <td>-9.36</td>\n",
       "      <td>0.00</td>\n",
       "      <td>59.48</td>\n",
       "      <td>-125.93</td>\n",
       "      <td>107.21</td>\n",
       "      <td>0.00</td>\n",
       "      <td>3.65e+46</td>\n",
       "      <td>-0.16</td>\n",
       "      <td>0.87</td>\n",
       "      <td>0.19</td>\n",
       "    </tr>\n",
       "    <tr>\n",
       "      <th>marketbased</th>\n",
       "      <td>-1.54</td>\n",
       "      <td>0.21</td>\n",
       "      <td>0.56</td>\n",
       "      <td>-2.63</td>\n",
       "      <td>-0.45</td>\n",
       "      <td>0.07</td>\n",
       "      <td>0.64</td>\n",
       "      <td>-2.77</td>\n",
       "      <td>0.01</td>\n",
       "      <td>7.47</td>\n",
       "    </tr>\n",
       "    <tr>\n",
       "      <th>entry_age</th>\n",
       "      <td>-0.46</td>\n",
       "      <td>0.63</td>\n",
       "      <td>0.71</td>\n",
       "      <td>-1.86</td>\n",
       "      <td>0.93</td>\n",
       "      <td>0.16</td>\n",
       "      <td>2.54</td>\n",
       "      <td>-0.65</td>\n",
       "      <td>0.52</td>\n",
       "      <td>0.96</td>\n",
       "    </tr>\n",
       "    <tr>\n",
       "      <th>amtpaid</th>\n",
       "      <td>-0.60</td>\n",
       "      <td>0.55</td>\n",
       "      <td>0.55</td>\n",
       "      <td>-1.68</td>\n",
       "      <td>0.48</td>\n",
       "      <td>0.19</td>\n",
       "      <td>1.61</td>\n",
       "      <td>-1.09</td>\n",
       "      <td>0.27</td>\n",
       "      <td>1.87</td>\n",
       "    </tr>\n",
       "  </tbody>\n",
       "</table><div>\n",
       "<style scoped>\n",
       "    .dataframe tbody tr th:only-of-type {\n",
       "        vertical-align: middle;\n",
       "    }\n",
       "\n",
       "    .dataframe tbody tr th {\n",
       "        vertical-align: top;\n",
       "    }\n",
       "\n",
       "    .dataframe thead th {\n",
       "        text-align: right;\n",
       "    }\n",
       "</style>\n",
       "<table border=\"1\" class=\"dataframe\">\n",
       "  <tbody>\n",
       "    <tr>\n",
       "      <th>Concordance</th>\n",
       "      <td>0.75</td>\n",
       "    </tr>\n",
       "    <tr>\n",
       "      <th>Log-likelihood ratio test</th>\n",
       "      <td>22.45 on 6 df</td>\n",
       "    </tr>\n",
       "    <tr>\n",
       "      <th>-log2(p) of ll-ratio test</th>\n",
       "      <td>9.96</td>\n",
       "    </tr>\n",
       "  </tbody>\n",
       "</table>\n",
       "</div>"
      ],
      "text/plain": [
       "<IPython.core.display.HTML object>"
      ]
     },
     "metadata": {},
     "output_type": "display_data"
    }
   ],
   "source": [
    "cph = CoxPHFitter()\n",
    "print('output from show progress')\n",
    "print('///////////////////////////////////')\n",
    "cph.fit(modelDf, duration_col='elapseddays', event_col='churn',show_progress=True,step_size=0.1)\n",
    "print('//////////////////////////////////')\n",
    "cph.print_summary()"
   ]
  },
  {
   "cell_type": "code",
   "execution_count": 22,
   "metadata": {},
   "outputs": [],
   "source": [
    "#cph.plot()"
   ]
  },
  {
   "cell_type": "code",
   "execution_count": 23,
   "metadata": {},
   "outputs": [
    {
     "name": "stdout",
     "output_type": "stream",
     "text": [
      "Proportional hazard assumption looks okay.\n"
     ]
    }
   ],
   "source": [
    "cph.check_assumptions(modelDf,show_plots=True)"
   ]
  },
  {
   "cell_type": "code",
   "execution_count": 24,
   "metadata": {},
   "outputs": [],
   "source": [
    "#survival function only required for censored subjects,ie. customers who have not churned yet. \n",
    "notChurnedCustomers= modelDf[modelDf['churn']==0]\n",
    "censoredTimeElapse=notChurnedCustomers.elapseddays"
   ]
  },
  {
   "cell_type": "code",
   "execution_count": 25,
   "metadata": {},
   "outputs": [],
   "source": [
    "values=modelDf.entry_age.unique()\n",
    "#cph.plot_covariate_groups('entry_age', values=values,cmap='coolwarm')"
   ]
  },
  {
   "cell_type": "code",
   "execution_count": 26,
   "metadata": {},
   "outputs": [],
   "source": [
    "#to be computed for 5 years to extract all type of policies that fall under 5 yrs renewal term\n",
    "results=cph.predict_survival_function(notChurnedCustomers,times=[365,730,1095,1460,1825],conditional_after=censoredTimeElapse)"
   ]
  },
  {
   "cell_type": "code",
   "execution_count": 27,
   "metadata": {},
   "outputs": [],
   "source": [
    "outputDf=results.transpose().merge(modelDf,how='right',left_index=True,right_index=True)\n",
    "outputDf['clntnum']=inputDf['clntnum']\n"
   ]
  },
  {
   "cell_type": "code",
   "execution_count": 28,
   "metadata": {},
   "outputs": [
    {
     "data": {
      "text/plain": [
       "<matplotlib.axes._subplots.AxesSubplot at 0x1e15d700a90>"
      ]
     },
     "execution_count": 28,
     "metadata": {},
     "output_type": "execute_result"
    },
    {
     "data": {
      "image/png": "[encoded data removed]",
      "text/plain": [
       "<Figure size 432x288 with 1 Axes>"
      ]
     },
     "metadata": {
      "needs_background": "light"
     },
     "output_type": "display_data"
    }
   ],
   "source": [
    "values=modelDf.marketbased.unique()\n",
    "cph.plot_covariate_groups('marketbased', values=values,cmap='coolwarm')"
   ]
  },
  {
   "cell_type": "code",
   "execution_count": 29,
   "metadata": {},
   "outputs": [],
   "source": [
    "cltvDf=outputDf.merge(premiumDf,on='clntnum')"
   ]
  },
  {
   "cell_type": "code",
   "execution_count": 30,
   "metadata": {},
   "outputs": [
    {
     "data": {
      "text/plain": [
       "0      1.631795e+06\n",
       "1      6.504480e+04\n",
       "2      3.652268e+04\n",
       "3      1.079188e+05\n",
       "4     -1.099999e+08\n",
       "5      9.020480e+03\n",
       "6      6.988800e+03\n",
       "7      8.022880e+03\n",
       "8      7.305536e+04\n",
       "9      4.981760e+03\n",
       "10     5.165000e+02\n",
       "11     1.262350e+03\n",
       "12     2.813440e+04\n",
       "13     1.109602e+05\n",
       "14     3.765440e+03\n",
       "15     1.080986e+06\n",
       "16    -4.809987e+04\n",
       "17     1.871430e+05\n",
       "18     1.424196e+04\n",
       "19     1.864681e+05\n",
       "20     4.034688e+04\n",
       "21     1.168384e+04\n",
       "22     3.548317e+04\n",
       "23     1.544000e+03\n",
       "24     2.186688e+04\n",
       "25    -1.564755e+07\n",
       "26     3.419525e+05\n",
       "27     4.682000e+03\n",
       "28     5.206982e+04\n",
       "29     7.209440e+03\n",
       "           ...     \n",
       "698    1.480000e+05\n",
       "699    1.636000e+03\n",
       "700    9.002540e+04\n",
       "701    7.944268e+04\n",
       "702    1.990803e+04\n",
       "703    2.806000e+05\n",
       "704    4.977884e+04\n",
       "705    3.179366e+05\n",
       "706    6.100000e+03\n",
       "707    1.780800e+04\n",
       "708    4.880000e+04\n",
       "709    4.161920e+03\n",
       "710    1.322827e+04\n",
       "711    3.770000e+04\n",
       "712    7.061376e+04\n",
       "713    7.490000e+04\n",
       "714    3.513859e+04\n",
       "715    7.152157e+04\n",
       "716    1.044960e+04\n",
       "717    2.552995e+05\n",
       "718    6.005216e+04\n",
       "719    1.144000e+02\n",
       "720    7.140990e+03\n",
       "721    2.775634e+05\n",
       "722   -1.191509e+05\n",
       "723    1.673380e+04\n",
       "724    7.305984e+04\n",
       "725    3.050000e+04\n",
       "726    5.600000e+04\n",
       "727    2.240000e+05\n",
       "Length: 728, dtype: float64"
      ]
     },
     "execution_count": 30,
     "metadata": {},
     "output_type": "execute_result"
    }
   ],
   "source": [
    "#Calculate the LTV\n",
    "cltvDf['cltvscore']=((cltvDf['net_profit']*cltvDf[365])/(1+0.12))+((cltvDf['net_profit']*cltvDf[730])/(1+0.11)**2)+((cltvDf['net_profit']*cltvDf[1095])/(1+0.1)**3)+((cltvDf['net_profit']*cltvDf[1460])/(1+0.09)**4)+((cltvDf['net_profit']*cltvDf[1825])/(1+0.08)**5)\n",
    "+(cltvDf['net_profit']/(cltvDf['elapseddays']/365))*(cltvDf['elapseddays']/365)"
   ]
  },
  {
   "cell_type": "code",
   "execution_count": 31,
   "metadata": {},
   "outputs": [],
   "source": [
    "#LTV percentile\n",
    "cltvDf['percentile']=cltvDf['cltvscore'].rank(pct=True,method='max')*100"
   ]
  },
  {
   "cell_type": "code",
   "execution_count": 32,
   "metadata": {},
   "outputs": [],
   "source": [
    "#Function for Customer bifurcation into Low, Medium and High value based upon LTV percentile.\n",
    "def cltvBandFn(percentile):\n",
    "    if (percentile >= 0 and percentile < 30):\n",
    "        return 'low value'\n",
    "    else:\n",
    "        if (percentile > 30 and percentile < 60):\n",
    "            return 'medium value'\n",
    "        else:\n",
    "            return 'high value'"
   ]
  },
  {
   "cell_type": "code",
   "execution_count": 33,
   "metadata": {},
   "outputs": [],
   "source": [
    "#Apply cltvband function and merge\n",
    "cltvDf['cltvband']=cltvDf.percentile.apply(cltvBandFn)\n",
    "csvDf=cltvDf.merge(inputDfCoordinates[['client_name','cltsex','marryd','occpcode','latitude','longitude']],right_index=True,left_index=True)"
   ]
  },
  {
   "cell_type": "code",
   "execution_count": 34,
   "metadata": {},
   "outputs": [],
   "source": [
    "csvDf.to_csv(\"EX_SOURCE_CLTVSCORE_LIFE.csv\",index=False)\n"
   ]
  },
  {
   "cell_type": "code",
   "execution_count": null,
   "metadata": {},
   "outputs": [],
   "source": []
  },
  {
   "cell_type": "code",
   "execution_count": null,
   "metadata": {},
   "outputs": [],
   "source": []
  },
  {
   "cell_type": "code",
   "execution_count": null,
   "metadata": {},
   "outputs": [],
   "source": []
  },
  {
   "cell_type": "code",
   "execution_count": null,
   "metadata": {},
   "outputs": [],
   "source": []
  }
 ],
 "metadata": {
  "kernelspec": {
   "display_name": "Python 3",
   "language": "python",
   "name": "python3"
  },
  "language_info": {
   "codemirror_mode": {
    "name": "ipython",
    "version": 3
   },
   "file_extension": ".py",
   "mimetype": "text/x-python",
   "name": "python",
   "nbconvert_exporter": "python",
   "pygments_lexer": "ipython3",
   "version": "3.7.3"
  }
 },
 "nbformat": 4,
 "nbformat_minor": 2
}
