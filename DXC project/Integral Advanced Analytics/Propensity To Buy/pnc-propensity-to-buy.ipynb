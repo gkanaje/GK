{
 "cells": [
  {
   "cell_type": "markdown",
   "metadata": {},
   "source": [
    "## Propensity To Buy Prediction\n",
    "## Data used for analysis is based on Integral P&C Admin System"
   ]
  },
  {
   "cell_type": "markdown",
   "metadata": {},
   "source": [
    "### The SQL query in below cells will retreive data based on database credentials provide. Right now these credentials have been left empty for security reasons. Please enter relevant details before running this notebook further."
   ]
  },
  {
   "cell_type": "code",
   "execution_count": 1,
   "metadata": {},
   "outputs": [
    {
     "name": "stderr",
     "output_type": "stream",
     "text": [
      "C:\\Users\\tbhardwaj2\\AppData\\Roaming\\Python\\Python36\\site-packages\\sklearn\\externals\\joblib\\__init__.py:15: FutureWarning: sklearn.externals.joblib is deprecated in 0.21 and will be removed in 0.23. Please import this functionality directly from joblib, which can be installed with: pip install joblib. If this warning is raised when loading pickled models, you may need to re-serialize those models with scikit-learn 0.21+.\n",
      "  warnings.warn(msg, category=FutureWarning)\n"
     ]
    }
   ],
   "source": [
    "# Import Packages\n",
    "import numpy as np\n",
    "import pandas as pd\n",
    "import pyodbc\n",
    "\n",
    "# For Graphics\n",
    "import matplotlib as matplotlib\n",
    "import matplotlib.pyplot as plt\n",
    "import seaborn as sns\n",
    "\n",
    "# For splitting data into test and train subsets\n",
    "from sklearn.model_selection import train_test_split, RepeatedStratifiedKFold, GridSearchCV\n",
    "\n",
    "# For logistic regression\n",
    "from sklearn.linear_model import LogisticRegression\n",
    "\n",
    "# For saving the model\n",
    "from sklearn.externals import joblib \n",
    "\n",
    "# For Confusion Matrix\n",
    "from sklearn import metrics\n",
    "\n",
    "# For ROC Curve\n",
    "from sklearn.metrics import roc_auc_score, roc_curve\n",
    "\n",
    "# For Normalization\n",
    "from sklearn.preprocessing import MinMaxScaler, StandardScaler\n",
    "\n",
    "# For Feature Selection\n",
    "from sklearn.feature_selection import chi2, SelectKBest\n",
    "\n",
    "# Settings to view all columns and rows\n",
    "pd.set_option('display.max_rows', 1000)\n",
    "pd.set_option('display.max_columns', 1000)"
   ]
  },
  {
   "cell_type": "markdown",
   "metadata": {},
   "source": [
    "## Import Data"
   ]
  },
  {
   "cell_type": "code",
   "execution_count": 2,
   "metadata": {},
   "outputs": [],
   "source": [
    "# Enter ip address and port number of the system where the database resides.\n",
    "server   = *******\n",
    "database = *******\n",
    "username = *******\n",
    "password = *******"
   ]
  },
  {
   "cell_type": "code",
   "execution_count": 3,
   "metadata": {},
   "outputs": [],
   "source": [
    "# Add appropriate driver name\n",
    "cnxn = pyodbc.connect('DRIVER={SQL Server};SERVER='+server+';DATABASE='+database+';UID='+username+';PWD='+ password)\n",
    "cursor = cnxn.cursor()"
   ]
  },
  {
   "cell_type": "code",
   "execution_count": 4,
   "metadata": {},
   "outputs": [],
   "source": [
    "# Run Query\n",
    "query = '''SELECT DISTINCT\n",
    "CLNT.CLNTNUM AS 'CLIENT_NUMBER',\n",
    "CASE\n",
    "WHEN \n",
    "Q1.UNIQUE_PRODUCTS > 1 \n",
    "THEN \n",
    "1\n",
    "ELSE\n",
    "0\n",
    "END \n",
    "AS 'HAS_BOUGHT_MORE',\n",
    "CASE \n",
    "WHEN \n",
    "CLNT.CLTSEX = 'F'\n",
    "THEN \n",
    "'1'\n",
    "ELSE\n",
    "'0'\n",
    "END AS 'FEMALE',\n",
    "CASE \n",
    "WHEN \n",
    "CLNT.CLTSEX = 'M'\n",
    "THEN \n",
    "'1'\n",
    "ELSE\n",
    "'0'\n",
    "END AS 'MALE',\n",
    "CASE \n",
    "WHEN \n",
    "CLNT.CLTSEX = ''\n",
    "THEN \n",
    "'1'\n",
    "ELSE\n",
    "'0'\n",
    "END AS 'GENDER_UNKNOWN',\n",
    "CASE \n",
    "WHEN \n",
    "CLNT.MARRYD = 'M'\n",
    "THEN \n",
    "'1'\n",
    "ELSE\n",
    "'0'\n",
    "END AS 'MARRIED',\n",
    "CASE \n",
    "WHEN \n",
    "CLNT.MARRYD = 'D'\n",
    "THEN \n",
    "'1'\n",
    "ELSE\n",
    "'0'\n",
    "END AS 'DIVORCED',\n",
    "CASE \n",
    "WHEN \n",
    "CLNT.MARRYD = 'S'\n",
    "THEN \n",
    "'1'\n",
    "ELSE\n",
    "'0'\n",
    "END AS 'SINGLE',\n",
    "CASE \n",
    "WHEN \n",
    "CLNT.MARRYD = 'W'\n",
    "THEN \n",
    "'1'\n",
    "ELSE\n",
    "'0'\n",
    "END AS 'WIDOW',\n",
    "CASE \n",
    "WHEN \n",
    "CLNT.MARRYD NOT IN ('W', 'S', 'D', 'M')\n",
    "THEN \n",
    "'1'\n",
    "ELSE\n",
    "'0'\n",
    "END AS 'MARITAL_STATUS_UNKNOWN',\n",
    "CASE\n",
    "WHEN CLNT.CLTDOB <> 99999999 and\n",
    "(year(getdate())-left(CLNT.CLTDOB,4)) BETWEEN 0 AND 14\n",
    "THEN \n",
    "'1'\n",
    "ELSE\n",
    "'0' \n",
    "END AS 'CHILD',\n",
    "CASE\n",
    "WHEN CLNT.CLTDOB <> 99999999 and\n",
    "(year(getdate())-left(CLNT.CLTDOB,4)) BETWEEN 15 AND 24\n",
    "THEN \n",
    "'1'\n",
    "ELSE\n",
    "'0' \n",
    "END AS 'YOUTH',\n",
    "CASE\n",
    "WHEN CLNT.CLTDOB <> 99999999 and\n",
    "(year(getdate())-left(CLNT.CLTDOB,4)) BETWEEN 25 AND 64\n",
    "THEN \n",
    "'1'\n",
    "ELSE\n",
    "'0' \n",
    "END AS 'ADULT',\n",
    "CASE\n",
    "WHEN CLNT.CLTDOB <> 99999999 and\n",
    "(year(getdate())-left(CLNT.CLTDOB,4)) > 65 \n",
    "THEN \n",
    "'1'\n",
    "ELSE\n",
    "'0' \n",
    "END AS 'SENIOR_CITIZEN',\n",
    "\n",
    "(COALESCE(QQ.[01],0) + COALESCE(QQ.[02],0) + COALESCE(QQ.[03],0)) AS Q1_BUY, \n",
    "(COALESCE(QQ.[04],0) + COALESCE(QQ.[05],0) + COALESCE(QQ.[06],0)) AS Q2_BUY, \n",
    "(COALESCE(QQ.[07],0) + COALESCE(QQ.[08],0) + COALESCE(QQ.[09],0)) AS Q3_BUY, \n",
    "(COALESCE(QQ.[10],0) + COALESCE(QQ.[11],0) + COALESCE(QQ.[12],0)) AS Q4_BUY,\n",
    "\n",
    "ISNULL(Q2.UNIQUE_CLAIMS,0) AS 'NUMBER_OF_CLAIMS'\n",
    "\n",
    "\n",
    "FROM \n",
    "VM1DTA.CLNTPF CLNT\n",
    "\n",
    "INNER JOIN \n",
    "\n",
    "(SELECT  COWNNUM, COUNT( DISTINCT CNTTYPE) UNIQUE_PRODUCTS FROM VM1DTA.CHDRPF WHERE VALIDFLAG = '1' AND CHDRCOY = '1'\n",
    "GROUP BY COWNNUM\n",
    "HAVING COUNT( DISTINCT CNTTYPE) > 0\n",
    ") Q1\n",
    "\n",
    "ON CLNT.CLNTNUM = Q1.COWNNUM\n",
    "\n",
    "INNER JOIN\n",
    "(SELECT *\n",
    "FROM\n",
    "(\n",
    "  SELECT DISTINCT COWNNUM, COUNT(DISTINCT CHDRNUM) AS COUNTING,SUBSTRING((CAST(OCCDATE AS CHAR)),5,2) AS QQ FROM VM1DTA.CHDRPF WHERE VALIDFLAG = '1' AND CHDRCOY = '1' \n",
    "  GROUP BY COWNNUM, SUBSTRING((CAST(OCCDATE AS CHAR)),5,2)\n",
    ") AS SourceTable PIVOT( SUM(COUNTING) FOR [QQ] IN([01], [02],[03], [04],[05], [06],[07], [08],[09], [10],[11],\n",
    " [12])) AS PivotTable ) QQ\n",
    "\n",
    " ON QQ.COWNNUM = CLNT.CLNTNUM\n",
    "\n",
    " LEFT OUTER JOIN \n",
    " VM1DTA.DESCPF T3585\n",
    " ON T3585.DESCITEM = CLNT.CLTPCODE AND T3585.LANGUAGE = 'E' AND T3585.DESCTABL  ='T3585' AND T3585.DESCCOY = '1' AND T3585.DESCPFX = 'IT'\n",
    "\n",
    "LEFT OUTER JOIN \n",
    "(SELECT  CLNTNUM, COUNT( DISTINCT CLAIM) UNIQUE_CLAIMS FROM VM1DTA.CLAMPF WHERE VALIDFLAG = '1' AND CHDRCOY = '1'\n",
    "GROUP BY CLNTNUM\n",
    ") Q2\n",
    "\n",
    "ON CLNT.CLNTNUM = Q2.CLNTNUM\n",
    "\n",
    "WHERE CLNT.VALIDFLAG = '1'   \n",
    "\n",
    "ORDER BY CLNT.CLNTNUM\n",
    "'''"
   ]
  },
  {
   "cell_type": "code",
   "execution_count": 5,
   "metadata": {},
   "outputs": [],
   "source": [
    "# Read data\n",
    "df_orig = pd.read_sql(query,cnxn)\n",
    "\n",
    "# Close the cursor\n",
    "cursor.close() "
   ]
  },
  {
   "cell_type": "code",
   "execution_count": 6,
   "metadata": {},
   "outputs": [
    {
     "data": {
      "text/html": [
       "<div>\n",
       "<style scoped>\n",
       "    .dataframe tbody tr th:only-of-type {\n",
       "        vertical-align: middle;\n",
       "    }\n",
       "\n",
       "    .dataframe tbody tr th {\n",
       "        vertical-align: top;\n",
       "    }\n",
       "\n",
       "    .dataframe thead th {\n",
       "        text-align: right;\n",
       "    }\n",
       "</style>\n",
       "<table border=\"1\" class=\"dataframe\">\n",
       "  <thead>\n",
       "    <tr style=\"text-align: right;\">\n",
       "      <th></th>\n",
       "      <th>CLIENT_NUMBER</th>\n",
       "      <th>HAS_BOUGHT_MORE</th>\n",
       "      <th>FEMALE</th>\n",
       "      <th>MALE</th>\n",
       "      <th>GENDER_UNKNOWN</th>\n",
       "      <th>MARRIED</th>\n",
       "      <th>DIVORCED</th>\n",
       "      <th>SINGLE</th>\n",
       "      <th>WIDOW</th>\n",
       "      <th>MARITAL_STATUS_UNKNOWN</th>\n",
       "      <th>CHILD</th>\n",
       "      <th>YOUTH</th>\n",
       "      <th>ADULT</th>\n",
       "      <th>SENIOR_CITIZEN</th>\n",
       "      <th>Q1_BUY</th>\n",
       "      <th>Q2_BUY</th>\n",
       "      <th>Q3_BUY</th>\n",
       "      <th>Q4_BUY</th>\n",
       "      <th>NUMBER_OF_CLAIMS</th>\n",
       "    </tr>\n",
       "  </thead>\n",
       "  <tbody>\n",
       "    <tr>\n",
       "      <td>0</td>\n",
       "      <td>0001529</td>\n",
       "      <td>1</td>\n",
       "      <td>0</td>\n",
       "      <td>1</td>\n",
       "      <td>0</td>\n",
       "      <td>0</td>\n",
       "      <td>0</td>\n",
       "      <td>0</td>\n",
       "      <td>0</td>\n",
       "      <td>0</td>\n",
       "      <td>0</td>\n",
       "      <td>0</td>\n",
       "      <td>1</td>\n",
       "      <td>0</td>\n",
       "      <td>2</td>\n",
       "      <td>2</td>\n",
       "      <td>2</td>\n",
       "      <td>0</td>\n",
       "      <td>0</td>\n",
       "    </tr>\n",
       "    <tr>\n",
       "      <td>1</td>\n",
       "      <td>0001533</td>\n",
       "      <td>1</td>\n",
       "      <td>0</td>\n",
       "      <td>1</td>\n",
       "      <td>0</td>\n",
       "      <td>1</td>\n",
       "      <td>0</td>\n",
       "      <td>0</td>\n",
       "      <td>0</td>\n",
       "      <td>0</td>\n",
       "      <td>0</td>\n",
       "      <td>0</td>\n",
       "      <td>1</td>\n",
       "      <td>0</td>\n",
       "      <td>6</td>\n",
       "      <td>1</td>\n",
       "      <td>0</td>\n",
       "      <td>0</td>\n",
       "      <td>0</td>\n",
       "    </tr>\n",
       "    <tr>\n",
       "      <td>2</td>\n",
       "      <td>0001535</td>\n",
       "      <td>0</td>\n",
       "      <td>0</td>\n",
       "      <td>1</td>\n",
       "      <td>0</td>\n",
       "      <td>0</td>\n",
       "      <td>0</td>\n",
       "      <td>1</td>\n",
       "      <td>0</td>\n",
       "      <td>0</td>\n",
       "      <td>0</td>\n",
       "      <td>0</td>\n",
       "      <td>1</td>\n",
       "      <td>0</td>\n",
       "      <td>1</td>\n",
       "      <td>0</td>\n",
       "      <td>1</td>\n",
       "      <td>0</td>\n",
       "      <td>0</td>\n",
       "    </tr>\n",
       "    <tr>\n",
       "      <td>3</td>\n",
       "      <td>0001544</td>\n",
       "      <td>0</td>\n",
       "      <td>0</td>\n",
       "      <td>1</td>\n",
       "      <td>0</td>\n",
       "      <td>0</td>\n",
       "      <td>0</td>\n",
       "      <td>1</td>\n",
       "      <td>0</td>\n",
       "      <td>0</td>\n",
       "      <td>0</td>\n",
       "      <td>0</td>\n",
       "      <td>1</td>\n",
       "      <td>0</td>\n",
       "      <td>0</td>\n",
       "      <td>2</td>\n",
       "      <td>2</td>\n",
       "      <td>0</td>\n",
       "      <td>1</td>\n",
       "    </tr>\n",
       "    <tr>\n",
       "      <td>4</td>\n",
       "      <td>0001549</td>\n",
       "      <td>0</td>\n",
       "      <td>0</td>\n",
       "      <td>1</td>\n",
       "      <td>0</td>\n",
       "      <td>0</td>\n",
       "      <td>0</td>\n",
       "      <td>1</td>\n",
       "      <td>0</td>\n",
       "      <td>0</td>\n",
       "      <td>0</td>\n",
       "      <td>0</td>\n",
       "      <td>1</td>\n",
       "      <td>0</td>\n",
       "      <td>0</td>\n",
       "      <td>2</td>\n",
       "      <td>0</td>\n",
       "      <td>0</td>\n",
       "      <td>0</td>\n",
       "    </tr>\n",
       "  </tbody>\n",
       "</table>\n",
       "</div>"
      ],
      "text/plain": [
       "  CLIENT_NUMBER  HAS_BOUGHT_MORE FEMALE MALE GENDER_UNKNOWN MARRIED DIVORCED  \\\n",
       "0      0001529                 1      0    1              0       0        0   \n",
       "1      0001533                 1      0    1              0       1        0   \n",
       "2      0001535                 0      0    1              0       0        0   \n",
       "3      0001544                 0      0    1              0       0        0   \n",
       "4      0001549                 0      0    1              0       0        0   \n",
       "\n",
       "  SINGLE WIDOW MARITAL_STATUS_UNKNOWN CHILD YOUTH ADULT SENIOR_CITIZEN  \\\n",
       "0      0     0                      0     0     0     1              0   \n",
       "1      0     0                      0     0     0     1              0   \n",
       "2      1     0                      0     0     0     1              0   \n",
       "3      1     0                      0     0     0     1              0   \n",
       "4      1     0                      0     0     0     1              0   \n",
       "\n",
       "   Q1_BUY  Q2_BUY  Q3_BUY  Q4_BUY  NUMBER_OF_CLAIMS  \n",
       "0       2       2       2       0                 0  \n",
       "1       6       1       0       0                 0  \n",
       "2       1       0       1       0                 0  \n",
       "3       0       2       2       0                 1  \n",
       "4       0       2       0       0                 0  "
      ]
     },
     "execution_count": 6,
     "metadata": {},
     "output_type": "execute_result"
    }
   ],
   "source": [
    "# Check data sample\n",
    "df_orig.head()"
   ]
  },
  {
   "cell_type": "markdown",
   "metadata": {},
   "source": [
    "## Data Analysis & Visualization"
   ]
  },
  {
   "cell_type": "code",
   "execution_count": 7,
   "metadata": {},
   "outputs": [
    {
     "data": {
      "text/plain": [
       "(4245, 19)"
      ]
     },
     "execution_count": 7,
     "metadata": {},
     "output_type": "execute_result"
    }
   ],
   "source": [
    "# Check data shape\n",
    "df_orig.shape"
   ]
  },
  {
   "cell_type": "code",
   "execution_count": 8,
   "metadata": {},
   "outputs": [
    {
     "name": "stdout",
     "output_type": "stream",
     "text": [
      "<class 'pandas.core.frame.DataFrame'>\n",
      "RangeIndex: 4245 entries, 0 to 4244\n",
      "Data columns (total 19 columns):\n",
      "CLIENT_NUMBER             4245 non-null object\n",
      "HAS_BOUGHT_MORE           4245 non-null int64\n",
      "FEMALE                    4245 non-null object\n",
      "MALE                      4245 non-null object\n",
      "GENDER_UNKNOWN            4245 non-null object\n",
      "MARRIED                   4245 non-null object\n",
      "DIVORCED                  4245 non-null object\n",
      "SINGLE                    4245 non-null object\n",
      "WIDOW                     4245 non-null object\n",
      "MARITAL_STATUS_UNKNOWN    4245 non-null object\n",
      "CHILD                     4245 non-null object\n",
      "YOUTH                     4245 non-null object\n",
      "ADULT                     4245 non-null object\n",
      "SENIOR_CITIZEN            4245 non-null object\n",
      "Q1_BUY                    4245 non-null int64\n",
      "Q2_BUY                    4245 non-null int64\n",
      "Q3_BUY                    4245 non-null int64\n",
      "Q4_BUY                    4245 non-null int64\n",
      "NUMBER_OF_CLAIMS          4245 non-null int64\n",
      "dtypes: int64(6), object(13)\n",
      "memory usage: 630.2+ KB\n"
     ]
    }
   ],
   "source": [
    "# Check data attributes of the columns\n",
    "df_orig.info()"
   ]
  },
  {
   "cell_type": "code",
   "execution_count": 9,
   "metadata": {},
   "outputs": [
    {
     "data": {
      "text/plain": [
       "0    3853\n",
       "1     392\n",
       "Name: HAS_BOUGHT_MORE, dtype: int64"
      ]
     },
     "execution_count": 9,
     "metadata": {},
     "output_type": "execute_result"
    }
   ],
   "source": [
    "# View distribution of 'Lapse' Instances\n",
    "df_orig['HAS_BOUGHT_MORE'].value_counts()"
   ]
  },
  {
   "cell_type": "code",
   "execution_count": 10,
   "metadata": {},
   "outputs": [
    {
     "data": {
      "text/plain": [
       "CLIENT_NUMBER             0\n",
       "HAS_BOUGHT_MORE           0\n",
       "FEMALE                    0\n",
       "MALE                      0\n",
       "GENDER_UNKNOWN            0\n",
       "MARRIED                   0\n",
       "DIVORCED                  0\n",
       "SINGLE                    0\n",
       "WIDOW                     0\n",
       "MARITAL_STATUS_UNKNOWN    0\n",
       "CHILD                     0\n",
       "YOUTH                     0\n",
       "ADULT                     0\n",
       "SENIOR_CITIZEN            0\n",
       "Q1_BUY                    0\n",
       "Q2_BUY                    0\n",
       "Q3_BUY                    0\n",
       "Q4_BUY                    0\n",
       "NUMBER_OF_CLAIMS          0\n",
       "dtype: int64"
      ]
     },
     "execution_count": 10,
     "metadata": {},
     "output_type": "execute_result"
    }
   ],
   "source": [
    "# Check if there are any nulls\n",
    "df_orig.isnull().sum()"
   ]
  },
  {
   "cell_type": "code",
   "execution_count": 11,
   "metadata": {},
   "outputs": [
    {
     "data": {
      "text/plain": [
       "<seaborn.axisgrid.FacetGrid at 0x18e4bfac550>"
      ]
     },
     "execution_count": 11,
     "metadata": {},
     "output_type": "execute_result"
    },
    {
     "data": {
      "image/png": "[encoded data removed]",
      "text/plain": [
       "<Figure size 864x432 with 6 Axes>"
      ]
     },
     "metadata": {
      "needs_background": "light"
     },
     "output_type": "display_data"
    }
   ],
   "source": [
    "# Study distribution of Numerical Columns\n",
    "num = [f for f in df_orig.columns if df_orig.dtypes[f] != 'object']\n",
    "nd = pd.melt(df_orig, value_vars = num)\n",
    "n1 = sns.FacetGrid (nd, col='variable', col_wrap=4, sharex=False, sharey = False)\n",
    "n1 = n1.map(sns.distplot, 'value')\n",
    "n1"
   ]
  },
  {
   "cell_type": "code",
   "execution_count": 12,
   "metadata": {
    "scrolled": true
   },
   "outputs": [
    {
     "data": {
      "image/png": "[encoded data removed]",
      "text/plain": [
       "<Figure size 432x288 with 1 Axes>"
      ]
     },
     "metadata": {
      "needs_background": "light"
     },
     "output_type": "display_data"
    }
   ],
   "source": [
    "# Plot count values\n",
    "df_orig.HAS_BOUGHT_MORE.value_counts()\n",
    "sns.countplot(x = 'HAS_BOUGHT_MORE', data = df_orig, palette = 'hls')\n",
    "plt.show()"
   ]
  },
  {
   "cell_type": "markdown",
   "metadata": {},
   "source": [
    "## Data Treatment"
   ]
  },
  {
   "cell_type": "code",
   "execution_count": 13,
   "metadata": {},
   "outputs": [],
   "source": [
    "# Separate features into categorical and numerical category\n",
    "cat_vars = ['FEMALE','MALE','GENDER_UNKNOWN','MARRIED','DIVORCED',\n",
    "            'SINGLE','WIDOW','MARITAL_STATUS_UNKNOWN','CHILD',\n",
    "            'YOUTH','ADULT','SENIOR_CITIZEN']\n",
    "\n",
    "num_vars = ['Q1_BUY', 'Q2_BUY', 'Q3_BUY','Q4_BUY', 'NUMBER_OF_CLAIMS']"
   ]
  },
  {
   "cell_type": "code",
   "execution_count": 14,
   "metadata": {},
   "outputs": [],
   "source": [
    "# Create a copy of dataframe\n",
    "df_work = df_orig.copy()"
   ]
  },
  {
   "cell_type": "code",
   "execution_count": 15,
   "metadata": {},
   "outputs": [],
   "source": [
    "# Convert to 'category' object type\n",
    "for var in cat_vars:\n",
    "    df_work[var] = df_work[var].astype('category')"
   ]
  },
  {
   "cell_type": "code",
   "execution_count": 16,
   "metadata": {},
   "outputs": [],
   "source": [
    "# Create Dummy Variables for categorical variables\n",
    "for var in cat_vars:\n",
    "    cat_list = 'var'+'_'+var\n",
    "    cat_list = pd.get_dummies(df_work[var], prefix=var)\n",
    "    dummy_data = df_work.join(cat_list)\n",
    "    df_work = dummy_data"
   ]
  },
  {
   "cell_type": "code",
   "execution_count": 17,
   "metadata": {},
   "outputs": [
    {
     "data": {
      "text/plain": [
       "(4245, 42)"
      ]
     },
     "execution_count": 17,
     "metadata": {},
     "output_type": "execute_result"
    }
   ],
   "source": [
    "# Check data shape after dummy encoding\n",
    "df_work.shape"
   ]
  },
  {
   "cell_type": "code",
   "execution_count": 18,
   "metadata": {},
   "outputs": [],
   "source": [
    "# Remove original columns for which dummy variables have been created and ones which will not be required for prediction\n",
    "vars_remove = ['FEMALE','MALE','GENDER_UNKNOWN','MARRIED','DIVORCED','SINGLE','WIDOW','MARITAL_STATUS_UNKNOWN','CHILD',\n",
    "                'YOUTH','ADULT','SENIOR_CITIZEN','CLIENT_NUMBER']\n",
    "\n",
    "for var in vars_remove:\n",
    "    df_work=df_work.drop(var, axis=1)"
   ]
  },
  {
   "cell_type": "code",
   "execution_count": 19,
   "metadata": {},
   "outputs": [],
   "source": [
    "# Normalize numerical columns\n",
    "scaler = MinMaxScaler()\n",
    "df_work['Q1_BUY'] = scaler.fit_transform(df_work['Q1_BUY'].values.reshape(-1,1))\n",
    "df_work['Q2_BUY'] = scaler.fit_transform(df_work['Q2_BUY'].values.reshape(-1,1))\n",
    "df_work['Q3_BUY'] = scaler.fit_transform(df_work['Q3_BUY'].values.reshape(-1,1))\n",
    "df_work['Q4_BUY'] = scaler.fit_transform(df_work['Q4_BUY'].values.reshape(-1,1))\n",
    "df_work['NUMBER_OF_CLAIMS'] = scaler.fit_transform(df_work['NUMBER_OF_CLAIMS'].values.reshape(-1,1))"
   ]
  },
  {
   "cell_type": "code",
   "execution_count": 20,
   "metadata": {},
   "outputs": [],
   "source": [
    "# Create separate dataset for feature and target columns\n",
    "x = df_work.drop('HAS_BOUGHT_MORE', axis=1)\n",
    "y = df_work['HAS_BOUGHT_MORE']"
   ]
  },
  {
   "cell_type": "markdown",
   "metadata": {},
   "source": [
    "## Feature Selection"
   ]
  },
  {
   "cell_type": "code",
   "execution_count": 24,
   "metadata": {},
   "outputs": [
    {
     "name": "stdout",
     "output_type": "stream",
     "text": [
      "               Specs      Score\n",
      "15          SINGLE_1  63.287964\n",
      "3             Q4_BUY  34.940043\n",
      "0             Q1_BUY  27.812862\n",
      "2             Q3_BUY  19.873601\n",
      "12         MARRIED_1  17.334174\n",
      "11         MARRIED_0   8.992684\n",
      "4   NUMBER_OF_CLAIMS   8.398445\n",
      "1             Q2_BUY   7.876300\n",
      "23           YOUTH_1   5.943942\n",
      "6           FEMALE_1   4.070498\n"
     ]
    }
   ],
   "source": [
    "bestfeatures=SelectKBest(score_func=chi2, k=10)\n",
    "fit=bestfeatures.fit(x,y)\n",
    "dfscores=pd.DataFrame(fit.scores_)\n",
    "dfcolumns=pd.DataFrame(x.columns)\n",
    "#concatenate two dataframes\n",
    "featureScores=pd.concat([dfcolumns,dfscores],axis=1)\n",
    "featureScores.columns=['Specs','Score'] #naming the dataframe columns\n",
    "print(featureScores.nlargest(10,'Score')) #print 10 best features\n"
   ]
  },
  {
   "cell_type": "code",
   "execution_count": 25,
   "metadata": {},
   "outputs": [],
   "source": [
    "# Get top features\n",
    "top_features = ['SINGLE_1','Q4_BUY','Q1_BUY','Q3_BUY','MARRIED_1','MARRIED_0','NUMBER_OF_CLAIMS','Q2_BUY','YOUTH_1','FEMALE_1'  ]"
   ]
  },
  {
   "cell_type": "code",
   "execution_count": 26,
   "metadata": {},
   "outputs": [],
   "source": [
    "# Create new dataset with only top features\n",
    "x01=x[top_features]\n",
    "y01=y"
   ]
  },
  {
   "cell_type": "code",
   "execution_count": 27,
   "metadata": {},
   "outputs": [],
   "source": [
    "# Perform Test/Train Split\n",
    "x01_train, x01_test, y01_train, y01_test=train_test_split(x01, y01, test_size=0.3,random_state=11)"
   ]
  },
  {
   "cell_type": "code",
   "execution_count": 28,
   "metadata": {},
   "outputs": [
    {
     "name": "stderr",
     "output_type": "stream",
     "text": [
      "C:\\Users\\tbhardwaj2\\AppData\\Roaming\\Python\\Python36\\site-packages\\sklearn\\utils\\deprecation.py:144: FutureWarning: The sklearn.neighbors.base module is  deprecated in version 0.22 and will be removed in version 0.24. The corresponding classes / functions should instead be imported from sklearn.neighbors. Anything that cannot be imported from sklearn.neighbors is now part of the private API.\n",
      "  warnings.warn(message, FutureWarning)\n",
      "C:\\Users\\tbhardwaj2\\AppData\\Roaming\\Python\\Python36\\site-packages\\sklearn\\utils\\deprecation.py:144: FutureWarning: The sklearn.ensemble.bagging module is  deprecated in version 0.22 and will be removed in version 0.24. The corresponding classes / functions should instead be imported from sklearn.ensemble. Anything that cannot be imported from sklearn.ensemble is now part of the private API.\n",
      "  warnings.warn(message, FutureWarning)\n",
      "C:\\Users\\tbhardwaj2\\AppData\\Roaming\\Python\\Python36\\site-packages\\sklearn\\utils\\deprecation.py:144: FutureWarning: The sklearn.ensemble.base module is  deprecated in version 0.22 and will be removed in version 0.24. The corresponding classes / functions should instead be imported from sklearn.ensemble. Anything that cannot be imported from sklearn.ensemble is now part of the private API.\n",
      "  warnings.warn(message, FutureWarning)\n",
      "C:\\Users\\tbhardwaj2\\AppData\\Roaming\\Python\\Python36\\site-packages\\sklearn\\utils\\deprecation.py:144: FutureWarning: The sklearn.ensemble.forest module is  deprecated in version 0.22 and will be removed in version 0.24. The corresponding classes / functions should instead be imported from sklearn.ensemble. Anything that cannot be imported from sklearn.ensemble is now part of the private API.\n",
      "  warnings.warn(message, FutureWarning)\n",
      "Using TensorFlow backend.\n",
      "C:\\Users\\tbhardwaj2\\AppData\\Roaming\\Python\\Python36\\site-packages\\sklearn\\utils\\deprecation.py:144: FutureWarning: The sklearn.utils.testing module is  deprecated in version 0.22 and will be removed in version 0.24. The corresponding classes / functions should instead be imported from sklearn.utils. Anything that cannot be imported from sklearn.utils is now part of the private API.\n",
      "  warnings.warn(message, FutureWarning)\n",
      "C:\\Users\\tbhardwaj2\\AppData\\Roaming\\Python\\Python36\\site-packages\\sklearn\\utils\\deprecation.py:144: FutureWarning: The sklearn.metrics.classification module is  deprecated in version 0.22 and will be removed in version 0.24. The corresponding classes / functions should instead be imported from sklearn.metrics. Anything that cannot be imported from sklearn.metrics is now part of the private API.\n",
      "  warnings.warn(message, FutureWarning)\n",
      "C:\\Users\\tbhardwaj2\\AppData\\Roaming\\Python\\Python36\\site-packages\\sklearn\\utils\\deprecation.py:87: FutureWarning: Function safe_indexing is deprecated; safe_indexing is deprecated in version 0.22 and will be removed in version 0.24.\n",
      "  warnings.warn(msg, category=FutureWarning)\n"
     ]
    },
    {
     "name": "stdout",
     "output_type": "stream",
     "text": [
      "length of oversampled data is  5376\n",
      "Number of clients with multiple policies in oversampled data 2688\n",
      "Number of clients with a single policy in oversampled data 2688\n",
      "Proportion of clients with a single policy in oversampled data is  0.5\n",
      "Proportion of clients with multiple policies in oversampled data is  0.5\n"
     ]
    }
   ],
   "source": [
    "# To handle class imbalance performing SMOTE\n",
    "\n",
    "from imblearn.over_sampling import SMOTE\n",
    "SMO = SMOTE(random_state=11)\n",
    "\n",
    "#X4_train, X4_test, Y4_train, Y4_test = train_test_split(X_train,Y_train, test_size=0.20)\n",
    "x01_train_smo,y01_train_smo = SMO.fit_sample(x01_train, y01_train)\n",
    "columns = x01_train.columns\n",
    "\n",
    "x01_train_smo = pd.DataFrame(data = x01_train_smo, columns = columns )\n",
    "y01_train_smo = pd.DataFrame(data = y01_train_smo, columns = ['HAS_BOUGHT_MORE'])\n",
    "\n",
    "# we can Check the numbers of our data\n",
    "print(\"length of oversampled data is \",len(x01_train_smo))\n",
    "print(\"Number of clients with multiple policies in oversampled data\",len(y01_train_smo[y01_train_smo['HAS_BOUGHT_MORE']== 0 ]))\n",
    "print(\"Number of clients with a single policy in oversampled data\",len(y01_train_smo[y01_train_smo['HAS_BOUGHT_MORE']== 1 ]))\n",
    "print(\"Proportion of clients with a single policy in oversampled data is \",len(y01_train_smo[y01_train_smo['HAS_BOUGHT_MORE']== 0])/len(x01_train_smo))\n",
    "print(\"Proportion of clients with multiple policies in oversampled data is \",len(y01_train_smo[y01_train_smo['HAS_BOUGHT_MORE']== 1 ])/len(x01_train_smo))"
   ]
  },
  {
   "cell_type": "markdown",
   "metadata": {},
   "source": [
    "## Model Application"
   ]
  },
  {
   "cell_type": "markdown",
   "metadata": {},
   "source": [
    "### Logistic Regression with StratifiedKFold with set of weights provided.  Also use Gridsearch to obtain optimal parameters. "
   ]
  },
  {
   "cell_type": "code",
   "execution_count": 29,
   "metadata": {},
   "outputs": [],
   "source": [
    "# Define grid\n",
    "C = np.logspace(0,5,10)\n",
    "param_grid = dict( C=C)\n",
    "\n",
    "# Model\n",
    "logreg=LogisticRegression(solver='lbfgs',max_iter=2000)\n",
    "\n",
    "# Define Evaluation Procedure\n",
    "cv=RepeatedStratifiedKFold(n_splits=10, n_repeats=3, random_state=11)\n",
    "\n",
    "# Define Grid Search\n",
    "grid=GridSearchCV(estimator=logreg, param_grid=param_grid, n_jobs=1, cv=cv, scoring='roc_auc')\n",
    "\n",
    "# Execute Grid Search\n",
    "grid_result=grid.fit(x01_train_smo, (y01_train_smo.values.ravel()))\n"
   ]
  },
  {
   "cell_type": "code",
   "execution_count": 30,
   "metadata": {},
   "outputs": [
    {
     "name": "stdout",
     "output_type": "stream",
     "text": [
      "Best: 0.882645 using {'C': 2154.4346900318847}\n"
     ]
    }
   ],
   "source": [
    "# Print best model parameters\n",
    "print(\"Best: %f using %s\" % (grid_result.best_score_, grid_result.best_params_))"
   ]
  },
  {
   "cell_type": "code",
   "execution_count": 31,
   "metadata": {},
   "outputs": [
    {
     "data": {
      "text/plain": [
       "LogisticRegression(C=2154.4346900318847, class_weight=None, dual=False,\n",
       "                   fit_intercept=True, intercept_scaling=1, l1_ratio=None,\n",
       "                   max_iter=2000, multi_class='auto', n_jobs=None, penalty='l2',\n",
       "                   random_state=None, solver='lbfgs', tol=0.0001, verbose=0,\n",
       "                   warm_start=False)"
      ]
     },
     "execution_count": 31,
     "metadata": {},
     "output_type": "execute_result"
    }
   ],
   "source": [
    "grid_result.best_estimator_"
   ]
  },
  {
   "cell_type": "code",
   "execution_count": 35,
   "metadata": {},
   "outputs": [],
   "source": [
    "# Saving the best model\n",
    "bestlogreg=grid_result.best_estimator_"
   ]
  },
  {
   "cell_type": "code",
   "execution_count": 36,
   "metadata": {},
   "outputs": [
    {
     "data": {
      "text/plain": [
       "LogisticRegression(C=2154.4346900318847, class_weight=None, dual=False,\n",
       "                   fit_intercept=True, intercept_scaling=1, l1_ratio=None,\n",
       "                   max_iter=2000, multi_class='auto', n_jobs=None, penalty='l2',\n",
       "                   random_state=None, solver='lbfgs', tol=0.0001, verbose=0,\n",
       "                   warm_start=False)"
      ]
     },
     "execution_count": 36,
     "metadata": {},
     "output_type": "execute_result"
    }
   ],
   "source": [
    "# Fit the model on train data\n",
    "bestlogreg.fit(x01_train, y01_train)"
   ]
  },
  {
   "cell_type": "code",
   "execution_count": 37,
   "metadata": {},
   "outputs": [],
   "source": [
    "# Make Predictions\n",
    "y01_pred=bestlogreg.predict(x01_test)"
   ]
  },
  {
   "cell_type": "code",
   "execution_count": 38,
   "metadata": {},
   "outputs": [
    {
     "data": {
      "text/plain": [
       "array([[1164,    1],\n",
       "       [  82,   27]], dtype=int64)"
      ]
     },
     "execution_count": 38,
     "metadata": {},
     "output_type": "execute_result"
    }
   ],
   "source": [
    "# Make Confusion Matrix to compare results against actuals\n",
    "cnf_matrix = metrics.confusion_matrix(y01_test, y01_pred)\n",
    "cnf_matrix"
   ]
  },
  {
   "cell_type": "code",
   "execution_count": 39,
   "metadata": {},
   "outputs": [
    {
     "name": "stdout",
     "output_type": "stream",
     "text": [
      "Accuracy: 0.934850863422292\n",
      "Precision: 0.9642857142857143\n",
      "Recall: 0.24770642201834864\n"
     ]
    }
   ],
   "source": [
    "# Get Accuracy Scores\n",
    "print(\"Accuracy:\",metrics.accuracy_score(y01_test, y01_pred))\n",
    "print(\"Precision:\",metrics.precision_score(y01_test, y01_pred))\n",
    "print(\"Recall:\",metrics.recall_score(y01_test, y01_pred))"
   ]
  },
  {
   "cell_type": "code",
   "execution_count": 40,
   "metadata": {},
   "outputs": [
    {
     "data": {
      "image/png": "[encoded data removed]",
      "text/plain": [
       "<Figure size 432x288 with 1 Axes>"
      ]
     },
     "metadata": {
      "needs_background": "light"
     },
     "output_type": "display_data"
    }
   ],
   "source": [
    "# Print ROC AUC Curve\n",
    "\n",
    "logit_roc_auc = roc_auc_score(y01_test, bestlogreg.predict(x01_test))\n",
    "fpr, tpr, thresholds = roc_curve(y01_test, bestlogreg.predict_proba(x01_test)[:,1])\n",
    "plt.figure()\n",
    "plt.plot(fpr, tpr, label='Logistic Regression (area = %0.2f)' % logit_roc_auc)\n",
    "plt.plot([0, 1], [0, 1],'r--')\n",
    "plt.xlim([0.0, 1.0])\n",
    "plt.ylim([0.0, 1.05])\n",
    "plt.xlabel('False Positive Rate')\n",
    "plt.ylabel('True Positive Rate')\n",
    "plt.title('Receiver operating characteristic')\n",
    "plt.legend(loc=\"lower right\")\n",
    "plt.savefig('Log_ROC')\n",
    "plt.show()"
   ]
  },
  {
   "cell_type": "markdown",
   "metadata": {},
   "source": [
    "### Save the model as PMML File"
   ]
  },
  {
   "cell_type": "code",
   "execution_count": 41,
   "metadata": {},
   "outputs": [
    {
     "data": {
      "text/plain": [
       "['PnCPropensityModel.pmml']"
      ]
     },
     "execution_count": 41,
     "metadata": {},
     "output_type": "execute_result"
    }
   ],
   "source": [
    "# Save the model as a pmml and use to make predictions in a file \n",
    "\n",
    "joblib.dump(bestlogreg, 'PnCPropensityModel.pmml') "
   ]
  },
  {
   "cell_type": "markdown",
   "metadata": {},
   "source": [
    "### Run the model on entire dataset and save the output in a csv file"
   ]
  },
  {
   "cell_type": "code",
   "execution_count": 42,
   "metadata": {},
   "outputs": [],
   "source": [
    "# Copy the original data set\n",
    "df_test = df_orig.copy()"
   ]
  },
  {
   "cell_type": "code",
   "execution_count": 43,
   "metadata": {},
   "outputs": [],
   "source": [
    "# Separate features into categorical and numerical category\n",
    "cat_vars = ['FEMALE','MALE','GENDER_UNKNOWN','MARRIED','DIVORCED',\n",
    "            'SINGLE','WIDOW','MARITAL_STATUS_UNKNOWN','CHILD',\n",
    "            'YOUTH','ADULT','SENIOR_CITIZEN']\n",
    "\n",
    "num_vars = ['Q1_BUY', 'Q2_BUY', 'Q3_BUY','Q4_BUY', 'NUMBER_OF_CLAIMS']"
   ]
  },
  {
   "cell_type": "code",
   "execution_count": 44,
   "metadata": {},
   "outputs": [],
   "source": [
    "# Convert to 'category' object type\n",
    "for var in cat_vars:\n",
    "    df_test[var] = df_test[var].astype('category')"
   ]
  },
  {
   "cell_type": "code",
   "execution_count": 45,
   "metadata": {},
   "outputs": [],
   "source": [
    "# Create Dummy Variables for categorical variables\n",
    "for var in cat_vars:\n",
    "    cat_list = 'var'+'_'+var\n",
    "    cat_list = pd.get_dummies(df_test[var], prefix=var)\n",
    "    dummy_data = df_test.join(cat_list)\n",
    "    df_test = dummy_data"
   ]
  },
  {
   "cell_type": "code",
   "execution_count": 46,
   "metadata": {},
   "outputs": [],
   "source": [
    "# Remove original columns for which dummy variables have been created and ones which will not be required for prediction\n",
    "vars_remove = ['FEMALE','MALE','GENDER_UNKNOWN','MARRIED','DIVORCED','SINGLE','WIDOW','MARITAL_STATUS_UNKNOWN','CHILD',\n",
    "                'YOUTH','ADULT','SENIOR_CITIZEN','CLIENT_NUMBER']\n",
    "\n",
    "for var in vars_remove:\n",
    "    df_test=df_test.drop(var, axis=1)"
   ]
  },
  {
   "cell_type": "code",
   "execution_count": 47,
   "metadata": {},
   "outputs": [],
   "source": [
    "# Get top features\n",
    "top_features = ['SINGLE_1','Q4_BUY','Q1_BUY','Q3_BUY','MARRIED_1','MARRIED_0','NUMBER_OF_CLAIMS','Q2_BUY','YOUTH_1','FEMALE_1'  ]"
   ]
  },
  {
   "cell_type": "code",
   "execution_count": 48,
   "metadata": {},
   "outputs": [],
   "source": [
    "# Retain only top features in the datframe\n",
    "df_test=df_test[top_features]"
   ]
  },
  {
   "cell_type": "code",
   "execution_count": 49,
   "metadata": {},
   "outputs": [],
   "source": [
    "# Make predictions\n",
    "prediction_class = bestlogreg.predict(df_test)\n",
    "prediction_prob = bestlogreg.predict_proba(df_test)\n",
    "\n",
    "# Get Individual Probabilities\n",
    "notbuy, buy = (prediction_prob).T"
   ]
  },
  {
   "cell_type": "code",
   "execution_count": 50,
   "metadata": {},
   "outputs": [],
   "source": [
    "# Save original dataframe in a separate dataframe\n",
    "df_results = df_orig.copy()"
   ]
  },
  {
   "cell_type": "code",
   "execution_count": 51,
   "metadata": {},
   "outputs": [],
   "source": [
    "# Remove target column\n",
    "df_results=df_results.drop('HAS_BOUGHT_MORE',axis=1)"
   ]
  },
  {
   "cell_type": "code",
   "execution_count": 52,
   "metadata": {},
   "outputs": [],
   "source": [
    "# Replace target column with predicted value of '0' or '1' along with respective probablities\n",
    "df_results['notbuy'] = notbuy\n",
    "df_results['buy'] = buy\n",
    "df_results['propensity'] = prediction_class"
   ]
  },
  {
   "cell_type": "markdown",
   "metadata": {},
   "source": [
    "### Though care has been taken in testing the query output, still double check for duplicate rows for a policy in the csv file"
   ]
  },
  {
   "cell_type": "code",
   "execution_count": 53,
   "metadata": {},
   "outputs": [],
   "source": [
    "df_results.to_csv('EX_SOURCE_CUSTOMER_PROPENSITY_P&C.csv', index = None, header=True) "
   ]
  }
 ],
 "metadata": {
  "kernelspec": {
   "display_name": "Python 3",
   "language": "python",
   "name": "python3"
  },
  "language_info": {
   "codemirror_mode": {
    "name": "ipython",
    "version": 3
   },
   "file_extension": ".py",
   "mimetype": "text/x-python",
   "name": "python",
   "nbconvert_exporter": "python",
   "pygments_lexer": "ipython3",
   "version": "3.6.8"
  }
 },
 "nbformat": 4,
 "nbformat_minor": 2
}
