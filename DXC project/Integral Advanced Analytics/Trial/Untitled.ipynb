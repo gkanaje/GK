{
 "cells": [
  {
   "cell_type": "code",
   "execution_count": 1,
   "metadata": {},
   "outputs": [
    {
     "name": "stdout",
     "output_type": "stream",
     "text": [
      "Collecting ipynb-py-convert\n",
      "  Downloading https://files.pythonhosted.org/packages/43/90/37ff1b9f553583e60c327e1ea8cbfea469c38c9d8791ad1f7ee6d3482efa/ipynb-py-convert-0.4.6.tar.gz\n",
      "Building wheels for collected packages: ipynb-py-convert\n",
      "  Building wheel for ipynb-py-convert (setup.py): started\n",
      "  Building wheel for ipynb-py-convert (setup.py): finished with status 'done'\n",
      "  Stored in directory: C:\\Users\\aaacharya\\AppData\\Local\\pip\\Cache\\wheels\\80\\dc\\7c\\a7279f7726d66951fe48d5afd45247bcf5bf92c98282e4e78e\n",
      "Successfully built ipynb-py-convert\n",
      "Installing collected packages: ipynb-py-convert\n",
      "Successfully installed ipynb-py-convert-0.4.6\n",
      "Note: you may need to restart the kernel to use updated packages.\n"
     ]
    }
   ],
   "source": [
    "pip install ipynb-py-convert"
   ]
  }
 ],
 "metadata": {
  "kernelspec": {
   "display_name": "Python 3",
   "language": "python",
   "name": "python3"
  },
  "language_info": {
   "codemirror_mode": {
    "name": "ipython",
    "version": 3
   },
   "file_extension": ".py",
   "mimetype": "text/x-python",
   "name": "python",
   "nbconvert_exporter": "python",
   "pygments_lexer": "ipython3",
   "version": "3.7.3"
  }
 },
 "nbformat": 4,
 "nbformat_minor": 2
}
