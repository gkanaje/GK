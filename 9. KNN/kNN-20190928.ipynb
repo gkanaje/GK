{
 "cells": [
  {
   "cell_type": "markdown",
   "metadata": {
    "colab_type": "text",
    "id": "FMbQGa_fNqxK"
   },
   "source": [
    "<img src=\"https://github.com/insaid2018/Term-1/blob/master/Images/INSAID_Full%20Logo.png?raw=true\" width=\"240\" height=\"360\" />\n",
    "\n",
    "# K - Nearest Neighbour"
   ]
  },
  {
   "cell_type": "markdown",
   "metadata": {
    "colab_type": "text",
    "id": "CJL50qlmNqxP"
   },
   "source": [
    "## Table of Content\n",
    "\n",
    "1. [Introduction to K - Nearest Neighbour](#section1)<br>\n",
    "    - 1.1 [When do we use KNN algorithm?](#section101)<br>\n",
    "        - 1.1.1 [KNN for Regression](#section102)<br>\n",
    "        - 1.1.2 [KNN for Classification](#section103)<br>\n",
    "    - 1.2 [How does the KNN algorithm work?](#section104)<br>\n",
    "    - 1.3 [Maths behind KNN slgorithm](#section105)<br>\n",
    "        - 1.3.1 [Explanation using Real life scenario](#section106)<br>\n",
    "    - 1.4 [How do we choose the factor K?](#section107)<br>\n",
    "    - 1.5 [Curse of Dimensionality](#section108)<br>\n",
    "    - 1.6 [KNN Disciplines](#section109)<br>\n",
    "    - 1.7 [Breaking it dowm - Pseudo Code of KNN](#section110)<br>\n",
    "2. [Use Case - Glass Classification](#section2)<br>\n",
    "3. [Dataset (source, loading and description)](#section3)<br>\n",
    "4. [Data Visualization](#section4)<br>\n",
    "5. [Data Standardization](#section5)<br>\n",
    "6. [Train test split](#section6)<br>\n",
    "7. [Modelling and prediction](#section7)<br>\n",
    "8. [Model Comparison](#section8)\n",
    "9. [Implementing KNN Regressor on iris dataset](#section9)"
   ]
  },
  {
   "cell_type": "markdown",
   "metadata": {
    "colab_type": "text",
    "id": "_4wH4gq4NqxU"
   },
   "source": [
    "<a id=section1></a>"
   ]
  },
  {
   "cell_type": "markdown",
   "metadata": {
    "colab_type": "text",
    "id": "KbZbAEkKNqxZ"
   },
   "source": [
    "## 1. Introduction to K - Nearest neighbour"
   ]
  },
  {
   "cell_type": "markdown",
   "metadata": {
    "colab_type": "text",
    "id": "Vmg_qtiBNqxd"
   },
   "source": [
    "K-Nearest Neighbours is one of the most __basic yet essential classification algorithms__ in Machine Learning. It belongs to the __supervised learning__ domain and finds intense application in __pattern recognition__, __data mining__ and __intrusion detection__.\n",
    "\n",
    "It is widely disposable in real-life scenarios since it is non-parametric, meaning, it __does not make__ any __underlying assumptions__ about the distribution of data.\n",
    "\n",
    "- __Supervised learning__, in the context machine learning, is a type of system in which both __input__ and __desired output__ data are provided. Input and output data are __labelled for classification__ to provide a learning basis for future data processing.\n",
    "<img src=\"https://raw.githubusercontent.com/insaid2018/Term-3/master/Images/download.png\"/>"
   ]
  },
  {
   "cell_type": "markdown",
   "metadata": {
    "colab_type": "text",
    "id": "rVKb-bHDNqxf"
   },
   "source": [
    "<a id=section101></a>"
   ]
  },
  {
   "cell_type": "markdown",
   "metadata": {
    "colab_type": "text",
    "id": "TDTFOPe9Nqxh"
   },
   "source": [
    "## 1.1 When do we use KNN algorithm?"
   ]
  },
  {
   "cell_type": "markdown",
   "metadata": {
    "colab_type": "text",
    "id": "vGnHDWyqNqxk"
   },
   "source": [
    "KNN can be used for both __classification and regression__ predictive problems. However, it is more widely used in classification problems in the industry. To evaluate any technique we generally look at __3 important aspects__:\n",
    "\n",
    "1. Ease to interpret output\n",
    "\n",
    "2. Calculation time\n",
    "\n",
    "3. Predictive Power\n",
    "\n",
    "Let us take a few examples to  place KNN on the scale of 3 :<img src=\"https://raw.githubusercontent.com/insaid2018/Term-3/master/Images/download%20(1).png\" />\n",
    "\n",
    "\n",
    "Model comparison KNN algorithm fairs across all parameters of considerations. It is commonly used for its __ease of interpretation__ and __low calculation time__. It is applicable for smaller datasets."
   ]
  },
  {
   "cell_type": "markdown",
   "metadata": {
    "colab_type": "text",
    "id": "rXPwkjgZNqxo"
   },
   "source": [
    "<a id=section102></a>\n",
    "### 1.1.1 KNN for Regression\n",
    "When KNN is used for regression problems the _prediction is based on the __mean or the median__ of the K-most similar instances_.<img src=\"https://raw.githubusercontent.com/insaid2018/Term-3/master/Images/download%20(2).png\" />\n"
   ]
  },
  {
   "cell_type": "markdown",
   "metadata": {
    "colab_type": "text",
    "id": "p8pZC8UyNqxr"
   },
   "source": [
    "<a id=section103></a>\n",
    "### 1.1.2 KNN for Classification\n",
    "When KNN is used for classification, the output can be calculated as the __class with the highest frequency__ from the __K-most similar instances__. Each instance in essence __votes for their class and the class with the most votes is taken as the prediction__.\n",
    "\n",
    "Class probabilities can be calculated as the normalized frequency of samples that belong to each class in the set of K most similar instances for a new data instance. For example, in a binary classification problem (class is 0 or 1):\n",
    "\n",
    "p(class=0) = count(class=0) / (count(class=0)+count(class=1))\n",
    "\n",
    "If you are using K and you have an even number of classes (e.g. 2) it is a good idea to choose a K value with an odd number to avoid a tie. And the inverse, use an even number for K when you have an odd number of classes.\n",
    "<img src=\"https://raw.githubusercontent.com/insaid2018/Term-3/master/Images/download%20(3).png\" />"
   ]
  },
  {
   "cell_type": "markdown",
   "metadata": {
    "colab_type": "text",
    "id": "J7LtO0AFNqxt"
   },
   "source": [
    "<a id=section104></a>"
   ]
  },
  {
   "cell_type": "markdown",
   "metadata": {
    "colab_type": "text",
    "id": "isUH42tVNqxt"
   },
   "source": [
    "## 1.2 How does the KNN algorithm work?\n",
    "#### Also refer to the _excel sheet_."
   ]
  },
  {
   "cell_type": "markdown",
   "metadata": {
    "colab_type": "text",
    "id": "JnNZA3kcNqxu"
   },
   "source": [
    "Let’s take a simple case to understand this algorithm. Following is a __spread of red circles (RC) and green squares (GS)__ :<img src=\"https://raw.githubusercontent.com/insaid2018/Term-3/master/Images/download%20(4).png\" />\n",
    "\n",
    "We intend to find out the __class of the blue star (BS)__ . BS can either be RC or GS and nothing else. The __“K”__ in KNN algorithm is the nearest neighbors we wish to take vote from. __Let’s say K = 3__. Hence, _we will now make a circle with BS as center just as big as to __enclose only three datapoints__ on the plane_. Refer to following diagram for more details:\n",
    "<img src=\"https://raw.githubusercontent.com/insaid2018/Term-3/master/Images/download%20(5).png\" />\n",
    "\n",
    "The _three closest points to BS_ is __all RC__. Hence, with __good confidence level__ we can say that the _BS should belong to the class RC_. Here, the __choice became very obvious__ as _all three votes from the closest neighbor went to RC_. The choice of the parameter K is very crucial in this algorithm.    "
   ]
  },
  {
   "cell_type": "markdown",
   "metadata": {
    "colab_type": "text",
    "id": "hxd-AxJiNqxy"
   },
   "source": [
    "<a id=section105></a>"
   ]
  },
  {
   "cell_type": "markdown",
   "metadata": {
    "colab_type": "text",
    "id": "MEHGuQqrNqx4"
   },
   "source": [
    "## 1.3 Maths behind KNN algorithm"
   ]
  },
  {
   "cell_type": "markdown",
   "metadata": {
    "colab_type": "text",
    "id": "znhtyq0DNqx7"
   },
   "source": [
    "<img src=\"https://raw.githubusercontent.com/insaid2018/Term-3/master/Images/download%20(6).png\" />\n",
    "\n",
    "- __Euclidian__ - The distance can be achieved as a __straight line__ between 2 points.\n",
    "- __Chebyshev__ - In this, __all adjacent 8 cells__ can be reached by __one unit__.\n",
    "- __Manhattan__ - The distance between two points is the __sum of the (absolute) differences of their coordinates__. E.g. it only costs __1 unit for a straight move__, but __2 if one wants to take a crossed move__."
   ]
  },
  {
   "cell_type": "markdown",
   "metadata": {
    "colab_type": "text",
    "id": "wypyzmvDNqx-"
   },
   "source": [
    "## We will see how distance is calculated between rows."
   ]
  },
  {
   "cell_type": "markdown",
   "metadata": {
    "colab_type": "text",
    "id": "928757ZqNqx_"
   },
   "source": [
    "<img src=\"https://raw.githubusercontent.com/insaid2018/Term-3/master/Images/1.PNG\" />"
   ]
  },
  {
   "cell_type": "markdown",
   "metadata": {
    "colab_type": "text",
    "id": "9S1BUNSMNqyA"
   },
   "source": [
    "."
   ]
  },
  {
   "cell_type": "markdown",
   "metadata": {
    "colab_type": "text",
    "id": "egaHo0dVNqyB"
   },
   "source": [
    "."
   ]
  },
  {
   "cell_type": "markdown",
   "metadata": {
    "colab_type": "text",
    "id": "IwK7raKLNqyB"
   },
   "source": [
    "."
   ]
  },
  {
   "cell_type": "markdown",
   "metadata": {
    "colab_type": "text",
    "id": "gOZReNQENqyC"
   },
   "source": [
    "."
   ]
  },
  {
   "cell_type": "markdown",
   "metadata": {
    "colab_type": "text",
    "id": "0Dk0syGINqyD"
   },
   "source": [
    "."
   ]
  },
  {
   "cell_type": "markdown",
   "metadata": {
    "colab_type": "text",
    "id": "lnqOL8QnNqyD"
   },
   "source": [
    "."
   ]
  },
  {
   "cell_type": "markdown",
   "metadata": {
    "colab_type": "text",
    "id": "4bTclVzyNqyE"
   },
   "source": [
    "### Bringing all the variables to a common scale."
   ]
  },
  {
   "cell_type": "markdown",
   "metadata": {
    "colab_type": "text",
    "id": "FFg8kgRbNqyF"
   },
   "source": [
    "<img src=\"https://raw.githubusercontent.com/insaid2018/Term-3/master/Images/2.PNG\" />"
   ]
  },
  {
   "cell_type": "markdown",
   "metadata": {
    "colab_type": "text",
    "id": "bzR8Ax5BNqyG"
   },
   "source": [
    "."
   ]
  },
  {
   "cell_type": "markdown",
   "metadata": {
    "colab_type": "text",
    "id": "ob0v1IsONqyG"
   },
   "source": [
    "."
   ]
  },
  {
   "cell_type": "markdown",
   "metadata": {
    "colab_type": "text",
    "id": "ZGdPU99-NqyH"
   },
   "source": [
    "."
   ]
  },
  {
   "cell_type": "markdown",
   "metadata": {
    "colab_type": "text",
    "id": "VbvWtx8yNqyH"
   },
   "source": [
    "."
   ]
  },
  {
   "cell_type": "markdown",
   "metadata": {
    "colab_type": "text",
    "id": "MxavZdq_NqyJ"
   },
   "source": [
    "."
   ]
  },
  {
   "cell_type": "markdown",
   "metadata": {
    "colab_type": "text",
    "id": "nwJa4U_5NqyK"
   },
   "source": [
    "."
   ]
  },
  {
   "cell_type": "markdown",
   "metadata": {
    "colab_type": "text",
    "id": "PNtpO-KFNqyL"
   },
   "source": [
    "### Calculating the distance using Eculidian Distance Formula"
   ]
  },
  {
   "cell_type": "markdown",
   "metadata": {
    "colab_type": "text",
    "id": "Snj0FNTSNqyM"
   },
   "source": [
    "<img src=\"https://raw.githubusercontent.com/insaid2018/Term-3/master/Images/4.jpg\" />"
   ]
  },
  {
   "cell_type": "markdown",
   "metadata": {
    "colab_type": "text",
    "id": "pRTJyGWqNqyN"
   },
   "source": [
    "<img src=\"https://raw.githubusercontent.com/insaid2018/Term-3/master/Images/5.PNG\" />"
   ]
  },
  {
   "cell_type": "markdown",
   "metadata": {
    "colab_type": "text",
    "id": "8E6mrZYeNqyP"
   },
   "source": [
    "."
   ]
  },
  {
   "cell_type": "markdown",
   "metadata": {
    "colab_type": "text",
    "id": "TFx0ZR0fNqyQ"
   },
   "source": [
    "."
   ]
  },
  {
   "cell_type": "markdown",
   "metadata": {
    "colab_type": "text",
    "id": "ii_8D3yxNqyR"
   },
   "source": [
    "."
   ]
  },
  {
   "cell_type": "markdown",
   "metadata": {
    "colab_type": "text",
    "id": "LabEMYxhNqyR"
   },
   "source": [
    "."
   ]
  },
  {
   "cell_type": "markdown",
   "metadata": {
    "colab_type": "text",
    "id": "SHCckNKLNqyS"
   },
   "source": [
    "."
   ]
  },
  {
   "cell_type": "markdown",
   "metadata": {
    "colab_type": "text",
    "id": "6dG-jOLFNqyS"
   },
   "source": [
    "<img src=\"https://raw.githubusercontent.com/insaid2018/Term-3/master/Images/6.PNG\" />"
   ]
  },
  {
   "cell_type": "markdown",
   "metadata": {
    "colab_type": "text",
    "id": "8HNaqhAtNqyT"
   },
   "source": [
    "<a id=section106></a>\n",
    "### 1.3.1 Explanation using real life scenario\n",
    "\n",
    "In chess, the distance between squares on the chessboard for \n",
    "- __Rooks__ is measured in __Manhattan distance__\n",
    "- __Kings and queens__ use __Chebyshev distance__\n",
    "- __Bishops__ use the __Manhattan distance__ (between squares of the same color) on the chessboard __rotated 45 degrees__, i.e., with its diagonals as coordinate axes. \n",
    "- On an empty board,\n",
    "- To reach from one square to another, __only kings require the number of moves equal to the distance__\n",
    "- Rooks, queens and bishops require one or two moves (assuming that the move is possible at all in the bishop’s case).<img src=\"https://raw.githubusercontent.com/insaid2018/Term-3/master/Images/download%20(7).png\" />"
   ]
  },
  {
   "cell_type": "markdown",
   "metadata": {
    "colab_type": "text",
    "id": "mup3debbNqyU"
   },
   "source": [
    "<a id=section107></a>"
   ]
  },
  {
   "cell_type": "markdown",
   "metadata": {
    "colab_type": "text",
    "id": "1tgDTwQFNqyU"
   },
   "source": [
    "## 1.4 How do we choose the factor K?"
   ]
  },
  {
   "cell_type": "markdown",
   "metadata": {
    "colab_type": "text",
    "id": "tobz6Lb7NqyV"
   },
   "source": [
    "__KNN__ classifies a data point based on __how its neighbors are classified__.\n",
    "<img src=\"https://raw.githubusercontent.com/insaid2018/Term-3/master/Images/download%20(8).png\" />\n",
    "The class of _unknown data point was different at __k=3__ but __changed at k=7__, so which k should we choose?_\n",
    "\n",
    "KNN Algorithm is based on __feature similarity__: Choosing the right value of k is a process called __parameter tuning__, and is important for __better accuracy__.\n",
    "\n",
    "Although, the __best way__ to choose the __value of K__ are:"
   ]
  },
  {
   "cell_type": "markdown",
   "metadata": {
    "colab_type": "text",
    "id": "1-vjpa7bNqyW"
   },
   "source": [
    "<img src=\"https://raw.githubusercontent.com/insaid2018/Term-3/master/Images/download%20(9).png\" />"
   ]
  },
  {
   "cell_type": "markdown",
   "metadata": {
    "colab_type": "text",
    "id": "7t4LeLq1NqyW"
   },
   "source": [
    "<a id=section108></a>"
   ]
  },
  {
   "cell_type": "markdown",
   "metadata": {
    "colab_type": "text",
    "id": "kcUEfn71NqyX"
   },
   "source": [
    "## 1.5 Curse of Dimensionality\n",
    "KNN works well with a small number of input variables (p), but __struggles__ when the _number of inputs is very large_.\n",
    "\n",
    "Each _input variable can be considered a dimension of a p-dimensional input space_. For example, if you had two input variables x1 and x2, the input space would be 2-dimensional.\n",
    "\n",
    "As the _number of dimensions increases the volume of the input space increases at an __exponential rate__._\n",
    "\n",
    "In high dimensions, points that may be similar may have very large distances. \n",
    "- All points will be far away from each other and our intuition for distances in simple 2 and 3-dimensional spaces breaks down. \n",
    "- This might feel unintuitive at first, but this general problem is called the __“Curse of Dimensionality“__.\n",
    "<img src=\"https://raw.githubusercontent.com/insaid2018/Term-3/master/Images/download%20(10).png\" />"
   ]
  },
  {
   "cell_type": "markdown",
   "metadata": {
    "colab_type": "text",
    "id": "zXbVIHWlNqyX"
   },
   "source": [
    "<a id=section109></a>"
   ]
  },
  {
   "cell_type": "markdown",
   "metadata": {
    "colab_type": "text",
    "id": "EKD56sG7NqyY"
   },
   "source": [
    "## 1.6 KNN Disciplines\n",
    "As KNN have been around for a long time and has been very well studied.<br>\n",
    "Different disciplines have different names for it.\n",
    "- __Instance-Based Learning__: The raw training instances are used to make predictions. As such KNN is often referred to as instance-based learning or a case-based learning (where __each training instance is a case from the problem domain__).\n",
    "- __Lazy Learning__: _No learning of the model is required_ and all of the __work happens__ at the time a __prediction is requested__. As such, KNN is often referred to as a __lazy learning algorithm__.\n",
    "- __Non-Parametric__: KNN makes _no assumptions about the __functional form of the problem__ being solved_. As such KNN is referred to as a __non-parametric__ machine learning algorithm."
   ]
  },
  {
   "cell_type": "markdown",
   "metadata": {
    "colab_type": "text",
    "id": "GLxJBFqpNqyY"
   },
   "source": [
    "#### What is Non-Parametric machine Learning Algorithm?\n",
    "- Algorithms that do not make strong assumptions about the form of the mapping function are called nonparametric machine learning algorithms. \n",
    "- By not making assumptions, they are free to learn any functional form from the training data. \n",
    "> _Nonparametric methods are good when you have a lot of data and no prior knowledge, and when you don’t want to worry too much about choosing just the right features._\n",
    "\n",
    "##### Benefits:\n",
    "1. __Flexibility__: Capable of fitting a large number of functional forms.\n",
    "2. __Power__: No assumptions (or weak assumptions) about the underlying function.\n",
    "3. __Performance__: Can result in higher performance models for prediction.\n",
    "\n",
    "##### Limitations:\n",
    "1. __More data__: Require a lot more training data to estimate the mapping function.\n",
    "2. __Slower__: A lot slower to train as they often have far more parameters to train.\n",
    "3. __Overfitting__: More of a risk to overfit the training data and it is harder to explain why specific predictions are made."
   ]
  },
  {
   "cell_type": "markdown",
   "metadata": {
    "colab_type": "text",
    "id": "3K98mtRBNqyZ"
   },
   "source": [
    "<a id=section110></a>"
   ]
  },
  {
   "cell_type": "markdown",
   "metadata": {
    "colab_type": "text",
    "id": "n_WtRex-NqyZ"
   },
   "source": [
    "## 1.7 Breaking it Down – Pseudo Code of KNN"
   ]
  },
  {
   "cell_type": "markdown",
   "metadata": {
    "colab_type": "text",
    "id": "6A4DjRpPNqyb"
   },
   "source": [
    "We can implement a KNN model by following the below steps:\n",
    "\n",
    "1. Load the data\n",
    "2. Initialise the value of k\n",
    "3. For getting the predicted class, iterate from 1 to total number of training data points\n",
    "4. Calculate the distance between each test data and each row of training data. Here we will use Euclidean distance as our   distance metric since it’s the most popular method. The other metrics that can be used are Chebyshev, cosine, etc.\n",
    "5. Sort the calculated distances in ascending order based on distance values\n",
    "6. Get top k rows from the sorted array\n",
    "7. Get the most frequent class for classification/mean or median for regression of these rows\n",
    "8. Return the predicted class\n",
    "9. plot error vs k plot to know whats the k value.\n"
   ]
  },
  {
   "cell_type": "markdown",
   "metadata": {
    "colab_type": "text",
    "id": "wxMHAiscNqyc"
   },
   "source": [
    "<a id=section2></a>"
   ]
  },
  {
   "cell_type": "markdown",
   "metadata": {
    "colab_type": "text",
    "id": "ql_H6EvZNqyc"
   },
   "source": [
    "## 2. Use Case - Glass Classification"
   ]
  },
  {
   "cell_type": "markdown",
   "metadata": {
    "_cell_guid": "c0e44c5a-3345-4ef0-bc4a-82dcf797b267",
    "_execution_state": "idle",
    "_uuid": "0cf186678b6923221b797012b5ca1e43407a615b",
    "colab_type": "text",
    "id": "S28p9tR7Nqyd"
   },
   "source": [
    "Data set  has 9 properties, the first one is optical property, the rest 8 is chemical oxide contents of glass, so property 1 and property 2-9 has different dimension.<br>\n",
    "unit measurement for contents: weight percent in corresponding oxide, as are attributes\n",
    "glass class has 7 types, but type 4 is not in this data set.<br>\n",
    "\n",
    "----------\n",
    "The study of classification of types of glass was motivated by __criminological investigation__. At the scene of the crime, the glass left can be used as __evidence__...if it is correctly identified!\n",
    "\n",
    "---\n",
    "\n",
    "Names:<br>\n",
    "1. building_windows_float_processed \n",
    "2. building_windows_non_float_processed\n",
    "3. vehicle_windows_float_processed\n",
    "4. vehicle_windows_non_float_processed (none in this database)\n",
    "5. containers\n",
    "6. tableware\n",
    "7. headlamps\n",
    "\n",
    "\n",
    "----------\n",
    "__Main ingredient of glass: SiO2, other contents are also oxides, such as: Na2O, CaO,K2O__"
   ]
  },
  {
   "cell_type": "markdown",
   "metadata": {
    "colab_type": "text",
    "id": "8sdx2-zcNqyd"
   },
   "source": [
    "<a id=section3></a>"
   ]
  },
  {
   "cell_type": "markdown",
   "metadata": {
    "_cell_guid": "1e0c0e56-801a-41f4-bc64-5773b4c430dc",
    "_execution_state": "idle",
    "_uuid": "64d7f66aa782dbb725001292d45475c3630adaad",
    "colab_type": "text",
    "id": "kHmI4oVfNqye"
   },
   "source": [
    "## 3. Dataset (Source, loading and description)\n",
    "https://archive.ics.uci.edu/ml/datasets/Glass+Identification <br>\n",
    "no missing values as per source descreption"
   ]
  },
  {
   "cell_type": "markdown",
   "metadata": {
    "_cell_guid": "33941ce9-cd60-48a8-b486-c3d80055c492",
    "_execution_state": "idle",
    "_uuid": "506d316953f3e1d3fa3d18dd4d12c4728bc02384",
    "colab_type": "text",
    "id": "WnIPRMq-Nqye"
   },
   "source": [
    "### Import packages"
   ]
  },
  {
   "cell_type": "code",
   "execution_count": 58,
   "metadata": {
    "_cell_guid": "beba55c8-0278-493e-8159-64db1aba3a86",
    "_execution_state": "idle",
    "_uuid": "93aa1aca0526313a35f6b4c3b953d8008db6d0f3",
    "colab": {},
    "colab_type": "code",
    "id": "dAl5Bo-yNqye"
   },
   "outputs": [],
   "source": [
    "import numpy as np # linear algebra\n",
    "import pandas as pd # data processing, CSV file I/O (e.g. pd.read_csv)\n",
    "import matplotlib as mpl\n",
    "import matplotlib.pyplot as plt\n",
    "import seaborn as sns\n",
    "%matplotlib inline"
   ]
  },
  {
   "cell_type": "markdown",
   "metadata": {
    "colab_type": "text",
    "id": "joKXQG1FNqyi"
   },
   "source": [
    "### Import the dataset"
   ]
  },
  {
   "cell_type": "code",
   "execution_count": 59,
   "metadata": {
    "colab": {
     "base_uri": "https://localhost:8080/",
     "height": 204
    },
    "colab_type": "code",
    "executionInfo": {
     "elapsed": 1005,
     "status": "ok",
     "timestamp": 1562382015964,
     "user": {
      "displayName": "Lavi Nigam",
      "photoUrl": "https://lh6.googleusercontent.com/-VVDbL0W4k54/AAAAAAAAAAI/AAAAAAAAClE/dqqBdY5uP8E/s64/photo.jpg",
      "userId": "01031927567449846531"
     },
     "user_tz": -330
    },
    "id": "kqdk63BpNqyj",
    "outputId": "068c50b1-8b93-44b7-c410-26f8fca820a9"
   },
   "outputs": [
    {
     "data": {
      "text/html": [
       "<div>\n",
       "<style scoped>\n",
       "    .dataframe tbody tr th:only-of-type {\n",
       "        vertical-align: middle;\n",
       "    }\n",
       "\n",
       "    .dataframe tbody tr th {\n",
       "        vertical-align: top;\n",
       "    }\n",
       "\n",
       "    .dataframe thead th {\n",
       "        text-align: right;\n",
       "    }\n",
       "</style>\n",
       "<table border=\"1\" class=\"dataframe\">\n",
       "  <thead>\n",
       "    <tr style=\"text-align: right;\">\n",
       "      <th></th>\n",
       "      <th>RI</th>\n",
       "      <th>Na</th>\n",
       "      <th>Mg</th>\n",
       "      <th>Al</th>\n",
       "      <th>Si</th>\n",
       "      <th>K</th>\n",
       "      <th>Ca</th>\n",
       "      <th>Ba</th>\n",
       "      <th>Fe</th>\n",
       "      <th>Type</th>\n",
       "    </tr>\n",
       "  </thead>\n",
       "  <tbody>\n",
       "    <tr>\n",
       "      <th>0</th>\n",
       "      <td>1.52101</td>\n",
       "      <td>13.64</td>\n",
       "      <td>4.49</td>\n",
       "      <td>1.10</td>\n",
       "      <td>71.78</td>\n",
       "      <td>0.06</td>\n",
       "      <td>8.75</td>\n",
       "      <td>0.0</td>\n",
       "      <td>0.0</td>\n",
       "      <td>1</td>\n",
       "    </tr>\n",
       "    <tr>\n",
       "      <th>1</th>\n",
       "      <td>1.51761</td>\n",
       "      <td>13.89</td>\n",
       "      <td>3.60</td>\n",
       "      <td>1.36</td>\n",
       "      <td>72.73</td>\n",
       "      <td>0.48</td>\n",
       "      <td>7.83</td>\n",
       "      <td>0.0</td>\n",
       "      <td>0.0</td>\n",
       "      <td>1</td>\n",
       "    </tr>\n",
       "    <tr>\n",
       "      <th>2</th>\n",
       "      <td>1.51618</td>\n",
       "      <td>13.53</td>\n",
       "      <td>3.55</td>\n",
       "      <td>1.54</td>\n",
       "      <td>72.99</td>\n",
       "      <td>0.39</td>\n",
       "      <td>7.78</td>\n",
       "      <td>0.0</td>\n",
       "      <td>0.0</td>\n",
       "      <td>1</td>\n",
       "    </tr>\n",
       "    <tr>\n",
       "      <th>3</th>\n",
       "      <td>1.51766</td>\n",
       "      <td>13.21</td>\n",
       "      <td>3.69</td>\n",
       "      <td>1.29</td>\n",
       "      <td>72.61</td>\n",
       "      <td>0.57</td>\n",
       "      <td>8.22</td>\n",
       "      <td>0.0</td>\n",
       "      <td>0.0</td>\n",
       "      <td>1</td>\n",
       "    </tr>\n",
       "    <tr>\n",
       "      <th>4</th>\n",
       "      <td>1.51742</td>\n",
       "      <td>13.27</td>\n",
       "      <td>3.62</td>\n",
       "      <td>1.24</td>\n",
       "      <td>73.08</td>\n",
       "      <td>0.55</td>\n",
       "      <td>8.07</td>\n",
       "      <td>0.0</td>\n",
       "      <td>0.0</td>\n",
       "      <td>1</td>\n",
       "    </tr>\n",
       "  </tbody>\n",
       "</table>\n",
       "</div>"
      ],
      "text/plain": [
       "        RI     Na    Mg    Al     Si     K    Ca   Ba   Fe  Type\n",
       "0  1.52101  13.64  4.49  1.10  71.78  0.06  8.75  0.0  0.0     1\n",
       "1  1.51761  13.89  3.60  1.36  72.73  0.48  7.83  0.0  0.0     1\n",
       "2  1.51618  13.53  3.55  1.54  72.99  0.39  7.78  0.0  0.0     1\n",
       "3  1.51766  13.21  3.69  1.29  72.61  0.57  8.22  0.0  0.0     1\n",
       "4  1.51742  13.27  3.62  1.24  73.08  0.55  8.07  0.0  0.0     1"
      ]
     },
     "execution_count": 59,
     "metadata": {},
     "output_type": "execute_result"
    }
   ],
   "source": [
    "glass = pd.read_csv(\"https://raw.githubusercontent.com/insaid2018/Term-3/master/Data/CaseStudy/glass.csv\")\n",
    "glass.head()"
   ]
  },
  {
   "cell_type": "code",
   "execution_count": 61,
   "metadata": {
    "colab": {
     "base_uri": "https://localhost:8080/",
     "height": 34
    },
    "colab_type": "code",
    "executionInfo": {
     "elapsed": 983,
     "status": "ok",
     "timestamp": 1562382725386,
     "user": {
      "displayName": "Lavi Nigam",
      "photoUrl": "https://lh6.googleusercontent.com/-VVDbL0W4k54/AAAAAAAAAAI/AAAAAAAAClE/dqqBdY5uP8E/s64/photo.jpg",
      "userId": "01031927567449846531"
     },
     "user_tz": -330
    },
    "id": "IUMzkqCVP-FB",
    "outputId": "f60902cd-49fa-4aac-8349-dafcd8ad8b06"
   },
   "outputs": [
    {
     "data": {
      "text/plain": [
       "array([1, 2, 3, 5, 6, 7], dtype=int64)"
      ]
     },
     "execution_count": 61,
     "metadata": {},
     "output_type": "execute_result"
    }
   ],
   "source": [
    "glass['Type'].unique()"
   ]
  },
  {
   "cell_type": "markdown",
   "metadata": {
    "colab_type": "text",
    "id": "01z3x9mLNqyp"
   },
   "source": [
    "### Check the shape of dataset"
   ]
  },
  {
   "cell_type": "code",
   "execution_count": 62,
   "metadata": {
    "_cell_guid": "37fadcaf-3989-4650-8bb4-71cb8286535b",
    "_execution_state": "idle",
    "_uuid": "599ee69f9664d9747aad6713364a3cba502c9ca2",
    "colab": {
     "base_uri": "https://localhost:8080/",
     "height": 34
    },
    "colab_type": "code",
    "executionInfo": {
     "elapsed": 1026,
     "status": "ok",
     "timestamp": 1562382026261,
     "user": {
      "displayName": "Lavi Nigam",
      "photoUrl": "https://lh6.googleusercontent.com/-VVDbL0W4k54/AAAAAAAAAAI/AAAAAAAAClE/dqqBdY5uP8E/s64/photo.jpg",
      "userId": "01031927567449846531"
     },
     "user_tz": -330
    },
    "id": "9KnZOtLKNqyp",
    "outputId": "8c63b08b-d818-4003-ffc8-f594fdd3c15c"
   },
   "outputs": [
    {
     "data": {
      "text/plain": [
       "(214, 10)"
      ]
     },
     "execution_count": 62,
     "metadata": {},
     "output_type": "execute_result"
    }
   ],
   "source": [
    "glass.shape"
   ]
  },
  {
   "cell_type": "markdown",
   "metadata": {
    "colab_type": "text",
    "id": "doxozQasNqyt"
   },
   "source": [
    "### Check the columns present in the dataset"
   ]
  },
  {
   "cell_type": "code",
   "execution_count": 63,
   "metadata": {
    "colab": {
     "base_uri": "https://localhost:8080/",
     "height": 34
    },
    "colab_type": "code",
    "executionInfo": {
     "elapsed": 979,
     "status": "ok",
     "timestamp": 1562382029397,
     "user": {
      "displayName": "Lavi Nigam",
      "photoUrl": "https://lh6.googleusercontent.com/-VVDbL0W4k54/AAAAAAAAAAI/AAAAAAAAClE/dqqBdY5uP8E/s64/photo.jpg",
      "userId": "01031927567449846531"
     },
     "user_tz": -330
    },
    "id": "MCk9-srZNqyu",
    "outputId": "88f7c396-de21-449c-a01b-8241275e91ea"
   },
   "outputs": [
    {
     "data": {
      "text/plain": [
       "Index(['RI', 'Na', 'Mg', 'Al', 'Si', 'K', 'Ca', 'Ba', 'Fe', 'Type'], dtype='object')"
      ]
     },
     "execution_count": 63,
     "metadata": {},
     "output_type": "execute_result"
    }
   ],
   "source": [
    "glass.columns"
   ]
  },
  {
   "cell_type": "markdown",
   "metadata": {
    "colab_type": "text",
    "id": "_7aYfrSXNqyx"
   },
   "source": [
    "### Check the descriptive statistics of the dataset"
   ]
  },
  {
   "cell_type": "code",
   "execution_count": 64,
   "metadata": {
    "_cell_guid": "628f3e6d-092a-4dac-8e8e-14985432b279",
    "_execution_state": "idle",
    "_uuid": "b50353d4b73e9e0d17c4db1696c43785ff4ab3ed",
    "colab": {
     "base_uri": "https://localhost:8080/",
     "height": 297
    },
    "colab_type": "code",
    "executionInfo": {
     "elapsed": 1288,
     "status": "ok",
     "timestamp": 1562382062357,
     "user": {
      "displayName": "Lavi Nigam",
      "photoUrl": "https://lh6.googleusercontent.com/-VVDbL0W4k54/AAAAAAAAAAI/AAAAAAAAClE/dqqBdY5uP8E/s64/photo.jpg",
      "userId": "01031927567449846531"
     },
     "user_tz": -330
    },
    "id": "48pMt_mGNqyx",
    "outputId": "72257c1d-3b68-490b-9a24-962339fed7a3"
   },
   "outputs": [
    {
     "data": {
      "text/html": [
       "<div>\n",
       "<style scoped>\n",
       "    .dataframe tbody tr th:only-of-type {\n",
       "        vertical-align: middle;\n",
       "    }\n",
       "\n",
       "    .dataframe tbody tr th {\n",
       "        vertical-align: top;\n",
       "    }\n",
       "\n",
       "    .dataframe thead th {\n",
       "        text-align: right;\n",
       "    }\n",
       "</style>\n",
       "<table border=\"1\" class=\"dataframe\">\n",
       "  <thead>\n",
       "    <tr style=\"text-align: right;\">\n",
       "      <th></th>\n",
       "      <th>RI</th>\n",
       "      <th>Na</th>\n",
       "      <th>Mg</th>\n",
       "      <th>Al</th>\n",
       "      <th>Si</th>\n",
       "      <th>K</th>\n",
       "      <th>Ca</th>\n",
       "      <th>Ba</th>\n",
       "      <th>Fe</th>\n",
       "      <th>Type</th>\n",
       "    </tr>\n",
       "  </thead>\n",
       "  <tbody>\n",
       "    <tr>\n",
       "      <th>count</th>\n",
       "      <td>214.000000</td>\n",
       "      <td>214.000000</td>\n",
       "      <td>214.000000</td>\n",
       "      <td>214.000000</td>\n",
       "      <td>214.000000</td>\n",
       "      <td>214.000000</td>\n",
       "      <td>214.000000</td>\n",
       "      <td>214.000000</td>\n",
       "      <td>214.000000</td>\n",
       "      <td>214.000000</td>\n",
       "    </tr>\n",
       "    <tr>\n",
       "      <th>mean</th>\n",
       "      <td>1.518365</td>\n",
       "      <td>13.407850</td>\n",
       "      <td>2.684533</td>\n",
       "      <td>1.444907</td>\n",
       "      <td>72.650935</td>\n",
       "      <td>0.497056</td>\n",
       "      <td>8.956963</td>\n",
       "      <td>0.175047</td>\n",
       "      <td>0.057009</td>\n",
       "      <td>2.780374</td>\n",
       "    </tr>\n",
       "    <tr>\n",
       "      <th>std</th>\n",
       "      <td>0.003037</td>\n",
       "      <td>0.816604</td>\n",
       "      <td>1.442408</td>\n",
       "      <td>0.499270</td>\n",
       "      <td>0.774546</td>\n",
       "      <td>0.652192</td>\n",
       "      <td>1.423153</td>\n",
       "      <td>0.497219</td>\n",
       "      <td>0.097439</td>\n",
       "      <td>2.103739</td>\n",
       "    </tr>\n",
       "    <tr>\n",
       "      <th>min</th>\n",
       "      <td>1.511150</td>\n",
       "      <td>10.730000</td>\n",
       "      <td>0.000000</td>\n",
       "      <td>0.290000</td>\n",
       "      <td>69.810000</td>\n",
       "      <td>0.000000</td>\n",
       "      <td>5.430000</td>\n",
       "      <td>0.000000</td>\n",
       "      <td>0.000000</td>\n",
       "      <td>1.000000</td>\n",
       "    </tr>\n",
       "    <tr>\n",
       "      <th>25%</th>\n",
       "      <td>1.516523</td>\n",
       "      <td>12.907500</td>\n",
       "      <td>2.115000</td>\n",
       "      <td>1.190000</td>\n",
       "      <td>72.280000</td>\n",
       "      <td>0.122500</td>\n",
       "      <td>8.240000</td>\n",
       "      <td>0.000000</td>\n",
       "      <td>0.000000</td>\n",
       "      <td>1.000000</td>\n",
       "    </tr>\n",
       "    <tr>\n",
       "      <th>50%</th>\n",
       "      <td>1.517680</td>\n",
       "      <td>13.300000</td>\n",
       "      <td>3.480000</td>\n",
       "      <td>1.360000</td>\n",
       "      <td>72.790000</td>\n",
       "      <td>0.555000</td>\n",
       "      <td>8.600000</td>\n",
       "      <td>0.000000</td>\n",
       "      <td>0.000000</td>\n",
       "      <td>2.000000</td>\n",
       "    </tr>\n",
       "    <tr>\n",
       "      <th>75%</th>\n",
       "      <td>1.519157</td>\n",
       "      <td>13.825000</td>\n",
       "      <td>3.600000</td>\n",
       "      <td>1.630000</td>\n",
       "      <td>73.087500</td>\n",
       "      <td>0.610000</td>\n",
       "      <td>9.172500</td>\n",
       "      <td>0.000000</td>\n",
       "      <td>0.100000</td>\n",
       "      <td>3.000000</td>\n",
       "    </tr>\n",
       "    <tr>\n",
       "      <th>max</th>\n",
       "      <td>1.533930</td>\n",
       "      <td>17.380000</td>\n",
       "      <td>4.490000</td>\n",
       "      <td>3.500000</td>\n",
       "      <td>75.410000</td>\n",
       "      <td>6.210000</td>\n",
       "      <td>16.190000</td>\n",
       "      <td>3.150000</td>\n",
       "      <td>0.510000</td>\n",
       "      <td>7.000000</td>\n",
       "    </tr>\n",
       "  </tbody>\n",
       "</table>\n",
       "</div>"
      ],
      "text/plain": [
       "               RI          Na          Mg          Al          Si           K  \\\n",
       "count  214.000000  214.000000  214.000000  214.000000  214.000000  214.000000   \n",
       "mean     1.518365   13.407850    2.684533    1.444907   72.650935    0.497056   \n",
       "std      0.003037    0.816604    1.442408    0.499270    0.774546    0.652192   \n",
       "min      1.511150   10.730000    0.000000    0.290000   69.810000    0.000000   \n",
       "25%      1.516523   12.907500    2.115000    1.190000   72.280000    0.122500   \n",
       "50%      1.517680   13.300000    3.480000    1.360000   72.790000    0.555000   \n",
       "75%      1.519157   13.825000    3.600000    1.630000   73.087500    0.610000   \n",
       "max      1.533930   17.380000    4.490000    3.500000   75.410000    6.210000   \n",
       "\n",
       "               Ca          Ba          Fe        Type  \n",
       "count  214.000000  214.000000  214.000000  214.000000  \n",
       "mean     8.956963    0.175047    0.057009    2.780374  \n",
       "std      1.423153    0.497219    0.097439    2.103739  \n",
       "min      5.430000    0.000000    0.000000    1.000000  \n",
       "25%      8.240000    0.000000    0.000000    1.000000  \n",
       "50%      8.600000    0.000000    0.000000    2.000000  \n",
       "75%      9.172500    0.000000    0.100000    3.000000  \n",
       "max     16.190000    3.150000    0.510000    7.000000  "
      ]
     },
     "execution_count": 64,
     "metadata": {},
     "output_type": "execute_result"
    }
   ],
   "source": [
    "glass.describe()"
   ]
  },
  {
   "cell_type": "markdown",
   "metadata": {
    "colab_type": "text",
    "id": "vJSseShkOztv"
   },
   "source": [
    "BA --> less than 75Ptile is 0   --->    If BA is used, you can right away classify that particular type?\n",
    "Outlier:\n",
    "    -- K \n",
    "    -- CA\n",
    "    -- BA\n",
    "    \n",
    " \n",
    " \n",
    " Product type -->1, 2, 3, 5, 7uses BA ; So, next time if you get new DATA and when BA is used; Only find closeness with this -> 1, 2, 3, 5, 7\n",
    " ==0; 1, 2, 3, 5, 6, 7     ---> We can't do this "
   ]
  },
  {
   "cell_type": "markdown",
   "metadata": {
    "colab_type": "text",
    "id": "YI9aoG3GNqy1"
   },
   "source": [
    "### Check the info of the dataset"
   ]
  },
  {
   "cell_type": "code",
   "execution_count": 65,
   "metadata": {
    "colab": {
     "base_uri": "https://localhost:8080/",
     "height": 272
    },
    "colab_type": "code",
    "executionInfo": {
     "elapsed": 1262,
     "status": "ok",
     "timestamp": 1562382782870,
     "user": {
      "displayName": "Lavi Nigam",
      "photoUrl": "https://lh6.googleusercontent.com/-VVDbL0W4k54/AAAAAAAAAAI/AAAAAAAAClE/dqqBdY5uP8E/s64/photo.jpg",
      "userId": "01031927567449846531"
     },
     "user_tz": -330
    },
    "id": "LlHWuBiuNqy1",
    "outputId": "d0495388-1973-4692-937b-8bff464d38ca"
   },
   "outputs": [
    {
     "name": "stdout",
     "output_type": "stream",
     "text": [
      "<class 'pandas.core.frame.DataFrame'>\n",
      "RangeIndex: 214 entries, 0 to 213\n",
      "Data columns (total 10 columns):\n",
      "RI      214 non-null float64\n",
      "Na      214 non-null float64\n",
      "Mg      214 non-null float64\n",
      "Al      214 non-null float64\n",
      "Si      214 non-null float64\n",
      "K       214 non-null float64\n",
      "Ca      214 non-null float64\n",
      "Ba      214 non-null float64\n",
      "Fe      214 non-null float64\n",
      "Type    214 non-null int64\n",
      "dtypes: float64(9), int64(1)\n",
      "memory usage: 16.8 KB\n"
     ]
    }
   ],
   "source": [
    "glass.info()"
   ]
  },
  {
   "cell_type": "markdown",
   "metadata": {
    "colab_type": "text",
    "id": "bXFgfouKNqy4"
   },
   "source": [
    "<a id=section4></a>"
   ]
  },
  {
   "cell_type": "markdown",
   "metadata": {
    "colab_type": "text",
    "id": "Jk-Y76-RNqy4"
   },
   "source": [
    "## 4. Data Visualization"
   ]
  },
  {
   "cell_type": "markdown",
   "metadata": {
    "colab_type": "text",
    "id": "zyrNueC8Nqy5"
   },
   "source": [
    "### Count the no of observations on the basis of type and then create a barplot."
   ]
  },
  {
   "cell_type": "code",
   "execution_count": 66,
   "metadata": {
    "_cell_guid": "b99ffe81-4553-40cc-8788-f7319cefb187",
    "_execution_state": "idle",
    "_uuid": "3a7216297739896fed666b61ab5453d70a4e0405",
    "colab": {
     "base_uri": "https://localhost:8080/",
     "height": 153
    },
    "colab_type": "code",
    "executionInfo": {
     "elapsed": 995,
     "status": "ok",
     "timestamp": 1561868873255,
     "user": {
      "displayName": "Lavi Nigam",
      "photoUrl": "https://lh6.googleusercontent.com/-VVDbL0W4k54/AAAAAAAAAAI/AAAAAAAAClE/dqqBdY5uP8E/s64/photo.jpg",
      "userId": "01031927567449846531"
     },
     "user_tz": -330
    },
    "id": "TxG9ucTsNqy5",
    "outputId": "a6063b92-c4d9-487b-d939-be3f84452e2c"
   },
   "outputs": [
    {
     "data": {
      "text/plain": [
       "Type\n",
       "1    70\n",
       "2    76\n",
       "3    17\n",
       "5    13\n",
       "6     9\n",
       "7    29\n",
       "Name: Type, dtype: int64"
      ]
     },
     "execution_count": 66,
     "metadata": {},
     "output_type": "execute_result"
    }
   ],
   "source": [
    "type=glass['Type'].groupby(glass['Type']).count()\n",
    "type"
   ]
  },
  {
   "cell_type": "code",
   "execution_count": 67,
   "metadata": {
    "_cell_guid": "36b01ba3-4b78-4fe8-bdaf-f8f300f79912",
    "_execution_state": "idle",
    "_uuid": "f01bf37508ffb75dfe8f79a2b6001b8d90aa5682",
    "colab": {},
    "colab_type": "code",
    "id": "8M4eh-iLNqy8",
    "outputId": "7572649c-d445-4b99-d7a1-740b1a919666"
   },
   "outputs": [
    {
     "data": {
      "text/plain": [
       "<matplotlib.axes._subplots.AxesSubplot at 0x213165a2e48>"
      ]
     },
     "execution_count": 67,
     "metadata": {},
     "output_type": "execute_result"
    },
    {
     "data": {
      "image/png": "[encoded data removed]",
      "text/plain": [
       "<Figure size 432x288 with 1 Axes>"
      ]
     },
     "metadata": {
      "needs_background": "light"
     },
     "output_type": "display_data"
    }
   ],
   "source": [
    "type.plot('bar')"
   ]
  },
  {
   "cell_type": "code",
   "execution_count": 68,
   "metadata": {},
   "outputs": [
    {
     "data": {
      "text/plain": [
       "<matplotlib.axes._subplots.AxesSubplot at 0x21316d1cef0>"
      ]
     },
     "execution_count": 68,
     "metadata": {},
     "output_type": "execute_result"
    },
    {
     "data": {
      "image/png": "[encoded data removed]",
      "text/plain": [
       "<Figure size 432x288 with 1 Axes>"
      ]
     },
     "metadata": {
      "needs_background": "light"
     },
     "output_type": "display_data"
    }
   ],
   "source": [
    "glass['Type'].groupby(glass['Type']).count().plot('bar')"
   ]
  },
  {
   "cell_type": "markdown",
   "metadata": {
    "colab_type": "text",
    "id": "b8SQkwFxNqy-"
   },
   "source": [
    "### observation:\n",
    "Here, we can see glass data is skewed, class 1 and 2 in majority."
   ]
  },
  {
   "cell_type": "markdown",
   "metadata": {
    "_cell_guid": "cfaea7e7-d311-aa33-38ee-9ade6581a111",
    "_uuid": "242c5e2154da3c830e997eea650a949861a5b846",
    "colab_type": "text",
    "id": "IyZ0mV5dNqy_"
   },
   "source": [
    "### Creating a scatter plot by species."
   ]
  },
  {
   "cell_type": "code",
   "execution_count": 87,
   "metadata": {
    "_cell_guid": "0f1744dd-011b-79f3-fbc2-61c510adb382",
    "_uuid": "770a9115a8e7031a3f2d9e063aadf2c093ec661d",
    "colab": {},
    "colab_type": "code",
    "id": "AAwQxPCBNqy_",
    "outputId": "9aad9a40-9801-4169-eb52-415935201c37"
   },
   "outputs": [
    {
     "ename": "KeyError",
     "evalue": "'Type'",
     "output_type": "error",
     "traceback": [
      "\u001b[1;31m---------------------------------------------------------------------------\u001b[0m",
      "\u001b[1;31mKeyError\u001b[0m                                  Traceback (most recent call last)",
      "\u001b[1;32m~\\Anaconda3\\lib\\site-packages\\pandas\\core\\indexes\\base.py\u001b[0m in \u001b[0;36mget_loc\u001b[1;34m(self, key, method, tolerance)\u001b[0m\n\u001b[0;32m   2656\u001b[0m             \u001b[1;32mtry\u001b[0m\u001b[1;33m:\u001b[0m\u001b[1;33m\u001b[0m\u001b[1;33m\u001b[0m\u001b[0m\n\u001b[1;32m-> 2657\u001b[1;33m                 \u001b[1;32mreturn\u001b[0m \u001b[0mself\u001b[0m\u001b[1;33m.\u001b[0m\u001b[0m_engine\u001b[0m\u001b[1;33m.\u001b[0m\u001b[0mget_loc\u001b[0m\u001b[1;33m(\u001b[0m\u001b[0mkey\u001b[0m\u001b[1;33m)\u001b[0m\u001b[1;33m\u001b[0m\u001b[1;33m\u001b[0m\u001b[0m\n\u001b[0m\u001b[0;32m   2658\u001b[0m             \u001b[1;32mexcept\u001b[0m \u001b[0mKeyError\u001b[0m\u001b[1;33m:\u001b[0m\u001b[1;33m\u001b[0m\u001b[1;33m\u001b[0m\u001b[0m\n",
      "\u001b[1;32mpandas/_libs/index.pyx\u001b[0m in \u001b[0;36mpandas._libs.index.IndexEngine.get_loc\u001b[1;34m()\u001b[0m\n",
      "\u001b[1;32mpandas/_libs/index.pyx\u001b[0m in \u001b[0;36mpandas._libs.index.IndexEngine.get_loc\u001b[1;34m()\u001b[0m\n",
      "\u001b[1;32mpandas/_libs/hashtable_class_helper.pxi\u001b[0m in \u001b[0;36mpandas._libs.hashtable.PyObjectHashTable.get_item\u001b[1;34m()\u001b[0m\n",
      "\u001b[1;32mpandas/_libs/hashtable_class_helper.pxi\u001b[0m in \u001b[0;36mpandas._libs.hashtable.PyObjectHashTable.get_item\u001b[1;34m()\u001b[0m\n",
      "\u001b[1;31mKeyError\u001b[0m: 'Type'",
      "\nDuring handling of the above exception, another exception occurred:\n",
      "\u001b[1;31mKeyError\u001b[0m                                  Traceback (most recent call last)",
      "\u001b[1;32m<ipython-input-87-c6eebd6ed102>\u001b[0m in \u001b[0;36m<module>\u001b[1;34m\u001b[0m\n\u001b[1;32m----> 1\u001b[1;33m \u001b[0msns\u001b[0m\u001b[1;33m.\u001b[0m\u001b[0mFacetGrid\u001b[0m\u001b[1;33m(\u001b[0m\u001b[0mglass\u001b[0m\u001b[1;33m,\u001b[0m \u001b[0mhue\u001b[0m\u001b[1;33m=\u001b[0m\u001b[1;34m\"Type\"\u001b[0m\u001b[1;33m,\u001b[0m \u001b[0msize\u001b[0m\u001b[1;33m=\u001b[0m\u001b[1;36m5\u001b[0m\u001b[1;33m)\u001b[0m\u001b[0;31m \u001b[0m\u001b[0;31m\\\u001b[0m\u001b[1;33m\u001b[0m\u001b[1;33m\u001b[0m\u001b[0m\n\u001b[0m\u001b[0;32m      2\u001b[0m    \u001b[1;33m.\u001b[0m\u001b[0mmap\u001b[0m\u001b[1;33m(\u001b[0m\u001b[0mplt\u001b[0m\u001b[1;33m.\u001b[0m\u001b[0mscatter\u001b[0m\u001b[1;33m,\u001b[0m \u001b[1;34m\"RI\"\u001b[0m\u001b[1;33m,\u001b[0m \u001b[1;34m\"Na\"\u001b[0m\u001b[1;33m)\u001b[0m\u001b[0;31m \u001b[0m\u001b[0;31m\\\u001b[0m\u001b[1;33m\u001b[0m\u001b[1;33m\u001b[0m\u001b[0m\n\u001b[0;32m      3\u001b[0m    \u001b[1;33m.\u001b[0m\u001b[0madd_legend\u001b[0m\u001b[1;33m(\u001b[0m\u001b[1;33m)\u001b[0m\u001b[1;33m\u001b[0m\u001b[1;33m\u001b[0m\u001b[0m\n",
      "\u001b[1;32m~\\Anaconda3\\lib\\site-packages\\seaborn\\axisgrid.py\u001b[0m in \u001b[0;36m__init__\u001b[1;34m(self, data, row, col, hue, col_wrap, sharex, sharey, height, aspect, palette, row_order, col_order, hue_order, hue_kws, dropna, legend_out, despine, margin_titles, xlim, ylim, subplot_kws, gridspec_kws, size)\u001b[0m\n\u001b[0;32m    235\u001b[0m             \u001b[0mhue_names\u001b[0m \u001b[1;33m=\u001b[0m \u001b[1;32mNone\u001b[0m\u001b[1;33m\u001b[0m\u001b[1;33m\u001b[0m\u001b[0m\n\u001b[0;32m    236\u001b[0m         \u001b[1;32melse\u001b[0m\u001b[1;33m:\u001b[0m\u001b[1;33m\u001b[0m\u001b[1;33m\u001b[0m\u001b[0m\n\u001b[1;32m--> 237\u001b[1;33m             \u001b[0mhue_names\u001b[0m \u001b[1;33m=\u001b[0m \u001b[0mutils\u001b[0m\u001b[1;33m.\u001b[0m\u001b[0mcategorical_order\u001b[0m\u001b[1;33m(\u001b[0m\u001b[0mdata\u001b[0m\u001b[1;33m[\u001b[0m\u001b[0mhue\u001b[0m\u001b[1;33m]\u001b[0m\u001b[1;33m,\u001b[0m \u001b[0mhue_order\u001b[0m\u001b[1;33m)\u001b[0m\u001b[1;33m\u001b[0m\u001b[1;33m\u001b[0m\u001b[0m\n\u001b[0m\u001b[0;32m    238\u001b[0m \u001b[1;33m\u001b[0m\u001b[0m\n\u001b[0;32m    239\u001b[0m         \u001b[0mcolors\u001b[0m \u001b[1;33m=\u001b[0m \u001b[0mself\u001b[0m\u001b[1;33m.\u001b[0m\u001b[0m_get_palette\u001b[0m\u001b[1;33m(\u001b[0m\u001b[0mdata\u001b[0m\u001b[1;33m,\u001b[0m \u001b[0mhue\u001b[0m\u001b[1;33m,\u001b[0m \u001b[0mhue_order\u001b[0m\u001b[1;33m,\u001b[0m \u001b[0mpalette\u001b[0m\u001b[1;33m)\u001b[0m\u001b[1;33m\u001b[0m\u001b[1;33m\u001b[0m\u001b[0m\n",
      "\u001b[1;32m~\\Anaconda3\\lib\\site-packages\\pandas\\core\\frame.py\u001b[0m in \u001b[0;36m__getitem__\u001b[1;34m(self, key)\u001b[0m\n\u001b[0;32m   2925\u001b[0m             \u001b[1;32mif\u001b[0m \u001b[0mself\u001b[0m\u001b[1;33m.\u001b[0m\u001b[0mcolumns\u001b[0m\u001b[1;33m.\u001b[0m\u001b[0mnlevels\u001b[0m \u001b[1;33m>\u001b[0m \u001b[1;36m1\u001b[0m\u001b[1;33m:\u001b[0m\u001b[1;33m\u001b[0m\u001b[1;33m\u001b[0m\u001b[0m\n\u001b[0;32m   2926\u001b[0m                 \u001b[1;32mreturn\u001b[0m \u001b[0mself\u001b[0m\u001b[1;33m.\u001b[0m\u001b[0m_getitem_multilevel\u001b[0m\u001b[1;33m(\u001b[0m\u001b[0mkey\u001b[0m\u001b[1;33m)\u001b[0m\u001b[1;33m\u001b[0m\u001b[1;33m\u001b[0m\u001b[0m\n\u001b[1;32m-> 2927\u001b[1;33m             \u001b[0mindexer\u001b[0m \u001b[1;33m=\u001b[0m \u001b[0mself\u001b[0m\u001b[1;33m.\u001b[0m\u001b[0mcolumns\u001b[0m\u001b[1;33m.\u001b[0m\u001b[0mget_loc\u001b[0m\u001b[1;33m(\u001b[0m\u001b[0mkey\u001b[0m\u001b[1;33m)\u001b[0m\u001b[1;33m\u001b[0m\u001b[1;33m\u001b[0m\u001b[0m\n\u001b[0m\u001b[0;32m   2928\u001b[0m             \u001b[1;32mif\u001b[0m \u001b[0mis_integer\u001b[0m\u001b[1;33m(\u001b[0m\u001b[0mindexer\u001b[0m\u001b[1;33m)\u001b[0m\u001b[1;33m:\u001b[0m\u001b[1;33m\u001b[0m\u001b[1;33m\u001b[0m\u001b[0m\n\u001b[0;32m   2929\u001b[0m                 \u001b[0mindexer\u001b[0m \u001b[1;33m=\u001b[0m \u001b[1;33m[\u001b[0m\u001b[0mindexer\u001b[0m\u001b[1;33m]\u001b[0m\u001b[1;33m\u001b[0m\u001b[1;33m\u001b[0m\u001b[0m\n",
      "\u001b[1;32m~\\Anaconda3\\lib\\site-packages\\pandas\\core\\indexes\\base.py\u001b[0m in \u001b[0;36mget_loc\u001b[1;34m(self, key, method, tolerance)\u001b[0m\n\u001b[0;32m   2657\u001b[0m                 \u001b[1;32mreturn\u001b[0m \u001b[0mself\u001b[0m\u001b[1;33m.\u001b[0m\u001b[0m_engine\u001b[0m\u001b[1;33m.\u001b[0m\u001b[0mget_loc\u001b[0m\u001b[1;33m(\u001b[0m\u001b[0mkey\u001b[0m\u001b[1;33m)\u001b[0m\u001b[1;33m\u001b[0m\u001b[1;33m\u001b[0m\u001b[0m\n\u001b[0;32m   2658\u001b[0m             \u001b[1;32mexcept\u001b[0m \u001b[0mKeyError\u001b[0m\u001b[1;33m:\u001b[0m\u001b[1;33m\u001b[0m\u001b[1;33m\u001b[0m\u001b[0m\n\u001b[1;32m-> 2659\u001b[1;33m                 \u001b[1;32mreturn\u001b[0m \u001b[0mself\u001b[0m\u001b[1;33m.\u001b[0m\u001b[0m_engine\u001b[0m\u001b[1;33m.\u001b[0m\u001b[0mget_loc\u001b[0m\u001b[1;33m(\u001b[0m\u001b[0mself\u001b[0m\u001b[1;33m.\u001b[0m\u001b[0m_maybe_cast_indexer\u001b[0m\u001b[1;33m(\u001b[0m\u001b[0mkey\u001b[0m\u001b[1;33m)\u001b[0m\u001b[1;33m)\u001b[0m\u001b[1;33m\u001b[0m\u001b[1;33m\u001b[0m\u001b[0m\n\u001b[0m\u001b[0;32m   2660\u001b[0m         \u001b[0mindexer\u001b[0m \u001b[1;33m=\u001b[0m \u001b[0mself\u001b[0m\u001b[1;33m.\u001b[0m\u001b[0mget_indexer\u001b[0m\u001b[1;33m(\u001b[0m\u001b[1;33m[\u001b[0m\u001b[0mkey\u001b[0m\u001b[1;33m]\u001b[0m\u001b[1;33m,\u001b[0m \u001b[0mmethod\u001b[0m\u001b[1;33m=\u001b[0m\u001b[0mmethod\u001b[0m\u001b[1;33m,\u001b[0m \u001b[0mtolerance\u001b[0m\u001b[1;33m=\u001b[0m\u001b[0mtolerance\u001b[0m\u001b[1;33m)\u001b[0m\u001b[1;33m\u001b[0m\u001b[1;33m\u001b[0m\u001b[0m\n\u001b[0;32m   2661\u001b[0m         \u001b[1;32mif\u001b[0m \u001b[0mindexer\u001b[0m\u001b[1;33m.\u001b[0m\u001b[0mndim\u001b[0m \u001b[1;33m>\u001b[0m \u001b[1;36m1\u001b[0m \u001b[1;32mor\u001b[0m \u001b[0mindexer\u001b[0m\u001b[1;33m.\u001b[0m\u001b[0msize\u001b[0m \u001b[1;33m>\u001b[0m \u001b[1;36m1\u001b[0m\u001b[1;33m:\u001b[0m\u001b[1;33m\u001b[0m\u001b[1;33m\u001b[0m\u001b[0m\n",
      "\u001b[1;32mpandas/_libs/index.pyx\u001b[0m in \u001b[0;36mpandas._libs.index.IndexEngine.get_loc\u001b[1;34m()\u001b[0m\n",
      "\u001b[1;32mpandas/_libs/index.pyx\u001b[0m in \u001b[0;36mpandas._libs.index.IndexEngine.get_loc\u001b[1;34m()\u001b[0m\n",
      "\u001b[1;32mpandas/_libs/hashtable_class_helper.pxi\u001b[0m in \u001b[0;36mpandas._libs.hashtable.PyObjectHashTable.get_item\u001b[1;34m()\u001b[0m\n",
      "\u001b[1;32mpandas/_libs/hashtable_class_helper.pxi\u001b[0m in \u001b[0;36mpandas._libs.hashtable.PyObjectHashTable.get_item\u001b[1;34m()\u001b[0m\n",
      "\u001b[1;31mKeyError\u001b[0m: 'Type'"
     ]
    }
   ],
   "source": [
    "sns.FacetGrid(glass, hue=\"Type\", size=5) \\\n",
    "   .map(plt.scatter, \"RI\", \"Na\") \\\n",
    "   .add_legend()"
   ]
  },
  {
   "cell_type": "markdown",
   "metadata": {
    "colab_type": "text",
    "id": "n9HVxfRFNqzR"
   },
   "source": [
    "<a id=section5></a>"
   ]
  },
  {
   "cell_type": "markdown",
   "metadata": {
    "colab_type": "text",
    "id": "84WFkdMDNqzR"
   },
   "source": [
    "## 5. Data Standardization"
   ]
  },
  {
   "cell_type": "markdown",
   "metadata": {
    "colab_type": "text",
    "id": "WrNTDuXSNqzR"
   },
   "source": [
    "### Compute the skewness of the data"
   ]
  },
  {
   "cell_type": "code",
   "execution_count": 20,
   "metadata": {
    "_cell_guid": "341158fe-ec4c-df53-77fd-50b29bef6ea1",
    "_uuid": "740ab6ec36ab935f68fd2a838e6e666f6f148876",
    "colab": {
     "base_uri": "https://localhost:8080/",
     "height": 204
    },
    "colab_type": "code",
    "executionInfo": {
     "elapsed": 990,
     "status": "ok",
     "timestamp": 1562385067585,
     "user": {
      "displayName": "Lavi Nigam",
      "photoUrl": "https://lh6.googleusercontent.com/-VVDbL0W4k54/AAAAAAAAAAI/AAAAAAAAClE/dqqBdY5uP8E/s64/photo.jpg",
      "userId": "01031927567449846531"
     },
     "user_tz": -330
    },
    "id": "5HNt8X8dNqzS",
    "outputId": "39a78b5c-8a0d-4dd0-e8d0-4e49987d0d10"
   },
   "outputs": [
    {
     "data": {
      "text/plain": [
       "RI      1.625431\n",
       "Na      0.454181\n",
       "Mg     -1.152559\n",
       "Al      0.907290\n",
       "Si     -0.730447\n",
       "K       6.551648\n",
       "Ca      2.047054\n",
       "Ba      3.416425\n",
       "Fe      1.754327\n",
       "Type    1.114915\n",
       "dtype: float64"
      ]
     },
     "execution_count": 20,
     "metadata": {},
     "output_type": "execute_result"
    }
   ],
   "source": [
    "# upon stand - data distribution should not change\n",
    "\n",
    "glass.skew()"
   ]
  },
  {
   "cell_type": "markdown",
   "metadata": {
    "colab_type": "text",
    "id": "h6XLQH6BNqzV"
   },
   "source": [
    "### Using StandardScaler to standardize the data"
   ]
  },
  {
   "cell_type": "code",
   "execution_count": 72,
   "metadata": {
    "_cell_guid": "4ab589b3-9b62-e169-2e3f-95dd85670419",
    "_uuid": "1e3c43a43089b6cd80cf7f72a3325ad85506a3d4",
    "colab": {
     "base_uri": "https://localhost:8080/",
     "height": 187
    },
    "colab_type": "code",
    "executionInfo": {
     "elapsed": 961,
     "status": "ok",
     "timestamp": 1562385087677,
     "user": {
      "displayName": "Lavi Nigam",
      "photoUrl": "https://lh6.googleusercontent.com/-VVDbL0W4k54/AAAAAAAAAAI/AAAAAAAAClE/dqqBdY5uP8E/s64/photo.jpg",
      "userId": "01031927567449846531"
     },
     "user_tz": -330
    },
    "id": "Hsc6N9-oNqzW",
    "outputId": "027a53ea-2e70-4630-a42b-ddbab1aa4115"
   },
   "outputs": [
    {
     "name": "stdout",
     "output_type": "stream",
     "text": [
      "After standardizing our features, the first 5 rows of our data now look like this:\n",
      "\n",
      "         RI        Na        Mg        Al        Si         K        Ca  \\\n",
      "0  0.872868  0.284953  1.254639 -0.692442 -1.127082 -0.671705 -0.145766   \n",
      "1 -0.249333  0.591817  0.636168 -0.170460  0.102319 -0.026213 -0.793734   \n",
      "2 -0.721318  0.149933  0.601422  0.190912  0.438787 -0.164533 -0.828949   \n",
      "3 -0.232831 -0.242853  0.698710 -0.310994 -0.052974  0.112107 -0.519052   \n",
      "4 -0.312045 -0.169205  0.650066 -0.411375  0.555256  0.081369 -0.624699   \n",
      "\n",
      "         Ba        Fe  \n",
      "0 -0.352877 -0.586451  \n",
      "1 -0.352877 -0.586451  \n",
      "2 -0.352877 -0.586451  \n",
      "3 -0.352877 -0.586451  \n",
      "4 -0.352877 -0.586451  \n"
     ]
    }
   ],
   "source": [
    "from sklearn.preprocessing import StandardScaler\n",
    "sc = StandardScaler()\n",
    "\n",
    "label = glass.pop('Type')\n",
    "\n",
    "sc.fit(glass)                                                                                   # fit the data to Standardscaler\n",
    "\n",
    "glass_scale = sc.transform(glass)                                                               # transform the data\n",
    "\n",
    "print('After standardizing our features, the first 5 rows of our data now look like this:\\n')   # print the first 5 value after standardization\n",
    "print(pd.DataFrame(glass_scale, columns=glass.columns).head())                                  # Put it to dataframe                              \n",
    "\n",
    "\n",
    "#what is satandrd scaler? -- mean = 0 and SD = 1"
   ]
  },
  {
   "cell_type": "markdown",
   "metadata": {
    "colab_type": "text",
    "id": "86dgEihbNqzY"
   },
   "source": [
    "### Compute skewness after StandardScaler"
   ]
  },
  {
   "cell_type": "code",
   "execution_count": 22,
   "metadata": {
    "_cell_guid": "599063c0-9fae-1889-e31b-4595bdf4e2bb",
    "_uuid": "0c2c8ad21cea338500826f7a67a83c2b738c49cf",
    "colab": {
     "base_uri": "https://localhost:8080/",
     "height": 187
    },
    "colab_type": "code",
    "executionInfo": {
     "elapsed": 976,
     "status": "ok",
     "timestamp": 1562385098059,
     "user": {
      "displayName": "Lavi Nigam",
      "photoUrl": "https://lh6.googleusercontent.com/-VVDbL0W4k54/AAAAAAAAAAI/AAAAAAAAClE/dqqBdY5uP8E/s64/photo.jpg",
      "userId": "01031927567449846531"
     },
     "user_tz": -330
    },
    "id": "5RskoQ9-NqzY",
    "outputId": "2c20503c-679a-4686-93d3-6bda52e821d1"
   },
   "outputs": [
    {
     "data": {
      "text/plain": [
       "0    1.625431\n",
       "1    0.454181\n",
       "2   -1.152559\n",
       "3    0.907290\n",
       "4   -0.730447\n",
       "5    6.551648\n",
       "6    2.047054\n",
       "7    3.416425\n",
       "8    1.754327\n",
       "dtype: float64"
      ]
     },
     "execution_count": 22,
     "metadata": {},
     "output_type": "execute_result"
    }
   ],
   "source": [
    "pd.DataFrame(glass_scale).skew()"
   ]
  },
  {
   "cell_type": "markdown",
   "metadata": {
    "colab_type": "text",
    "id": "oteT731aafns"
   },
   "source": [
    "# Try different scaling/standardized methods "
   ]
  },
  {
   "cell_type": "markdown",
   "metadata": {
    "colab_type": "text",
    "id": "YPeDgARYNqzd"
   },
   "source": [
    "<a id=section6></a>"
   ]
  },
  {
   "cell_type": "markdown",
   "metadata": {
    "colab_type": "text",
    "id": "PyuYOufvNqze"
   },
   "source": [
    "## 6. Train-Test split"
   ]
  },
  {
   "cell_type": "code",
   "execution_count": 73,
   "metadata": {
    "_cell_guid": "b2e6a1da-1e5a-c2f0-8a2f-2c82f2ed7327",
    "_uuid": "c53a90d61adaab48c5401b159ee8affb752176f0",
    "colab": {},
    "colab_type": "code",
    "id": "4AM6pSZ9Nqzg"
   },
   "outputs": [],
   "source": [
    "from sklearn.model_selection import train_test_split\n",
    "data_train, data_test, label_train, label_test = train_test_split(glass_scale, label, test_size = 0.3, random_state = 42)"
   ]
  },
  {
   "cell_type": "markdown",
   "metadata": {
    "colab_type": "text",
    "id": "CDm7Gkp3Nqzi"
   },
   "source": [
    "### Check the shape of data_train and data_test"
   ]
  },
  {
   "cell_type": "code",
   "execution_count": 75,
   "metadata": {
    "colab": {
     "base_uri": "https://localhost:8080/",
     "height": 51
    },
    "colab_type": "code",
    "executionInfo": {
     "elapsed": 986,
     "status": "ok",
     "timestamp": 1562385313395,
     "user": {
      "displayName": "Lavi Nigam",
      "photoUrl": "https://lh6.googleusercontent.com/-VVDbL0W4k54/AAAAAAAAAAI/AAAAAAAAClE/dqqBdY5uP8E/s64/photo.jpg",
      "userId": "01031927567449846531"
     },
     "user_tz": -330
    },
    "id": "ZGA65-zmNqzj",
    "outputId": "4985bdb7-f546-4681-d550-19eb4cbad06d"
   },
   "outputs": [
    {
     "name": "stdout",
     "output_type": "stream",
     "text": [
      "There are 149 samples in the training set and 65 samples in the test set\n",
      "\n"
     ]
    }
   ],
   "source": [
    "print('There are {} samples in the training set and {} samples in the test set'.format(\n",
    "data_train.shape[0], data_test.shape[0]))\n",
    "print()"
   ]
  },
  {
   "cell_type": "markdown",
   "metadata": {
    "colab_type": "text",
    "id": "SdHKXWlTNqzl"
   },
   "source": [
    "<a id=section7></a>"
   ]
  },
  {
   "cell_type": "markdown",
   "metadata": {
    "colab_type": "text",
    "id": "v3jMFRA9Nqzm"
   },
   "source": [
    "## 7. Modelling and prediction"
   ]
  },
  {
   "cell_type": "markdown",
   "metadata": {
    "_cell_guid": "11370d3e-5e5d-83fe-5837-29bef88ce81c",
    "_uuid": "a73e8c27818fb32a7f5243251fe1508e1784555c",
    "colab_type": "text",
    "id": "_nYrrmLDNqzn"
   },
   "source": [
    "### 7.1.(a) Instantiate K nearest neighbour Classifier"
   ]
  },
  {
   "cell_type": "code",
   "execution_count": 77,
   "metadata": {
    "_cell_guid": "a0b49be7-cd7e-672d-3f9f-baa92d1b70fb",
    "_uuid": "3deb23d3c2026a72257b61a1005c449445b04253",
    "colab": {},
    "colab_type": "code",
    "id": "fj91WpjDNqzo"
   },
   "outputs": [],
   "source": [
    "from sklearn.neighbors import KNeighborsClassifier\n",
    "knn = KNeighborsClassifier(n_neighbors=3, p=2, metric='minkowski',n_jobs=-1) # Euclidean  # 3, 7, 13, 20 "
   ]
  },
  {
   "cell_type": "markdown",
   "metadata": {
    "colab_type": "text",
    "id": "HlLz2oLCNqzp"
   },
   "source": [
    "### 7.1.(b) Fit the model"
   ]
  },
  {
   "cell_type": "code",
   "execution_count": 79,
   "metadata": {
    "colab": {
     "base_uri": "https://localhost:8080/",
     "height": 68
    },
    "colab_type": "code",
    "executionInfo": {
     "elapsed": 685,
     "status": "ok",
     "timestamp": 1562385958916,
     "user": {
      "displayName": "Lavi Nigam",
      "photoUrl": "https://lh6.googleusercontent.com/-VVDbL0W4k54/AAAAAAAAAAI/AAAAAAAAClE/dqqBdY5uP8E/s64/photo.jpg",
      "userId": "01031927567449846531"
     },
     "user_tz": -330
    },
    "id": "0m6Nr1jDNqzq",
    "outputId": "4896e309-9744-42c3-bce9-bc8a87c1abbd"
   },
   "outputs": [
    {
     "data": {
      "text/plain": [
       "KNeighborsClassifier(algorithm='auto', leaf_size=30, metric='minkowski',\n",
       "                     metric_params=None, n_jobs=-1, n_neighbors=3, p=2,\n",
       "                     weights='uniform')"
      ]
     },
     "execution_count": 79,
     "metadata": {},
     "output_type": "execute_result"
    }
   ],
   "source": [
    "knn.fit(data_train, label_train)"
   ]
  },
  {
   "cell_type": "markdown",
   "metadata": {
    "colab_type": "text",
    "id": "CSVYeNtQNqzr"
   },
   "source": [
    "### 7.1.(c) Use the model for prediction"
   ]
  },
  {
   "cell_type": "code",
   "execution_count": 80,
   "metadata": {
    "colab": {},
    "colab_type": "code",
    "id": "cRE6vgNANqzs"
   },
   "outputs": [],
   "source": [
    "y_preds = knn.predict(data_test)"
   ]
  },
  {
   "cell_type": "markdown",
   "metadata": {
    "colab_type": "text",
    "id": "2ryxKI5bNqzt"
   },
   "source": [
    "### 7.1.(d) Model evaluation using accuracy score"
   ]
  },
  {
   "cell_type": "code",
   "execution_count": 81,
   "metadata": {
    "colab": {
     "base_uri": "https://localhost:8080/",
     "height": 34
    },
    "colab_type": "code",
    "executionInfo": {
     "elapsed": 973,
     "status": "ok",
     "timestamp": 1562385961838,
     "user": {
      "displayName": "Lavi Nigam",
      "photoUrl": "https://lh6.googleusercontent.com/-VVDbL0W4k54/AAAAAAAAAAI/AAAAAAAAClE/dqqBdY5uP8E/s64/photo.jpg",
      "userId": "01031927567449846531"
     },
     "user_tz": -330
    },
    "id": "svwUdIA3Nqzu",
    "outputId": "340275d8-2093-4380-83af-5eb1baacbe4c"
   },
   "outputs": [
    {
     "name": "stdout",
     "output_type": "stream",
     "text": [
      "Accuracy score for the KNN model: 0.6615384615384615\n"
     ]
    }
   ],
   "source": [
    "from sklearn.metrics import accuracy_score\n",
    "knn_accuracy = accuracy_score(label_test,y_preds)\n",
    "print('Accuracy score for the KNN model:', knn_accuracy)\n",
    "\n",
    "#classification problem - right/total"
   ]
  },
  {
   "cell_type": "markdown",
   "metadata": {
    "colab_type": "text",
    "id": "YX3gzOs7Nqzx"
   },
   "source": [
    "### 7.2.(a) Instantiate Logistic Regression"
   ]
  },
  {
   "cell_type": "code",
   "execution_count": 82,
   "metadata": {
    "_cell_guid": "e70ad3b4-5189-fe1a-22d3-90ee5a4f774d",
    "_uuid": "81baaf8bdac0ca92efc7e886369c5077252b3485",
    "colab": {},
    "colab_type": "code",
    "id": "OUyM3FYJNqzz"
   },
   "outputs": [],
   "source": [
    "from sklearn.linear_model import LogisticRegression\n",
    "logis = LogisticRegression()"
   ]
  },
  {
   "cell_type": "markdown",
   "metadata": {
    "colab_type": "text",
    "id": "b3Yku9jgNqz1"
   },
   "source": [
    "### 7.2.(b) Fit the model"
   ]
  },
  {
   "cell_type": "code",
   "execution_count": 83,
   "metadata": {
    "colab": {
     "base_uri": "https://localhost:8080/",
     "height": 190
    },
    "colab_type": "code",
    "executionInfo": {
     "elapsed": 1008,
     "status": "ok",
     "timestamp": 1562385985892,
     "user": {
      "displayName": "Lavi Nigam",
      "photoUrl": "https://lh6.googleusercontent.com/-VVDbL0W4k54/AAAAAAAAAAI/AAAAAAAAClE/dqqBdY5uP8E/s64/photo.jpg",
      "userId": "01031927567449846531"
     },
     "user_tz": -330
    },
    "id": "DmgpwkTTNqz1",
    "outputId": "ea321ad8-ded7-49b2-a56a-eb2c921ce5a5"
   },
   "outputs": [
    {
     "name": "stderr",
     "output_type": "stream",
     "text": [
      "C:\\Users\\deepe\\Anaconda3\\lib\\site-packages\\sklearn\\linear_model\\logistic.py:432: FutureWarning: Default solver will be changed to 'lbfgs' in 0.22. Specify a solver to silence this warning.\n",
      "  FutureWarning)\n",
      "C:\\Users\\deepe\\Anaconda3\\lib\\site-packages\\sklearn\\linear_model\\logistic.py:469: FutureWarning: Default multi_class will be changed to 'auto' in 0.22. Specify the multi_class option to silence this warning.\n",
      "  \"this warning.\", FutureWarning)\n"
     ]
    },
    {
     "data": {
      "text/plain": [
       "LogisticRegression(C=1.0, class_weight=None, dual=False, fit_intercept=True,\n",
       "                   intercept_scaling=1, l1_ratio=None, max_iter=100,\n",
       "                   multi_class='warn', n_jobs=None, penalty='l2',\n",
       "                   random_state=None, solver='warn', tol=0.0001, verbose=0,\n",
       "                   warm_start=False)"
      ]
     },
     "execution_count": 83,
     "metadata": {},
     "output_type": "execute_result"
    }
   ],
   "source": [
    "logis.fit(data_train, label_train)"
   ]
  },
  {
   "cell_type": "markdown",
   "metadata": {
    "colab_type": "text",
    "id": "uMeXS4MCNqz4"
   },
   "source": [
    "### 7.2.(c) Use the model for prediction"
   ]
  },
  {
   "cell_type": "code",
   "execution_count": 84,
   "metadata": {
    "colab": {},
    "colab_type": "code",
    "id": "mMIe9pVKNqz4"
   },
   "outputs": [],
   "source": [
    "y_pred = logis.predict(data_test)"
   ]
  },
  {
   "cell_type": "markdown",
   "metadata": {
    "colab_type": "text",
    "id": "4itsk_Y3Nqz5"
   },
   "source": [
    "### 7.2.(d) Model Evaluation using Accuracy score"
   ]
  },
  {
   "cell_type": "code",
   "execution_count": 85,
   "metadata": {
    "colab": {
     "base_uri": "https://localhost:8080/",
     "height": 34
    },
    "colab_type": "code",
    "executionInfo": {
     "elapsed": 1021,
     "status": "ok",
     "timestamp": 1562385995235,
     "user": {
      "displayName": "Lavi Nigam",
      "photoUrl": "https://lh6.googleusercontent.com/-VVDbL0W4k54/AAAAAAAAAAI/AAAAAAAAClE/dqqBdY5uP8E/s64/photo.jpg",
      "userId": "01031927567449846531"
     },
     "user_tz": -330
    },
    "id": "og1wYxYPNqz6",
    "outputId": "13870806-7efe-4b5d-cacb-668606b9b7c1"
   },
   "outputs": [
    {
     "name": "stdout",
     "output_type": "stream",
     "text": [
      "Accuracy score for the Logistic model: 0.6307692307692307\n"
     ]
    }
   ],
   "source": [
    "from sklearn.metrics import accuracy_score\n",
    "logit_accuracy = accuracy_score(label_test,y_pred)\n",
    "print('Accuracy score for the Logistic model:', logit_accuracy)\n",
    "\n",
    "# with seemingly non seprable data - KNN is a good algo to start with. KNN usually works well."
   ]
  },
  {
   "cell_type": "markdown",
   "metadata": {
    "colab_type": "text",
    "id": "T5r3NtJINqz8"
   },
   "source": [
    "<a id=section8></a>"
   ]
  },
  {
   "cell_type": "markdown",
   "metadata": {
    "colab_type": "text",
    "id": "zXLK-eccNqz9"
   },
   "source": [
    "## 8. Model comparison using accuracy score"
   ]
  },
  {
   "cell_type": "code",
   "execution_count": 33,
   "metadata": {
    "colab": {
     "base_uri": "https://localhost:8080/",
     "height": 111
    },
    "colab_type": "code",
    "executionInfo": {
     "elapsed": 960,
     "status": "ok",
     "timestamp": 1562386005089,
     "user": {
      "displayName": "Lavi Nigam",
      "photoUrl": "https://lh6.googleusercontent.com/-VVDbL0W4k54/AAAAAAAAAAI/AAAAAAAAClE/dqqBdY5uP8E/s64/photo.jpg",
      "userId": "01031927567449846531"
     },
     "user_tz": -330
    },
    "id": "7tS9GXrBNqz9",
    "outputId": "c4804ec6-8025-4c5c-9338-b96abddedf0d"
   },
   "outputs": [
    {
     "data": {
      "text/html": [
       "<div>\n",
       "<style scoped>\n",
       "    .dataframe tbody tr th:only-of-type {\n",
       "        vertical-align: middle;\n",
       "    }\n",
       "\n",
       "    .dataframe tbody tr th {\n",
       "        vertical-align: top;\n",
       "    }\n",
       "\n",
       "    .dataframe thead th {\n",
       "        text-align: right;\n",
       "    }\n",
       "</style>\n",
       "<table border=\"1\" class=\"dataframe\">\n",
       "  <thead>\n",
       "    <tr style=\"text-align: right;\">\n",
       "      <th></th>\n",
       "      <th>Model</th>\n",
       "      <th>Accuracy_score</th>\n",
       "    </tr>\n",
       "  </thead>\n",
       "  <tbody>\n",
       "    <tr>\n",
       "      <th>1</th>\n",
       "      <td>kNN</td>\n",
       "      <td>0.661538</td>\n",
       "    </tr>\n",
       "    <tr>\n",
       "      <th>0</th>\n",
       "      <td>Logistic Regression</td>\n",
       "      <td>0.630769</td>\n",
       "    </tr>\n",
       "  </tbody>\n",
       "</table>\n",
       "</div>"
      ],
      "text/plain": [
       "                 Model  Accuracy_score\n",
       "1                  kNN        0.661538\n",
       "0  Logistic Regression        0.630769"
      ]
     },
     "execution_count": 33,
     "metadata": {},
     "output_type": "execute_result"
    }
   ],
   "source": [
    "models = pd.DataFrame({\n",
    "        'Model'          : ['Logistic Regression', 'kNN'],\n",
    "        'Accuracy_score' : [logit_accuracy, knn_accuracy]\n",
    "    })\n",
    "models.sort_values(by='Accuracy_score', ascending=False)"
   ]
  },
  {
   "cell_type": "markdown",
   "metadata": {
    "colab_type": "text",
    "id": "OSt1K-O6Nqz_"
   },
   "source": [
    "<a id=section9></a>"
   ]
  },
  {
   "cell_type": "markdown",
   "metadata": {
    "colab_type": "text",
    "id": "uqNdr7mqNqz_"
   },
   "source": [
    "## 9. Implementing KNN regressor using iris dataset"
   ]
  },
  {
   "cell_type": "code",
   "execution_count": 88,
   "metadata": {
    "_uuid": "f7004ee385b0ed50a5c5a238ce1e943dbd88a7a1",
    "colab": {},
    "colab_type": "code",
    "id": "o7Qq_CFbNqz_"
   },
   "outputs": [],
   "source": [
    "# Importing the iris\n",
    "iris = pd.read_csv('https://raw.githubusercontent.com/insaid2018/Term-3/master/Data/CaseStudy/Iris.csv')"
   ]
  },
  {
   "cell_type": "markdown",
   "metadata": {
    "_uuid": "d6d0db37957228f9ad34ae5719f0d32639c2dfae",
    "colab_type": "text",
    "id": "uQmzsBbxNq0B"
   },
   "source": [
    "### 9.1 Summarize the iris"
   ]
  },
  {
   "cell_type": "code",
   "execution_count": 89,
   "metadata": {
    "_uuid": "155ac54ae57dc8e9eb92a85d75bfc32a0d16e279",
    "colab": {
     "base_uri": "https://localhost:8080/",
     "height": 34
    },
    "colab_type": "code",
    "executionInfo": {
     "elapsed": 1003,
     "status": "ok",
     "timestamp": 1562386151609,
     "user": {
      "displayName": "Lavi Nigam",
      "photoUrl": "https://lh6.googleusercontent.com/-VVDbL0W4k54/AAAAAAAAAAI/AAAAAAAAClE/dqqBdY5uP8E/s64/photo.jpg",
      "userId": "01031927567449846531"
     },
     "user_tz": -330
    },
    "id": "_VanHgCUNq0B",
    "outputId": "5865eb59-cb37-4a6b-f535-5552fbeb1d54"
   },
   "outputs": [
    {
     "data": {
      "text/plain": [
       "(150, 6)"
      ]
     },
     "execution_count": 89,
     "metadata": {},
     "output_type": "execute_result"
    }
   ],
   "source": [
    "# We can get a quick idea of how many instances (rows) and how many attributes (columns) the data contains with the shape property.\n",
    "iris.shape"
   ]
  },
  {
   "cell_type": "code",
   "execution_count": 90,
   "metadata": {
    "_uuid": "69f70bb38e56e65e10e2701887f60dbea06e13cd",
    "colab": {
     "base_uri": "https://localhost:8080/",
     "height": 204
    },
    "colab_type": "code",
    "executionInfo": {
     "elapsed": 1271,
     "status": "ok",
     "timestamp": 1562386152981,
     "user": {
      "displayName": "Lavi Nigam",
      "photoUrl": "https://lh6.googleusercontent.com/-VVDbL0W4k54/AAAAAAAAAAI/AAAAAAAAClE/dqqBdY5uP8E/s64/photo.jpg",
      "userId": "01031927567449846531"
     },
     "user_tz": -330
    },
    "id": "cQsr3ePtNq0D",
    "outputId": "a2b24a2f-10c6-4116-f619-e63a569da54e"
   },
   "outputs": [
    {
     "data": {
      "text/html": [
       "<div>\n",
       "<style scoped>\n",
       "    .dataframe tbody tr th:only-of-type {\n",
       "        vertical-align: middle;\n",
       "    }\n",
       "\n",
       "    .dataframe tbody tr th {\n",
       "        vertical-align: top;\n",
       "    }\n",
       "\n",
       "    .dataframe thead th {\n",
       "        text-align: right;\n",
       "    }\n",
       "</style>\n",
       "<table border=\"1\" class=\"dataframe\">\n",
       "  <thead>\n",
       "    <tr style=\"text-align: right;\">\n",
       "      <th></th>\n",
       "      <th>Id</th>\n",
       "      <th>SepalLengthCm</th>\n",
       "      <th>SepalWidthCm</th>\n",
       "      <th>PetalLengthCm</th>\n",
       "      <th>PetalWidthCm</th>\n",
       "      <th>Species</th>\n",
       "    </tr>\n",
       "  </thead>\n",
       "  <tbody>\n",
       "    <tr>\n",
       "      <th>0</th>\n",
       "      <td>1</td>\n",
       "      <td>5.1</td>\n",
       "      <td>3.5</td>\n",
       "      <td>1.4</td>\n",
       "      <td>0.2</td>\n",
       "      <td>Iris-setosa</td>\n",
       "    </tr>\n",
       "    <tr>\n",
       "      <th>1</th>\n",
       "      <td>2</td>\n",
       "      <td>4.9</td>\n",
       "      <td>3.0</td>\n",
       "      <td>1.4</td>\n",
       "      <td>0.2</td>\n",
       "      <td>Iris-setosa</td>\n",
       "    </tr>\n",
       "    <tr>\n",
       "      <th>2</th>\n",
       "      <td>3</td>\n",
       "      <td>4.7</td>\n",
       "      <td>3.2</td>\n",
       "      <td>1.3</td>\n",
       "      <td>0.2</td>\n",
       "      <td>Iris-setosa</td>\n",
       "    </tr>\n",
       "    <tr>\n",
       "      <th>3</th>\n",
       "      <td>4</td>\n",
       "      <td>4.6</td>\n",
       "      <td>3.1</td>\n",
       "      <td>1.5</td>\n",
       "      <td>0.2</td>\n",
       "      <td>Iris-setosa</td>\n",
       "    </tr>\n",
       "    <tr>\n",
       "      <th>4</th>\n",
       "      <td>5</td>\n",
       "      <td>5.0</td>\n",
       "      <td>3.6</td>\n",
       "      <td>1.4</td>\n",
       "      <td>0.2</td>\n",
       "      <td>Iris-setosa</td>\n",
       "    </tr>\n",
       "  </tbody>\n",
       "</table>\n",
       "</div>"
      ],
      "text/plain": [
       "   Id  SepalLengthCm  SepalWidthCm  PetalLengthCm  PetalWidthCm      Species\n",
       "0   1            5.1           3.5            1.4           0.2  Iris-setosa\n",
       "1   2            4.9           3.0            1.4           0.2  Iris-setosa\n",
       "2   3            4.7           3.2            1.3           0.2  Iris-setosa\n",
       "3   4            4.6           3.1            1.5           0.2  Iris-setosa\n",
       "4   5            5.0           3.6            1.4           0.2  Iris-setosa"
      ]
     },
     "execution_count": 90,
     "metadata": {},
     "output_type": "execute_result"
    }
   ],
   "source": [
    "iris.head(5)"
   ]
  },
  {
   "cell_type": "code",
   "execution_count": 91,
   "metadata": {
    "_uuid": "0fcbdae769cfd453325a28affc07c0292ab277cf",
    "colab": {},
    "colab_type": "code",
    "id": "Lc3kAFJeNq0F",
    "outputId": "c9ac45b8-f156-4fe8-af84-e74eaee218cb"
   },
   "outputs": [
    {
     "data": {
      "text/html": [
       "<div>\n",
       "<style scoped>\n",
       "    .dataframe tbody tr th:only-of-type {\n",
       "        vertical-align: middle;\n",
       "    }\n",
       "\n",
       "    .dataframe tbody tr th {\n",
       "        vertical-align: top;\n",
       "    }\n",
       "\n",
       "    .dataframe thead th {\n",
       "        text-align: right;\n",
       "    }\n",
       "</style>\n",
       "<table border=\"1\" class=\"dataframe\">\n",
       "  <thead>\n",
       "    <tr style=\"text-align: right;\">\n",
       "      <th></th>\n",
       "      <th>Id</th>\n",
       "      <th>SepalLengthCm</th>\n",
       "      <th>SepalWidthCm</th>\n",
       "      <th>PetalLengthCm</th>\n",
       "      <th>PetalWidthCm</th>\n",
       "    </tr>\n",
       "  </thead>\n",
       "  <tbody>\n",
       "    <tr>\n",
       "      <th>count</th>\n",
       "      <td>150.000000</td>\n",
       "      <td>150.000000</td>\n",
       "      <td>150.000000</td>\n",
       "      <td>150.000000</td>\n",
       "      <td>150.000000</td>\n",
       "    </tr>\n",
       "    <tr>\n",
       "      <th>mean</th>\n",
       "      <td>75.500000</td>\n",
       "      <td>5.843333</td>\n",
       "      <td>3.054000</td>\n",
       "      <td>3.758667</td>\n",
       "      <td>1.198667</td>\n",
       "    </tr>\n",
       "    <tr>\n",
       "      <th>std</th>\n",
       "      <td>43.445368</td>\n",
       "      <td>0.828066</td>\n",
       "      <td>0.433594</td>\n",
       "      <td>1.764420</td>\n",
       "      <td>0.763161</td>\n",
       "    </tr>\n",
       "    <tr>\n",
       "      <th>min</th>\n",
       "      <td>1.000000</td>\n",
       "      <td>4.300000</td>\n",
       "      <td>2.000000</td>\n",
       "      <td>1.000000</td>\n",
       "      <td>0.100000</td>\n",
       "    </tr>\n",
       "    <tr>\n",
       "      <th>25%</th>\n",
       "      <td>38.250000</td>\n",
       "      <td>5.100000</td>\n",
       "      <td>2.800000</td>\n",
       "      <td>1.600000</td>\n",
       "      <td>0.300000</td>\n",
       "    </tr>\n",
       "    <tr>\n",
       "      <th>50%</th>\n",
       "      <td>75.500000</td>\n",
       "      <td>5.800000</td>\n",
       "      <td>3.000000</td>\n",
       "      <td>4.350000</td>\n",
       "      <td>1.300000</td>\n",
       "    </tr>\n",
       "    <tr>\n",
       "      <th>75%</th>\n",
       "      <td>112.750000</td>\n",
       "      <td>6.400000</td>\n",
       "      <td>3.300000</td>\n",
       "      <td>5.100000</td>\n",
       "      <td>1.800000</td>\n",
       "    </tr>\n",
       "    <tr>\n",
       "      <th>max</th>\n",
       "      <td>150.000000</td>\n",
       "      <td>7.900000</td>\n",
       "      <td>4.400000</td>\n",
       "      <td>6.900000</td>\n",
       "      <td>2.500000</td>\n",
       "    </tr>\n",
       "  </tbody>\n",
       "</table>\n",
       "</div>"
      ],
      "text/plain": [
       "               Id  SepalLengthCm  SepalWidthCm  PetalLengthCm  PetalWidthCm\n",
       "count  150.000000     150.000000    150.000000     150.000000    150.000000\n",
       "mean    75.500000       5.843333      3.054000       3.758667      1.198667\n",
       "std     43.445368       0.828066      0.433594       1.764420      0.763161\n",
       "min      1.000000       4.300000      2.000000       1.000000      0.100000\n",
       "25%     38.250000       5.100000      2.800000       1.600000      0.300000\n",
       "50%     75.500000       5.800000      3.000000       4.350000      1.300000\n",
       "75%    112.750000       6.400000      3.300000       5.100000      1.800000\n",
       "max    150.000000       7.900000      4.400000       6.900000      2.500000"
      ]
     },
     "execution_count": 91,
     "metadata": {},
     "output_type": "execute_result"
    }
   ],
   "source": [
    "iris.describe()"
   ]
  },
  {
   "cell_type": "code",
   "execution_count": 94,
   "metadata": {
    "_uuid": "aec4e9a244b230b77c413ac8031a7fdefebe2f16",
    "colab": {},
    "colab_type": "code",
    "id": "DFVzZWgGNq0G",
    "outputId": "9bb36e19-ab19-40a6-c4df-7a203ac6d0aa"
   },
   "outputs": [
    {
     "data": {
      "text/plain": [
       "Species\n",
       "Iris-setosa        50\n",
       "Iris-versicolor    50\n",
       "Iris-virginica     50\n",
       "dtype: int64"
      ]
     },
     "execution_count": 94,
     "metadata": {},
     "output_type": "execute_result"
    }
   ],
   "source": [
    "# Let’s now take a look at the number of instances (rows) that belong to each class. We can view this as an absolute count.\n",
    "iris.groupby('Species').size()"
   ]
  },
  {
   "cell_type": "markdown",
   "metadata": {
    "_uuid": "533fca59931ad92a78b2f69c9fe4bcaff0e762e3",
    "colab_type": "text",
    "id": "YvHlm0reNq0I"
   },
   "source": [
    "### 9.2 Dividing data into features and labels"
   ]
  },
  {
   "cell_type": "markdown",
   "metadata": {
    "_uuid": "55bc81596034b6c004424ae7d74110c501388ca7",
    "colab_type": "text",
    "id": "_TcmYhFWNq0J"
   },
   "source": [
    "NOTE: As we can see iris contain six columns: Id, SepalLengthCm, SepalWidthCm, PetalLengthCm, PetalWidthCm and Species. The actual features are described by columns 1-4. Last column contains labels of samples. Firstly we need to split data into two arrays: X (features) and y (labels)."
   ]
  },
  {
   "cell_type": "code",
   "execution_count": 97,
   "metadata": {
    "_uuid": "7bae05b7ba2910b37b12032a3eb55e1e2b97ab56",
    "colab": {},
    "colab_type": "code",
    "id": "--zKALnFNq0J"
   },
   "outputs": [],
   "source": [
    "feature_columns = ['SepalWidthCm', 'PetalLengthCm','PetalWidthCm']\n",
    "X = iris[feature_columns].values\n",
    "y = iris['SepalLengthCm'].values\n",
    "\n",
    "# Alternative way of selecting features and labels arrays:\n",
    "# X = iris.iloc[:, 1:5].values\n",
    "# y = iris.iloc[:, 5].values"
   ]
  },
  {
   "cell_type": "markdown",
   "metadata": {
    "_uuid": "3fa0e68a0f5cc6f0e6bb44dbbb52ec7c7d6d24d3",
    "colab_type": "text",
    "id": "Hf6d7N9PNq0K"
   },
   "source": [
    "### 9.3 Label encoding"
   ]
  },
  {
   "cell_type": "markdown",
   "metadata": {
    "_uuid": "a1665ed8f94c0688d3f6642800ca633ec3b44fd3",
    "colab_type": "text",
    "id": "jTZN_oeoNq0K"
   },
   "source": [
    "NOTE: As we can see labels are categorical. KNeighborsClassifier does not accept string labels. We need to use LabelEncoder to transform them into numbers. Iris-setosa correspond to 0, Iris-versicolor correspond to 1 and Iris-virginica correspond to 2."
   ]
  },
  {
   "cell_type": "code",
   "execution_count": 96,
   "metadata": {
    "_uuid": "f52819ab1b0450afdc7506810709a4439929eb31",
    "colab": {},
    "colab_type": "code",
    "id": "h7-rLomVNq0L"
   },
   "outputs": [],
   "source": [
    "#from sklearn.preprocessing import LabelEncoder\n",
    "#le = LabelEncoder()\n",
    "#y = le.fit_transform(y)"
   ]
  },
  {
   "cell_type": "markdown",
   "metadata": {
    "_uuid": "462de16da2933052bd4654569f2df86b60cf829c",
    "colab_type": "text",
    "id": "J8y_4CuNNq0M"
   },
   "source": [
    "### 9.4 Spliting iris into training set and test set"
   ]
  },
  {
   "cell_type": "markdown",
   "metadata": {
    "_uuid": "acb56892ba55ea8a9ba18c35df5150f8049cb2b4",
    "colab_type": "text",
    "collapsed": true,
    "id": "isU9rxwzNq0M"
   },
   "source": [
    "Let's split iris into training set and test set, to check later on whether or not our regressor works correctly."
   ]
  },
  {
   "cell_type": "code",
   "execution_count": 98,
   "metadata": {
    "_uuid": "fcf033a86f327c3b74f12267ffec316d78e9bd83",
    "colab": {},
    "colab_type": "code",
    "id": "HqaACF7YNq0M",
    "outputId": "714c461c-cc2c-4e1f-b684-d87f4e76a850"
   },
   "outputs": [],
   "source": [
    "from sklearn.model_selection import train_test_split\n",
    "X_train, X_test, y_train, y_test = train_test_split(X, y, test_size = 0.2, random_state = 0)"
   ]
  },
  {
   "cell_type": "markdown",
   "metadata": {
    "_uuid": "998a84b3a20e0749f832c569e56f224966f1b4ea",
    "colab_type": "text",
    "id": "OumQGF82Nq0O"
   },
   "source": [
    "Lastly, because features values are in the same order of magnitude, there is no need for feature scaling. Nevertheless in other circumstances it is extremly important to apply feature scaling before running classification algorythms."
   ]
  },
  {
   "cell_type": "markdown",
   "metadata": {
    "_uuid": "93964c8f0dfb4c90811e199f35c304e0e92a7926",
    "colab_type": "text",
    "id": "we86ciJQNq0O"
   },
   "source": [
    "### 9.4 Data Visualization"
   ]
  },
  {
   "cell_type": "code",
   "execution_count": 99,
   "metadata": {
    "_uuid": "24b7159661e76ff197aa929874147dd19d180ce8",
    "colab": {},
    "colab_type": "code",
    "id": "3bagON7rNq0P"
   },
   "outputs": [],
   "source": [
    "import matplotlib.pyplot as plt\n",
    "import seaborn as sns\n",
    "%matplotlib inline"
   ]
  },
  {
   "cell_type": "markdown",
   "metadata": {
    "_uuid": "3f2520537e712318511ddcc3458dbd942aea2a13",
    "colab_type": "text",
    "id": "v5DgSrI9Nq0R"
   },
   "source": [
    "#### 9.4.1 Pairplot"
   ]
  },
  {
   "cell_type": "markdown",
   "metadata": {
    "_uuid": "7b3a40d33223c2ddd45a8e39f6fc681ec8020e14",
    "colab_type": "text",
    "id": "OGRvW8XFNq0R"
   },
   "source": [
    "Pairwise is useful when you want to visualize the distribution of a variable or the relationship between multiple variables separately within subsets of your iris."
   ]
  },
  {
   "cell_type": "code",
   "execution_count": 100,
   "metadata": {
    "_uuid": "e3d585f847b4f5ccab104e8b041f464450c0c3f9",
    "colab": {},
    "colab_type": "code",
    "id": "PqBoaqF1Nq0R",
    "outputId": "8fda4a64-18aa-4a94-9a96-057541b65927"
   },
   "outputs": [
    {
     "name": "stderr",
     "output_type": "stream",
     "text": [
      "C:\\Users\\deepe\\Anaconda3\\lib\\site-packages\\seaborn\\axisgrid.py:2065: UserWarning: The `size` parameter has been renamed to `height`; pleaes update your code.\n",
      "  warnings.warn(msg, UserWarning)\n"
     ]
    },
    {
     "data": {
      "text/plain": [
       "<Figure size 432x288 with 0 Axes>"
      ]
     },
     "metadata": {},
     "output_type": "display_data"
    },
    {
     "data": {
      "image/png": "[encoded data removed]",
      "text/plain": [
       "<Figure size 959.875x864 with 20 Axes>"
      ]
     },
     "metadata": {
      "needs_background": "light"
     },
     "output_type": "display_data"
    }
   ],
   "source": [
    "plt.figure()\n",
    "sns.pairplot(iris.drop(\"Id\", axis=1), hue = \"Species\", size=3, markers=[\"o\", \"s\", \"D\"])\n",
    "plt.show()"
   ]
  },
  {
   "cell_type": "markdown",
   "metadata": {
    "_uuid": "cf7fb5bc89aec4abf9cbf3239658b5ce747f662b",
    "colab_type": "text",
    "id": "DTJgyl5xNq0U"
   },
   "source": [
    "#### 9.4.2. 3D visualization"
   ]
  },
  {
   "cell_type": "markdown",
   "metadata": {
    "_uuid": "5b57bb66c8daa7f1e272fb89740c70018ed4d208",
    "colab_type": "text",
    "id": "-al553FANq0U"
   },
   "source": [
    "You can also try to  visualize high-dimensional iriss in 3D using color, shape, size and other properties of 3D and 2D objects. In this plot I used marks sizes to visualize fourth dimenssion which is Petal Width [cm]."
   ]
  },
  {
   "cell_type": "code",
   "execution_count": 102,
   "metadata": {
    "_uuid": "dd50883c1d3f57056cef311861e5566ea7ffb069",
    "colab": {},
    "colab_type": "code",
    "id": "DFHeZwzZNq0U",
    "outputId": "c1e4b6d8-9290-4038-9834-21bb145bd468"
   },
   "outputs": [
    {
     "name": "stderr",
     "output_type": "stream",
     "text": [
      "C:\\Users\\deepe\\Anaconda3\\lib\\site-packages\\ipykernel_launcher.py:8: RuntimeWarning: Mean of empty slice.\n",
      "  \n",
      "C:\\Users\\deepe\\Anaconda3\\lib\\site-packages\\ipykernel_launcher.py:9: RuntimeWarning: Mean of empty slice.\n",
      "  if __name__ == '__main__':\n",
      "C:\\Users\\deepe\\Anaconda3\\lib\\site-packages\\ipykernel_launcher.py:10: RuntimeWarning: Mean of empty slice.\n",
      "  # Remove the CWD from sys.path while we load stuff.\n",
      "posx and posy should be finite values\n",
      "posx and posy should be finite values\n",
      "posx and posy should be finite values\n",
      "posx and posy should be finite values\n",
      "posx and posy should be finite values\n",
      "posx and posy should be finite values\n"
     ]
    },
    {
     "data": {
      "image/png": "[encoded data removed]",
      "text/plain": [
       "<Figure size 1440x1080 with 1 Axes>"
      ]
     },
     "metadata": {
      "needs_background": "light"
     },
     "output_type": "display_data"
    }
   ],
   "source": [
    "from mpl_toolkits.mplot3d import Axes3D\n",
    "fig = plt.figure(1, figsize=(20, 15))\n",
    "ax = Axes3D(fig, elev=48, azim=134)\n",
    "ax.scatter(X[:, 0], X[:, 1], X[:, 2], c=y,\n",
    "           cmap=plt.cm.Set1, edgecolor='k', s = X[:, 2]*50)\n",
    "\n",
    "for name, label in [('Virginica', 0), ('Setosa', 1), ('Versicolour', 2)]:\n",
    "    ax.text3D(X[y == label, 0].mean(),\n",
    "              X[y == label, 1].mean(),\n",
    "              X[y == label, 2].mean(), name,\n",
    "              horizontalalignment='center',\n",
    "              bbox=dict(alpha=.5, edgecolor='w', facecolor='w'),size=25)\n",
    "\n",
    "ax.set_title(\"3D visualization\", fontsize=40)\n",
    "ax.set_xlabel(\"Sepal Length [cm]\", fontsize=25)\n",
    "ax.w_xaxis.set_ticklabels([])\n",
    "ax.set_ylabel(\"Sepal Width [cm]\", fontsize=25)\n",
    "ax.w_yaxis.set_ticklabels([])\n",
    "ax.set_zlabel(\"Petal Length [cm]\", fontsize=25)\n",
    "ax.w_zaxis.set_ticklabels([])\n",
    "\n",
    "plt.show()"
   ]
  },
  {
   "cell_type": "markdown",
   "metadata": {
    "_uuid": "a68d8d34a661e568c7b9a9f826eefd6f6b05711c",
    "colab_type": "text",
    "id": "mXmo8U2iNq0W"
   },
   "source": [
    "### 9.5. Using KNN for regression"
   ]
  },
  {
   "cell_type": "markdown",
   "metadata": {
    "_uuid": "35bd390c4c451704b92049d09b622fad422a6be5",
    "colab_type": "text",
    "id": "uLHGSQz7Nq0X"
   },
   "source": [
    "#### 9.5.1 Making predictions"
   ]
  },
  {
   "cell_type": "code",
   "execution_count": 111,
   "metadata": {
    "_uuid": "9e645ea7be4300e26dcc9826fc96d06fdc06ba76",
    "colab": {},
    "colab_type": "code",
    "id": "kbEitL7ZNq0Y"
   },
   "outputs": [],
   "source": [
    "# Fitting clasifier to the Training set\n",
    "# Loading libraries\n",
    "from sklearn.neighbors import KNeighborsRegressor\n",
    "from sklearn.model_selection import cross_val_score\n",
    "\n",
    "# Instantiate learning model (k = 5)\n",
    "regressor = KNeighborsRegressor(n_neighbors=5)\n",
    "\n",
    "# Fitting the model\n",
    "regressor.fit(X_train, y_train)\n",
    "\n",
    "# Predicting the Test set results\n",
    "y_pred = regressor.predict(X_test)"
   ]
  },
  {
   "cell_type": "markdown",
   "metadata": {
    "_uuid": "c8022e3cbce9cd4e73e0b47c51cacc32869413e5",
    "colab_type": "text",
    "id": "YLipl5UqNq0Z"
   },
   "source": [
    "#### 9.5.2. Evaluating predictions"
   ]
  },
  {
   "cell_type": "code",
   "execution_count": 112,
   "metadata": {
    "_uuid": "1ade4a361991e0cab6b49fdd45274446eecfcb9a",
    "colab": {},
    "colab_type": "code",
    "id": "jy05EU4dNq0a",
    "outputId": "501c2134-75a5-4af1-af57-fb382f650d01"
   },
   "outputs": [
    {
     "data": {
      "text/plain": [
       "0.1320666666666667"
      ]
     },
     "execution_count": 112,
     "metadata": {},
     "output_type": "execute_result"
    }
   ],
   "source": [
    "from sklearn.metrics import mean_squared_error\n",
    "cm = mean_squared_error(y_test, y_pred)\n",
    "cm"
   ]
  },
  {
   "cell_type": "code",
   "execution_count": 113,
   "metadata": {
    "colab": {},
    "colab_type": "code",
    "id": "UynhbPYZNq0c",
    "outputId": "2ab86b9f-e6aa-4615-89c3-15c66bd99e64"
   },
   "outputs": [
    {
     "name": "stdout",
     "output_type": "stream",
     "text": [
      "0.0577054794520548\n"
     ]
    }
   ],
   "source": [
    "from sklearn.metrics import mean_squared_error\n",
    "cm = np.sqrt(mean_squared_error(y_test, y_pred))\n",
    "cm\n",
    "\n",
    "print(0.337/5.84)"
   ]
  },
  {
   "cell_type": "markdown",
   "metadata": {
    "_uuid": "535f67d1aa345a2642ba45a85f58ae73f3d26df8",
    "colab_type": "text",
    "id": "Za7oOpvrNq0e"
   },
   "source": [
    "#### 4.3. Using cross-validation for parameter tuning:"
   ]
  },
  {
   "cell_type": "code",
   "execution_count": 107,
   "metadata": {
    "_uuid": "71622db89590c3c8bebad792e657f248b408a960",
    "colab": {},
    "colab_type": "code",
    "id": "SWl7wgEmNq0e",
    "outputId": "35f79309-c485-4d96-fa81-71e63ab0949d"
   },
   "outputs": [],
   "source": [
    "# creating list of K for KNN\n",
    "k_list = list(range(1,50,2))\n",
    "# creating list of cv scores\n",
    "cv_scores = []\n",
    "\n",
    "# perform 10-fold cross validation\n",
    "for k in k_list:\n",
    "    knn = KNeighborsRegressor(n_neighbors=k)\n",
    "    scores = cross_val_score(knn, X_train, y_train, cv=10, scoring='neg_mean_squared_error')\n",
    "    cv_scores.append(scores.mean())"
   ]
  },
  {
   "cell_type": "code",
   "execution_count": 114,
   "metadata": {
    "_uuid": "85a3427abefe8eeee590aa2c05686f4e27d46af5",
    "colab": {},
    "colab_type": "code",
    "id": "cVME0iCfNq0g",
    "outputId": "bfd57096-1bf5-443f-ddc4-01d6853e63c6"
   },
   "outputs": [
    {
     "data": {
      "text/plain": [
       "<Figure size 432x288 with 0 Axes>"
      ]
     },
     "metadata": {},
     "output_type": "display_data"
    },
    {
     "data": {
      "image/png": "[encoded data removed]",
      "text/plain": [
       "<Figure size 1080x720 with 1 Axes>"
      ]
     },
     "metadata": {},
     "output_type": "display_data"
    },
    {
     "name": "stdout",
     "output_type": "stream",
     "text": [
      "[1.1703333333333334, 1.122, 1.1144533333333333, 1.1221734693877552, 1.1180462962962963, 1.1268009641873278, 1.1313229783037475, 1.1360477777777778, 1.1401888696655131, 1.1496410433979687, 1.1555340136054422, 1.1612974165091368, 1.1663994666666666, 1.1705871056241426, 1.1797522790328971, 1.1867931841831423, 1.1962871900826446, 1.2038465986394558, 1.2061499878256636, 1.2099102564102564, 1.2151627007733492, 1.2210066702722193, 1.2258644855967078, 1.233858646446356, 1.2397643690129114]\n"
     ]
    }
   ],
   "source": [
    "# changing to misclassification error\n",
    "MSE = [1 - x for x in cv_scores]\n",
    "\n",
    "plt.figure()\n",
    "plt.figure(figsize=(15,10))\n",
    "plt.title('The optimal number of neighbors', fontsize=20, fontweight='bold')\n",
    "plt.xlabel('Number of Neighbors K', fontsize=15)\n",
    "plt.ylabel('Error', fontsize=15)\n",
    "sns.set_style(\"whitegrid\")\n",
    "plt.plot(k_list, MSE)\n",
    "\n",
    "plt.show()\n",
    "\n",
    "print(MSE)"
   ]
  },
  {
   "cell_type": "code",
   "execution_count": 110,
   "metadata": {
    "_uuid": "27322dbbcd27e44c70ec16be517a7bacdc524d0e",
    "colab": {},
    "colab_type": "code",
    "id": "Jfo96tE7Nq0k",
    "outputId": "bf48d807-2381-43d9-aa9f-07006e081a95"
   },
   "outputs": [
    {
     "name": "stdout",
     "output_type": "stream",
     "text": [
      "The optimal number of neighbors is 5.\n"
     ]
    }
   ],
   "source": [
    "# finding best k\n",
    "best_k = k_list[MSE.index(min(MSE))]\n",
    "print(\"The optimal number of neighbors is %d.\" % best_k)"
   ]
  },
  {
   "cell_type": "code",
   "execution_count": null,
   "metadata": {},
   "outputs": [],
   "source": []
  }
 ],
 "metadata": {
  "colab": {
   "name": "kNN-1549175726217.ipynb",
   "provenance": [],
   "version": "0.3.2"
  },
  "kernelspec": {
   "display_name": "Python 3",
   "language": "python",
   "name": "python3"
  },
  "language_info": {
   "codemirror_mode": {
    "name": "ipython",
    "version": 3
   },
   "file_extension": ".py",
   "mimetype": "text/x-python",
   "name": "python",
   "nbconvert_exporter": "python",
   "pygments_lexer": "ipython3",
   "version": "3.7.3"
  }
 },
 "nbformat": 4,
 "nbformat_minor": 1
}
